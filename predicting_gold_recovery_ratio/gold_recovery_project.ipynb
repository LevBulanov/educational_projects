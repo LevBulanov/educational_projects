{
 "cells": [
  {
   "cell_type": "markdown",
   "metadata": {
    "toc": true
   },
   "source": [
    "<h1>Содержание<span class=\"tocSkip\"></span></h1>\n",
    "<div class=\"toc\"><ul class=\"toc-item\"><li><span><a href=\"#Подготовка-данных\" data-toc-modified-id=\"Подготовка-данных-1\"><span class=\"toc-item-num\">1&nbsp;&nbsp;</span>Подготовка данных</a></span><ul class=\"toc-item\"><li><span><a href=\"#Проверка-расчета-recovery\" data-toc-modified-id=\"Проверка-расчета-recovery-1.1\"><span class=\"toc-item-num\">1.1&nbsp;&nbsp;</span>Проверка расчета recovery</a></span></li><li><span><a href=\"#Анализ-недоступных-в-тестовой-выборке-признаков\" data-toc-modified-id=\"Анализ-недоступных-в-тестовой-выборке-признаков-1.2\"><span class=\"toc-item-num\">1.2&nbsp;&nbsp;</span>Анализ недоступных в тестовой выборке признаков</a></span></li><li><span><a href=\"#Предобработка-данных\" data-toc-modified-id=\"Предобработка-данных-1.3\"><span class=\"toc-item-num\">1.3&nbsp;&nbsp;</span>Предобработка данных</a></span></li><li><span><a href=\"#Вывод-по-подготовке-данных\" data-toc-modified-id=\"Вывод-по-подготовке-данных-1.4\"><span class=\"toc-item-num\">1.4&nbsp;&nbsp;</span>Вывод по подготовке данных</a></span></li></ul></li><li><span><a href=\"#Анализ-данных\" data-toc-modified-id=\"Анализ-данных-2\"><span class=\"toc-item-num\">2&nbsp;&nbsp;</span>Анализ данных</a></span><ul class=\"toc-item\"><li><span><a href=\"#Концентрации-металлов-на-разных-стадиях-очистки\" data-toc-modified-id=\"Концентрации-металлов-на-разных-стадиях-очистки-2.1\"><span class=\"toc-item-num\">2.1&nbsp;&nbsp;</span>Концентрации металлов на разных стадиях очистки</a></span></li><li><span><a href=\"#Размеры-гранул-на-обучающей-и-тестовой-выборках\" data-toc-modified-id=\"Размеры-гранул-на-обучающей-и-тестовой-выборках-2.2\"><span class=\"toc-item-num\">2.2&nbsp;&nbsp;</span>Размеры гранул на обучающей и тестовой выборках</a></span></li><li><span><a href=\"#Изменение-суммарной-концентрации-на-разных-этапах-очистки\" data-toc-modified-id=\"Изменение-суммарной-концентрации-на-разных-этапах-очистки-2.3\"><span class=\"toc-item-num\">2.3&nbsp;&nbsp;</span>Изменение суммарной концентрации на разных этапах очистки</a></span></li><li><span><a href=\"#Выводы-по-анализу-данных\" data-toc-modified-id=\"Выводы-по-анализу-данных-2.4\"><span class=\"toc-item-num\">2.4&nbsp;&nbsp;</span>Выводы по анализу данных</a></span></li></ul></li><li><span><a href=\"#Построение-моделей\" data-toc-modified-id=\"Построение-моделей-3\"><span class=\"toc-item-num\">3&nbsp;&nbsp;</span>Построение моделей</a></span><ul class=\"toc-item\"><li><span><a href=\"#Выделение-признаков\" data-toc-modified-id=\"Выделение-признаков-3.1\"><span class=\"toc-item-num\">3.1&nbsp;&nbsp;</span>Выделение признаков</a></span></li><li><span><a href=\"#Создание-оценщика\" data-toc-modified-id=\"Создание-оценщика-3.2\"><span class=\"toc-item-num\">3.2&nbsp;&nbsp;</span>Создание оценщика</a></span></li><li><span><a href=\"#Инициализация-GridSearchCV\" data-toc-modified-id=\"Инициализация-GridSearchCV-3.3\"><span class=\"toc-item-num\">3.3&nbsp;&nbsp;</span>Инициализация GridSearchCV</a></span><ul class=\"toc-item\"><li><span><a href=\"#Pipeline-и-гиперпараметры\" data-toc-modified-id=\"Pipeline-и-гиперпараметры-3.3.1\"><span class=\"toc-item-num\">3.3.1&nbsp;&nbsp;</span>Pipeline и гиперпараметры</a></span></li><li><span><a href=\"#Обучение-моделей\" data-toc-modified-id=\"Обучение-моделей-3.3.2\"><span class=\"toc-item-num\">3.3.2&nbsp;&nbsp;</span>Обучение моделей</a></span></li><li><span><a href=\"#Выбор-модели\" data-toc-modified-id=\"Выбор-модели-3.3.3\"><span class=\"toc-item-num\">3.3.3&nbsp;&nbsp;</span>Выбор модели</a></span></li></ul></li><li><span><a href=\"#Сравнение-с-DummyRegressor\" data-toc-modified-id=\"Сравнение-с-DummyRegressor-3.4\"><span class=\"toc-item-num\">3.4&nbsp;&nbsp;</span>Сравнение с DummyRegressor</a></span></li><li><span><a href=\"#Вывод-по-моделям\" data-toc-modified-id=\"Вывод-по-моделям-3.5\"><span class=\"toc-item-num\">3.5&nbsp;&nbsp;</span>Вывод по моделям</a></span></li></ul></li><li><span><a href=\"#Общий-вывод\" data-toc-modified-id=\"Общий-вывод-4\"><span class=\"toc-item-num\">4&nbsp;&nbsp;</span>Общий вывод</a>"
   ]
  },
  {
   "cell_type": "markdown",
   "metadata": {},
   "source": [
    "# Восстановление золота из руды"
   ]
  },
  {
   "cell_type": "markdown",
   "metadata": {},
   "source": [
    "Подготовим прототип модели машинного обучения для «Цифры». Компания разрабатывает решения для эффективной работы промышленных предприятий.\n",
    "\n",
    "Модель должна предсказать коэффициент восстановления золота из золотосодержащей руды. В наличии данные с параметрами добычи и очистки. \n",
    "\n",
    "Модель поможет оптимизировать производство, чтобы не запускать предприятие с убыточными характеристиками."
   ]
  },
  {
   "cell_type": "markdown",
   "metadata": {},
   "source": [
    "## Подготовка данных"
   ]
  },
  {
   "cell_type": "code",
   "execution_count": 1,
   "metadata": {},
   "outputs": [],
   "source": [
    "import pandas as pd \n",
    "import seaborn as sns\n",
    "import numpy as np\n",
    "import matplotlib.pyplot as plt\n",
    "from sklearn.metrics import mean_absolute_error, make_scorer\n",
    "from sklearn.preprocessing import StandardScaler\n",
    "from sklearn.impute import KNNImputer\n",
    "from sklearn.ensemble import RandomForestRegressor\n",
    "from sklearn.tree import DecisionTreeRegressor\n",
    "from sklearn.model_selection import GridSearchCV \n",
    "from sklearn.pipeline import  make_pipeline\n",
    "from sklearn.dummy import DummyRegressor\n",
    "from matplotlib import rcParams \n",
    "\n",
    "import warnings\n",
    "warnings.filterwarnings(\"ignore\")"
   ]
  },
  {
   "cell_type": "code",
   "execution_count": 2,
   "metadata": {},
   "outputs": [],
   "source": [
    "train = pd.read_csv('gold_industry_train.csv')\n",
    "test = pd.read_csv('gold_industry_test.csv')\n",
    "full = pd.read_csv('gold_industry_full.csv')"
   ]
  },
  {
   "cell_type": "code",
   "execution_count": 3,
   "metadata": {
    "scrolled": true
   },
   "outputs": [
    {
     "name": "stdout",
     "output_type": "stream",
     "text": [
      "<class 'pandas.core.frame.DataFrame'>\n",
      "RangeIndex: 14579 entries, 0 to 14578\n",
      "Data columns (total 87 columns):\n",
      " #   Column                                              Non-Null Count  Dtype  \n",
      "---  ------                                              --------------  -----  \n",
      " 0   date                                                14579 non-null  object \n",
      " 1   rougher.input.feed_au                               14579 non-null  float64\n",
      " 2   rougher.input.feed_ag                               14579 non-null  float64\n",
      " 3   rougher.input.feed_pb                               14507 non-null  float64\n",
      " 4   rougher.input.feed_sol                              14502 non-null  float64\n",
      " 5   rougher.input.feed_rate                             14572 non-null  float64\n",
      " 6   rougher.input.feed_size                             14478 non-null  float64\n",
      " 7   rougher.input.floatbank10_sulfate                   14548 non-null  float64\n",
      " 8   rougher.input.floatbank10_xanthate                  14572 non-null  float64\n",
      " 9   rougher.state.floatbank10_a_air                     14579 non-null  float64\n",
      " 10  rougher.state.floatbank10_a_level                   14579 non-null  float64\n",
      " 11  rougher.state.floatbank10_b_air                     14579 non-null  float64\n",
      " 12  rougher.state.floatbank10_b_level                   14579 non-null  float64\n",
      " 13  rougher.state.floatbank10_c_air                     14579 non-null  float64\n",
      " 14  rougher.state.floatbank10_c_level                   14579 non-null  float64\n",
      " 15  rougher.state.floatbank10_d_air                     14579 non-null  float64\n",
      " 16  rougher.state.floatbank10_d_level                   14579 non-null  float64\n",
      " 17  rougher.state.floatbank10_e_air                     14150 non-null  float64\n",
      " 18  rougher.state.floatbank10_e_level                   14579 non-null  float64\n",
      " 19  rougher.state.floatbank10_f_air                     14579 non-null  float64\n",
      " 20  rougher.state.floatbank10_f_level                   14579 non-null  float64\n",
      " 21  rougher.input.floatbank11_sulfate                   14543 non-null  float64\n",
      " 22  rougher.input.floatbank11_xanthate                  14172 non-null  float64\n",
      " 23  rougher.calculation.sulfate_to_au_concentrate       14578 non-null  float64\n",
      " 24  rougher.calculation.floatbank10_sulfate_to_au_feed  14578 non-null  float64\n",
      " 25  rougher.calculation.floatbank11_sulfate_to_au_feed  14578 non-null  float64\n",
      " 26  rougher.calculation.au_pb_ratio                     14579 non-null  float64\n",
      " 27  rougher.output.concentrate_au                       14579 non-null  float64\n",
      " 28  rougher.output.concentrate_ag                       14579 non-null  float64\n",
      " 29  rougher.output.concentrate_pb                       14579 non-null  float64\n",
      " 30  rougher.output.concentrate_sol                      14561 non-null  float64\n",
      " 31  rougher.output.recovery                             14579 non-null  float64\n",
      " 32  rougher.output.tail_au                              14579 non-null  float64\n",
      " 33  rougher.output.tail_ag                              14578 non-null  float64\n",
      " 34  rougher.output.tail_pb                              14579 non-null  float64\n",
      " 35  rougher.output.tail_sol                             14579 non-null  float64\n",
      " 36  primary_cleaner.input.sulfate                       14556 non-null  float64\n",
      " 37  primary_cleaner.input.depressant                    14551 non-null  float64\n",
      " 38  primary_cleaner.input.feed_size                     14579 non-null  float64\n",
      " 39  primary_cleaner.input.xanthate                      14518 non-null  float64\n",
      " 40  primary_cleaner.state.floatbank8_a_air              14576 non-null  float64\n",
      " 41  primary_cleaner.state.floatbank8_a_level            14579 non-null  float64\n",
      " 42  primary_cleaner.state.floatbank8_b_air              14576 non-null  float64\n",
      " 43  primary_cleaner.state.floatbank8_b_level            14579 non-null  float64\n",
      " 44  primary_cleaner.state.floatbank8_c_air              14579 non-null  float64\n",
      " 45  primary_cleaner.state.floatbank8_c_level            14579 non-null  float64\n",
      " 46  primary_cleaner.state.floatbank8_d_air              14578 non-null  float64\n",
      " 47  primary_cleaner.state.floatbank8_d_level            14579 non-null  float64\n",
      " 48  primary_cleaner.output.concentrate_au               14579 non-null  float64\n",
      " 49  primary_cleaner.output.concentrate_ag               14579 non-null  float64\n",
      " 50  primary_cleaner.output.concentrate_pb               14491 non-null  float64\n",
      " 51  primary_cleaner.output.concentrate_sol              14314 non-null  float64\n",
      " 52  primary_cleaner.output.tail_au                      14579 non-null  float64\n",
      " 53  primary_cleaner.output.tail_ag                      14575 non-null  float64\n",
      " 54  primary_cleaner.output.tail_pb                      14573 non-null  float64\n",
      " 55  primary_cleaner.output.tail_sol                     14534 non-null  float64\n",
      " 56  secondary_cleaner.state.floatbank2_a_air            14485 non-null  float64\n",
      " 57  secondary_cleaner.state.floatbank2_a_level          14579 non-null  float64\n",
      " 58  secondary_cleaner.state.floatbank2_b_air            14557 non-null  float64\n",
      " 59  secondary_cleaner.state.floatbank2_b_level          14579 non-null  float64\n",
      " 60  secondary_cleaner.state.floatbank3_a_air            14567 non-null  float64\n",
      " 61  secondary_cleaner.state.floatbank3_a_level          14579 non-null  float64\n",
      " 62  secondary_cleaner.state.floatbank3_b_air            14579 non-null  float64\n",
      " 63  secondary_cleaner.state.floatbank3_b_level          14579 non-null  float64\n",
      " 64  secondary_cleaner.state.floatbank4_a_air            14574 non-null  float64\n",
      " 65  secondary_cleaner.state.floatbank4_a_level          14579 non-null  float64\n",
      " 66  secondary_cleaner.state.floatbank4_b_air            14579 non-null  float64\n",
      " 67  secondary_cleaner.state.floatbank4_b_level          14579 non-null  float64\n",
      " 68  secondary_cleaner.state.floatbank5_a_air            14579 non-null  float64\n",
      " 69  secondary_cleaner.state.floatbank5_a_level          14579 non-null  float64\n",
      " 70  secondary_cleaner.state.floatbank5_b_air            14579 non-null  float64\n",
      " 71  secondary_cleaner.state.floatbank5_b_level          14579 non-null  float64\n",
      " 72  secondary_cleaner.state.floatbank6_a_air            14578 non-null  float64\n",
      " 73  secondary_cleaner.state.floatbank6_a_level          14579 non-null  float64\n",
      " 74  secondary_cleaner.output.tail_au                    14579 non-null  float64\n",
      " 75  secondary_cleaner.output.tail_ag                    14578 non-null  float64\n",
      " 76  secondary_cleaner.output.tail_pb                    14575 non-null  float64\n",
      " 77  secondary_cleaner.output.tail_sol                   13659 non-null  float64\n",
      " 78  final.output.concentrate_au                         14579 non-null  float64\n",
      " 79  final.output.concentrate_ag                         14578 non-null  float64\n",
      " 80  final.output.concentrate_pb                         14578 non-null  float64\n",
      " 81  final.output.concentrate_sol                        14387 non-null  float64\n",
      " 82  final.output.recovery                               14579 non-null  float64\n",
      " 83  final.output.tail_au                                14579 non-null  float64\n",
      " 84  final.output.tail_ag                                14578 non-null  float64\n",
      " 85  final.output.tail_pb                                14504 non-null  float64\n",
      " 86  final.output.tail_sol                               14574 non-null  float64\n",
      "dtypes: float64(86), object(1)\n",
      "memory usage: 9.7+ MB\n"
     ]
    }
   ],
   "source": [
    "train.info()"
   ]
  },
  {
   "cell_type": "code",
   "execution_count": 4,
   "metadata": {
    "scrolled": true
   },
   "outputs": [
    {
     "name": "stdout",
     "output_type": "stream",
     "text": [
      "<class 'pandas.core.frame.DataFrame'>\n",
      "RangeIndex: 4860 entries, 0 to 4859\n",
      "Data columns (total 53 columns):\n",
      " #   Column                                      Non-Null Count  Dtype  \n",
      "---  ------                                      --------------  -----  \n",
      " 0   date                                        4860 non-null   object \n",
      " 1   rougher.input.feed_au                       4860 non-null   float64\n",
      " 2   rougher.input.feed_ag                       4860 non-null   float64\n",
      " 3   rougher.input.feed_pb                       4832 non-null   float64\n",
      " 4   rougher.input.feed_sol                      4838 non-null   float64\n",
      " 5   rougher.input.feed_rate                     4856 non-null   float64\n",
      " 6   rougher.input.feed_size                     4816 non-null   float64\n",
      " 7   rougher.input.floatbank10_sulfate           4857 non-null   float64\n",
      " 8   rougher.input.floatbank10_xanthate          4859 non-null   float64\n",
      " 9   rougher.state.floatbank10_a_air             4859 non-null   float64\n",
      " 10  rougher.state.floatbank10_a_level           4859 non-null   float64\n",
      " 11  rougher.state.floatbank10_b_air             4859 non-null   float64\n",
      " 12  rougher.state.floatbank10_b_level           4859 non-null   float64\n",
      " 13  rougher.state.floatbank10_c_air             4859 non-null   float64\n",
      " 14  rougher.state.floatbank10_c_level           4859 non-null   float64\n",
      " 15  rougher.state.floatbank10_d_air             4860 non-null   float64\n",
      " 16  rougher.state.floatbank10_d_level           4860 non-null   float64\n",
      " 17  rougher.state.floatbank10_e_air             4853 non-null   float64\n",
      " 18  rougher.state.floatbank10_e_level           4860 non-null   float64\n",
      " 19  rougher.state.floatbank10_f_air             4860 non-null   float64\n",
      " 20  rougher.state.floatbank10_f_level           4860 non-null   float64\n",
      " 21  rougher.input.floatbank11_sulfate           4852 non-null   float64\n",
      " 22  rougher.input.floatbank11_xanthate          4814 non-null   float64\n",
      " 23  primary_cleaner.input.sulfate               4859 non-null   float64\n",
      " 24  primary_cleaner.input.depressant            4851 non-null   float64\n",
      " 25  primary_cleaner.input.feed_size             4860 non-null   float64\n",
      " 26  primary_cleaner.input.xanthate              4817 non-null   float64\n",
      " 27  primary_cleaner.state.floatbank8_a_air      4859 non-null   float64\n",
      " 28  primary_cleaner.state.floatbank8_a_level    4859 non-null   float64\n",
      " 29  primary_cleaner.state.floatbank8_b_air      4859 non-null   float64\n",
      " 30  primary_cleaner.state.floatbank8_b_level    4859 non-null   float64\n",
      " 31  primary_cleaner.state.floatbank8_c_air      4858 non-null   float64\n",
      " 32  primary_cleaner.state.floatbank8_c_level    4859 non-null   float64\n",
      " 33  primary_cleaner.state.floatbank8_d_air      4858 non-null   float64\n",
      " 34  primary_cleaner.state.floatbank8_d_level    4859 non-null   float64\n",
      " 35  secondary_cleaner.state.floatbank2_a_air    4734 non-null   float64\n",
      " 36  secondary_cleaner.state.floatbank2_a_level  4859 non-null   float64\n",
      " 37  secondary_cleaner.state.floatbank2_b_air    4859 non-null   float64\n",
      " 38  secondary_cleaner.state.floatbank2_b_level  4859 non-null   float64\n",
      " 39  secondary_cleaner.state.floatbank3_a_air    4859 non-null   float64\n",
      " 40  secondary_cleaner.state.floatbank3_a_level  4859 non-null   float64\n",
      " 41  secondary_cleaner.state.floatbank3_b_air    4859 non-null   float64\n",
      " 42  secondary_cleaner.state.floatbank3_b_level  4859 non-null   float64\n",
      " 43  secondary_cleaner.state.floatbank4_a_air    4859 non-null   float64\n",
      " 44  secondary_cleaner.state.floatbank4_a_level  4859 non-null   float64\n",
      " 45  secondary_cleaner.state.floatbank4_b_air    4859 non-null   float64\n",
      " 46  secondary_cleaner.state.floatbank4_b_level  4859 non-null   float64\n",
      " 47  secondary_cleaner.state.floatbank5_a_air    4859 non-null   float64\n",
      " 48  secondary_cleaner.state.floatbank5_a_level  4859 non-null   float64\n",
      " 49  secondary_cleaner.state.floatbank5_b_air    4859 non-null   float64\n",
      " 50  secondary_cleaner.state.floatbank5_b_level  4859 non-null   float64\n",
      " 51  secondary_cleaner.state.floatbank6_a_air    4859 non-null   float64\n",
      " 52  secondary_cleaner.state.floatbank6_a_level  4859 non-null   float64\n",
      "dtypes: float64(52), object(1)\n",
      "memory usage: 2.0+ MB\n"
     ]
    }
   ],
   "source": [
    "test.info()"
   ]
  },
  {
   "cell_type": "markdown",
   "metadata": {},
   "source": [
    "Имеем два набора данных с большим количеством столбцов - 86 в обучающем наборе и 52 в тренировочном, с этим уже нужно будет что-то делать. Присутствует относительно небольшое количество пропусков."
   ]
  },
  {
   "cell_type": "markdown",
   "metadata": {},
   "source": [
    "### Проверка расчета recovery"
   ]
  },
  {
   "cell_type": "markdown",
   "metadata": {},
   "source": [
    "Проверим правильность расчета параметра recovery."
   ]
  },
  {
   "cell_type": "code",
   "execution_count": 5,
   "metadata": {},
   "outputs": [],
   "source": [
    "def recovery_check(recovery, feed_au, concentrate_au, tail_au):\n",
    "     return (concentrate_au * (feed_au - tail_au)) / (feed_au * (concentrate_au - tail_au)) * 100"
   ]
  },
  {
   "cell_type": "code",
   "execution_count": 6,
   "metadata": {},
   "outputs": [
    {
     "data": {
      "text/plain": [
       "9.83758577644259e-15"
      ]
     },
     "execution_count": 6,
     "metadata": {},
     "output_type": "execute_result"
    }
   ],
   "source": [
    "train['recovery_calk'] = train[['rougher.output.recovery',\n",
    "                                'rougher.input.feed_au', \n",
    "                                'rougher.output.concentrate_au', \n",
    "                                'rougher.output.tail_au']].apply(lambda x: recovery_check(*x), axis=1)\n",
    "\n",
    "\n",
    "mean_absolute_error(train['rougher.output.recovery'], train['recovery_calk'])"
   ]
  },
  {
   "cell_type": "markdown",
   "metadata": {},
   "source": [
    "Да, параметр определенно рассчитан верно, избавимся от добавленного столбца."
   ]
  },
  {
   "cell_type": "code",
   "execution_count": 7,
   "metadata": {},
   "outputs": [],
   "source": [
    "train = train.drop('recovery_calk', axis=1)"
   ]
  },
  {
   "cell_type": "markdown",
   "metadata": {},
   "source": [
    "### Анализ недоступных в тестовой выборке признаков"
   ]
  },
  {
   "cell_type": "code",
   "execution_count": 8,
   "metadata": {
    "scrolled": true
   },
   "outputs": [
    {
     "data": {
      "text/plain": [
       "['rougher.calculation.sulfate_to_au_concentrate',\n",
       " 'rougher.calculation.floatbank10_sulfate_to_au_feed',\n",
       " 'rougher.calculation.floatbank11_sulfate_to_au_feed',\n",
       " 'rougher.calculation.au_pb_ratio',\n",
       " 'rougher.output.concentrate_au',\n",
       " 'rougher.output.concentrate_ag',\n",
       " 'rougher.output.concentrate_pb',\n",
       " 'rougher.output.concentrate_sol',\n",
       " 'rougher.output.recovery',\n",
       " 'rougher.output.tail_au',\n",
       " 'rougher.output.tail_ag',\n",
       " 'rougher.output.tail_pb',\n",
       " 'rougher.output.tail_sol',\n",
       " 'primary_cleaner.output.concentrate_au',\n",
       " 'primary_cleaner.output.concentrate_ag',\n",
       " 'primary_cleaner.output.concentrate_pb',\n",
       " 'primary_cleaner.output.concentrate_sol',\n",
       " 'primary_cleaner.output.tail_au',\n",
       " 'primary_cleaner.output.tail_ag',\n",
       " 'primary_cleaner.output.tail_pb',\n",
       " 'primary_cleaner.output.tail_sol',\n",
       " 'secondary_cleaner.output.tail_au',\n",
       " 'secondary_cleaner.output.tail_ag',\n",
       " 'secondary_cleaner.output.tail_pb',\n",
       " 'secondary_cleaner.output.tail_sol',\n",
       " 'final.output.concentrate_au',\n",
       " 'final.output.concentrate_ag',\n",
       " 'final.output.concentrate_pb',\n",
       " 'final.output.concentrate_sol',\n",
       " 'final.output.recovery',\n",
       " 'final.output.tail_au',\n",
       " 'final.output.tail_ag',\n",
       " 'final.output.tail_pb',\n",
       " 'final.output.tail_sol']"
      ]
     },
     "execution_count": 8,
     "metadata": {},
     "output_type": "execute_result"
    }
   ],
   "source": [
    "unavailable_columns = []\n",
    "\n",
    "for column in train.columns:\n",
    "    if column not in test.columns:\n",
    "        unavailable_columns.append(column)\n",
    "        \n",
    "unavailable_columns"
   ]
  },
  {
   "cell_type": "markdown",
   "metadata": {},
   "source": [
    "Все представленные выше столбцы можно объединить в несколько групп - результаты флотации, результаты первичной и вторичной очистки и финал, понятно, что эти данные нельзя получить сразу, то есть для первичного анализа они недоступны, а значит и для нас бесполезны. Удалим эти столбцы из обучающей выборки, но несколько позже."
   ]
  },
  {
   "cell_type": "markdown",
   "metadata": {},
   "source": [
    "### Предобработка данных"
   ]
  },
  {
   "cell_type": "markdown",
   "metadata": {},
   "source": [
    "Обработаем пропуски, сразу было понятно, что они есть, сейчас посмотрим точнее."
   ]
  },
  {
   "cell_type": "code",
   "execution_count": 9,
   "metadata": {},
   "outputs": [
    {
     "data": {
      "text/plain": [
       "date                       0\n",
       "rougher.input.feed_au      0\n",
       "rougher.input.feed_ag      0\n",
       "rougher.input.feed_pb     72\n",
       "rougher.input.feed_sol    77\n",
       "                          ..\n",
       "final.output.recovery      0\n",
       "final.output.tail_au       0\n",
       "final.output.tail_ag       1\n",
       "final.output.tail_pb      75\n",
       "final.output.tail_sol      5\n",
       "Length: 87, dtype: int64"
      ]
     },
     "execution_count": 9,
     "metadata": {},
     "output_type": "execute_result"
    }
   ],
   "source": [
    "train.isna().sum()"
   ]
  },
  {
   "cell_type": "markdown",
   "metadata": {},
   "source": [
    "Да, таблицу подрезало, печально, но мы помним, что их там было немного, обработаем пропуски методом k-ближайших соседей."
   ]
  },
  {
   "cell_type": "code",
   "execution_count": 10,
   "metadata": {},
   "outputs": [],
   "source": [
    "imputer = KNNImputer() \n",
    "imputer.fit(train.drop(['date'], axis=1))\n",
    "columns = train.drop(['date'], axis=1).columns \n",
    "train[columns] = imputer.transform(train[columns])"
   ]
  },
  {
   "cell_type": "code",
   "execution_count": 11,
   "metadata": {
    "scrolled": true
   },
   "outputs": [
    {
     "data": {
      "text/plain": [
       "date                      0\n",
       "rougher.input.feed_au     0\n",
       "rougher.input.feed_ag     0\n",
       "rougher.input.feed_pb     0\n",
       "rougher.input.feed_sol    0\n",
       "                         ..\n",
       "final.output.recovery     0\n",
       "final.output.tail_au      0\n",
       "final.output.tail_ag      0\n",
       "final.output.tail_pb      0\n",
       "final.output.tail_sol     0\n",
       "Length: 87, dtype: int64"
      ]
     },
     "execution_count": 11,
     "metadata": {},
     "output_type": "execute_result"
    }
   ],
   "source": [
    "train.isna().sum()"
   ]
  },
  {
   "cell_type": "markdown",
   "metadata": {},
   "source": [
    "Отлично, аналогично делаем и с тестовой выборкой."
   ]
  },
  {
   "cell_type": "code",
   "execution_count": 12,
   "metadata": {},
   "outputs": [],
   "source": [
    "imputer = KNNImputer() \n",
    "imputer.fit(test.drop(['date'], axis=1))\n",
    "columns = test.drop(['date'], axis=1).columns \n",
    "test[columns] = imputer.transform(test[columns])"
   ]
  },
  {
   "cell_type": "code",
   "execution_count": 13,
   "metadata": {
    "scrolled": true
   },
   "outputs": [
    {
     "data": {
      "text/plain": [
       "date                                          0\n",
       "rougher.input.feed_au                         0\n",
       "rougher.input.feed_ag                         0\n",
       "rougher.input.feed_pb                         0\n",
       "rougher.input.feed_sol                        0\n",
       "rougher.input.feed_rate                       0\n",
       "rougher.input.feed_size                       0\n",
       "rougher.input.floatbank10_sulfate             0\n",
       "rougher.input.floatbank10_xanthate            0\n",
       "rougher.state.floatbank10_a_air               0\n",
       "rougher.state.floatbank10_a_level             0\n",
       "rougher.state.floatbank10_b_air               0\n",
       "rougher.state.floatbank10_b_level             0\n",
       "rougher.state.floatbank10_c_air               0\n",
       "rougher.state.floatbank10_c_level             0\n",
       "rougher.state.floatbank10_d_air               0\n",
       "rougher.state.floatbank10_d_level             0\n",
       "rougher.state.floatbank10_e_air               0\n",
       "rougher.state.floatbank10_e_level             0\n",
       "rougher.state.floatbank10_f_air               0\n",
       "rougher.state.floatbank10_f_level             0\n",
       "rougher.input.floatbank11_sulfate             0\n",
       "rougher.input.floatbank11_xanthate            0\n",
       "primary_cleaner.input.sulfate                 0\n",
       "primary_cleaner.input.depressant              0\n",
       "primary_cleaner.input.feed_size               0\n",
       "primary_cleaner.input.xanthate                0\n",
       "primary_cleaner.state.floatbank8_a_air        0\n",
       "primary_cleaner.state.floatbank8_a_level      0\n",
       "primary_cleaner.state.floatbank8_b_air        0\n",
       "primary_cleaner.state.floatbank8_b_level      0\n",
       "primary_cleaner.state.floatbank8_c_air        0\n",
       "primary_cleaner.state.floatbank8_c_level      0\n",
       "primary_cleaner.state.floatbank8_d_air        0\n",
       "primary_cleaner.state.floatbank8_d_level      0\n",
       "secondary_cleaner.state.floatbank2_a_air      0\n",
       "secondary_cleaner.state.floatbank2_a_level    0\n",
       "secondary_cleaner.state.floatbank2_b_air      0\n",
       "secondary_cleaner.state.floatbank2_b_level    0\n",
       "secondary_cleaner.state.floatbank3_a_air      0\n",
       "secondary_cleaner.state.floatbank3_a_level    0\n",
       "secondary_cleaner.state.floatbank3_b_air      0\n",
       "secondary_cleaner.state.floatbank3_b_level    0\n",
       "secondary_cleaner.state.floatbank4_a_air      0\n",
       "secondary_cleaner.state.floatbank4_a_level    0\n",
       "secondary_cleaner.state.floatbank4_b_air      0\n",
       "secondary_cleaner.state.floatbank4_b_level    0\n",
       "secondary_cleaner.state.floatbank5_a_air      0\n",
       "secondary_cleaner.state.floatbank5_a_level    0\n",
       "secondary_cleaner.state.floatbank5_b_air      0\n",
       "secondary_cleaner.state.floatbank5_b_level    0\n",
       "secondary_cleaner.state.floatbank6_a_air      0\n",
       "secondary_cleaner.state.floatbank6_a_level    0\n",
       "dtype: int64"
      ]
     },
     "execution_count": 13,
     "metadata": {},
     "output_type": "execute_result"
    }
   ],
   "source": [
    "test.isna().sum()"
   ]
  },
  {
   "cell_type": "markdown",
   "metadata": {},
   "source": [
    "### Вывод по подготовке данных"
   ]
  },
  {
   "cell_type": "markdown",
   "metadata": {},
   "source": [
    "Итак, в нашем распоряжении три набора данных, тренировочный, тестовый и общий. Следует отметить, что количество столбцов в тренировочном и тестовом наборах данных отличается, поскольку некоторые данные не доступны на том этапе, когда модель должна будет использоваться, поэтому было принято решение удалить лишние столбцы, сделаем мы это, однако на последнем этапе, когда будем выделять признаки. В тренировочном и тестовом мы обнаружили пропуски и убрали их метом k-Nearest Neighbors."
   ]
  },
  {
   "cell_type": "markdown",
   "metadata": {},
   "source": [
    "## Анализ данных"
   ]
  },
  {
   "cell_type": "markdown",
   "metadata": {},
   "source": [
    "### Концентрации металлов на разных стадиях очистки"
   ]
  },
  {
   "cell_type": "code",
   "execution_count": 14,
   "metadata": {},
   "outputs": [
    {
     "name": "stdout",
     "output_type": "stream",
     "text": [
      "До флотации\n",
      "Концентрация Серебра: 8.79,Свинца: 3.60,Золота: 8.27\n",
      "\n",
      "После флотации\n",
      "Коцентрация Серебра: 11.99,Свинца: 7.61,Золота: 19.77\n",
      "\n",
      "После первичной очистки\n",
      "Концентрация Серебра: 8.44,Свинца: 9.83,Золота: 32.12\n",
      "\n",
      "После вторичной очистки\n",
      "Концентрация Серебра: 5.17,Свинца: 9.98,Золота: 44.08\n"
     ]
    }
   ],
   "source": [
    "print(\"До флотации\")\n",
    "print(\"Концентрация Серебра:{: 0.2f},Свинца:{: 0.2f},Золота:{: 0.2f}\".\n",
    "                            format(full[\"rougher.input.feed_ag\"].mean(),\n",
    "                            full[\"rougher.input.feed_pb\"].mean(),\n",
    "                            full[\"rougher.input.feed_au\"].mean()))\n",
    "\n",
    "print()\n",
    "print(\"После флотации\")\n",
    "print(\"Коцентрация Серебра:{: 0.2f},Свинца:{: 0.2f},Золота:{: 0.2f}\".\n",
    "                           format(full[\"rougher.output.concentrate_ag\"].mean(),\n",
    "                           full[\"rougher.output.concentrate_pb\"].mean(),\n",
    "                           full[\"rougher.output.concentrate_au\"].mean()))\n",
    "\n",
    "print()\n",
    "print(\"После первичной очистки\")\n",
    "print(\"Концентрация Серебра:{: 0.2f},Свинца:{: 0.2f},Золота:{: 0.2f}\".\n",
    "                           format(full[\"primary_cleaner.output.concentrate_ag\"].mean(),\n",
    "                           full[\"primary_cleaner.output.concentrate_pb\"].mean(),\n",
    "                           full[\"primary_cleaner.output.concentrate_au\"].mean()))\n",
    "\n",
    "\n",
    "print()\n",
    "print(\"После вторичной очистки\")\n",
    "print(\"Концентрация Серебра:{: 0.2f},Свинца:{: 0.2f},Золота:{: 0.2f}\".\n",
    "                           format(full[\"final.output.concentrate_ag\"].mean(),\n",
    "                           full[\"final.output.concentrate_pb\"].mean(),\n",
    "                           full[\"final.output.concentrate_au\"].mean()))"
   ]
  },
  {
   "cell_type": "markdown",
   "metadata": {},
   "source": [
    "Ожидаемо, концентрация золота резко растет, для этого, собственно, все и затевалось, концентрация свинца тоже несколько выросла, а вот серебра снизилась."
   ]
  },
  {
   "cell_type": "markdown",
   "metadata": {},
   "source": [
    "### Размеры гранул на обучающей и тестовой выборках"
   ]
  },
  {
   "cell_type": "markdown",
   "metadata": {},
   "source": [
    "Посмотрим размер гранул, нам бы очень не хотелось, чтобы их распределение сильно отличалось - это поставит под сомнение будущие результаты моделей. Помним, что размер выборок отличается, поэтому нормализируем."
   ]
  },
  {
   "cell_type": "code",
   "execution_count": 15,
   "metadata": {},
   "outputs": [
    {
     "data": {
      "text/plain": [
       "<Axes: xlabel='rougher.input.feed_size', ylabel='Probability'>"
      ]
     },
     "execution_count": 15,
     "metadata": {},
     "output_type": "execute_result"
    },
    {
     "data": {
      "image/png": "[encoded data removed]",
      "text/plain": [
       "<Figure size 1500x1000 with 1 Axes>"
      ]
     },
     "metadata": {},
     "output_type": "display_data"
    }
   ],
   "source": [
    "rcParams['figure.figsize'] = 15,10\n",
    "sns.histplot(train['rougher.input.feed_size'], bins=40, color='red', alpha  = 0.5, stat='probability')\n",
    "sns.histplot(test['rougher.input.feed_size'], bins=40, color='blue', alpha  = 0.5, stat='probability')  "
   ]
  },
  {
   "cell_type": "markdown",
   "metadata": {},
   "source": [
    "Отлично, распределения отличаются не слишком сильно, можно работать."
   ]
  },
  {
   "cell_type": "markdown",
   "metadata": {},
   "source": [
    "### Изменение суммарной концентрации на разных этапах очистки"
   ]
  },
  {
   "cell_type": "markdown",
   "metadata": {},
   "source": [
    "Посмотрим как менялось распределение на разных этапах очистки, и есть ли там какие-то аномалии."
   ]
  },
  {
   "cell_type": "code",
   "execution_count": 16,
   "metadata": {},
   "outputs": [],
   "source": [
    "full['concentration_input'] = (full['rougher.input.feed_ag'] + full['rougher.input.feed_pb'] +\\\n",
    "                               full['rougher.input.feed_au'] + full['rougher.input.feed_sol'] )"
   ]
  },
  {
   "cell_type": "code",
   "execution_count": 17,
   "metadata": {},
   "outputs": [],
   "source": [
    "full['concentration_after_rougher'] = (full['rougher.output.concentrate_ag'] + full['rougher.output.concentrate_pb'] + \\\n",
    "                                       full['rougher.output.concentrate_au'] + full['rougher.output.concentrate_sol'])"
   ]
  },
  {
   "cell_type": "code",
   "execution_count": 18,
   "metadata": {},
   "outputs": [],
   "source": [
    "full['concentration_after_primary_cleaner'] = (full['primary_cleaner.output.concentrate_ag'] + \\\n",
    "                                                full['primary_cleaner.output.concentrate_pb'] + \\\n",
    "                                                full['primary_cleaner.output.concentrate_au'] + \\\n",
    "                                                full['primary_cleaner.output.concentrate_sol'])\n"
   ]
  },
  {
   "cell_type": "code",
   "execution_count": 19,
   "metadata": {},
   "outputs": [],
   "source": [
    "full['final_concentration'] = (full['final.output.concentrate_ag'] + \\\n",
    "                                full['final.output.concentrate_pb'] + \\\n",
    "                                full['final.output.concentrate_au'] + \\\n",
    "                                full['final.output.concentrate_sol'])"
   ]
  },
  {
   "cell_type": "code",
   "execution_count": 20,
   "metadata": {},
   "outputs": [
    {
     "data": {
      "text/plain": [
       "<matplotlib.legend.Legend at 0x1200e00c9b0>"
      ]
     },
     "execution_count": 20,
     "metadata": {},
     "output_type": "execute_result"
    },
    {
     "data": {
      "image/png": "[encoded data removed]",
      "text/plain": [
       "<Figure size 1500x1000 with 1 Axes>"
      ]
     },
     "metadata": {},
     "output_type": "display_data"
    }
   ],
   "source": [
    "rcParams['figure.figsize'] = 15,10\n",
    "sns.histplot(full['concentration_input'], bins=100, color='red', alpha  = 0.5)\n",
    "sns.histplot(full['concentration_after_rougher'], bins=100, color='blue', alpha  = 0.5)  \n",
    "sns.histplot(full['concentration_after_primary_cleaner'], bins=100, color='green', alpha  = 0.5)\n",
    "sns.histplot(full['final_concentration'], bins=100, color='gold', alpha  = 0.5) \n",
    "plt.legend(labels=[\"Concentration input\",\"Concentration after rougher\", \n",
    "                   'Concentration after primary cleaner', \n",
    "                   'Final concentration'])"
   ]
  },
  {
   "cell_type": "markdown",
   "metadata": {},
   "source": [
    "Имеем ярко выраженный выброс возле нуля, при этом нулей там в принципе быть не может, выглядит это как ошибка датчиков. Уберем эти сомнительные строки из обучающей и тестовой выборки."
   ]
  },
  {
   "cell_type": "code",
   "execution_count": 21,
   "metadata": {},
   "outputs": [],
   "source": [
    "def delete_zeros(data):\n",
    "    data['concentration_input'] = (data['rougher.input.feed_ag'] + data['rougher.input.feed_pb'] +\\\n",
    "                                   data['rougher.input.feed_au'] + data['rougher.input.feed_sol'] )\n",
    "    \n",
    "    data['concentration_after_rougher'] = (data['rougher.output.concentrate_ag'] + data['rougher.output.concentrate_pb'] + \\\n",
    "                                          data['rougher.output.concentrate_au'] + data['rougher.output.concentrate_sol'])\n",
    "    \n",
    "    data['concentration_after_primary_cleaner'] = (data['primary_cleaner.output.concentrate_ag'] + \\\n",
    "                                                   data['primary_cleaner.output.concentrate_pb'] + \\\n",
    "                                                   data['primary_cleaner.output.concentrate_au'] + \\\n",
    "                                                   data['primary_cleaner.output.concentrate_sol']) \n",
    "    \n",
    "    data['final_concentration'] = (data['final.output.concentrate_ag'] + \\\n",
    "                                   data['final.output.concentrate_pb'] + \\\n",
    "                                   data['final.output.concentrate_au'] + \\\n",
    "                                   data['final.output.concentrate_sol'])\n",
    "    \n",
    "    \n",
    "    data = data.query('concentration_input > 1 and\\\n",
    "                       concentration_after_rougher > 1 and\\\n",
    "                       concentration_after_primary_cleaner > 1 and\\\n",
    "                       final_concentration > 1') \n",
    "    \n",
    "    \n",
    "    rcParams['figure.figsize'] = 15,10\n",
    "    sns.histplot(data['concentration_input'], bins=100, color='red', alpha  = 0.5)\n",
    "    sns.histplot(data['concentration_after_rougher'], bins=100, color='blue', alpha  = 0.5)  \n",
    "    sns.histplot(data['concentration_after_primary_cleaner'], bins=100, color='green', alpha  = 0.5)\n",
    "    sns.histplot(data['final_concentration'], bins=100, color='gold', alpha  = 0.5) \n",
    "    plt.legend(labels=[\"Concentration input\",\"Concentration after rougher\", \n",
    "                       'Concentration after primary cleaner', \n",
    "                       'Final concentration'])\n",
    "    \n",
    "    \n",
    "    \n",
    "    data = data.drop(['concentration_input', \n",
    "                      'concentration_after_rougher', \n",
    "                      'concentration_after_primary_cleaner', \n",
    "                      'final_concentration'], axis=1) \n",
    "    return data\n",
    "    "
   ]
  },
  {
   "cell_type": "code",
   "execution_count": 22,
   "metadata": {},
   "outputs": [
    {
     "data": {
      "image/png": "[encoded data removed]",
      "text/plain": [
       "<Figure size 1500x1000 with 1 Axes>"
      ]
     },
     "metadata": {},
     "output_type": "display_data"
    }
   ],
   "source": [
    "full = delete_zeros(full)"
   ]
  },
  {
   "cell_type": "code",
   "execution_count": 23,
   "metadata": {},
   "outputs": [
    {
     "data": {
      "image/png": "[encoded data removed]",
      "text/plain": [
       "<Figure size 1500x1000 with 1 Axes>"
      ]
     },
     "metadata": {},
     "output_type": "display_data"
    }
   ],
   "source": [
    "train = delete_zeros(train)"
   ]
  },
  {
   "cell_type": "code",
   "execution_count": 24,
   "metadata": {},
   "outputs": [],
   "source": [
    "test = test.loc[test['date'].isin(full['date'])]"
   ]
  },
  {
   "cell_type": "markdown",
   "metadata": {},
   "source": [
    "### Выводы по анализу данных"
   ]
  },
  {
   "cell_type": "markdown",
   "metadata": {},
   "source": [
    "В рамках анализа данных можно подчеркнуть следующие моменты:\n",
    "- Как и ожидалось, концентрация золота с течением процесса растет сильнее всего, при этом, неслько выросла и концентрация свинца, но снизилиась серебра.\n",
    "- Распределение размеров гранул в обучающей и тестовой выборке сопоставимо, что позволяет работать дальше в этом направлении. \n",
    "- В суммарной концентрации веществ обнаружились аномалии около нуля, строки с ними удалены из тренировочной и тестовой выборок."
   ]
  },
  {
   "cell_type": "markdown",
   "metadata": {},
   "source": [
    "## Построение моделей"
   ]
  },
  {
   "cell_type": "markdown",
   "metadata": {},
   "source": [
    "### Выделение признаков"
   ]
  },
  {
   "cell_type": "markdown",
   "metadata": {},
   "source": [
    "Выбелим необходимые нам признаки для обучения, кроме того, удалим те самые \"лишние\" столбцы из тренировочной выборки."
   ]
  },
  {
   "cell_type": "code",
   "execution_count": 25,
   "metadata": {},
   "outputs": [],
   "source": [
    "target_train_rougher = train['rougher.output.recovery']\n",
    "target_train_final = train['final.output.recovery']"
   ]
  },
  {
   "cell_type": "code",
   "execution_count": 26,
   "metadata": {},
   "outputs": [],
   "source": [
    "features_train = train.drop(unavailable_columns, axis=1).drop('date', axis=1)"
   ]
  },
  {
   "cell_type": "code",
   "execution_count": 27,
   "metadata": {},
   "outputs": [],
   "source": [
    "target_test_rougher = full.loc[full['date'].isin(test['date'])]['rougher.output.recovery']\n",
    "target_test_final = full.loc[full['date'].isin(test['date'])]['final.output.recovery']"
   ]
  },
  {
   "cell_type": "code",
   "execution_count": 28,
   "metadata": {},
   "outputs": [],
   "source": [
    "features_test = test.drop('date', axis=1)"
   ]
  },
  {
   "cell_type": "markdown",
   "metadata": {},
   "source": [
    "Проверим соответветсвие размерности выборок."
   ]
  },
  {
   "cell_type": "code",
   "execution_count": 29,
   "metadata": {},
   "outputs": [
    {
     "name": "stdout",
     "output_type": "stream",
     "text": [
      "(13883,)\n",
      "(13883,)\n",
      "\n",
      "(13883, 52)\n",
      "\n",
      "(4669,)\n",
      "(4669,)\n",
      "\n",
      "(4669, 52)\n"
     ]
    }
   ],
   "source": [
    "print(target_train_rougher.shape)\n",
    "print(target_train_final.shape)\n",
    "print()\n",
    "print(features_train.shape)\n",
    "print()\n",
    "print(target_test_rougher.shape)\n",
    "print(target_test_final.shape)\n",
    "print()\n",
    "print(features_test.shape)"
   ]
  },
  {
   "cell_type": "markdown",
   "metadata": {},
   "source": [
    "Отлично."
   ]
  },
  {
   "cell_type": "markdown",
   "metadata": {},
   "source": [
    "### Создание оценщика"
   ]
  },
  {
   "cell_type": "markdown",
   "metadata": {},
   "source": [
    "Создадим оценщик и функцию подсчета финальной метрики."
   ]
  },
  {
   "cell_type": "code",
   "execution_count": 30,
   "metadata": {},
   "outputs": [],
   "source": [
    "def sMAPE(y_true, y_pred):\n",
    "    \n",
    "    error = np.mean(abs(y_true - y_pred)/((abs(y_true) + abs(y_pred)) / 2)) * 100\n",
    "    \n",
    "\n",
    "    return abs(error)"
   ]
  },
  {
   "cell_type": "code",
   "execution_count": 31,
   "metadata": {},
   "outputs": [],
   "source": [
    "def final_sMAPE(sMAPE_rougher, sMAPE_final):\n",
    "    \n",
    "    return (0.25 * sMAPE_rougher + 0.75 * sMAPE_final)"
   ]
  },
  {
   "cell_type": "code",
   "execution_count": 32,
   "metadata": {},
   "outputs": [],
   "source": [
    "sMAPE_score = make_scorer(sMAPE, greater_is_better=False)"
   ]
  },
  {
   "cell_type": "markdown",
   "metadata": {},
   "source": [
    "### Инициализация GridSearchCV"
   ]
  },
  {
   "cell_type": "markdown",
   "metadata": {},
   "source": [
    "#### Pipeline и гиперпараметры"
   ]
  },
  {
   "cell_type": "markdown",
   "metadata": {},
   "source": [
    "К сожалению, в данном случае некорректно изменять скейлером всю обучающую выборку, так как при кросс-валидации это приведет к утечке данных, поэтому воспользуемся пайплайнами. "
   ]
  },
  {
   "cell_type": "code",
   "execution_count": 33,
   "metadata": {},
   "outputs": [],
   "source": [
    "random_forest_model = make_pipeline(StandardScaler(),RandomForestRegressor())\n",
    "decicion_tree_model = make_pipeline(StandardScaler(),DecisionTreeRegressor())"
   ]
  },
  {
   "cell_type": "markdown",
   "metadata": {},
   "source": [
    "В качестве моделей будем использовать решающее дерево и случайный лес, сразу понятно, что лес даст результат лучше, но интересно насколько."
   ]
  },
  {
   "cell_type": "code",
   "execution_count": 34,
   "metadata": {},
   "outputs": [],
   "source": [
    "params_RF = {\n",
    "             'randomforestregressor__n_estimators': range(50, 100, 10),\n",
    "             'randomforestregressor__max_depth': range(6, 12, 2),\n",
    "             'randomforestregressor__max_features': [4],\n",
    "            }\n",
    "\n",
    "params_DT= {\n",
    "            'decisiontreeregressor__max_depth': range(6, 12, 2),\n",
    "            'decisiontreeregressor__max_features': [4]         \n",
    "           }"
   ]
  },
  {
   "cell_type": "markdown",
   "metadata": {},
   "source": [
    "#### Обучение моделей"
   ]
  },
  {
   "cell_type": "markdown",
   "metadata": {},
   "source": [
    "Собственно, обучаем модели."
   ]
  },
  {
   "cell_type": "code",
   "execution_count": 35,
   "metadata": {},
   "outputs": [],
   "source": [
    "grid_RF_rougher = GridSearchCV(random_forest_model, param_grid = params_RF, scoring=sMAPE_score)\n",
    "grid_RF_final = GridSearchCV(random_forest_model, param_grid = params_RF, scoring=sMAPE_score)"
   ]
  },
  {
   "cell_type": "code",
   "execution_count": 36,
   "metadata": {},
   "outputs": [],
   "source": [
    "grid_DT_rougher = GridSearchCV(decicion_tree_model, param_grid = params_DT, scoring=sMAPE_score)\n",
    "grid_DT_final = GridSearchCV(decicion_tree_model, param_grid = params_DT, scoring=sMAPE_score)"
   ]
  },
  {
   "cell_type": "code",
   "execution_count": 37,
   "metadata": {},
   "outputs": [
    {
     "data": {
      "text/html": [
       "<style>#sk-container-id-1 {\n",
       "  /* Definition of color scheme common for light and dark mode */\n",
       "  --sklearn-color-text: black;\n",
       "  --sklearn-color-line: gray;\n",
       "  /* Definition of color scheme for unfitted estimators */\n",
       "  --sklearn-color-unfitted-level-0: #fff5e6;\n",
       "  --sklearn-color-unfitted-level-1: #f6e4d2;\n",
       "  --sklearn-color-unfitted-level-2: #ffe0b3;\n",
       "  --sklearn-color-unfitted-level-3: chocolate;\n",
       "  /* Definition of color scheme for fitted estimators */\n",
       "  --sklearn-color-fitted-level-0: #f0f8ff;\n",
       "  --sklearn-color-fitted-level-1: #d4ebff;\n",
       "  --sklearn-color-fitted-level-2: #b3dbfd;\n",
       "  --sklearn-color-fitted-level-3: cornflowerblue;\n",
       "\n",
       "  /* Specific color for light theme */\n",
       "  --sklearn-color-text-on-default-background: var(--sg-text-color, var(--theme-code-foreground, var(--jp-content-font-color1, black)));\n",
       "  --sklearn-color-background: var(--sg-background-color, var(--theme-background, var(--jp-layout-color0, white)));\n",
       "  --sklearn-color-border-box: var(--sg-text-color, var(--theme-code-foreground, var(--jp-content-font-color1, black)));\n",
       "  --sklearn-color-icon: #696969;\n",
       "\n",
       "  @media (prefers-color-scheme: dark) {\n",
       "    /* Redefinition of color scheme for dark theme */\n",
       "    --sklearn-color-text-on-default-background: var(--sg-text-color, var(--theme-code-foreground, var(--jp-content-font-color1, white)));\n",
       "    --sklearn-color-background: var(--sg-background-color, var(--theme-background, var(--jp-layout-color0, #111)));\n",
       "    --sklearn-color-border-box: var(--sg-text-color, var(--theme-code-foreground, var(--jp-content-font-color1, white)));\n",
       "    --sklearn-color-icon: #878787;\n",
       "  }\n",
       "}\n",
       "\n",
       "#sk-container-id-1 {\n",
       "  color: var(--sklearn-color-text);\n",
       "}\n",
       "\n",
       "#sk-container-id-1 pre {\n",
       "  padding: 0;\n",
       "}\n",
       "\n",
       "#sk-container-id-1 input.sk-hidden--visually {\n",
       "  border: 0;\n",
       "  clip: rect(1px 1px 1px 1px);\n",
       "  clip: rect(1px, 1px, 1px, 1px);\n",
       "  height: 1px;\n",
       "  margin: -1px;\n",
       "  overflow: hidden;\n",
       "  padding: 0;\n",
       "  position: absolute;\n",
       "  width: 1px;\n",
       "}\n",
       "\n",
       "#sk-container-id-1 div.sk-dashed-wrapped {\n",
       "  border: 1px dashed var(--sklearn-color-line);\n",
       "  margin: 0 0.4em 0.5em 0.4em;\n",
       "  box-sizing: border-box;\n",
       "  padding-bottom: 0.4em;\n",
       "  background-color: var(--sklearn-color-background);\n",
       "}\n",
       "\n",
       "#sk-container-id-1 div.sk-container {\n",
       "  /* jupyter's `normalize.less` sets `[hidden] { display: none; }`\n",
       "     but bootstrap.min.css set `[hidden] { display: none !important; }`\n",
       "     so we also need the `!important` here to be able to override the\n",
       "     default hidden behavior on the sphinx rendered scikit-learn.org.\n",
       "     See: https://github.com/scikit-learn/scikit-learn/issues/21755 */\n",
       "  display: inline-block !important;\n",
       "  position: relative;\n",
       "}\n",
       "\n",
       "#sk-container-id-1 div.sk-text-repr-fallback {\n",
       "  display: none;\n",
       "}\n",
       "\n",
       "div.sk-parallel-item,\n",
       "div.sk-serial,\n",
       "div.sk-item {\n",
       "  /* draw centered vertical line to link estimators */\n",
       "  background-image: linear-gradient(var(--sklearn-color-text-on-default-background), var(--sklearn-color-text-on-default-background));\n",
       "  background-size: 2px 100%;\n",
       "  background-repeat: no-repeat;\n",
       "  background-position: center center;\n",
       "}\n",
       "\n",
       "/* Parallel-specific style estimator block */\n",
       "\n",
       "#sk-container-id-1 div.sk-parallel-item::after {\n",
       "  content: \"\";\n",
       "  width: 100%;\n",
       "  border-bottom: 2px solid var(--sklearn-color-text-on-default-background);\n",
       "  flex-grow: 1;\n",
       "}\n",
       "\n",
       "#sk-container-id-1 div.sk-parallel {\n",
       "  display: flex;\n",
       "  align-items: stretch;\n",
       "  justify-content: center;\n",
       "  background-color: var(--sklearn-color-background);\n",
       "  position: relative;\n",
       "}\n",
       "\n",
       "#sk-container-id-1 div.sk-parallel-item {\n",
       "  display: flex;\n",
       "  flex-direction: column;\n",
       "}\n",
       "\n",
       "#sk-container-id-1 div.sk-parallel-item:first-child::after {\n",
       "  align-self: flex-end;\n",
       "  width: 50%;\n",
       "}\n",
       "\n",
       "#sk-container-id-1 div.sk-parallel-item:last-child::after {\n",
       "  align-self: flex-start;\n",
       "  width: 50%;\n",
       "}\n",
       "\n",
       "#sk-container-id-1 div.sk-parallel-item:only-child::after {\n",
       "  width: 0;\n",
       "}\n",
       "\n",
       "/* Serial-specific style estimator block */\n",
       "\n",
       "#sk-container-id-1 div.sk-serial {\n",
       "  display: flex;\n",
       "  flex-direction: column;\n",
       "  align-items: center;\n",
       "  background-color: var(--sklearn-color-background);\n",
       "  padding-right: 1em;\n",
       "  padding-left: 1em;\n",
       "}\n",
       "\n",
       "\n",
       "/* Toggleable style: style used for estimator/Pipeline/ColumnTransformer box that is\n",
       "clickable and can be expanded/collapsed.\n",
       "- Pipeline and ColumnTransformer use this feature and define the default style\n",
       "- Estimators will overwrite some part of the style using the `sk-estimator` class\n",
       "*/\n",
       "\n",
       "/* Pipeline and ColumnTransformer style (default) */\n",
       "\n",
       "#sk-container-id-1 div.sk-toggleable {\n",
       "  /* Default theme specific background. It is overwritten whether we have a\n",
       "  specific estimator or a Pipeline/ColumnTransformer */\n",
       "  background-color: var(--sklearn-color-background);\n",
       "}\n",
       "\n",
       "/* Toggleable label */\n",
       "#sk-container-id-1 label.sk-toggleable__label {\n",
       "  cursor: pointer;\n",
       "  display: block;\n",
       "  width: 100%;\n",
       "  margin-bottom: 0;\n",
       "  padding: 0.5em;\n",
       "  box-sizing: border-box;\n",
       "  text-align: center;\n",
       "}\n",
       "\n",
       "#sk-container-id-1 label.sk-toggleable__label-arrow:before {\n",
       "  /* Arrow on the left of the label */\n",
       "  content: \"▸\";\n",
       "  float: left;\n",
       "  margin-right: 0.25em;\n",
       "  color: var(--sklearn-color-icon);\n",
       "}\n",
       "\n",
       "#sk-container-id-1 label.sk-toggleable__label-arrow:hover:before {\n",
       "  color: var(--sklearn-color-text);\n",
       "}\n",
       "\n",
       "/* Toggleable content - dropdown */\n",
       "\n",
       "#sk-container-id-1 div.sk-toggleable__content {\n",
       "  max-height: 0;\n",
       "  max-width: 0;\n",
       "  overflow: hidden;\n",
       "  text-align: left;\n",
       "  /* unfitted */\n",
       "  background-color: var(--sklearn-color-unfitted-level-0);\n",
       "}\n",
       "\n",
       "#sk-container-id-1 div.sk-toggleable__content.fitted {\n",
       "  /* fitted */\n",
       "  background-color: var(--sklearn-color-fitted-level-0);\n",
       "}\n",
       "\n",
       "#sk-container-id-1 div.sk-toggleable__content pre {\n",
       "  margin: 0.2em;\n",
       "  border-radius: 0.25em;\n",
       "  color: var(--sklearn-color-text);\n",
       "  /* unfitted */\n",
       "  background-color: var(--sklearn-color-unfitted-level-0);\n",
       "}\n",
       "\n",
       "#sk-container-id-1 div.sk-toggleable__content.fitted pre {\n",
       "  /* unfitted */\n",
       "  background-color: var(--sklearn-color-fitted-level-0);\n",
       "}\n",
       "\n",
       "#sk-container-id-1 input.sk-toggleable__control:checked~div.sk-toggleable__content {\n",
       "  /* Expand drop-down */\n",
       "  max-height: 200px;\n",
       "  max-width: 100%;\n",
       "  overflow: auto;\n",
       "}\n",
       "\n",
       "#sk-container-id-1 input.sk-toggleable__control:checked~label.sk-toggleable__label-arrow:before {\n",
       "  content: \"▾\";\n",
       "}\n",
       "\n",
       "/* Pipeline/ColumnTransformer-specific style */\n",
       "\n",
       "#sk-container-id-1 div.sk-label input.sk-toggleable__control:checked~label.sk-toggleable__label {\n",
       "  color: var(--sklearn-color-text);\n",
       "  background-color: var(--sklearn-color-unfitted-level-2);\n",
       "}\n",
       "\n",
       "#sk-container-id-1 div.sk-label.fitted input.sk-toggleable__control:checked~label.sk-toggleable__label {\n",
       "  background-color: var(--sklearn-color-fitted-level-2);\n",
       "}\n",
       "\n",
       "/* Estimator-specific style */\n",
       "\n",
       "/* Colorize estimator box */\n",
       "#sk-container-id-1 div.sk-estimator input.sk-toggleable__control:checked~label.sk-toggleable__label {\n",
       "  /* unfitted */\n",
       "  background-color: var(--sklearn-color-unfitted-level-2);\n",
       "}\n",
       "\n",
       "#sk-container-id-1 div.sk-estimator.fitted input.sk-toggleable__control:checked~label.sk-toggleable__label {\n",
       "  /* fitted */\n",
       "  background-color: var(--sklearn-color-fitted-level-2);\n",
       "}\n",
       "\n",
       "#sk-container-id-1 div.sk-label label.sk-toggleable__label,\n",
       "#sk-container-id-1 div.sk-label label {\n",
       "  /* The background is the default theme color */\n",
       "  color: var(--sklearn-color-text-on-default-background);\n",
       "}\n",
       "\n",
       "/* On hover, darken the color of the background */\n",
       "#sk-container-id-1 div.sk-label:hover label.sk-toggleable__label {\n",
       "  color: var(--sklearn-color-text);\n",
       "  background-color: var(--sklearn-color-unfitted-level-2);\n",
       "}\n",
       "\n",
       "/* Label box, darken color on hover, fitted */\n",
       "#sk-container-id-1 div.sk-label.fitted:hover label.sk-toggleable__label.fitted {\n",
       "  color: var(--sklearn-color-text);\n",
       "  background-color: var(--sklearn-color-fitted-level-2);\n",
       "}\n",
       "\n",
       "/* Estimator label */\n",
       "\n",
       "#sk-container-id-1 div.sk-label label {\n",
       "  font-family: monospace;\n",
       "  font-weight: bold;\n",
       "  display: inline-block;\n",
       "  line-height: 1.2em;\n",
       "}\n",
       "\n",
       "#sk-container-id-1 div.sk-label-container {\n",
       "  text-align: center;\n",
       "}\n",
       "\n",
       "/* Estimator-specific */\n",
       "#sk-container-id-1 div.sk-estimator {\n",
       "  font-family: monospace;\n",
       "  border: 1px dotted var(--sklearn-color-border-box);\n",
       "  border-radius: 0.25em;\n",
       "  box-sizing: border-box;\n",
       "  margin-bottom: 0.5em;\n",
       "  /* unfitted */\n",
       "  background-color: var(--sklearn-color-unfitted-level-0);\n",
       "}\n",
       "\n",
       "#sk-container-id-1 div.sk-estimator.fitted {\n",
       "  /* fitted */\n",
       "  background-color: var(--sklearn-color-fitted-level-0);\n",
       "}\n",
       "\n",
       "/* on hover */\n",
       "#sk-container-id-1 div.sk-estimator:hover {\n",
       "  /* unfitted */\n",
       "  background-color: var(--sklearn-color-unfitted-level-2);\n",
       "}\n",
       "\n",
       "#sk-container-id-1 div.sk-estimator.fitted:hover {\n",
       "  /* fitted */\n",
       "  background-color: var(--sklearn-color-fitted-level-2);\n",
       "}\n",
       "\n",
       "/* Specification for estimator info (e.g. \"i\" and \"?\") */\n",
       "\n",
       "/* Common style for \"i\" and \"?\" */\n",
       "\n",
       ".sk-estimator-doc-link,\n",
       "a:link.sk-estimator-doc-link,\n",
       "a:visited.sk-estimator-doc-link {\n",
       "  float: right;\n",
       "  font-size: smaller;\n",
       "  line-height: 1em;\n",
       "  font-family: monospace;\n",
       "  background-color: var(--sklearn-color-background);\n",
       "  border-radius: 1em;\n",
       "  height: 1em;\n",
       "  width: 1em;\n",
       "  text-decoration: none !important;\n",
       "  margin-left: 1ex;\n",
       "  /* unfitted */\n",
       "  border: var(--sklearn-color-unfitted-level-1) 1pt solid;\n",
       "  color: var(--sklearn-color-unfitted-level-1);\n",
       "}\n",
       "\n",
       ".sk-estimator-doc-link.fitted,\n",
       "a:link.sk-estimator-doc-link.fitted,\n",
       "a:visited.sk-estimator-doc-link.fitted {\n",
       "  /* fitted */\n",
       "  border: var(--sklearn-color-fitted-level-1) 1pt solid;\n",
       "  color: var(--sklearn-color-fitted-level-1);\n",
       "}\n",
       "\n",
       "/* On hover */\n",
       "div.sk-estimator:hover .sk-estimator-doc-link:hover,\n",
       ".sk-estimator-doc-link:hover,\n",
       "div.sk-label-container:hover .sk-estimator-doc-link:hover,\n",
       ".sk-estimator-doc-link:hover {\n",
       "  /* unfitted */\n",
       "  background-color: var(--sklearn-color-unfitted-level-3);\n",
       "  color: var(--sklearn-color-background);\n",
       "  text-decoration: none;\n",
       "}\n",
       "\n",
       "div.sk-estimator.fitted:hover .sk-estimator-doc-link.fitted:hover,\n",
       ".sk-estimator-doc-link.fitted:hover,\n",
       "div.sk-label-container:hover .sk-estimator-doc-link.fitted:hover,\n",
       ".sk-estimator-doc-link.fitted:hover {\n",
       "  /* fitted */\n",
       "  background-color: var(--sklearn-color-fitted-level-3);\n",
       "  color: var(--sklearn-color-background);\n",
       "  text-decoration: none;\n",
       "}\n",
       "\n",
       "/* Span, style for the box shown on hovering the info icon */\n",
       ".sk-estimator-doc-link span {\n",
       "  display: none;\n",
       "  z-index: 9999;\n",
       "  position: relative;\n",
       "  font-weight: normal;\n",
       "  right: .2ex;\n",
       "  padding: .5ex;\n",
       "  margin: .5ex;\n",
       "  width: min-content;\n",
       "  min-width: 20ex;\n",
       "  max-width: 50ex;\n",
       "  color: var(--sklearn-color-text);\n",
       "  box-shadow: 2pt 2pt 4pt #999;\n",
       "  /* unfitted */\n",
       "  background: var(--sklearn-color-unfitted-level-0);\n",
       "  border: .5pt solid var(--sklearn-color-unfitted-level-3);\n",
       "}\n",
       "\n",
       ".sk-estimator-doc-link.fitted span {\n",
       "  /* fitted */\n",
       "  background: var(--sklearn-color-fitted-level-0);\n",
       "  border: var(--sklearn-color-fitted-level-3);\n",
       "}\n",
       "\n",
       ".sk-estimator-doc-link:hover span {\n",
       "  display: block;\n",
       "}\n",
       "\n",
       "/* \"?\"-specific style due to the `<a>` HTML tag */\n",
       "\n",
       "#sk-container-id-1 a.estimator_doc_link {\n",
       "  float: right;\n",
       "  font-size: 1rem;\n",
       "  line-height: 1em;\n",
       "  font-family: monospace;\n",
       "  background-color: var(--sklearn-color-background);\n",
       "  border-radius: 1rem;\n",
       "  height: 1rem;\n",
       "  width: 1rem;\n",
       "  text-decoration: none;\n",
       "  /* unfitted */\n",
       "  color: var(--sklearn-color-unfitted-level-1);\n",
       "  border: var(--sklearn-color-unfitted-level-1) 1pt solid;\n",
       "}\n",
       "\n",
       "#sk-container-id-1 a.estimator_doc_link.fitted {\n",
       "  /* fitted */\n",
       "  border: var(--sklearn-color-fitted-level-1) 1pt solid;\n",
       "  color: var(--sklearn-color-fitted-level-1);\n",
       "}\n",
       "\n",
       "/* On hover */\n",
       "#sk-container-id-1 a.estimator_doc_link:hover {\n",
       "  /* unfitted */\n",
       "  background-color: var(--sklearn-color-unfitted-level-3);\n",
       "  color: var(--sklearn-color-background);\n",
       "  text-decoration: none;\n",
       "}\n",
       "\n",
       "#sk-container-id-1 a.estimator_doc_link.fitted:hover {\n",
       "  /* fitted */\n",
       "  background-color: var(--sklearn-color-fitted-level-3);\n",
       "}\n",
       "</style><div id=\"sk-container-id-1\" class=\"sk-top-container\"><div class=\"sk-text-repr-fallback\"><pre>GridSearchCV(estimator=Pipeline(steps=[(&#x27;standardscaler&#x27;, StandardScaler()),\n",
       "                                       (&#x27;randomforestregressor&#x27;,\n",
       "                                        RandomForestRegressor())]),\n",
       "             param_grid={&#x27;randomforestregressor__max_depth&#x27;: range(6, 12, 2),\n",
       "                         &#x27;randomforestregressor__max_features&#x27;: [4],\n",
       "                         &#x27;randomforestregressor__n_estimators&#x27;: range(50, 100, 10)},\n",
       "             scoring=make_scorer(sMAPE, greater_is_better=False, response_method=&#x27;predict&#x27;))</pre><b>In a Jupyter environment, please rerun this cell to show the HTML representation or trust the notebook. <br />On GitHub, the HTML representation is unable to render, please try loading this page with nbviewer.org.</b></div><div class=\"sk-container\" hidden><div class=\"sk-item sk-dashed-wrapped\"><div class=\"sk-label-container\"><div class=\"sk-label fitted sk-toggleable\"><input class=\"sk-toggleable__control sk-hidden--visually\" id=\"sk-estimator-id-1\" type=\"checkbox\" ><label for=\"sk-estimator-id-1\" class=\"sk-toggleable__label fitted sk-toggleable__label-arrow fitted\">&nbsp;&nbsp;GridSearchCV<a class=\"sk-estimator-doc-link fitted\" rel=\"noreferrer\" target=\"_blank\" href=\"https://scikit-learn.org/1.4/modules/generated/sklearn.model_selection.GridSearchCV.html\">?<span>Documentation for GridSearchCV</span></a><span class=\"sk-estimator-doc-link fitted\">i<span>Fitted</span></span></label><div class=\"sk-toggleable__content fitted\"><pre>GridSearchCV(estimator=Pipeline(steps=[(&#x27;standardscaler&#x27;, StandardScaler()),\n",
       "                                       (&#x27;randomforestregressor&#x27;,\n",
       "                                        RandomForestRegressor())]),\n",
       "             param_grid={&#x27;randomforestregressor__max_depth&#x27;: range(6, 12, 2),\n",
       "                         &#x27;randomforestregressor__max_features&#x27;: [4],\n",
       "                         &#x27;randomforestregressor__n_estimators&#x27;: range(50, 100, 10)},\n",
       "             scoring=make_scorer(sMAPE, greater_is_better=False, response_method=&#x27;predict&#x27;))</pre></div> </div></div><div class=\"sk-parallel\"><div class=\"sk-parallel-item\"><div class=\"sk-item\"><div class=\"sk-label-container\"><div class=\"sk-label fitted sk-toggleable\"><input class=\"sk-toggleable__control sk-hidden--visually\" id=\"sk-estimator-id-2\" type=\"checkbox\" ><label for=\"sk-estimator-id-2\" class=\"sk-toggleable__label fitted sk-toggleable__label-arrow fitted\">estimator: Pipeline</label><div class=\"sk-toggleable__content fitted\"><pre>Pipeline(steps=[(&#x27;standardscaler&#x27;, StandardScaler()),\n",
       "                (&#x27;randomforestregressor&#x27;, RandomForestRegressor())])</pre></div> </div></div><div class=\"sk-serial\"><div class=\"sk-item\"><div class=\"sk-serial\"><div class=\"sk-item\"><div class=\"sk-estimator fitted sk-toggleable\"><input class=\"sk-toggleable__control sk-hidden--visually\" id=\"sk-estimator-id-3\" type=\"checkbox\" ><label for=\"sk-estimator-id-3\" class=\"sk-toggleable__label fitted sk-toggleable__label-arrow fitted\">&nbsp;StandardScaler<a class=\"sk-estimator-doc-link fitted\" rel=\"noreferrer\" target=\"_blank\" href=\"https://scikit-learn.org/1.4/modules/generated/sklearn.preprocessing.StandardScaler.html\">?<span>Documentation for StandardScaler</span></a></label><div class=\"sk-toggleable__content fitted\"><pre>StandardScaler()</pre></div> </div></div><div class=\"sk-item\"><div class=\"sk-estimator fitted sk-toggleable\"><input class=\"sk-toggleable__control sk-hidden--visually\" id=\"sk-estimator-id-4\" type=\"checkbox\" ><label for=\"sk-estimator-id-4\" class=\"sk-toggleable__label fitted sk-toggleable__label-arrow fitted\">&nbsp;RandomForestRegressor<a class=\"sk-estimator-doc-link fitted\" rel=\"noreferrer\" target=\"_blank\" href=\"https://scikit-learn.org/1.4/modules/generated/sklearn.ensemble.RandomForestRegressor.html\">?<span>Documentation for RandomForestRegressor</span></a></label><div class=\"sk-toggleable__content fitted\"><pre>RandomForestRegressor()</pre></div> </div></div></div></div></div></div></div></div></div></div></div>"
      ],
      "text/plain": [
       "GridSearchCV(estimator=Pipeline(steps=[('standardscaler', StandardScaler()),\n",
       "                                       ('randomforestregressor',\n",
       "                                        RandomForestRegressor())]),\n",
       "             param_grid={'randomforestregressor__max_depth': range(6, 12, 2),\n",
       "                         'randomforestregressor__max_features': [4],\n",
       "                         'randomforestregressor__n_estimators': range(50, 100, 10)},\n",
       "             scoring=make_scorer(sMAPE, greater_is_better=False, response_method='predict'))"
      ]
     },
     "execution_count": 37,
     "metadata": {},
     "output_type": "execute_result"
    }
   ],
   "source": [
    "grid_RF_rougher.fit(features_train, target_train_rougher)\n",
    "grid_RF_final.fit(features_train, target_train_final)"
   ]
  },
  {
   "cell_type": "code",
   "execution_count": 38,
   "metadata": {},
   "outputs": [
    {
     "data": {
      "text/html": [
       "<style>#sk-container-id-2 {\n",
       "  /* Definition of color scheme common for light and dark mode */\n",
       "  --sklearn-color-text: black;\n",
       "  --sklearn-color-line: gray;\n",
       "  /* Definition of color scheme for unfitted estimators */\n",
       "  --sklearn-color-unfitted-level-0: #fff5e6;\n",
       "  --sklearn-color-unfitted-level-1: #f6e4d2;\n",
       "  --sklearn-color-unfitted-level-2: #ffe0b3;\n",
       "  --sklearn-color-unfitted-level-3: chocolate;\n",
       "  /* Definition of color scheme for fitted estimators */\n",
       "  --sklearn-color-fitted-level-0: #f0f8ff;\n",
       "  --sklearn-color-fitted-level-1: #d4ebff;\n",
       "  --sklearn-color-fitted-level-2: #b3dbfd;\n",
       "  --sklearn-color-fitted-level-3: cornflowerblue;\n",
       "\n",
       "  /* Specific color for light theme */\n",
       "  --sklearn-color-text-on-default-background: var(--sg-text-color, var(--theme-code-foreground, var(--jp-content-font-color1, black)));\n",
       "  --sklearn-color-background: var(--sg-background-color, var(--theme-background, var(--jp-layout-color0, white)));\n",
       "  --sklearn-color-border-box: var(--sg-text-color, var(--theme-code-foreground, var(--jp-content-font-color1, black)));\n",
       "  --sklearn-color-icon: #696969;\n",
       "\n",
       "  @media (prefers-color-scheme: dark) {\n",
       "    /* Redefinition of color scheme for dark theme */\n",
       "    --sklearn-color-text-on-default-background: var(--sg-text-color, var(--theme-code-foreground, var(--jp-content-font-color1, white)));\n",
       "    --sklearn-color-background: var(--sg-background-color, var(--theme-background, var(--jp-layout-color0, #111)));\n",
       "    --sklearn-color-border-box: var(--sg-text-color, var(--theme-code-foreground, var(--jp-content-font-color1, white)));\n",
       "    --sklearn-color-icon: #878787;\n",
       "  }\n",
       "}\n",
       "\n",
       "#sk-container-id-2 {\n",
       "  color: var(--sklearn-color-text);\n",
       "}\n",
       "\n",
       "#sk-container-id-2 pre {\n",
       "  padding: 0;\n",
       "}\n",
       "\n",
       "#sk-container-id-2 input.sk-hidden--visually {\n",
       "  border: 0;\n",
       "  clip: rect(1px 1px 1px 1px);\n",
       "  clip: rect(1px, 1px, 1px, 1px);\n",
       "  height: 1px;\n",
       "  margin: -1px;\n",
       "  overflow: hidden;\n",
       "  padding: 0;\n",
       "  position: absolute;\n",
       "  width: 1px;\n",
       "}\n",
       "\n",
       "#sk-container-id-2 div.sk-dashed-wrapped {\n",
       "  border: 1px dashed var(--sklearn-color-line);\n",
       "  margin: 0 0.4em 0.5em 0.4em;\n",
       "  box-sizing: border-box;\n",
       "  padding-bottom: 0.4em;\n",
       "  background-color: var(--sklearn-color-background);\n",
       "}\n",
       "\n",
       "#sk-container-id-2 div.sk-container {\n",
       "  /* jupyter's `normalize.less` sets `[hidden] { display: none; }`\n",
       "     but bootstrap.min.css set `[hidden] { display: none !important; }`\n",
       "     so we also need the `!important` here to be able to override the\n",
       "     default hidden behavior on the sphinx rendered scikit-learn.org.\n",
       "     See: https://github.com/scikit-learn/scikit-learn/issues/21755 */\n",
       "  display: inline-block !important;\n",
       "  position: relative;\n",
       "}\n",
       "\n",
       "#sk-container-id-2 div.sk-text-repr-fallback {\n",
       "  display: none;\n",
       "}\n",
       "\n",
       "div.sk-parallel-item,\n",
       "div.sk-serial,\n",
       "div.sk-item {\n",
       "  /* draw centered vertical line to link estimators */\n",
       "  background-image: linear-gradient(var(--sklearn-color-text-on-default-background), var(--sklearn-color-text-on-default-background));\n",
       "  background-size: 2px 100%;\n",
       "  background-repeat: no-repeat;\n",
       "  background-position: center center;\n",
       "}\n",
       "\n",
       "/* Parallel-specific style estimator block */\n",
       "\n",
       "#sk-container-id-2 div.sk-parallel-item::after {\n",
       "  content: \"\";\n",
       "  width: 100%;\n",
       "  border-bottom: 2px solid var(--sklearn-color-text-on-default-background);\n",
       "  flex-grow: 1;\n",
       "}\n",
       "\n",
       "#sk-container-id-2 div.sk-parallel {\n",
       "  display: flex;\n",
       "  align-items: stretch;\n",
       "  justify-content: center;\n",
       "  background-color: var(--sklearn-color-background);\n",
       "  position: relative;\n",
       "}\n",
       "\n",
       "#sk-container-id-2 div.sk-parallel-item {\n",
       "  display: flex;\n",
       "  flex-direction: column;\n",
       "}\n",
       "\n",
       "#sk-container-id-2 div.sk-parallel-item:first-child::after {\n",
       "  align-self: flex-end;\n",
       "  width: 50%;\n",
       "}\n",
       "\n",
       "#sk-container-id-2 div.sk-parallel-item:last-child::after {\n",
       "  align-self: flex-start;\n",
       "  width: 50%;\n",
       "}\n",
       "\n",
       "#sk-container-id-2 div.sk-parallel-item:only-child::after {\n",
       "  width: 0;\n",
       "}\n",
       "\n",
       "/* Serial-specific style estimator block */\n",
       "\n",
       "#sk-container-id-2 div.sk-serial {\n",
       "  display: flex;\n",
       "  flex-direction: column;\n",
       "  align-items: center;\n",
       "  background-color: var(--sklearn-color-background);\n",
       "  padding-right: 1em;\n",
       "  padding-left: 1em;\n",
       "}\n",
       "\n",
       "\n",
       "/* Toggleable style: style used for estimator/Pipeline/ColumnTransformer box that is\n",
       "clickable and can be expanded/collapsed.\n",
       "- Pipeline and ColumnTransformer use this feature and define the default style\n",
       "- Estimators will overwrite some part of the style using the `sk-estimator` class\n",
       "*/\n",
       "\n",
       "/* Pipeline and ColumnTransformer style (default) */\n",
       "\n",
       "#sk-container-id-2 div.sk-toggleable {\n",
       "  /* Default theme specific background. It is overwritten whether we have a\n",
       "  specific estimator or a Pipeline/ColumnTransformer */\n",
       "  background-color: var(--sklearn-color-background);\n",
       "}\n",
       "\n",
       "/* Toggleable label */\n",
       "#sk-container-id-2 label.sk-toggleable__label {\n",
       "  cursor: pointer;\n",
       "  display: block;\n",
       "  width: 100%;\n",
       "  margin-bottom: 0;\n",
       "  padding: 0.5em;\n",
       "  box-sizing: border-box;\n",
       "  text-align: center;\n",
       "}\n",
       "\n",
       "#sk-container-id-2 label.sk-toggleable__label-arrow:before {\n",
       "  /* Arrow on the left of the label */\n",
       "  content: \"▸\";\n",
       "  float: left;\n",
       "  margin-right: 0.25em;\n",
       "  color: var(--sklearn-color-icon);\n",
       "}\n",
       "\n",
       "#sk-container-id-2 label.sk-toggleable__label-arrow:hover:before {\n",
       "  color: var(--sklearn-color-text);\n",
       "}\n",
       "\n",
       "/* Toggleable content - dropdown */\n",
       "\n",
       "#sk-container-id-2 div.sk-toggleable__content {\n",
       "  max-height: 0;\n",
       "  max-width: 0;\n",
       "  overflow: hidden;\n",
       "  text-align: left;\n",
       "  /* unfitted */\n",
       "  background-color: var(--sklearn-color-unfitted-level-0);\n",
       "}\n",
       "\n",
       "#sk-container-id-2 div.sk-toggleable__content.fitted {\n",
       "  /* fitted */\n",
       "  background-color: var(--sklearn-color-fitted-level-0);\n",
       "}\n",
       "\n",
       "#sk-container-id-2 div.sk-toggleable__content pre {\n",
       "  margin: 0.2em;\n",
       "  border-radius: 0.25em;\n",
       "  color: var(--sklearn-color-text);\n",
       "  /* unfitted */\n",
       "  background-color: var(--sklearn-color-unfitted-level-0);\n",
       "}\n",
       "\n",
       "#sk-container-id-2 div.sk-toggleable__content.fitted pre {\n",
       "  /* unfitted */\n",
       "  background-color: var(--sklearn-color-fitted-level-0);\n",
       "}\n",
       "\n",
       "#sk-container-id-2 input.sk-toggleable__control:checked~div.sk-toggleable__content {\n",
       "  /* Expand drop-down */\n",
       "  max-height: 200px;\n",
       "  max-width: 100%;\n",
       "  overflow: auto;\n",
       "}\n",
       "\n",
       "#sk-container-id-2 input.sk-toggleable__control:checked~label.sk-toggleable__label-arrow:before {\n",
       "  content: \"▾\";\n",
       "}\n",
       "\n",
       "/* Pipeline/ColumnTransformer-specific style */\n",
       "\n",
       "#sk-container-id-2 div.sk-label input.sk-toggleable__control:checked~label.sk-toggleable__label {\n",
       "  color: var(--sklearn-color-text);\n",
       "  background-color: var(--sklearn-color-unfitted-level-2);\n",
       "}\n",
       "\n",
       "#sk-container-id-2 div.sk-label.fitted input.sk-toggleable__control:checked~label.sk-toggleable__label {\n",
       "  background-color: var(--sklearn-color-fitted-level-2);\n",
       "}\n",
       "\n",
       "/* Estimator-specific style */\n",
       "\n",
       "/* Colorize estimator box */\n",
       "#sk-container-id-2 div.sk-estimator input.sk-toggleable__control:checked~label.sk-toggleable__label {\n",
       "  /* unfitted */\n",
       "  background-color: var(--sklearn-color-unfitted-level-2);\n",
       "}\n",
       "\n",
       "#sk-container-id-2 div.sk-estimator.fitted input.sk-toggleable__control:checked~label.sk-toggleable__label {\n",
       "  /* fitted */\n",
       "  background-color: var(--sklearn-color-fitted-level-2);\n",
       "}\n",
       "\n",
       "#sk-container-id-2 div.sk-label label.sk-toggleable__label,\n",
       "#sk-container-id-2 div.sk-label label {\n",
       "  /* The background is the default theme color */\n",
       "  color: var(--sklearn-color-text-on-default-background);\n",
       "}\n",
       "\n",
       "/* On hover, darken the color of the background */\n",
       "#sk-container-id-2 div.sk-label:hover label.sk-toggleable__label {\n",
       "  color: var(--sklearn-color-text);\n",
       "  background-color: var(--sklearn-color-unfitted-level-2);\n",
       "}\n",
       "\n",
       "/* Label box, darken color on hover, fitted */\n",
       "#sk-container-id-2 div.sk-label.fitted:hover label.sk-toggleable__label.fitted {\n",
       "  color: var(--sklearn-color-text);\n",
       "  background-color: var(--sklearn-color-fitted-level-2);\n",
       "}\n",
       "\n",
       "/* Estimator label */\n",
       "\n",
       "#sk-container-id-2 div.sk-label label {\n",
       "  font-family: monospace;\n",
       "  font-weight: bold;\n",
       "  display: inline-block;\n",
       "  line-height: 1.2em;\n",
       "}\n",
       "\n",
       "#sk-container-id-2 div.sk-label-container {\n",
       "  text-align: center;\n",
       "}\n",
       "\n",
       "/* Estimator-specific */\n",
       "#sk-container-id-2 div.sk-estimator {\n",
       "  font-family: monospace;\n",
       "  border: 1px dotted var(--sklearn-color-border-box);\n",
       "  border-radius: 0.25em;\n",
       "  box-sizing: border-box;\n",
       "  margin-bottom: 0.5em;\n",
       "  /* unfitted */\n",
       "  background-color: var(--sklearn-color-unfitted-level-0);\n",
       "}\n",
       "\n",
       "#sk-container-id-2 div.sk-estimator.fitted {\n",
       "  /* fitted */\n",
       "  background-color: var(--sklearn-color-fitted-level-0);\n",
       "}\n",
       "\n",
       "/* on hover */\n",
       "#sk-container-id-2 div.sk-estimator:hover {\n",
       "  /* unfitted */\n",
       "  background-color: var(--sklearn-color-unfitted-level-2);\n",
       "}\n",
       "\n",
       "#sk-container-id-2 div.sk-estimator.fitted:hover {\n",
       "  /* fitted */\n",
       "  background-color: var(--sklearn-color-fitted-level-2);\n",
       "}\n",
       "\n",
       "/* Specification for estimator info (e.g. \"i\" and \"?\") */\n",
       "\n",
       "/* Common style for \"i\" and \"?\" */\n",
       "\n",
       ".sk-estimator-doc-link,\n",
       "a:link.sk-estimator-doc-link,\n",
       "a:visited.sk-estimator-doc-link {\n",
       "  float: right;\n",
       "  font-size: smaller;\n",
       "  line-height: 1em;\n",
       "  font-family: monospace;\n",
       "  background-color: var(--sklearn-color-background);\n",
       "  border-radius: 1em;\n",
       "  height: 1em;\n",
       "  width: 1em;\n",
       "  text-decoration: none !important;\n",
       "  margin-left: 1ex;\n",
       "  /* unfitted */\n",
       "  border: var(--sklearn-color-unfitted-level-1) 1pt solid;\n",
       "  color: var(--sklearn-color-unfitted-level-1);\n",
       "}\n",
       "\n",
       ".sk-estimator-doc-link.fitted,\n",
       "a:link.sk-estimator-doc-link.fitted,\n",
       "a:visited.sk-estimator-doc-link.fitted {\n",
       "  /* fitted */\n",
       "  border: var(--sklearn-color-fitted-level-1) 1pt solid;\n",
       "  color: var(--sklearn-color-fitted-level-1);\n",
       "}\n",
       "\n",
       "/* On hover */\n",
       "div.sk-estimator:hover .sk-estimator-doc-link:hover,\n",
       ".sk-estimator-doc-link:hover,\n",
       "div.sk-label-container:hover .sk-estimator-doc-link:hover,\n",
       ".sk-estimator-doc-link:hover {\n",
       "  /* unfitted */\n",
       "  background-color: var(--sklearn-color-unfitted-level-3);\n",
       "  color: var(--sklearn-color-background);\n",
       "  text-decoration: none;\n",
       "}\n",
       "\n",
       "div.sk-estimator.fitted:hover .sk-estimator-doc-link.fitted:hover,\n",
       ".sk-estimator-doc-link.fitted:hover,\n",
       "div.sk-label-container:hover .sk-estimator-doc-link.fitted:hover,\n",
       ".sk-estimator-doc-link.fitted:hover {\n",
       "  /* fitted */\n",
       "  background-color: var(--sklearn-color-fitted-level-3);\n",
       "  color: var(--sklearn-color-background);\n",
       "  text-decoration: none;\n",
       "}\n",
       "\n",
       "/* Span, style for the box shown on hovering the info icon */\n",
       ".sk-estimator-doc-link span {\n",
       "  display: none;\n",
       "  z-index: 9999;\n",
       "  position: relative;\n",
       "  font-weight: normal;\n",
       "  right: .2ex;\n",
       "  padding: .5ex;\n",
       "  margin: .5ex;\n",
       "  width: min-content;\n",
       "  min-width: 20ex;\n",
       "  max-width: 50ex;\n",
       "  color: var(--sklearn-color-text);\n",
       "  box-shadow: 2pt 2pt 4pt #999;\n",
       "  /* unfitted */\n",
       "  background: var(--sklearn-color-unfitted-level-0);\n",
       "  border: .5pt solid var(--sklearn-color-unfitted-level-3);\n",
       "}\n",
       "\n",
       ".sk-estimator-doc-link.fitted span {\n",
       "  /* fitted */\n",
       "  background: var(--sklearn-color-fitted-level-0);\n",
       "  border: var(--sklearn-color-fitted-level-3);\n",
       "}\n",
       "\n",
       ".sk-estimator-doc-link:hover span {\n",
       "  display: block;\n",
       "}\n",
       "\n",
       "/* \"?\"-specific style due to the `<a>` HTML tag */\n",
       "\n",
       "#sk-container-id-2 a.estimator_doc_link {\n",
       "  float: right;\n",
       "  font-size: 1rem;\n",
       "  line-height: 1em;\n",
       "  font-family: monospace;\n",
       "  background-color: var(--sklearn-color-background);\n",
       "  border-radius: 1rem;\n",
       "  height: 1rem;\n",
       "  width: 1rem;\n",
       "  text-decoration: none;\n",
       "  /* unfitted */\n",
       "  color: var(--sklearn-color-unfitted-level-1);\n",
       "  border: var(--sklearn-color-unfitted-level-1) 1pt solid;\n",
       "}\n",
       "\n",
       "#sk-container-id-2 a.estimator_doc_link.fitted {\n",
       "  /* fitted */\n",
       "  border: var(--sklearn-color-fitted-level-1) 1pt solid;\n",
       "  color: var(--sklearn-color-fitted-level-1);\n",
       "}\n",
       "\n",
       "/* On hover */\n",
       "#sk-container-id-2 a.estimator_doc_link:hover {\n",
       "  /* unfitted */\n",
       "  background-color: var(--sklearn-color-unfitted-level-3);\n",
       "  color: var(--sklearn-color-background);\n",
       "  text-decoration: none;\n",
       "}\n",
       "\n",
       "#sk-container-id-2 a.estimator_doc_link.fitted:hover {\n",
       "  /* fitted */\n",
       "  background-color: var(--sklearn-color-fitted-level-3);\n",
       "}\n",
       "</style><div id=\"sk-container-id-2\" class=\"sk-top-container\"><div class=\"sk-text-repr-fallback\"><pre>GridSearchCV(estimator=Pipeline(steps=[(&#x27;standardscaler&#x27;, StandardScaler()),\n",
       "                                       (&#x27;decisiontreeregressor&#x27;,\n",
       "                                        DecisionTreeRegressor())]),\n",
       "             param_grid={&#x27;decisiontreeregressor__max_depth&#x27;: range(6, 12, 2),\n",
       "                         &#x27;decisiontreeregressor__max_features&#x27;: [4]},\n",
       "             scoring=make_scorer(sMAPE, greater_is_better=False, response_method=&#x27;predict&#x27;))</pre><b>In a Jupyter environment, please rerun this cell to show the HTML representation or trust the notebook. <br />On GitHub, the HTML representation is unable to render, please try loading this page with nbviewer.org.</b></div><div class=\"sk-container\" hidden><div class=\"sk-item sk-dashed-wrapped\"><div class=\"sk-label-container\"><div class=\"sk-label fitted sk-toggleable\"><input class=\"sk-toggleable__control sk-hidden--visually\" id=\"sk-estimator-id-5\" type=\"checkbox\" ><label for=\"sk-estimator-id-5\" class=\"sk-toggleable__label fitted sk-toggleable__label-arrow fitted\">&nbsp;&nbsp;GridSearchCV<a class=\"sk-estimator-doc-link fitted\" rel=\"noreferrer\" target=\"_blank\" href=\"https://scikit-learn.org/1.4/modules/generated/sklearn.model_selection.GridSearchCV.html\">?<span>Documentation for GridSearchCV</span></a><span class=\"sk-estimator-doc-link fitted\">i<span>Fitted</span></span></label><div class=\"sk-toggleable__content fitted\"><pre>GridSearchCV(estimator=Pipeline(steps=[(&#x27;standardscaler&#x27;, StandardScaler()),\n",
       "                                       (&#x27;decisiontreeregressor&#x27;,\n",
       "                                        DecisionTreeRegressor())]),\n",
       "             param_grid={&#x27;decisiontreeregressor__max_depth&#x27;: range(6, 12, 2),\n",
       "                         &#x27;decisiontreeregressor__max_features&#x27;: [4]},\n",
       "             scoring=make_scorer(sMAPE, greater_is_better=False, response_method=&#x27;predict&#x27;))</pre></div> </div></div><div class=\"sk-parallel\"><div class=\"sk-parallel-item\"><div class=\"sk-item\"><div class=\"sk-label-container\"><div class=\"sk-label fitted sk-toggleable\"><input class=\"sk-toggleable__control sk-hidden--visually\" id=\"sk-estimator-id-6\" type=\"checkbox\" ><label for=\"sk-estimator-id-6\" class=\"sk-toggleable__label fitted sk-toggleable__label-arrow fitted\">estimator: Pipeline</label><div class=\"sk-toggleable__content fitted\"><pre>Pipeline(steps=[(&#x27;standardscaler&#x27;, StandardScaler()),\n",
       "                (&#x27;decisiontreeregressor&#x27;, DecisionTreeRegressor())])</pre></div> </div></div><div class=\"sk-serial\"><div class=\"sk-item\"><div class=\"sk-serial\"><div class=\"sk-item\"><div class=\"sk-estimator fitted sk-toggleable\"><input class=\"sk-toggleable__control sk-hidden--visually\" id=\"sk-estimator-id-7\" type=\"checkbox\" ><label for=\"sk-estimator-id-7\" class=\"sk-toggleable__label fitted sk-toggleable__label-arrow fitted\">&nbsp;StandardScaler<a class=\"sk-estimator-doc-link fitted\" rel=\"noreferrer\" target=\"_blank\" href=\"https://scikit-learn.org/1.4/modules/generated/sklearn.preprocessing.StandardScaler.html\">?<span>Documentation for StandardScaler</span></a></label><div class=\"sk-toggleable__content fitted\"><pre>StandardScaler()</pre></div> </div></div><div class=\"sk-item\"><div class=\"sk-estimator fitted sk-toggleable\"><input class=\"sk-toggleable__control sk-hidden--visually\" id=\"sk-estimator-id-8\" type=\"checkbox\" ><label for=\"sk-estimator-id-8\" class=\"sk-toggleable__label fitted sk-toggleable__label-arrow fitted\">&nbsp;DecisionTreeRegressor<a class=\"sk-estimator-doc-link fitted\" rel=\"noreferrer\" target=\"_blank\" href=\"https://scikit-learn.org/1.4/modules/generated/sklearn.tree.DecisionTreeRegressor.html\">?<span>Documentation for DecisionTreeRegressor</span></a></label><div class=\"sk-toggleable__content fitted\"><pre>DecisionTreeRegressor()</pre></div> </div></div></div></div></div></div></div></div></div></div></div>"
      ],
      "text/plain": [
       "GridSearchCV(estimator=Pipeline(steps=[('standardscaler', StandardScaler()),\n",
       "                                       ('decisiontreeregressor',\n",
       "                                        DecisionTreeRegressor())]),\n",
       "             param_grid={'decisiontreeregressor__max_depth': range(6, 12, 2),\n",
       "                         'decisiontreeregressor__max_features': [4]},\n",
       "             scoring=make_scorer(sMAPE, greater_is_better=False, response_method='predict'))"
      ]
     },
     "execution_count": 38,
     "metadata": {},
     "output_type": "execute_result"
    }
   ],
   "source": [
    "grid_DT_rougher.fit(features_train, target_train_rougher)\n",
    "grid_DT_final.fit(features_train, target_train_final)"
   ]
  },
  {
   "cell_type": "markdown",
   "metadata": {},
   "source": [
    "#### Выбор модели"
   ]
  },
  {
   "cell_type": "markdown",
   "metadata": {},
   "source": [
    "Отично модели обучены, сравним результаты метрики."
   ]
  },
  {
   "cell_type": "code",
   "execution_count": 39,
   "metadata": {},
   "outputs": [
    {
     "name": "stdout",
     "output_type": "stream",
     "text": [
      "SMAPe случайного леса на для recovery на стадии флотации: -6.07830628024576\n",
      "SMAPe случайного леса на для recovery на финальной стадии: -8.72477552155415\n"
     ]
    }
   ],
   "source": [
    "print('SMAPe случайного леса на для recovery на стадии флотации:', grid_RF_rougher.best_score_)\n",
    "print('SMAPe случайного леса на для recovery на финальной стадии:', grid_RF_final.best_score_)"
   ]
  },
  {
   "cell_type": "code",
   "execution_count": 40,
   "metadata": {},
   "outputs": [
    {
     "name": "stdout",
     "output_type": "stream",
     "text": [
      "SMAPe решающего дерева  для recovery на стадии флотации: -7.789882011183454\n",
      "SMAPe решающего дерева  для recovery на финальной флотации: -10.000233273728801\n"
     ]
    }
   ],
   "source": [
    "print('SMAPe решающего дерева  для recovery на стадии флотации:', grid_DT_rougher.best_score_)\n",
    "print('SMAPe решающего дерева  для recovery на финальной флотации:', grid_DT_final.best_score_)"
   ]
  },
  {
   "cell_type": "markdown",
   "metadata": {},
   "source": [
    "Идеальный результат для нас - 0, лес ожидаемо оказался лучше, посмотрим на его гиперпараметры. "
   ]
  },
  {
   "cell_type": "code",
   "execution_count": 41,
   "metadata": {},
   "outputs": [
    {
     "name": "stdout",
     "output_type": "stream",
     "text": [
      "Pipeline(steps=[('standardscaler', StandardScaler()),\n",
      "                ('randomforestregressor',\n",
      "                 RandomForestRegressor(max_depth=8, max_features=4,\n",
      "                                       n_estimators=90))])\n",
      "Pipeline(steps=[('standardscaler', StandardScaler()),\n",
      "                ('randomforestregressor',\n",
      "                 RandomForestRegressor(max_depth=6, max_features=4,\n",
      "                                       n_estimators=90))])\n"
     ]
    }
   ],
   "source": [
    "print(grid_RF_rougher.best_estimator_)\n",
    "print(grid_RF_final.best_estimator_) "
   ]
  },
  {
   "cell_type": "markdown",
   "metadata": {},
   "source": [
    "Посчитаем финальную метрику на тестовой выборке"
   ]
  },
  {
   "cell_type": "code",
   "execution_count": 42,
   "metadata": {},
   "outputs": [],
   "source": [
    "rogher_test = grid_RF_rougher.predict(features_test) \n",
    "final_test = grid_RF_final.predict(features_test)"
   ]
  },
  {
   "cell_type": "code",
   "execution_count": 43,
   "metadata": {},
   "outputs": [
    {
     "data": {
      "text/plain": [
       "5.952311726091989"
      ]
     },
     "execution_count": 43,
     "metadata": {},
     "output_type": "execute_result"
    }
   ],
   "source": [
    "final_sMAPE(sMAPE(target_test_rougher, rogher_test), sMAPE(target_test_final, final_test))"
   ]
  },
  {
   "cell_type": "markdown",
   "metadata": {},
   "source": [
    "### Сравнение с DummyRegressor"
   ]
  },
  {
   "cell_type": "code",
   "execution_count": 44,
   "metadata": {},
   "outputs": [],
   "source": [
    "dummy_model_rougher = make_pipeline(StandardScaler(), DummyRegressor()) \n",
    "dummy_model_final = make_pipeline(StandardScaler(), DummyRegressor()) "
   ]
  },
  {
   "cell_type": "code",
   "execution_count": 45,
   "metadata": {},
   "outputs": [],
   "source": [
    "params_dummy = {\n",
    "                'dummyregressor__strategy': ['mean', 'median', 'quantile', 'constant']\n",
    "               }"
   ]
  },
  {
   "cell_type": "code",
   "execution_count": 46,
   "metadata": {},
   "outputs": [],
   "source": [
    "grid_dummy_rougher = GridSearchCV(dummy_model_rougher, param_grid = params_dummy, scoring=sMAPE_score)\n",
    "grid_dummy_final = GridSearchCV(dummy_model_final, param_grid = params_dummy, scoring=sMAPE_score)"
   ]
  },
  {
   "cell_type": "code",
   "execution_count": 47,
   "metadata": {},
   "outputs": [
    {
     "data": {
      "text/html": [
       "<style>#sk-container-id-3 {\n",
       "  /* Definition of color scheme common for light and dark mode */\n",
       "  --sklearn-color-text: black;\n",
       "  --sklearn-color-line: gray;\n",
       "  /* Definition of color scheme for unfitted estimators */\n",
       "  --sklearn-color-unfitted-level-0: #fff5e6;\n",
       "  --sklearn-color-unfitted-level-1: #f6e4d2;\n",
       "  --sklearn-color-unfitted-level-2: #ffe0b3;\n",
       "  --sklearn-color-unfitted-level-3: chocolate;\n",
       "  /* Definition of color scheme for fitted estimators */\n",
       "  --sklearn-color-fitted-level-0: #f0f8ff;\n",
       "  --sklearn-color-fitted-level-1: #d4ebff;\n",
       "  --sklearn-color-fitted-level-2: #b3dbfd;\n",
       "  --sklearn-color-fitted-level-3: cornflowerblue;\n",
       "\n",
       "  /* Specific color for light theme */\n",
       "  --sklearn-color-text-on-default-background: var(--sg-text-color, var(--theme-code-foreground, var(--jp-content-font-color1, black)));\n",
       "  --sklearn-color-background: var(--sg-background-color, var(--theme-background, var(--jp-layout-color0, white)));\n",
       "  --sklearn-color-border-box: var(--sg-text-color, var(--theme-code-foreground, var(--jp-content-font-color1, black)));\n",
       "  --sklearn-color-icon: #696969;\n",
       "\n",
       "  @media (prefers-color-scheme: dark) {\n",
       "    /* Redefinition of color scheme for dark theme */\n",
       "    --sklearn-color-text-on-default-background: var(--sg-text-color, var(--theme-code-foreground, var(--jp-content-font-color1, white)));\n",
       "    --sklearn-color-background: var(--sg-background-color, var(--theme-background, var(--jp-layout-color0, #111)));\n",
       "    --sklearn-color-border-box: var(--sg-text-color, var(--theme-code-foreground, var(--jp-content-font-color1, white)));\n",
       "    --sklearn-color-icon: #878787;\n",
       "  }\n",
       "}\n",
       "\n",
       "#sk-container-id-3 {\n",
       "  color: var(--sklearn-color-text);\n",
       "}\n",
       "\n",
       "#sk-container-id-3 pre {\n",
       "  padding: 0;\n",
       "}\n",
       "\n",
       "#sk-container-id-3 input.sk-hidden--visually {\n",
       "  border: 0;\n",
       "  clip: rect(1px 1px 1px 1px);\n",
       "  clip: rect(1px, 1px, 1px, 1px);\n",
       "  height: 1px;\n",
       "  margin: -1px;\n",
       "  overflow: hidden;\n",
       "  padding: 0;\n",
       "  position: absolute;\n",
       "  width: 1px;\n",
       "}\n",
       "\n",
       "#sk-container-id-3 div.sk-dashed-wrapped {\n",
       "  border: 1px dashed var(--sklearn-color-line);\n",
       "  margin: 0 0.4em 0.5em 0.4em;\n",
       "  box-sizing: border-box;\n",
       "  padding-bottom: 0.4em;\n",
       "  background-color: var(--sklearn-color-background);\n",
       "}\n",
       "\n",
       "#sk-container-id-3 div.sk-container {\n",
       "  /* jupyter's `normalize.less` sets `[hidden] { display: none; }`\n",
       "     but bootstrap.min.css set `[hidden] { display: none !important; }`\n",
       "     so we also need the `!important` here to be able to override the\n",
       "     default hidden behavior on the sphinx rendered scikit-learn.org.\n",
       "     See: https://github.com/scikit-learn/scikit-learn/issues/21755 */\n",
       "  display: inline-block !important;\n",
       "  position: relative;\n",
       "}\n",
       "\n",
       "#sk-container-id-3 div.sk-text-repr-fallback {\n",
       "  display: none;\n",
       "}\n",
       "\n",
       "div.sk-parallel-item,\n",
       "div.sk-serial,\n",
       "div.sk-item {\n",
       "  /* draw centered vertical line to link estimators */\n",
       "  background-image: linear-gradient(var(--sklearn-color-text-on-default-background), var(--sklearn-color-text-on-default-background));\n",
       "  background-size: 2px 100%;\n",
       "  background-repeat: no-repeat;\n",
       "  background-position: center center;\n",
       "}\n",
       "\n",
       "/* Parallel-specific style estimator block */\n",
       "\n",
       "#sk-container-id-3 div.sk-parallel-item::after {\n",
       "  content: \"\";\n",
       "  width: 100%;\n",
       "  border-bottom: 2px solid var(--sklearn-color-text-on-default-background);\n",
       "  flex-grow: 1;\n",
       "}\n",
       "\n",
       "#sk-container-id-3 div.sk-parallel {\n",
       "  display: flex;\n",
       "  align-items: stretch;\n",
       "  justify-content: center;\n",
       "  background-color: var(--sklearn-color-background);\n",
       "  position: relative;\n",
       "}\n",
       "\n",
       "#sk-container-id-3 div.sk-parallel-item {\n",
       "  display: flex;\n",
       "  flex-direction: column;\n",
       "}\n",
       "\n",
       "#sk-container-id-3 div.sk-parallel-item:first-child::after {\n",
       "  align-self: flex-end;\n",
       "  width: 50%;\n",
       "}\n",
       "\n",
       "#sk-container-id-3 div.sk-parallel-item:last-child::after {\n",
       "  align-self: flex-start;\n",
       "  width: 50%;\n",
       "}\n",
       "\n",
       "#sk-container-id-3 div.sk-parallel-item:only-child::after {\n",
       "  width: 0;\n",
       "}\n",
       "\n",
       "/* Serial-specific style estimator block */\n",
       "\n",
       "#sk-container-id-3 div.sk-serial {\n",
       "  display: flex;\n",
       "  flex-direction: column;\n",
       "  align-items: center;\n",
       "  background-color: var(--sklearn-color-background);\n",
       "  padding-right: 1em;\n",
       "  padding-left: 1em;\n",
       "}\n",
       "\n",
       "\n",
       "/* Toggleable style: style used for estimator/Pipeline/ColumnTransformer box that is\n",
       "clickable and can be expanded/collapsed.\n",
       "- Pipeline and ColumnTransformer use this feature and define the default style\n",
       "- Estimators will overwrite some part of the style using the `sk-estimator` class\n",
       "*/\n",
       "\n",
       "/* Pipeline and ColumnTransformer style (default) */\n",
       "\n",
       "#sk-container-id-3 div.sk-toggleable {\n",
       "  /* Default theme specific background. It is overwritten whether we have a\n",
       "  specific estimator or a Pipeline/ColumnTransformer */\n",
       "  background-color: var(--sklearn-color-background);\n",
       "}\n",
       "\n",
       "/* Toggleable label */\n",
       "#sk-container-id-3 label.sk-toggleable__label {\n",
       "  cursor: pointer;\n",
       "  display: block;\n",
       "  width: 100%;\n",
       "  margin-bottom: 0;\n",
       "  padding: 0.5em;\n",
       "  box-sizing: border-box;\n",
       "  text-align: center;\n",
       "}\n",
       "\n",
       "#sk-container-id-3 label.sk-toggleable__label-arrow:before {\n",
       "  /* Arrow on the left of the label */\n",
       "  content: \"▸\";\n",
       "  float: left;\n",
       "  margin-right: 0.25em;\n",
       "  color: var(--sklearn-color-icon);\n",
       "}\n",
       "\n",
       "#sk-container-id-3 label.sk-toggleable__label-arrow:hover:before {\n",
       "  color: var(--sklearn-color-text);\n",
       "}\n",
       "\n",
       "/* Toggleable content - dropdown */\n",
       "\n",
       "#sk-container-id-3 div.sk-toggleable__content {\n",
       "  max-height: 0;\n",
       "  max-width: 0;\n",
       "  overflow: hidden;\n",
       "  text-align: left;\n",
       "  /* unfitted */\n",
       "  background-color: var(--sklearn-color-unfitted-level-0);\n",
       "}\n",
       "\n",
       "#sk-container-id-3 div.sk-toggleable__content.fitted {\n",
       "  /* fitted */\n",
       "  background-color: var(--sklearn-color-fitted-level-0);\n",
       "}\n",
       "\n",
       "#sk-container-id-3 div.sk-toggleable__content pre {\n",
       "  margin: 0.2em;\n",
       "  border-radius: 0.25em;\n",
       "  color: var(--sklearn-color-text);\n",
       "  /* unfitted */\n",
       "  background-color: var(--sklearn-color-unfitted-level-0);\n",
       "}\n",
       "\n",
       "#sk-container-id-3 div.sk-toggleable__content.fitted pre {\n",
       "  /* unfitted */\n",
       "  background-color: var(--sklearn-color-fitted-level-0);\n",
       "}\n",
       "\n",
       "#sk-container-id-3 input.sk-toggleable__control:checked~div.sk-toggleable__content {\n",
       "  /* Expand drop-down */\n",
       "  max-height: 200px;\n",
       "  max-width: 100%;\n",
       "  overflow: auto;\n",
       "}\n",
       "\n",
       "#sk-container-id-3 input.sk-toggleable__control:checked~label.sk-toggleable__label-arrow:before {\n",
       "  content: \"▾\";\n",
       "}\n",
       "\n",
       "/* Pipeline/ColumnTransformer-specific style */\n",
       "\n",
       "#sk-container-id-3 div.sk-label input.sk-toggleable__control:checked~label.sk-toggleable__label {\n",
       "  color: var(--sklearn-color-text);\n",
       "  background-color: var(--sklearn-color-unfitted-level-2);\n",
       "}\n",
       "\n",
       "#sk-container-id-3 div.sk-label.fitted input.sk-toggleable__control:checked~label.sk-toggleable__label {\n",
       "  background-color: var(--sklearn-color-fitted-level-2);\n",
       "}\n",
       "\n",
       "/* Estimator-specific style */\n",
       "\n",
       "/* Colorize estimator box */\n",
       "#sk-container-id-3 div.sk-estimator input.sk-toggleable__control:checked~label.sk-toggleable__label {\n",
       "  /* unfitted */\n",
       "  background-color: var(--sklearn-color-unfitted-level-2);\n",
       "}\n",
       "\n",
       "#sk-container-id-3 div.sk-estimator.fitted input.sk-toggleable__control:checked~label.sk-toggleable__label {\n",
       "  /* fitted */\n",
       "  background-color: var(--sklearn-color-fitted-level-2);\n",
       "}\n",
       "\n",
       "#sk-container-id-3 div.sk-label label.sk-toggleable__label,\n",
       "#sk-container-id-3 div.sk-label label {\n",
       "  /* The background is the default theme color */\n",
       "  color: var(--sklearn-color-text-on-default-background);\n",
       "}\n",
       "\n",
       "/* On hover, darken the color of the background */\n",
       "#sk-container-id-3 div.sk-label:hover label.sk-toggleable__label {\n",
       "  color: var(--sklearn-color-text);\n",
       "  background-color: var(--sklearn-color-unfitted-level-2);\n",
       "}\n",
       "\n",
       "/* Label box, darken color on hover, fitted */\n",
       "#sk-container-id-3 div.sk-label.fitted:hover label.sk-toggleable__label.fitted {\n",
       "  color: var(--sklearn-color-text);\n",
       "  background-color: var(--sklearn-color-fitted-level-2);\n",
       "}\n",
       "\n",
       "/* Estimator label */\n",
       "\n",
       "#sk-container-id-3 div.sk-label label {\n",
       "  font-family: monospace;\n",
       "  font-weight: bold;\n",
       "  display: inline-block;\n",
       "  line-height: 1.2em;\n",
       "}\n",
       "\n",
       "#sk-container-id-3 div.sk-label-container {\n",
       "  text-align: center;\n",
       "}\n",
       "\n",
       "/* Estimator-specific */\n",
       "#sk-container-id-3 div.sk-estimator {\n",
       "  font-family: monospace;\n",
       "  border: 1px dotted var(--sklearn-color-border-box);\n",
       "  border-radius: 0.25em;\n",
       "  box-sizing: border-box;\n",
       "  margin-bottom: 0.5em;\n",
       "  /* unfitted */\n",
       "  background-color: var(--sklearn-color-unfitted-level-0);\n",
       "}\n",
       "\n",
       "#sk-container-id-3 div.sk-estimator.fitted {\n",
       "  /* fitted */\n",
       "  background-color: var(--sklearn-color-fitted-level-0);\n",
       "}\n",
       "\n",
       "/* on hover */\n",
       "#sk-container-id-3 div.sk-estimator:hover {\n",
       "  /* unfitted */\n",
       "  background-color: var(--sklearn-color-unfitted-level-2);\n",
       "}\n",
       "\n",
       "#sk-container-id-3 div.sk-estimator.fitted:hover {\n",
       "  /* fitted */\n",
       "  background-color: var(--sklearn-color-fitted-level-2);\n",
       "}\n",
       "\n",
       "/* Specification for estimator info (e.g. \"i\" and \"?\") */\n",
       "\n",
       "/* Common style for \"i\" and \"?\" */\n",
       "\n",
       ".sk-estimator-doc-link,\n",
       "a:link.sk-estimator-doc-link,\n",
       "a:visited.sk-estimator-doc-link {\n",
       "  float: right;\n",
       "  font-size: smaller;\n",
       "  line-height: 1em;\n",
       "  font-family: monospace;\n",
       "  background-color: var(--sklearn-color-background);\n",
       "  border-radius: 1em;\n",
       "  height: 1em;\n",
       "  width: 1em;\n",
       "  text-decoration: none !important;\n",
       "  margin-left: 1ex;\n",
       "  /* unfitted */\n",
       "  border: var(--sklearn-color-unfitted-level-1) 1pt solid;\n",
       "  color: var(--sklearn-color-unfitted-level-1);\n",
       "}\n",
       "\n",
       ".sk-estimator-doc-link.fitted,\n",
       "a:link.sk-estimator-doc-link.fitted,\n",
       "a:visited.sk-estimator-doc-link.fitted {\n",
       "  /* fitted */\n",
       "  border: var(--sklearn-color-fitted-level-1) 1pt solid;\n",
       "  color: var(--sklearn-color-fitted-level-1);\n",
       "}\n",
       "\n",
       "/* On hover */\n",
       "div.sk-estimator:hover .sk-estimator-doc-link:hover,\n",
       ".sk-estimator-doc-link:hover,\n",
       "div.sk-label-container:hover .sk-estimator-doc-link:hover,\n",
       ".sk-estimator-doc-link:hover {\n",
       "  /* unfitted */\n",
       "  background-color: var(--sklearn-color-unfitted-level-3);\n",
       "  color: var(--sklearn-color-background);\n",
       "  text-decoration: none;\n",
       "}\n",
       "\n",
       "div.sk-estimator.fitted:hover .sk-estimator-doc-link.fitted:hover,\n",
       ".sk-estimator-doc-link.fitted:hover,\n",
       "div.sk-label-container:hover .sk-estimator-doc-link.fitted:hover,\n",
       ".sk-estimator-doc-link.fitted:hover {\n",
       "  /* fitted */\n",
       "  background-color: var(--sklearn-color-fitted-level-3);\n",
       "  color: var(--sklearn-color-background);\n",
       "  text-decoration: none;\n",
       "}\n",
       "\n",
       "/* Span, style for the box shown on hovering the info icon */\n",
       ".sk-estimator-doc-link span {\n",
       "  display: none;\n",
       "  z-index: 9999;\n",
       "  position: relative;\n",
       "  font-weight: normal;\n",
       "  right: .2ex;\n",
       "  padding: .5ex;\n",
       "  margin: .5ex;\n",
       "  width: min-content;\n",
       "  min-width: 20ex;\n",
       "  max-width: 50ex;\n",
       "  color: var(--sklearn-color-text);\n",
       "  box-shadow: 2pt 2pt 4pt #999;\n",
       "  /* unfitted */\n",
       "  background: var(--sklearn-color-unfitted-level-0);\n",
       "  border: .5pt solid var(--sklearn-color-unfitted-level-3);\n",
       "}\n",
       "\n",
       ".sk-estimator-doc-link.fitted span {\n",
       "  /* fitted */\n",
       "  background: var(--sklearn-color-fitted-level-0);\n",
       "  border: var(--sklearn-color-fitted-level-3);\n",
       "}\n",
       "\n",
       ".sk-estimator-doc-link:hover span {\n",
       "  display: block;\n",
       "}\n",
       "\n",
       "/* \"?\"-specific style due to the `<a>` HTML tag */\n",
       "\n",
       "#sk-container-id-3 a.estimator_doc_link {\n",
       "  float: right;\n",
       "  font-size: 1rem;\n",
       "  line-height: 1em;\n",
       "  font-family: monospace;\n",
       "  background-color: var(--sklearn-color-background);\n",
       "  border-radius: 1rem;\n",
       "  height: 1rem;\n",
       "  width: 1rem;\n",
       "  text-decoration: none;\n",
       "  /* unfitted */\n",
       "  color: var(--sklearn-color-unfitted-level-1);\n",
       "  border: var(--sklearn-color-unfitted-level-1) 1pt solid;\n",
       "}\n",
       "\n",
       "#sk-container-id-3 a.estimator_doc_link.fitted {\n",
       "  /* fitted */\n",
       "  border: var(--sklearn-color-fitted-level-1) 1pt solid;\n",
       "  color: var(--sklearn-color-fitted-level-1);\n",
       "}\n",
       "\n",
       "/* On hover */\n",
       "#sk-container-id-3 a.estimator_doc_link:hover {\n",
       "  /* unfitted */\n",
       "  background-color: var(--sklearn-color-unfitted-level-3);\n",
       "  color: var(--sklearn-color-background);\n",
       "  text-decoration: none;\n",
       "}\n",
       "\n",
       "#sk-container-id-3 a.estimator_doc_link.fitted:hover {\n",
       "  /* fitted */\n",
       "  background-color: var(--sklearn-color-fitted-level-3);\n",
       "}\n",
       "</style><div id=\"sk-container-id-3\" class=\"sk-top-container\"><div class=\"sk-text-repr-fallback\"><pre>GridSearchCV(estimator=Pipeline(steps=[(&#x27;standardscaler&#x27;, StandardScaler()),\n",
       "                                       (&#x27;dummyregressor&#x27;, DummyRegressor())]),\n",
       "             param_grid={&#x27;dummyregressor__strategy&#x27;: [&#x27;mean&#x27;, &#x27;median&#x27;,\n",
       "                                                      &#x27;quantile&#x27;, &#x27;constant&#x27;]},\n",
       "             scoring=make_scorer(sMAPE, greater_is_better=False, response_method=&#x27;predict&#x27;))</pre><b>In a Jupyter environment, please rerun this cell to show the HTML representation or trust the notebook. <br />On GitHub, the HTML representation is unable to render, please try loading this page with nbviewer.org.</b></div><div class=\"sk-container\" hidden><div class=\"sk-item sk-dashed-wrapped\"><div class=\"sk-label-container\"><div class=\"sk-label fitted sk-toggleable\"><input class=\"sk-toggleable__control sk-hidden--visually\" id=\"sk-estimator-id-9\" type=\"checkbox\" ><label for=\"sk-estimator-id-9\" class=\"sk-toggleable__label fitted sk-toggleable__label-arrow fitted\">&nbsp;&nbsp;GridSearchCV<a class=\"sk-estimator-doc-link fitted\" rel=\"noreferrer\" target=\"_blank\" href=\"https://scikit-learn.org/1.4/modules/generated/sklearn.model_selection.GridSearchCV.html\">?<span>Documentation for GridSearchCV</span></a><span class=\"sk-estimator-doc-link fitted\">i<span>Fitted</span></span></label><div class=\"sk-toggleable__content fitted\"><pre>GridSearchCV(estimator=Pipeline(steps=[(&#x27;standardscaler&#x27;, StandardScaler()),\n",
       "                                       (&#x27;dummyregressor&#x27;, DummyRegressor())]),\n",
       "             param_grid={&#x27;dummyregressor__strategy&#x27;: [&#x27;mean&#x27;, &#x27;median&#x27;,\n",
       "                                                      &#x27;quantile&#x27;, &#x27;constant&#x27;]},\n",
       "             scoring=make_scorer(sMAPE, greater_is_better=False, response_method=&#x27;predict&#x27;))</pre></div> </div></div><div class=\"sk-parallel\"><div class=\"sk-parallel-item\"><div class=\"sk-item\"><div class=\"sk-label-container\"><div class=\"sk-label fitted sk-toggleable\"><input class=\"sk-toggleable__control sk-hidden--visually\" id=\"sk-estimator-id-10\" type=\"checkbox\" ><label for=\"sk-estimator-id-10\" class=\"sk-toggleable__label fitted sk-toggleable__label-arrow fitted\">estimator: Pipeline</label><div class=\"sk-toggleable__content fitted\"><pre>Pipeline(steps=[(&#x27;standardscaler&#x27;, StandardScaler()),\n",
       "                (&#x27;dummyregressor&#x27;, DummyRegressor())])</pre></div> </div></div><div class=\"sk-serial\"><div class=\"sk-item\"><div class=\"sk-serial\"><div class=\"sk-item\"><div class=\"sk-estimator fitted sk-toggleable\"><input class=\"sk-toggleable__control sk-hidden--visually\" id=\"sk-estimator-id-11\" type=\"checkbox\" ><label for=\"sk-estimator-id-11\" class=\"sk-toggleable__label fitted sk-toggleable__label-arrow fitted\">&nbsp;StandardScaler<a class=\"sk-estimator-doc-link fitted\" rel=\"noreferrer\" target=\"_blank\" href=\"https://scikit-learn.org/1.4/modules/generated/sklearn.preprocessing.StandardScaler.html\">?<span>Documentation for StandardScaler</span></a></label><div class=\"sk-toggleable__content fitted\"><pre>StandardScaler()</pre></div> </div></div><div class=\"sk-item\"><div class=\"sk-estimator fitted sk-toggleable\"><input class=\"sk-toggleable__control sk-hidden--visually\" id=\"sk-estimator-id-12\" type=\"checkbox\" ><label for=\"sk-estimator-id-12\" class=\"sk-toggleable__label fitted sk-toggleable__label-arrow fitted\">&nbsp;DummyRegressor<a class=\"sk-estimator-doc-link fitted\" rel=\"noreferrer\" target=\"_blank\" href=\"https://scikit-learn.org/1.4/modules/generated/sklearn.dummy.DummyRegressor.html\">?<span>Documentation for DummyRegressor</span></a></label><div class=\"sk-toggleable__content fitted\"><pre>DummyRegressor()</pre></div> </div></div></div></div></div></div></div></div></div></div></div>"
      ],
      "text/plain": [
       "GridSearchCV(estimator=Pipeline(steps=[('standardscaler', StandardScaler()),\n",
       "                                       ('dummyregressor', DummyRegressor())]),\n",
       "             param_grid={'dummyregressor__strategy': ['mean', 'median',\n",
       "                                                      'quantile', 'constant']},\n",
       "             scoring=make_scorer(sMAPE, greater_is_better=False, response_method='predict'))"
      ]
     },
     "execution_count": 47,
     "metadata": {},
     "output_type": "execute_result"
    }
   ],
   "source": [
    "grid_dummy_rougher.fit(features_train, target_train_rougher)\n",
    "grid_dummy_final.fit(features_train, target_train_final)"
   ]
  },
  {
   "cell_type": "code",
   "execution_count": 48,
   "metadata": {},
   "outputs": [
    {
     "data": {
      "text/plain": [
       "7.818240368917014"
      ]
     },
     "execution_count": 48,
     "metadata": {},
     "output_type": "execute_result"
    }
   ],
   "source": [
    "final_sMAPE(sMAPE(target_test_rougher, grid_dummy_rougher.predict(features_test)), \n",
    "            sMAPE(target_test_final,   grid_dummy_final.predict(features_test)))"
   ]
  },
  {
   "cell_type": "markdown",
   "metadata": {},
   "source": [
    "### Вывод по моделям"
   ]
  },
  {
   "cell_type": "markdown",
   "metadata": {},
   "source": [
    "Были обучены четыре модели - два случайных леса и два дерева, использовался метод кросс-валидации, встроенный в GridSearchCV, поэтому предварительно был создан pipeline со скейлером, который на всю обучающую выборку в данном случае было использовать нельзя. Случайный лес ожидаемо показал лучший результат относительно решающего дерева, но с довольно небольшим расхождением, значение итоговой метрики для пары из двух случайных лесов - 5.95; для сравнения аналогичным способом была обучена модель DummyRegressor, которая игнорирует закономерности в данных, ее результат на тестовой выборке - 7.81, что хуже, чем у двух лесов."
   ]
  },
  {
   "cell_type": "markdown",
   "metadata": {},
   "source": [
    "## Общий вывод"
   ]
  },
  {
   "cell_type": "markdown",
   "metadata": {},
   "source": [
    "В данном работе были получены следующие результаты:\n",
    "   - Проведена предварительная подготовка данных, убраны пропуски из обучающей и тестовой выборок методом ближайших соседей,   намечены столбцы для удаления из тренировочной выборки ввиду невозможности использовать данные из них на ранних этапах производства. \n",
    "   - Данные проанализированы, динамика концентрации металлов соответствует ожиданиям - концентрация золота резко увеличивается, при этом, несколько выросла и концентрация свинца, но снизилась серебра. Распределение размеров гранул в обучающей и тестовой выборке сопоставимо. В суммарной концентрации веществ обнаружились аномалии около нуля, строки с ними удалены из тренировочной и тестовой выборок \n",
    "   - Были обучены четыре модели - два случайных леса и два дерева, для поиска гиперпараметров использовался GridSearchCV с пайплайном, содержащим модель и скейлер. Результаты лесов оказались лучше, значение итоговой метрики для них - 5,95. Для сравнения был обучен DummyRegressor, показавший значение итоговой метрики в 7.11, что хуже, чем у лесов."
   ]
  },
  {
   "cell_type": "code",
   "execution_count": null,
   "metadata": {},
   "outputs": [],
   "source": []
  }
 ],
 "metadata": {
  "ExecuteTimeLog": [
   {
    "duration": 42,
    "start_time": "2023-02-27T09:26:50.500Z"
   },
   {
    "duration": 381,
    "start_time": "2023-02-27T09:26:52.902Z"
   },
   {
    "duration": 4183,
    "start_time": "2023-02-27T09:26:54.549Z"
   },
   {
    "duration": 26,
    "start_time": "2023-02-27T09:27:10.206Z"
   },
   {
    "duration": 21,
    "start_time": "2023-02-27T09:32:12.468Z"
   },
   {
    "duration": 24,
    "start_time": "2023-02-27T09:33:00.750Z"
   },
   {
    "duration": 28,
    "start_time": "2023-02-27T09:35:37.717Z"
   },
   {
    "duration": 7,
    "start_time": "2023-02-27T09:35:41.461Z"
   },
   {
    "duration": 10,
    "start_time": "2023-02-27T09:35:44.294Z"
   },
   {
    "duration": 4,
    "start_time": "2023-02-27T09:35:49.051Z"
   },
   {
    "duration": 4,
    "start_time": "2023-02-27T09:39:31.275Z"
   },
   {
    "duration": 5,
    "start_time": "2023-02-27T09:49:20.462Z"
   },
   {
    "duration": 22,
    "start_time": "2023-02-27T09:50:35.400Z"
   },
   {
    "duration": 7,
    "start_time": "2023-02-27T09:51:20.160Z"
   },
   {
    "duration": 5,
    "start_time": "2023-02-27T09:51:23.560Z"
   },
   {
    "duration": 19,
    "start_time": "2023-02-27T09:57:43.047Z"
   },
   {
    "duration": 15,
    "start_time": "2023-02-27T10:31:06.370Z"
   },
   {
    "duration": 78,
    "start_time": "2023-02-27T10:51:35.281Z"
   },
   {
    "duration": 8,
    "start_time": "2023-02-28T08:22:06.241Z"
   },
   {
    "duration": 408,
    "start_time": "2023-02-28T08:22:09.755Z"
   },
   {
    "duration": 3319,
    "start_time": "2023-02-28T08:22:10.164Z"
   },
   {
    "duration": 18,
    "start_time": "2023-02-28T08:22:13.485Z"
   },
   {
    "duration": 3,
    "start_time": "2023-02-28T08:22:13.505Z"
   },
   {
    "duration": 690,
    "start_time": "2023-02-28T08:26:32.026Z"
   },
   {
    "duration": 3,
    "start_time": "2023-02-28T08:27:46.562Z"
   },
   {
    "duration": 3,
    "start_time": "2023-02-28T08:28:37.016Z"
   },
   {
    "duration": 159,
    "start_time": "2023-02-28T08:29:47.184Z"
   },
   {
    "duration": 16331,
    "start_time": "2023-02-28T08:34:58.678Z"
   },
   {
    "duration": 2,
    "start_time": "2023-02-28T08:35:49.199Z"
   },
   {
    "duration": 21935,
    "start_time": "2023-02-28T08:35:52.002Z"
   },
   {
    "duration": 3,
    "start_time": "2023-02-28T08:36:38.672Z"
   },
   {
    "duration": 22080,
    "start_time": "2023-02-28T08:36:40.891Z"
   },
   {
    "duration": 4,
    "start_time": "2023-02-28T08:40:23.568Z"
   },
   {
    "duration": 9,
    "start_time": "2023-02-28T08:40:49.264Z"
   },
   {
    "duration": 53,
    "start_time": "2023-02-28T08:40:52.847Z"
   },
   {
    "duration": 1218,
    "start_time": "2023-02-28T08:40:55.557Z"
   },
   {
    "duration": 3350,
    "start_time": "2023-02-28T08:40:56.776Z"
   },
   {
    "duration": 20,
    "start_time": "2023-02-28T08:41:00.128Z"
   },
   {
    "duration": 3,
    "start_time": "2023-02-28T08:41:00.150Z"
   },
   {
    "duration": 8,
    "start_time": "2023-02-28T08:41:39.104Z"
   },
   {
    "duration": 45,
    "start_time": "2023-02-28T08:41:40.669Z"
   },
   {
    "duration": 1225,
    "start_time": "2023-02-28T08:41:43.491Z"
   },
   {
    "duration": 3133,
    "start_time": "2023-02-28T08:41:44.718Z"
   },
   {
    "duration": 19,
    "start_time": "2023-02-28T08:41:47.853Z"
   },
   {
    "duration": 3,
    "start_time": "2023-02-28T08:41:47.875Z"
   },
   {
    "duration": 13478,
    "start_time": "2023-02-28T08:41:47.880Z"
   },
   {
    "duration": 4,
    "start_time": "2023-02-28T08:46:29.895Z"
   },
   {
    "duration": 859,
    "start_time": "2023-02-28T08:46:31.583Z"
   },
   {
    "duration": 1200,
    "start_time": "2023-02-28T08:47:52.900Z"
   },
   {
    "duration": 3158,
    "start_time": "2023-02-28T08:47:54.102Z"
   },
   {
    "duration": 18,
    "start_time": "2023-02-28T08:47:57.262Z"
   },
   {
    "duration": 3,
    "start_time": "2023-02-28T08:47:57.282Z"
   },
   {
    "duration": 8,
    "start_time": "2023-02-28T08:49:31.389Z"
   },
   {
    "duration": 45,
    "start_time": "2023-02-28T08:49:34.624Z"
   },
   {
    "duration": 1104,
    "start_time": "2023-02-28T08:49:37.687Z"
   },
   {
    "duration": 3246,
    "start_time": "2023-02-28T08:49:38.792Z"
   },
   {
    "duration": 19,
    "start_time": "2023-02-28T08:49:42.039Z"
   },
   {
    "duration": 3,
    "start_time": "2023-02-28T08:49:42.060Z"
   },
   {
    "duration": 12535,
    "start_time": "2023-02-28T08:49:42.065Z"
   },
   {
    "duration": 101,
    "start_time": "2023-02-28T08:50:15.600Z"
   },
   {
    "duration": 863,
    "start_time": "2023-02-28T08:51:12.869Z"
   },
   {
    "duration": 96,
    "start_time": "2023-02-28T08:51:19.877Z"
   },
   {
    "duration": 1045,
    "start_time": "2023-02-28T08:51:49.855Z"
   },
   {
    "duration": 102,
    "start_time": "2023-02-28T08:52:07.419Z"
   },
   {
    "duration": 3,
    "start_time": "2023-02-28T08:53:06.006Z"
   },
   {
    "duration": 110,
    "start_time": "2023-02-28T08:53:07.411Z"
   },
   {
    "duration": 60,
    "start_time": "2023-02-28T08:53:26.853Z"
   },
   {
    "duration": 3,
    "start_time": "2023-02-28T08:53:36.856Z"
   },
   {
    "duration": 32,
    "start_time": "2023-02-28T08:53:38.540Z"
   },
   {
    "duration": 3,
    "start_time": "2023-02-28T08:53:56.378Z"
   },
   {
    "duration": 119,
    "start_time": "2023-02-28T08:53:58.230Z"
   },
   {
    "duration": 3,
    "start_time": "2023-02-28T08:54:14.829Z"
   },
   {
    "duration": 21,
    "start_time": "2023-02-28T08:54:16.211Z"
   },
   {
    "duration": 3,
    "start_time": "2023-02-28T08:54:30.052Z"
   },
   {
    "duration": 109,
    "start_time": "2023-02-28T08:54:32.431Z"
   },
   {
    "duration": 132,
    "start_time": "2023-02-28T08:54:49.901Z"
   },
   {
    "duration": 116,
    "start_time": "2023-02-28T08:55:28.333Z"
   },
   {
    "duration": 108,
    "start_time": "2023-02-28T08:55:34.660Z"
   },
   {
    "duration": 3,
    "start_time": "2023-02-28T08:56:23.274Z"
   },
   {
    "duration": 119,
    "start_time": "2023-02-28T08:56:24.715Z"
   },
   {
    "duration": 3,
    "start_time": "2023-02-28T08:56:50.688Z"
   },
   {
    "duration": 124,
    "start_time": "2023-02-28T08:56:51.921Z"
   },
   {
    "duration": 9,
    "start_time": "2023-02-28T09:02:19.791Z"
   },
   {
    "duration": 57,
    "start_time": "2023-02-28T09:02:35.172Z"
   },
   {
    "duration": 1099,
    "start_time": "2023-02-28T09:02:44.395Z"
   },
   {
    "duration": 3246,
    "start_time": "2023-02-28T09:02:45.497Z"
   },
   {
    "duration": 21,
    "start_time": "2023-02-28T09:02:48.745Z"
   },
   {
    "duration": 3,
    "start_time": "2023-02-28T09:02:48.768Z"
   },
   {
    "duration": 9,
    "start_time": "2023-02-28T09:02:48.773Z"
   },
   {
    "duration": 105,
    "start_time": "2023-02-28T09:02:48.784Z"
   },
   {
    "duration": 4,
    "start_time": "2023-02-28T09:04:37.015Z"
   },
   {
    "duration": 85,
    "start_time": "2023-02-28T09:04:39.746Z"
   },
   {
    "duration": 74,
    "start_time": "2023-02-28T09:05:18.722Z"
   },
   {
    "duration": 37,
    "start_time": "2023-02-28T09:05:22.563Z"
   },
   {
    "duration": 3,
    "start_time": "2023-02-28T09:06:53.472Z"
   },
   {
    "duration": 36,
    "start_time": "2023-02-28T09:06:54.936Z"
   },
   {
    "duration": 3,
    "start_time": "2023-02-28T09:07:24.944Z"
   },
   {
    "duration": 81,
    "start_time": "2023-02-28T09:07:26.669Z"
   },
   {
    "duration": 3,
    "start_time": "2023-02-28T09:07:46.495Z"
   },
   {
    "duration": 98,
    "start_time": "2023-02-28T09:07:47.990Z"
   },
   {
    "duration": 91,
    "start_time": "2023-02-28T09:08:41.694Z"
   },
   {
    "duration": 6,
    "start_time": "2023-02-28T09:08:45.963Z"
   },
   {
    "duration": 3,
    "start_time": "2023-02-28T09:09:00.714Z"
   },
   {
    "duration": 95,
    "start_time": "2023-02-28T09:09:02.068Z"
   },
   {
    "duration": 7,
    "start_time": "2023-02-28T09:09:03.810Z"
   },
   {
    "duration": 16,
    "start_time": "2023-02-28T09:10:08.310Z"
   },
   {
    "duration": 97,
    "start_time": "2023-02-28T09:10:58.889Z"
   },
   {
    "duration": 16,
    "start_time": "2023-02-28T09:11:14.430Z"
   },
   {
    "duration": 12,
    "start_time": "2023-02-28T09:12:26.271Z"
   },
   {
    "duration": 4,
    "start_time": "2023-02-28T09:12:43.398Z"
   },
   {
    "duration": 79,
    "start_time": "2023-02-28T09:12:45.103Z"
   },
   {
    "duration": 10,
    "start_time": "2023-02-28T09:12:47.406Z"
   },
   {
    "duration": 12,
    "start_time": "2023-02-28T09:14:55.745Z"
   },
   {
    "duration": 9,
    "start_time": "2023-02-28T09:15:09.118Z"
   },
   {
    "duration": 6,
    "start_time": "2023-02-28T09:15:18.006Z"
   },
   {
    "duration": 5,
    "start_time": "2023-02-28T09:15:27.486Z"
   },
   {
    "duration": 8,
    "start_time": "2023-02-28T09:15:50.633Z"
   },
   {
    "duration": 4,
    "start_time": "2023-02-28T09:16:06.734Z"
   },
   {
    "duration": 105,
    "start_time": "2023-02-28T09:16:07.878Z"
   },
   {
    "duration": 10,
    "start_time": "2023-02-28T09:16:10.265Z"
   },
   {
    "duration": 5,
    "start_time": "2023-02-28T09:16:13.162Z"
   },
   {
    "duration": 6,
    "start_time": "2023-02-28T09:16:15.084Z"
   },
   {
    "duration": 10,
    "start_time": "2023-02-28T09:17:57.126Z"
   },
   {
    "duration": 6,
    "start_time": "2023-02-28T09:18:14.721Z"
   },
   {
    "duration": 3,
    "start_time": "2023-02-28T09:19:19.239Z"
   },
   {
    "duration": 37,
    "start_time": "2023-02-28T09:19:20.462Z"
   },
   {
    "duration": 4,
    "start_time": "2023-02-28T09:19:47.663Z"
   },
   {
    "duration": 92,
    "start_time": "2023-02-28T09:19:49.462Z"
   },
   {
    "duration": 11,
    "start_time": "2023-02-28T09:19:51.188Z"
   },
   {
    "duration": 5,
    "start_time": "2023-02-28T09:19:53.133Z"
   },
   {
    "duration": 3,
    "start_time": "2023-02-28T09:20:41.486Z"
   },
   {
    "duration": 97,
    "start_time": "2023-02-28T09:20:42.585Z"
   },
   {
    "duration": 35,
    "start_time": "2023-02-28T09:23:32.271Z"
   },
   {
    "duration": 8,
    "start_time": "2023-02-28T09:23:46.127Z"
   },
   {
    "duration": 3,
    "start_time": "2023-02-28T09:25:33.316Z"
   },
   {
    "duration": 11,
    "start_time": "2023-02-28T09:26:15.985Z"
   },
   {
    "duration": 3,
    "start_time": "2023-02-28T09:29:48.579Z"
   },
   {
    "duration": 6,
    "start_time": "2023-02-28T09:29:55.486Z"
   },
   {
    "duration": 36,
    "start_time": "2023-02-28T09:36:04.947Z"
   },
   {
    "duration": 9,
    "start_time": "2023-02-28T09:36:12.262Z"
   },
   {
    "duration": 14,
    "start_time": "2023-02-28T09:36:26.093Z"
   },
   {
    "duration": 18,
    "start_time": "2023-02-28T09:36:31.861Z"
   },
   {
    "duration": 17,
    "start_time": "2023-02-28T09:36:48.661Z"
   },
   {
    "duration": 4,
    "start_time": "2023-02-28T09:36:53.159Z"
   },
   {
    "duration": 737,
    "start_time": "2023-02-28T09:36:53.165Z"
   },
   {
    "duration": 19,
    "start_time": "2023-02-28T09:36:53.904Z"
   },
   {
    "duration": 18,
    "start_time": "2023-02-28T09:36:53.926Z"
   },
   {
    "duration": 107,
    "start_time": "2023-02-28T09:36:53.947Z"
   },
   {
    "duration": 16,
    "start_time": "2023-02-28T09:36:54.057Z"
   },
   {
    "duration": 17,
    "start_time": "2023-02-28T09:36:54.075Z"
   },
   {
    "duration": 27,
    "start_time": "2023-02-28T09:36:54.095Z"
   },
   {
    "duration": 24,
    "start_time": "2023-02-28T09:36:54.124Z"
   },
   {
    "duration": 9,
    "start_time": "2023-02-28T09:39:22.671Z"
   },
   {
    "duration": 40,
    "start_time": "2023-02-28T09:42:17.604Z"
   },
   {
    "duration": 4,
    "start_time": "2023-02-28T09:42:33.346Z"
   },
   {
    "duration": 64,
    "start_time": "2023-02-28T09:45:03.306Z"
   },
   {
    "duration": 53,
    "start_time": "2023-02-28T09:45:38.461Z"
   },
   {
    "duration": 4085,
    "start_time": "2023-02-28T09:46:29.860Z"
   },
   {
    "duration": 12,
    "start_time": "2023-02-28T09:46:42.823Z"
   },
   {
    "duration": 6,
    "start_time": "2023-02-28T09:46:56.191Z"
   },
   {
    "duration": 2,
    "start_time": "2023-02-28T09:50:31.117Z"
   },
   {
    "duration": 724,
    "start_time": "2023-02-28T09:50:31.122Z"
   },
   {
    "duration": 17,
    "start_time": "2023-02-28T09:50:31.848Z"
   },
   {
    "duration": 28,
    "start_time": "2023-02-28T09:50:31.868Z"
   },
   {
    "duration": 176,
    "start_time": "2023-02-28T09:50:31.898Z"
   },
   {
    "duration": 10,
    "start_time": "2023-02-28T09:50:32.076Z"
   },
   {
    "duration": 33,
    "start_time": "2023-02-28T09:50:32.088Z"
   },
   {
    "duration": 45,
    "start_time": "2023-02-28T09:50:32.123Z"
   },
   {
    "duration": 41,
    "start_time": "2023-02-28T09:50:32.170Z"
   },
   {
    "duration": 41,
    "start_time": "2023-02-28T09:50:32.216Z"
   },
   {
    "duration": 39,
    "start_time": "2023-02-28T09:50:32.259Z"
   },
   {
    "duration": 38,
    "start_time": "2023-02-28T09:50:32.300Z"
   },
   {
    "duration": 3919,
    "start_time": "2023-02-28T09:50:55.405Z"
   },
   {
    "duration": 31,
    "start_time": "2023-02-28T09:51:01.175Z"
   },
   {
    "duration": 307,
    "start_time": "2023-02-28T09:53:28.058Z"
   },
   {
    "duration": 8,
    "start_time": "2023-02-28T09:54:10.566Z"
   },
   {
    "duration": 8,
    "start_time": "2023-02-28T09:54:24.126Z"
   },
   {
    "duration": 4,
    "start_time": "2023-02-28T10:00:39.531Z"
   },
   {
    "duration": 791,
    "start_time": "2023-02-28T10:00:39.539Z"
   },
   {
    "duration": 28,
    "start_time": "2023-02-28T10:00:40.332Z"
   },
   {
    "duration": 5,
    "start_time": "2023-02-28T10:00:40.362Z"
   },
   {
    "duration": 170,
    "start_time": "2023-02-28T10:00:40.370Z"
   },
   {
    "duration": 20,
    "start_time": "2023-02-28T10:00:40.542Z"
   },
   {
    "duration": 7,
    "start_time": "2023-02-28T10:00:40.564Z"
   },
   {
    "duration": 20,
    "start_time": "2023-02-28T10:00:40.574Z"
   },
   {
    "duration": 27,
    "start_time": "2023-02-28T10:00:40.597Z"
   },
   {
    "duration": 40,
    "start_time": "2023-02-28T10:00:40.629Z"
   },
   {
    "duration": 12,
    "start_time": "2023-02-28T10:00:40.671Z"
   },
   {
    "duration": 7831,
    "start_time": "2023-02-28T10:00:40.685Z"
   },
   {
    "duration": 9,
    "start_time": "2023-02-28T10:00:48.518Z"
   },
   {
    "duration": 461,
    "start_time": "2023-02-28T10:00:48.532Z"
   },
   {
    "duration": 16,
    "start_time": "2023-02-28T10:00:48.996Z"
   },
   {
    "duration": 4017,
    "start_time": "2023-02-28T10:01:18.726Z"
   },
   {
    "duration": 9,
    "start_time": "2023-02-28T10:01:22.745Z"
   },
   {
    "duration": 9,
    "start_time": "2023-02-28T10:01:28.297Z"
   },
   {
    "duration": 15,
    "start_time": "2023-02-28T10:02:11.948Z"
   },
   {
    "duration": 5,
    "start_time": "2023-02-28T10:02:17.727Z"
   },
   {
    "duration": 6,
    "start_time": "2023-02-28T10:02:28.470Z"
   },
   {
    "duration": 20,
    "start_time": "2023-02-28T10:23:26.011Z"
   },
   {
    "duration": 14,
    "start_time": "2023-02-28T10:27:09.571Z"
   },
   {
    "duration": 4,
    "start_time": "2023-02-28T10:27:38.568Z"
   },
   {
    "duration": 639,
    "start_time": "2023-02-28T10:27:38.574Z"
   },
   {
    "duration": 16,
    "start_time": "2023-02-28T10:27:39.215Z"
   },
   {
    "duration": 14,
    "start_time": "2023-02-28T10:27:39.234Z"
   },
   {
    "duration": 142,
    "start_time": "2023-02-28T10:27:39.250Z"
   },
   {
    "duration": 10,
    "start_time": "2023-02-28T10:27:39.395Z"
   },
   {
    "duration": 7,
    "start_time": "2023-02-28T10:27:39.407Z"
   },
   {
    "duration": 10,
    "start_time": "2023-02-28T10:27:39.415Z"
   },
   {
    "duration": 22,
    "start_time": "2023-02-28T10:27:39.427Z"
   },
   {
    "duration": 4,
    "start_time": "2023-02-28T10:27:39.452Z"
   },
   {
    "duration": 20,
    "start_time": "2023-02-28T10:27:39.457Z"
   },
   {
    "duration": 0,
    "start_time": "2023-02-28T10:27:39.479Z"
   },
   {
    "duration": 0,
    "start_time": "2023-02-28T10:27:39.480Z"
   },
   {
    "duration": 0,
    "start_time": "2023-02-28T10:27:39.481Z"
   },
   {
    "duration": 0,
    "start_time": "2023-02-28T10:27:39.483Z"
   },
   {
    "duration": 0,
    "start_time": "2023-02-28T10:27:39.483Z"
   },
   {
    "duration": 0,
    "start_time": "2023-02-28T10:27:39.486Z"
   },
   {
    "duration": 0,
    "start_time": "2023-02-28T10:27:39.488Z"
   },
   {
    "duration": 28,
    "start_time": "2023-02-28T10:27:59.196Z"
   },
   {
    "duration": 3,
    "start_time": "2023-02-28T10:28:01.190Z"
   },
   {
    "duration": 652,
    "start_time": "2023-02-28T10:28:01.195Z"
   },
   {
    "duration": 16,
    "start_time": "2023-02-28T10:28:01.849Z"
   },
   {
    "duration": 39,
    "start_time": "2023-02-28T10:28:01.867Z"
   },
   {
    "duration": 132,
    "start_time": "2023-02-28T10:28:01.909Z"
   },
   {
    "duration": 21,
    "start_time": "2023-02-28T10:28:02.043Z"
   },
   {
    "duration": 23,
    "start_time": "2023-02-28T10:28:02.067Z"
   },
   {
    "duration": 53,
    "start_time": "2023-02-28T10:28:02.092Z"
   },
   {
    "duration": 42,
    "start_time": "2023-02-28T10:28:02.147Z"
   },
   {
    "duration": 21,
    "start_time": "2023-02-28T10:28:02.191Z"
   },
   {
    "duration": 50,
    "start_time": "2023-02-28T10:28:02.215Z"
   },
   {
    "duration": 0,
    "start_time": "2023-02-28T10:28:02.267Z"
   },
   {
    "duration": 0,
    "start_time": "2023-02-28T10:28:02.269Z"
   },
   {
    "duration": 0,
    "start_time": "2023-02-28T10:28:02.270Z"
   },
   {
    "duration": 0,
    "start_time": "2023-02-28T10:28:02.272Z"
   },
   {
    "duration": 0,
    "start_time": "2023-02-28T10:28:02.274Z"
   },
   {
    "duration": 0,
    "start_time": "2023-02-28T10:28:02.275Z"
   },
   {
    "duration": 0,
    "start_time": "2023-02-28T10:28:02.276Z"
   },
   {
    "duration": 20,
    "start_time": "2023-02-28T10:29:46.828Z"
   },
   {
    "duration": 4,
    "start_time": "2023-02-28T10:29:49.704Z"
   },
   {
    "duration": 900,
    "start_time": "2023-02-28T10:29:49.711Z"
   },
   {
    "duration": 24,
    "start_time": "2023-02-28T10:29:50.614Z"
   },
   {
    "duration": 4,
    "start_time": "2023-02-28T10:29:50.648Z"
   },
   {
    "duration": 158,
    "start_time": "2023-02-28T10:29:50.655Z"
   },
   {
    "duration": 10,
    "start_time": "2023-02-28T10:29:50.815Z"
   },
   {
    "duration": 37,
    "start_time": "2023-02-28T10:29:50.826Z"
   },
   {
    "duration": 34,
    "start_time": "2023-02-28T10:29:50.865Z"
   },
   {
    "duration": 24,
    "start_time": "2023-02-28T10:29:50.901Z"
   },
   {
    "duration": 34,
    "start_time": "2023-02-28T10:29:50.927Z"
   },
   {
    "duration": 41,
    "start_time": "2023-02-28T10:29:50.963Z"
   },
   {
    "duration": 0,
    "start_time": "2023-02-28T10:29:51.007Z"
   },
   {
    "duration": 0,
    "start_time": "2023-02-28T10:29:51.009Z"
   },
   {
    "duration": 0,
    "start_time": "2023-02-28T10:29:51.010Z"
   },
   {
    "duration": 0,
    "start_time": "2023-02-28T10:29:51.012Z"
   },
   {
    "duration": 0,
    "start_time": "2023-02-28T10:29:51.013Z"
   },
   {
    "duration": 0,
    "start_time": "2023-02-28T10:29:51.014Z"
   },
   {
    "duration": 0,
    "start_time": "2023-02-28T10:29:51.016Z"
   },
   {
    "duration": 13,
    "start_time": "2023-02-28T10:30:47.155Z"
   },
   {
    "duration": 17,
    "start_time": "2023-02-28T10:32:12.046Z"
   },
   {
    "duration": 34,
    "start_time": "2023-02-28T10:32:21.142Z"
   },
   {
    "duration": 23,
    "start_time": "2023-02-28T10:32:36.811Z"
   },
   {
    "duration": 26,
    "start_time": "2023-02-28T10:32:42.867Z"
   },
   {
    "duration": 28,
    "start_time": "2023-02-28T10:33:02.270Z"
   },
   {
    "duration": 9,
    "start_time": "2023-02-28T10:33:13.997Z"
   },
   {
    "duration": 19,
    "start_time": "2023-02-28T10:33:18.488Z"
   },
   {
    "duration": 7,
    "start_time": "2023-02-28T10:33:33.061Z"
   },
   {
    "duration": 667,
    "start_time": "2023-02-28T10:33:33.071Z"
   },
   {
    "duration": 27,
    "start_time": "2023-02-28T10:33:33.739Z"
   },
   {
    "duration": 3,
    "start_time": "2023-02-28T10:33:33.769Z"
   },
   {
    "duration": 157,
    "start_time": "2023-02-28T10:33:33.774Z"
   },
   {
    "duration": 23,
    "start_time": "2023-02-28T10:33:33.933Z"
   },
   {
    "duration": 129,
    "start_time": "2023-02-28T10:33:33.958Z"
   },
   {
    "duration": 19,
    "start_time": "2023-02-28T10:33:34.089Z"
   },
   {
    "duration": 24,
    "start_time": "2023-02-28T10:33:34.110Z"
   },
   {
    "duration": 17,
    "start_time": "2023-02-28T10:33:34.137Z"
   },
   {
    "duration": 24,
    "start_time": "2023-02-28T10:33:34.156Z"
   },
   {
    "duration": 30,
    "start_time": "2023-02-28T10:33:34.185Z"
   },
   {
    "duration": 4,
    "start_time": "2023-02-28T10:33:34.217Z"
   },
   {
    "duration": 18,
    "start_time": "2023-02-28T10:33:34.223Z"
   },
   {
    "duration": 13,
    "start_time": "2023-02-28T10:33:34.243Z"
   },
   {
    "duration": 14,
    "start_time": "2023-02-28T10:33:34.259Z"
   },
   {
    "duration": 11,
    "start_time": "2023-02-28T10:33:34.275Z"
   },
   {
    "duration": 12,
    "start_time": "2023-02-28T10:33:34.288Z"
   },
   {
    "duration": 12,
    "start_time": "2023-02-28T10:33:34.302Z"
   },
   {
    "duration": 7,
    "start_time": "2023-02-28T10:39:33.276Z"
   },
   {
    "duration": 12,
    "start_time": "2023-02-28T10:40:01.543Z"
   },
   {
    "duration": 10,
    "start_time": "2023-02-28T10:40:26.198Z"
   },
   {
    "duration": 10,
    "start_time": "2023-02-28T10:40:43.709Z"
   },
   {
    "duration": 12,
    "start_time": "2023-02-28T10:40:58.943Z"
   },
   {
    "duration": 11,
    "start_time": "2023-02-28T10:41:21.351Z"
   },
   {
    "duration": 14,
    "start_time": "2023-02-28T10:41:31.798Z"
   },
   {
    "duration": 15,
    "start_time": "2023-02-28T10:41:44.838Z"
   },
   {
    "duration": 13,
    "start_time": "2023-02-28T10:41:55.930Z"
   },
   {
    "duration": 11,
    "start_time": "2023-02-28T10:42:08.531Z"
   },
   {
    "duration": 14,
    "start_time": "2023-02-28T10:42:33.456Z"
   },
   {
    "duration": 14,
    "start_time": "2023-02-28T10:42:39.951Z"
   },
   {
    "duration": 13,
    "start_time": "2023-02-28T10:42:52.204Z"
   },
   {
    "duration": 13,
    "start_time": "2023-02-28T10:42:56.789Z"
   },
   {
    "duration": 13,
    "start_time": "2023-02-28T10:43:04.176Z"
   },
   {
    "duration": 12,
    "start_time": "2023-02-28T10:43:16.960Z"
   },
   {
    "duration": 11,
    "start_time": "2023-02-28T10:43:23.075Z"
   },
   {
    "duration": 13,
    "start_time": "2023-02-28T10:43:43.134Z"
   },
   {
    "duration": 11,
    "start_time": "2023-02-28T10:43:50.849Z"
   },
   {
    "duration": 12,
    "start_time": "2023-02-28T10:43:56.100Z"
   },
   {
    "duration": 6,
    "start_time": "2023-02-28T10:47:38.224Z"
   },
   {
    "duration": 6,
    "start_time": "2023-02-28T10:47:45.504Z"
   },
   {
    "duration": 12,
    "start_time": "2023-02-28T10:49:05.692Z"
   },
   {
    "duration": 62,
    "start_time": "2023-02-28T10:50:17.745Z"
   },
   {
    "duration": 5,
    "start_time": "2023-02-28T10:50:36.892Z"
   },
   {
    "duration": 3,
    "start_time": "2023-02-28T10:52:25.013Z"
   },
   {
    "duration": 665,
    "start_time": "2023-02-28T10:52:25.017Z"
   },
   {
    "duration": 75,
    "start_time": "2023-02-28T10:52:25.684Z"
   },
   {
    "duration": 3,
    "start_time": "2023-02-28T10:52:25.760Z"
   },
   {
    "duration": 98,
    "start_time": "2023-02-28T10:52:25.765Z"
   },
   {
    "duration": 10,
    "start_time": "2023-02-28T10:52:25.865Z"
   },
   {
    "duration": 5,
    "start_time": "2023-02-28T10:52:25.876Z"
   },
   {
    "duration": 10,
    "start_time": "2023-02-28T10:52:25.883Z"
   },
   {
    "duration": 26,
    "start_time": "2023-02-28T10:52:25.897Z"
   },
   {
    "duration": 4,
    "start_time": "2023-02-28T10:52:25.924Z"
   },
   {
    "duration": 18,
    "start_time": "2023-02-28T10:52:25.929Z"
   },
   {
    "duration": 12,
    "start_time": "2023-02-28T10:52:25.949Z"
   },
   {
    "duration": 9,
    "start_time": "2023-02-28T10:52:25.963Z"
   },
   {
    "duration": 19,
    "start_time": "2023-02-28T10:52:25.974Z"
   },
   {
    "duration": 7,
    "start_time": "2023-02-28T10:52:25.994Z"
   },
   {
    "duration": 3583,
    "start_time": "2023-02-28T10:52:26.003Z"
   },
   {
    "duration": 6,
    "start_time": "2023-02-28T10:52:29.588Z"
   },
   {
    "duration": 274,
    "start_time": "2023-02-28T10:52:29.595Z"
   },
   {
    "duration": 6,
    "start_time": "2023-02-28T10:52:29.871Z"
   },
   {
    "duration": 1133,
    "start_time": "2023-03-01T10:52:19.643Z"
   },
   {
    "duration": 1771,
    "start_time": "2023-03-01T10:52:20.780Z"
   },
   {
    "duration": 24,
    "start_time": "2023-03-01T10:52:22.553Z"
   },
   {
    "duration": 3,
    "start_time": "2023-03-01T10:52:22.579Z"
   },
   {
    "duration": 114,
    "start_time": "2023-03-01T10:52:22.584Z"
   },
   {
    "duration": 14,
    "start_time": "2023-03-01T10:52:22.699Z"
   },
   {
    "duration": 4,
    "start_time": "2023-03-01T10:52:22.715Z"
   },
   {
    "duration": 10,
    "start_time": "2023-03-01T10:52:22.720Z"
   },
   {
    "duration": 106,
    "start_time": "2023-03-01T10:53:19.121Z"
   },
   {
    "duration": 8,
    "start_time": "2023-03-01T10:53:27.463Z"
   },
   {
    "duration": 11,
    "start_time": "2023-03-01T10:53:36.350Z"
   },
   {
    "duration": 12,
    "start_time": "2023-03-01T10:54:31.931Z"
   },
   {
    "duration": 12,
    "start_time": "2023-03-01T10:55:18.612Z"
   },
   {
    "duration": 5,
    "start_time": "2023-03-01T10:55:20.157Z"
   },
   {
    "duration": 5,
    "start_time": "2023-03-01T10:55:22.110Z"
   },
   {
    "duration": 12,
    "start_time": "2023-03-01T10:55:27.407Z"
   },
   {
    "duration": 5,
    "start_time": "2023-03-01T10:55:28.642Z"
   },
   {
    "duration": 3,
    "start_time": "2023-03-01T10:56:57.291Z"
   },
   {
    "duration": 733,
    "start_time": "2023-03-01T10:56:57.296Z"
   },
   {
    "duration": 16,
    "start_time": "2023-03-01T10:56:58.030Z"
   },
   {
    "duration": 2,
    "start_time": "2023-03-01T10:56:58.048Z"
   },
   {
    "duration": 111,
    "start_time": "2023-03-01T10:56:58.052Z"
   },
   {
    "duration": 9,
    "start_time": "2023-03-01T10:56:58.164Z"
   },
   {
    "duration": 5,
    "start_time": "2023-03-01T10:56:58.185Z"
   },
   {
    "duration": 6,
    "start_time": "2023-03-01T10:56:58.191Z"
   },
   {
    "duration": 14,
    "start_time": "2023-03-01T10:56:58.199Z"
   },
   {
    "duration": 6,
    "start_time": "2023-03-01T10:56:58.214Z"
   },
   {
    "duration": 10,
    "start_time": "2023-03-01T10:56:58.222Z"
   },
   {
    "duration": 2912,
    "start_time": "2023-03-01T10:56:58.233Z"
   },
   {
    "duration": 6,
    "start_time": "2023-03-01T10:57:01.147Z"
   },
   {
    "duration": 243,
    "start_time": "2023-03-01T10:57:01.155Z"
   },
   {
    "duration": 6,
    "start_time": "2023-03-01T10:57:01.399Z"
   },
   {
    "duration": 18,
    "start_time": "2023-03-01T11:05:49.352Z"
   },
   {
    "duration": 6,
    "start_time": "2023-03-01T11:09:27.617Z"
   },
   {
    "duration": 4,
    "start_time": "2023-03-01T11:10:33.056Z"
   },
   {
    "duration": 5,
    "start_time": "2023-03-01T11:10:34.987Z"
   },
   {
    "duration": 5,
    "start_time": "2023-03-01T11:10:44.181Z"
   },
   {
    "duration": 5,
    "start_time": "2023-03-01T11:13:29.266Z"
   },
   {
    "duration": 6,
    "start_time": "2023-03-01T11:13:57.300Z"
   },
   {
    "duration": 4,
    "start_time": "2023-03-01T11:17:56.138Z"
   },
   {
    "duration": 1328,
    "start_time": "2023-03-01T11:19:30.564Z"
   },
   {
    "duration": 5,
    "start_time": "2023-03-01T11:24:16.389Z"
   },
   {
    "duration": 505,
    "start_time": "2023-03-01T11:25:22.837Z"
   },
   {
    "duration": 295,
    "start_time": "2023-03-01T11:26:27.685Z"
   },
   {
    "duration": 317,
    "start_time": "2023-03-01T11:26:48.697Z"
   },
   {
    "duration": 332,
    "start_time": "2023-03-01T11:26:55.628Z"
   },
   {
    "duration": 240,
    "start_time": "2023-03-01T11:27:01.437Z"
   },
   {
    "duration": 191,
    "start_time": "2023-03-01T11:27:05.815Z"
   },
   {
    "duration": 242,
    "start_time": "2023-03-01T11:27:14.985Z"
   },
   {
    "duration": 286,
    "start_time": "2023-03-01T11:27:20.611Z"
   },
   {
    "duration": 195,
    "start_time": "2023-03-01T11:27:35.091Z"
   },
   {
    "duration": 288,
    "start_time": "2023-03-01T11:28:25.004Z"
   },
   {
    "duration": 287,
    "start_time": "2023-03-01T11:29:29.291Z"
   },
   {
    "duration": 318,
    "start_time": "2023-03-01T11:30:16.696Z"
   },
   {
    "duration": 288,
    "start_time": "2023-03-01T11:34:07.694Z"
   },
   {
    "duration": 394,
    "start_time": "2023-03-01T11:34:30.712Z"
   },
   {
    "duration": 290,
    "start_time": "2023-03-01T11:34:38.048Z"
   },
   {
    "duration": 469,
    "start_time": "2023-03-01T11:34:58.841Z"
   },
   {
    "duration": 468,
    "start_time": "2023-03-01T11:36:12.921Z"
   },
   {
    "duration": 3,
    "start_time": "2023-03-01T11:36:37.294Z"
   },
   {
    "duration": 597,
    "start_time": "2023-03-01T11:37:08.568Z"
   },
   {
    "duration": 514,
    "start_time": "2023-03-01T11:37:30.950Z"
   },
   {
    "duration": 392,
    "start_time": "2023-03-01T11:37:50.456Z"
   },
   {
    "duration": 419,
    "start_time": "2023-03-01T11:38:02.646Z"
   },
   {
    "duration": 524,
    "start_time": "2023-03-01T11:38:08.730Z"
   },
   {
    "duration": 3,
    "start_time": "2023-03-01T11:40:11.513Z"
   },
   {
    "duration": 3,
    "start_time": "2023-03-01T11:40:20.646Z"
   },
   {
    "duration": 786,
    "start_time": "2023-03-01T11:42:12.340Z"
   },
   {
    "duration": 956,
    "start_time": "2023-03-01T11:43:41.127Z"
   },
   {
    "duration": 1082,
    "start_time": "2023-03-01T11:45:57.773Z"
   },
   {
    "duration": 1104,
    "start_time": "2023-03-01T11:46:12.318Z"
   },
   {
    "duration": 4,
    "start_time": "2023-03-01T11:46:57.826Z"
   },
   {
    "duration": 678,
    "start_time": "2023-03-01T11:46:57.832Z"
   },
   {
    "duration": 19,
    "start_time": "2023-03-01T11:46:58.512Z"
   },
   {
    "duration": 3,
    "start_time": "2023-03-01T11:46:58.533Z"
   },
   {
    "duration": 126,
    "start_time": "2023-03-01T11:46:58.537Z"
   },
   {
    "duration": 8,
    "start_time": "2023-03-01T11:46:58.665Z"
   },
   {
    "duration": 12,
    "start_time": "2023-03-01T11:46:58.675Z"
   },
   {
    "duration": 3,
    "start_time": "2023-03-01T11:46:58.688Z"
   },
   {
    "duration": 12,
    "start_time": "2023-03-01T11:46:58.692Z"
   },
   {
    "duration": 4,
    "start_time": "2023-03-01T11:46:58.707Z"
   },
   {
    "duration": 12,
    "start_time": "2023-03-01T11:46:58.712Z"
   },
   {
    "duration": 2990,
    "start_time": "2023-03-01T11:46:58.726Z"
   },
   {
    "duration": 6,
    "start_time": "2023-03-01T11:47:01.718Z"
   },
   {
    "duration": 271,
    "start_time": "2023-03-01T11:47:01.726Z"
   },
   {
    "duration": 6,
    "start_time": "2023-03-01T11:47:01.999Z"
   },
   {
    "duration": 41,
    "start_time": "2023-03-01T11:47:02.006Z"
   },
   {
    "duration": 9,
    "start_time": "2023-03-01T11:47:02.049Z"
   },
   {
    "duration": 25,
    "start_time": "2023-03-01T11:47:02.060Z"
   },
   {
    "duration": 36,
    "start_time": "2023-03-01T11:47:02.086Z"
   },
   {
    "duration": 43,
    "start_time": "2023-03-01T11:47:02.124Z"
   },
   {
    "duration": 1009,
    "start_time": "2023-03-01T11:47:02.169Z"
   },
   {
    "duration": 11,
    "start_time": "2023-03-01T11:51:39.769Z"
   },
   {
    "duration": 11,
    "start_time": "2023-03-01T11:51:44.427Z"
   },
   {
    "duration": 11,
    "start_time": "2023-03-01T11:51:49.495Z"
   },
   {
    "duration": 12,
    "start_time": "2023-03-01T11:51:55.783Z"
   },
   {
    "duration": 48,
    "start_time": "2023-03-01T11:51:59.999Z"
   },
   {
    "duration": 17,
    "start_time": "2023-03-01T11:52:07.704Z"
   },
   {
    "duration": 851,
    "start_time": "2023-03-01T11:52:11.676Z"
   },
   {
    "duration": 255,
    "start_time": "2023-03-01T11:52:23.876Z"
   },
   {
    "duration": 935,
    "start_time": "2023-03-01T11:52:25.382Z"
   },
   {
    "duration": 4,
    "start_time": "2023-03-01T11:58:34.550Z"
   },
   {
    "duration": 4,
    "start_time": "2023-03-01T11:59:45.219Z"
   },
   {
    "duration": 1102,
    "start_time": "2023-03-01T11:59:56.317Z"
   },
   {
    "duration": 8,
    "start_time": "2023-03-01T12:00:36.538Z"
   },
   {
    "duration": 14,
    "start_time": "2023-03-01T12:00:45.408Z"
   },
   {
    "duration": 4,
    "start_time": "2023-03-01T12:01:20.264Z"
   },
   {
    "duration": 1251,
    "start_time": "2023-03-01T12:01:22.552Z"
   },
   {
    "duration": 5,
    "start_time": "2023-03-01T12:02:55.685Z"
   },
   {
    "duration": 1142,
    "start_time": "2023-03-01T12:02:58.570Z"
   },
   {
    "duration": 4,
    "start_time": "2023-03-01T12:04:30.403Z"
   },
   {
    "duration": 657,
    "start_time": "2023-03-01T12:04:30.410Z"
   },
   {
    "duration": 23,
    "start_time": "2023-03-01T12:04:31.068Z"
   },
   {
    "duration": 6,
    "start_time": "2023-03-01T12:04:31.093Z"
   },
   {
    "duration": 122,
    "start_time": "2023-03-01T12:04:31.101Z"
   },
   {
    "duration": 8,
    "start_time": "2023-03-01T12:04:31.224Z"
   },
   {
    "duration": 33,
    "start_time": "2023-03-01T12:04:31.234Z"
   },
   {
    "duration": 46,
    "start_time": "2023-03-01T12:04:31.268Z"
   },
   {
    "duration": 34,
    "start_time": "2023-03-01T12:04:31.315Z"
   },
   {
    "duration": 49,
    "start_time": "2023-03-01T12:04:31.351Z"
   },
   {
    "duration": 33,
    "start_time": "2023-03-01T12:04:31.402Z"
   },
   {
    "duration": 9033,
    "start_time": "2023-03-01T12:04:31.438Z"
   },
   {
    "duration": 14,
    "start_time": "2023-03-01T12:04:40.473Z"
   },
   {
    "duration": 515,
    "start_time": "2023-03-01T12:04:40.489Z"
   },
   {
    "duration": 8,
    "start_time": "2023-03-01T12:04:41.006Z"
   },
   {
    "duration": 29,
    "start_time": "2023-03-01T12:04:41.018Z"
   },
   {
    "duration": 5,
    "start_time": "2023-03-01T12:04:41.048Z"
   },
   {
    "duration": 7,
    "start_time": "2023-03-01T12:04:41.054Z"
   },
   {
    "duration": 26,
    "start_time": "2023-03-01T12:04:41.063Z"
   },
   {
    "duration": 11,
    "start_time": "2023-03-01T12:04:41.091Z"
   },
   {
    "duration": 1010,
    "start_time": "2023-03-01T12:04:41.104Z"
   },
   {
    "duration": 73,
    "start_time": "2023-03-01T12:04:42.116Z"
   },
   {
    "duration": 0,
    "start_time": "2023-03-01T12:04:42.190Z"
   },
   {
    "duration": 0,
    "start_time": "2023-03-01T12:04:42.192Z"
   },
   {
    "duration": 0,
    "start_time": "2023-03-01T12:04:42.193Z"
   },
   {
    "duration": 11,
    "start_time": "2023-03-01T12:06:07.817Z"
   },
   {
    "duration": 17,
    "start_time": "2023-03-01T12:06:10.116Z"
   },
   {
    "duration": 7,
    "start_time": "2023-03-01T12:06:48.196Z"
   },
   {
    "duration": 932,
    "start_time": "2023-03-01T12:06:49.975Z"
   },
   {
    "duration": 271,
    "start_time": "2023-03-01T12:07:15.154Z"
   },
   {
    "duration": 824,
    "start_time": "2023-03-01T12:07:22.200Z"
   },
   {
    "duration": 6,
    "start_time": "2023-03-01T12:07:34.153Z"
   },
   {
    "duration": 868,
    "start_time": "2023-03-01T12:07:36.054Z"
   },
   {
    "duration": 29,
    "start_time": "2023-03-01T12:09:23.903Z"
   },
   {
    "duration": 5,
    "start_time": "2023-03-01T12:09:33.635Z"
   },
   {
    "duration": 4,
    "start_time": "2023-03-01T12:09:44.087Z"
   },
   {
    "duration": 14,
    "start_time": "2023-03-01T12:12:18.122Z"
   },
   {
    "duration": 3,
    "start_time": "2023-03-01T12:13:41.556Z"
   },
   {
    "duration": 599,
    "start_time": "2023-03-01T12:13:41.561Z"
   },
   {
    "duration": 16,
    "start_time": "2023-03-01T12:13:42.162Z"
   },
   {
    "duration": 3,
    "start_time": "2023-03-01T12:13:42.187Z"
   },
   {
    "duration": 118,
    "start_time": "2023-03-01T12:13:42.192Z"
   },
   {
    "duration": 9,
    "start_time": "2023-03-01T12:13:42.311Z"
   },
   {
    "duration": 11,
    "start_time": "2023-03-01T12:13:42.322Z"
   },
   {
    "duration": 9,
    "start_time": "2023-03-01T12:13:42.334Z"
   },
   {
    "duration": 16,
    "start_time": "2023-03-01T12:13:42.345Z"
   },
   {
    "duration": 14,
    "start_time": "2023-03-01T12:13:42.362Z"
   },
   {
    "duration": 12,
    "start_time": "2023-03-01T12:13:42.378Z"
   },
   {
    "duration": 8797,
    "start_time": "2023-03-01T12:13:42.391Z"
   },
   {
    "duration": 8,
    "start_time": "2023-03-01T12:13:51.190Z"
   },
   {
    "duration": 208,
    "start_time": "2023-03-01T12:13:51.200Z"
   },
   {
    "duration": 6,
    "start_time": "2023-03-01T12:13:51.410Z"
   },
   {
    "duration": 21,
    "start_time": "2023-03-01T12:13:51.418Z"
   },
   {
    "duration": 6,
    "start_time": "2023-03-01T12:13:51.440Z"
   },
   {
    "duration": 12,
    "start_time": "2023-03-01T12:13:51.447Z"
   },
   {
    "duration": 28,
    "start_time": "2023-03-01T12:13:51.461Z"
   },
   {
    "duration": 9,
    "start_time": "2023-03-01T12:13:51.491Z"
   },
   {
    "duration": 828,
    "start_time": "2023-03-01T12:13:51.502Z"
   },
   {
    "duration": 6,
    "start_time": "2023-03-01T12:13:52.332Z"
   },
   {
    "duration": 24,
    "start_time": "2023-03-01T12:13:52.340Z"
   },
   {
    "duration": 1158,
    "start_time": "2023-03-01T12:13:52.368Z"
   },
   {
    "duration": 10,
    "start_time": "2023-03-01T12:13:53.528Z"
   },
   {
    "duration": 0,
    "start_time": "2023-03-01T12:13:53.541Z"
   },
   {
    "duration": 3,
    "start_time": "2023-03-01T12:14:37.487Z"
   },
   {
    "duration": 600,
    "start_time": "2023-03-01T12:14:37.492Z"
   },
   {
    "duration": 17,
    "start_time": "2023-03-01T12:14:38.094Z"
   },
   {
    "duration": 7,
    "start_time": "2023-03-01T12:14:38.113Z"
   },
   {
    "duration": 150,
    "start_time": "2023-03-01T12:14:38.123Z"
   },
   {
    "duration": 18,
    "start_time": "2023-03-01T12:14:38.275Z"
   },
   {
    "duration": 8,
    "start_time": "2023-03-01T12:14:38.295Z"
   },
   {
    "duration": 18,
    "start_time": "2023-03-01T12:14:38.304Z"
   },
   {
    "duration": 16,
    "start_time": "2023-03-01T12:14:38.323Z"
   },
   {
    "duration": 4,
    "start_time": "2023-03-01T12:14:38.340Z"
   },
   {
    "duration": 12,
    "start_time": "2023-03-01T12:14:38.345Z"
   },
   {
    "duration": 8391,
    "start_time": "2023-03-01T12:14:38.358Z"
   },
   {
    "duration": 10,
    "start_time": "2023-03-01T12:14:46.751Z"
   },
   {
    "duration": 338,
    "start_time": "2023-03-01T12:14:46.765Z"
   },
   {
    "duration": 9,
    "start_time": "2023-03-01T12:14:47.105Z"
   },
   {
    "duration": 46,
    "start_time": "2023-03-01T12:14:47.117Z"
   },
   {
    "duration": 10,
    "start_time": "2023-03-01T12:14:47.165Z"
   },
   {
    "duration": 16,
    "start_time": "2023-03-01T12:14:47.177Z"
   },
   {
    "duration": 15,
    "start_time": "2023-03-01T12:14:47.196Z"
   },
   {
    "duration": 16,
    "start_time": "2023-03-01T12:14:47.213Z"
   },
   {
    "duration": 863,
    "start_time": "2023-03-01T12:14:47.231Z"
   },
   {
    "duration": 12,
    "start_time": "2023-03-01T12:14:48.096Z"
   },
   {
    "duration": 43,
    "start_time": "2023-03-01T12:14:48.109Z"
   },
   {
    "duration": 851,
    "start_time": "2023-03-01T12:14:48.154Z"
   },
   {
    "duration": 8,
    "start_time": "2023-03-01T12:14:49.007Z"
   },
   {
    "duration": 0,
    "start_time": "2023-03-01T12:14:49.017Z"
   },
   {
    "duration": 9,
    "start_time": "2023-03-01T12:14:55.203Z"
   },
   {
    "duration": 4,
    "start_time": "2023-03-01T12:15:00.910Z"
   },
   {
    "duration": 6,
    "start_time": "2023-03-01T12:15:41.921Z"
   },
   {
    "duration": 18,
    "start_time": "2023-03-01T12:15:44.982Z"
   },
   {
    "duration": 3,
    "start_time": "2023-03-01T12:15:51.203Z"
   },
   {
    "duration": 583,
    "start_time": "2023-03-01T12:15:51.208Z"
   },
   {
    "duration": 18,
    "start_time": "2023-03-01T12:15:51.792Z"
   },
   {
    "duration": 3,
    "start_time": "2023-03-01T12:15:51.812Z"
   },
   {
    "duration": 146,
    "start_time": "2023-03-01T12:15:51.817Z"
   },
   {
    "duration": 9,
    "start_time": "2023-03-01T12:15:51.965Z"
   },
   {
    "duration": 5,
    "start_time": "2023-03-01T12:15:51.985Z"
   },
   {
    "duration": 9,
    "start_time": "2023-03-01T12:15:51.991Z"
   },
   {
    "duration": 13,
    "start_time": "2023-03-01T12:15:52.001Z"
   },
   {
    "duration": 3,
    "start_time": "2023-03-01T12:15:52.016Z"
   },
   {
    "duration": 12,
    "start_time": "2023-03-01T12:15:52.021Z"
   },
   {
    "duration": 8880,
    "start_time": "2023-03-01T12:15:52.034Z"
   },
   {
    "duration": 9,
    "start_time": "2023-03-01T12:16:00.916Z"
   },
   {
    "duration": 264,
    "start_time": "2023-03-01T12:16:00.926Z"
   },
   {
    "duration": 30,
    "start_time": "2023-03-01T12:16:01.191Z"
   },
   {
    "duration": 62,
    "start_time": "2023-03-01T12:16:01.223Z"
   },
   {
    "duration": 24,
    "start_time": "2023-03-01T12:16:01.287Z"
   },
   {
    "duration": 67,
    "start_time": "2023-03-01T12:16:01.313Z"
   },
   {
    "duration": 56,
    "start_time": "2023-03-01T12:16:01.382Z"
   },
   {
    "duration": 56,
    "start_time": "2023-03-01T12:16:01.440Z"
   },
   {
    "duration": 1221,
    "start_time": "2023-03-01T12:16:01.497Z"
   },
   {
    "duration": 6,
    "start_time": "2023-03-01T12:16:02.720Z"
   },
   {
    "duration": 55,
    "start_time": "2023-03-01T12:16:02.728Z"
   },
   {
    "duration": 899,
    "start_time": "2023-03-01T12:16:02.784Z"
   },
   {
    "duration": 13,
    "start_time": "2023-03-01T12:16:03.685Z"
   },
   {
    "duration": 9,
    "start_time": "2023-03-01T12:16:25.211Z"
   },
   {
    "duration": 4,
    "start_time": "2023-03-01T12:16:37.295Z"
   },
   {
    "duration": 11,
    "start_time": "2023-03-01T12:27:41.391Z"
   },
   {
    "duration": 16,
    "start_time": "2023-03-01T12:28:50.921Z"
   },
   {
    "duration": 26,
    "start_time": "2023-03-01T12:29:26.061Z"
   },
   {
    "duration": 8,
    "start_time": "2023-03-01T12:29:40.264Z"
   },
   {
    "duration": 27,
    "start_time": "2023-03-01T12:30:26.693Z"
   },
   {
    "duration": 1246,
    "start_time": "2023-03-01T12:31:26.654Z"
   },
   {
    "duration": 12,
    "start_time": "2023-03-01T12:31:48.180Z"
   },
   {
    "duration": 19,
    "start_time": "2023-03-01T12:32:16.705Z"
   },
   {
    "duration": 16,
    "start_time": "2023-03-01T12:39:57.908Z"
   },
   {
    "duration": 12,
    "start_time": "2023-03-01T12:40:19.377Z"
   },
   {
    "duration": 379,
    "start_time": "2023-03-01T12:41:53.563Z"
   },
   {
    "duration": 157,
    "start_time": "2023-03-01T12:44:14.875Z"
   },
   {
    "duration": 393,
    "start_time": "2023-03-01T12:44:29.277Z"
   },
   {
    "duration": 262,
    "start_time": "2023-03-01T12:44:47.911Z"
   },
   {
    "duration": 415,
    "start_time": "2023-03-01T12:45:09.384Z"
   },
   {
    "duration": 271,
    "start_time": "2023-03-01T12:45:32.844Z"
   },
   {
    "duration": 272,
    "start_time": "2023-03-01T12:46:22.980Z"
   },
   {
    "duration": 680,
    "start_time": "2023-03-01T12:47:46.756Z"
   },
   {
    "duration": 261,
    "start_time": "2023-03-01T12:48:11.979Z"
   },
   {
    "duration": 3,
    "start_time": "2023-03-01T12:53:05.235Z"
   },
   {
    "duration": 601,
    "start_time": "2023-03-01T12:53:05.240Z"
   },
   {
    "duration": 16,
    "start_time": "2023-03-01T12:53:05.843Z"
   },
   {
    "duration": 2,
    "start_time": "2023-03-01T12:53:05.861Z"
   },
   {
    "duration": 111,
    "start_time": "2023-03-01T12:53:05.865Z"
   },
   {
    "duration": 10,
    "start_time": "2023-03-01T12:53:05.978Z"
   },
   {
    "duration": 10,
    "start_time": "2023-03-01T12:53:05.990Z"
   },
   {
    "duration": 18,
    "start_time": "2023-03-01T12:53:06.001Z"
   },
   {
    "duration": 8784,
    "start_time": "2023-03-01T12:53:06.021Z"
   },
   {
    "duration": 7,
    "start_time": "2023-03-01T12:53:14.807Z"
   },
   {
    "duration": 286,
    "start_time": "2023-03-01T12:53:14.816Z"
   },
   {
    "duration": 7,
    "start_time": "2023-03-01T12:53:15.103Z"
   },
   {
    "duration": 270,
    "start_time": "2023-03-01T12:53:15.111Z"
   },
   {
    "duration": 5,
    "start_time": "2023-03-01T12:53:15.387Z"
   },
   {
    "duration": 9,
    "start_time": "2023-03-01T12:53:15.393Z"
   },
   {
    "duration": 14,
    "start_time": "2023-03-01T12:53:15.404Z"
   },
   {
    "duration": 7,
    "start_time": "2023-03-01T12:53:15.420Z"
   },
   {
    "duration": 823,
    "start_time": "2023-03-01T12:53:15.429Z"
   },
   {
    "duration": 6,
    "start_time": "2023-03-01T12:53:16.254Z"
   },
   {
    "duration": 920,
    "start_time": "2023-03-01T12:53:16.262Z"
   },
   {
    "duration": 3,
    "start_time": "2023-03-01T12:53:17.185Z"
   },
   {
    "duration": 28,
    "start_time": "2023-03-01T12:53:17.190Z"
   },
   {
    "duration": 4,
    "start_time": "2023-03-01T12:53:17.220Z"
   },
   {
    "duration": 4,
    "start_time": "2023-03-01T12:54:48.199Z"
   },
   {
    "duration": 631,
    "start_time": "2023-03-01T12:54:48.205Z"
   },
   {
    "duration": 17,
    "start_time": "2023-03-01T12:54:48.838Z"
   },
   {
    "duration": 3,
    "start_time": "2023-03-01T12:54:48.856Z"
   },
   {
    "duration": 113,
    "start_time": "2023-03-01T12:54:48.862Z"
   },
   {
    "duration": 15,
    "start_time": "2023-03-01T12:54:48.977Z"
   },
   {
    "duration": 5,
    "start_time": "2023-03-01T12:54:48.994Z"
   },
   {
    "duration": 12,
    "start_time": "2023-03-01T12:54:49.001Z"
   },
   {
    "duration": 11116,
    "start_time": "2023-03-01T12:54:49.014Z"
   },
   {
    "duration": 8,
    "start_time": "2023-03-01T12:55:00.131Z"
   },
   {
    "duration": 260,
    "start_time": "2023-03-01T12:55:00.140Z"
   },
   {
    "duration": 6,
    "start_time": "2023-03-01T12:55:00.402Z"
   },
   {
    "duration": 278,
    "start_time": "2023-03-01T12:55:00.410Z"
   },
   {
    "duration": 5,
    "start_time": "2023-03-01T12:55:00.690Z"
   },
   {
    "duration": 25,
    "start_time": "2023-03-01T12:55:00.697Z"
   },
   {
    "duration": 26,
    "start_time": "2023-03-01T12:55:00.724Z"
   },
   {
    "duration": 36,
    "start_time": "2023-03-01T12:55:00.751Z"
   },
   {
    "duration": 867,
    "start_time": "2023-03-01T12:55:00.788Z"
   },
   {
    "duration": 6,
    "start_time": "2023-03-01T12:55:01.657Z"
   },
   {
    "duration": 1314,
    "start_time": "2023-03-01T12:55:01.665Z"
   },
   {
    "duration": 6,
    "start_time": "2023-03-01T12:55:02.981Z"
   },
   {
    "duration": 22,
    "start_time": "2023-03-01T12:55:02.988Z"
   },
   {
    "duration": 5,
    "start_time": "2023-03-01T12:55:03.012Z"
   },
   {
    "duration": 12,
    "start_time": "2023-03-01T12:58:09.314Z"
   },
   {
    "duration": 1133,
    "start_time": "2023-03-01T12:59:08.469Z"
   },
   {
    "duration": 10,
    "start_time": "2023-03-01T12:59:09.783Z"
   },
   {
    "duration": 3,
    "start_time": "2023-03-01T12:59:30.968Z"
   },
   {
    "duration": 605,
    "start_time": "2023-03-01T12:59:30.973Z"
   },
   {
    "duration": 19,
    "start_time": "2023-03-01T12:59:31.580Z"
   },
   {
    "duration": 22,
    "start_time": "2023-03-01T12:59:31.601Z"
   },
   {
    "duration": 124,
    "start_time": "2023-03-01T12:59:31.625Z"
   },
   {
    "duration": 9,
    "start_time": "2023-03-01T12:59:31.751Z"
   },
   {
    "duration": 25,
    "start_time": "2023-03-01T12:59:31.761Z"
   },
   {
    "duration": 33,
    "start_time": "2023-03-01T12:59:31.788Z"
   },
   {
    "duration": 8592,
    "start_time": "2023-03-01T12:59:31.823Z"
   },
   {
    "duration": 7,
    "start_time": "2023-03-01T12:59:40.418Z"
   },
   {
    "duration": 274,
    "start_time": "2023-03-01T12:59:40.427Z"
   },
   {
    "duration": 5,
    "start_time": "2023-03-01T12:59:40.703Z"
   },
   {
    "duration": 276,
    "start_time": "2023-03-01T12:59:40.710Z"
   },
   {
    "duration": 5,
    "start_time": "2023-03-01T12:59:40.988Z"
   },
   {
    "duration": 7,
    "start_time": "2023-03-01T12:59:40.995Z"
   },
   {
    "duration": 5,
    "start_time": "2023-03-01T12:59:41.003Z"
   },
   {
    "duration": 10,
    "start_time": "2023-03-01T12:59:41.009Z"
   },
   {
    "duration": 800,
    "start_time": "2023-03-01T12:59:41.021Z"
   },
   {
    "duration": 6,
    "start_time": "2023-03-01T12:59:41.823Z"
   },
   {
    "duration": 823,
    "start_time": "2023-03-01T12:59:41.830Z"
   },
   {
    "duration": 4,
    "start_time": "2023-03-01T12:59:42.654Z"
   },
   {
    "duration": 27,
    "start_time": "2023-03-01T12:59:42.659Z"
   },
   {
    "duration": 5,
    "start_time": "2023-03-01T12:59:42.687Z"
   },
   {
    "duration": 4,
    "start_time": "2023-03-01T13:07:59.105Z"
   },
   {
    "duration": 4,
    "start_time": "2023-03-01T13:08:40.692Z"
   },
   {
    "duration": 5,
    "start_time": "2023-03-01T13:08:43.465Z"
   },
   {
    "duration": 8,
    "start_time": "2023-03-01T13:11:26.026Z"
   },
   {
    "duration": 4,
    "start_time": "2023-03-01T13:11:55.980Z"
   },
   {
    "duration": 3,
    "start_time": "2023-03-01T13:12:00.253Z"
   },
   {
    "duration": 26,
    "start_time": "2023-03-01T13:25:40.655Z"
   },
   {
    "duration": 22,
    "start_time": "2023-03-01T13:26:01.587Z"
   },
   {
    "duration": 22,
    "start_time": "2023-03-01T13:27:08.598Z"
   },
   {
    "duration": 5,
    "start_time": "2023-03-01T13:27:14.670Z"
   },
   {
    "duration": 22,
    "start_time": "2023-03-01T13:28:16.483Z"
   },
   {
    "duration": 4,
    "start_time": "2023-03-01T13:28:21.738Z"
   },
   {
    "duration": 609,
    "start_time": "2023-03-01T13:28:21.744Z"
   },
   {
    "duration": 18,
    "start_time": "2023-03-01T13:28:22.355Z"
   },
   {
    "duration": 3,
    "start_time": "2023-03-01T13:28:22.386Z"
   },
   {
    "duration": 108,
    "start_time": "2023-03-01T13:28:22.391Z"
   },
   {
    "duration": 9,
    "start_time": "2023-03-01T13:28:22.502Z"
   },
   {
    "duration": 6,
    "start_time": "2023-03-01T13:28:22.513Z"
   },
   {
    "duration": 15,
    "start_time": "2023-03-01T13:28:22.521Z"
   },
   {
    "duration": 8742,
    "start_time": "2023-03-01T13:28:22.538Z"
   },
   {
    "duration": 9,
    "start_time": "2023-03-01T13:28:31.282Z"
   },
   {
    "duration": 306,
    "start_time": "2023-03-01T13:28:31.293Z"
   },
   {
    "duration": 7,
    "start_time": "2023-03-01T13:28:31.600Z"
   },
   {
    "duration": 288,
    "start_time": "2023-03-01T13:28:31.609Z"
   },
   {
    "duration": 5,
    "start_time": "2023-03-01T13:28:31.898Z"
   },
   {
    "duration": 15,
    "start_time": "2023-03-01T13:28:31.905Z"
   },
   {
    "duration": 16,
    "start_time": "2023-03-01T13:28:31.921Z"
   },
   {
    "duration": 11,
    "start_time": "2023-03-01T13:28:31.939Z"
   },
   {
    "duration": 845,
    "start_time": "2023-03-01T13:28:31.952Z"
   },
   {
    "duration": 7,
    "start_time": "2023-03-01T13:28:32.799Z"
   },
   {
    "duration": 1340,
    "start_time": "2023-03-01T13:28:32.807Z"
   },
   {
    "duration": 4,
    "start_time": "2023-03-01T13:28:34.150Z"
   },
   {
    "duration": 22,
    "start_time": "2023-03-01T13:28:34.155Z"
   },
   {
    "duration": 10,
    "start_time": "2023-03-01T13:28:34.179Z"
   },
   {
    "duration": 7,
    "start_time": "2023-03-01T13:28:34.191Z"
   },
   {
    "duration": 32,
    "start_time": "2023-03-01T13:28:34.199Z"
   },
   {
    "duration": 0,
    "start_time": "2023-03-01T13:28:34.234Z"
   },
   {
    "duration": 0,
    "start_time": "2023-03-01T13:28:34.235Z"
   },
   {
    "duration": 28,
    "start_time": "2023-03-01T13:28:55.336Z"
   },
   {
    "duration": 15,
    "start_time": "2023-03-01T13:29:10.636Z"
   },
   {
    "duration": 5,
    "start_time": "2023-03-01T13:29:56.064Z"
   },
   {
    "duration": 646,
    "start_time": "2023-03-01T13:29:56.071Z"
   },
   {
    "duration": 21,
    "start_time": "2023-03-01T13:29:56.719Z"
   },
   {
    "duration": 4,
    "start_time": "2023-03-01T13:29:56.742Z"
   },
   {
    "duration": 162,
    "start_time": "2023-03-01T13:29:56.750Z"
   },
   {
    "duration": 10,
    "start_time": "2023-03-01T13:29:56.914Z"
   },
   {
    "duration": 6,
    "start_time": "2023-03-01T13:29:56.926Z"
   },
   {
    "duration": 24,
    "start_time": "2023-03-01T13:29:56.933Z"
   },
   {
    "duration": 8771,
    "start_time": "2023-03-01T13:29:56.959Z"
   },
   {
    "duration": 8,
    "start_time": "2023-03-01T13:30:05.732Z"
   },
   {
    "duration": 264,
    "start_time": "2023-03-01T13:30:05.742Z"
   },
   {
    "duration": 6,
    "start_time": "2023-03-01T13:30:06.008Z"
   },
   {
    "duration": 307,
    "start_time": "2023-03-01T13:30:06.016Z"
   },
   {
    "duration": 5,
    "start_time": "2023-03-01T13:30:06.327Z"
   },
   {
    "duration": 17,
    "start_time": "2023-03-01T13:30:06.334Z"
   },
   {
    "duration": 11,
    "start_time": "2023-03-01T13:30:06.352Z"
   },
   {
    "duration": 6,
    "start_time": "2023-03-01T13:30:06.364Z"
   },
   {
    "duration": 846,
    "start_time": "2023-03-01T13:30:06.371Z"
   },
   {
    "duration": 10,
    "start_time": "2023-03-01T13:30:07.220Z"
   },
   {
    "duration": 924,
    "start_time": "2023-03-01T13:30:07.232Z"
   },
   {
    "duration": 4,
    "start_time": "2023-03-01T13:30:08.158Z"
   },
   {
    "duration": 33,
    "start_time": "2023-03-01T13:30:08.164Z"
   },
   {
    "duration": 6,
    "start_time": "2023-03-01T13:30:08.198Z"
   },
   {
    "duration": 6,
    "start_time": "2023-03-01T13:30:08.205Z"
   },
   {
    "duration": 31,
    "start_time": "2023-03-01T13:30:08.212Z"
   },
   {
    "duration": 0,
    "start_time": "2023-03-01T13:30:08.244Z"
   },
   {
    "duration": 0,
    "start_time": "2023-03-01T13:30:08.245Z"
   },
   {
    "duration": 4,
    "start_time": "2023-03-01T13:31:22.838Z"
   },
   {
    "duration": 680,
    "start_time": "2023-03-01T13:31:22.844Z"
   },
   {
    "duration": 19,
    "start_time": "2023-03-01T13:31:23.526Z"
   },
   {
    "duration": 15,
    "start_time": "2023-03-01T13:31:23.548Z"
   },
   {
    "duration": 146,
    "start_time": "2023-03-01T13:31:23.565Z"
   },
   {
    "duration": 10,
    "start_time": "2023-03-01T13:31:23.713Z"
   },
   {
    "duration": 19,
    "start_time": "2023-03-01T13:31:23.724Z"
   },
   {
    "duration": 14,
    "start_time": "2023-03-01T13:31:23.746Z"
   },
   {
    "duration": 8943,
    "start_time": "2023-03-01T13:31:23.762Z"
   },
   {
    "duration": 11,
    "start_time": "2023-03-01T13:31:32.709Z"
   },
   {
    "duration": 202,
    "start_time": "2023-03-01T13:31:32.721Z"
   },
   {
    "duration": 8,
    "start_time": "2023-03-01T13:31:32.925Z"
   },
   {
    "duration": 323,
    "start_time": "2023-03-01T13:31:32.935Z"
   },
   {
    "duration": 6,
    "start_time": "2023-03-01T13:31:33.260Z"
   },
   {
    "duration": 17,
    "start_time": "2023-03-01T13:31:33.268Z"
   },
   {
    "duration": 6,
    "start_time": "2023-03-01T13:31:33.287Z"
   },
   {
    "duration": 8,
    "start_time": "2023-03-01T13:31:33.294Z"
   },
   {
    "duration": 898,
    "start_time": "2023-03-01T13:31:33.304Z"
   },
   {
    "duration": 6,
    "start_time": "2023-03-01T13:31:34.204Z"
   },
   {
    "duration": 1338,
    "start_time": "2023-03-01T13:31:34.212Z"
   },
   {
    "duration": 4,
    "start_time": "2023-03-01T13:31:35.552Z"
   },
   {
    "duration": 35,
    "start_time": "2023-03-01T13:31:35.557Z"
   },
   {
    "duration": 5,
    "start_time": "2023-03-01T13:31:35.594Z"
   },
   {
    "duration": 5,
    "start_time": "2023-03-01T13:31:35.601Z"
   },
   {
    "duration": 42,
    "start_time": "2023-03-01T13:31:35.608Z"
   },
   {
    "duration": 0,
    "start_time": "2023-03-01T13:31:35.652Z"
   },
   {
    "duration": 0,
    "start_time": "2023-03-01T13:31:35.653Z"
   },
   {
    "duration": 0,
    "start_time": "2023-03-01T13:31:35.654Z"
   },
   {
    "duration": 22,
    "start_time": "2023-03-01T13:31:59.943Z"
   },
   {
    "duration": 25,
    "start_time": "2023-03-01T13:32:16.589Z"
   },
   {
    "duration": 4,
    "start_time": "2023-03-01T13:32:48.393Z"
   },
   {
    "duration": 635,
    "start_time": "2023-03-01T13:32:48.400Z"
   },
   {
    "duration": 18,
    "start_time": "2023-03-01T13:32:49.037Z"
   },
   {
    "duration": 2,
    "start_time": "2023-03-01T13:32:49.058Z"
   },
   {
    "duration": 114,
    "start_time": "2023-03-01T13:32:49.062Z"
   },
   {
    "duration": 16,
    "start_time": "2023-03-01T13:32:49.177Z"
   },
   {
    "duration": 5,
    "start_time": "2023-03-01T13:32:49.195Z"
   },
   {
    "duration": 12,
    "start_time": "2023-03-01T13:32:49.202Z"
   },
   {
    "duration": 8817,
    "start_time": "2023-03-01T13:32:49.216Z"
   },
   {
    "duration": 8,
    "start_time": "2023-03-01T13:32:58.035Z"
   },
   {
    "duration": 258,
    "start_time": "2023-03-01T13:32:58.045Z"
   },
   {
    "duration": 8,
    "start_time": "2023-03-01T13:32:58.305Z"
   },
   {
    "duration": 281,
    "start_time": "2023-03-01T13:32:58.315Z"
   },
   {
    "duration": 4,
    "start_time": "2023-03-01T13:32:58.599Z"
   },
   {
    "duration": 7,
    "start_time": "2023-03-01T13:32:58.604Z"
   },
   {
    "duration": 6,
    "start_time": "2023-03-01T13:32:58.612Z"
   },
   {
    "duration": 9,
    "start_time": "2023-03-01T13:32:58.619Z"
   },
   {
    "duration": 885,
    "start_time": "2023-03-01T13:32:58.629Z"
   },
   {
    "duration": 10,
    "start_time": "2023-03-01T13:32:59.516Z"
   },
   {
    "duration": 847,
    "start_time": "2023-03-01T13:32:59.528Z"
   },
   {
    "duration": 3,
    "start_time": "2023-03-01T13:33:00.377Z"
   },
   {
    "duration": 29,
    "start_time": "2023-03-01T13:33:00.385Z"
   },
   {
    "duration": 6,
    "start_time": "2023-03-01T13:33:00.416Z"
   },
   {
    "duration": 54,
    "start_time": "2023-03-01T13:33:00.424Z"
   },
   {
    "duration": 3,
    "start_time": "2023-03-01T13:33:00.480Z"
   },
   {
    "duration": 57,
    "start_time": "2023-03-01T13:33:00.484Z"
   },
   {
    "duration": 40,
    "start_time": "2023-03-01T13:33:00.543Z"
   },
   {
    "duration": 3,
    "start_time": "2023-03-01T13:33:00.586Z"
   },
   {
    "duration": 33,
    "start_time": "2023-03-01T13:33:00.591Z"
   },
   {
    "duration": 837,
    "start_time": "2023-03-01T13:33:50.560Z"
   },
   {
    "duration": 50,
    "start_time": "2023-03-01T13:36:39.900Z"
   },
   {
    "duration": 8,
    "start_time": "2023-03-01T13:38:46.028Z"
   },
   {
    "duration": 3,
    "start_time": "2023-03-01T13:41:45.742Z"
   },
   {
    "duration": 17,
    "start_time": "2023-03-01T13:44:36.415Z"
   },
   {
    "duration": 3,
    "start_time": "2023-03-01T13:44:41.410Z"
   },
   {
    "duration": 13,
    "start_time": "2023-03-01T13:50:37.987Z"
   },
   {
    "duration": 4,
    "start_time": "2023-03-01T13:50:47.031Z"
   },
   {
    "duration": 11,
    "start_time": "2023-03-01T13:50:52.405Z"
   },
   {
    "duration": 3,
    "start_time": "2023-03-01T13:50:56.498Z"
   },
   {
    "duration": 9,
    "start_time": "2023-03-01T13:50:58.191Z"
   },
   {
    "duration": 3,
    "start_time": "2023-03-01T13:51:10.926Z"
   },
   {
    "duration": 19,
    "start_time": "2023-03-01T13:53:10.921Z"
   },
   {
    "duration": 5,
    "start_time": "2023-03-01T13:54:53.671Z"
   },
   {
    "duration": 800,
    "start_time": "2023-03-01T13:54:53.679Z"
   },
   {
    "duration": 26,
    "start_time": "2023-03-01T13:54:54.482Z"
   },
   {
    "duration": 3,
    "start_time": "2023-03-01T13:54:54.511Z"
   },
   {
    "duration": 128,
    "start_time": "2023-03-01T13:54:54.516Z"
   },
   {
    "duration": 9,
    "start_time": "2023-03-01T13:54:54.646Z"
   },
   {
    "duration": 14,
    "start_time": "2023-03-01T13:54:54.657Z"
   },
   {
    "duration": 18,
    "start_time": "2023-03-01T13:54:54.672Z"
   },
   {
    "duration": 8895,
    "start_time": "2023-03-01T13:54:54.691Z"
   },
   {
    "duration": 10,
    "start_time": "2023-03-01T13:55:03.590Z"
   },
   {
    "duration": 310,
    "start_time": "2023-03-01T13:55:03.603Z"
   },
   {
    "duration": 6,
    "start_time": "2023-03-01T13:55:03.915Z"
   },
   {
    "duration": 331,
    "start_time": "2023-03-01T13:55:03.923Z"
   },
   {
    "duration": 5,
    "start_time": "2023-03-01T13:55:04.256Z"
   },
   {
    "duration": 7,
    "start_time": "2023-03-01T13:55:04.263Z"
   },
   {
    "duration": 33,
    "start_time": "2023-03-01T13:55:04.272Z"
   },
   {
    "duration": 13,
    "start_time": "2023-03-01T13:55:04.307Z"
   },
   {
    "duration": 844,
    "start_time": "2023-03-01T13:55:04.323Z"
   },
   {
    "duration": 17,
    "start_time": "2023-03-01T13:55:05.169Z"
   },
   {
    "duration": 1559,
    "start_time": "2023-03-01T13:55:05.188Z"
   },
   {
    "duration": 1115,
    "start_time": "2023-03-01T13:55:06.748Z"
   },
   {
    "duration": 8,
    "start_time": "2023-03-01T13:55:07.865Z"
   },
   {
    "duration": 13,
    "start_time": "2023-03-01T13:55:07.874Z"
   },
   {
    "duration": 14,
    "start_time": "2023-03-01T13:55:07.888Z"
   },
   {
    "duration": 5,
    "start_time": "2023-03-01T13:55:07.904Z"
   },
   {
    "duration": 4,
    "start_time": "2023-03-01T13:55:07.910Z"
   },
   {
    "duration": 26,
    "start_time": "2023-03-01T13:55:07.916Z"
   },
   {
    "duration": 2,
    "start_time": "2023-03-01T13:55:07.946Z"
   },
   {
    "duration": 5,
    "start_time": "2023-03-01T13:55:07.950Z"
   },
   {
    "duration": 32,
    "start_time": "2023-03-01T13:55:07.957Z"
   },
   {
    "duration": 6,
    "start_time": "2023-03-01T13:55:07.991Z"
   },
   {
    "duration": 14,
    "start_time": "2023-03-01T13:55:07.999Z"
   },
   {
    "duration": 31,
    "start_time": "2023-03-01T13:55:08.014Z"
   },
   {
    "duration": 4,
    "start_time": "2023-03-01T13:56:22.957Z"
   },
   {
    "duration": 31,
    "start_time": "2023-03-01T13:56:25.662Z"
   },
   {
    "duration": 3,
    "start_time": "2023-03-01T13:56:45.636Z"
   },
   {
    "duration": 342016,
    "start_time": "2023-03-01T13:56:47.054Z"
   },
   {
    "duration": 5,
    "start_time": "2023-03-01T14:07:48.437Z"
   },
   {
    "duration": 10,
    "start_time": "2023-03-01T14:08:02.961Z"
   },
   {
    "duration": 6,
    "start_time": "2023-03-01T14:09:54.545Z"
   },
   {
    "duration": 4,
    "start_time": "2023-03-01T14:11:24.962Z"
   },
   {
    "duration": 19,
    "start_time": "2023-03-01T14:14:56.039Z"
   },
   {
    "duration": 20,
    "start_time": "2023-03-01T14:15:20.606Z"
   },
   {
    "duration": 27,
    "start_time": "2023-03-01T14:15:52.701Z"
   },
   {
    "duration": 3,
    "start_time": "2023-03-01T14:16:13.906Z"
   },
   {
    "duration": 34,
    "start_time": "2023-03-01T14:16:16.609Z"
   },
   {
    "duration": 36,
    "start_time": "2023-03-01T14:16:27.075Z"
   },
   {
    "duration": 23,
    "start_time": "2023-03-01T14:17:19.469Z"
   },
   {
    "duration": 4,
    "start_time": "2023-03-01T14:20:45.577Z"
   },
   {
    "duration": 36,
    "start_time": "2023-03-01T14:21:14.169Z"
   },
   {
    "duration": 24,
    "start_time": "2023-03-01T14:22:20.508Z"
   },
   {
    "duration": 21,
    "start_time": "2023-03-01T14:27:15.339Z"
   },
   {
    "duration": 29,
    "start_time": "2023-03-01T14:27:34.580Z"
   },
   {
    "duration": 25,
    "start_time": "2023-03-01T14:27:59.207Z"
   },
   {
    "duration": 33,
    "start_time": "2023-03-01T14:28:14.185Z"
   },
   {
    "duration": 4,
    "start_time": "2023-03-01T14:29:05.366Z"
   },
   {
    "duration": 4,
    "start_time": "2023-03-01T14:29:41.206Z"
   },
   {
    "duration": 30,
    "start_time": "2023-03-01T14:29:49.875Z"
   },
   {
    "duration": 16,
    "start_time": "2023-03-01T14:30:25.635Z"
   },
   {
    "duration": 4,
    "start_time": "2023-03-01T14:32:46.814Z"
   },
   {
    "duration": 686,
    "start_time": "2023-03-01T14:32:46.819Z"
   },
   {
    "duration": 19,
    "start_time": "2023-03-01T14:32:47.507Z"
   },
   {
    "duration": 4,
    "start_time": "2023-03-01T14:32:47.530Z"
   },
   {
    "duration": 130,
    "start_time": "2023-03-01T14:32:47.535Z"
   },
   {
    "duration": 8,
    "start_time": "2023-03-01T14:32:47.667Z"
   },
   {
    "duration": 9,
    "start_time": "2023-03-01T14:32:47.677Z"
   },
   {
    "duration": 24,
    "start_time": "2023-03-01T14:32:47.687Z"
   },
   {
    "duration": 8852,
    "start_time": "2023-03-01T14:32:47.712Z"
   },
   {
    "duration": 9,
    "start_time": "2023-03-01T14:32:56.568Z"
   },
   {
    "duration": 319,
    "start_time": "2023-03-01T14:32:56.585Z"
   },
   {
    "duration": 7,
    "start_time": "2023-03-01T14:32:56.905Z"
   },
   {
    "duration": 289,
    "start_time": "2023-03-01T14:32:56.913Z"
   },
   {
    "duration": 5,
    "start_time": "2023-03-01T14:32:57.204Z"
   },
   {
    "duration": 7,
    "start_time": "2023-03-01T14:32:57.211Z"
   },
   {
    "duration": 4,
    "start_time": "2023-03-01T14:32:57.219Z"
   },
   {
    "duration": 10,
    "start_time": "2023-03-01T14:32:57.225Z"
   },
   {
    "duration": 868,
    "start_time": "2023-03-01T14:32:57.237Z"
   },
   {
    "duration": 8,
    "start_time": "2023-03-01T14:32:58.107Z"
   },
   {
    "duration": 864,
    "start_time": "2023-03-01T14:32:58.116Z"
   },
   {
    "duration": 873,
    "start_time": "2023-03-01T14:32:58.981Z"
   },
   {
    "duration": 7,
    "start_time": "2023-03-01T14:32:59.856Z"
   },
   {
    "duration": 4,
    "start_time": "2023-03-01T14:32:59.865Z"
   },
   {
    "duration": 30,
    "start_time": "2023-03-01T14:32:59.871Z"
   },
   {
    "duration": 6,
    "start_time": "2023-03-01T14:32:59.903Z"
   },
   {
    "duration": 6,
    "start_time": "2023-03-01T14:32:59.911Z"
   },
   {
    "duration": 16,
    "start_time": "2023-03-01T14:32:59.918Z"
   },
   {
    "duration": 3,
    "start_time": "2023-03-01T14:32:59.937Z"
   },
   {
    "duration": 8,
    "start_time": "2023-03-01T14:32:59.942Z"
   },
   {
    "duration": 4,
    "start_time": "2023-03-01T14:32:59.951Z"
   },
   {
    "duration": 9,
    "start_time": "2023-03-01T14:32:59.956Z"
   },
   {
    "duration": 32,
    "start_time": "2023-03-01T14:32:59.966Z"
   },
   {
    "duration": 218992,
    "start_time": "2023-03-01T14:33:00.000Z"
   },
   {
    "duration": 8,
    "start_time": "2023-03-01T14:36:39.002Z"
   },
   {
    "duration": 9,
    "start_time": "2023-03-01T14:43:09.533Z"
   },
   {
    "duration": 10,
    "start_time": "2023-03-01T14:43:16.909Z"
   },
   {
    "duration": 11,
    "start_time": "2023-03-01T14:43:51.042Z"
   },
   {
    "duration": 4,
    "start_time": "2023-03-01T14:44:03.548Z"
   },
   {
    "duration": 3,
    "start_time": "2023-03-01T14:46:33.472Z"
   },
   {
    "duration": 16,
    "start_time": "2023-03-01T14:46:38.986Z"
   },
   {
    "duration": 4,
    "start_time": "2023-03-01T14:47:06.049Z"
   },
   {
    "duration": 2,
    "start_time": "2023-03-01T14:47:10.568Z"
   },
   {
    "duration": 30952,
    "start_time": "2023-03-01T14:47:16.130Z"
   },
   {
    "duration": 8,
    "start_time": "2023-03-01T14:48:45.262Z"
   },
   {
    "duration": 5,
    "start_time": "2023-03-01T14:48:48.853Z"
   },
   {
    "duration": 4,
    "start_time": "2023-03-01T14:49:53.360Z"
   },
   {
    "duration": 3,
    "start_time": "2023-03-01T14:49:57.134Z"
   },
   {
    "duration": 24844,
    "start_time": "2023-03-01T14:49:58.926Z"
   },
   {
    "duration": 10,
    "start_time": "2023-03-01T14:50:27.320Z"
   },
   {
    "duration": 5,
    "start_time": "2023-03-01T14:50:35.213Z"
   },
   {
    "duration": 8,
    "start_time": "2023-03-01T14:51:12.083Z"
   },
   {
    "duration": 2,
    "start_time": "2023-03-01T14:51:13.807Z"
   },
   {
    "duration": 32781,
    "start_time": "2023-03-01T14:51:15.151Z"
   },
   {
    "duration": 4,
    "start_time": "2023-03-01T14:51:53.739Z"
   },
   {
    "duration": 3,
    "start_time": "2023-03-01T14:52:03.105Z"
   },
   {
    "duration": 3,
    "start_time": "2023-03-01T14:52:06.913Z"
   },
   {
    "duration": 13598,
    "start_time": "2023-03-01T14:52:08.378Z"
   },
   {
    "duration": 55,
    "start_time": "2023-03-01T14:52:26.105Z"
   },
   {
    "duration": 4,
    "start_time": "2023-03-01T14:52:27.552Z"
   },
   {
    "duration": 92,
    "start_time": "2023-03-01T14:53:53.568Z"
   },
   {
    "duration": 4,
    "start_time": "2023-03-01T14:54:06.711Z"
   },
   {
    "duration": 3,
    "start_time": "2023-03-01T14:54:08.427Z"
   },
   {
    "duration": 8138,
    "start_time": "2023-03-01T14:54:10.313Z"
   },
   {
    "duration": 6,
    "start_time": "2023-03-01T14:54:24.011Z"
   },
   {
    "duration": 36,
    "start_time": "2023-03-01T14:54:26.169Z"
   },
   {
    "duration": 3,
    "start_time": "2023-03-01T14:54:33.647Z"
   },
   {
    "duration": 8303,
    "start_time": "2023-03-01T14:54:35.206Z"
   },
   {
    "duration": 4,
    "start_time": "2023-03-01T14:54:43.510Z"
   },
   {
    "duration": 3,
    "start_time": "2023-03-01T14:55:09.108Z"
   },
   {
    "duration": 7332,
    "start_time": "2023-03-01T14:55:10.809Z"
   },
   {
    "duration": 27,
    "start_time": "2023-03-01T14:55:22.172Z"
   },
   {
    "duration": 4,
    "start_time": "2023-03-01T14:55:23.705Z"
   },
   {
    "duration": 3,
    "start_time": "2023-03-01T14:56:28.930Z"
   },
   {
    "duration": 3,
    "start_time": "2023-03-01T14:56:32.848Z"
   },
   {
    "duration": 3,
    "start_time": "2023-03-01T14:57:08.935Z"
   },
   {
    "duration": 3,
    "start_time": "2023-03-01T14:57:10.705Z"
   },
   {
    "duration": 37601,
    "start_time": "2023-03-01T14:57:12.009Z"
   },
   {
    "duration": 24,
    "start_time": "2023-03-01T14:57:56.718Z"
   },
   {
    "duration": 6,
    "start_time": "2023-03-01T14:57:58.439Z"
   },
   {
    "duration": 9,
    "start_time": "2023-03-01T14:58:00.585Z"
   },
   {
    "duration": 4,
    "start_time": "2023-03-01T14:58:30.039Z"
   },
   {
    "duration": 3,
    "start_time": "2023-03-01T14:58:31.422Z"
   },
   {
    "duration": 3,
    "start_time": "2023-03-01T14:58:33.309Z"
   },
   {
    "duration": 4,
    "start_time": "2023-03-01T14:58:34.672Z"
   },
   {
    "duration": 3,
    "start_time": "2023-03-01T14:58:36.321Z"
   },
   {
    "duration": 40138,
    "start_time": "2023-03-01T14:58:38.271Z"
   },
   {
    "duration": 33,
    "start_time": "2023-03-01T14:59:33.709Z"
   },
   {
    "duration": 4,
    "start_time": "2023-03-01T14:59:37.529Z"
   },
   {
    "duration": 4,
    "start_time": "2023-03-01T14:59:50.372Z"
   },
   {
    "duration": 3,
    "start_time": "2023-03-01T14:59:59.779Z"
   },
   {
    "duration": 3,
    "start_time": "2023-03-01T15:00:02.679Z"
   },
   {
    "duration": 3,
    "start_time": "2023-03-01T15:00:33.919Z"
   },
   {
    "duration": 3,
    "start_time": "2023-03-01T15:00:35.205Z"
   },
   {
    "duration": 2,
    "start_time": "2023-03-01T15:00:37.847Z"
   },
   {
    "duration": 4,
    "start_time": "2023-03-01T15:00:38.905Z"
   },
   {
    "duration": 4,
    "start_time": "2023-03-01T15:00:40.512Z"
   },
   {
    "duration": 37887,
    "start_time": "2023-03-01T15:00:42.508Z"
   },
   {
    "duration": 35,
    "start_time": "2023-03-01T15:01:23.607Z"
   },
   {
    "duration": 4,
    "start_time": "2023-03-01T15:01:30.124Z"
   },
   {
    "duration": 3,
    "start_time": "2023-03-01T15:02:13.178Z"
   },
   {
    "duration": 4,
    "start_time": "2023-03-01T15:02:14.803Z"
   },
   {
    "duration": 28232,
    "start_time": "2023-03-01T15:02:16.334Z"
   },
   {
    "duration": 27844,
    "start_time": "2023-03-01T15:02:48.756Z"
   },
   {
    "duration": 12,
    "start_time": "2023-03-01T15:03:58.609Z"
   },
   {
    "duration": 4,
    "start_time": "2023-03-01T15:04:05.409Z"
   },
   {
    "duration": 5,
    "start_time": "2023-03-01T15:08:37.416Z"
   },
   {
    "duration": 5547,
    "start_time": "2023-03-01T15:12:54.810Z"
   },
   {
    "duration": 14,
    "start_time": "2023-03-01T15:13:40.384Z"
   },
   {
    "duration": 4,
    "start_time": "2023-03-01T15:13:46.142Z"
   },
   {
    "duration": 9,
    "start_time": "2023-03-01T15:14:29.324Z"
   },
   {
    "duration": 5479,
    "start_time": "2023-03-01T15:14:32.103Z"
   },
   {
    "duration": 4,
    "start_time": "2023-03-01T15:14:39.005Z"
   },
   {
    "duration": 4,
    "start_time": "2023-03-01T15:16:36.704Z"
   },
   {
    "duration": 3,
    "start_time": "2023-03-01T15:16:38.125Z"
   },
   {
    "duration": 5516,
    "start_time": "2023-03-01T15:16:41.319Z"
   },
   {
    "duration": 6,
    "start_time": "2023-03-01T15:16:49.385Z"
   },
   {
    "duration": 7,
    "start_time": "2023-03-01T15:21:42.192Z"
   },
   {
    "duration": 3,
    "start_time": "2023-03-01T15:22:23.109Z"
   },
   {
    "duration": 5534,
    "start_time": "2023-03-01T15:22:39.532Z"
   },
   {
    "duration": 4,
    "start_time": "2023-03-01T15:22:47.039Z"
   },
   {
    "duration": 3,
    "start_time": "2023-03-01T15:23:17.065Z"
   },
   {
    "duration": 3,
    "start_time": "2023-03-01T15:23:38.409Z"
   },
   {
    "duration": 3,
    "start_time": "2023-03-01T15:23:40.101Z"
   },
   {
    "duration": 7,
    "start_time": "2023-03-01T15:23:41.796Z"
   },
   {
    "duration": 28123,
    "start_time": "2023-03-01T15:23:45.772Z"
   },
   {
    "duration": 27,
    "start_time": "2023-03-01T15:24:35.177Z"
   },
   {
    "duration": 8,
    "start_time": "2023-03-01T15:24:47.483Z"
   },
   {
    "duration": 4,
    "start_time": "2023-03-01T15:25:22.854Z"
   },
   {
    "duration": 3,
    "start_time": "2023-03-01T15:25:24.935Z"
   },
   {
    "duration": 26885,
    "start_time": "2023-03-01T15:25:29.263Z"
   },
   {
    "duration": 27153,
    "start_time": "2023-03-01T15:25:59.885Z"
   },
   {
    "duration": 4,
    "start_time": "2023-03-01T15:26:34.924Z"
   },
   {
    "duration": 23,
    "start_time": "2023-03-01T15:26:53.645Z"
   },
   {
    "duration": 79,
    "start_time": "2023-03-01T15:28:29.562Z"
   },
   {
    "duration": 25,
    "start_time": "2023-03-01T15:28:43.956Z"
   },
   {
    "duration": 4,
    "start_time": "2023-03-01T15:29:58.425Z"
   },
   {
    "duration": 3,
    "start_time": "2023-03-01T15:30:00.659Z"
   },
   {
    "duration": 23,
    "start_time": "2023-03-01T15:30:06.859Z"
   },
   {
    "duration": 5,
    "start_time": "2023-03-01T15:30:08.824Z"
   },
   {
    "duration": 37,
    "start_time": "2023-03-01T15:30:14.017Z"
   },
   {
    "duration": 27739,
    "start_time": "2023-03-01T15:30:17.010Z"
   },
   {
    "duration": 4,
    "start_time": "2023-03-01T15:30:44.751Z"
   },
   {
    "duration": 4,
    "start_time": "2023-03-01T15:31:01.836Z"
   },
   {
    "duration": 4,
    "start_time": "2023-03-01T15:31:03.680Z"
   },
   {
    "duration": 4,
    "start_time": "2023-03-01T15:31:10.888Z"
   },
   {
    "duration": 3,
    "start_time": "2023-03-01T15:31:12.778Z"
   },
   {
    "duration": 29374,
    "start_time": "2023-03-01T15:31:14.370Z"
   },
   {
    "duration": 38,
    "start_time": "2023-03-01T15:32:26.765Z"
   },
   {
    "duration": 30,
    "start_time": "2023-03-01T15:33:55.055Z"
   },
   {
    "duration": 31,
    "start_time": "2023-03-01T15:34:06.952Z"
   },
   {
    "duration": 31,
    "start_time": "2023-03-01T15:34:50.709Z"
   },
   {
    "duration": 23,
    "start_time": "2023-03-01T15:36:08.262Z"
   },
   {
    "duration": 4,
    "start_time": "2023-03-01T15:36:17.147Z"
   },
   {
    "duration": 5,
    "start_time": "2023-03-01T15:36:19.619Z"
   },
   {
    "duration": 30,
    "start_time": "2023-03-01T15:36:21.938Z"
   },
   {
    "duration": 4,
    "start_time": "2023-03-01T15:37:33.181Z"
   },
   {
    "duration": 3,
    "start_time": "2023-03-01T15:37:37.080Z"
   },
   {
    "duration": 28039,
    "start_time": "2023-03-01T15:38:15.043Z"
   },
   {
    "duration": 20,
    "start_time": "2023-03-01T15:38:48.247Z"
   },
   {
    "duration": 4,
    "start_time": "2023-03-01T15:38:53.705Z"
   },
   {
    "duration": 51,
    "start_time": "2023-03-01T15:38:57.183Z"
   },
   {
    "duration": 31,
    "start_time": "2023-03-01T15:39:03.112Z"
   },
   {
    "duration": 5,
    "start_time": "2023-03-01T15:41:26.925Z"
   },
   {
    "duration": 10,
    "start_time": "2023-03-01T15:41:26.932Z"
   },
   {
    "duration": 8,
    "start_time": "2023-03-01T15:41:26.944Z"
   },
   {
    "duration": 11,
    "start_time": "2023-03-01T15:41:26.954Z"
   },
   {
    "duration": 14,
    "start_time": "2023-03-01T15:41:26.967Z"
   },
   {
    "duration": 27709,
    "start_time": "2023-03-01T15:41:26.983Z"
   },
   {
    "duration": 18,
    "start_time": "2023-03-01T15:41:54.694Z"
   },
   {
    "duration": 4,
    "start_time": "2023-03-01T15:41:54.713Z"
   },
   {
    "duration": 5,
    "start_time": "2023-03-01T15:42:26.035Z"
   },
   {
    "duration": 3,
    "start_time": "2023-03-01T15:43:02.275Z"
   },
   {
    "duration": 3,
    "start_time": "2023-03-01T15:43:06.082Z"
   },
   {
    "duration": 11,
    "start_time": "2023-03-01T15:43:06.087Z"
   },
   {
    "duration": 8,
    "start_time": "2023-03-01T15:43:06.100Z"
   },
   {
    "duration": 51500,
    "start_time": "2023-03-01T15:43:06.110Z"
   },
   {
    "duration": 49,
    "start_time": "2023-03-01T15:43:57.612Z"
   },
   {
    "duration": 5,
    "start_time": "2023-03-01T15:43:57.663Z"
   },
   {
    "duration": 5,
    "start_time": "2023-03-01T15:44:58.517Z"
   },
   {
    "duration": 4,
    "start_time": "2023-03-01T15:45:28.247Z"
   },
   {
    "duration": 4,
    "start_time": "2023-03-01T15:45:32.675Z"
   },
   {
    "duration": 11,
    "start_time": "2023-03-01T15:45:32.681Z"
   },
   {
    "duration": 9,
    "start_time": "2023-03-01T15:45:32.693Z"
   },
   {
    "duration": 6,
    "start_time": "2023-03-01T15:45:32.704Z"
   },
   {
    "duration": 7,
    "start_time": "2023-03-01T15:45:32.712Z"
   },
   {
    "duration": 5,
    "start_time": "2023-03-01T15:45:32.720Z"
   },
   {
    "duration": 40753,
    "start_time": "2023-03-01T15:45:32.726Z"
   },
   {
    "duration": 30,
    "start_time": "2023-03-01T15:46:13.485Z"
   },
   {
    "duration": 5,
    "start_time": "2023-03-01T15:46:13.517Z"
   },
   {
    "duration": 84762,
    "start_time": "2023-03-01T15:55:27.305Z"
   },
   {
    "duration": 283,
    "start_time": "2023-03-01T15:59:03.628Z"
   },
   {
    "duration": 4,
    "start_time": "2023-03-01T15:59:46.713Z"
   },
   {
    "duration": 3,
    "start_time": "2023-03-01T15:59:51.071Z"
   },
   {
    "duration": 3,
    "start_time": "2023-03-01T15:59:57.114Z"
   },
   {
    "duration": 3,
    "start_time": "2023-03-01T15:59:58.729Z"
   },
   {
    "duration": 273,
    "start_time": "2023-03-01T16:00:00.609Z"
   },
   {
    "duration": 69,
    "start_time": "2023-03-01T16:00:13.315Z"
   },
   {
    "duration": 11,
    "start_time": "2023-03-01T16:00:23.623Z"
   },
   {
    "duration": 283,
    "start_time": "2023-03-01T16:01:22.673Z"
   },
   {
    "duration": 5,
    "start_time": "2023-03-01T16:02:28.818Z"
   },
   {
    "duration": 3,
    "start_time": "2023-03-01T16:03:10.825Z"
   },
   {
    "duration": 8,
    "start_time": "2023-03-01T16:03:10.830Z"
   },
   {
    "duration": 5,
    "start_time": "2023-03-01T16:03:10.839Z"
   },
   {
    "duration": 88686,
    "start_time": "2023-03-01T16:03:10.845Z"
   },
   {
    "duration": 4,
    "start_time": "2023-03-01T16:04:39.533Z"
   },
   {
    "duration": 10,
    "start_time": "2023-03-01T16:05:17.381Z"
   },
   {
    "duration": 16,
    "start_time": "2023-03-01T16:05:31.297Z"
   },
   {
    "duration": 9427,
    "start_time": "2023-03-01T16:08:13.524Z"
   },
   {
    "duration": 2526,
    "start_time": "2023-03-01T16:09:20.921Z"
   },
   {
    "duration": 2428,
    "start_time": "2023-03-01T16:09:40.272Z"
   },
   {
    "duration": 2225,
    "start_time": "2023-03-01T16:09:51.330Z"
   },
   {
    "duration": 5,
    "start_time": "2023-03-01T16:10:33.624Z"
   },
   {
    "duration": 748,
    "start_time": "2023-03-01T16:10:33.631Z"
   },
   {
    "duration": 35,
    "start_time": "2023-03-01T16:10:34.380Z"
   },
   {
    "duration": 13,
    "start_time": "2023-03-01T16:10:34.424Z"
   },
   {
    "duration": 137,
    "start_time": "2023-03-01T16:10:34.440Z"
   },
   {
    "duration": 14,
    "start_time": "2023-03-01T16:10:34.578Z"
   },
   {
    "duration": 31,
    "start_time": "2023-03-01T16:10:34.601Z"
   },
   {
    "duration": 22,
    "start_time": "2023-03-01T16:10:34.634Z"
   },
   {
    "duration": 9172,
    "start_time": "2023-03-01T16:10:34.658Z"
   },
   {
    "duration": 8,
    "start_time": "2023-03-01T16:10:43.832Z"
   },
   {
    "duration": 262,
    "start_time": "2023-03-01T16:10:43.842Z"
   },
   {
    "duration": 10,
    "start_time": "2023-03-01T16:10:44.106Z"
   },
   {
    "duration": 361,
    "start_time": "2023-03-01T16:10:44.118Z"
   },
   {
    "duration": 18,
    "start_time": "2023-03-01T16:10:44.491Z"
   },
   {
    "duration": 25,
    "start_time": "2023-03-01T16:10:44.511Z"
   },
   {
    "duration": 6,
    "start_time": "2023-03-01T16:10:44.538Z"
   },
   {
    "duration": 8,
    "start_time": "2023-03-01T16:10:44.546Z"
   },
   {
    "duration": 1594,
    "start_time": "2023-03-01T16:10:44.556Z"
   },
   {
    "duration": 10,
    "start_time": "2023-03-01T16:10:46.153Z"
   },
   {
    "duration": 1067,
    "start_time": "2023-03-01T16:10:46.164Z"
   },
   {
    "duration": 925,
    "start_time": "2023-03-01T16:10:47.232Z"
   },
   {
    "duration": 8,
    "start_time": "2023-03-01T16:10:48.159Z"
   },
   {
    "duration": 35,
    "start_time": "2023-03-01T16:10:48.168Z"
   },
   {
    "duration": 14,
    "start_time": "2023-03-01T16:10:48.215Z"
   },
   {
    "duration": 4,
    "start_time": "2023-03-01T16:10:48.231Z"
   },
   {
    "duration": 6,
    "start_time": "2023-03-01T16:10:48.237Z"
   },
   {
    "duration": 18,
    "start_time": "2023-03-01T16:10:48.244Z"
   },
   {
    "duration": 4,
    "start_time": "2023-03-01T16:10:48.264Z"
   },
   {
    "duration": 8,
    "start_time": "2023-03-01T16:10:48.270Z"
   },
   {
    "duration": 52,
    "start_time": "2023-03-01T16:10:48.279Z"
   },
   {
    "duration": 8,
    "start_time": "2023-03-01T16:10:48.333Z"
   },
   {
    "duration": 5,
    "start_time": "2023-03-01T16:10:48.342Z"
   },
   {
    "duration": 10,
    "start_time": "2023-03-01T16:10:48.349Z"
   },
   {
    "duration": 90796,
    "start_time": "2023-03-01T16:10:48.360Z"
   },
   {
    "duration": 7,
    "start_time": "2023-03-01T16:12:19.157Z"
   },
   {
    "duration": 14,
    "start_time": "2023-03-01T16:12:19.166Z"
   },
   {
    "duration": 5,
    "start_time": "2023-03-01T16:13:43.627Z"
   },
   {
    "duration": 36,
    "start_time": "2023-03-01T16:15:11.142Z"
   },
   {
    "duration": 38,
    "start_time": "2023-03-01T16:15:27.832Z"
   },
   {
    "duration": 19,
    "start_time": "2023-03-01T16:16:32.176Z"
   },
   {
    "duration": 53,
    "start_time": "2023-03-01T16:16:37.221Z"
   },
   {
    "duration": 33,
    "start_time": "2023-03-01T16:16:38.473Z"
   },
   {
    "duration": 5,
    "start_time": "2023-03-01T16:17:43.924Z"
   },
   {
    "duration": 4,
    "start_time": "2023-03-01T16:18:03.424Z"
   },
   {
    "duration": 32,
    "start_time": "2023-03-01T16:59:47.683Z"
   },
   {
    "duration": 3038,
    "start_time": "2023-03-01T17:07:24.183Z"
   },
   {
    "duration": 6,
    "start_time": "2023-03-01T17:07:27.223Z"
   },
   {
    "duration": 45,
    "start_time": "2023-03-01T17:07:27.232Z"
   },
   {
    "duration": 0,
    "start_time": "2023-03-01T17:07:27.282Z"
   },
   {
    "duration": 0,
    "start_time": "2023-03-01T17:07:27.283Z"
   },
   {
    "duration": 0,
    "start_time": "2023-03-01T17:07:27.285Z"
   },
   {
    "duration": 0,
    "start_time": "2023-03-01T17:07:27.295Z"
   },
   {
    "duration": 0,
    "start_time": "2023-03-01T17:07:27.296Z"
   },
   {
    "duration": 0,
    "start_time": "2023-03-01T17:07:27.297Z"
   },
   {
    "duration": 0,
    "start_time": "2023-03-01T17:07:27.298Z"
   },
   {
    "duration": 0,
    "start_time": "2023-03-01T17:07:27.304Z"
   },
   {
    "duration": 0,
    "start_time": "2023-03-01T17:07:27.304Z"
   },
   {
    "duration": 0,
    "start_time": "2023-03-01T17:07:27.306Z"
   },
   {
    "duration": 0,
    "start_time": "2023-03-01T17:07:27.311Z"
   },
   {
    "duration": 0,
    "start_time": "2023-03-01T17:07:27.312Z"
   },
   {
    "duration": 0,
    "start_time": "2023-03-01T17:07:27.313Z"
   },
   {
    "duration": 0,
    "start_time": "2023-03-01T17:07:27.320Z"
   },
   {
    "duration": 0,
    "start_time": "2023-03-01T17:07:27.321Z"
   },
   {
    "duration": 0,
    "start_time": "2023-03-01T17:07:27.323Z"
   },
   {
    "duration": 0,
    "start_time": "2023-03-01T17:07:27.324Z"
   },
   {
    "duration": 0,
    "start_time": "2023-03-01T17:07:27.325Z"
   },
   {
    "duration": 0,
    "start_time": "2023-03-01T17:07:27.326Z"
   },
   {
    "duration": 0,
    "start_time": "2023-03-01T17:07:27.332Z"
   },
   {
    "duration": 0,
    "start_time": "2023-03-01T17:07:27.334Z"
   },
   {
    "duration": 0,
    "start_time": "2023-03-01T17:07:27.335Z"
   },
   {
    "duration": 0,
    "start_time": "2023-03-01T17:07:27.336Z"
   },
   {
    "duration": 0,
    "start_time": "2023-03-01T17:07:27.337Z"
   },
   {
    "duration": 0,
    "start_time": "2023-03-01T17:07:27.339Z"
   },
   {
    "duration": 0,
    "start_time": "2023-03-01T17:07:27.340Z"
   },
   {
    "duration": 0,
    "start_time": "2023-03-01T17:07:27.342Z"
   },
   {
    "duration": 0,
    "start_time": "2023-03-01T17:07:27.343Z"
   },
   {
    "duration": 0,
    "start_time": "2023-03-01T17:07:27.344Z"
   },
   {
    "duration": 0,
    "start_time": "2023-03-01T17:07:27.345Z"
   },
   {
    "duration": 0,
    "start_time": "2023-03-01T17:07:27.347Z"
   },
   {
    "duration": 0,
    "start_time": "2023-03-01T17:07:27.348Z"
   },
   {
    "duration": 0,
    "start_time": "2023-03-01T17:07:27.350Z"
   },
   {
    "duration": 0,
    "start_time": "2023-03-01T17:07:27.393Z"
   },
   {
    "duration": 0,
    "start_time": "2023-03-01T17:07:27.394Z"
   },
   {
    "duration": 0,
    "start_time": "2023-03-01T17:07:27.394Z"
   },
   {
    "duration": 0,
    "start_time": "2023-03-01T17:07:27.400Z"
   },
   {
    "duration": 0,
    "start_time": "2023-03-01T17:07:27.401Z"
   },
   {
    "duration": 2976,
    "start_time": "2023-03-01T17:08:12.439Z"
   },
   {
    "duration": 28,
    "start_time": "2023-03-01T17:08:25.812Z"
   },
   {
    "duration": 51,
    "start_time": "2023-03-01T17:10:03.121Z"
   },
   {
    "duration": 1395,
    "start_time": "2023-03-01T17:10:06.219Z"
   },
   {
    "duration": 131,
    "start_time": "2023-03-01T17:10:08.752Z"
   },
   {
    "duration": 6895,
    "start_time": "2023-03-01T19:11:12.838Z"
   },
   {
    "duration": 1524,
    "start_time": "2023-03-01T19:11:19.736Z"
   },
   {
    "duration": 3023,
    "start_time": "2023-03-01T19:11:21.262Z"
   },
   {
    "duration": 18,
    "start_time": "2023-03-01T19:11:24.288Z"
   },
   {
    "duration": 6,
    "start_time": "2023-03-01T19:11:24.308Z"
   },
   {
    "duration": 123,
    "start_time": "2023-03-01T19:11:24.316Z"
   },
   {
    "duration": 17,
    "start_time": "2023-03-01T19:11:24.441Z"
   },
   {
    "duration": 8,
    "start_time": "2023-03-01T19:11:24.460Z"
   },
   {
    "duration": 16,
    "start_time": "2023-03-01T19:11:24.470Z"
   },
   {
    "duration": 12485,
    "start_time": "2023-03-01T19:11:24.489Z"
   },
   {
    "duration": 9,
    "start_time": "2023-03-01T19:11:36.975Z"
   },
   {
    "duration": 276,
    "start_time": "2023-03-01T19:11:36.985Z"
   },
   {
    "duration": 7,
    "start_time": "2023-03-01T19:11:37.263Z"
   },
   {
    "duration": 313,
    "start_time": "2023-03-01T19:11:37.271Z"
   },
   {
    "duration": 5,
    "start_time": "2023-03-01T19:11:37.586Z"
   },
   {
    "duration": 26,
    "start_time": "2023-03-01T19:11:37.593Z"
   },
   {
    "duration": 24,
    "start_time": "2023-03-01T19:11:37.620Z"
   },
   {
    "duration": 28,
    "start_time": "2023-03-01T19:11:37.646Z"
   },
   {
    "duration": 1029,
    "start_time": "2023-03-01T19:11:37.676Z"
   },
   {
    "duration": 7,
    "start_time": "2023-03-01T19:11:38.707Z"
   },
   {
    "duration": 979,
    "start_time": "2023-03-01T19:11:38.715Z"
   },
   {
    "duration": 1102,
    "start_time": "2023-03-01T19:11:39.696Z"
   },
   {
    "duration": 7,
    "start_time": "2023-03-01T19:11:40.800Z"
   },
   {
    "duration": 32,
    "start_time": "2023-03-01T19:11:40.809Z"
   },
   {
    "duration": 40,
    "start_time": "2023-03-01T19:11:40.843Z"
   },
   {
    "duration": 31,
    "start_time": "2023-03-01T19:11:40.885Z"
   },
   {
    "duration": 17,
    "start_time": "2023-03-01T19:11:40.918Z"
   },
   {
    "duration": 37,
    "start_time": "2023-03-01T19:11:40.939Z"
   },
   {
    "duration": 5,
    "start_time": "2023-03-01T19:11:40.978Z"
   },
   {
    "duration": 19,
    "start_time": "2023-03-01T19:11:40.984Z"
   },
   {
    "duration": 19,
    "start_time": "2023-03-01T19:11:41.005Z"
   },
   {
    "duration": 22,
    "start_time": "2023-03-01T19:11:41.026Z"
   },
   {
    "duration": 24,
    "start_time": "2023-03-01T19:11:41.050Z"
   },
   {
    "duration": 146,
    "start_time": "2023-03-01T19:11:41.076Z"
   },
   {
    "duration": 0,
    "start_time": "2023-03-01T19:11:41.224Z"
   },
   {
    "duration": 0,
    "start_time": "2023-03-01T19:11:41.226Z"
   },
   {
    "duration": 0,
    "start_time": "2023-03-01T19:11:41.227Z"
   },
   {
    "duration": 0,
    "start_time": "2023-03-01T19:11:41.238Z"
   },
   {
    "duration": 0,
    "start_time": "2023-03-01T19:11:41.239Z"
   },
   {
    "duration": 0,
    "start_time": "2023-03-01T19:11:41.241Z"
   },
   {
    "duration": 0,
    "start_time": "2023-03-01T19:11:41.242Z"
   },
   {
    "duration": 3,
    "start_time": "2023-03-01T19:12:23.893Z"
   },
   {
    "duration": 18,
    "start_time": "2023-03-01T19:12:23.898Z"
   },
   {
    "duration": 14,
    "start_time": "2023-03-01T19:12:23.918Z"
   },
   {
    "duration": 0,
    "start_time": "2023-03-01T19:12:23.934Z"
   },
   {
    "duration": 0,
    "start_time": "2023-03-01T19:12:23.936Z"
   },
   {
    "duration": 0,
    "start_time": "2023-03-01T19:12:23.937Z"
   },
   {
    "duration": 0,
    "start_time": "2023-03-01T19:12:23.938Z"
   },
   {
    "duration": 0,
    "start_time": "2023-03-01T19:12:23.939Z"
   },
   {
    "duration": 0,
    "start_time": "2023-03-01T19:12:23.940Z"
   },
   {
    "duration": 0,
    "start_time": "2023-03-01T19:12:23.941Z"
   },
   {
    "duration": 3,
    "start_time": "2023-03-01T19:12:36.703Z"
   },
   {
    "duration": 3,
    "start_time": "2023-03-01T19:12:37.966Z"
   },
   {
    "duration": 3,
    "start_time": "2023-03-01T19:12:38.835Z"
   },
   {
    "duration": 2,
    "start_time": "2023-03-01T19:12:40.303Z"
   },
   {
    "duration": 3,
    "start_time": "2023-03-01T19:12:41.441Z"
   },
   {
    "duration": 3,
    "start_time": "2023-03-01T19:12:42.252Z"
   },
   {
    "duration": 81263,
    "start_time": "2023-03-01T19:12:46.372Z"
   },
   {
    "duration": 4,
    "start_time": "2023-03-01T19:14:44.124Z"
   },
   {
    "duration": 5,
    "start_time": "2023-03-01T19:14:46.244Z"
   },
   {
    "duration": 45,
    "start_time": "2023-03-01T19:15:17.572Z"
   },
   {
    "duration": 4,
    "start_time": "2023-03-01T19:15:19.514Z"
   },
   {
    "duration": 4,
    "start_time": "2023-03-01T19:15:21.731Z"
   },
   {
    "duration": 3,
    "start_time": "2023-03-01T19:15:48.229Z"
   },
   {
    "duration": 973,
    "start_time": "2023-03-01T19:17:08.836Z"
   },
   {
    "duration": 2844,
    "start_time": "2023-03-01T19:17:27.639Z"
   },
   {
    "duration": 5,
    "start_time": "2023-03-01T19:17:30.486Z"
   },
   {
    "duration": 761,
    "start_time": "2023-03-01T19:17:30.493Z"
   },
   {
    "duration": 19,
    "start_time": "2023-03-01T19:17:31.255Z"
   },
   {
    "duration": 4,
    "start_time": "2023-03-01T19:17:31.276Z"
   },
   {
    "duration": 120,
    "start_time": "2023-03-01T19:17:31.281Z"
   },
   {
    "duration": 10,
    "start_time": "2023-03-01T19:17:31.403Z"
   },
   {
    "duration": 23,
    "start_time": "2023-03-01T19:17:31.416Z"
   },
   {
    "duration": 27,
    "start_time": "2023-03-01T19:17:31.441Z"
   },
   {
    "duration": 14027,
    "start_time": "2023-03-01T19:17:31.470Z"
   },
   {
    "duration": 8,
    "start_time": "2023-03-01T19:17:45.499Z"
   },
   {
    "duration": 252,
    "start_time": "2023-03-01T19:17:45.509Z"
   },
   {
    "duration": 7,
    "start_time": "2023-03-01T19:17:45.763Z"
   },
   {
    "duration": 325,
    "start_time": "2023-03-01T19:17:45.772Z"
   },
   {
    "duration": 6,
    "start_time": "2023-03-01T19:17:46.099Z"
   },
   {
    "duration": 9,
    "start_time": "2023-03-01T19:17:46.107Z"
   },
   {
    "duration": 11,
    "start_time": "2023-03-01T19:17:46.117Z"
   },
   {
    "duration": 6,
    "start_time": "2023-03-01T19:17:46.138Z"
   },
   {
    "duration": 1096,
    "start_time": "2023-03-01T19:17:46.145Z"
   },
   {
    "duration": 7,
    "start_time": "2023-03-01T19:17:47.244Z"
   },
   {
    "duration": 984,
    "start_time": "2023-03-01T19:17:47.252Z"
   },
   {
    "duration": 1112,
    "start_time": "2023-03-01T19:17:48.238Z"
   },
   {
    "duration": 8,
    "start_time": "2023-03-01T19:17:49.352Z"
   },
   {
    "duration": 8,
    "start_time": "2023-03-01T19:17:49.361Z"
   },
   {
    "duration": 729,
    "start_time": "2023-03-01T19:17:49.370Z"
   },
   {
    "duration": 4,
    "start_time": "2023-03-01T19:20:00.160Z"
   },
   {
    "duration": 4,
    "start_time": "2023-03-01T19:20:02.161Z"
   },
   {
    "duration": 3,
    "start_time": "2023-03-01T19:20:14.025Z"
   },
   {
    "duration": 1033,
    "start_time": "2023-03-01T19:20:16.972Z"
   },
   {
    "duration": 17,
    "start_time": "2023-03-01T19:21:44.911Z"
   },
   {
    "duration": 12,
    "start_time": "2023-03-01T19:21:56.735Z"
   },
   {
    "duration": 7,
    "start_time": "2023-03-01T19:24:44.345Z"
   },
   {
    "duration": 5,
    "start_time": "2023-03-01T19:24:55.449Z"
   },
   {
    "duration": 4,
    "start_time": "2023-03-01T19:25:35.236Z"
   },
   {
    "duration": 5,
    "start_time": "2023-03-01T19:28:36.222Z"
   },
   {
    "duration": 4,
    "start_time": "2023-03-01T19:28:39.097Z"
   },
   {
    "duration": 4,
    "start_time": "2023-03-01T19:28:40.651Z"
   },
   {
    "duration": 4,
    "start_time": "2023-03-01T19:28:57.329Z"
   },
   {
    "duration": 3,
    "start_time": "2023-03-01T19:28:59.050Z"
   },
   {
    "duration": 18,
    "start_time": "2023-03-01T19:29:09.716Z"
   },
   {
    "duration": 4,
    "start_time": "2023-03-01T19:30:00.346Z"
   },
   {
    "duration": 5,
    "start_time": "2023-03-01T19:30:21.877Z"
   },
   {
    "duration": 16,
    "start_time": "2023-03-01T19:30:55.774Z"
   },
   {
    "duration": 16,
    "start_time": "2023-03-01T19:31:05.068Z"
   },
   {
    "duration": 15,
    "start_time": "2023-03-01T19:32:35.502Z"
   },
   {
    "duration": 13,
    "start_time": "2023-03-01T19:32:48.540Z"
   },
   {
    "duration": 5,
    "start_time": "2023-03-01T19:32:59.998Z"
   },
   {
    "duration": 5,
    "start_time": "2023-03-01T19:33:12.443Z"
   },
   {
    "duration": 5,
    "start_time": "2023-03-01T19:33:20.190Z"
   },
   {
    "duration": 9,
    "start_time": "2023-03-01T19:33:33.636Z"
   },
   {
    "duration": 3,
    "start_time": "2023-03-01T19:33:45.014Z"
   },
   {
    "duration": 5,
    "start_time": "2023-03-01T19:34:00.148Z"
   },
   {
    "duration": 5,
    "start_time": "2023-03-01T19:34:05.345Z"
   },
   {
    "duration": 5,
    "start_time": "2023-03-01T19:34:17.158Z"
   },
   {
    "duration": 5,
    "start_time": "2023-03-01T19:34:20.364Z"
   },
   {
    "duration": 3,
    "start_time": "2023-03-01T19:34:48.455Z"
   },
   {
    "duration": 20,
    "start_time": "2023-03-01T19:34:56.758Z"
   },
   {
    "duration": 2938,
    "start_time": "2023-03-01T19:35:00.092Z"
   },
   {
    "duration": 4,
    "start_time": "2023-03-01T19:35:03.034Z"
   },
   {
    "duration": 673,
    "start_time": "2023-03-01T19:35:03.040Z"
   },
   {
    "duration": 25,
    "start_time": "2023-03-01T19:35:03.715Z"
   },
   {
    "duration": 3,
    "start_time": "2023-03-01T19:35:03.743Z"
   },
   {
    "duration": 107,
    "start_time": "2023-03-01T19:35:03.747Z"
   },
   {
    "duration": 11,
    "start_time": "2023-03-01T19:35:03.855Z"
   },
   {
    "duration": 6,
    "start_time": "2023-03-01T19:35:03.869Z"
   },
   {
    "duration": 22,
    "start_time": "2023-03-01T19:35:03.876Z"
   },
   {
    "duration": 12478,
    "start_time": "2023-03-01T19:35:03.900Z"
   },
   {
    "duration": 8,
    "start_time": "2023-03-01T19:35:16.380Z"
   },
   {
    "duration": 271,
    "start_time": "2023-03-01T19:35:16.389Z"
   },
   {
    "duration": 7,
    "start_time": "2023-03-01T19:35:16.662Z"
   },
   {
    "duration": 310,
    "start_time": "2023-03-01T19:35:16.672Z"
   },
   {
    "duration": 7,
    "start_time": "2023-03-01T19:35:16.983Z"
   },
   {
    "duration": 9,
    "start_time": "2023-03-01T19:35:16.991Z"
   },
   {
    "duration": 9,
    "start_time": "2023-03-01T19:35:17.002Z"
   },
   {
    "duration": 25,
    "start_time": "2023-03-01T19:35:17.013Z"
   },
   {
    "duration": 939,
    "start_time": "2023-03-01T19:35:17.040Z"
   },
   {
    "duration": 6,
    "start_time": "2023-03-01T19:35:17.981Z"
   },
   {
    "duration": 1160,
    "start_time": "2023-03-01T19:35:17.989Z"
   },
   {
    "duration": 1002,
    "start_time": "2023-03-01T19:35:19.150Z"
   },
   {
    "duration": 5,
    "start_time": "2023-03-01T19:35:20.154Z"
   },
   {
    "duration": 8,
    "start_time": "2023-03-01T19:35:20.161Z"
   },
   {
    "duration": 18,
    "start_time": "2023-03-01T19:35:20.170Z"
   },
   {
    "duration": 15,
    "start_time": "2023-03-01T19:35:20.190Z"
   },
   {
    "duration": 17,
    "start_time": "2023-03-01T19:35:20.207Z"
   },
   {
    "duration": 20,
    "start_time": "2023-03-01T19:35:20.226Z"
   },
   {
    "duration": 28,
    "start_time": "2023-03-01T19:35:20.248Z"
   },
   {
    "duration": 11,
    "start_time": "2023-03-01T19:35:20.278Z"
   },
   {
    "duration": 27,
    "start_time": "2023-03-01T19:35:20.291Z"
   },
   {
    "duration": 32,
    "start_time": "2023-03-01T19:35:20.320Z"
   },
   {
    "duration": 13,
    "start_time": "2023-03-01T19:35:20.355Z"
   },
   {
    "duration": 20,
    "start_time": "2023-03-01T19:35:20.369Z"
   },
   {
    "duration": 10,
    "start_time": "2023-03-01T19:35:20.391Z"
   },
   {
    "duration": 81980,
    "start_time": "2023-03-01T19:35:20.402Z"
   },
   {
    "duration": 7,
    "start_time": "2023-03-01T19:36:42.384Z"
   },
   {
    "duration": 27,
    "start_time": "2023-03-01T19:36:42.393Z"
   },
   {
    "duration": 59,
    "start_time": "2023-03-01T19:36:42.422Z"
   },
   {
    "duration": 0,
    "start_time": "2023-03-01T19:36:42.483Z"
   },
   {
    "duration": 13,
    "start_time": "2023-03-01T19:38:42.082Z"
   },
   {
    "duration": 15,
    "start_time": "2023-03-01T19:39:06.135Z"
   },
   {
    "duration": 2663,
    "start_time": "2023-03-01T19:40:04.619Z"
   },
   {
    "duration": 4,
    "start_time": "2023-03-01T19:40:07.285Z"
   },
   {
    "duration": 661,
    "start_time": "2023-03-01T19:40:07.291Z"
   },
   {
    "duration": 16,
    "start_time": "2023-03-01T19:40:07.955Z"
   },
   {
    "duration": 4,
    "start_time": "2023-03-01T19:40:07.973Z"
   },
   {
    "duration": 123,
    "start_time": "2023-03-01T19:40:07.980Z"
   },
   {
    "duration": 10,
    "start_time": "2023-03-01T19:40:08.105Z"
   },
   {
    "duration": 15,
    "start_time": "2023-03-01T19:40:08.117Z"
   },
   {
    "duration": 27,
    "start_time": "2023-03-01T19:40:08.138Z"
   },
   {
    "duration": 12352,
    "start_time": "2023-03-01T19:40:08.168Z"
   },
   {
    "duration": 8,
    "start_time": "2023-03-01T19:40:20.522Z"
   },
   {
    "duration": 223,
    "start_time": "2023-03-01T19:40:20.538Z"
   },
   {
    "duration": 7,
    "start_time": "2023-03-01T19:40:20.763Z"
   },
   {
    "duration": 312,
    "start_time": "2023-03-01T19:40:20.771Z"
   },
   {
    "duration": 5,
    "start_time": "2023-03-01T19:40:21.085Z"
   },
   {
    "duration": 11,
    "start_time": "2023-03-01T19:40:21.092Z"
   },
   {
    "duration": 7,
    "start_time": "2023-03-01T19:40:21.105Z"
   },
   {
    "duration": 18,
    "start_time": "2023-03-01T19:40:21.113Z"
   },
   {
    "duration": 954,
    "start_time": "2023-03-01T19:40:21.133Z"
   },
   {
    "duration": 7,
    "start_time": "2023-03-01T19:40:22.089Z"
   },
   {
    "duration": 1200,
    "start_time": "2023-03-01T19:40:22.098Z"
   },
   {
    "duration": 941,
    "start_time": "2023-03-01T19:40:23.300Z"
   },
   {
    "duration": 5,
    "start_time": "2023-03-01T19:40:24.243Z"
   },
   {
    "duration": 20,
    "start_time": "2023-03-01T19:40:24.249Z"
   },
   {
    "duration": 46,
    "start_time": "2023-03-01T19:40:24.272Z"
   },
   {
    "duration": 54,
    "start_time": "2023-03-01T19:40:24.320Z"
   },
   {
    "duration": 21,
    "start_time": "2023-03-01T19:40:24.376Z"
   },
   {
    "duration": 40,
    "start_time": "2023-03-01T19:40:24.402Z"
   },
   {
    "duration": 36,
    "start_time": "2023-03-01T19:40:24.444Z"
   },
   {
    "duration": 35,
    "start_time": "2023-03-01T19:40:24.482Z"
   },
   {
    "duration": 33,
    "start_time": "2023-03-01T19:40:24.519Z"
   },
   {
    "duration": 40,
    "start_time": "2023-03-01T19:40:24.553Z"
   },
   {
    "duration": 16,
    "start_time": "2023-03-01T19:40:24.594Z"
   },
   {
    "duration": 40,
    "start_time": "2023-03-01T19:40:24.611Z"
   },
   {
    "duration": 31,
    "start_time": "2023-03-01T19:40:24.653Z"
   },
   {
    "duration": 27,
    "start_time": "2023-03-01T19:40:24.686Z"
   },
   {
    "duration": 33,
    "start_time": "2023-03-01T19:40:24.715Z"
   },
   {
    "duration": 32,
    "start_time": "2023-03-01T19:40:24.750Z"
   },
   {
    "duration": 48,
    "start_time": "2023-03-01T19:40:24.784Z"
   },
   {
    "duration": 38,
    "start_time": "2023-03-01T19:40:24.833Z"
   },
   {
    "duration": 16,
    "start_time": "2023-03-01T19:40:42.058Z"
   },
   {
    "duration": 2782,
    "start_time": "2023-03-01T19:41:19.970Z"
   },
   {
    "duration": 4,
    "start_time": "2023-03-01T19:41:22.755Z"
   },
   {
    "duration": 682,
    "start_time": "2023-03-01T19:41:22.761Z"
   },
   {
    "duration": 15,
    "start_time": "2023-03-01T19:41:23.445Z"
   },
   {
    "duration": 5,
    "start_time": "2023-03-01T19:41:23.462Z"
   },
   {
    "duration": 112,
    "start_time": "2023-03-01T19:41:23.469Z"
   },
   {
    "duration": 10,
    "start_time": "2023-03-01T19:41:23.583Z"
   },
   {
    "duration": 6,
    "start_time": "2023-03-01T19:41:23.595Z"
   },
   {
    "duration": 21,
    "start_time": "2023-03-01T19:41:23.603Z"
   },
   {
    "duration": 11790,
    "start_time": "2023-03-01T19:41:23.627Z"
   },
   {
    "duration": 9,
    "start_time": "2023-03-01T19:41:35.419Z"
   },
   {
    "duration": 226,
    "start_time": "2023-03-01T19:41:35.437Z"
   },
   {
    "duration": 7,
    "start_time": "2023-03-01T19:41:35.665Z"
   },
   {
    "duration": 535,
    "start_time": "2023-03-01T19:41:35.673Z"
   },
   {
    "duration": 5,
    "start_time": "2023-03-01T19:41:36.210Z"
   },
   {
    "duration": 9,
    "start_time": "2023-03-01T19:41:36.217Z"
   },
   {
    "duration": 5,
    "start_time": "2023-03-01T19:41:36.238Z"
   },
   {
    "duration": 7,
    "start_time": "2023-03-01T19:41:36.245Z"
   },
   {
    "duration": 967,
    "start_time": "2023-03-01T19:41:36.254Z"
   },
   {
    "duration": 16,
    "start_time": "2023-03-01T19:41:37.223Z"
   },
   {
    "duration": 1212,
    "start_time": "2023-03-01T19:41:37.241Z"
   },
   {
    "duration": 946,
    "start_time": "2023-03-01T19:41:38.455Z"
   },
   {
    "duration": 13,
    "start_time": "2023-03-01T19:41:43.393Z"
   },
   {
    "duration": 15,
    "start_time": "2023-03-01T19:42:45.110Z"
   },
   {
    "duration": 10,
    "start_time": "2023-03-01T19:43:47.015Z"
   },
   {
    "duration": 4,
    "start_time": "2023-03-01T19:43:51.545Z"
   },
   {
    "duration": 16,
    "start_time": "2023-03-01T19:44:02.910Z"
   },
   {
    "duration": 4,
    "start_time": "2023-03-01T19:45:07.529Z"
   },
   {
    "duration": 7,
    "start_time": "2023-03-01T19:45:09.450Z"
   },
   {
    "duration": 4,
    "start_time": "2023-03-01T19:45:18.504Z"
   },
   {
    "duration": 4,
    "start_time": "2023-03-01T19:45:29.878Z"
   },
   {
    "duration": 5,
    "start_time": "2023-03-01T19:46:11.401Z"
   },
   {
    "duration": 4,
    "start_time": "2023-03-01T19:46:15.345Z"
   },
   {
    "duration": 4,
    "start_time": "2023-03-01T19:46:18.576Z"
   },
   {
    "duration": 5,
    "start_time": "2023-03-01T19:46:20.628Z"
   },
   {
    "duration": 3,
    "start_time": "2023-03-01T19:46:27.742Z"
   },
   {
    "duration": 8,
    "start_time": "2023-03-01T19:46:29.609Z"
   },
   {
    "duration": 6,
    "start_time": "2023-03-01T19:46:30.935Z"
   },
   {
    "duration": 3,
    "start_time": "2023-03-01T19:46:32.980Z"
   },
   {
    "duration": 14,
    "start_time": "2023-03-01T19:46:34.050Z"
   },
   {
    "duration": 4,
    "start_time": "2023-03-01T19:46:35.402Z"
   },
   {
    "duration": 3,
    "start_time": "2023-03-01T19:46:36.763Z"
   },
   {
    "duration": 3,
    "start_time": "2023-03-01T19:46:38.179Z"
   },
   {
    "duration": 3,
    "start_time": "2023-03-01T19:46:39.593Z"
   },
   {
    "duration": 3,
    "start_time": "2023-03-01T19:46:41.040Z"
   },
   {
    "duration": 3,
    "start_time": "2023-03-01T19:46:42.745Z"
   },
   {
    "duration": 82956,
    "start_time": "2023-03-01T19:46:46.571Z"
   },
   {
    "duration": 5,
    "start_time": "2023-03-01T19:48:42.488Z"
   },
   {
    "duration": 4,
    "start_time": "2023-03-01T19:48:45.225Z"
   },
   {
    "duration": 52,
    "start_time": "2023-03-01T19:48:51.827Z"
   },
   {
    "duration": 7,
    "start_time": "2023-03-01T19:48:56.927Z"
   },
   {
    "duration": 6220,
    "start_time": "2023-03-02T05:28:34.407Z"
   },
   {
    "duration": 1506,
    "start_time": "2023-03-02T05:28:40.631Z"
   },
   {
    "duration": 2973,
    "start_time": "2023-03-02T05:28:42.140Z"
   },
   {
    "duration": 15,
    "start_time": "2023-03-02T05:28:45.115Z"
   },
   {
    "duration": 3,
    "start_time": "2023-03-02T05:28:45.132Z"
   },
   {
    "duration": 101,
    "start_time": "2023-03-02T05:28:45.137Z"
   },
   {
    "duration": 18,
    "start_time": "2023-03-02T05:28:45.240Z"
   },
   {
    "duration": 5,
    "start_time": "2023-03-02T05:28:45.260Z"
   },
   {
    "duration": 15,
    "start_time": "2023-03-02T05:28:45.266Z"
   },
   {
    "duration": 15125,
    "start_time": "2023-03-02T05:28:45.283Z"
   },
   {
    "duration": 8,
    "start_time": "2023-03-02T05:29:00.410Z"
   },
   {
    "duration": 243,
    "start_time": "2023-03-02T05:29:00.420Z"
   },
   {
    "duration": 7,
    "start_time": "2023-03-02T05:29:00.664Z"
   },
   {
    "duration": 335,
    "start_time": "2023-03-02T05:29:00.673Z"
   },
   {
    "duration": 5,
    "start_time": "2023-03-02T05:29:01.010Z"
   },
   {
    "duration": 15,
    "start_time": "2023-03-02T05:29:01.017Z"
   },
   {
    "duration": 40,
    "start_time": "2023-03-02T05:29:01.037Z"
   },
   {
    "duration": 9,
    "start_time": "2023-03-02T05:29:01.079Z"
   },
   {
    "duration": 1014,
    "start_time": "2023-03-02T05:29:01.090Z"
   },
   {
    "duration": 7,
    "start_time": "2023-03-02T05:29:02.105Z"
   },
   {
    "duration": 1068,
    "start_time": "2023-03-02T05:29:02.114Z"
   },
   {
    "duration": 1083,
    "start_time": "2023-03-02T05:29:03.184Z"
   },
   {
    "duration": 4,
    "start_time": "2023-03-02T05:29:04.269Z"
   },
   {
    "duration": 14,
    "start_time": "2023-03-02T05:29:04.275Z"
   },
   {
    "duration": 18,
    "start_time": "2023-03-02T05:29:04.291Z"
   },
   {
    "duration": 11,
    "start_time": "2023-03-02T05:29:04.311Z"
   },
   {
    "duration": 19,
    "start_time": "2023-03-02T05:29:04.325Z"
   },
   {
    "duration": 29,
    "start_time": "2023-03-02T05:29:04.346Z"
   },
   {
    "duration": 5,
    "start_time": "2023-03-02T05:29:04.377Z"
   },
   {
    "duration": 10,
    "start_time": "2023-03-02T05:29:04.384Z"
   },
   {
    "duration": 2675,
    "start_time": "2023-03-02T05:30:28.634Z"
   },
   {
    "duration": 4,
    "start_time": "2023-03-02T05:30:31.311Z"
   },
   {
    "duration": 737,
    "start_time": "2023-03-02T05:30:31.317Z"
   },
   {
    "duration": 27,
    "start_time": "2023-03-02T05:30:32.056Z"
   },
   {
    "duration": 25,
    "start_time": "2023-03-02T05:30:32.084Z"
   },
   {
    "duration": 24,
    "start_time": "2023-03-02T05:30:44.560Z"
   },
   {
    "duration": 4,
    "start_time": "2023-03-02T05:31:58.497Z"
   },
   {
    "duration": 23,
    "start_time": "2023-03-02T05:32:16.531Z"
   },
   {
    "duration": 2774,
    "start_time": "2023-03-02T05:40:58.836Z"
   },
   {
    "duration": 6,
    "start_time": "2023-03-02T05:41:01.613Z"
   },
   {
    "duration": 758,
    "start_time": "2023-03-02T05:41:01.621Z"
   },
   {
    "duration": 36,
    "start_time": "2023-03-02T05:41:02.381Z"
   },
   {
    "duration": 65,
    "start_time": "2023-03-02T05:41:02.419Z"
   },
   {
    "duration": 63,
    "start_time": "2023-03-02T05:41:02.486Z"
   },
   {
    "duration": 36,
    "start_time": "2023-03-02T05:41:02.552Z"
   },
   {
    "duration": 9,
    "start_time": "2023-03-02T05:41:02.591Z"
   },
   {
    "duration": 148,
    "start_time": "2023-03-02T05:41:02.602Z"
   },
   {
    "duration": 9,
    "start_time": "2023-03-02T05:41:02.753Z"
   },
   {
    "duration": 15,
    "start_time": "2023-03-02T05:41:02.764Z"
   },
   {
    "duration": 15,
    "start_time": "2023-03-02T05:41:02.781Z"
   },
   {
    "duration": 197,
    "start_time": "2023-03-02T05:41:08.173Z"
   },
   {
    "duration": 61,
    "start_time": "2023-03-02T05:41:42.490Z"
   },
   {
    "duration": 48,
    "start_time": "2023-03-02T05:42:59.038Z"
   },
   {
    "duration": 48,
    "start_time": "2023-03-02T05:43:31.920Z"
   },
   {
    "duration": 34,
    "start_time": "2023-03-02T05:44:09.646Z"
   },
   {
    "duration": 21,
    "start_time": "2023-03-02T05:44:19.635Z"
   },
   {
    "duration": 53,
    "start_time": "2023-03-02T05:44:28.394Z"
   },
   {
    "duration": 6,
    "start_time": "2023-03-02T05:45:41.399Z"
   },
   {
    "duration": 9,
    "start_time": "2023-03-02T05:45:46.436Z"
   },
   {
    "duration": 34,
    "start_time": "2023-03-02T05:46:24.258Z"
   },
   {
    "duration": 17120,
    "start_time": "2023-03-02T05:47:00.916Z"
   },
   {
    "duration": 41,
    "start_time": "2023-03-02T05:48:29.073Z"
   },
   {
    "duration": 17,
    "start_time": "2023-03-02T05:48:38.847Z"
   },
   {
    "duration": 218,
    "start_time": "2023-03-02T05:50:13.278Z"
   },
   {
    "duration": 2657,
    "start_time": "2023-03-02T05:52:28.220Z"
   },
   {
    "duration": 4,
    "start_time": "2023-03-02T05:52:30.880Z"
   },
   {
    "duration": 747,
    "start_time": "2023-03-02T05:52:30.886Z"
   },
   {
    "duration": 24,
    "start_time": "2023-03-02T05:52:31.635Z"
   },
   {
    "duration": 50,
    "start_time": "2023-03-02T05:52:31.661Z"
   },
   {
    "duration": 55,
    "start_time": "2023-03-02T05:52:31.713Z"
   },
   {
    "duration": 14,
    "start_time": "2023-03-02T05:52:31.771Z"
   },
   {
    "duration": 15,
    "start_time": "2023-03-02T05:52:31.788Z"
   },
   {
    "duration": 134,
    "start_time": "2023-03-02T05:52:31.805Z"
   },
   {
    "duration": 14,
    "start_time": "2023-03-02T05:52:31.942Z"
   },
   {
    "duration": 15,
    "start_time": "2023-03-02T05:52:31.958Z"
   },
   {
    "duration": 32,
    "start_time": "2023-03-02T05:52:31.974Z"
   },
   {
    "duration": 12543,
    "start_time": "2023-03-02T05:52:32.007Z"
   },
   {
    "duration": 2,
    "start_time": "2023-03-02T05:52:44.552Z"
   },
   {
    "duration": 21,
    "start_time": "2023-03-02T05:52:44.556Z"
   },
   {
    "duration": 330,
    "start_time": "2023-03-02T05:52:44.578Z"
   },
   {
    "duration": 3,
    "start_time": "2023-03-02T05:52:44.910Z"
   },
   {
    "duration": 23,
    "start_time": "2023-03-02T05:52:44.915Z"
   },
   {
    "duration": 310,
    "start_time": "2023-03-02T05:52:44.940Z"
   },
   {
    "duration": 5,
    "start_time": "2023-03-02T05:52:45.252Z"
   },
   {
    "duration": 9,
    "start_time": "2023-03-02T05:52:45.259Z"
   },
   {
    "duration": 9,
    "start_time": "2023-03-02T05:52:45.270Z"
   },
   {
    "duration": 7,
    "start_time": "2023-03-02T05:52:45.281Z"
   },
   {
    "duration": 953,
    "start_time": "2023-03-02T05:52:45.290Z"
   },
   {
    "duration": 155,
    "start_time": "2023-03-02T05:52:46.245Z"
   },
   {
    "duration": 961,
    "start_time": "2023-03-02T05:52:46.402Z"
   },
   {
    "duration": 1139,
    "start_time": "2023-03-02T05:52:47.365Z"
   },
   {
    "duration": 7,
    "start_time": "2023-03-02T05:53:11.222Z"
   },
   {
    "duration": 4,
    "start_time": "2023-03-02T05:53:19.843Z"
   },
   {
    "duration": 9,
    "start_time": "2023-03-02T05:54:44.751Z"
   },
   {
    "duration": 3107,
    "start_time": "2023-03-02T05:55:03.644Z"
   },
   {
    "duration": 6,
    "start_time": "2023-03-02T05:55:06.754Z"
   },
   {
    "duration": 725,
    "start_time": "2023-03-02T05:55:06.761Z"
   },
   {
    "duration": 24,
    "start_time": "2023-03-02T05:55:07.489Z"
   },
   {
    "duration": 37,
    "start_time": "2023-03-02T05:55:07.515Z"
   },
   {
    "duration": 30,
    "start_time": "2023-03-02T05:55:07.553Z"
   },
   {
    "duration": 30,
    "start_time": "2023-03-02T05:55:07.585Z"
   },
   {
    "duration": 143,
    "start_time": "2023-03-02T05:55:07.617Z"
   },
   {
    "duration": 103,
    "start_time": "2023-03-02T05:55:07.761Z"
   },
   {
    "duration": 12,
    "start_time": "2023-03-02T05:55:07.867Z"
   },
   {
    "duration": 29,
    "start_time": "2023-03-02T05:55:07.881Z"
   },
   {
    "duration": 29,
    "start_time": "2023-03-02T05:55:07.912Z"
   },
   {
    "duration": 17496,
    "start_time": "2023-03-02T05:55:07.943Z"
   },
   {
    "duration": 3,
    "start_time": "2023-03-02T05:55:25.442Z"
   },
   {
    "duration": 34,
    "start_time": "2023-03-02T05:55:25.447Z"
   },
   {
    "duration": 282,
    "start_time": "2023-03-02T05:55:25.483Z"
   },
   {
    "duration": 3,
    "start_time": "2023-03-02T05:55:25.767Z"
   },
   {
    "duration": 16,
    "start_time": "2023-03-02T05:55:25.771Z"
   },
   {
    "duration": 316,
    "start_time": "2023-03-02T05:55:25.789Z"
   },
   {
    "duration": 5,
    "start_time": "2023-03-02T05:55:26.107Z"
   },
   {
    "duration": 14,
    "start_time": "2023-03-02T05:55:26.114Z"
   },
   {
    "duration": 30,
    "start_time": "2023-03-02T05:55:26.130Z"
   },
   {
    "duration": 20,
    "start_time": "2023-03-02T05:55:26.162Z"
   },
   {
    "duration": 1009,
    "start_time": "2023-03-02T05:55:26.184Z"
   },
   {
    "duration": 7,
    "start_time": "2023-03-02T05:55:27.196Z"
   },
   {
    "duration": 1254,
    "start_time": "2023-03-02T05:55:27.205Z"
   },
   {
    "duration": 994,
    "start_time": "2023-03-02T05:55:28.461Z"
   },
   {
    "duration": 4,
    "start_time": "2023-03-02T05:55:29.459Z"
   },
   {
    "duration": 27,
    "start_time": "2023-03-02T05:55:29.465Z"
   },
   {
    "duration": 8,
    "start_time": "2023-03-02T05:55:36.255Z"
   },
   {
    "duration": 4,
    "start_time": "2023-03-02T05:55:37.902Z"
   },
   {
    "duration": 2665,
    "start_time": "2023-03-02T05:55:49.368Z"
   },
   {
    "duration": 6,
    "start_time": "2023-03-02T05:55:52.036Z"
   },
   {
    "duration": 718,
    "start_time": "2023-03-02T05:55:52.044Z"
   },
   {
    "duration": 27,
    "start_time": "2023-03-02T05:55:52.764Z"
   },
   {
    "duration": 30,
    "start_time": "2023-03-02T05:55:52.794Z"
   },
   {
    "duration": 32,
    "start_time": "2023-03-02T05:55:52.839Z"
   },
   {
    "duration": 18,
    "start_time": "2023-03-02T05:55:52.873Z"
   },
   {
    "duration": 3,
    "start_time": "2023-03-02T05:55:52.893Z"
   },
   {
    "duration": 124,
    "start_time": "2023-03-02T05:55:52.898Z"
   },
   {
    "duration": 20,
    "start_time": "2023-03-02T05:55:53.024Z"
   },
   {
    "duration": 27,
    "start_time": "2023-03-02T05:55:53.046Z"
   },
   {
    "duration": 39,
    "start_time": "2023-03-02T05:55:53.075Z"
   },
   {
    "duration": 16980,
    "start_time": "2023-03-02T05:55:53.116Z"
   },
   {
    "duration": 2,
    "start_time": "2023-03-02T05:56:10.100Z"
   },
   {
    "duration": 18,
    "start_time": "2023-03-02T05:56:10.103Z"
   },
   {
    "duration": 277,
    "start_time": "2023-03-02T05:56:10.122Z"
   },
   {
    "duration": 4,
    "start_time": "2023-03-02T05:56:10.400Z"
   },
   {
    "duration": 24,
    "start_time": "2023-03-02T05:56:10.406Z"
   },
   {
    "duration": 503,
    "start_time": "2023-03-02T05:56:10.432Z"
   },
   {
    "duration": 7,
    "start_time": "2023-03-02T05:56:10.938Z"
   },
   {
    "duration": 17,
    "start_time": "2023-03-02T05:56:10.947Z"
   },
   {
    "duration": 15,
    "start_time": "2023-03-02T05:56:10.967Z"
   },
   {
    "duration": 20,
    "start_time": "2023-03-02T05:56:10.984Z"
   },
   {
    "duration": 984,
    "start_time": "2023-03-02T05:56:11.007Z"
   },
   {
    "duration": 7,
    "start_time": "2023-03-02T05:56:11.993Z"
   },
   {
    "duration": 1222,
    "start_time": "2023-03-02T05:56:12.002Z"
   },
   {
    "duration": 988,
    "start_time": "2023-03-02T05:56:13.226Z"
   },
   {
    "duration": 4,
    "start_time": "2023-03-02T05:56:14.216Z"
   },
   {
    "duration": 32,
    "start_time": "2023-03-02T05:56:14.222Z"
   },
   {
    "duration": 0,
    "start_time": "2023-03-02T05:56:14.256Z"
   },
   {
    "duration": 0,
    "start_time": "2023-03-02T05:56:14.258Z"
   },
   {
    "duration": 0,
    "start_time": "2023-03-02T05:56:14.260Z"
   },
   {
    "duration": 0,
    "start_time": "2023-03-02T05:56:14.261Z"
   },
   {
    "duration": 0,
    "start_time": "2023-03-02T05:56:14.263Z"
   },
   {
    "duration": 0,
    "start_time": "2023-03-02T05:56:14.264Z"
   },
   {
    "duration": 0,
    "start_time": "2023-03-02T05:56:14.266Z"
   },
   {
    "duration": 0,
    "start_time": "2023-03-02T05:56:14.267Z"
   },
   {
    "duration": 0,
    "start_time": "2023-03-02T05:56:14.268Z"
   },
   {
    "duration": 0,
    "start_time": "2023-03-02T05:56:14.269Z"
   },
   {
    "duration": 0,
    "start_time": "2023-03-02T05:56:14.271Z"
   },
   {
    "duration": 0,
    "start_time": "2023-03-02T05:56:14.273Z"
   },
   {
    "duration": 0,
    "start_time": "2023-03-02T05:56:14.274Z"
   },
   {
    "duration": 0,
    "start_time": "2023-03-02T05:56:14.275Z"
   },
   {
    "duration": 0,
    "start_time": "2023-03-02T05:56:14.277Z"
   },
   {
    "duration": 0,
    "start_time": "2023-03-02T05:56:14.278Z"
   },
   {
    "duration": 0,
    "start_time": "2023-03-02T05:56:14.280Z"
   },
   {
    "duration": 0,
    "start_time": "2023-03-02T05:56:14.282Z"
   },
   {
    "duration": 7,
    "start_time": "2023-03-02T05:56:44.720Z"
   },
   {
    "duration": 4,
    "start_time": "2023-03-02T05:56:46.478Z"
   },
   {
    "duration": 16,
    "start_time": "2023-03-02T05:58:04.905Z"
   },
   {
    "duration": 4,
    "start_time": "2023-03-02T05:58:11.263Z"
   },
   {
    "duration": 3,
    "start_time": "2023-03-02T06:00:06.327Z"
   },
   {
    "duration": 63,
    "start_time": "2023-03-02T06:00:07.519Z"
   },
   {
    "duration": 74,
    "start_time": "2023-03-02T06:00:17.877Z"
   },
   {
    "duration": 1004,
    "start_time": "2023-03-02T06:01:06.674Z"
   },
   {
    "duration": 2710,
    "start_time": "2023-03-02T06:01:24.267Z"
   },
   {
    "duration": 5,
    "start_time": "2023-03-02T06:01:26.980Z"
   },
   {
    "duration": 646,
    "start_time": "2023-03-02T06:01:26.987Z"
   },
   {
    "duration": 25,
    "start_time": "2023-03-02T06:01:27.635Z"
   },
   {
    "duration": 26,
    "start_time": "2023-03-02T06:01:27.663Z"
   },
   {
    "duration": 29,
    "start_time": "2023-03-02T06:01:27.691Z"
   },
   {
    "duration": 16,
    "start_time": "2023-03-02T06:01:27.739Z"
   },
   {
    "duration": 13,
    "start_time": "2023-03-02T06:01:27.757Z"
   },
   {
    "duration": 110,
    "start_time": "2023-03-02T06:01:27.772Z"
   },
   {
    "duration": 10,
    "start_time": "2023-03-02T06:01:27.883Z"
   },
   {
    "duration": 5,
    "start_time": "2023-03-02T06:01:27.895Z"
   },
   {
    "duration": 22,
    "start_time": "2023-03-02T06:01:27.901Z"
   },
   {
    "duration": 21690,
    "start_time": "2023-03-02T06:01:27.925Z"
   },
   {
    "duration": 3,
    "start_time": "2023-03-02T06:01:49.619Z"
   },
   {
    "duration": 17,
    "start_time": "2023-03-02T06:01:49.624Z"
   },
   {
    "duration": 357,
    "start_time": "2023-03-02T06:01:49.643Z"
   },
   {
    "duration": 2,
    "start_time": "2023-03-02T06:01:50.002Z"
   },
   {
    "duration": 29,
    "start_time": "2023-03-02T06:01:50.006Z"
   },
   {
    "duration": 314,
    "start_time": "2023-03-02T06:01:50.037Z"
   },
   {
    "duration": 6,
    "start_time": "2023-03-02T06:01:50.353Z"
   },
   {
    "duration": 26,
    "start_time": "2023-03-02T06:01:50.361Z"
   },
   {
    "duration": 26,
    "start_time": "2023-03-02T06:01:50.389Z"
   },
   {
    "duration": 10,
    "start_time": "2023-03-02T06:01:50.417Z"
   },
   {
    "duration": 1273,
    "start_time": "2023-03-02T06:01:50.429Z"
   },
   {
    "duration": 8,
    "start_time": "2023-03-02T06:01:51.705Z"
   },
   {
    "duration": 1050,
    "start_time": "2023-03-02T06:01:51.715Z"
   },
   {
    "duration": 1146,
    "start_time": "2023-03-02T06:01:52.767Z"
   },
   {
    "duration": 4,
    "start_time": "2023-03-02T06:01:53.915Z"
   },
   {
    "duration": 20,
    "start_time": "2023-03-02T06:01:53.921Z"
   },
   {
    "duration": 10,
    "start_time": "2023-03-02T06:01:53.943Z"
   },
   {
    "duration": 12,
    "start_time": "2023-03-02T06:01:53.955Z"
   },
   {
    "duration": 959,
    "start_time": "2023-03-02T06:01:58.441Z"
   },
   {
    "duration": 10,
    "start_time": "2023-03-02T06:02:24.418Z"
   },
   {
    "duration": 19,
    "start_time": "2023-03-02T06:02:37.010Z"
   },
   {
    "duration": 15,
    "start_time": "2023-03-02T06:03:17.224Z"
   },
   {
    "duration": 2626,
    "start_time": "2023-03-02T06:03:29.887Z"
   },
   {
    "duration": 6,
    "start_time": "2023-03-02T06:03:32.516Z"
   },
   {
    "duration": 718,
    "start_time": "2023-03-02T06:03:32.524Z"
   },
   {
    "duration": 26,
    "start_time": "2023-03-02T06:03:33.244Z"
   },
   {
    "duration": 40,
    "start_time": "2023-03-02T06:03:33.272Z"
   },
   {
    "duration": 47,
    "start_time": "2023-03-02T06:03:33.314Z"
   },
   {
    "duration": 41,
    "start_time": "2023-03-02T06:03:33.363Z"
   },
   {
    "duration": 20,
    "start_time": "2023-03-02T06:03:33.406Z"
   },
   {
    "duration": 116,
    "start_time": "2023-03-02T06:03:33.428Z"
   },
   {
    "duration": 10,
    "start_time": "2023-03-02T06:03:33.548Z"
   },
   {
    "duration": 57,
    "start_time": "2023-03-02T06:03:33.560Z"
   },
   {
    "duration": 65,
    "start_time": "2023-03-02T06:03:33.618Z"
   },
   {
    "duration": 16949,
    "start_time": "2023-03-02T06:03:33.685Z"
   },
   {
    "duration": 3,
    "start_time": "2023-03-02T06:03:50.635Z"
   },
   {
    "duration": 34,
    "start_time": "2023-03-02T06:03:50.640Z"
   },
   {
    "duration": 326,
    "start_time": "2023-03-02T06:03:50.677Z"
   },
   {
    "duration": 3,
    "start_time": "2023-03-02T06:03:51.005Z"
   },
   {
    "duration": 18,
    "start_time": "2023-03-02T06:03:51.010Z"
   },
   {
    "duration": 309,
    "start_time": "2023-03-02T06:03:51.039Z"
   },
   {
    "duration": 6,
    "start_time": "2023-03-02T06:03:51.350Z"
   },
   {
    "duration": 33,
    "start_time": "2023-03-02T06:03:51.358Z"
   },
   {
    "duration": 24,
    "start_time": "2023-03-02T06:03:51.393Z"
   },
   {
    "duration": 38,
    "start_time": "2023-03-02T06:03:51.419Z"
   },
   {
    "duration": 1270,
    "start_time": "2023-03-02T06:03:51.459Z"
   },
   {
    "duration": 7,
    "start_time": "2023-03-02T06:03:52.731Z"
   },
   {
    "duration": 992,
    "start_time": "2023-03-02T06:03:52.740Z"
   },
   {
    "duration": 1239,
    "start_time": "2023-03-02T06:03:53.737Z"
   },
   {
    "duration": 4,
    "start_time": "2023-03-02T06:03:54.980Z"
   },
   {
    "duration": 10,
    "start_time": "2023-03-02T06:03:54.986Z"
   },
   {
    "duration": 7,
    "start_time": "2023-03-02T06:03:54.998Z"
   },
   {
    "duration": 7,
    "start_time": "2023-03-02T06:03:55.007Z"
   },
   {
    "duration": 31,
    "start_time": "2023-03-02T06:03:55.016Z"
   },
   {
    "duration": 7,
    "start_time": "2023-03-02T06:04:32.653Z"
   },
   {
    "duration": 30,
    "start_time": "2023-03-02T06:04:43.967Z"
   },
   {
    "duration": 2457,
    "start_time": "2023-03-02T06:05:08.899Z"
   },
   {
    "duration": 5,
    "start_time": "2023-03-02T06:05:11.358Z"
   },
   {
    "duration": 643,
    "start_time": "2023-03-02T06:05:11.364Z"
   },
   {
    "duration": 32,
    "start_time": "2023-03-02T06:05:12.009Z"
   },
   {
    "duration": 22,
    "start_time": "2023-03-02T06:05:12.043Z"
   },
   {
    "duration": 24,
    "start_time": "2023-03-02T06:05:12.067Z"
   },
   {
    "duration": 17,
    "start_time": "2023-03-02T06:05:12.092Z"
   },
   {
    "duration": 4,
    "start_time": "2023-03-02T06:05:12.137Z"
   },
   {
    "duration": 98,
    "start_time": "2023-03-02T06:05:12.143Z"
   },
   {
    "duration": 10,
    "start_time": "2023-03-02T06:05:12.244Z"
   },
   {
    "duration": 5,
    "start_time": "2023-03-02T06:05:12.256Z"
   },
   {
    "duration": 11,
    "start_time": "2023-03-02T06:05:12.263Z"
   },
   {
    "duration": 13634,
    "start_time": "2023-03-02T06:05:12.275Z"
   },
   {
    "duration": 2,
    "start_time": "2023-03-02T06:05:25.911Z"
   },
   {
    "duration": 22,
    "start_time": "2023-03-02T06:05:25.915Z"
   },
   {
    "duration": 261,
    "start_time": "2023-03-02T06:05:25.939Z"
   },
   {
    "duration": 2,
    "start_time": "2023-03-02T06:05:26.202Z"
   },
   {
    "duration": 11,
    "start_time": "2023-03-02T06:05:26.206Z"
   },
   {
    "duration": 322,
    "start_time": "2023-03-02T06:05:26.218Z"
   },
   {
    "duration": 6,
    "start_time": "2023-03-02T06:05:26.542Z"
   },
   {
    "duration": 20,
    "start_time": "2023-03-02T06:05:26.550Z"
   },
   {
    "duration": 24,
    "start_time": "2023-03-02T06:05:26.572Z"
   },
   {
    "duration": 23,
    "start_time": "2023-03-02T06:05:26.598Z"
   },
   {
    "duration": 978,
    "start_time": "2023-03-02T06:05:26.623Z"
   },
   {
    "duration": 7,
    "start_time": "2023-03-02T06:05:27.604Z"
   },
   {
    "duration": 1396,
    "start_time": "2023-03-02T06:05:27.613Z"
   },
   {
    "duration": 970,
    "start_time": "2023-03-02T06:05:29.011Z"
   },
   {
    "duration": 8,
    "start_time": "2023-03-02T06:05:29.984Z"
   },
   {
    "duration": 17,
    "start_time": "2023-03-02T06:05:29.994Z"
   },
   {
    "duration": 35,
    "start_time": "2023-03-02T06:05:30.013Z"
   },
   {
    "duration": 29,
    "start_time": "2023-03-02T06:05:30.050Z"
   },
   {
    "duration": 31,
    "start_time": "2023-03-02T06:05:40.004Z"
   },
   {
    "duration": 8,
    "start_time": "2023-03-02T06:05:42.332Z"
   },
   {
    "duration": 29,
    "start_time": "2023-03-02T06:05:44.403Z"
   },
   {
    "duration": 14,
    "start_time": "2023-03-02T06:06:04.159Z"
   },
   {
    "duration": 4,
    "start_time": "2023-03-02T06:07:34.603Z"
   },
   {
    "duration": 2705,
    "start_time": "2023-03-02T06:09:39.136Z"
   },
   {
    "duration": 5,
    "start_time": "2023-03-02T06:09:41.844Z"
   },
   {
    "duration": 719,
    "start_time": "2023-03-02T06:09:41.851Z"
   },
   {
    "duration": 34,
    "start_time": "2023-03-02T06:09:42.573Z"
   },
   {
    "duration": 44,
    "start_time": "2023-03-02T06:09:42.609Z"
   },
   {
    "duration": 32,
    "start_time": "2023-03-02T06:09:42.655Z"
   },
   {
    "duration": 29,
    "start_time": "2023-03-02T06:09:42.689Z"
   },
   {
    "duration": 19,
    "start_time": "2023-03-02T06:09:42.720Z"
   },
   {
    "duration": 126,
    "start_time": "2023-03-02T06:09:42.742Z"
   },
   {
    "duration": 12,
    "start_time": "2023-03-02T06:09:42.871Z"
   },
   {
    "duration": 6,
    "start_time": "2023-03-02T06:09:42.885Z"
   },
   {
    "duration": 13,
    "start_time": "2023-03-02T06:09:42.894Z"
   },
   {
    "duration": 16439,
    "start_time": "2023-03-02T06:09:42.909Z"
   },
   {
    "duration": 3,
    "start_time": "2023-03-02T06:09:59.350Z"
   },
   {
    "duration": 20,
    "start_time": "2023-03-02T06:09:59.355Z"
   },
   {
    "duration": 331,
    "start_time": "2023-03-02T06:09:59.377Z"
   },
   {
    "duration": 2,
    "start_time": "2023-03-02T06:09:59.710Z"
   },
   {
    "duration": 24,
    "start_time": "2023-03-02T06:09:59.714Z"
   },
   {
    "duration": 294,
    "start_time": "2023-03-02T06:09:59.740Z"
   },
   {
    "duration": 6,
    "start_time": "2023-03-02T06:10:00.035Z"
   },
   {
    "duration": 22,
    "start_time": "2023-03-02T06:10:00.042Z"
   },
   {
    "duration": 18,
    "start_time": "2023-03-02T06:10:00.066Z"
   },
   {
    "duration": 6,
    "start_time": "2023-03-02T06:10:00.086Z"
   },
   {
    "duration": 1223,
    "start_time": "2023-03-02T06:10:00.094Z"
   },
   {
    "duration": 7,
    "start_time": "2023-03-02T06:10:01.320Z"
   },
   {
    "duration": 995,
    "start_time": "2023-03-02T06:10:01.329Z"
   },
   {
    "duration": 1331,
    "start_time": "2023-03-02T06:10:02.325Z"
   },
   {
    "duration": 7,
    "start_time": "2023-03-02T06:10:03.659Z"
   },
   {
    "duration": 16,
    "start_time": "2023-03-02T06:10:03.668Z"
   },
   {
    "duration": 8,
    "start_time": "2023-03-02T06:10:03.685Z"
   },
   {
    "duration": 9,
    "start_time": "2023-03-02T06:10:03.694Z"
   },
   {
    "duration": 11,
    "start_time": "2023-03-02T06:10:03.705Z"
   },
   {
    "duration": 21,
    "start_time": "2023-03-02T06:10:03.717Z"
   },
   {
    "duration": 12,
    "start_time": "2023-03-02T06:10:03.740Z"
   },
   {
    "duration": 3,
    "start_time": "2023-03-02T06:11:21.527Z"
   },
   {
    "duration": 25,
    "start_time": "2023-03-02T06:11:23.072Z"
   },
   {
    "duration": 20,
    "start_time": "2023-03-02T06:11:53.231Z"
   },
   {
    "duration": 16,
    "start_time": "2023-03-02T06:12:12.980Z"
   },
   {
    "duration": 3,
    "start_time": "2023-03-02T06:15:02.056Z"
   },
   {
    "duration": 17,
    "start_time": "2023-03-02T06:15:03.400Z"
   },
   {
    "duration": 28,
    "start_time": "2023-03-02T06:15:10.076Z"
   },
   {
    "duration": 3,
    "start_time": "2023-03-02T06:15:34.683Z"
   },
   {
    "duration": 4,
    "start_time": "2023-03-02T06:15:36.315Z"
   },
   {
    "duration": 4,
    "start_time": "2023-03-02T06:15:37.120Z"
   },
   {
    "duration": 3,
    "start_time": "2023-03-02T06:15:47.200Z"
   },
   {
    "duration": 3,
    "start_time": "2023-03-02T06:15:49.205Z"
   },
   {
    "duration": 3,
    "start_time": "2023-03-02T06:15:56.099Z"
   },
   {
    "duration": 3,
    "start_time": "2023-03-02T06:15:57.595Z"
   },
   {
    "duration": 3,
    "start_time": "2023-03-02T06:16:29.650Z"
   },
   {
    "duration": 3,
    "start_time": "2023-03-02T06:17:25.880Z"
   },
   {
    "duration": 81779,
    "start_time": "2023-03-02T06:17:27.035Z"
   },
   {
    "duration": 4,
    "start_time": "2023-03-02T06:21:38.837Z"
   },
   {
    "duration": 4,
    "start_time": "2023-03-02T06:21:41.430Z"
   },
   {
    "duration": 41,
    "start_time": "2023-03-02T06:21:44.444Z"
   },
   {
    "duration": 35,
    "start_time": "2023-03-02T06:21:46.232Z"
   },
   {
    "duration": 8,
    "start_time": "2023-03-02T06:22:57.763Z"
   },
   {
    "duration": 4,
    "start_time": "2023-03-02T06:25:19.506Z"
   },
   {
    "duration": 3,
    "start_time": "2023-03-02T06:25:20.790Z"
   },
   {
    "duration": 3,
    "start_time": "2023-03-02T06:25:21.216Z"
   },
   {
    "duration": 3,
    "start_time": "2023-03-02T06:25:22.996Z"
   },
   {
    "duration": 4,
    "start_time": "2023-03-02T06:25:27.735Z"
   },
   {
    "duration": 3,
    "start_time": "2023-03-02T06:25:28.252Z"
   },
   {
    "duration": 82042,
    "start_time": "2023-03-02T06:25:28.763Z"
   },
   {
    "duration": 5,
    "start_time": "2023-03-02T06:27:06.000Z"
   },
   {
    "duration": 4,
    "start_time": "2023-03-02T06:27:08.445Z"
   },
   {
    "duration": 38,
    "start_time": "2023-03-02T06:27:12.649Z"
   },
   {
    "duration": 8,
    "start_time": "2023-03-02T06:27:14.902Z"
   },
   {
    "duration": 6,
    "start_time": "2023-03-02T06:29:08.558Z"
   },
   {
    "duration": 3,
    "start_time": "2023-03-02T06:29:23.425Z"
   },
   {
    "duration": 8,
    "start_time": "2023-03-02T06:29:27.466Z"
   },
   {
    "duration": 7,
    "start_time": "2023-03-02T06:29:29.451Z"
   },
   {
    "duration": 3,
    "start_time": "2023-03-02T06:29:36.541Z"
   },
   {
    "duration": 7,
    "start_time": "2023-03-02T06:29:42.083Z"
   },
   {
    "duration": 2937,
    "start_time": "2023-03-02T06:33:57.670Z"
   },
   {
    "duration": 6,
    "start_time": "2023-03-02T06:34:00.610Z"
   },
   {
    "duration": 822,
    "start_time": "2023-03-02T06:34:00.618Z"
   },
   {
    "duration": 30,
    "start_time": "2023-03-02T06:34:01.448Z"
   },
   {
    "duration": 53,
    "start_time": "2023-03-02T06:34:01.480Z"
   },
   {
    "duration": 49,
    "start_time": "2023-03-02T06:34:01.535Z"
   },
   {
    "duration": 40,
    "start_time": "2023-03-02T06:34:01.586Z"
   },
   {
    "duration": 27,
    "start_time": "2023-03-02T06:34:01.628Z"
   },
   {
    "duration": 142,
    "start_time": "2023-03-02T06:34:01.658Z"
   },
   {
    "duration": 10,
    "start_time": "2023-03-02T06:34:01.804Z"
   },
   {
    "duration": 19,
    "start_time": "2023-03-02T06:34:01.816Z"
   },
   {
    "duration": 51,
    "start_time": "2023-03-02T06:34:01.836Z"
   },
   {
    "duration": 20878,
    "start_time": "2023-03-02T06:34:01.889Z"
   },
   {
    "duration": 4,
    "start_time": "2023-03-02T06:34:22.769Z"
   },
   {
    "duration": 40,
    "start_time": "2023-03-02T06:34:22.776Z"
   },
   {
    "duration": 385,
    "start_time": "2023-03-02T06:34:22.818Z"
   },
   {
    "duration": 3,
    "start_time": "2023-03-02T06:34:23.204Z"
   },
   {
    "duration": 11,
    "start_time": "2023-03-02T06:34:23.209Z"
   },
   {
    "duration": 360,
    "start_time": "2023-03-02T06:34:23.222Z"
   },
   {
    "duration": 6,
    "start_time": "2023-03-02T06:34:23.584Z"
   },
   {
    "duration": 12,
    "start_time": "2023-03-02T06:34:23.592Z"
   },
   {
    "duration": 14,
    "start_time": "2023-03-02T06:34:23.607Z"
   },
   {
    "duration": 16,
    "start_time": "2023-03-02T06:34:23.623Z"
   },
   {
    "duration": 1024,
    "start_time": "2023-03-02T06:34:23.644Z"
   },
   {
    "duration": 7,
    "start_time": "2023-03-02T06:34:24.670Z"
   },
   {
    "duration": 1100,
    "start_time": "2023-03-02T06:34:24.679Z"
   },
   {
    "duration": 1558,
    "start_time": "2023-03-02T06:34:25.781Z"
   },
   {
    "duration": 15,
    "start_time": "2023-03-02T06:34:27.344Z"
   },
   {
    "duration": 22,
    "start_time": "2023-03-02T06:34:27.361Z"
   },
   {
    "duration": 10,
    "start_time": "2023-03-02T06:34:27.385Z"
   },
   {
    "duration": 20,
    "start_time": "2023-03-02T06:34:27.397Z"
   },
   {
    "duration": 31,
    "start_time": "2023-03-02T06:34:27.419Z"
   },
   {
    "duration": 19,
    "start_time": "2023-03-02T06:34:27.455Z"
   },
   {
    "duration": 9,
    "start_time": "2023-03-02T06:34:27.476Z"
   },
   {
    "duration": 18,
    "start_time": "2023-03-02T06:34:27.487Z"
   },
   {
    "duration": 27,
    "start_time": "2023-03-02T06:34:27.507Z"
   },
   {
    "duration": 12,
    "start_time": "2023-03-02T06:34:27.536Z"
   },
   {
    "duration": 10,
    "start_time": "2023-03-02T06:34:27.552Z"
   },
   {
    "duration": 9,
    "start_time": "2023-03-02T06:34:27.564Z"
   },
   {
    "duration": 10,
    "start_time": "2023-03-02T06:34:27.574Z"
   },
   {
    "duration": 8,
    "start_time": "2023-03-02T06:34:27.586Z"
   },
   {
    "duration": 10,
    "start_time": "2023-03-02T06:34:27.596Z"
   },
   {
    "duration": 86207,
    "start_time": "2023-03-02T06:34:27.607Z"
   },
   {
    "duration": 4,
    "start_time": "2023-03-02T06:35:53.816Z"
   },
   {
    "duration": 14,
    "start_time": "2023-03-02T06:35:53.821Z"
   },
   {
    "duration": 50,
    "start_time": "2023-03-02T06:35:53.838Z"
   },
   {
    "duration": 8,
    "start_time": "2023-03-02T06:35:53.890Z"
   },
   {
    "duration": 7874,
    "start_time": "2023-03-03T12:18:44.180Z"
   },
   {
    "duration": 1533,
    "start_time": "2023-03-03T12:18:52.056Z"
   },
   {
    "duration": 3847,
    "start_time": "2023-03-03T12:18:53.591Z"
   },
   {
    "duration": 27,
    "start_time": "2023-03-03T12:18:57.440Z"
   },
   {
    "duration": 21,
    "start_time": "2023-03-03T12:18:57.468Z"
   },
   {
    "duration": 31,
    "start_time": "2023-03-03T12:18:57.491Z"
   },
   {
    "duration": 32,
    "start_time": "2023-03-03T12:18:57.524Z"
   },
   {
    "duration": 3,
    "start_time": "2023-03-03T12:18:57.558Z"
   },
   {
    "duration": 102,
    "start_time": "2023-03-03T12:18:57.563Z"
   },
   {
    "duration": 17,
    "start_time": "2023-03-03T12:18:57.668Z"
   },
   {
    "duration": 26,
    "start_time": "2023-03-03T12:18:57.686Z"
   },
   {
    "duration": 15,
    "start_time": "2023-03-03T12:18:57.719Z"
   },
   {
    "duration": 14559,
    "start_time": "2023-03-03T12:18:57.736Z"
   },
   {
    "duration": 2,
    "start_time": "2023-03-03T12:19:12.296Z"
   },
   {
    "duration": 41,
    "start_time": "2023-03-03T12:19:12.303Z"
   },
   {
    "duration": 403,
    "start_time": "2023-03-03T12:19:12.346Z"
   },
   {
    "duration": 2,
    "start_time": "2023-03-03T12:19:12.751Z"
   },
   {
    "duration": 12,
    "start_time": "2023-03-03T12:19:12.754Z"
   },
   {
    "duration": 327,
    "start_time": "2023-03-03T12:19:12.768Z"
   },
   {
    "duration": 20,
    "start_time": "2023-03-03T12:19:13.097Z"
   },
   {
    "duration": 53,
    "start_time": "2023-03-03T12:19:13.127Z"
   },
   {
    "duration": 20,
    "start_time": "2023-03-03T12:19:13.182Z"
   },
   {
    "duration": 56,
    "start_time": "2023-03-03T12:19:13.204Z"
   },
   {
    "duration": 1107,
    "start_time": "2023-03-03T12:19:13.262Z"
   },
   {
    "duration": 7,
    "start_time": "2023-03-03T12:19:14.370Z"
   },
   {
    "duration": 1065,
    "start_time": "2023-03-03T12:19:14.378Z"
   },
   {
    "duration": 1246,
    "start_time": "2023-03-03T12:19:15.445Z"
   },
   {
    "duration": 23,
    "start_time": "2023-03-03T12:19:16.695Z"
   },
   {
    "duration": 31,
    "start_time": "2023-03-03T12:19:16.727Z"
   },
   {
    "duration": 39,
    "start_time": "2023-03-03T12:19:16.760Z"
   },
   {
    "duration": 130,
    "start_time": "2023-03-03T12:19:16.802Z"
   },
   {
    "duration": 37,
    "start_time": "2023-03-03T12:19:16.938Z"
   },
   {
    "duration": 76,
    "start_time": "2023-03-03T12:19:16.977Z"
   },
   {
    "duration": 24,
    "start_time": "2023-03-03T12:19:17.056Z"
   },
   {
    "duration": 76,
    "start_time": "2023-03-03T12:19:17.082Z"
   },
   {
    "duration": 52,
    "start_time": "2023-03-03T12:19:17.161Z"
   },
   {
    "duration": 101,
    "start_time": "2023-03-03T12:19:17.220Z"
   },
   {
    "duration": 46,
    "start_time": "2023-03-03T12:19:17.329Z"
   },
   {
    "duration": 69,
    "start_time": "2023-03-03T12:19:17.377Z"
   },
   {
    "duration": 27,
    "start_time": "2023-03-03T12:19:17.448Z"
   },
   {
    "duration": 55,
    "start_time": "2023-03-03T12:19:17.477Z"
   },
   {
    "duration": 33,
    "start_time": "2023-03-03T12:19:17.534Z"
   },
   {
    "duration": 2923,
    "start_time": "2023-03-03T12:49:40.425Z"
   },
   {
    "duration": 1306,
    "start_time": "2023-03-03T12:49:43.350Z"
   },
   {
    "duration": 779,
    "start_time": "2023-03-03T12:49:44.658Z"
   },
   {
    "duration": 24,
    "start_time": "2023-03-03T12:49:45.440Z"
   },
   {
    "duration": 20,
    "start_time": "2023-03-03T12:49:45.466Z"
   },
   {
    "duration": 27,
    "start_time": "2023-03-03T12:49:45.504Z"
   },
   {
    "duration": 31,
    "start_time": "2023-03-03T12:49:45.533Z"
   },
   {
    "duration": 5,
    "start_time": "2023-03-03T12:49:45.566Z"
   },
   {
    "duration": 110,
    "start_time": "2023-03-03T12:49:45.573Z"
   },
   {
    "duration": 27,
    "start_time": "2023-03-03T12:49:45.686Z"
   },
   {
    "duration": 19,
    "start_time": "2023-03-03T12:49:45.721Z"
   },
   {
    "duration": 13,
    "start_time": "2023-03-03T12:49:45.742Z"
   },
   {
    "duration": 13081,
    "start_time": "2023-03-03T12:49:45.756Z"
   },
   {
    "duration": 2,
    "start_time": "2023-03-03T12:49:58.839Z"
   },
   {
    "duration": 15,
    "start_time": "2023-03-03T12:49:58.843Z"
   },
   {
    "duration": 424,
    "start_time": "2023-03-03T12:49:58.860Z"
   },
   {
    "duration": 2,
    "start_time": "2023-03-03T12:49:59.286Z"
   },
   {
    "duration": 58,
    "start_time": "2023-03-03T12:49:59.290Z"
   },
   {
    "duration": 370,
    "start_time": "2023-03-03T12:49:59.350Z"
   },
   {
    "duration": 10,
    "start_time": "2023-03-03T12:49:59.727Z"
   },
   {
    "duration": 34,
    "start_time": "2023-03-03T12:49:59.739Z"
   },
   {
    "duration": 20,
    "start_time": "2023-03-03T12:49:59.775Z"
   },
   {
    "duration": 43,
    "start_time": "2023-03-03T12:49:59.796Z"
   },
   {
    "duration": 1108,
    "start_time": "2023-03-03T12:49:59.840Z"
   },
   {
    "duration": 7,
    "start_time": "2023-03-03T12:50:00.950Z"
   },
   {
    "duration": 1128,
    "start_time": "2023-03-03T12:50:00.958Z"
   },
   {
    "duration": 1165,
    "start_time": "2023-03-03T12:50:02.088Z"
   },
   {
    "duration": 8,
    "start_time": "2023-03-03T12:50:03.257Z"
   },
   {
    "duration": 17,
    "start_time": "2023-03-03T12:50:03.267Z"
   },
   {
    "duration": 50,
    "start_time": "2023-03-03T12:50:03.286Z"
   },
   {
    "duration": 31,
    "start_time": "2023-03-03T12:50:03.338Z"
   },
   {
    "duration": 26,
    "start_time": "2023-03-03T12:50:03.370Z"
   },
   {
    "duration": 41,
    "start_time": "2023-03-03T12:50:03.399Z"
   },
   {
    "duration": 14,
    "start_time": "2023-03-03T12:50:03.442Z"
   },
   {
    "duration": 19,
    "start_time": "2023-03-03T12:50:03.457Z"
   },
   {
    "duration": 23,
    "start_time": "2023-03-03T12:50:03.477Z"
   },
   {
    "duration": 9,
    "start_time": "2023-03-03T12:50:03.502Z"
   },
   {
    "duration": 44,
    "start_time": "2023-03-03T12:50:03.513Z"
   },
   {
    "duration": 9,
    "start_time": "2023-03-03T12:50:03.558Z"
   },
   {
    "duration": 7,
    "start_time": "2023-03-03T12:50:03.569Z"
   },
   {
    "duration": 23,
    "start_time": "2023-03-03T12:50:03.577Z"
   },
   {
    "duration": 43,
    "start_time": "2023-03-03T12:50:03.601Z"
   },
   {
    "duration": 2960,
    "start_time": "2023-03-03T12:51:25.168Z"
   },
   {
    "duration": 1287,
    "start_time": "2023-03-03T12:51:28.135Z"
   },
   {
    "duration": 789,
    "start_time": "2023-03-03T12:51:29.424Z"
   },
   {
    "duration": 32,
    "start_time": "2023-03-03T12:51:30.218Z"
   },
   {
    "duration": 37,
    "start_time": "2023-03-03T12:51:30.252Z"
   },
   {
    "duration": 82,
    "start_time": "2023-03-03T12:51:30.291Z"
   },
   {
    "duration": 39,
    "start_time": "2023-03-03T12:51:30.375Z"
   },
   {
    "duration": 30,
    "start_time": "2023-03-03T12:51:30.421Z"
   },
   {
    "duration": 140,
    "start_time": "2023-03-03T12:51:30.452Z"
   },
   {
    "duration": 25,
    "start_time": "2023-03-03T12:51:30.595Z"
   },
   {
    "duration": 33,
    "start_time": "2023-03-03T12:51:30.625Z"
   },
   {
    "duration": 32,
    "start_time": "2023-03-03T12:51:30.660Z"
   },
   {
    "duration": 13586,
    "start_time": "2023-03-03T12:51:30.694Z"
   },
   {
    "duration": 3,
    "start_time": "2023-03-03T12:51:44.282Z"
   },
   {
    "duration": 69,
    "start_time": "2023-03-03T12:51:44.286Z"
   },
   {
    "duration": 345,
    "start_time": "2023-03-03T12:51:44.357Z"
   },
   {
    "duration": 9,
    "start_time": "2023-03-03T12:51:44.706Z"
   },
   {
    "duration": 30,
    "start_time": "2023-03-03T12:51:44.727Z"
   },
   {
    "duration": 318,
    "start_time": "2023-03-03T12:51:44.759Z"
   },
   {
    "duration": 6,
    "start_time": "2023-03-03T12:51:45.079Z"
   },
   {
    "duration": 12,
    "start_time": "2023-03-03T12:51:45.086Z"
   },
   {
    "duration": 41,
    "start_time": "2023-03-03T12:51:45.104Z"
   },
   {
    "duration": 7,
    "start_time": "2023-03-03T12:51:45.147Z"
   },
   {
    "duration": 1125,
    "start_time": "2023-03-03T12:51:45.156Z"
   },
   {
    "duration": 7,
    "start_time": "2023-03-03T12:51:46.283Z"
   },
   {
    "duration": 1250,
    "start_time": "2023-03-03T12:51:46.292Z"
   },
   {
    "duration": 1117,
    "start_time": "2023-03-03T12:51:47.544Z"
   },
   {
    "duration": 7,
    "start_time": "2023-03-03T12:51:48.665Z"
   },
   {
    "duration": 9,
    "start_time": "2023-03-03T12:51:48.673Z"
   },
   {
    "duration": 12,
    "start_time": "2023-03-03T12:51:48.683Z"
   },
   {
    "duration": 41,
    "start_time": "2023-03-03T12:51:48.697Z"
   },
   {
    "duration": 22,
    "start_time": "2023-03-03T12:51:48.740Z"
   },
   {
    "duration": 6,
    "start_time": "2023-03-03T12:51:48.764Z"
   },
   {
    "duration": 7,
    "start_time": "2023-03-03T12:51:48.772Z"
   },
   {
    "duration": 10,
    "start_time": "2023-03-03T12:51:48.781Z"
   },
   {
    "duration": 26,
    "start_time": "2023-03-03T12:51:48.792Z"
   },
   {
    "duration": 36,
    "start_time": "2023-03-03T12:51:48.819Z"
   },
   {
    "duration": 6,
    "start_time": "2023-03-03T12:51:48.857Z"
   },
   {
    "duration": 17,
    "start_time": "2023-03-03T12:51:48.865Z"
   },
   {
    "duration": 7,
    "start_time": "2023-03-03T12:51:48.883Z"
   },
   {
    "duration": 8,
    "start_time": "2023-03-03T12:51:48.892Z"
   },
   {
    "duration": 38,
    "start_time": "2023-03-03T12:51:48.902Z"
   },
   {
    "duration": 172603,
    "start_time": "2023-03-03T12:51:48.941Z"
   },
   {
    "duration": 3,
    "start_time": "2023-03-03T12:54:41.546Z"
   },
   {
    "duration": 20,
    "start_time": "2023-03-03T12:54:41.551Z"
   },
   {
    "duration": 64,
    "start_time": "2023-03-03T12:54:41.572Z"
   },
   {
    "duration": 8,
    "start_time": "2023-03-03T12:54:41.638Z"
   },
   {
    "duration": 7067,
    "start_time": "2023-03-04T17:51:20.025Z"
   },
   {
    "duration": 1440,
    "start_time": "2023-03-04T17:51:27.095Z"
   },
   {
    "duration": 3241,
    "start_time": "2023-03-04T17:51:28.536Z"
   },
   {
    "duration": 29,
    "start_time": "2023-03-04T17:51:31.779Z"
   },
   {
    "duration": 43,
    "start_time": "2023-03-04T17:51:31.810Z"
   },
   {
    "duration": 93,
    "start_time": "2023-03-04T17:51:31.855Z"
   },
   {
    "duration": 73,
    "start_time": "2023-03-04T17:51:31.950Z"
   },
   {
    "duration": 15,
    "start_time": "2023-03-04T17:51:32.025Z"
   },
   {
    "duration": 116,
    "start_time": "2023-03-04T17:51:32.042Z"
   },
   {
    "duration": 19,
    "start_time": "2023-03-04T17:51:32.161Z"
   },
   {
    "duration": 72,
    "start_time": "2023-03-04T17:51:32.182Z"
   },
   {
    "duration": 41,
    "start_time": "2023-03-04T17:51:32.256Z"
   },
   {
    "duration": 26254,
    "start_time": "2023-03-04T17:51:32.299Z"
   },
   {
    "duration": 3,
    "start_time": "2023-03-04T17:51:58.555Z"
   },
   {
    "duration": 13,
    "start_time": "2023-03-04T17:51:58.559Z"
   },
   {
    "duration": 303,
    "start_time": "2023-03-04T17:51:58.574Z"
   },
   {
    "duration": 3,
    "start_time": "2023-03-04T17:51:58.879Z"
   },
   {
    "duration": 13,
    "start_time": "2023-03-04T17:51:58.883Z"
   },
   {
    "duration": 300,
    "start_time": "2023-03-04T17:51:58.898Z"
   },
   {
    "duration": 6,
    "start_time": "2023-03-04T17:51:59.200Z"
   },
   {
    "duration": 16,
    "start_time": "2023-03-04T17:51:59.207Z"
   },
   {
    "duration": 15,
    "start_time": "2023-03-04T17:51:59.225Z"
   },
   {
    "duration": 13,
    "start_time": "2023-03-04T17:51:59.247Z"
   },
   {
    "duration": 1055,
    "start_time": "2023-03-04T17:51:59.262Z"
   },
   {
    "duration": 7,
    "start_time": "2023-03-04T17:52:00.319Z"
   },
   {
    "duration": 952,
    "start_time": "2023-03-04T17:52:00.328Z"
   },
   {
    "duration": 1089,
    "start_time": "2023-03-04T17:52:01.282Z"
   },
   {
    "duration": 9,
    "start_time": "2023-03-04T17:52:02.376Z"
   },
   {
    "duration": 10,
    "start_time": "2023-03-04T17:52:02.387Z"
   },
   {
    "duration": 5,
    "start_time": "2023-03-04T17:52:02.399Z"
   },
   {
    "duration": 11,
    "start_time": "2023-03-04T17:52:02.406Z"
   },
   {
    "duration": 35,
    "start_time": "2023-03-04T17:52:02.419Z"
   },
   {
    "duration": 4,
    "start_time": "2023-03-04T17:52:02.456Z"
   },
   {
    "duration": 11,
    "start_time": "2023-03-04T17:52:02.461Z"
   },
   {
    "duration": 6,
    "start_time": "2023-03-04T17:52:02.474Z"
   },
   {
    "duration": 6,
    "start_time": "2023-03-04T17:52:02.482Z"
   },
   {
    "duration": 5,
    "start_time": "2023-03-04T17:52:02.489Z"
   },
   {
    "duration": 6,
    "start_time": "2023-03-04T17:52:02.496Z"
   },
   {
    "duration": 9,
    "start_time": "2023-03-04T17:52:02.504Z"
   },
   {
    "duration": 5,
    "start_time": "2023-03-04T17:52:02.515Z"
   },
   {
    "duration": 163,
    "start_time": "2023-03-04T17:52:02.522Z"
   },
   {
    "duration": 0,
    "start_time": "2023-03-04T17:52:02.688Z"
   },
   {
    "duration": 0,
    "start_time": "2023-03-04T17:52:02.690Z"
   },
   {
    "duration": 0,
    "start_time": "2023-03-04T17:52:02.691Z"
   },
   {
    "duration": 0,
    "start_time": "2023-03-04T17:52:02.692Z"
   },
   {
    "duration": 4,
    "start_time": "2023-03-04T17:53:53.922Z"
   },
   {
    "duration": 3,
    "start_time": "2023-03-04T17:53:55.365Z"
   },
   {
    "duration": 38,
    "start_time": "2023-03-04T17:53:56.779Z"
   },
   {
    "duration": 2337,
    "start_time": "2023-03-04T17:55:26.939Z"
   },
   {
    "duration": 8,
    "start_time": "2023-03-04T17:55:29.279Z"
   },
   {
    "duration": 661,
    "start_time": "2023-03-04T17:55:29.289Z"
   },
   {
    "duration": 24,
    "start_time": "2023-03-04T17:55:29.953Z"
   },
   {
    "duration": 44,
    "start_time": "2023-03-04T17:55:29.979Z"
   },
   {
    "duration": 53,
    "start_time": "2023-03-04T17:55:30.025Z"
   },
   {
    "duration": 49,
    "start_time": "2023-03-04T17:55:30.080Z"
   },
   {
    "duration": 35,
    "start_time": "2023-03-04T17:55:30.131Z"
   },
   {
    "duration": 129,
    "start_time": "2023-03-04T17:55:30.168Z"
   },
   {
    "duration": 13,
    "start_time": "2023-03-04T17:55:30.300Z"
   },
   {
    "duration": 14,
    "start_time": "2023-03-04T17:55:30.315Z"
   },
   {
    "duration": 55,
    "start_time": "2023-03-04T17:55:30.331Z"
   },
   {
    "duration": 31788,
    "start_time": "2023-03-04T17:55:30.388Z"
   },
   {
    "duration": 3,
    "start_time": "2023-03-04T17:56:02.178Z"
   },
   {
    "duration": 36,
    "start_time": "2023-03-04T17:56:02.183Z"
   },
   {
    "duration": 311,
    "start_time": "2023-03-04T17:56:02.221Z"
   },
   {
    "duration": 2,
    "start_time": "2023-03-04T17:56:02.534Z"
   },
   {
    "duration": 25,
    "start_time": "2023-03-04T17:56:02.537Z"
   },
   {
    "duration": 287,
    "start_time": "2023-03-04T17:56:02.564Z"
   },
   {
    "duration": 5,
    "start_time": "2023-03-04T17:56:02.854Z"
   },
   {
    "duration": 19,
    "start_time": "2023-03-04T17:56:02.861Z"
   },
   {
    "duration": 6,
    "start_time": "2023-03-04T17:56:02.882Z"
   },
   {
    "duration": 9,
    "start_time": "2023-03-04T17:56:02.890Z"
   },
   {
    "duration": 939,
    "start_time": "2023-03-04T17:56:02.901Z"
   },
   {
    "duration": 182,
    "start_time": "2023-03-04T17:56:03.842Z"
   },
   {
    "duration": 927,
    "start_time": "2023-03-04T17:56:04.026Z"
   },
   {
    "duration": 1227,
    "start_time": "2023-03-04T17:56:04.955Z"
   },
   {
    "duration": 9,
    "start_time": "2023-03-04T17:56:06.185Z"
   },
   {
    "duration": 9,
    "start_time": "2023-03-04T17:56:06.195Z"
   },
   {
    "duration": 5,
    "start_time": "2023-03-04T17:56:06.206Z"
   },
   {
    "duration": 11,
    "start_time": "2023-03-04T17:56:06.212Z"
   },
   {
    "duration": 33,
    "start_time": "2023-03-04T17:56:06.225Z"
   },
   {
    "duration": 6,
    "start_time": "2023-03-04T17:56:06.259Z"
   },
   {
    "duration": 10,
    "start_time": "2023-03-04T17:56:06.266Z"
   },
   {
    "duration": 6,
    "start_time": "2023-03-04T17:56:06.277Z"
   },
   {
    "duration": 9,
    "start_time": "2023-03-04T17:56:06.284Z"
   },
   {
    "duration": 9,
    "start_time": "2023-03-04T17:56:06.295Z"
   },
   {
    "duration": 8,
    "start_time": "2023-03-04T17:56:06.307Z"
   },
   {
    "duration": 32,
    "start_time": "2023-03-04T17:56:06.317Z"
   },
   {
    "duration": 11,
    "start_time": "2023-03-04T17:56:06.351Z"
   },
   {
    "duration": 45,
    "start_time": "2023-03-04T17:56:06.365Z"
   },
   {
    "duration": 0,
    "start_time": "2023-03-04T17:56:06.413Z"
   },
   {
    "duration": 0,
    "start_time": "2023-03-04T17:56:06.414Z"
   },
   {
    "duration": 0,
    "start_time": "2023-03-04T17:56:06.416Z"
   },
   {
    "duration": 0,
    "start_time": "2023-03-04T17:56:06.417Z"
   },
   {
    "duration": 4,
    "start_time": "2023-03-04T18:00:26.817Z"
   },
   {
    "duration": 3,
    "start_time": "2023-03-04T18:00:28.023Z"
   },
   {
    "duration": 244996,
    "start_time": "2023-03-04T18:00:28.898Z"
   },
   {
    "duration": 5,
    "start_time": "2023-03-04T18:05:11.468Z"
   },
   {
    "duration": 6,
    "start_time": "2023-03-04T18:05:13.635Z"
   },
   {
    "duration": 49,
    "start_time": "2023-03-04T18:05:15.831Z"
   },
   {
    "duration": 10,
    "start_time": "2023-03-04T18:05:17.669Z"
   },
   {
    "duration": 3110,
    "start_time": "2023-03-04T19:37:19.679Z"
   },
   {
    "duration": 15,
    "start_time": "2023-03-04T19:37:22.791Z"
   },
   {
    "duration": 837,
    "start_time": "2023-03-04T19:37:22.809Z"
   },
   {
    "duration": 32,
    "start_time": "2023-03-04T19:37:23.648Z"
   },
   {
    "duration": 63,
    "start_time": "2023-03-04T19:37:23.683Z"
   },
   {
    "duration": 67,
    "start_time": "2023-03-04T19:37:23.748Z"
   },
   {
    "duration": 22,
    "start_time": "2023-03-04T19:37:23.820Z"
   },
   {
    "duration": 25,
    "start_time": "2023-03-04T19:37:23.844Z"
   },
   {
    "duration": 166,
    "start_time": "2023-03-04T19:37:23.874Z"
   },
   {
    "duration": 15,
    "start_time": "2023-03-04T19:37:24.044Z"
   },
   {
    "duration": 53,
    "start_time": "2023-03-04T19:37:24.063Z"
   },
   {
    "duration": 16,
    "start_time": "2023-03-04T19:37:24.117Z"
   },
   {
    "duration": 35599,
    "start_time": "2023-03-04T19:37:24.135Z"
   },
   {
    "duration": 4,
    "start_time": "2023-03-04T19:37:59.735Z"
   },
   {
    "duration": 58,
    "start_time": "2023-03-04T19:37:59.747Z"
   },
   {
    "duration": 415,
    "start_time": "2023-03-04T19:37:59.807Z"
   },
   {
    "duration": 4,
    "start_time": "2023-03-04T19:38:00.224Z"
   },
   {
    "duration": 28,
    "start_time": "2023-03-04T19:38:00.230Z"
   },
   {
    "duration": 462,
    "start_time": "2023-03-04T19:38:00.260Z"
   },
   {
    "duration": 12,
    "start_time": "2023-03-04T19:38:00.725Z"
   },
   {
    "duration": 67,
    "start_time": "2023-03-04T19:38:00.739Z"
   },
   {
    "duration": 34,
    "start_time": "2023-03-04T19:38:00.808Z"
   },
   {
    "duration": 63,
    "start_time": "2023-03-04T19:38:00.845Z"
   },
   {
    "duration": 1189,
    "start_time": "2023-03-04T19:38:00.910Z"
   },
   {
    "duration": 226,
    "start_time": "2023-03-04T19:38:02.102Z"
   },
   {
    "duration": 1142,
    "start_time": "2023-03-04T19:38:02.330Z"
   },
   {
    "duration": 1351,
    "start_time": "2023-03-04T19:38:03.478Z"
   },
   {
    "duration": 8,
    "start_time": "2023-03-04T19:38:04.834Z"
   },
   {
    "duration": 54,
    "start_time": "2023-03-04T19:38:04.844Z"
   },
   {
    "duration": 6,
    "start_time": "2023-03-04T19:38:04.901Z"
   },
   {
    "duration": 12,
    "start_time": "2023-03-04T19:38:04.909Z"
   },
   {
    "duration": 16,
    "start_time": "2023-03-04T19:38:04.923Z"
   },
   {
    "duration": 11,
    "start_time": "2023-03-04T19:38:04.942Z"
   },
   {
    "duration": 47,
    "start_time": "2023-03-04T19:38:04.955Z"
   },
   {
    "duration": 5,
    "start_time": "2023-03-04T19:38:05.005Z"
   },
   {
    "duration": 7,
    "start_time": "2023-03-04T19:38:05.013Z"
   },
   {
    "duration": 11,
    "start_time": "2023-03-04T19:38:05.022Z"
   },
   {
    "duration": 22,
    "start_time": "2023-03-04T19:38:05.036Z"
   },
   {
    "duration": 79,
    "start_time": "2023-03-04T19:38:05.060Z"
   },
   {
    "duration": 1,
    "start_time": "2023-03-04T19:38:05.141Z"
   },
   {
    "duration": 0,
    "start_time": "2023-03-04T19:38:05.143Z"
   },
   {
    "duration": 0,
    "start_time": "2023-03-04T19:38:05.145Z"
   },
   {
    "duration": 0,
    "start_time": "2023-03-04T19:38:05.146Z"
   },
   {
    "duration": 0,
    "start_time": "2023-03-04T19:38:05.148Z"
   },
   {
    "duration": 0,
    "start_time": "2023-03-04T19:38:05.149Z"
   },
   {
    "duration": 0,
    "start_time": "2023-03-04T19:38:05.153Z"
   },
   {
    "duration": 0,
    "start_time": "2023-03-04T19:38:05.154Z"
   },
   {
    "duration": 0,
    "start_time": "2023-03-04T19:38:05.155Z"
   },
   {
    "duration": 0,
    "start_time": "2023-03-04T19:38:05.160Z"
   },
   {
    "duration": 64,
    "start_time": "2023-03-04T19:38:23.566Z"
   },
   {
    "duration": 8,
    "start_time": "2023-03-04T19:39:09.274Z"
   },
   {
    "duration": 5,
    "start_time": "2023-03-04T19:39:14.998Z"
   },
   {
    "duration": 38,
    "start_time": "2023-03-04T19:39:15.006Z"
   },
   {
    "duration": 62,
    "start_time": "2023-03-04T19:39:15.047Z"
   },
   {
    "duration": 264939,
    "start_time": "2023-03-04T19:39:15.111Z"
   },
   {
    "duration": 36,
    "start_time": "2023-03-04T19:43:40.053Z"
   },
   {
    "duration": 0,
    "start_time": "2023-03-04T19:43:40.092Z"
   },
   {
    "duration": 1,
    "start_time": "2023-03-04T19:43:40.093Z"
   },
   {
    "duration": 0,
    "start_time": "2023-03-04T19:43:40.095Z"
   },
   {
    "duration": 0,
    "start_time": "2023-03-04T19:43:40.096Z"
   },
   {
    "duration": 0,
    "start_time": "2023-03-04T19:43:40.098Z"
   },
   {
    "duration": 0,
    "start_time": "2023-03-04T19:43:40.099Z"
   },
   {
    "duration": 3,
    "start_time": "2023-03-04T19:45:50.313Z"
   },
   {
    "duration": 1643,
    "start_time": "2023-03-04T19:45:55.687Z"
   },
   {
    "duration": 4,
    "start_time": "2023-03-04T19:46:00.366Z"
   },
   {
    "duration": 4,
    "start_time": "2023-03-04T19:46:02.703Z"
   },
   {
    "duration": 5,
    "start_time": "2023-03-04T19:46:07.173Z"
   },
   {
    "duration": 5,
    "start_time": "2023-03-04T19:46:09.283Z"
   },
   {
    "duration": 47,
    "start_time": "2023-03-04T19:46:25.837Z"
   },
   {
    "duration": 7,
    "start_time": "2023-03-04T19:46:28.027Z"
   },
   {
    "duration": 6160,
    "start_time": "2023-03-05T08:37:58.891Z"
   },
   {
    "duration": 1455,
    "start_time": "2023-03-05T08:38:05.054Z"
   },
   {
    "duration": 1804,
    "start_time": "2023-03-05T08:38:06.513Z"
   },
   {
    "duration": 680,
    "start_time": "2023-03-05T08:38:18.145Z"
   },
   {
    "duration": 20,
    "start_time": "2023-03-05T08:38:20.627Z"
   },
   {
    "duration": 13,
    "start_time": "2023-03-05T08:39:00.971Z"
   },
   {
    "duration": 73,
    "start_time": "2023-03-05T08:42:05.406Z"
   },
   {
    "duration": 79,
    "start_time": "2023-03-05T08:51:19.672Z"
   },
   {
    "duration": 66,
    "start_time": "2023-03-05T08:51:22.516Z"
   },
   {
    "duration": 11,
    "start_time": "2023-03-05T08:51:30.477Z"
   },
   {
    "duration": 11,
    "start_time": "2023-03-05T08:58:36.668Z"
   },
   {
    "duration": 10,
    "start_time": "2023-03-05T09:01:43.045Z"
   },
   {
    "duration": 68,
    "start_time": "2023-03-05T09:19:27.090Z"
   },
   {
    "duration": 2549,
    "start_time": "2023-03-05T09:26:16.218Z"
   },
   {
    "duration": 4,
    "start_time": "2023-03-05T09:26:18.770Z"
   },
   {
    "duration": 693,
    "start_time": "2023-03-05T09:26:18.775Z"
   },
   {
    "duration": 19,
    "start_time": "2023-03-05T09:26:19.470Z"
   },
   {
    "duration": 29,
    "start_time": "2023-03-05T09:26:19.490Z"
   },
   {
    "duration": 4,
    "start_time": "2023-03-05T09:26:19.521Z"
   },
   {
    "duration": 120,
    "start_time": "2023-03-05T09:26:19.526Z"
   },
   {
    "duration": 15,
    "start_time": "2023-03-05T09:26:19.647Z"
   },
   {
    "duration": 5,
    "start_time": "2023-03-05T09:26:19.664Z"
   },
   {
    "duration": 10,
    "start_time": "2023-03-05T09:26:19.672Z"
   },
   {
    "duration": 16899,
    "start_time": "2023-03-05T09:26:19.684Z"
   },
   {
    "duration": 9,
    "start_time": "2023-03-05T09:26:36.584Z"
   },
   {
    "duration": 377,
    "start_time": "2023-03-05T09:26:36.594Z"
   },
   {
    "duration": 6,
    "start_time": "2023-03-05T09:26:36.973Z"
   },
   {
    "duration": 31,
    "start_time": "2023-03-05T09:26:36.981Z"
   },
   {
    "duration": 312,
    "start_time": "2023-03-05T09:26:37.014Z"
   },
   {
    "duration": 5,
    "start_time": "2023-03-05T09:26:37.328Z"
   },
   {
    "duration": 7,
    "start_time": "2023-03-05T09:26:37.335Z"
   },
   {
    "duration": 19,
    "start_time": "2023-03-05T09:26:37.343Z"
   },
   {
    "duration": 14,
    "start_time": "2023-03-05T09:26:37.364Z"
   },
   {
    "duration": 1037,
    "start_time": "2023-03-05T09:26:37.380Z"
   },
   {
    "duration": 9,
    "start_time": "2023-03-05T09:26:38.419Z"
   },
   {
    "duration": 978,
    "start_time": "2023-03-05T09:26:38.430Z"
   },
   {
    "duration": 1083,
    "start_time": "2023-03-05T09:26:39.412Z"
   },
   {
    "duration": 18,
    "start_time": "2023-03-05T09:26:40.497Z"
   },
   {
    "duration": 5,
    "start_time": "2023-03-05T09:26:40.517Z"
   },
   {
    "duration": 10,
    "start_time": "2023-03-05T09:26:40.524Z"
   },
   {
    "duration": 15,
    "start_time": "2023-03-05T09:26:40.538Z"
   },
   {
    "duration": 4,
    "start_time": "2023-03-05T09:26:40.555Z"
   },
   {
    "duration": 5,
    "start_time": "2023-03-05T09:26:40.561Z"
   },
   {
    "duration": 3,
    "start_time": "2023-03-05T09:26:40.568Z"
   },
   {
    "duration": 5,
    "start_time": "2023-03-05T09:26:40.573Z"
   },
   {
    "duration": 33,
    "start_time": "2023-03-05T09:26:40.579Z"
   },
   {
    "duration": 4,
    "start_time": "2023-03-05T09:26:40.614Z"
   },
   {
    "duration": 4,
    "start_time": "2023-03-05T09:26:40.619Z"
   },
   {
    "duration": 4,
    "start_time": "2023-03-05T09:26:40.625Z"
   },
   {
    "duration": 4,
    "start_time": "2023-03-05T09:26:40.631Z"
   },
   {
    "duration": 248472,
    "start_time": "2023-03-05T09:26:40.637Z"
   },
   {
    "duration": 1547,
    "start_time": "2023-03-05T09:30:49.111Z"
   },
   {
    "duration": 4,
    "start_time": "2023-03-05T09:30:50.660Z"
   },
   {
    "duration": 15,
    "start_time": "2023-03-05T09:30:50.666Z"
   },
   {
    "duration": 22,
    "start_time": "2023-03-05T09:30:50.683Z"
   },
   {
    "duration": 65,
    "start_time": "2023-03-05T09:30:50.706Z"
   },
   {
    "duration": 6,
    "start_time": "2023-03-05T09:30:50.773Z"
   },
   {
    "duration": 109,
    "start_time": "2023-03-05T11:19:57.694Z"
   },
   {
    "duration": 4,
    "start_time": "2023-03-05T11:22:23.937Z"
   },
   {
    "duration": 3,
    "start_time": "2023-03-05T11:23:34.930Z"
   },
   {
    "duration": 3,
    "start_time": "2023-03-05T11:27:28.293Z"
   },
   {
    "duration": 3,
    "start_time": "2023-03-05T11:27:39.371Z"
   },
   {
    "duration": 118,
    "start_time": "2023-03-05T11:27:40.386Z"
   },
   {
    "duration": 4,
    "start_time": "2023-03-05T11:27:45.081Z"
   },
   {
    "duration": 3,
    "start_time": "2023-03-05T11:27:46.025Z"
   },
   {
    "duration": 3,
    "start_time": "2023-03-05T11:27:46.764Z"
   },
   {
    "duration": 17,
    "start_time": "2023-03-05T11:29:26.398Z"
   },
   {
    "duration": 3,
    "start_time": "2023-03-05T11:30:06.391Z"
   },
   {
    "duration": 5,
    "start_time": "2023-03-05T11:30:06.821Z"
   },
   {
    "duration": 3,
    "start_time": "2023-03-05T11:30:07.187Z"
   },
   {
    "duration": 575,
    "start_time": "2023-03-05T11:30:07.571Z"
   },
   {
    "duration": 645,
    "start_time": "2023-03-05T11:30:16.387Z"
   },
   {
    "duration": 17,
    "start_time": "2023-03-05T11:30:21.203Z"
   },
   {
    "duration": 4,
    "start_time": "2023-03-05T11:30:45.283Z"
   },
   {
    "duration": 4,
    "start_time": "2023-03-05T11:30:46.003Z"
   },
   {
    "duration": 507,
    "start_time": "2023-03-05T11:30:47.987Z"
   },
   {
    "duration": 6,
    "start_time": "2023-03-05T11:33:29.424Z"
   },
   {
    "duration": 540,
    "start_time": "2023-03-05T11:33:33.691Z"
   },
   {
    "duration": 29,
    "start_time": "2023-03-05T11:33:38.701Z"
   },
   {
    "duration": 2639,
    "start_time": "2023-03-05T12:04:58.328Z"
   },
   {
    "duration": 4,
    "start_time": "2023-03-05T12:05:00.969Z"
   },
   {
    "duration": 725,
    "start_time": "2023-03-05T12:05:00.975Z"
   },
   {
    "duration": 24,
    "start_time": "2023-03-05T12:05:01.702Z"
   },
   {
    "duration": 13,
    "start_time": "2023-03-05T12:05:01.728Z"
   },
   {
    "duration": 9,
    "start_time": "2023-03-05T12:05:01.743Z"
   },
   {
    "duration": 129,
    "start_time": "2023-03-05T12:05:01.753Z"
   },
   {
    "duration": 10,
    "start_time": "2023-03-05T12:05:01.883Z"
   },
   {
    "duration": 59,
    "start_time": "2023-03-05T12:05:01.895Z"
   },
   {
    "duration": 69,
    "start_time": "2023-03-05T12:05:01.956Z"
   },
   {
    "duration": 18194,
    "start_time": "2023-03-05T12:05:02.027Z"
   },
   {
    "duration": 9,
    "start_time": "2023-03-05T12:05:20.228Z"
   },
   {
    "duration": 245,
    "start_time": "2023-03-05T12:05:20.238Z"
   },
   {
    "duration": 7,
    "start_time": "2023-03-05T12:05:20.487Z"
   },
   {
    "duration": 16,
    "start_time": "2023-03-05T12:05:20.513Z"
   },
   {
    "duration": 302,
    "start_time": "2023-03-05T12:05:20.530Z"
   },
   {
    "duration": 6,
    "start_time": "2023-03-05T12:05:20.834Z"
   },
   {
    "duration": 6,
    "start_time": "2023-03-05T12:05:20.841Z"
   },
   {
    "duration": 8,
    "start_time": "2023-03-05T12:05:20.849Z"
   },
   {
    "duration": 6,
    "start_time": "2023-03-05T12:05:20.859Z"
   },
   {
    "duration": 1117,
    "start_time": "2023-03-05T12:05:20.867Z"
   },
   {
    "duration": 7,
    "start_time": "2023-03-05T12:05:21.985Z"
   },
   {
    "duration": 1004,
    "start_time": "2023-03-05T12:05:21.994Z"
   },
   {
    "duration": 1164,
    "start_time": "2023-03-05T12:05:23.000Z"
   },
   {
    "duration": 9,
    "start_time": "2023-03-05T12:05:24.166Z"
   },
   {
    "duration": 5,
    "start_time": "2023-03-05T12:05:24.177Z"
   },
   {
    "duration": 34,
    "start_time": "2023-03-05T12:05:24.184Z"
   },
   {
    "duration": 19,
    "start_time": "2023-03-05T12:05:24.222Z"
   },
   {
    "duration": 6,
    "start_time": "2023-03-05T12:05:24.244Z"
   },
   {
    "duration": 6,
    "start_time": "2023-03-05T12:05:24.253Z"
   },
   {
    "duration": 6,
    "start_time": "2023-03-05T12:05:24.261Z"
   },
   {
    "duration": 9,
    "start_time": "2023-03-05T12:05:24.269Z"
   },
   {
    "duration": 7,
    "start_time": "2023-03-05T12:05:24.280Z"
   },
   {
    "duration": 28,
    "start_time": "2023-03-05T12:05:24.289Z"
   },
   {
    "duration": 13,
    "start_time": "2023-03-05T12:05:24.319Z"
   },
   {
    "duration": 6,
    "start_time": "2023-03-05T12:05:24.334Z"
   },
   {
    "duration": 4,
    "start_time": "2023-03-05T12:05:24.342Z"
   },
   {
    "duration": 256972,
    "start_time": "2023-03-05T12:05:24.348Z"
   },
   {
    "duration": 1591,
    "start_time": "2023-03-05T12:09:41.322Z"
   },
   {
    "duration": 8,
    "start_time": "2023-03-05T12:09:42.922Z"
   },
   {
    "duration": 5,
    "start_time": "2023-03-05T12:09:42.934Z"
   },
   {
    "duration": 8,
    "start_time": "2023-03-05T12:09:42.940Z"
   },
   {
    "duration": 76,
    "start_time": "2023-03-05T12:09:42.950Z"
   },
   {
    "duration": 8,
    "start_time": "2023-03-05T12:09:43.028Z"
   },
   {
    "duration": 4,
    "start_time": "2023-03-05T12:09:43.037Z"
   },
   {
    "duration": 5,
    "start_time": "2023-03-05T12:09:43.043Z"
   },
   {
    "duration": 4,
    "start_time": "2023-03-05T12:09:43.050Z"
   },
   {
    "duration": 609,
    "start_time": "2023-03-05T12:09:43.055Z"
   },
   {
    "duration": 12,
    "start_time": "2023-03-05T12:09:43.666Z"
   },
   {
    "duration": 77,
    "start_time": "2023-03-05T14:17:09.020Z"
   }
  ],
  "kernelspec": {
   "display_name": "Python 3 (ipykernel)",
   "language": "python",
   "name": "python3"
  },
  "language_info": {
   "codemirror_mode": {
    "name": "ipython",
    "version": 3
   },
   "file_extension": ".py",
   "mimetype": "text/x-python",
   "name": "python",
   "nbconvert_exporter": "python",
   "pygments_lexer": "ipython3",
   "version": "3.12.3"
  },
  "toc": {
   "base_numbering": 1,
   "nav_menu": {},
   "number_sections": true,
   "sideBar": true,
   "skip_h1_title": true,
   "title_cell": "Содержание",
   "title_sidebar": "Contents",
   "toc_cell": true,
   "toc_position": {
    "height": "calc(100% - 180px)",
    "left": "10px",
    "top": "150px",
    "width": "165px"
   },
   "toc_section_display": true,
   "toc_window_display": true
  }
 },
 "nbformat": 4,
 "nbformat_minor": 4
}
