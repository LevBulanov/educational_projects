{
 "cells": [
  {
   "cell_type": "markdown",
   "metadata": {},
   "source": [
    "## Краткое описание проекта"
   ]
  },
  {
   "cell_type": "markdown",
   "metadata": {},
   "source": [
    "В данном проекте будут проанализированы данные по продажам игр, их оценке пользователями и критиками с целью подобрать оптимальные жанры игр и игровые платформы для рекламы в Северной Америке, Европе и Японии. Примерный план выглядит так: \n",
    "- Предобработка данных: заполнение пропусков, исправление ошибок, поиск дубликатов. \n",
    "- Исследовательский анализ данных: поиск оптимального периода для исследования, платформ и жанров в целом по миру, а также поиск взаимосвязи между продажами игр и оценками пользователей и критиков.\n",
    "- Составление портрета пользователя по регионам: поиск оптимальных платформ, жанров для регионов, исследования влияния рейтинга ESRB. \n",
    "- Проверка гипотезы по поводу различия в оценках пользователей, играющих с разных платформ. \n",
    "- Проверка гипотезы по поводу различия в оценках игр разных жанров. \n",
    "- Общий вывод"
   ]
  },
  {
   "cell_type": "code",
   "execution_count": 1,
   "metadata": {},
   "outputs": [],
   "source": [
    "import pandas as pd \n",
    "pd.options.mode.chained_assignment = None"
   ]
  },
  {
   "cell_type": "markdown",
   "metadata": {},
   "source": [
    "## Первичное изучение данных"
   ]
  },
  {
   "cell_type": "code",
   "execution_count": 2,
   "metadata": {},
   "outputs": [
    {
     "data": {
      "text/html": [
       "<div>\n",
       "<style scoped>\n",
       "    .dataframe tbody tr th:only-of-type {\n",
       "        vertical-align: middle;\n",
       "    }\n",
       "\n",
       "    .dataframe tbody tr th {\n",
       "        vertical-align: top;\n",
       "    }\n",
       "\n",
       "    .dataframe thead th {\n",
       "        text-align: right;\n",
       "    }\n",
       "</style>\n",
       "<table border=\"1\" class=\"dataframe\">\n",
       "  <thead>\n",
       "    <tr style=\"text-align: right;\">\n",
       "      <th></th>\n",
       "      <th>Name</th>\n",
       "      <th>Platform</th>\n",
       "      <th>Year_of_Release</th>\n",
       "      <th>Genre</th>\n",
       "      <th>NA_sales</th>\n",
       "      <th>EU_sales</th>\n",
       "      <th>JP_sales</th>\n",
       "      <th>Other_sales</th>\n",
       "      <th>Critic_Score</th>\n",
       "      <th>User_Score</th>\n",
       "      <th>Rating</th>\n",
       "    </tr>\n",
       "  </thead>\n",
       "  <tbody>\n",
       "    <tr>\n",
       "      <th>0</th>\n",
       "      <td>Wii Sports</td>\n",
       "      <td>Wii</td>\n",
       "      <td>2006.0</td>\n",
       "      <td>Sports</td>\n",
       "      <td>41.36</td>\n",
       "      <td>28.96</td>\n",
       "      <td>3.77</td>\n",
       "      <td>8.45</td>\n",
       "      <td>76.0</td>\n",
       "      <td>8</td>\n",
       "      <td>E</td>\n",
       "    </tr>\n",
       "    <tr>\n",
       "      <th>1</th>\n",
       "      <td>Super Mario Bros.</td>\n",
       "      <td>NES</td>\n",
       "      <td>1985.0</td>\n",
       "      <td>Platform</td>\n",
       "      <td>29.08</td>\n",
       "      <td>3.58</td>\n",
       "      <td>6.81</td>\n",
       "      <td>0.77</td>\n",
       "      <td>NaN</td>\n",
       "      <td>NaN</td>\n",
       "      <td>NaN</td>\n",
       "    </tr>\n",
       "    <tr>\n",
       "      <th>2</th>\n",
       "      <td>Mario Kart Wii</td>\n",
       "      <td>Wii</td>\n",
       "      <td>2008.0</td>\n",
       "      <td>Racing</td>\n",
       "      <td>15.68</td>\n",
       "      <td>12.76</td>\n",
       "      <td>3.79</td>\n",
       "      <td>3.29</td>\n",
       "      <td>82.0</td>\n",
       "      <td>8.3</td>\n",
       "      <td>E</td>\n",
       "    </tr>\n",
       "    <tr>\n",
       "      <th>3</th>\n",
       "      <td>Wii Sports Resort</td>\n",
       "      <td>Wii</td>\n",
       "      <td>2009.0</td>\n",
       "      <td>Sports</td>\n",
       "      <td>15.61</td>\n",
       "      <td>10.93</td>\n",
       "      <td>3.28</td>\n",
       "      <td>2.95</td>\n",
       "      <td>80.0</td>\n",
       "      <td>8</td>\n",
       "      <td>E</td>\n",
       "    </tr>\n",
       "    <tr>\n",
       "      <th>4</th>\n",
       "      <td>Pokemon Red/Pokemon Blue</td>\n",
       "      <td>GB</td>\n",
       "      <td>1996.0</td>\n",
       "      <td>Role-Playing</td>\n",
       "      <td>11.27</td>\n",
       "      <td>8.89</td>\n",
       "      <td>10.22</td>\n",
       "      <td>1.00</td>\n",
       "      <td>NaN</td>\n",
       "      <td>NaN</td>\n",
       "      <td>NaN</td>\n",
       "    </tr>\n",
       "  </tbody>\n",
       "</table>\n",
       "</div>"
      ],
      "text/plain": [
       "                       Name Platform  Year_of_Release         Genre  NA_sales  \\\n",
       "0                Wii Sports      Wii           2006.0        Sports     41.36   \n",
       "1         Super Mario Bros.      NES           1985.0      Platform     29.08   \n",
       "2            Mario Kart Wii      Wii           2008.0        Racing     15.68   \n",
       "3         Wii Sports Resort      Wii           2009.0        Sports     15.61   \n",
       "4  Pokemon Red/Pokemon Blue       GB           1996.0  Role-Playing     11.27   \n",
       "\n",
       "   EU_sales  JP_sales  Other_sales  Critic_Score User_Score Rating  \n",
       "0     28.96      3.77         8.45          76.0          8      E  \n",
       "1      3.58      6.81         0.77           NaN        NaN    NaN  \n",
       "2     12.76      3.79         3.29          82.0        8.3      E  \n",
       "3     10.93      3.28         2.95          80.0          8      E  \n",
       "4      8.89     10.22         1.00           NaN        NaN    NaN  "
      ]
     },
     "execution_count": 2,
     "metadata": {},
     "output_type": "execute_result"
    }
   ],
   "source": [
    "data = pd.read_csv('games.csv') \n",
    "data.head(5)"
   ]
  },
  {
   "cell_type": "code",
   "execution_count": 3,
   "metadata": {},
   "outputs": [
    {
     "name": "stdout",
     "output_type": "stream",
     "text": [
      "<class 'pandas.core.frame.DataFrame'>\n",
      "RangeIndex: 16715 entries, 0 to 16714\n",
      "Data columns (total 11 columns):\n",
      " #   Column           Non-Null Count  Dtype  \n",
      "---  ------           --------------  -----  \n",
      " 0   Name             16713 non-null  object \n",
      " 1   Platform         16715 non-null  object \n",
      " 2   Year_of_Release  16446 non-null  float64\n",
      " 3   Genre            16713 non-null  object \n",
      " 4   NA_sales         16715 non-null  float64\n",
      " 5   EU_sales         16715 non-null  float64\n",
      " 6   JP_sales         16715 non-null  float64\n",
      " 7   Other_sales      16715 non-null  float64\n",
      " 8   Critic_Score     8137 non-null   float64\n",
      " 9   User_Score       10014 non-null  object \n",
      " 10  Rating           9949 non-null   object \n",
      "dtypes: float64(6), object(5)\n",
      "memory usage: 1.4+ MB\n"
     ]
    }
   ],
   "source": [
    "data.info()"
   ]
  },
  {
   "cell_type": "code",
   "execution_count": null,
   "metadata": {},
   "outputs": [],
   "source": [
    "data.hist(figsize=(15, 20), bins=100)"
   ]
  },
  {
   "cell_type": "markdown",
   "metadata": {},
   "source": [
    "Итак, перед нами данные по продажам игр в разных магазинах и по разныи регионам. Как можно заметить данные представлены с 1980 по 2016 год.  "
   ]
  },
  {
   "cell_type": "markdown",
   "metadata": {},
   "source": [
    "## Предобработка данных"
   ]
  },
  {
   "cell_type": "markdown",
   "metadata": {},
   "source": [
    "### Изменение названия столбцов"
   ]
  },
  {
   "cell_type": "code",
   "execution_count": null,
   "metadata": {},
   "outputs": [],
   "source": [
    "data.columns = data.columns.str.lower()\n",
    "data.info()"
   ]
  },
  {
   "cell_type": "markdown",
   "metadata": {},
   "source": [
    "### Изменение типов данных в столбцах"
   ]
  },
  {
   "cell_type": "code",
   "execution_count": null,
   "metadata": {},
   "outputs": [],
   "source": [
    "data = data.astype({'year_of_release':'Int64'}) \n",
    "data = data.astype({'critic_score':'Int64'}) \n",
    "data.loc[data['user_score'] == 'tbd', 'user_score'] = None \n",
    "data = data.astype({'user_score':'float64'}) \n",
    "data.info()"
   ]
  },
  {
   "cell_type": "markdown",
   "metadata": {},
   "source": [
    "Поменяем форматы данных на более удобные, в процессе уберем tbd(to be determined) из user_score - это, по сути, те же Nan. Воспользуемся старым форматом Int64 из numpy, чтобы можно было пока оставить пропуски."
   ]
  },
  {
   "cell_type": "code",
   "execution_count": null,
   "metadata": {},
   "outputs": [],
   "source": [
    "data['user_score'].unique()"
   ]
  },
  {
   "cell_type": "markdown",
   "metadata": {},
   "source": [
    "### Обработка пропусков"
   ]
  },
  {
   "cell_type": "code",
   "execution_count": null,
   "metadata": {},
   "outputs": [],
   "source": [
    "data.isna().sum()"
   ]
  },
  {
   "cell_type": "markdown",
   "metadata": {},
   "source": [
    "Имеем некоторое количество пробелов в данных: \n",
    "- 'name' - два пробела, сам столбец названий игр для нас не сильно важна, эти пробелы никак не мешают\n",
    "- 'year_of_release' - 269 пробелов, все еще немного, можно просто удалить или заменить медианой, их всего лишь 1.6%, удалю.\n",
    "- 'genre' - 2 пробела, можно либо удалить, либо посмотреть жанр по названию и внести руками, попробую второе\n",
    "- 'critic_score' - 8578 пробелов - это уже довольно много, но это агрегированные данные, заполнять нельзя.\n",
    "- 'user_score' - 9889 пробелов, аналогично предыдущему, заполнять нельзя.\n",
    "- 'rating' - 6766 пробела, никак не заполнить, некоторые игры могли просто не получать рейтинг по тем или иным причинам, например, если они не продаются в США или в Канаде, придется оставить как есть"
   ]
  },
  {
   "cell_type": "code",
   "execution_count": null,
   "metadata": {},
   "outputs": [],
   "source": [
    "data = data[data['year_of_release'].notna()]"
   ]
  },
  {
   "cell_type": "code",
   "execution_count": null,
   "metadata": {},
   "outputs": [],
   "source": [
    "data[data['genre'].isna()]"
   ]
  },
  {
   "cell_type": "markdown",
   "metadata": {},
   "source": [
    "Идея была хорошая, но не получится, это как раз те строки, где пропущены имена."
   ]
  },
  {
   "cell_type": "code",
   "execution_count": null,
   "metadata": {},
   "outputs": [],
   "source": [
    "data = data[data['genre'].notna()]"
   ]
  },
  {
   "cell_type": "code",
   "execution_count": null,
   "metadata": {},
   "outputs": [],
   "source": [
    "list_of_genres= list(data['genre'].unique())\n",
    "list_of_genres"
   ]
  },
  {
   "cell_type": "code",
   "execution_count": null,
   "metadata": {},
   "outputs": [],
   "source": [
    "data.isna().sum()"
   ]
  },
  {
   "cell_type": "markdown",
   "metadata": {},
   "source": [
    "Итак, убраны все пропуски в столбцах, кроме, \"critic_score\", \"user_score\", посколько они являются уже усредненными данными, и \"rating\", так как это категориальные данные. "
   ]
  },
  {
   "cell_type": "markdown",
   "metadata": {},
   "source": [
    "### Поиск дубликатов"
   ]
  },
  {
   "cell_type": "code",
   "execution_count": null,
   "metadata": {},
   "outputs": [],
   "source": [
    "data.duplicated().sum()"
   ]
  },
  {
   "cell_type": "markdown",
   "metadata": {},
   "source": [
    "Отлично, явных дубликатов нет. Посмотрим неявные в столбце с рейтингом."
   ]
  },
  {
   "cell_type": "code",
   "execution_count": null,
   "metadata": {},
   "outputs": [],
   "source": [
    "data['rating'].unique()"
   ]
  },
  {
   "cell_type": "markdown",
   "metadata": {},
   "source": [
    "Они есть, \"K-A\" - устаревший аналог аналог современного \"E\", заменим."
   ]
  },
  {
   "cell_type": "code",
   "execution_count": null,
   "metadata": {},
   "outputs": [],
   "source": [
    "data.loc[data['rating'] == 'K-A', 'rating'] = 'E'  "
   ]
  },
  {
   "cell_type": "code",
   "execution_count": null,
   "metadata": {},
   "outputs": [],
   "source": [
    "data['rating'].unique()"
   ]
  },
  {
   "cell_type": "markdown",
   "metadata": {},
   "source": [
    "Отлично."
   ]
  },
  {
   "cell_type": "markdown",
   "metadata": {},
   "source": [
    "### Добавление нового столбца"
   ]
  },
  {
   "cell_type": "code",
   "execution_count": null,
   "metadata": {},
   "outputs": [],
   "source": [
    "data['overall_sales'] = data['na_sales'] + data['eu_sales'] + data['jp_sales'] + data['other_sales'] \n",
    "data['overall_sales'].head(5)"
   ]
  },
  {
   "cell_type": "markdown",
   "metadata": {},
   "source": [
    "### Вывод по предобработке"
   ]
  },
  {
   "cell_type": "markdown",
   "metadata": {},
   "source": [
    "Таким образом, мы убрали значительную часть пропусков, к сожалению, со столбцами \"critic_score\", \"user_score\" и \"rating\" что-то сделать не представляется возможным. Возмыжны слудующие причины появления пропуска в этих столбцах: \n",
    "- В \"critic_score\" и \"user_score\" - игра может быть достаточно старой, и к моменту ее выхода еще могло не быть сервисов по агрегированной оценке, вроде metacritic, также возможно ошибки при выгрузке данных. \n",
    "- В \"rating\" - поскольку данный рейтинг выставляется ESRB, которая начала свою деятельность только в 1994, то у игр вышедших до этого такого рейтинга может не быть, кроме того, данный рейтинг обязателен только для США и Канады, поэтому, если игра не продается в эти странах, то рейтинга у нее тоже может не быть."
   ]
  },
  {
   "cell_type": "code",
   "execution_count": null,
   "metadata": {},
   "outputs": [],
   "source": [
    "# Посмотрим, что у нас осталось\n",
    "temp = data.copy() \n",
    "list_c = ['name', 'platform', 'year_of_release', 'genre', 'critic_score', 'user_score', 'rating']\n",
    "print(temp.info())\n",
    "for col_l in list_c:\n",
    "  print('-'* 25)\n",
    "  print(col_l, temp[col_l].sort_values().unique())\n",
    "  print(col_l,': кол-во NaN',temp[col_l].isna().sum(),\n",
    "        ', процент NaN', round(temp[col_l].isna().sum()/len(temp)*100, 2),'%')"
   ]
  },
  {
   "cell_type": "markdown",
   "metadata": {},
   "source": [
    "## Исследовательский анализ данных"
   ]
  },
  {
   "cell_type": "markdown",
   "metadata": {},
   "source": [
    "### Динамика релиза и продаж игр"
   ]
  },
  {
   "cell_type": "code",
   "execution_count": null,
   "metadata": {},
   "outputs": [],
   "source": [
    "data['year_of_release'].plot(kind='hist', bins=37, title='year of release', grid=True, figsize=(9, 9))"
   ]
  },
  {
   "cell_type": "markdown",
   "metadata": {},
   "source": [
    "Итак, с начала 90-ых годов заметен тренд на взрывной рост примерно до 2009, после этого произошло столь же резкое падение до уровней 2012 года и стабилизация около них. С точки зрения автора, данные до 2012 года отражают совершенно другую действительность и никак не помогут в прогнозах на 2017 год. Посмотрим на популярные платформы. "
   ]
  },
  {
   "cell_type": "code",
   "execution_count": null,
   "metadata": {},
   "outputs": [],
   "source": [
    "data.groupby('platform')['overall_sales'].sum().sort_values(ascending=False) "
   ]
  },
  {
   "cell_type": "code",
   "execution_count": null,
   "metadata": {},
   "outputs": [],
   "source": [
    "data.groupby('platform')['overall_sales'].sum().sort_values(ascending=False).plot(kind='pie', grid=True, figsize=(7, 7), title='jp_sales_per_genre')"
   ]
  },
  {
   "cell_type": "markdown",
   "metadata": {},
   "source": [
    "Хвост выглядит вплохо, позднее сгруппирую платформы в незначительным количеством продаж в одну категорию. Сейчас посмотрим на распределение продаж по годам на платформах до XOne, она же xbox one. "
   ]
  },
  {
   "cell_type": "code",
   "execution_count": null,
   "metadata": {},
   "outputs": [],
   "source": [
    "list_of_platform = data.groupby('platform').sum().query('overall_sales > 150').index \n",
    "list_of_platform = list(list_of_platform) \n",
    "list_of_platform"
   ]
  },
  {
   "cell_type": "code",
   "execution_count": null,
   "metadata": {
    "scrolled": true
   },
   "outputs": [],
   "source": [
    "for name, group_data in data.groupby('platform'):\n",
    "    if name in list_of_platform:\n",
    "        group_data.pivot_table(index=group_data['year_of_release'], values='overall_sales').plot(grid=True, style='-o', figsize=(9, 9), title=name) "
   ]
  },
  {
   "cell_type": "markdown",
   "metadata": {},
   "source": [
    "Имеем следующую ситуацию, значительная часть платформ с наибольшими продажами вообще не должила до 2016 года, делать по ним какие бы то ни было прогнозы бессмысленно, а сам период жизни платформы можно оценить примерно в 10 лет. В \"живой\" части, аналогично общему графику релиза, заметен нисходящий тренд в последние года."
   ]
  },
  {
   "cell_type": "markdown",
   "metadata": {},
   "source": [
    "Таким образом, для дальнейшего анализа будут использованы данные начиная с 2012 года и новее, так можно будет захватить относительно старые, но все еще популярные на момент 2016 года платформы, а также относительно новые, которые продолжат быть актуальными еще значительный промежуток времени. Да, большая часть датасета будет потеряна, но для составления прогнозов на 2017 год она бесполезна."
   ]
  },
  {
   "cell_type": "code",
   "execution_count": null,
   "metadata": {},
   "outputs": [],
   "source": [
    "new_data = data.query('year_of_release >= 2012')"
   ]
  },
  {
   "cell_type": "markdown",
   "metadata": {},
   "source": [
    "### Анализ скорректированных данных"
   ]
  },
  {
   "cell_type": "code",
   "execution_count": null,
   "metadata": {},
   "outputs": [],
   "source": [
    "new_data.groupby('platform')['overall_sales'].sum().sort_values(ascending=False) "
   ]
  },
  {
   "cell_type": "code",
   "execution_count": null,
   "metadata": {},
   "outputs": [],
   "source": [
    "list_of_platform = new_data.groupby('platform').sum().query('overall_sales > 150').index \n",
    "list_of_platform = list(list_of_platform) \n",
    "list_of_platform"
   ]
  },
  {
   "cell_type": "code",
   "execution_count": null,
   "metadata": {},
   "outputs": [],
   "source": [
    "for name, group_data in data.groupby('platform'):\n",
    "    if name in list_of_platform:\n",
    "        group_data.pivot_table(index=group_data['year_of_release'], values='overall_sales').plot(grid=True, style='-o', figsize=(9, 9), title=name)\n",
    "    "
   ]
  },
  {
   "cell_type": "markdown",
   "metadata": {},
   "source": [
    "Как можно заметить, состав лидеров по продажам изменился, а количество платформ сократилось, лидирует PS4 на уровне в 314 миллионов проданных копий, а замыкает список неумирающая PSP со значением в 11 миллионов копий.\n",
    "Однако, динамика продаж у всех платформ, кроме, пожалуй, 3DS и PSP, является явно убывающей. \n",
    "По итогу, я бы выделил PS4 и 3DS, как относительно новые(на рассматриваемый момент) консоли, которые уже имеют значительный объем продаж. С осторожностью следует относится к PS3 и X360, они все еще могут радовать продажами, но вместе с тем являются уже довольно старыми - на 2016 поддержка обоих была прекращена. Посмотрим боксплоты этих четырех платформ."
   ]
  },
  {
   "cell_type": "code",
   "execution_count": null,
   "metadata": {},
   "outputs": [],
   "source": [
    "new_data.boxplot(column = 'overall_sales', by='platform', figsize=(15,7))"
   ]
  },
  {
   "cell_type": "markdown",
   "metadata": {},
   "source": [
    "Интересно, но боксплоты слишком узкие, ограничим значения оси y."
   ]
  },
  {
   "cell_type": "code",
   "execution_count": null,
   "metadata": {},
   "outputs": [],
   "source": [
    "new_data.boxplot(column = 'overall_sales', by='platform', figsize=(15,7)).set(ylim=(0,2))"
   ]
  },
  {
   "cell_type": "markdown",
   "metadata": {},
   "source": [
    "Как можно заметить, самые большие медианные продажи у X360 - порядка 0,3 млн копий, самые малые у PSP - околонулевые. Присутствует достаточно много выбросов."
   ]
  },
  {
   "cell_type": "markdown",
   "metadata": {},
   "source": [
    "### Поиск связи между отзывами и продажами"
   ]
  },
  {
   "cell_type": "markdown",
   "metadata": {},
   "source": [
    "Для начала посмотрим на связь между продажами и оценкой критиков."
   ]
  },
  {
   "cell_type": "code",
   "execution_count": null,
   "metadata": {
    "scrolled": true
   },
   "outputs": [],
   "source": [
    "for name, group_data in new_data.groupby('platform'):\n",
    "    if name in list_of_platform:\n",
    "        group_data.plot.scatter(x='critic_score', y='overall_sales', title=name)"
   ]
  },
  {
   "cell_type": "markdown",
   "metadata": {},
   "source": [
    "Связь определенно есть, но она напоминает скорее показательную(f(x) = aˣ), чем прямую - значительный рост продаж происходит на участе с оценками критиков больше 70, поэтому коэффициент корреляции Пирсона, который хорош только для поиска прямолинейной зависимости, вряд ли покажет здесь большие значения, однако посчитаем его."
   ]
  },
  {
   "cell_type": "code",
   "execution_count": null,
   "metadata": {},
   "outputs": [],
   "source": [
    "#с Int64 не работает\n",
    "new_data = new_data.astype({'critic_score':'float64'})"
   ]
  },
  {
   "cell_type": "code",
   "execution_count": null,
   "metadata": {},
   "outputs": [],
   "source": [
    "for name, group_data in new_data.groupby('platform'):\n",
    "    if name in list_of_platform:\n",
    "        print('К. корреляции для платформы', name, 'равен', group_data['critic_score'].corr(new_data['overall_sales']))"
   ]
  },
  {
   "cell_type": "markdown",
   "metadata": {},
   "source": [
    "Такое значение к. корреляции говорит о слабом уровне связи, однако, как уже было отмечено ранее, данный коэффициент плох в поиске нелинейных зависимостей, так что реальный уровень зависимости может быть несколько другим. "
   ]
  },
  {
   "cell_type": "markdown",
   "metadata": {},
   "source": [
    "Теперь посмотрим на взаимосвязь между оценками пользователей и объемом продаж. "
   ]
  },
  {
   "cell_type": "code",
   "execution_count": null,
   "metadata": {},
   "outputs": [],
   "source": [
    "for name, group_data in new_data.groupby('platform'):\n",
    "    if name in list_of_platform:\n",
    "        group_data.plot.scatter(x='user_score', y='overall_sales', title=name)"
   ]
  },
  {
   "cell_type": "markdown",
   "metadata": {},
   "source": [
    "В данном случае похоже, что зависимости нет, но проверим."
   ]
  },
  {
   "cell_type": "code",
   "execution_count": null,
   "metadata": {},
   "outputs": [],
   "source": [
    "for name, group_data in new_data.groupby('platform'):\n",
    "    if name in list_of_platform:\n",
    "        print('К. корреляции для платформы', name, 'равен', group_data['user_score'].corr(new_data['overall_sales']))"
   ]
  },
  {
   "cell_type": "markdown",
   "metadata": {},
   "source": [
    "Ситуация значительно хуже чем с оценками критиков, связь на уровне погрешности, кроме платформы 3DS, где она очень слабая."
   ]
  },
  {
   "cell_type": "markdown",
   "metadata": {},
   "source": [
    "### Анализ распределения игр по жанрам"
   ]
  },
  {
   "cell_type": "markdown",
   "metadata": {},
   "source": [
    "Разберемся с популярностью различных жанров."
   ]
  },
  {
   "cell_type": "code",
   "execution_count": null,
   "metadata": {
    "scrolled": true
   },
   "outputs": [],
   "source": [
    "new_data.groupby('genre')['genre'].count().sort_values(ascending=False)"
   ]
  },
  {
   "cell_type": "markdown",
   "metadata": {},
   "source": [
    "Для наглядности построим график"
   ]
  },
  {
   "cell_type": "code",
   "execution_count": null,
   "metadata": {},
   "outputs": [],
   "source": [
    "new_data.groupby('genre')['genre'].count().sort_values(ascending=False).plot(kind='bar', grid=True, figsize=(7, 7), title='genre distribution')"
   ]
  },
  {
   "cell_type": "markdown",
   "metadata": {},
   "source": [
    "Самым популярным жанром с большим отрывом является Action, за ним идут Role-Playing и Adventure. Хорошо, посмотрим, как дела с продажами."
   ]
  },
  {
   "cell_type": "code",
   "execution_count": null,
   "metadata": {},
   "outputs": [],
   "source": [
    "new_data.groupby('genre')['overall_sales'].sum().sort_values(ascending=False)"
   ]
  },
  {
   "cell_type": "code",
   "execution_count": null,
   "metadata": {},
   "outputs": [],
   "source": [
    "new_data.groupby('genre')['overall_sales'].sum().sort_values(ascending=False).plot(kind='bar', grid=True, figsize=(7, 7), title='genre distribution')"
   ]
  },
  {
   "cell_type": "markdown",
   "metadata": {},
   "source": [
    "Первое место аналогично графику популярности, а вот дальше вылез Shooter, а  Role-Playing ушел на третье место, Sport в и там, и там на четвертом, иными словами графики популярности жанров и количества продаж похожи до четвертого места включительно, дальше идут расхождения, кроме того, совпали последние по популярности и продажам жанры - Strategy и Puzzle. Однако, может так полчиться, что жанр \"выстрелил\" случайно и только на одной платформе, проверим."
   ]
  },
  {
   "cell_type": "code",
   "execution_count": null,
   "metadata": {},
   "outputs": [],
   "source": [
    "new_data.groupby('genre')['overall_sales'].median().sort_values(ascending=False)"
   ]
  },
  {
   "cell_type": "code",
   "execution_count": null,
   "metadata": {},
   "outputs": [],
   "source": [
    "new_data.boxplot(column='overall_sales', by='genre', grid=True, figsize=(15,7)).set(ylim=(0,2))"
   ]
  },
  {
   "cell_type": "markdown",
   "metadata": {},
   "source": [
    "Здесь ситуация несколько другая, мединные продажи жанра Action не самые выразительные, в отличие от Shooter. Скорректируем пятерку самых удачных жанров по медианным продажам - Shooter, Sports, Platform, Role-Playing и Racing."
   ]
  },
  {
   "cell_type": "markdown",
   "metadata": {},
   "source": [
    "Выводы по исследовательскому анализу:\n",
    "- Таким образом, значительная часть платформ, на которые приходились пики 2007-2010 года на момент 2016 и тем более 2017 уже, мягко говоря, слабоактуальны, поэтому большую часть датасета до 2012 года было решено убрать из дальнейшего анализа. \n",
    "- Большая часть даже относительно новых платформ демонстрирует тенденцию к снижению продаж в период с 2012 по 2016 \n",
    "- Наиболее интересными платформами, с точки зрения автора, являются PS4, XOne и 3DS, как относительно новые, но на рассматриваемый период уже показывающие достойные результаты продаж. Следует с осторожностью подходить к PS3 и X360, за пирод 2012-2016 продажи по ним все еще значительны, но сами консоли уже сильно устарели и их поддержка на момент 2016 года прекращена. \n",
    "- Существует средне-слабая зависимость между уровнем продаж и оценкой критиков. \n",
    "- Связь между уровнем продаж и оценками игроков отсутствует. \n",
    "- Наиболее популярные и наиболее продающиеся жанры совпадают у вершин рейтингов, но расходятся уже с четвертого места, в частности наиболее популярными являются -  Action, Role-Playing, Adventure и Sports, а наиболее продающимися -  Action, Shooter, Role-Playing и Sports, в середине рейтингов есть расхождения, а вот концовки сходятся, наименее популярными и наименее продающимися оказались жанры Strategy и Puzzle. \n",
    "- Однако, судя по медианным продажам, не все упомянутые выше жанры дают стабильные продажи, скорректированные по медианам продажам жарны - Shooter, Sports, Platform, Role-Playing и Racing."
   ]
  },
  {
   "cell_type": "markdown",
   "metadata": {},
   "source": [
    "## Анализ продаж по регионам"
   ]
  },
  {
   "cell_type": "markdown",
   "metadata": {},
   "source": [
    "### Популярность платформ"
   ]
  },
  {
   "cell_type": "markdown",
   "metadata": {},
   "source": [
    "#### Северная Америка"
   ]
  },
  {
   "cell_type": "code",
   "execution_count": null,
   "metadata": {},
   "outputs": [],
   "source": [
    "popular_platform_na = new_data.groupby('platform')['na_sales'].sum().sort_values(ascending=False)\n",
    "popular_platform_na.head(5)"
   ]
  },
  {
   "cell_type": "code",
   "execution_count": null,
   "metadata": {},
   "outputs": [],
   "source": [
    "leaders_na = ['X360', 'PS4', 'PS3', 'XOne', '3DS']"
   ]
  },
  {
   "cell_type": "markdown",
   "metadata": {},
   "source": [
    "Посмотрим на диаграмму и процентное соотношение, здесь и далее, все платформы, которые не попали в топ-5, я буду относить к группе Others."
   ]
  },
  {
   "cell_type": "code",
   "execution_count": null,
   "metadata": {},
   "outputs": [],
   "source": [
    "#функия для подсчета долей\n",
    "def percentuale(platform, sum_of_platforms):\n",
    "    return platform / sum_of_platforms * 100"
   ]
  },
  {
   "cell_type": "code",
   "execution_count": null,
   "metadata": {},
   "outputs": [],
   "source": [
    "data_for_na = new_data.copy()\n",
    "data_for_na['platform'] = data_for_na['platform'].where(data_for_na['platform'].isin(leaders_na), 'Others')\n",
    "top_platforms_na = data_for_na.groupby('platform')['na_sales'].sum().sort_values(ascending=False)\n",
    "top_platforms_na.plot(kind='pie', grid=True, figsize=(7, 7), title='na_sales') "
   ]
  },
  {
   "cell_type": "code",
   "execution_count": null,
   "metadata": {},
   "outputs": [],
   "source": [
    "percentuale(top_platforms_na, sum(top_platforms_na))"
   ]
  },
  {
   "cell_type": "markdown",
   "metadata": {},
   "source": [
    "В регионе NA, он же Северная Америка, самыми популярными платформами оказались X360, PS4, PS3, XOne и 3DS. При этом, лидер - X360, среди этой пятерки, имеет долю около 24%, а последний в списке лидеров 3DS порядка 9%, второе, третье и четвертое места имеют минимальный разброс от 18 до 16 процентов, на остальные платформы приходится порядка 15%."
   ]
  },
  {
   "cell_type": "markdown",
   "metadata": {},
   "source": [
    "#### Европа"
   ]
  },
  {
   "cell_type": "code",
   "execution_count": null,
   "metadata": {},
   "outputs": [],
   "source": [
    "popular_platform_eu = new_data.groupby('platform')['eu_sales'].sum().sort_values(ascending=False) \n",
    "popular_platform_eu.head(5)"
   ]
  },
  {
   "cell_type": "markdown",
   "metadata": {},
   "source": [
    "Аналогично посмотрим на диаграмму и процентное соотношение."
   ]
  },
  {
   "cell_type": "code",
   "execution_count": null,
   "metadata": {},
   "outputs": [],
   "source": [
    "leaders_eu = ['PS4', 'PS3', 'X360', 'XOne', '3DS']"
   ]
  },
  {
   "cell_type": "code",
   "execution_count": null,
   "metadata": {},
   "outputs": [],
   "source": [
    "data_for_eu = new_data.copy()\n",
    "data_for_eu['platform'] = data_for_eu['platform'].where(data_for_eu['platform'].isin(leaders_eu), 'Others') \n",
    "top_platforms_eu = data_for_eu.groupby('platform')['eu_sales'].sum().sort_values(ascending=False)\n",
    "top_platforms_eu.plot(kind='pie', grid=True, figsize=(7, 7), title='eu_sales')  "
   ]
  },
  {
   "cell_type": "code",
   "execution_count": null,
   "metadata": {},
   "outputs": [],
   "source": [
    "percentuale(top_platforms_eu, sum(top_platforms_eu))"
   ]
  },
  {
   "cell_type": "markdown",
   "metadata": {},
   "source": [
    "В регионе EU, он же Европа, самыми популярными платформами оказались PS4, PS3, X360, XOne и 3DS. Лидер - PS4 имеют долю рынка порядка 28%, отстающий 3DS же - 8,4%. Второе место - PS3, отстает от первого на 6% и занимает порядка 21% рынка, на третье и четвертом местах расположились X360 и XOne с долями рынка в 15 и 10 процентов соответственно. На оставшиеся платформы приходится порка 17%."
   ]
  },
  {
   "cell_type": "markdown",
   "metadata": {},
   "source": [
    "#### Япония"
   ]
  },
  {
   "cell_type": "code",
   "execution_count": null,
   "metadata": {},
   "outputs": [],
   "source": [
    "popular_platform_jp = new_data.groupby('platform')['jp_sales'].sum().sort_values(ascending=False) \n",
    "popular_platform_jp.head(5)"
   ]
  },
  {
   "cell_type": "markdown",
   "metadata": {},
   "source": [
    "И снова посмотрим на диаграмму и процентное соотношение."
   ]
  },
  {
   "cell_type": "code",
   "execution_count": null,
   "metadata": {},
   "outputs": [],
   "source": [
    "leaders_jp = ['3DS', 'PS3', 'PSV', 'WiiU', 'PS4']"
   ]
  },
  {
   "cell_type": "code",
   "execution_count": null,
   "metadata": {},
   "outputs": [],
   "source": [
    "data_for_jp = new_data.copy()\n",
    "data_for_jp['platform'] = data_for_jp['platform'].where(data_for_jp['platform'].isin(leaders_jp), 'Others') \n",
    "top_platforms_jp = data_for_jp.groupby('platform')['jp_sales'].sum().sort_values(ascending=False)\n",
    "top_platforms_jp.plot(kind='pie', grid=True, figsize=(7, 7), title='jp_sales') "
   ]
  },
  {
   "cell_type": "markdown",
   "metadata": {},
   "source": [
    "В регионе JP, он же Япония, самыми популярными платформами оказались 3DS, PS3, PSV и PS4."
   ]
  },
  {
   "cell_type": "code",
   "execution_count": null,
   "metadata": {},
   "outputs": [],
   "source": [
    "percentuale(top_platforms_jp, sum(top_platforms_jp))"
   ]
  },
  {
   "cell_type": "markdown",
   "metadata": {},
   "source": [
    "На первых пяти местах расположились 3DS, PS3, PSV, PSV, PS4, при этом на долю 3DS приходится практически 46 процентов рынка, тогда как на WiiU - 7%. При PS3 на втором месте занимает уже только 18 процентов рынка, а разница между  третьим, четвертым и пятым местами небольшая. На долю остальных платформ приходится 10%."
   ]
  },
  {
   "cell_type": "code",
   "execution_count": null,
   "metadata": {},
   "outputs": [],
   "source": [
    "#new_data = data.query('year_of_release >= 2012')"
   ]
  },
  {
   "cell_type": "markdown",
   "metadata": {},
   "source": [
    "### Популярность жанров"
   ]
  },
  {
   "cell_type": "markdown",
   "metadata": {},
   "source": [
    "#### Северная Америка"
   ]
  },
  {
   "cell_type": "code",
   "execution_count": null,
   "metadata": {},
   "outputs": [],
   "source": [
    "popular_genre_na = new_data.groupby('genre')['na_sales'].sum().sort_values(ascending=False)\n",
    "popular_genre_na.head(5) "
   ]
  },
  {
   "cell_type": "code",
   "execution_count": null,
   "metadata": {},
   "outputs": [],
   "source": [
    "list_of_genres = list(popular_genre_na.index) \n",
    "list_of_genres = list_of_genres[:5]\n",
    "list_of_genres"
   ]
  },
  {
   "cell_type": "code",
   "execution_count": null,
   "metadata": {},
   "outputs": [],
   "source": [
    "data_for_na['genre'] = data_for_na['genre'].where(data_for_na['genre'].isin(list_of_genres), 'Others') \n",
    "top_genres_na = data_for_na.groupby('genre')['na_sales'].sum().sort_values(ascending=False)\n",
    "top_genres_na.plot(kind='pie', grid=True, figsize=(7, 7), title='na_sales_per_genre')  "
   ]
  },
  {
   "cell_type": "code",
   "execution_count": null,
   "metadata": {},
   "outputs": [],
   "source": [
    "percentuale(top_genres_na, sum(top_genres_na))"
   ]
  },
  {
   "cell_type": "markdown",
   "metadata": {},
   "source": [
    "Самым популярным жанром в Северной Америке оказался Action с долей в 30%, а на последнем месте среди топ-5 оказался Misc с долей порядка 6%. На втором месте расположился Shooter с долей поряка 24%, на 3 и 4 - Sports и Role-Playing c долями в 11 и 6 процентов соответственно. "
   ]
  },
  {
   "cell_type": "markdown",
   "metadata": {},
   "source": [
    "#### Европа"
   ]
  },
  {
   "cell_type": "code",
   "execution_count": null,
   "metadata": {},
   "outputs": [],
   "source": [
    "popular_genre_eu = new_data.groupby('genre')['eu_sales'].sum().sort_values(ascending=False) \n",
    "popular_genre_eu.head(5)"
   ]
  },
  {
   "cell_type": "code",
   "execution_count": null,
   "metadata": {},
   "outputs": [],
   "source": [
    "list_of_genres = list(popular_genre_eu.index) \n",
    "list_of_genres = list_of_genres[:5] \n",
    "list_of_genres"
   ]
  },
  {
   "cell_type": "code",
   "execution_count": null,
   "metadata": {},
   "outputs": [],
   "source": [
    "data_for_eu['genre'] = data_for_eu['genre'].where(data_for_eu['genre'].isin(list_of_genres), 'Others') \n",
    "top_genres_eu = data_for_eu.groupby('genre')['eu_sales'].sum().sort_values(ascending=False)\n",
    "top_genres_eu.plot(kind='pie', grid=True, figsize=(7, 7), title='eu_sales_per_genre')"
   ]
  },
  {
   "cell_type": "code",
   "execution_count": null,
   "metadata": {},
   "outputs": [],
   "source": [
    "percentuale(top_genres_eu, sum(top_genres_eu))"
   ]
  },
  {
   "cell_type": "markdown",
   "metadata": {},
   "source": [
    "В Европе первые четыре места аналогичны NA - Action(31%), Shooter(22%), Sports(14) и Role-Playing(10%), а вот на последнем оказался Racing(5%), на долю остальных жанров приходится 18%."
   ]
  },
  {
   "cell_type": "markdown",
   "metadata": {},
   "source": [
    "#### Япония"
   ]
  },
  {
   "cell_type": "code",
   "execution_count": null,
   "metadata": {},
   "outputs": [],
   "source": [
    "popular_genre_jp = new_data.groupby('genre')['jp_sales'].sum().sort_values(ascending=False) \n",
    "popular_genre_jp.head(5)"
   ]
  },
  {
   "cell_type": "code",
   "execution_count": null,
   "metadata": {},
   "outputs": [],
   "source": [
    "list_of_genres = list(popular_genre_jp.index) \n",
    "list_of_genres = list_of_genres[:5] \n",
    "list_of_genres"
   ]
  },
  {
   "cell_type": "code",
   "execution_count": null,
   "metadata": {},
   "outputs": [],
   "source": [
    "data_for_jp['genre'] = data_for_jp['genre'].where(data_for_jp['genre'].isin(list_of_genres), 'Others') \n",
    "top_genres_jp = data_for_jp.groupby('genre')['jp_sales'].sum().sort_values(ascending=False)\n",
    "top_genres_jp.plot(kind='pie', grid=True, figsize=(7, 7), title='jp_sales_per_genre')"
   ]
  },
  {
   "cell_type": "code",
   "execution_count": null,
   "metadata": {},
   "outputs": [],
   "source": [
    "percentuale(top_genres_jp, sum(top_genres_jp))"
   ]
  },
  {
   "cell_type": "markdown",
   "metadata": {},
   "source": [
    "А вот в Японии популярность жанров сильно отличается - самым популярным оказался Role-Playing с долей(34%), за ним идут Action(27%), Misc(7%), Simulation(5%) и Fighting(5%)."
   ]
  },
  {
   "cell_type": "markdown",
   "metadata": {},
   "source": [
    "### Анализ влияния рейтинга ESRB"
   ]
  },
  {
   "cell_type": "markdown",
   "metadata": {},
   "source": [
    "#### Северная Америка"
   ]
  },
  {
   "cell_type": "markdown",
   "metadata": {},
   "source": [
    "Напомню, что рейтинг ESRB предназначен для США и Канады и может мало что значит на других рынках, особенно на азиатских, поставим заглушку для удобства анализа."
   ]
  },
  {
   "cell_type": "code",
   "execution_count": null,
   "metadata": {},
   "outputs": [],
   "source": [
    "#ставим заглушку\n",
    "new_data['rating'] = new_data['rating'].fillna('Plug')"
   ]
  },
  {
   "cell_type": "code",
   "execution_count": null,
   "metadata": {},
   "outputs": [],
   "source": [
    "new_data.groupby('rating')['na_sales'].sum().sort_values(ascending=False)"
   ]
  },
  {
   "cell_type": "code",
   "execution_count": null,
   "metadata": {},
   "outputs": [],
   "source": [
    "percentuale(new_data.groupby('rating')['na_sales'].sum().sort_values(ascending=False), \n",
    "            sum(new_data.groupby('rating')['na_sales'].sum().sort_values(ascending=False)))"
   ]
  },
  {
   "cell_type": "code",
   "execution_count": null,
   "metadata": {},
   "outputs": [],
   "source": [
    "new_data.groupby('rating')['na_sales'].sum().sort_values(ascending=False)\\\n",
    "                                      .plot(kind='pie', grid=True, figsize=(7, 7), title='jp_sales_per_genre')"
   ]
  },
  {
   "cell_type": "markdown",
   "metadata": {},
   "source": [
    "Итак, порядка 39% всех проданных игр в Северной Америке приходится на рейтинг \"M\", то есть для людей возраста 17+, вторым по популярности идет \"E\", то есть для всех, игры с рейтингом \"E10+\" и \"Teen\" занимают последние места с долями 12 и 11 процетов соответственно. Неоцененных игр порядка 17%."
   ]
  },
  {
   "cell_type": "markdown",
   "metadata": {},
   "source": [
    "#### Европа"
   ]
  },
  {
   "cell_type": "code",
   "execution_count": null,
   "metadata": {},
   "outputs": [],
   "source": [
    "new_data.groupby('rating')['eu_sales'].sum().sort_values(ascending=False)"
   ]
  },
  {
   "cell_type": "code",
   "execution_count": null,
   "metadata": {},
   "outputs": [],
   "source": [
    "percentuale(new_data.groupby('rating')['eu_sales'].sum().sort_values(ascending=False), \n",
    "            sum(new_data.groupby('rating')['eu_sales'].sum().sort_values(ascending=False)))"
   ]
  },
  {
   "cell_type": "code",
   "execution_count": null,
   "metadata": {},
   "outputs": [],
   "source": [
    "new_data.groupby('rating')['eu_sales'].sum().sort_values(ascending=False)\\\n",
    "                                      .plot(kind='pie', grid=True, figsize=(7, 7), title='jp_sales_per_genre')"
   ]
  },
  {
   "cell_type": "markdown",
   "metadata": {},
   "source": [
    "Ситуация практически аналогичная той, что была в Северной Америке, примернок 38% на рейтинг M, чуть больше 22% на \"E\" и по 10% на \"E10+\" и \"T\". Доля неоцененных игр составляет 18%."
   ]
  },
  {
   "cell_type": "markdown",
   "metadata": {},
   "source": [
    "#### Япония"
   ]
  },
  {
   "cell_type": "code",
   "execution_count": null,
   "metadata": {},
   "outputs": [],
   "source": [
    "new_data.groupby('rating')['jp_sales'].sum().sort_values(ascending=False)"
   ]
  },
  {
   "cell_type": "code",
   "execution_count": null,
   "metadata": {},
   "outputs": [],
   "source": [
    "percentuale(new_data.groupby('rating')['jp_sales'].sum().sort_values(ascending=False), \n",
    "            sum(new_data.groupby('rating')['jp_sales'].sum().sort_values(ascending=False)))"
   ]
  },
  {
   "cell_type": "code",
   "execution_count": null,
   "metadata": {},
   "outputs": [],
   "source": [
    "new_data.groupby('rating')['jp_sales'].sum().sort_values(ascending=False)\\\n",
    "                                      .plot(kind='pie', grid=True, figsize=(7, 7), title='jp_sales_per_genre')"
   ]
  },
  {
   "cell_type": "markdown",
   "metadata": {},
   "source": [
    "А вот в Японии положение дел значительно отличается, большая часть игр - 57% не имеют рейтинга, рейтинги \"E\", \"T\" и \"M\" имеют от 15 до 11 процентов, на последнем месте расположился E10+ со значением в 4 процента."
   ]
  },
  {
   "cell_type": "markdown",
   "metadata": {},
   "source": [
    "### Вывод по анализу продаж по регионам"
   ]
  },
  {
   "cell_type": "markdown",
   "metadata": {},
   "source": [
    "Популярность платформ по регионам разная:\n",
    "- В Северной Америке наиболее популярны X360, PS4, PS3, XOne и 3DS с долями рынка от 24 до 9%, на оставшиеся платформы приходится порядка 15%.\n",
    "- В Европе наиболее популярны PS4, PS3, X360, XOne и 3DS с долями рынка от 28 до 8 процентов, на оставшиеся платформы приходится около 18%.\n",
    "- В Японии наиболее популярны 3DS, PS3, PSV, PSV, PS4 с долями рынка от 46 до 7 процентов, на оставшиеся платформы приходится примерно 10%. Хочется отметить, что 3DS - платформ, замыкающая топы в Северной Америке и Европе, в Японии его возглавляет причем с долей рынка близкой к половине.  \n",
    "\n",
    "В популярности жанров по регионам есть закономерности: \n",
    "- Пятерка самых популярных жанров в Северной Америке и Европе совпадает за исключением замыкающего жарна, в Северной Америке это - Action, Shooter, Sports, Role-Playing и Misk, в Европе соответственно Action, Shooter, Sports, Role-Playing и Racing, при этом даже по долям распределения жанры достаточно близки. \n",
    "- Популярные жанры в Японии сильно отличаются от Северной Америки и Европы и составляют Role-Playing, Action, Misc, Simulation и Fighting, из похожего здесь только Action на втором месте, что близко к значениям этого жанра в Европе и Северной Америке. \n",
    "\n",
    "Влияние рейтинга ESRB: \n",
    "- Ситуация в Северной Америке и Европе очень похожа, порядка 40% рынка рынка приходится на игры с рейтингом \"M\", чуть больше 20% на \"E\" и по 10-15% на \"E10+\" и \"T\". \n",
    "- Азиатский рынок существенно отличается, больше половины игр рейтинга вообще не имеют, рейтинги \"E\", \"T\" и \"M\" занимают долю рынка от 15 до 11 процентов, на последнем месте расположился E10+ со значением в 4 процента."
   ]
  },
  {
   "cell_type": "markdown",
   "metadata": {},
   "source": [
    "## Проверка гипотез"
   ]
  },
  {
   "cell_type": "code",
   "execution_count": null,
   "metadata": {},
   "outputs": [],
   "source": [
    "from scipy import stats as st"
   ]
  },
  {
   "cell_type": "markdown",
   "metadata": {},
   "source": [
    "### Поиск различий в пользовательских оценках в зависимости от платформы"
   ]
  },
  {
   "cell_type": "markdown",
   "metadata": {},
   "source": [
    "Для начала определимся различаются ли отзывы пользователей в зависимости от платфорымы, рассмотрим PC и XOne. \n",
    "Соотвественно:\n",
    "- Н0 - Отзывы игроков на этих двух платформах не отличаются. \n",
    "- H1 - Существует различие в отзывах людей, играющих на этих двух платформах."
   ]
  },
  {
   "cell_type": "code",
   "execution_count": null,
   "metadata": {},
   "outputs": [],
   "source": [
    "alpha = 0.05 \n",
    "\n",
    "results = st.ttest_ind(\n",
    "                       new_data[(new_data['platform'] == 'PC') & (new_data['user_score'].notna())]['user_score'], \n",
    "                       new_data[(new_data['platform'] == 'XOne') & (new_data['user_score'].notna())]['user_score'],\n",
    "                       equal_var = False)\n",
    "\n",
    "print('p-значение:', results.pvalue)\n",
    "\n",
    "if results.pvalue < alpha:\n",
    "    print(\"Отвергаем нулевую гипотезу\")\n",
    "else:\n",
    "    print(\"Не получилось отвергнуть нулевую гипотезу\") "
   ]
  },
  {
   "cell_type": "markdown",
   "metadata": {},
   "source": [
    "Иными словами, у нас недостаточно оснований, чтобы заявлять о том, что игроки по разному оценивают игры с платформ PC и XOne."
   ]
  },
  {
   "cell_type": "markdown",
   "metadata": {},
   "source": [
    "### Поиск различий в пользовательских оценках в зависимости от жанров"
   ]
  },
  {
   "cell_type": "markdown",
   "metadata": {},
   "source": [
    "Посмотрим, отличаются ли пользовательские оценки в зависимости от жанров игры - Action и Sports. Соотсветсвенно:\n",
    "- H0 - Различия нет, игроки оценивают эти два жанра одинаково. \n",
    "- H1 - Существует различие в оценках между этими двумя жанрами игроками. "
   ]
  },
  {
   "cell_type": "code",
   "execution_count": null,
   "metadata": {},
   "outputs": [],
   "source": [
    "alpha = 0.05 \n",
    "\n",
    "results = st.ttest_ind(\n",
    "                       new_data[(new_data['genre'] == 'Action') & (new_data['user_score'].notna())]['user_score'], \n",
    "                       new_data[(new_data['genre'] == 'Sports') & (new_data['user_score'].notna())]['user_score'],\n",
    "                       equal_var = False)\n",
    "\n",
    "print('p-значение:', results.pvalue)\n",
    "\n",
    "if results.pvalue < alpha:\n",
    "    print(\"Отвергаем нулевую гипотезу\")\n",
    "else:\n",
    "    print(\"Не получилось отвергнуть нулевую гипотезу\") "
   ]
  },
  {
   "cell_type": "markdown",
   "metadata": {},
   "source": [
    "На имеющихся данных, на уровне значимости 1% есть основания отвергнуть нулевую гипотезу о равенстве средних значений пользовательских рейтингов (отзывов) жанров Action и Sports в пользу альтернативной гипотезы. Следует понимать, что у нас нет никаких оснований, чтобы судить о причинах, мы можем только предположить, что разница могла быть вызвана самим пользовательским предпочтением, качеством игр или чем-то еще. "
   ]
  },
  {
   "cell_type": "markdown",
   "metadata": {},
   "source": [
    "### Выводы по проверке гипотез"
   ]
  },
  {
   "cell_type": "markdown",
   "metadata": {},
   "source": [
    "- В данном разделе был использован двусторонний тест для независимых выборок, поскольку технически возможно отклонение изучаемого признака(оценок пользователей) в любую сторону, а выборки независимы. \n",
    "- Гипотезы формулируются исходя из принципа, что нулевая гипотеза говорит об отсутствии зависимости или различия, альтернативная гипотеза говорит, соответственно, об обратном. В нашем случае при проверке различий в пользовательских оценках в зависимости от жанров игры - Action и Sports, мы сначала утверждаем, что различий нет в нулевой гипотезе и что они есть в первой. Аналогично строятся гипотезы для второго задания, мы утверждаем в нулевой гипотезе то, что игроки оценивают эти два жанра одинаково, в альтернативной же мы говорим о том, что различия в оценках есть."
   ]
  },
  {
   "cell_type": "markdown",
   "metadata": {},
   "source": [
    "## Общий вывод"
   ]
  },
  {
   "cell_type": "markdown",
   "metadata": {},
   "source": [
    "**Динамика релиза и продаж игр**\n",
    "\n",
    "- Значительная часть платформ, на которые приходились пики 2007-2010 года на момент 2016 и тем более 2017 уже неактуальны \n",
    "- Большая часть даже относительно новых платформ демонстрирует тенденцию к снижению продаж в период с 2012 по 2016\n",
    "- Существует средне-слабая зависимость между уровнем продаж и оценкой критиков.\n",
    "- Связь между уровнем продаж и оценками игроков отсутствует.\n",
    "- Наиболее популярные и наиболее продающиеся жанры совпадают у вершин рейтингов, в частности наиболее популярными являются - Action, Role-Playing, Adventure и Sports, а наиболее продающимися - Action, Shooter, Role-Playing и Sports, в середине рейтингов есть расхождения, а вот концовки сходятся, наименее популярными и наименее продающимися оказались жанры Strategy и Puzzle.  Однако, не все эти жанры дают стабильных доход, наиболее высокие медианные продажи показали Shooter, Sports, Platform, Role-Playing и Racing.\n",
    " \n",
    "\n",
    "**Региональный анализ** \n",
    "\n",
    "- Популярность платформ по регионам разная. В Северной Америке наиболее популярны X360, PS4, PS3, XOne и 3DS, в Европе наиболее популярны PS4, PS3, X360, XOne и 3DS, в Японии наиболее популярны 3DS, PS3, PSV, PSV, PS4. Следует отметить, что на занимающую нижние строчки в рейтинге топ-5 популярных консолей в Северной Америке и Европе 3DS в Японии приходится почти половина рынка. \n",
    "- Пятерка самых популярных жанров в Северной Америке и Европе совпадает за исключением замыкающего жарна, в Северной Америке это - Action, Shooter, Sports, Role-Playing и Misk, в Европе соответственно Action, Shooter, Sports, Role-Playing и Racing, при этом даже по долям распределения жанры достаточно близки. Популярные жанры в Японии сильно отличаются от Северной Америки и Европы и составляют Role-Playing, Action, Misc, Simulation и Fighting, из похожего здесь только Action на втором месте, что близко к значениям этого жанра в Европе и Северной Америке.\n",
    "\n",
    "**Проверка статистических гипотез** \n",
    "\n",
    "- Достоверных различий в оценках игр их-за разных игровых платформ, Xbox One и PC, обнаружить не удалось. \n",
    "- Был получен значимый результат при проверке различий пользовательских оценок в зависимости от жанра. Иными словами, оценки игроков по отношению к играм с жанрами Action и Sports действительно отличаются.  \n",
    "\n",
    "\n",
    "**Рекомендации по использованию рекламного бюджета** \n",
    "- С точки зрения автора следует обратить внимание на платформы PS4 и XOne, они достаточно новые, при этом уже показывают хорошие медианные показатели продаж, кроме того, в Японии можно обратить внимание на 3DS. \n",
    "- Следует с осторожностью подходить к PS3 и X360, за период 2012-2016 продажи по ним все еще значительны, но сами консоли сильно устарели и их поддержка на момент 2016 года прекращена. \n",
    "- Наиболее интересными жанрами со стабильным доходом в целом являются Shooter и Sports, он же хороши для Европы и Северной Америки. Однако, для Японии более предпочтительны Role-Playing и Action. \n",
    "- Касаемо рейтинга, в Европе и Северной Америке предпочтительно обращать внимание на рейтинг \"M\", иногда на \"E\". В Японии же на рейтинг следует смотреть в последнюю очередь, если вообще смотреть, больше половины продающихся игр его в принципе не имеют. "
   ]
  }
 ],
 "metadata": {
  "ExecuteTimeLog": [
   {
    "duration": 393,
    "start_time": "2023-01-03T09:54:27.859Z"
   },
   {
    "duration": 59,
    "start_time": "2023-01-03T09:55:00.635Z"
   },
   {
    "duration": 2,
    "start_time": "2023-01-03T09:55:06.305Z"
   },
   {
    "duration": 114,
    "start_time": "2023-01-03T09:55:07.591Z"
   },
   {
    "duration": 49,
    "start_time": "2023-01-03T09:55:15.208Z"
   },
   {
    "duration": 16,
    "start_time": "2023-01-03T09:55:29.529Z"
   },
   {
    "duration": 83,
    "start_time": "2023-01-03T09:55:36.153Z"
   },
   {
    "duration": 16,
    "start_time": "2023-01-03T09:55:41.984Z"
   },
   {
    "duration": 1742,
    "start_time": "2023-01-03T09:57:08.361Z"
   },
   {
    "duration": 19,
    "start_time": "2023-01-03T10:03:49.319Z"
   },
   {
    "duration": 14,
    "start_time": "2023-01-03T10:04:10.894Z"
   },
   {
    "duration": 3,
    "start_time": "2023-01-03T10:10:58.596Z"
   },
   {
    "duration": 3,
    "start_time": "2023-01-03T10:11:09.067Z"
   },
   {
    "duration": 13,
    "start_time": "2023-01-03T10:11:28.527Z"
   },
   {
    "duration": 23,
    "start_time": "2023-01-03T10:15:57.112Z"
   },
   {
    "duration": 15,
    "start_time": "2023-01-03T10:16:20.229Z"
   },
   {
    "duration": 16,
    "start_time": "2023-01-03T10:16:26.162Z"
   },
   {
    "duration": 8,
    "start_time": "2023-01-03T10:18:27.697Z"
   },
   {
    "duration": 16,
    "start_time": "2023-01-03T10:18:37.980Z"
   },
   {
    "duration": 19,
    "start_time": "2023-01-03T10:21:51.360Z"
   },
   {
    "duration": 21,
    "start_time": "2023-01-03T10:22:47.070Z"
   },
   {
    "duration": 23,
    "start_time": "2023-01-03T10:23:45.004Z"
   },
   {
    "duration": 13,
    "start_time": "2023-01-03T10:28:14.555Z"
   },
   {
    "duration": 11,
    "start_time": "2023-01-03T10:29:28.738Z"
   },
   {
    "duration": 11,
    "start_time": "2023-01-03T10:30:40.134Z"
   },
   {
    "duration": 31,
    "start_time": "2023-01-03T10:31:39.321Z"
   },
   {
    "duration": 25,
    "start_time": "2023-01-03T10:32:17.932Z"
   },
   {
    "duration": 15,
    "start_time": "2023-01-03T10:33:08.724Z"
   },
   {
    "duration": 2,
    "start_time": "2023-01-03T10:33:21.441Z"
   },
   {
    "duration": 66,
    "start_time": "2023-01-03T10:33:21.445Z"
   },
   {
    "duration": 12,
    "start_time": "2023-01-03T10:33:21.513Z"
   },
   {
    "duration": 1542,
    "start_time": "2023-01-03T10:33:21.527Z"
   },
   {
    "duration": 14,
    "start_time": "2023-01-03T10:33:23.070Z"
   },
   {
    "duration": 27,
    "start_time": "2023-01-03T10:33:23.086Z"
   },
   {
    "duration": 15,
    "start_time": "2023-01-03T10:33:23.114Z"
   },
   {
    "duration": 21,
    "start_time": "2023-01-03T10:34:13.305Z"
   },
   {
    "duration": 39,
    "start_time": "2023-01-03T10:34:31.967Z"
   },
   {
    "duration": 12,
    "start_time": "2023-01-03T10:35:45.911Z"
   },
   {
    "duration": 28,
    "start_time": "2023-01-03T10:35:52.369Z"
   },
   {
    "duration": 3,
    "start_time": "2023-01-03T10:36:02.257Z"
   },
   {
    "duration": 64,
    "start_time": "2023-01-03T10:36:02.263Z"
   },
   {
    "duration": 14,
    "start_time": "2023-01-03T10:36:02.329Z"
   },
   {
    "duration": 1460,
    "start_time": "2023-01-03T10:36:02.344Z"
   },
   {
    "duration": 14,
    "start_time": "2023-01-03T10:36:03.806Z"
   },
   {
    "duration": 11,
    "start_time": "2023-01-03T10:36:03.821Z"
   },
   {
    "duration": 13,
    "start_time": "2023-01-03T10:36:03.833Z"
   },
   {
    "duration": 26,
    "start_time": "2023-01-03T10:36:20.311Z"
   },
   {
    "duration": 19,
    "start_time": "2023-01-03T10:36:55.848Z"
   },
   {
    "duration": 30,
    "start_time": "2023-01-03T10:37:01.791Z"
   },
   {
    "duration": 34,
    "start_time": "2023-01-03T10:37:47.056Z"
   },
   {
    "duration": 3,
    "start_time": "2023-01-03T10:38:07.681Z"
   },
   {
    "duration": 76,
    "start_time": "2023-01-03T10:38:07.686Z"
   },
   {
    "duration": 12,
    "start_time": "2023-01-03T10:38:07.764Z"
   },
   {
    "duration": 1450,
    "start_time": "2023-01-03T10:38:07.777Z"
   },
   {
    "duration": 18,
    "start_time": "2023-01-03T10:38:09.230Z"
   },
   {
    "duration": 32,
    "start_time": "2023-01-03T10:38:09.250Z"
   },
   {
    "duration": 38,
    "start_time": "2023-01-03T10:38:09.284Z"
   },
   {
    "duration": 50,
    "start_time": "2023-01-03T10:39:37.165Z"
   },
   {
    "duration": 20,
    "start_time": "2023-01-03T10:39:45.309Z"
   },
   {
    "duration": 33,
    "start_time": "2023-01-03T10:39:51.984Z"
   },
   {
    "duration": 48,
    "start_time": "2023-01-03T10:41:40.679Z"
   },
   {
    "duration": 26,
    "start_time": "2023-01-03T10:41:47.504Z"
   },
   {
    "duration": 31,
    "start_time": "2023-01-03T10:42:53.592Z"
   },
   {
    "duration": 32,
    "start_time": "2023-01-03T10:43:00.922Z"
   },
   {
    "duration": 30,
    "start_time": "2023-01-03T10:43:37.444Z"
   },
   {
    "duration": 3,
    "start_time": "2023-01-03T10:46:49.928Z"
   },
   {
    "duration": 74,
    "start_time": "2023-01-03T10:46:49.934Z"
   },
   {
    "duration": 13,
    "start_time": "2023-01-03T10:46:50.010Z"
   },
   {
    "duration": 1378,
    "start_time": "2023-01-03T10:46:50.026Z"
   },
   {
    "duration": 18,
    "start_time": "2023-01-03T10:46:51.406Z"
   },
   {
    "duration": 23,
    "start_time": "2023-01-03T10:46:51.425Z"
   },
   {
    "duration": 0,
    "start_time": "2023-01-03T10:46:51.449Z"
   },
   {
    "duration": 0,
    "start_time": "2023-01-03T10:46:51.451Z"
   },
   {
    "duration": 3,
    "start_time": "2023-01-03T10:47:51.429Z"
   },
   {
    "duration": 68,
    "start_time": "2023-01-03T10:47:51.434Z"
   },
   {
    "duration": 14,
    "start_time": "2023-01-03T10:47:51.504Z"
   },
   {
    "duration": 1596,
    "start_time": "2023-01-03T10:47:51.519Z"
   },
   {
    "duration": 15,
    "start_time": "2023-01-03T10:47:53.117Z"
   },
   {
    "duration": 8,
    "start_time": "2023-01-03T10:47:53.133Z"
   },
   {
    "duration": 0,
    "start_time": "2023-01-03T10:47:53.143Z"
   },
   {
    "duration": 0,
    "start_time": "2023-01-03T10:47:53.144Z"
   },
   {
    "duration": 3,
    "start_time": "2023-01-03T10:47:59.864Z"
   },
   {
    "duration": 60,
    "start_time": "2023-01-03T10:47:59.869Z"
   },
   {
    "duration": 13,
    "start_time": "2023-01-03T10:47:59.931Z"
   },
   {
    "duration": 1595,
    "start_time": "2023-01-03T10:47:59.946Z"
   },
   {
    "duration": 13,
    "start_time": "2023-01-03T10:48:01.543Z"
   },
   {
    "duration": 27,
    "start_time": "2023-01-03T10:48:01.558Z"
   },
   {
    "duration": 54,
    "start_time": "2023-01-03T10:48:01.587Z"
   },
   {
    "duration": 13,
    "start_time": "2023-01-03T10:48:01.642Z"
   },
   {
    "duration": 3,
    "start_time": "2023-01-03T10:48:26.774Z"
   },
   {
    "duration": 67,
    "start_time": "2023-01-03T10:48:26.779Z"
   },
   {
    "duration": 13,
    "start_time": "2023-01-03T10:48:26.848Z"
   },
   {
    "duration": 1387,
    "start_time": "2023-01-03T10:48:26.863Z"
   },
   {
    "duration": 14,
    "start_time": "2023-01-03T10:48:28.252Z"
   },
   {
    "duration": 7,
    "start_time": "2023-01-03T10:48:28.268Z"
   },
   {
    "duration": 52,
    "start_time": "2023-01-03T10:48:28.276Z"
   },
   {
    "duration": 14,
    "start_time": "2023-01-03T10:48:28.330Z"
   },
   {
    "duration": 6,
    "start_time": "2023-01-03T10:51:26.028Z"
   },
   {
    "duration": 3,
    "start_time": "2023-01-03T10:51:35.503Z"
   },
   {
    "duration": 76,
    "start_time": "2023-01-03T10:51:35.508Z"
   },
   {
    "duration": 13,
    "start_time": "2023-01-03T10:51:35.586Z"
   },
   {
    "duration": 1800,
    "start_time": "2023-01-03T10:51:35.601Z"
   },
   {
    "duration": 24,
    "start_time": "2023-01-03T10:51:37.403Z"
   },
   {
    "duration": 17,
    "start_time": "2023-01-03T10:51:37.429Z"
   },
   {
    "duration": 71,
    "start_time": "2023-01-03T10:51:37.448Z"
   },
   {
    "duration": 5,
    "start_time": "2023-01-03T10:51:37.521Z"
   },
   {
    "duration": 19,
    "start_time": "2023-01-03T10:51:37.528Z"
   },
   {
    "duration": 2,
    "start_time": "2023-01-03T10:53:02.710Z"
   },
   {
    "duration": 65,
    "start_time": "2023-01-03T10:53:02.714Z"
   },
   {
    "duration": 14,
    "start_time": "2023-01-03T10:53:02.781Z"
   },
   {
    "duration": 1343,
    "start_time": "2023-01-03T10:53:02.797Z"
   },
   {
    "duration": 15,
    "start_time": "2023-01-03T10:53:04.143Z"
   },
   {
    "duration": 10,
    "start_time": "2023-01-03T10:53:04.160Z"
   },
   {
    "duration": 66,
    "start_time": "2023-01-03T10:53:04.172Z"
   },
   {
    "duration": 6,
    "start_time": "2023-01-03T10:53:04.241Z"
   },
   {
    "duration": 21,
    "start_time": "2023-01-03T10:53:04.248Z"
   },
   {
    "duration": 2,
    "start_time": "2023-01-03T10:53:59.652Z"
   },
   {
    "duration": 72,
    "start_time": "2023-01-03T10:53:59.657Z"
   },
   {
    "duration": 13,
    "start_time": "2023-01-03T10:53:59.731Z"
   },
   {
    "duration": 1745,
    "start_time": "2023-01-03T10:53:59.746Z"
   },
   {
    "duration": 20,
    "start_time": "2023-01-03T10:54:01.493Z"
   },
   {
    "duration": 12,
    "start_time": "2023-01-03T10:54:01.515Z"
   },
   {
    "duration": 50,
    "start_time": "2023-01-03T10:54:01.528Z"
   },
   {
    "duration": 5,
    "start_time": "2023-01-03T10:54:01.580Z"
   },
   {
    "duration": 39,
    "start_time": "2023-01-03T10:54:01.586Z"
   },
   {
    "duration": 5,
    "start_time": "2023-01-03T10:57:52.816Z"
   },
   {
    "duration": 3,
    "start_time": "2023-01-03T10:58:07.662Z"
   },
   {
    "duration": 77,
    "start_time": "2023-01-03T10:58:07.668Z"
   },
   {
    "duration": 15,
    "start_time": "2023-01-03T10:58:07.747Z"
   },
   {
    "duration": 1448,
    "start_time": "2023-01-03T10:58:07.764Z"
   },
   {
    "duration": 21,
    "start_time": "2023-01-03T10:58:09.215Z"
   },
   {
    "duration": 12,
    "start_time": "2023-01-03T10:58:09.239Z"
   },
   {
    "duration": 75,
    "start_time": "2023-01-03T10:58:09.254Z"
   },
   {
    "duration": 8,
    "start_time": "2023-01-03T10:58:09.332Z"
   },
   {
    "duration": 24,
    "start_time": "2023-01-03T10:58:09.342Z"
   },
   {
    "duration": 3,
    "start_time": "2023-01-03T10:58:26.746Z"
   },
   {
    "duration": 92,
    "start_time": "2023-01-03T10:58:26.752Z"
   },
   {
    "duration": 16,
    "start_time": "2023-01-03T10:58:26.845Z"
   },
   {
    "duration": 1871,
    "start_time": "2023-01-03T10:58:26.865Z"
   },
   {
    "duration": 16,
    "start_time": "2023-01-03T10:58:28.738Z"
   },
   {
    "duration": 14,
    "start_time": "2023-01-03T10:58:28.756Z"
   },
   {
    "duration": 65,
    "start_time": "2023-01-03T10:58:28.772Z"
   },
   {
    "duration": 7,
    "start_time": "2023-01-03T10:58:28.839Z"
   },
   {
    "duration": 24,
    "start_time": "2023-01-03T10:58:28.847Z"
   },
   {
    "duration": 2,
    "start_time": "2023-01-03T10:59:12.580Z"
   },
   {
    "duration": 64,
    "start_time": "2023-01-03T10:59:12.584Z"
   },
   {
    "duration": 13,
    "start_time": "2023-01-03T10:59:12.650Z"
   },
   {
    "duration": 1503,
    "start_time": "2023-01-03T10:59:12.666Z"
   },
   {
    "duration": 22,
    "start_time": "2023-01-03T10:59:14.172Z"
   },
   {
    "duration": 31,
    "start_time": "2023-01-03T10:59:14.196Z"
   },
   {
    "duration": 45,
    "start_time": "2023-01-03T10:59:14.229Z"
   },
   {
    "duration": 5,
    "start_time": "2023-01-03T10:59:14.276Z"
   },
   {
    "duration": 34,
    "start_time": "2023-01-03T10:59:14.283Z"
   },
   {
    "duration": 8,
    "start_time": "2023-01-03T11:00:35.363Z"
   },
   {
    "duration": 2,
    "start_time": "2023-01-03T11:00:38.909Z"
   },
   {
    "duration": 65,
    "start_time": "2023-01-03T11:00:38.913Z"
   },
   {
    "duration": 14,
    "start_time": "2023-01-03T11:00:38.980Z"
   },
   {
    "duration": 1404,
    "start_time": "2023-01-03T11:00:38.996Z"
   },
   {
    "duration": 19,
    "start_time": "2023-01-03T11:00:40.403Z"
   },
   {
    "duration": 7,
    "start_time": "2023-01-03T11:00:40.423Z"
   },
   {
    "duration": 45,
    "start_time": "2023-01-03T11:00:40.432Z"
   },
   {
    "duration": 5,
    "start_time": "2023-01-03T11:00:40.478Z"
   },
   {
    "duration": 40,
    "start_time": "2023-01-03T11:00:40.485Z"
   },
   {
    "duration": 7,
    "start_time": "2023-01-03T11:01:56.108Z"
   },
   {
    "duration": 6,
    "start_time": "2023-01-03T11:02:12.684Z"
   },
   {
    "duration": 9,
    "start_time": "2023-01-03T11:02:30.348Z"
   },
   {
    "duration": 3,
    "start_time": "2023-01-03T11:02:53.005Z"
   },
   {
    "duration": 73,
    "start_time": "2023-01-03T11:02:53.010Z"
   },
   {
    "duration": 14,
    "start_time": "2023-01-03T11:02:53.085Z"
   },
   {
    "duration": 1970,
    "start_time": "2023-01-03T11:02:53.101Z"
   },
   {
    "duration": 16,
    "start_time": "2023-01-03T11:02:55.074Z"
   },
   {
    "duration": 26,
    "start_time": "2023-01-03T11:02:55.092Z"
   },
   {
    "duration": 16,
    "start_time": "2023-01-03T11:02:55.119Z"
   },
   {
    "duration": 36,
    "start_time": "2023-01-03T11:02:55.137Z"
   },
   {
    "duration": 6,
    "start_time": "2023-01-03T11:02:55.174Z"
   },
   {
    "duration": 12,
    "start_time": "2023-01-03T11:02:55.181Z"
   },
   {
    "duration": 25,
    "start_time": "2023-01-03T11:02:55.195Z"
   },
   {
    "duration": 8,
    "start_time": "2023-01-03T11:11:39.398Z"
   },
   {
    "duration": 10,
    "start_time": "2023-01-03T11:11:49.133Z"
   },
   {
    "duration": 7,
    "start_time": "2023-01-03T11:25:06.405Z"
   },
   {
    "duration": 12,
    "start_time": "2023-01-03T11:25:13.230Z"
   },
   {
    "duration": 6,
    "start_time": "2023-01-03T11:25:34.860Z"
   },
   {
    "duration": 13,
    "start_time": "2023-01-03T11:26:17.666Z"
   },
   {
    "duration": 41,
    "start_time": "2023-01-03T11:27:35.272Z"
   },
   {
    "duration": 7,
    "start_time": "2023-01-03T11:27:42.159Z"
   },
   {
    "duration": 4,
    "start_time": "2023-01-03T11:27:50.488Z"
   },
   {
    "duration": 65,
    "start_time": "2023-01-03T11:27:50.494Z"
   },
   {
    "duration": 12,
    "start_time": "2023-01-03T11:27:50.560Z"
   },
   {
    "duration": 1345,
    "start_time": "2023-01-03T11:27:50.575Z"
   },
   {
    "duration": 14,
    "start_time": "2023-01-03T11:27:51.922Z"
   },
   {
    "duration": 40,
    "start_time": "2023-01-03T11:27:51.938Z"
   },
   {
    "duration": 5,
    "start_time": "2023-01-03T11:27:51.980Z"
   },
   {
    "duration": 35,
    "start_time": "2023-01-03T11:27:51.986Z"
   },
   {
    "duration": 7,
    "start_time": "2023-01-03T11:27:52.023Z"
   },
   {
    "duration": 18,
    "start_time": "2023-01-03T11:27:52.032Z"
   },
   {
    "duration": 14,
    "start_time": "2023-01-03T11:27:52.052Z"
   },
   {
    "duration": 8,
    "start_time": "2023-01-03T11:27:58.701Z"
   },
   {
    "duration": 11,
    "start_time": "2023-01-03T11:28:19.104Z"
   },
   {
    "duration": 3,
    "start_time": "2023-01-03T11:28:29.160Z"
   },
   {
    "duration": 86,
    "start_time": "2023-01-03T11:28:29.165Z"
   },
   {
    "duration": 15,
    "start_time": "2023-01-03T11:28:29.253Z"
   },
   {
    "duration": 1397,
    "start_time": "2023-01-03T11:28:29.270Z"
   },
   {
    "duration": 15,
    "start_time": "2023-01-03T11:28:30.668Z"
   },
   {
    "duration": 48,
    "start_time": "2023-01-03T11:28:30.684Z"
   },
   {
    "duration": 5,
    "start_time": "2023-01-03T11:28:30.734Z"
   },
   {
    "duration": 16,
    "start_time": "2023-01-03T11:28:30.741Z"
   },
   {
    "duration": 7,
    "start_time": "2023-01-03T11:28:30.759Z"
   },
   {
    "duration": 28,
    "start_time": "2023-01-03T11:28:30.769Z"
   },
   {
    "duration": 33,
    "start_time": "2023-01-03T11:28:30.799Z"
   },
   {
    "duration": 13,
    "start_time": "2023-01-03T11:31:15.248Z"
   },
   {
    "duration": 12,
    "start_time": "2023-01-03T11:31:33.643Z"
   },
   {
    "duration": 25,
    "start_time": "2023-01-03T11:35:58.712Z"
   },
   {
    "duration": 13,
    "start_time": "2023-01-03T11:36:11.123Z"
   },
   {
    "duration": 7,
    "start_time": "2023-01-03T11:37:02.079Z"
   },
   {
    "duration": 13,
    "start_time": "2023-01-03T11:37:17.352Z"
   },
   {
    "duration": 6,
    "start_time": "2023-01-03T11:37:32.362Z"
   },
   {
    "duration": 8,
    "start_time": "2023-01-03T11:38:19.771Z"
   },
   {
    "duration": 5,
    "start_time": "2023-01-03T11:38:29.119Z"
   },
   {
    "duration": 9,
    "start_time": "2023-01-03T11:42:17.080Z"
   },
   {
    "duration": 6,
    "start_time": "2023-01-03T11:43:05.129Z"
   },
   {
    "duration": 9,
    "start_time": "2023-01-03T11:43:49.380Z"
   },
   {
    "duration": 6,
    "start_time": "2023-01-03T11:43:52.655Z"
   },
   {
    "duration": 42,
    "start_time": "2023-01-03T11:43:56.337Z"
   },
   {
    "duration": 11,
    "start_time": "2023-01-03T11:44:21.325Z"
   },
   {
    "duration": 37,
    "start_time": "2023-01-03T11:44:53.608Z"
   },
   {
    "duration": 12,
    "start_time": "2023-01-03T11:45:08.129Z"
   },
   {
    "duration": 5,
    "start_time": "2023-01-03T11:49:03.965Z"
   },
   {
    "duration": 6,
    "start_time": "2023-01-03T11:49:18.231Z"
   },
   {
    "duration": 11,
    "start_time": "2023-01-03T11:49:46.533Z"
   },
   {
    "duration": 2,
    "start_time": "2023-01-03T11:49:53.638Z"
   },
   {
    "duration": 70,
    "start_time": "2023-01-03T11:49:53.643Z"
   },
   {
    "duration": 16,
    "start_time": "2023-01-03T11:49:53.715Z"
   },
   {
    "duration": 1343,
    "start_time": "2023-01-03T11:49:53.733Z"
   },
   {
    "duration": 14,
    "start_time": "2023-01-03T11:49:55.078Z"
   },
   {
    "duration": 45,
    "start_time": "2023-01-03T11:49:55.093Z"
   },
   {
    "duration": 5,
    "start_time": "2023-01-03T11:49:55.140Z"
   },
   {
    "duration": 12,
    "start_time": "2023-01-03T11:49:55.147Z"
   },
   {
    "duration": 8,
    "start_time": "2023-01-03T11:49:55.161Z"
   },
   {
    "duration": 25,
    "start_time": "2023-01-03T11:49:55.172Z"
   },
   {
    "duration": 18,
    "start_time": "2023-01-03T11:49:55.198Z"
   },
   {
    "duration": 12,
    "start_time": "2023-01-03T11:49:55.218Z"
   },
   {
    "duration": 0,
    "start_time": "2023-01-03T11:49:55.232Z"
   },
   {
    "duration": 0,
    "start_time": "2023-01-03T11:49:55.233Z"
   },
   {
    "duration": 0,
    "start_time": "2023-01-03T11:49:55.235Z"
   },
   {
    "duration": 0,
    "start_time": "2023-01-03T11:49:55.236Z"
   },
   {
    "duration": 0,
    "start_time": "2023-01-03T11:49:55.237Z"
   },
   {
    "duration": 3,
    "start_time": "2023-01-03T11:50:39.824Z"
   },
   {
    "duration": 60,
    "start_time": "2023-01-03T11:50:39.829Z"
   },
   {
    "duration": 13,
    "start_time": "2023-01-03T11:50:39.890Z"
   },
   {
    "duration": 1845,
    "start_time": "2023-01-03T11:50:39.905Z"
   },
   {
    "duration": 15,
    "start_time": "2023-01-03T11:50:41.752Z"
   },
   {
    "duration": 45,
    "start_time": "2023-01-03T11:50:41.768Z"
   },
   {
    "duration": 4,
    "start_time": "2023-01-03T11:50:41.815Z"
   },
   {
    "duration": 11,
    "start_time": "2023-01-03T11:50:41.821Z"
   },
   {
    "duration": 5,
    "start_time": "2023-01-03T11:50:41.835Z"
   },
   {
    "duration": 20,
    "start_time": "2023-01-03T11:50:41.842Z"
   },
   {
    "duration": 7,
    "start_time": "2023-01-03T11:50:41.864Z"
   },
   {
    "duration": 41,
    "start_time": "2023-01-03T11:50:41.872Z"
   },
   {
    "duration": 0,
    "start_time": "2023-01-03T11:50:41.916Z"
   },
   {
    "duration": 0,
    "start_time": "2023-01-03T11:50:41.917Z"
   },
   {
    "duration": 0,
    "start_time": "2023-01-03T11:50:41.919Z"
   },
   {
    "duration": 0,
    "start_time": "2023-01-03T11:50:41.920Z"
   },
   {
    "duration": 0,
    "start_time": "2023-01-03T11:50:41.922Z"
   },
   {
    "duration": 4,
    "start_time": "2023-01-03T11:52:01.058Z"
   },
   {
    "duration": 8,
    "start_time": "2023-01-03T11:53:28.451Z"
   },
   {
    "duration": 8,
    "start_time": "2023-01-03T11:53:43.684Z"
   },
   {
    "duration": 8,
    "start_time": "2023-01-03T11:53:49.419Z"
   },
   {
    "duration": 9,
    "start_time": "2023-01-03T11:53:53.337Z"
   },
   {
    "duration": 3,
    "start_time": "2023-01-03T11:54:32.781Z"
   },
   {
    "duration": 63,
    "start_time": "2023-01-03T11:54:32.786Z"
   },
   {
    "duration": 13,
    "start_time": "2023-01-03T11:54:32.851Z"
   },
   {
    "duration": 1368,
    "start_time": "2023-01-03T11:54:32.866Z"
   },
   {
    "duration": 14,
    "start_time": "2023-01-03T11:54:34.236Z"
   },
   {
    "duration": 36,
    "start_time": "2023-01-03T11:54:34.251Z"
   },
   {
    "duration": 24,
    "start_time": "2023-01-03T11:54:34.289Z"
   },
   {
    "duration": 10,
    "start_time": "2023-01-03T11:54:34.315Z"
   },
   {
    "duration": 4,
    "start_time": "2023-01-03T11:54:34.327Z"
   },
   {
    "duration": 16,
    "start_time": "2023-01-03T11:54:34.333Z"
   },
   {
    "duration": 6,
    "start_time": "2023-01-03T11:54:34.350Z"
   },
   {
    "duration": 9,
    "start_time": "2023-01-03T11:54:34.357Z"
   },
   {
    "duration": 0,
    "start_time": "2023-01-03T11:54:34.368Z"
   },
   {
    "duration": 0,
    "start_time": "2023-01-03T11:54:34.369Z"
   },
   {
    "duration": 0,
    "start_time": "2023-01-03T11:54:34.370Z"
   },
   {
    "duration": 0,
    "start_time": "2023-01-03T11:54:34.371Z"
   },
   {
    "duration": 0,
    "start_time": "2023-01-03T11:54:34.372Z"
   },
   {
    "duration": 382,
    "start_time": "2023-01-03T11:54:58.433Z"
   },
   {
    "duration": 69,
    "start_time": "2023-01-03T11:54:58.817Z"
   },
   {
    "duration": 13,
    "start_time": "2023-01-03T11:54:58.887Z"
   },
   {
    "duration": 1570,
    "start_time": "2023-01-03T11:54:58.902Z"
   },
   {
    "duration": 14,
    "start_time": "2023-01-03T11:55:00.474Z"
   },
   {
    "duration": 64,
    "start_time": "2023-01-03T11:55:00.489Z"
   },
   {
    "duration": 5,
    "start_time": "2023-01-03T11:55:00.554Z"
   },
   {
    "duration": 21,
    "start_time": "2023-01-03T11:55:00.560Z"
   },
   {
    "duration": 10,
    "start_time": "2023-01-03T11:55:00.582Z"
   },
   {
    "duration": 20,
    "start_time": "2023-01-03T11:55:00.594Z"
   },
   {
    "duration": 5,
    "start_time": "2023-01-03T11:55:00.615Z"
   },
   {
    "duration": 29,
    "start_time": "2023-01-03T11:55:00.622Z"
   },
   {
    "duration": 43,
    "start_time": "2023-01-03T11:55:00.652Z"
   },
   {
    "duration": 37,
    "start_time": "2023-01-03T11:55:00.697Z"
   },
   {
    "duration": 9,
    "start_time": "2023-01-03T11:55:00.735Z"
   },
   {
    "duration": 31,
    "start_time": "2023-01-03T11:55:00.745Z"
   },
   {
    "duration": 35,
    "start_time": "2023-01-03T11:55:00.778Z"
   },
   {
    "duration": 19,
    "start_time": "2023-01-03T11:55:14.089Z"
   },
   {
    "duration": 5,
    "start_time": "2023-01-03T11:59:41.903Z"
   },
   {
    "duration": 9,
    "start_time": "2023-01-03T11:59:53.564Z"
   },
   {
    "duration": 422,
    "start_time": "2023-01-05T11:58:57.391Z"
   },
   {
    "duration": 189,
    "start_time": "2023-01-05T11:58:57.814Z"
   },
   {
    "duration": 16,
    "start_time": "2023-01-05T11:58:58.005Z"
   },
   {
    "duration": 1782,
    "start_time": "2023-01-05T11:58:58.023Z"
   },
   {
    "duration": 15,
    "start_time": "2023-01-05T11:58:59.807Z"
   },
   {
    "duration": 35,
    "start_time": "2023-01-05T11:58:59.823Z"
   },
   {
    "duration": 5,
    "start_time": "2023-01-05T11:58:59.860Z"
   },
   {
    "duration": 11,
    "start_time": "2023-01-05T11:58:59.866Z"
   },
   {
    "duration": 4,
    "start_time": "2023-01-05T11:58:59.879Z"
   },
   {
    "duration": 14,
    "start_time": "2023-01-05T11:58:59.912Z"
   },
   {
    "duration": 4,
    "start_time": "2023-01-05T11:58:59.928Z"
   },
   {
    "duration": 5,
    "start_time": "2023-01-05T11:58:59.934Z"
   },
   {
    "duration": 38,
    "start_time": "2023-01-05T11:58:59.941Z"
   },
   {
    "duration": 61,
    "start_time": "2023-01-05T11:58:59.981Z"
   },
   {
    "duration": 8,
    "start_time": "2023-01-05T11:59:00.043Z"
   },
   {
    "duration": 21,
    "start_time": "2023-01-05T11:59:00.053Z"
   },
   {
    "duration": 7,
    "start_time": "2023-01-05T11:59:00.075Z"
   },
   {
    "duration": 259,
    "start_time": "2023-01-05T12:04:18.975Z"
   },
   {
    "duration": 69,
    "start_time": "2023-01-05T12:14:10.503Z"
   },
   {
    "duration": 3,
    "start_time": "2023-01-05T12:14:28.940Z"
   },
   {
    "duration": 60,
    "start_time": "2023-01-05T12:14:28.944Z"
   },
   {
    "duration": 11,
    "start_time": "2023-01-05T12:14:29.005Z"
   },
   {
    "duration": 1218,
    "start_time": "2023-01-05T12:14:29.018Z"
   },
   {
    "duration": 13,
    "start_time": "2023-01-05T12:14:30.238Z"
   },
   {
    "duration": 75,
    "start_time": "2023-01-05T12:14:30.253Z"
   },
   {
    "duration": 22,
    "start_time": "2023-01-05T12:14:30.331Z"
   },
   {
    "duration": 56,
    "start_time": "2023-01-05T12:14:30.354Z"
   },
   {
    "duration": 45,
    "start_time": "2023-01-05T12:14:30.413Z"
   },
   {
    "duration": 50,
    "start_time": "2023-01-05T12:14:30.461Z"
   },
   {
    "duration": 23,
    "start_time": "2023-01-05T12:14:30.512Z"
   },
   {
    "duration": 34,
    "start_time": "2023-01-05T12:14:30.536Z"
   },
   {
    "duration": 62,
    "start_time": "2023-01-05T12:14:30.571Z"
   },
   {
    "duration": 36,
    "start_time": "2023-01-05T12:14:30.635Z"
   },
   {
    "duration": 8,
    "start_time": "2023-01-05T12:14:30.673Z"
   },
   {
    "duration": 50,
    "start_time": "2023-01-05T12:14:30.682Z"
   },
   {
    "duration": 12,
    "start_time": "2023-01-05T12:14:30.733Z"
   },
   {
    "duration": 280,
    "start_time": "2023-01-05T12:14:30.746Z"
   },
   {
    "duration": 8,
    "start_time": "2023-01-05T12:14:31.028Z"
   },
   {
    "duration": 116,
    "start_time": "2023-01-05T12:14:35.371Z"
   },
   {
    "duration": 7,
    "start_time": "2023-01-05T12:15:22.506Z"
   },
   {
    "duration": 8,
    "start_time": "2023-01-05T12:16:17.406Z"
   },
   {
    "duration": 8,
    "start_time": "2023-01-05T12:16:49.000Z"
   },
   {
    "duration": 8,
    "start_time": "2023-01-05T12:20:48.014Z"
   },
   {
    "duration": 6,
    "start_time": "2023-01-05T12:21:55.074Z"
   },
   {
    "duration": 7,
    "start_time": "2023-01-05T12:22:07.843Z"
   },
   {
    "duration": 12,
    "start_time": "2023-01-05T12:23:25.985Z"
   },
   {
    "duration": 22,
    "start_time": "2023-01-05T12:23:56.577Z"
   },
   {
    "duration": 7,
    "start_time": "2023-01-05T12:24:21.083Z"
   },
   {
    "duration": 7,
    "start_time": "2023-01-05T12:24:31.914Z"
   },
   {
    "duration": 15,
    "start_time": "2023-01-05T12:30:14.571Z"
   },
   {
    "duration": 14,
    "start_time": "2023-01-05T12:30:34.315Z"
   },
   {
    "duration": 21,
    "start_time": "2023-01-05T12:30:41.692Z"
   },
   {
    "duration": 1214,
    "start_time": "2023-01-05T12:30:58.212Z"
   },
   {
    "duration": 1175,
    "start_time": "2023-01-05T12:31:16.849Z"
   },
   {
    "duration": 20,
    "start_time": "2023-01-05T12:31:44.003Z"
   },
   {
    "duration": 16,
    "start_time": "2023-01-05T12:32:10.520Z"
   },
   {
    "duration": 11,
    "start_time": "2023-01-05T12:32:14.936Z"
   },
   {
    "duration": 10,
    "start_time": "2023-01-05T12:32:20.630Z"
   },
   {
    "duration": 10,
    "start_time": "2023-01-05T12:32:34.548Z"
   },
   {
    "duration": 12,
    "start_time": "2023-01-05T12:32:40.805Z"
   },
   {
    "duration": 13,
    "start_time": "2023-01-05T12:32:57.878Z"
   },
   {
    "duration": 2452,
    "start_time": "2023-01-05T12:35:57.328Z"
   },
   {
    "duration": 2404,
    "start_time": "2023-01-05T12:38:16.421Z"
   },
   {
    "duration": 2528,
    "start_time": "2023-01-05T12:43:28.887Z"
   },
   {
    "duration": 129,
    "start_time": "2023-01-05T12:51:06.167Z"
   },
   {
    "duration": 256,
    "start_time": "2023-01-05T12:51:19.250Z"
   },
   {
    "duration": 257,
    "start_time": "2023-01-05T12:57:17.124Z"
   },
   {
    "duration": 2393,
    "start_time": "2023-01-05T12:59:01.982Z"
   },
   {
    "duration": 2359,
    "start_time": "2023-01-05T12:59:48.265Z"
   },
   {
    "duration": 6,
    "start_time": "2023-01-05T13:39:35.678Z"
   },
   {
    "duration": 13,
    "start_time": "2023-01-05T13:39:51.462Z"
   },
   {
    "duration": 7,
    "start_time": "2023-01-05T13:40:23.129Z"
   },
   {
    "duration": 7,
    "start_time": "2023-01-05T13:40:27.895Z"
   },
   {
    "duration": 3,
    "start_time": "2023-01-05T13:41:47.079Z"
   },
   {
    "duration": 59,
    "start_time": "2023-01-05T13:41:47.084Z"
   },
   {
    "duration": 11,
    "start_time": "2023-01-05T13:41:47.145Z"
   },
   {
    "duration": 1343,
    "start_time": "2023-01-05T13:41:47.157Z"
   },
   {
    "duration": 18,
    "start_time": "2023-01-05T13:41:48.502Z"
   },
   {
    "duration": 33,
    "start_time": "2023-01-05T13:41:48.521Z"
   },
   {
    "duration": 5,
    "start_time": "2023-01-05T13:41:48.556Z"
   },
   {
    "duration": 12,
    "start_time": "2023-01-05T13:41:48.563Z"
   },
   {
    "duration": 6,
    "start_time": "2023-01-05T13:41:48.577Z"
   },
   {
    "duration": 28,
    "start_time": "2023-01-05T13:41:48.585Z"
   },
   {
    "duration": 6,
    "start_time": "2023-01-05T13:41:48.615Z"
   },
   {
    "duration": 9,
    "start_time": "2023-01-05T13:41:48.622Z"
   },
   {
    "duration": 42,
    "start_time": "2023-01-05T13:41:48.632Z"
   },
   {
    "duration": 51,
    "start_time": "2023-01-05T13:41:48.676Z"
   },
   {
    "duration": 8,
    "start_time": "2023-01-05T13:41:48.728Z"
   },
   {
    "duration": 18,
    "start_time": "2023-01-05T13:41:48.738Z"
   },
   {
    "duration": 8,
    "start_time": "2023-01-05T13:41:48.758Z"
   },
   {
    "duration": 284,
    "start_time": "2023-01-05T13:41:48.768Z"
   },
   {
    "duration": 8,
    "start_time": "2023-01-05T13:41:49.054Z"
   },
   {
    "duration": 15,
    "start_time": "2023-01-05T13:41:49.064Z"
   },
   {
    "duration": 2793,
    "start_time": "2023-01-05T13:41:49.081Z"
   },
   {
    "duration": 6,
    "start_time": "2023-01-05T13:41:51.875Z"
   },
   {
    "duration": 1383,
    "start_time": "2023-01-05T13:45:15.031Z"
   },
   {
    "duration": 1936,
    "start_time": "2023-01-05T13:45:49.731Z"
   },
   {
    "duration": 385,
    "start_time": "2023-01-05T13:49:44.656Z"
   },
   {
    "duration": 196,
    "start_time": "2023-01-05T13:50:13.385Z"
   },
   {
    "duration": 1711,
    "start_time": "2023-01-05T13:50:33.395Z"
   },
   {
    "duration": 228,
    "start_time": "2023-01-05T13:57:16.263Z"
   },
   {
    "duration": 426,
    "start_time": "2023-01-05T13:58:20.067Z"
   },
   {
    "duration": 218,
    "start_time": "2023-01-05T13:58:37.958Z"
   },
   {
    "duration": 7,
    "start_time": "2023-01-05T13:59:45.033Z"
   },
   {
    "duration": 1136,
    "start_time": "2023-01-05T14:23:25.897Z"
   },
   {
    "duration": 63,
    "start_time": "2023-01-05T14:25:46.595Z"
   },
   {
    "duration": 68,
    "start_time": "2023-01-05T14:27:02.902Z"
   },
   {
    "duration": 16,
    "start_time": "2023-01-05T14:36:21.888Z"
   },
   {
    "duration": 400,
    "start_time": "2023-01-05T14:37:07.495Z"
   },
   {
    "duration": 446,
    "start_time": "2023-01-05T14:47:41.930Z"
   },
   {
    "duration": 691,
    "start_time": "2023-01-05T14:48:11.503Z"
   },
   {
    "duration": 28,
    "start_time": "2023-01-05T14:49:27.959Z"
   },
   {
    "duration": 237,
    "start_time": "2023-01-05T14:59:23.183Z"
   },
   {
    "duration": 225,
    "start_time": "2023-01-05T15:00:31.937Z"
   },
   {
    "duration": 251,
    "start_time": "2023-01-05T15:00:49.603Z"
   },
   {
    "duration": 220,
    "start_time": "2023-01-05T15:02:35.803Z"
   },
   {
    "duration": 11,
    "start_time": "2023-01-05T15:04:17.913Z"
   },
   {
    "duration": 235,
    "start_time": "2023-01-05T15:06:18.243Z"
   },
   {
    "duration": 12,
    "start_time": "2023-01-05T15:06:34.265Z"
   },
   {
    "duration": 2,
    "start_time": "2023-01-05T15:06:49.764Z"
   },
   {
    "duration": 63,
    "start_time": "2023-01-05T15:06:49.768Z"
   },
   {
    "duration": 11,
    "start_time": "2023-01-05T15:06:49.832Z"
   },
   {
    "duration": 1221,
    "start_time": "2023-01-05T15:06:49.845Z"
   },
   {
    "duration": 12,
    "start_time": "2023-01-05T15:06:51.067Z"
   },
   {
    "duration": 38,
    "start_time": "2023-01-05T15:06:51.081Z"
   },
   {
    "duration": 4,
    "start_time": "2023-01-05T15:06:51.120Z"
   },
   {
    "duration": 13,
    "start_time": "2023-01-05T15:06:51.125Z"
   },
   {
    "duration": 4,
    "start_time": "2023-01-05T15:06:51.139Z"
   },
   {
    "duration": 13,
    "start_time": "2023-01-05T15:06:51.145Z"
   },
   {
    "duration": 4,
    "start_time": "2023-01-05T15:06:51.159Z"
   },
   {
    "duration": 6,
    "start_time": "2023-01-05T15:06:51.164Z"
   },
   {
    "duration": 55,
    "start_time": "2023-01-05T15:06:51.172Z"
   },
   {
    "duration": 32,
    "start_time": "2023-01-05T15:06:51.229Z"
   },
   {
    "duration": 7,
    "start_time": "2023-01-05T15:06:51.263Z"
   },
   {
    "duration": 12,
    "start_time": "2023-01-05T15:06:51.271Z"
   },
   {
    "duration": 5,
    "start_time": "2023-01-05T15:06:51.285Z"
   },
   {
    "duration": 427,
    "start_time": "2023-01-05T15:06:51.292Z"
   },
   {
    "duration": 7,
    "start_time": "2023-01-05T15:06:51.721Z"
   },
   {
    "duration": 14,
    "start_time": "2023-01-05T15:06:51.729Z"
   },
   {
    "duration": 2529,
    "start_time": "2023-01-05T15:06:51.744Z"
   },
   {
    "duration": 5,
    "start_time": "2023-01-05T15:06:54.275Z"
   },
   {
    "duration": 12,
    "start_time": "2023-01-05T15:06:54.281Z"
   },
   {
    "duration": 1672,
    "start_time": "2023-01-05T15:06:54.294Z"
   },
   {
    "duration": 750,
    "start_time": "2023-01-05T15:06:55.967Z"
   },
   {
    "duration": 578,
    "start_time": "2023-01-05T15:06:56.718Z"
   },
   {
    "duration": 227,
    "start_time": "2023-01-05T15:06:57.297Z"
   },
   {
    "duration": 0,
    "start_time": "2023-01-05T15:06:57.526Z"
   },
   {
    "duration": 239,
    "start_time": "2023-01-05T15:08:12.207Z"
   },
   {
    "duration": 10,
    "start_time": "2023-01-05T15:09:48.026Z"
   },
   {
    "duration": 14,
    "start_time": "2023-01-05T15:11:56.257Z"
   },
   {
    "duration": 7,
    "start_time": "2023-01-05T15:12:04.017Z"
   },
   {
    "duration": 5,
    "start_time": "2023-01-05T15:12:11.482Z"
   },
   {
    "duration": 12,
    "start_time": "2023-01-05T15:13:11.888Z"
   },
   {
    "duration": 573,
    "start_time": "2023-01-05T15:19:38.959Z"
   },
   {
    "duration": 632,
    "start_time": "2023-01-05T15:19:49.988Z"
   },
   {
    "duration": 12,
    "start_time": "2023-01-05T15:23:23.343Z"
   },
   {
    "duration": 402,
    "start_time": "2023-01-05T20:28:30.082Z"
   },
   {
    "duration": 233,
    "start_time": "2023-01-05T20:28:30.486Z"
   },
   {
    "duration": 15,
    "start_time": "2023-01-05T20:28:30.721Z"
   },
   {
    "duration": 1938,
    "start_time": "2023-01-05T20:28:30.739Z"
   },
   {
    "duration": 17,
    "start_time": "2023-01-05T20:28:32.679Z"
   },
   {
    "duration": 54,
    "start_time": "2023-01-05T20:28:32.697Z"
   },
   {
    "duration": 6,
    "start_time": "2023-01-05T20:28:32.752Z"
   },
   {
    "duration": 13,
    "start_time": "2023-01-05T20:28:32.759Z"
   },
   {
    "duration": 19,
    "start_time": "2023-01-05T20:28:32.773Z"
   },
   {
    "duration": 19,
    "start_time": "2023-01-05T20:28:32.795Z"
   },
   {
    "duration": 13,
    "start_time": "2023-01-05T20:28:32.816Z"
   },
   {
    "duration": 14,
    "start_time": "2023-01-05T20:28:32.831Z"
   },
   {
    "duration": 53,
    "start_time": "2023-01-05T20:28:32.847Z"
   },
   {
    "duration": 49,
    "start_time": "2023-01-05T20:28:32.902Z"
   },
   {
    "duration": 9,
    "start_time": "2023-01-05T20:28:32.953Z"
   },
   {
    "duration": 33,
    "start_time": "2023-01-05T20:28:32.964Z"
   },
   {
    "duration": 12,
    "start_time": "2023-01-05T20:28:32.999Z"
   },
   {
    "duration": 322,
    "start_time": "2023-01-05T20:28:33.012Z"
   },
   {
    "duration": 17,
    "start_time": "2023-01-05T20:28:33.335Z"
   },
   {
    "duration": 13,
    "start_time": "2023-01-05T20:28:33.354Z"
   },
   {
    "duration": 3128,
    "start_time": "2023-01-05T20:28:33.369Z"
   },
   {
    "duration": 7,
    "start_time": "2023-01-05T20:28:36.498Z"
   },
   {
    "duration": 34,
    "start_time": "2023-01-05T20:28:36.507Z"
   },
   {
    "duration": 2215,
    "start_time": "2023-01-05T20:28:36.542Z"
   },
   {
    "duration": 542,
    "start_time": "2023-01-05T20:28:38.758Z"
   },
   {
    "duration": 784,
    "start_time": "2023-01-05T20:28:39.302Z"
   },
   {
    "duration": 7,
    "start_time": "2023-01-05T20:28:40.088Z"
   },
   {
    "duration": 48,
    "start_time": "2023-01-05T20:28:40.098Z"
   },
   {
    "duration": 77,
    "start_time": "2023-01-05T20:28:40.147Z"
   },
   {
    "duration": 0,
    "start_time": "2023-01-05T20:28:40.226Z"
   },
   {
    "duration": 0,
    "start_time": "2023-01-05T20:28:40.227Z"
   },
   {
    "duration": 747,
    "start_time": "2023-01-05T20:29:49.432Z"
   },
   {
    "duration": 15,
    "start_time": "2023-01-05T20:30:00.793Z"
   },
   {
    "duration": 380,
    "start_time": "2023-01-06T12:09:37.355Z"
   },
   {
    "duration": 109,
    "start_time": "2023-01-06T12:09:37.736Z"
   },
   {
    "duration": 14,
    "start_time": "2023-01-06T12:09:37.846Z"
   },
   {
    "duration": 1775,
    "start_time": "2023-01-06T12:09:37.861Z"
   },
   {
    "duration": 17,
    "start_time": "2023-01-06T12:09:39.638Z"
   },
   {
    "duration": 38,
    "start_time": "2023-01-06T12:09:39.657Z"
   },
   {
    "duration": 6,
    "start_time": "2023-01-06T12:09:39.711Z"
   },
   {
    "duration": 16,
    "start_time": "2023-01-06T12:09:39.719Z"
   },
   {
    "duration": 11,
    "start_time": "2023-01-06T12:09:39.737Z"
   },
   {
    "duration": 27,
    "start_time": "2023-01-06T12:09:39.749Z"
   },
   {
    "duration": 7,
    "start_time": "2023-01-06T12:09:39.777Z"
   },
   {
    "duration": 9,
    "start_time": "2023-01-06T12:09:39.785Z"
   },
   {
    "duration": 53,
    "start_time": "2023-01-06T12:09:39.796Z"
   },
   {
    "duration": 38,
    "start_time": "2023-01-06T12:09:39.852Z"
   },
   {
    "duration": 8,
    "start_time": "2023-01-06T12:09:39.892Z"
   },
   {
    "duration": 19,
    "start_time": "2023-01-06T12:09:39.912Z"
   },
   {
    "duration": 8,
    "start_time": "2023-01-06T12:09:39.933Z"
   },
   {
    "duration": 325,
    "start_time": "2023-01-06T12:09:39.942Z"
   },
   {
    "duration": 10,
    "start_time": "2023-01-06T12:09:40.268Z"
   },
   {
    "duration": 33,
    "start_time": "2023-01-06T12:09:40.280Z"
   },
   {
    "duration": 3004,
    "start_time": "2023-01-06T12:09:40.315Z"
   },
   {
    "duration": 6,
    "start_time": "2023-01-06T12:09:43.321Z"
   },
   {
    "duration": 12,
    "start_time": "2023-01-06T12:09:43.328Z"
   },
   {
    "duration": 1956,
    "start_time": "2023-01-06T12:09:43.341Z"
   },
   {
    "duration": 500,
    "start_time": "2023-01-06T12:09:45.299Z"
   },
   {
    "duration": 661,
    "start_time": "2023-01-06T12:09:45.801Z"
   },
   {
    "duration": 8,
    "start_time": "2023-01-06T12:09:46.464Z"
   },
   {
    "duration": 21,
    "start_time": "2023-01-06T12:09:46.474Z"
   },
   {
    "duration": 623,
    "start_time": "2023-01-06T12:09:46.497Z"
   },
   {
    "duration": 13,
    "start_time": "2023-01-06T12:09:47.122Z"
   },
   {
    "duration": 14,
    "start_time": "2023-01-06T12:11:43.302Z"
   },
   {
    "duration": 75,
    "start_time": "2023-01-06T12:15:47.047Z"
   },
   {
    "duration": 20515,
    "start_time": "2023-01-06T12:17:01.650Z"
   },
   {
    "duration": 1660,
    "start_time": "2023-01-06T12:18:39.802Z"
   },
   {
    "duration": 263,
    "start_time": "2023-01-06T12:19:05.950Z"
   },
   {
    "duration": 167,
    "start_time": "2023-01-06T12:19:32.240Z"
   },
   {
    "duration": 182,
    "start_time": "2023-01-06T12:20:05.467Z"
   },
   {
    "duration": 187,
    "start_time": "2023-01-06T12:20:48.933Z"
   },
   {
    "duration": 9,
    "start_time": "2023-01-06T12:21:19.036Z"
   },
   {
    "duration": 8,
    "start_time": "2023-01-06T12:21:41.741Z"
   },
   {
    "duration": 179,
    "start_time": "2023-01-06T12:21:56.171Z"
   },
   {
    "duration": 46,
    "start_time": "2023-01-06T12:22:24.925Z"
   },
   {
    "duration": 196,
    "start_time": "2023-01-06T12:22:30.036Z"
   },
   {
    "duration": 179,
    "start_time": "2023-01-06T12:23:29.639Z"
   },
   {
    "duration": 8,
    "start_time": "2023-01-06T12:24:21.166Z"
   },
   {
    "duration": 55,
    "start_time": "2023-01-06T12:27:32.074Z"
   },
   {
    "duration": 18,
    "start_time": "2023-01-06T12:50:04.545Z"
   },
   {
    "duration": 9,
    "start_time": "2023-01-06T12:53:44.497Z"
   },
   {
    "duration": 9,
    "start_time": "2023-01-06T12:54:31.851Z"
   },
   {
    "duration": 9,
    "start_time": "2023-01-06T12:55:49.064Z"
   },
   {
    "duration": 4,
    "start_time": "2023-01-06T12:56:21.731Z"
   },
   {
    "duration": 71,
    "start_time": "2023-01-06T12:56:21.737Z"
   },
   {
    "duration": 15,
    "start_time": "2023-01-06T12:56:21.810Z"
   },
   {
    "duration": 1505,
    "start_time": "2023-01-06T12:56:21.827Z"
   },
   {
    "duration": 19,
    "start_time": "2023-01-06T12:56:23.334Z"
   },
   {
    "duration": 57,
    "start_time": "2023-01-06T12:56:23.355Z"
   },
   {
    "duration": 6,
    "start_time": "2023-01-06T12:56:23.414Z"
   },
   {
    "duration": 15,
    "start_time": "2023-01-06T12:56:23.422Z"
   },
   {
    "duration": 5,
    "start_time": "2023-01-06T12:56:23.439Z"
   },
   {
    "duration": 19,
    "start_time": "2023-01-06T12:56:23.445Z"
   },
   {
    "duration": 6,
    "start_time": "2023-01-06T12:56:23.467Z"
   },
   {
    "duration": 594,
    "start_time": "2023-01-06T12:56:23.475Z"
   },
   {
    "duration": 49,
    "start_time": "2023-01-06T12:56:24.071Z"
   },
   {
    "duration": 39,
    "start_time": "2023-01-06T12:56:24.121Z"
   },
   {
    "duration": 10,
    "start_time": "2023-01-06T12:56:24.162Z"
   },
   {
    "duration": 24,
    "start_time": "2023-01-06T12:56:24.173Z"
   },
   {
    "duration": 6,
    "start_time": "2023-01-06T12:56:24.213Z"
   },
   {
    "duration": 297,
    "start_time": "2023-01-06T12:56:24.221Z"
   },
   {
    "duration": 8,
    "start_time": "2023-01-06T12:56:24.520Z"
   },
   {
    "duration": 20,
    "start_time": "2023-01-06T12:56:24.531Z"
   },
   {
    "duration": 3105,
    "start_time": "2023-01-06T12:56:24.553Z"
   },
   {
    "duration": 8,
    "start_time": "2023-01-06T12:56:27.660Z"
   },
   {
    "duration": 12,
    "start_time": "2023-01-06T12:56:27.670Z"
   },
   {
    "duration": 1969,
    "start_time": "2023-01-06T12:56:27.684Z"
   },
   {
    "duration": 503,
    "start_time": "2023-01-06T12:56:29.654Z"
   },
   {
    "duration": 663,
    "start_time": "2023-01-06T12:56:30.159Z"
   },
   {
    "duration": 8,
    "start_time": "2023-01-06T12:56:30.823Z"
   },
   {
    "duration": 48,
    "start_time": "2023-01-06T12:56:30.832Z"
   },
   {
    "duration": 651,
    "start_time": "2023-01-06T12:56:30.883Z"
   },
   {
    "duration": 14,
    "start_time": "2023-01-06T12:56:31.535Z"
   },
   {
    "duration": 14,
    "start_time": "2023-01-06T12:56:31.551Z"
   },
   {
    "duration": 208,
    "start_time": "2023-01-06T12:56:31.567Z"
   },
   {
    "duration": 8,
    "start_time": "2023-01-06T12:56:31.777Z"
   },
   {
    "duration": 194,
    "start_time": "2023-01-06T12:56:31.786Z"
   },
   {
    "duration": 8,
    "start_time": "2023-01-06T12:56:31.981Z"
   },
   {
    "duration": 25,
    "start_time": "2023-01-06T12:56:31.990Z"
   },
   {
    "duration": 8,
    "start_time": "2023-01-06T12:56:50.234Z"
   },
   {
    "duration": 8,
    "start_time": "2023-01-06T12:56:56.652Z"
   },
   {
    "duration": 8,
    "start_time": "2023-01-06T12:57:39.693Z"
   },
   {
    "duration": 8,
    "start_time": "2023-01-06T12:58:00.077Z"
   },
   {
    "duration": 367,
    "start_time": "2023-01-06T12:58:28.057Z"
   },
   {
    "duration": 68,
    "start_time": "2023-01-06T12:58:28.426Z"
   },
   {
    "duration": 16,
    "start_time": "2023-01-06T12:58:28.496Z"
   },
   {
    "duration": 1689,
    "start_time": "2023-01-06T12:58:28.514Z"
   },
   {
    "duration": 15,
    "start_time": "2023-01-06T12:58:30.205Z"
   },
   {
    "duration": 38,
    "start_time": "2023-01-06T12:58:30.222Z"
   },
   {
    "duration": 5,
    "start_time": "2023-01-06T12:58:30.262Z"
   },
   {
    "duration": 16,
    "start_time": "2023-01-06T12:58:30.269Z"
   },
   {
    "duration": 26,
    "start_time": "2023-01-06T12:58:30.287Z"
   },
   {
    "duration": 20,
    "start_time": "2023-01-06T12:58:30.316Z"
   },
   {
    "duration": 5,
    "start_time": "2023-01-06T12:58:30.338Z"
   },
   {
    "duration": 11,
    "start_time": "2023-01-06T12:58:30.344Z"
   },
   {
    "duration": 65,
    "start_time": "2023-01-06T12:58:30.356Z"
   },
   {
    "duration": 41,
    "start_time": "2023-01-06T12:58:30.423Z"
   },
   {
    "duration": 8,
    "start_time": "2023-01-06T12:58:30.466Z"
   },
   {
    "duration": 28,
    "start_time": "2023-01-06T12:58:30.476Z"
   },
   {
    "duration": 7,
    "start_time": "2023-01-06T12:58:30.513Z"
   },
   {
    "duration": 327,
    "start_time": "2023-01-06T12:58:30.522Z"
   },
   {
    "duration": 9,
    "start_time": "2023-01-06T12:58:30.851Z"
   },
   {
    "duration": 19,
    "start_time": "2023-01-06T12:58:30.861Z"
   },
   {
    "duration": 3032,
    "start_time": "2023-01-06T12:58:30.882Z"
   },
   {
    "duration": 6,
    "start_time": "2023-01-06T12:58:33.916Z"
   },
   {
    "duration": 10,
    "start_time": "2023-01-06T12:58:33.923Z"
   },
   {
    "duration": 1895,
    "start_time": "2023-01-06T12:58:33.934Z"
   },
   {
    "duration": 629,
    "start_time": "2023-01-06T12:58:35.831Z"
   },
   {
    "duration": 686,
    "start_time": "2023-01-06T12:58:36.462Z"
   },
   {
    "duration": 8,
    "start_time": "2023-01-06T12:58:37.149Z"
   },
   {
    "duration": 14,
    "start_time": "2023-01-06T12:58:37.160Z"
   },
   {
    "duration": 685,
    "start_time": "2023-01-06T12:58:37.176Z"
   },
   {
    "duration": 14,
    "start_time": "2023-01-06T12:58:37.863Z"
   },
   {
    "duration": 8,
    "start_time": "2023-01-06T12:58:37.878Z"
   },
   {
    "duration": 204,
    "start_time": "2023-01-06T12:58:37.888Z"
   },
   {
    "duration": 18,
    "start_time": "2023-01-06T12:58:38.094Z"
   },
   {
    "duration": 207,
    "start_time": "2023-01-06T12:58:38.114Z"
   },
   {
    "duration": 8,
    "start_time": "2023-01-06T12:58:38.323Z"
   },
   {
    "duration": 16,
    "start_time": "2023-01-06T12:58:38.333Z"
   },
   {
    "duration": 9,
    "start_time": "2023-01-06T12:59:20.705Z"
   },
   {
    "duration": 2,
    "start_time": "2023-01-06T12:59:32.322Z"
   },
   {
    "duration": 70,
    "start_time": "2023-01-06T12:59:32.326Z"
   },
   {
    "duration": 15,
    "start_time": "2023-01-06T12:59:32.397Z"
   },
   {
    "duration": 1511,
    "start_time": "2023-01-06T12:59:32.414Z"
   },
   {
    "duration": 15,
    "start_time": "2023-01-06T12:59:33.927Z"
   },
   {
    "duration": 35,
    "start_time": "2023-01-06T12:59:33.944Z"
   },
   {
    "duration": 5,
    "start_time": "2023-01-06T12:59:33.981Z"
   },
   {
    "duration": 10,
    "start_time": "2023-01-06T12:59:34.013Z"
   },
   {
    "duration": 12,
    "start_time": "2023-01-06T12:59:34.024Z"
   },
   {
    "duration": 15,
    "start_time": "2023-01-06T12:59:34.039Z"
   },
   {
    "duration": 5,
    "start_time": "2023-01-06T12:59:34.056Z"
   },
   {
    "duration": 6,
    "start_time": "2023-01-06T12:59:34.063Z"
   },
   {
    "duration": 68,
    "start_time": "2023-01-06T12:59:34.071Z"
   },
   {
    "duration": 46,
    "start_time": "2023-01-06T12:59:34.141Z"
   },
   {
    "duration": 23,
    "start_time": "2023-01-06T12:59:34.189Z"
   },
   {
    "duration": 16,
    "start_time": "2023-01-06T12:59:34.214Z"
   },
   {
    "duration": 8,
    "start_time": "2023-01-06T12:59:34.232Z"
   },
   {
    "duration": 308,
    "start_time": "2023-01-06T12:59:34.242Z"
   },
   {
    "duration": 9,
    "start_time": "2023-01-06T12:59:34.552Z"
   },
   {
    "duration": 13,
    "start_time": "2023-01-06T12:59:34.563Z"
   },
   {
    "duration": 3181,
    "start_time": "2023-01-06T12:59:34.577Z"
   },
   {
    "duration": 6,
    "start_time": "2023-01-06T12:59:37.760Z"
   },
   {
    "duration": 11,
    "start_time": "2023-01-06T12:59:37.767Z"
   },
   {
    "duration": 11,
    "start_time": "2023-01-06T12:59:37.780Z"
   },
   {
    "duration": 1962,
    "start_time": "2023-01-06T12:59:37.793Z"
   },
   {
    "duration": 674,
    "start_time": "2023-01-06T12:59:39.757Z"
   },
   {
    "duration": 660,
    "start_time": "2023-01-06T12:59:40.432Z"
   },
   {
    "duration": 6,
    "start_time": "2023-01-06T12:59:41.095Z"
   },
   {
    "duration": 21,
    "start_time": "2023-01-06T12:59:41.102Z"
   },
   {
    "duration": 630,
    "start_time": "2023-01-06T12:59:41.124Z"
   },
   {
    "duration": 14,
    "start_time": "2023-01-06T12:59:41.757Z"
   },
   {
    "duration": 9,
    "start_time": "2023-01-06T12:59:41.773Z"
   },
   {
    "duration": 200,
    "start_time": "2023-01-06T12:59:41.784Z"
   },
   {
    "duration": 8,
    "start_time": "2023-01-06T12:59:41.987Z"
   },
   {
    "duration": 196,
    "start_time": "2023-01-06T12:59:41.997Z"
   },
   {
    "duration": 8,
    "start_time": "2023-01-06T12:59:42.195Z"
   },
   {
    "duration": 8,
    "start_time": "2023-01-06T12:59:42.212Z"
   },
   {
    "duration": 3,
    "start_time": "2023-01-06T13:00:25.100Z"
   },
   {
    "duration": 82,
    "start_time": "2023-01-06T13:00:25.105Z"
   },
   {
    "duration": 14,
    "start_time": "2023-01-06T13:00:25.189Z"
   },
   {
    "duration": 1625,
    "start_time": "2023-01-06T13:00:25.204Z"
   },
   {
    "duration": 14,
    "start_time": "2023-01-06T13:00:26.831Z"
   },
   {
    "duration": 47,
    "start_time": "2023-01-06T13:00:26.847Z"
   },
   {
    "duration": 17,
    "start_time": "2023-01-06T13:00:26.897Z"
   },
   {
    "duration": 31,
    "start_time": "2023-01-06T13:00:26.916Z"
   },
   {
    "duration": 21,
    "start_time": "2023-01-06T13:00:26.949Z"
   },
   {
    "duration": 19,
    "start_time": "2023-01-06T13:00:26.972Z"
   },
   {
    "duration": 6,
    "start_time": "2023-01-06T13:00:26.995Z"
   },
   {
    "duration": 18,
    "start_time": "2023-01-06T13:00:27.003Z"
   },
   {
    "duration": 60,
    "start_time": "2023-01-06T13:00:27.023Z"
   },
   {
    "duration": 40,
    "start_time": "2023-01-06T13:00:27.085Z"
   },
   {
    "duration": 10,
    "start_time": "2023-01-06T13:00:27.127Z"
   },
   {
    "duration": 37,
    "start_time": "2023-01-06T13:00:27.139Z"
   },
   {
    "duration": 10,
    "start_time": "2023-01-06T13:00:27.178Z"
   },
   {
    "duration": 299,
    "start_time": "2023-01-06T13:00:27.190Z"
   },
   {
    "duration": 8,
    "start_time": "2023-01-06T13:00:27.491Z"
   },
   {
    "duration": 29,
    "start_time": "2023-01-06T13:00:27.500Z"
   },
   {
    "duration": 3139,
    "start_time": "2023-01-06T13:00:27.531Z"
   },
   {
    "duration": 8,
    "start_time": "2023-01-06T13:00:30.672Z"
   },
   {
    "duration": 28,
    "start_time": "2023-01-06T13:00:30.682Z"
   },
   {
    "duration": 2066,
    "start_time": "2023-01-06T13:00:30.712Z"
   },
   {
    "duration": 591,
    "start_time": "2023-01-06T13:00:32.779Z"
   },
   {
    "duration": 834,
    "start_time": "2023-01-06T13:00:33.372Z"
   },
   {
    "duration": 7,
    "start_time": "2023-01-06T13:00:34.213Z"
   },
   {
    "duration": 21,
    "start_time": "2023-01-06T13:00:34.222Z"
   },
   {
    "duration": 958,
    "start_time": "2023-01-06T13:00:34.247Z"
   },
   {
    "duration": 13,
    "start_time": "2023-01-06T13:00:35.207Z"
   },
   {
    "duration": 10,
    "start_time": "2023-01-06T13:00:35.221Z"
   },
   {
    "duration": 305,
    "start_time": "2023-01-06T13:00:35.233Z"
   },
   {
    "duration": 11,
    "start_time": "2023-01-06T13:00:35.542Z"
   },
   {
    "duration": 279,
    "start_time": "2023-01-06T13:00:35.556Z"
   },
   {
    "duration": 11,
    "start_time": "2023-01-06T13:00:35.837Z"
   },
   {
    "duration": 18,
    "start_time": "2023-01-06T13:00:35.850Z"
   },
   {
    "duration": 12,
    "start_time": "2023-01-06T13:15:38.434Z"
   },
   {
    "duration": 9,
    "start_time": "2023-01-06T13:18:19.534Z"
   },
   {
    "duration": 6,
    "start_time": "2023-01-06T13:21:59.411Z"
   },
   {
    "duration": 8,
    "start_time": "2023-01-06T13:23:09.556Z"
   },
   {
    "duration": 134,
    "start_time": "2023-01-06T13:29:02.127Z"
   },
   {
    "duration": 75,
    "start_time": "2023-01-06T13:30:19.406Z"
   },
   {
    "duration": 4,
    "start_time": "2023-01-06T13:35:46.267Z"
   },
   {
    "duration": 6,
    "start_time": "2023-01-06T13:35:52.010Z"
   },
   {
    "duration": 5,
    "start_time": "2023-01-06T13:36:08.350Z"
   },
   {
    "duration": 8,
    "start_time": "2023-01-06T13:36:15.325Z"
   },
   {
    "duration": 6,
    "start_time": "2023-01-06T13:36:17.307Z"
   },
   {
    "duration": 110,
    "start_time": "2023-01-06T13:36:43.551Z"
   },
   {
    "duration": 92,
    "start_time": "2023-01-06T13:38:38.765Z"
   },
   {
    "duration": 8,
    "start_time": "2023-01-06T13:41:46.092Z"
   },
   {
    "duration": 119,
    "start_time": "2023-01-06T13:41:51.084Z"
   },
   {
    "duration": 92,
    "start_time": "2023-01-06T13:43:02.760Z"
   },
   {
    "duration": 10,
    "start_time": "2023-01-06T13:44:58.525Z"
   },
   {
    "duration": 45,
    "start_time": "2023-01-06T13:45:20.389Z"
   },
   {
    "duration": 926,
    "start_time": "2023-01-06T13:46:05.503Z"
   },
   {
    "duration": 2,
    "start_time": "2023-01-06T13:51:34.536Z"
   },
   {
    "duration": 5,
    "start_time": "2023-01-06T13:52:07.242Z"
   },
   {
    "duration": 9,
    "start_time": "2023-01-06T14:07:46.523Z"
   },
   {
    "duration": 8,
    "start_time": "2023-01-06T14:08:14.617Z"
   },
   {
    "duration": 2,
    "start_time": "2023-01-06T14:08:18.666Z"
   },
   {
    "duration": 188,
    "start_time": "2023-01-06T14:08:21.953Z"
   },
   {
    "duration": 4,
    "start_time": "2023-01-06T14:09:08.223Z"
   },
   {
    "duration": 4,
    "start_time": "2023-01-06T14:09:18.701Z"
   },
   {
    "duration": 8,
    "start_time": "2023-01-06T14:09:24.683Z"
   },
   {
    "duration": 4,
    "start_time": "2023-01-06T14:10:24.198Z"
   },
   {
    "duration": 6,
    "start_time": "2023-01-06T14:10:28.938Z"
   },
   {
    "duration": 4,
    "start_time": "2023-01-06T14:11:05.521Z"
   },
   {
    "duration": 4,
    "start_time": "2023-01-06T14:11:46.436Z"
   },
   {
    "duration": 8,
    "start_time": "2023-01-06T14:11:51.452Z"
   },
   {
    "duration": 10,
    "start_time": "2023-01-06T14:12:07.503Z"
   },
   {
    "duration": 23,
    "start_time": "2023-01-06T14:12:12.112Z"
   },
   {
    "duration": 10,
    "start_time": "2023-01-06T14:12:40.042Z"
   },
   {
    "duration": 9,
    "start_time": "2023-01-06T14:13:14.253Z"
   },
   {
    "duration": 149,
    "start_time": "2023-01-06T14:13:17.382Z"
   },
   {
    "duration": 5,
    "start_time": "2023-01-06T14:16:33.674Z"
   },
   {
    "duration": 9,
    "start_time": "2023-01-06T14:16:57.492Z"
   },
   {
    "duration": 7,
    "start_time": "2023-01-06T14:16:59.670Z"
   },
   {
    "duration": 10,
    "start_time": "2023-01-06T14:22:34.619Z"
   },
   {
    "duration": 3,
    "start_time": "2023-01-06T14:22:37.538Z"
   },
   {
    "duration": 9,
    "start_time": "2023-01-06T14:23:25.665Z"
   },
   {
    "duration": 6,
    "start_time": "2023-01-06T14:23:41.306Z"
   },
   {
    "duration": 132,
    "start_time": "2023-01-06T14:23:53.451Z"
   },
   {
    "duration": 8,
    "start_time": "2023-01-06T14:24:43.193Z"
   },
   {
    "duration": 104,
    "start_time": "2023-01-06T14:26:16.055Z"
   },
   {
    "duration": 6,
    "start_time": "2023-01-06T14:26:23.593Z"
   },
   {
    "duration": 5,
    "start_time": "2023-01-06T14:27:03.992Z"
   },
   {
    "duration": 7,
    "start_time": "2023-01-06T14:29:10.080Z"
   },
   {
    "duration": 7,
    "start_time": "2023-01-06T14:29:24.000Z"
   },
   {
    "duration": 28,
    "start_time": "2023-01-06T14:30:13.658Z"
   },
   {
    "duration": 6,
    "start_time": "2023-01-06T14:30:27.261Z"
   },
   {
    "duration": 10,
    "start_time": "2023-01-06T14:31:14.769Z"
   },
   {
    "duration": 5,
    "start_time": "2023-01-06T14:31:49.654Z"
   },
   {
    "duration": 25,
    "start_time": "2023-01-06T14:31:57.091Z"
   },
   {
    "duration": 9,
    "start_time": "2023-01-06T14:33:06.258Z"
   },
   {
    "duration": 12,
    "start_time": "2023-01-06T14:33:12.730Z"
   },
   {
    "duration": 103,
    "start_time": "2023-01-06T14:33:43.342Z"
   },
   {
    "duration": 6,
    "start_time": "2023-01-06T14:33:59.247Z"
   },
   {
    "duration": 2,
    "start_time": "2023-01-06T14:41:46.025Z"
   },
   {
    "duration": 104,
    "start_time": "2023-01-06T14:41:49.637Z"
   },
   {
    "duration": 5,
    "start_time": "2023-01-06T14:42:20.315Z"
   },
   {
    "duration": 10,
    "start_time": "2023-01-06T14:51:37.696Z"
   },
   {
    "duration": 4,
    "start_time": "2023-01-06T14:51:41.055Z"
   },
   {
    "duration": 99,
    "start_time": "2023-01-06T14:51:42.489Z"
   },
   {
    "duration": 6,
    "start_time": "2023-01-06T14:52:09.859Z"
   },
   {
    "duration": 11,
    "start_time": "2023-01-06T14:54:15.483Z"
   },
   {
    "duration": 2,
    "start_time": "2023-01-06T14:54:17.685Z"
   },
   {
    "duration": 98,
    "start_time": "2023-01-06T14:54:19.296Z"
   },
   {
    "duration": 7,
    "start_time": "2023-01-06T14:54:26.453Z"
   },
   {
    "duration": 7,
    "start_time": "2023-01-06T14:55:12.426Z"
   },
   {
    "duration": 3,
    "start_time": "2023-01-06T14:55:21.338Z"
   },
   {
    "duration": 65,
    "start_time": "2023-01-06T14:55:21.343Z"
   },
   {
    "duration": 14,
    "start_time": "2023-01-06T14:55:21.411Z"
   },
   {
    "duration": 1583,
    "start_time": "2023-01-06T14:55:21.427Z"
   },
   {
    "duration": 15,
    "start_time": "2023-01-06T14:55:23.013Z"
   },
   {
    "duration": 33,
    "start_time": "2023-01-06T14:55:23.030Z"
   },
   {
    "duration": 5,
    "start_time": "2023-01-06T14:55:23.065Z"
   },
   {
    "duration": 40,
    "start_time": "2023-01-06T14:55:23.072Z"
   },
   {
    "duration": 4,
    "start_time": "2023-01-06T14:55:23.114Z"
   },
   {
    "duration": 22,
    "start_time": "2023-01-06T14:55:23.120Z"
   },
   {
    "duration": 5,
    "start_time": "2023-01-06T14:55:23.145Z"
   },
   {
    "duration": 9,
    "start_time": "2023-01-06T14:55:23.152Z"
   },
   {
    "duration": 56,
    "start_time": "2023-01-06T14:55:23.162Z"
   },
   {
    "duration": 37,
    "start_time": "2023-01-06T14:55:23.220Z"
   },
   {
    "duration": 12,
    "start_time": "2023-01-06T14:55:23.259Z"
   },
   {
    "duration": 21,
    "start_time": "2023-01-06T14:55:23.273Z"
   },
   {
    "duration": 9,
    "start_time": "2023-01-06T14:55:23.313Z"
   },
   {
    "duration": 294,
    "start_time": "2023-01-06T14:55:23.324Z"
   },
   {
    "duration": 9,
    "start_time": "2023-01-06T14:55:23.620Z"
   },
   {
    "duration": 13,
    "start_time": "2023-01-06T14:55:23.631Z"
   },
   {
    "duration": 3299,
    "start_time": "2023-01-06T14:55:23.646Z"
   },
   {
    "duration": 9,
    "start_time": "2023-01-06T14:55:26.947Z"
   },
   {
    "duration": 10,
    "start_time": "2023-01-06T14:55:26.958Z"
   },
   {
    "duration": 2038,
    "start_time": "2023-01-06T14:55:26.970Z"
   },
   {
    "duration": 542,
    "start_time": "2023-01-06T14:55:29.012Z"
   },
   {
    "duration": 724,
    "start_time": "2023-01-06T14:55:29.556Z"
   },
   {
    "duration": 7,
    "start_time": "2023-01-06T14:55:30.282Z"
   },
   {
    "duration": 46,
    "start_time": "2023-01-06T14:55:30.290Z"
   },
   {
    "duration": 717,
    "start_time": "2023-01-06T14:55:30.341Z"
   },
   {
    "duration": 11,
    "start_time": "2023-01-06T14:55:31.061Z"
   },
   {
    "duration": 31,
    "start_time": "2023-01-06T14:55:31.074Z"
   },
   {
    "duration": 214,
    "start_time": "2023-01-06T14:55:31.108Z"
   },
   {
    "duration": 10,
    "start_time": "2023-01-06T14:55:31.324Z"
   },
   {
    "duration": 179,
    "start_time": "2023-01-06T14:55:31.335Z"
   },
   {
    "duration": 8,
    "start_time": "2023-01-06T14:55:31.516Z"
   },
   {
    "duration": 19,
    "start_time": "2023-01-06T14:55:31.525Z"
   },
   {
    "duration": 21,
    "start_time": "2023-01-06T14:55:31.545Z"
   },
   {
    "duration": 124,
    "start_time": "2023-01-06T14:55:31.568Z"
   },
   {
    "duration": 7,
    "start_time": "2023-01-06T14:55:31.693Z"
   },
   {
    "duration": 26,
    "start_time": "2023-01-06T14:55:31.701Z"
   },
   {
    "duration": 17,
    "start_time": "2023-01-06T14:55:31.729Z"
   },
   {
    "duration": 117,
    "start_time": "2023-01-06T14:55:31.747Z"
   },
   {
    "duration": 8,
    "start_time": "2023-01-06T14:55:31.866Z"
   },
   {
    "duration": 18,
    "start_time": "2023-01-06T14:55:31.876Z"
   },
   {
    "duration": 16,
    "start_time": "2023-01-06T14:55:31.896Z"
   },
   {
    "duration": 111,
    "start_time": "2023-01-06T14:55:31.914Z"
   },
   {
    "duration": 7,
    "start_time": "2023-01-06T14:55:32.027Z"
   },
   {
    "duration": 26,
    "start_time": "2023-01-06T14:57:40.199Z"
   },
   {
    "duration": 2,
    "start_time": "2023-01-06T14:57:48.351Z"
   },
   {
    "duration": 75,
    "start_time": "2023-01-06T14:57:48.355Z"
   },
   {
    "duration": 16,
    "start_time": "2023-01-06T14:57:48.432Z"
   },
   {
    "duration": 1887,
    "start_time": "2023-01-06T14:57:48.450Z"
   },
   {
    "duration": 16,
    "start_time": "2023-01-06T14:57:50.340Z"
   },
   {
    "duration": 34,
    "start_time": "2023-01-06T14:57:50.358Z"
   },
   {
    "duration": 5,
    "start_time": "2023-01-06T14:57:50.413Z"
   },
   {
    "duration": 15,
    "start_time": "2023-01-06T14:57:50.420Z"
   },
   {
    "duration": 6,
    "start_time": "2023-01-06T14:57:50.436Z"
   },
   {
    "duration": 20,
    "start_time": "2023-01-06T14:57:50.444Z"
   },
   {
    "duration": 7,
    "start_time": "2023-01-06T14:57:50.467Z"
   },
   {
    "duration": 7,
    "start_time": "2023-01-06T14:57:50.476Z"
   },
   {
    "duration": 45,
    "start_time": "2023-01-06T14:57:50.513Z"
   },
   {
    "duration": 56,
    "start_time": "2023-01-06T14:57:50.560Z"
   },
   {
    "duration": 10,
    "start_time": "2023-01-06T14:57:50.617Z"
   },
   {
    "duration": 16,
    "start_time": "2023-01-06T14:57:50.629Z"
   },
   {
    "duration": 7,
    "start_time": "2023-01-06T14:57:50.647Z"
   },
   {
    "duration": 328,
    "start_time": "2023-01-06T14:57:50.656Z"
   },
   {
    "duration": 10,
    "start_time": "2023-01-06T14:57:50.986Z"
   },
   {
    "duration": 27,
    "start_time": "2023-01-06T14:57:50.998Z"
   },
   {
    "duration": 3077,
    "start_time": "2023-01-06T14:57:51.027Z"
   },
   {
    "duration": 12,
    "start_time": "2023-01-06T14:57:54.106Z"
   },
   {
    "duration": 9,
    "start_time": "2023-01-06T14:57:54.120Z"
   },
   {
    "duration": 2376,
    "start_time": "2023-01-06T14:57:54.131Z"
   },
   {
    "duration": 534,
    "start_time": "2023-01-06T14:57:56.511Z"
   },
   {
    "duration": 684,
    "start_time": "2023-01-06T14:57:57.046Z"
   },
   {
    "duration": 7,
    "start_time": "2023-01-06T14:57:57.732Z"
   },
   {
    "duration": 17,
    "start_time": "2023-01-06T14:57:57.741Z"
   },
   {
    "duration": 670,
    "start_time": "2023-01-06T14:57:57.761Z"
   },
   {
    "duration": 11,
    "start_time": "2023-01-06T14:57:58.432Z"
   },
   {
    "duration": 7,
    "start_time": "2023-01-06T14:57:58.444Z"
   },
   {
    "duration": 190,
    "start_time": "2023-01-06T14:57:58.453Z"
   },
   {
    "duration": 8,
    "start_time": "2023-01-06T14:57:58.645Z"
   },
   {
    "duration": 179,
    "start_time": "2023-01-06T14:57:58.655Z"
   },
   {
    "duration": 8,
    "start_time": "2023-01-06T14:57:58.836Z"
   },
   {
    "duration": 4,
    "start_time": "2023-01-06T14:57:58.845Z"
   },
   {
    "duration": 6,
    "start_time": "2023-01-06T14:57:58.850Z"
   },
   {
    "duration": 123,
    "start_time": "2023-01-06T14:57:58.857Z"
   },
   {
    "duration": 32,
    "start_time": "2023-01-06T14:57:58.982Z"
   },
   {
    "duration": 6,
    "start_time": "2023-01-06T14:57:59.015Z"
   },
   {
    "duration": 8,
    "start_time": "2023-01-06T14:57:59.023Z"
   },
   {
    "duration": 5,
    "start_time": "2023-01-06T14:57:59.033Z"
   },
   {
    "duration": 124,
    "start_time": "2023-01-06T14:57:59.039Z"
   },
   {
    "duration": 7,
    "start_time": "2023-01-06T14:57:59.165Z"
   },
   {
    "duration": 8,
    "start_time": "2023-01-06T14:57:59.174Z"
   },
   {
    "duration": 5,
    "start_time": "2023-01-06T14:57:59.183Z"
   },
   {
    "duration": 111,
    "start_time": "2023-01-06T14:57:59.212Z"
   },
   {
    "duration": 8,
    "start_time": "2023-01-06T14:57:59.325Z"
   },
   {
    "duration": 28,
    "start_time": "2023-01-06T14:58:18.156Z"
   },
   {
    "duration": 4,
    "start_time": "2023-01-06T14:58:21.406Z"
   },
   {
    "duration": 73,
    "start_time": "2023-01-06T14:58:21.412Z"
   },
   {
    "duration": 17,
    "start_time": "2023-01-06T14:58:21.488Z"
   },
   {
    "duration": 1406,
    "start_time": "2023-01-06T14:58:21.512Z"
   },
   {
    "duration": 14,
    "start_time": "2023-01-06T14:58:22.920Z"
   },
   {
    "duration": 34,
    "start_time": "2023-01-06T14:58:22.936Z"
   },
   {
    "duration": 7,
    "start_time": "2023-01-06T14:58:22.972Z"
   },
   {
    "duration": 36,
    "start_time": "2023-01-06T14:58:22.980Z"
   },
   {
    "duration": 5,
    "start_time": "2023-01-06T14:58:23.019Z"
   },
   {
    "duration": 15,
    "start_time": "2023-01-06T14:58:23.025Z"
   },
   {
    "duration": 5,
    "start_time": "2023-01-06T14:58:23.042Z"
   },
   {
    "duration": 6,
    "start_time": "2023-01-06T14:58:23.048Z"
   },
   {
    "duration": 69,
    "start_time": "2023-01-06T14:58:23.056Z"
   },
   {
    "duration": 364,
    "start_time": "2023-01-06T14:58:23.127Z"
   },
   {
    "duration": 8,
    "start_time": "2023-01-06T14:58:23.493Z"
   },
   {
    "duration": 15,
    "start_time": "2023-01-06T14:58:23.512Z"
   },
   {
    "duration": 7,
    "start_time": "2023-01-06T14:58:23.529Z"
   },
   {
    "duration": 331,
    "start_time": "2023-01-06T14:58:23.538Z"
   },
   {
    "duration": 9,
    "start_time": "2023-01-06T14:58:23.871Z"
   },
   {
    "duration": 19,
    "start_time": "2023-01-06T14:58:23.881Z"
   },
   {
    "duration": 3389,
    "start_time": "2023-01-06T14:58:23.913Z"
   },
   {
    "duration": 14,
    "start_time": "2023-01-06T14:58:27.303Z"
   },
   {
    "duration": 29,
    "start_time": "2023-01-06T14:58:27.319Z"
   },
   {
    "duration": 1943,
    "start_time": "2023-01-06T14:58:27.353Z"
   },
   {
    "duration": 529,
    "start_time": "2023-01-06T14:58:29.299Z"
   },
   {
    "duration": 704,
    "start_time": "2023-01-06T14:58:29.830Z"
   },
   {
    "duration": 8,
    "start_time": "2023-01-06T14:58:30.535Z"
   },
   {
    "duration": 16,
    "start_time": "2023-01-06T14:58:30.545Z"
   },
   {
    "duration": 716,
    "start_time": "2023-01-06T14:58:30.564Z"
   },
   {
    "duration": 12,
    "start_time": "2023-01-06T14:58:31.282Z"
   },
   {
    "duration": 21,
    "start_time": "2023-01-06T14:58:31.295Z"
   },
   {
    "duration": 198,
    "start_time": "2023-01-06T14:58:31.318Z"
   },
   {
    "duration": 9,
    "start_time": "2023-01-06T14:58:31.518Z"
   },
   {
    "duration": 196,
    "start_time": "2023-01-06T14:58:31.530Z"
   },
   {
    "duration": 9,
    "start_time": "2023-01-06T14:58:31.727Z"
   },
   {
    "duration": 6,
    "start_time": "2023-01-06T14:58:31.739Z"
   },
   {
    "duration": 11,
    "start_time": "2023-01-06T14:58:31.747Z"
   },
   {
    "duration": 29,
    "start_time": "2023-01-06T14:58:31.759Z"
   },
   {
    "duration": 514,
    "start_time": "2023-01-06T14:58:31.790Z"
   },
   {
    "duration": 6,
    "start_time": "2023-01-06T14:58:32.312Z"
   },
   {
    "duration": 10,
    "start_time": "2023-01-06T14:58:32.320Z"
   },
   {
    "duration": 6,
    "start_time": "2023-01-06T14:58:32.332Z"
   },
   {
    "duration": 129,
    "start_time": "2023-01-06T14:58:32.340Z"
   },
   {
    "duration": 7,
    "start_time": "2023-01-06T14:58:32.471Z"
   },
   {
    "duration": 15,
    "start_time": "2023-01-06T14:58:32.480Z"
   },
   {
    "duration": 16,
    "start_time": "2023-01-06T14:58:32.497Z"
   },
   {
    "duration": 109,
    "start_time": "2023-01-06T14:58:32.515Z"
   },
   {
    "duration": 6,
    "start_time": "2023-01-06T14:58:32.626Z"
   },
   {
    "duration": 2,
    "start_time": "2023-01-06T14:59:19.016Z"
   },
   {
    "duration": 4,
    "start_time": "2023-01-06T14:59:33.240Z"
   },
   {
    "duration": 4,
    "start_time": "2023-01-06T15:00:02.059Z"
   },
   {
    "duration": 3,
    "start_time": "2023-01-06T15:00:37.971Z"
   },
   {
    "duration": 80,
    "start_time": "2023-01-06T15:00:37.975Z"
   },
   {
    "duration": 15,
    "start_time": "2023-01-06T15:00:38.057Z"
   },
   {
    "duration": 1442,
    "start_time": "2023-01-06T15:00:38.074Z"
   },
   {
    "duration": 16,
    "start_time": "2023-01-06T15:00:39.517Z"
   },
   {
    "duration": 47,
    "start_time": "2023-01-06T15:00:39.535Z"
   },
   {
    "duration": 6,
    "start_time": "2023-01-06T15:00:39.584Z"
   },
   {
    "duration": 37,
    "start_time": "2023-01-06T15:00:39.592Z"
   },
   {
    "duration": 23,
    "start_time": "2023-01-06T15:00:39.632Z"
   },
   {
    "duration": 44,
    "start_time": "2023-01-06T15:00:39.657Z"
   },
   {
    "duration": 9,
    "start_time": "2023-01-06T15:00:39.703Z"
   },
   {
    "duration": 37,
    "start_time": "2023-01-06T15:00:39.714Z"
   },
   {
    "duration": 56,
    "start_time": "2023-01-06T15:00:39.754Z"
   },
   {
    "duration": 45,
    "start_time": "2023-01-06T15:00:39.812Z"
   },
   {
    "duration": 8,
    "start_time": "2023-01-06T15:00:39.859Z"
   },
   {
    "duration": 20,
    "start_time": "2023-01-06T15:00:39.868Z"
   },
   {
    "duration": 26,
    "start_time": "2023-01-06T15:00:39.889Z"
   },
   {
    "duration": 287,
    "start_time": "2023-01-06T15:00:39.917Z"
   },
   {
    "duration": 14,
    "start_time": "2023-01-06T15:00:40.205Z"
   },
   {
    "duration": 67,
    "start_time": "2023-01-06T15:00:40.221Z"
   },
   {
    "duration": 3097,
    "start_time": "2023-01-06T15:00:40.289Z"
   },
   {
    "duration": 6,
    "start_time": "2023-01-06T15:00:43.388Z"
   },
   {
    "duration": 50,
    "start_time": "2023-01-06T15:00:43.396Z"
   },
   {
    "duration": 2425,
    "start_time": "2023-01-06T15:00:43.450Z"
   },
   {
    "duration": 506,
    "start_time": "2023-01-06T15:00:45.877Z"
   },
   {
    "duration": 708,
    "start_time": "2023-01-06T15:00:46.385Z"
   },
   {
    "duration": 7,
    "start_time": "2023-01-06T15:00:47.095Z"
   },
   {
    "duration": 11,
    "start_time": "2023-01-06T15:00:47.111Z"
   },
   {
    "duration": 702,
    "start_time": "2023-01-06T15:00:47.124Z"
   },
   {
    "duration": 12,
    "start_time": "2023-01-06T15:00:47.827Z"
   },
   {
    "duration": 7,
    "start_time": "2023-01-06T15:00:47.841Z"
   },
   {
    "duration": 200,
    "start_time": "2023-01-06T15:00:47.849Z"
   },
   {
    "duration": 7,
    "start_time": "2023-01-06T15:00:48.051Z"
   },
   {
    "duration": 195,
    "start_time": "2023-01-06T15:00:48.060Z"
   },
   {
    "duration": 7,
    "start_time": "2023-01-06T15:00:48.257Z"
   },
   {
    "duration": 8,
    "start_time": "2023-01-06T15:00:48.266Z"
   },
   {
    "duration": 6,
    "start_time": "2023-01-06T15:00:48.276Z"
   },
   {
    "duration": 143,
    "start_time": "2023-01-06T15:00:48.284Z"
   },
   {
    "duration": 6,
    "start_time": "2023-01-06T15:00:48.429Z"
   },
   {
    "duration": 16,
    "start_time": "2023-01-06T15:00:48.437Z"
   },
   {
    "duration": 7,
    "start_time": "2023-01-06T15:00:48.455Z"
   },
   {
    "duration": 120,
    "start_time": "2023-01-06T15:00:48.463Z"
   },
   {
    "duration": 7,
    "start_time": "2023-01-06T15:00:48.585Z"
   },
   {
    "duration": 29,
    "start_time": "2023-01-06T15:00:48.593Z"
   },
   {
    "duration": 4,
    "start_time": "2023-01-06T15:00:48.624Z"
   },
   {
    "duration": 103,
    "start_time": "2023-01-06T15:00:48.630Z"
   },
   {
    "duration": 6,
    "start_time": "2023-01-06T15:00:48.735Z"
   },
   {
    "duration": 393,
    "start_time": "2023-01-06T15:01:26.948Z"
   },
   {
    "duration": 71,
    "start_time": "2023-01-06T15:01:27.344Z"
   },
   {
    "duration": 14,
    "start_time": "2023-01-06T15:01:27.416Z"
   },
   {
    "duration": 1759,
    "start_time": "2023-01-06T15:01:27.432Z"
   },
   {
    "duration": 27,
    "start_time": "2023-01-06T15:01:29.193Z"
   },
   {
    "duration": 41,
    "start_time": "2023-01-06T15:01:29.223Z"
   },
   {
    "duration": 7,
    "start_time": "2023-01-06T15:01:29.267Z"
   },
   {
    "duration": 39,
    "start_time": "2023-01-06T15:01:29.275Z"
   },
   {
    "duration": 8,
    "start_time": "2023-01-06T15:01:29.315Z"
   },
   {
    "duration": 18,
    "start_time": "2023-01-06T15:01:29.326Z"
   },
   {
    "duration": 7,
    "start_time": "2023-01-06T15:01:29.345Z"
   },
   {
    "duration": 14,
    "start_time": "2023-01-06T15:01:29.355Z"
   },
   {
    "duration": 65,
    "start_time": "2023-01-06T15:01:29.370Z"
   },
   {
    "duration": 40,
    "start_time": "2023-01-06T15:01:29.437Z"
   },
   {
    "duration": 9,
    "start_time": "2023-01-06T15:01:29.479Z"
   },
   {
    "duration": 38,
    "start_time": "2023-01-06T15:01:29.490Z"
   },
   {
    "duration": 26,
    "start_time": "2023-01-06T15:01:29.530Z"
   },
   {
    "duration": 309,
    "start_time": "2023-01-06T15:01:29.557Z"
   },
   {
    "duration": 9,
    "start_time": "2023-01-06T15:01:29.867Z"
   },
   {
    "duration": 19,
    "start_time": "2023-01-06T15:01:29.877Z"
   },
   {
    "duration": 3234,
    "start_time": "2023-01-06T15:01:29.898Z"
   },
   {
    "duration": 7,
    "start_time": "2023-01-06T15:01:33.134Z"
   },
   {
    "duration": 33,
    "start_time": "2023-01-06T15:01:33.143Z"
   },
   {
    "duration": 2036,
    "start_time": "2023-01-06T15:01:33.177Z"
   },
   {
    "duration": 657,
    "start_time": "2023-01-06T15:01:35.214Z"
   },
   {
    "duration": 726,
    "start_time": "2023-01-06T15:01:35.872Z"
   },
   {
    "duration": 13,
    "start_time": "2023-01-06T15:01:36.600Z"
   },
   {
    "duration": 14,
    "start_time": "2023-01-06T15:01:36.617Z"
   },
   {
    "duration": 670,
    "start_time": "2023-01-06T15:01:36.632Z"
   },
   {
    "duration": 16,
    "start_time": "2023-01-06T15:01:37.304Z"
   },
   {
    "duration": 6,
    "start_time": "2023-01-06T15:01:37.322Z"
   },
   {
    "duration": 183,
    "start_time": "2023-01-06T15:01:37.329Z"
   },
   {
    "duration": 7,
    "start_time": "2023-01-06T15:01:37.514Z"
   },
   {
    "duration": 182,
    "start_time": "2023-01-06T15:01:37.522Z"
   },
   {
    "duration": 10,
    "start_time": "2023-01-06T15:01:37.706Z"
   },
   {
    "duration": 5,
    "start_time": "2023-01-06T15:01:37.718Z"
   },
   {
    "duration": 6,
    "start_time": "2023-01-06T15:01:37.724Z"
   },
   {
    "duration": 112,
    "start_time": "2023-01-06T15:01:37.732Z"
   },
   {
    "duration": 6,
    "start_time": "2023-01-06T15:01:37.845Z"
   },
   {
    "duration": 15,
    "start_time": "2023-01-06T15:01:37.852Z"
   },
   {
    "duration": 7,
    "start_time": "2023-01-06T15:01:37.868Z"
   },
   {
    "duration": 113,
    "start_time": "2023-01-06T15:01:37.876Z"
   },
   {
    "duration": 5,
    "start_time": "2023-01-06T15:01:37.991Z"
   },
   {
    "duration": 21,
    "start_time": "2023-01-06T15:01:37.998Z"
   },
   {
    "duration": 11,
    "start_time": "2023-01-06T15:01:38.021Z"
   },
   {
    "duration": 102,
    "start_time": "2023-01-06T15:01:38.033Z"
   },
   {
    "duration": 6,
    "start_time": "2023-01-06T15:01:38.136Z"
   },
   {
    "duration": 223,
    "start_time": "2023-01-06T15:02:57.272Z"
   },
   {
    "duration": 122,
    "start_time": "2023-01-06T15:03:33.615Z"
   },
   {
    "duration": 8,
    "start_time": "2023-01-06T15:03:39.122Z"
   },
   {
    "duration": 124,
    "start_time": "2023-01-06T15:03:49.070Z"
   },
   {
    "duration": 116,
    "start_time": "2023-01-06T15:04:25.004Z"
   },
   {
    "duration": 120,
    "start_time": "2023-01-06T15:04:59.217Z"
   },
   {
    "duration": 3,
    "start_time": "2023-01-06T15:05:15.240Z"
   },
   {
    "duration": 66,
    "start_time": "2023-01-06T15:05:15.244Z"
   },
   {
    "duration": 13,
    "start_time": "2023-01-06T15:05:15.312Z"
   },
   {
    "duration": 1595,
    "start_time": "2023-01-06T15:05:15.327Z"
   },
   {
    "duration": 14,
    "start_time": "2023-01-06T15:05:16.925Z"
   },
   {
    "duration": 33,
    "start_time": "2023-01-06T15:05:16.941Z"
   },
   {
    "duration": 5,
    "start_time": "2023-01-06T15:05:16.975Z"
   },
   {
    "duration": 31,
    "start_time": "2023-01-06T15:05:16.982Z"
   },
   {
    "duration": 7,
    "start_time": "2023-01-06T15:05:17.015Z"
   },
   {
    "duration": 15,
    "start_time": "2023-01-06T15:05:17.023Z"
   },
   {
    "duration": 6,
    "start_time": "2023-01-06T15:05:17.041Z"
   },
   {
    "duration": 6,
    "start_time": "2023-01-06T15:05:17.049Z"
   },
   {
    "duration": 72,
    "start_time": "2023-01-06T15:05:17.057Z"
   },
   {
    "duration": 41,
    "start_time": "2023-01-06T15:05:17.130Z"
   },
   {
    "duration": 10,
    "start_time": "2023-01-06T15:05:17.173Z"
   },
   {
    "duration": 39,
    "start_time": "2023-01-06T15:05:17.185Z"
   },
   {
    "duration": 9,
    "start_time": "2023-01-06T15:05:17.225Z"
   },
   {
    "duration": 298,
    "start_time": "2023-01-06T15:05:17.235Z"
   },
   {
    "duration": 9,
    "start_time": "2023-01-06T15:05:17.535Z"
   },
   {
    "duration": 17,
    "start_time": "2023-01-06T15:05:17.546Z"
   },
   {
    "duration": 3352,
    "start_time": "2023-01-06T15:05:17.565Z"
   },
   {
    "duration": 6,
    "start_time": "2023-01-06T15:05:20.919Z"
   },
   {
    "duration": 18,
    "start_time": "2023-01-06T15:05:20.927Z"
   },
   {
    "duration": 1943,
    "start_time": "2023-01-06T15:05:20.947Z"
   },
   {
    "duration": 543,
    "start_time": "2023-01-06T15:05:22.892Z"
   },
   {
    "duration": 724,
    "start_time": "2023-01-06T15:05:23.437Z"
   },
   {
    "duration": 6,
    "start_time": "2023-01-06T15:05:24.163Z"
   },
   {
    "duration": 22,
    "start_time": "2023-01-06T15:05:24.171Z"
   },
   {
    "duration": 885,
    "start_time": "2023-01-06T15:05:24.197Z"
   },
   {
    "duration": 11,
    "start_time": "2023-01-06T15:05:25.083Z"
   },
   {
    "duration": 20,
    "start_time": "2023-01-06T15:05:25.096Z"
   },
   {
    "duration": 180,
    "start_time": "2023-01-06T15:05:25.118Z"
   },
   {
    "duration": 14,
    "start_time": "2023-01-06T15:05:25.299Z"
   },
   {
    "duration": 179,
    "start_time": "2023-01-06T15:05:25.315Z"
   },
   {
    "duration": 8,
    "start_time": "2023-01-06T15:05:25.496Z"
   },
   {
    "duration": 9,
    "start_time": "2023-01-06T15:05:25.505Z"
   },
   {
    "duration": 9,
    "start_time": "2023-01-06T15:05:25.516Z"
   },
   {
    "duration": 114,
    "start_time": "2023-01-06T15:05:25.526Z"
   },
   {
    "duration": 6,
    "start_time": "2023-01-06T15:05:25.642Z"
   },
   {
    "duration": 11,
    "start_time": "2023-01-06T15:05:25.649Z"
   },
   {
    "duration": 6,
    "start_time": "2023-01-06T15:05:25.662Z"
   },
   {
    "duration": 120,
    "start_time": "2023-01-06T15:05:25.670Z"
   },
   {
    "duration": 6,
    "start_time": "2023-01-06T15:05:25.792Z"
   },
   {
    "duration": 9,
    "start_time": "2023-01-06T15:05:25.812Z"
   },
   {
    "duration": 4,
    "start_time": "2023-01-06T15:05:25.822Z"
   },
   {
    "duration": 121,
    "start_time": "2023-01-06T15:05:25.828Z"
   },
   {
    "duration": 6,
    "start_time": "2023-01-06T15:05:25.952Z"
   },
   {
    "duration": 7,
    "start_time": "2023-01-06T15:05:47.488Z"
   },
   {
    "duration": 7,
    "start_time": "2023-01-06T15:05:50.534Z"
   },
   {
    "duration": 3,
    "start_time": "2023-01-06T15:05:53.317Z"
   },
   {
    "duration": 113,
    "start_time": "2023-01-06T15:05:56.708Z"
   },
   {
    "duration": 3,
    "start_time": "2023-01-06T15:08:06.280Z"
   },
   {
    "duration": 61,
    "start_time": "2023-01-06T15:08:06.285Z"
   },
   {
    "duration": 12,
    "start_time": "2023-01-06T15:08:06.348Z"
   },
   {
    "duration": 1529,
    "start_time": "2023-01-06T15:08:06.362Z"
   },
   {
    "duration": 22,
    "start_time": "2023-01-06T15:08:07.893Z"
   },
   {
    "duration": 31,
    "start_time": "2023-01-06T15:08:07.917Z"
   },
   {
    "duration": 6,
    "start_time": "2023-01-06T15:08:07.950Z"
   },
   {
    "duration": 11,
    "start_time": "2023-01-06T15:08:07.958Z"
   },
   {
    "duration": 5,
    "start_time": "2023-01-06T15:08:07.971Z"
   },
   {
    "duration": 44,
    "start_time": "2023-01-06T15:08:07.979Z"
   },
   {
    "duration": 8,
    "start_time": "2023-01-06T15:08:08.024Z"
   },
   {
    "duration": 6,
    "start_time": "2023-01-06T15:08:08.034Z"
   },
   {
    "duration": 42,
    "start_time": "2023-01-06T15:08:08.041Z"
   },
   {
    "duration": 62,
    "start_time": "2023-01-06T15:08:08.084Z"
   },
   {
    "duration": 9,
    "start_time": "2023-01-06T15:08:08.147Z"
   },
   {
    "duration": 18,
    "start_time": "2023-01-06T15:08:08.158Z"
   },
   {
    "duration": 8,
    "start_time": "2023-01-06T15:08:08.178Z"
   },
   {
    "duration": 309,
    "start_time": "2023-01-06T15:08:08.188Z"
   },
   {
    "duration": 14,
    "start_time": "2023-01-06T15:08:08.499Z"
   },
   {
    "duration": 11,
    "start_time": "2023-01-06T15:08:08.514Z"
   },
   {
    "duration": 3123,
    "start_time": "2023-01-06T15:08:08.527Z"
   },
   {
    "duration": 6,
    "start_time": "2023-01-06T15:08:11.652Z"
   },
   {
    "duration": 9,
    "start_time": "2023-01-06T15:08:11.660Z"
   },
   {
    "duration": 1980,
    "start_time": "2023-01-06T15:08:11.670Z"
   },
   {
    "duration": 522,
    "start_time": "2023-01-06T15:08:13.653Z"
   },
   {
    "duration": 692,
    "start_time": "2023-01-06T15:08:14.176Z"
   },
   {
    "duration": 8,
    "start_time": "2023-01-06T15:08:14.870Z"
   },
   {
    "duration": 30,
    "start_time": "2023-01-06T15:08:14.882Z"
   },
   {
    "duration": 674,
    "start_time": "2023-01-06T15:08:14.914Z"
   },
   {
    "duration": 22,
    "start_time": "2023-01-06T15:08:15.590Z"
   },
   {
    "duration": 7,
    "start_time": "2023-01-06T15:08:15.613Z"
   },
   {
    "duration": 169,
    "start_time": "2023-01-06T15:08:15.622Z"
   },
   {
    "duration": 19,
    "start_time": "2023-01-06T15:08:15.793Z"
   },
   {
    "duration": 187,
    "start_time": "2023-01-06T15:08:15.814Z"
   },
   {
    "duration": 16,
    "start_time": "2023-01-06T15:08:16.003Z"
   },
   {
    "duration": 4,
    "start_time": "2023-01-06T15:08:16.021Z"
   },
   {
    "duration": 5,
    "start_time": "2023-01-06T15:08:16.027Z"
   },
   {
    "duration": 130,
    "start_time": "2023-01-06T15:08:16.036Z"
   },
   {
    "duration": 7,
    "start_time": "2023-01-06T15:08:16.169Z"
   },
   {
    "duration": 9,
    "start_time": "2023-01-06T15:08:16.179Z"
   },
   {
    "duration": 23,
    "start_time": "2023-01-06T15:08:16.190Z"
   },
   {
    "duration": 3,
    "start_time": "2023-01-06T15:08:16.215Z"
   },
   {
    "duration": 157,
    "start_time": "2023-01-06T15:08:16.220Z"
   },
   {
    "duration": 15,
    "start_time": "2023-01-06T15:08:16.379Z"
   },
   {
    "duration": 25,
    "start_time": "2023-01-06T15:08:16.402Z"
   },
   {
    "duration": 14,
    "start_time": "2023-01-06T15:08:16.429Z"
   },
   {
    "duration": 443,
    "start_time": "2023-01-06T15:08:16.445Z"
   },
   {
    "duration": 7,
    "start_time": "2023-01-06T15:08:16.889Z"
   },
   {
    "duration": 2,
    "start_time": "2023-01-06T15:11:10.379Z"
   },
   {
    "duration": 81,
    "start_time": "2023-01-06T15:11:10.383Z"
   },
   {
    "duration": 16,
    "start_time": "2023-01-06T15:11:10.465Z"
   },
   {
    "duration": 1342,
    "start_time": "2023-01-06T15:11:10.483Z"
   },
   {
    "duration": 14,
    "start_time": "2023-01-06T15:11:11.828Z"
   },
   {
    "duration": 33,
    "start_time": "2023-01-06T15:11:11.844Z"
   },
   {
    "duration": 4,
    "start_time": "2023-01-06T15:11:11.879Z"
   },
   {
    "duration": 32,
    "start_time": "2023-01-06T15:11:11.885Z"
   },
   {
    "duration": 4,
    "start_time": "2023-01-06T15:11:11.919Z"
   },
   {
    "duration": 15,
    "start_time": "2023-01-06T15:11:11.926Z"
   },
   {
    "duration": 5,
    "start_time": "2023-01-06T15:11:11.943Z"
   },
   {
    "duration": 6,
    "start_time": "2023-01-06T15:11:11.950Z"
   },
   {
    "duration": 72,
    "start_time": "2023-01-06T15:11:11.957Z"
   },
   {
    "duration": 42,
    "start_time": "2023-01-06T15:11:12.032Z"
   },
   {
    "duration": 13,
    "start_time": "2023-01-06T15:11:12.076Z"
   },
   {
    "duration": 37,
    "start_time": "2023-01-06T15:11:12.091Z"
   },
   {
    "duration": 7,
    "start_time": "2023-01-06T15:11:12.129Z"
   },
   {
    "duration": 314,
    "start_time": "2023-01-06T15:11:12.138Z"
   },
   {
    "duration": 9,
    "start_time": "2023-01-06T15:11:12.453Z"
   },
   {
    "duration": 14,
    "start_time": "2023-01-06T15:11:12.464Z"
   },
   {
    "duration": 3194,
    "start_time": "2023-01-06T15:11:12.480Z"
   },
   {
    "duration": 7,
    "start_time": "2023-01-06T15:11:15.676Z"
   },
   {
    "duration": 8,
    "start_time": "2023-01-06T15:11:15.684Z"
   },
   {
    "duration": 1990,
    "start_time": "2023-01-06T15:11:15.712Z"
   },
   {
    "duration": 509,
    "start_time": "2023-01-06T15:11:17.704Z"
   },
   {
    "duration": 668,
    "start_time": "2023-01-06T15:11:18.215Z"
   },
   {
    "duration": 5,
    "start_time": "2023-01-06T15:11:18.885Z"
   },
   {
    "duration": 23,
    "start_time": "2023-01-06T15:11:18.892Z"
   },
   {
    "duration": 1219,
    "start_time": "2023-01-06T15:11:18.917Z"
   },
   {
    "duration": 11,
    "start_time": "2023-01-06T15:11:20.138Z"
   },
   {
    "duration": 9,
    "start_time": "2023-01-06T15:11:20.150Z"
   },
   {
    "duration": 199,
    "start_time": "2023-01-06T15:11:20.161Z"
   },
   {
    "duration": 9,
    "start_time": "2023-01-06T15:11:20.362Z"
   },
   {
    "duration": 220,
    "start_time": "2023-01-06T15:11:20.373Z"
   },
   {
    "duration": 7,
    "start_time": "2023-01-06T15:11:20.595Z"
   },
   {
    "duration": 6,
    "start_time": "2023-01-06T15:11:20.613Z"
   },
   {
    "duration": 12,
    "start_time": "2023-01-06T15:11:20.620Z"
   },
   {
    "duration": 118,
    "start_time": "2023-01-06T15:11:20.634Z"
   },
   {
    "duration": 6,
    "start_time": "2023-01-06T15:11:20.754Z"
   },
   {
    "duration": 11,
    "start_time": "2023-01-06T15:11:20.762Z"
   },
   {
    "duration": 6,
    "start_time": "2023-01-06T15:11:20.777Z"
   },
   {
    "duration": 3,
    "start_time": "2023-01-06T15:11:20.785Z"
   },
   {
    "duration": 144,
    "start_time": "2023-01-06T15:11:20.789Z"
   },
   {
    "duration": 6,
    "start_time": "2023-01-06T15:11:20.935Z"
   },
   {
    "duration": 10,
    "start_time": "2023-01-06T15:11:20.942Z"
   },
   {
    "duration": 5,
    "start_time": "2023-01-06T15:11:20.953Z"
   },
   {
    "duration": 116,
    "start_time": "2023-01-06T15:11:20.959Z"
   },
   {
    "duration": 6,
    "start_time": "2023-01-06T15:11:21.077Z"
   },
   {
    "duration": 2,
    "start_time": "2023-01-06T15:12:21.497Z"
   },
   {
    "duration": 67,
    "start_time": "2023-01-06T15:12:21.502Z"
   },
   {
    "duration": 21,
    "start_time": "2023-01-06T15:12:21.571Z"
   },
   {
    "duration": 1452,
    "start_time": "2023-01-06T15:12:21.595Z"
   },
   {
    "duration": 14,
    "start_time": "2023-01-06T15:12:23.049Z"
   },
   {
    "duration": 53,
    "start_time": "2023-01-06T15:12:23.065Z"
   },
   {
    "duration": 5,
    "start_time": "2023-01-06T15:12:23.120Z"
   },
   {
    "duration": 20,
    "start_time": "2023-01-06T15:12:23.126Z"
   },
   {
    "duration": 8,
    "start_time": "2023-01-06T15:12:23.150Z"
   },
   {
    "duration": 17,
    "start_time": "2023-01-06T15:12:23.159Z"
   },
   {
    "duration": 6,
    "start_time": "2023-01-06T15:12:23.179Z"
   },
   {
    "duration": 6,
    "start_time": "2023-01-06T15:12:23.212Z"
   },
   {
    "duration": 47,
    "start_time": "2023-01-06T15:12:23.220Z"
   },
   {
    "duration": 60,
    "start_time": "2023-01-06T15:12:23.268Z"
   },
   {
    "duration": 12,
    "start_time": "2023-01-06T15:12:23.330Z"
   },
   {
    "duration": 17,
    "start_time": "2023-01-06T15:12:23.344Z"
   },
   {
    "duration": 8,
    "start_time": "2023-01-06T15:12:23.362Z"
   },
   {
    "duration": 303,
    "start_time": "2023-01-06T15:12:23.371Z"
   },
   {
    "duration": 10,
    "start_time": "2023-01-06T15:12:23.676Z"
   },
   {
    "duration": 35,
    "start_time": "2023-01-06T15:12:23.688Z"
   },
   {
    "duration": 3621,
    "start_time": "2023-01-06T15:12:23.726Z"
   },
   {
    "duration": 8,
    "start_time": "2023-01-06T15:12:27.348Z"
   },
   {
    "duration": 22,
    "start_time": "2023-01-06T15:12:27.358Z"
   },
   {
    "duration": 2038,
    "start_time": "2023-01-06T15:12:27.384Z"
   },
   {
    "duration": 475,
    "start_time": "2023-01-06T15:12:29.423Z"
   },
   {
    "duration": 683,
    "start_time": "2023-01-06T15:12:29.900Z"
   },
   {
    "duration": 7,
    "start_time": "2023-01-06T15:12:30.585Z"
   },
   {
    "duration": 25,
    "start_time": "2023-01-06T15:12:30.593Z"
   },
   {
    "duration": 660,
    "start_time": "2023-01-06T15:12:30.621Z"
   },
   {
    "duration": 12,
    "start_time": "2023-01-06T15:12:31.284Z"
   },
   {
    "duration": 19,
    "start_time": "2023-01-06T15:12:31.298Z"
   },
   {
    "duration": 183,
    "start_time": "2023-01-06T15:12:31.319Z"
   },
   {
    "duration": 10,
    "start_time": "2023-01-06T15:12:31.503Z"
   },
   {
    "duration": 168,
    "start_time": "2023-01-06T15:12:31.515Z"
   },
   {
    "duration": 7,
    "start_time": "2023-01-06T15:12:31.684Z"
   },
   {
    "duration": 15,
    "start_time": "2023-01-06T15:12:31.693Z"
   },
   {
    "duration": 10,
    "start_time": "2023-01-06T15:12:31.709Z"
   },
   {
    "duration": 124,
    "start_time": "2023-01-06T15:12:31.720Z"
   },
   {
    "duration": 6,
    "start_time": "2023-01-06T15:12:31.845Z"
   },
   {
    "duration": 8,
    "start_time": "2023-01-06T15:12:31.853Z"
   },
   {
    "duration": 7,
    "start_time": "2023-01-06T15:12:31.863Z"
   },
   {
    "duration": 2,
    "start_time": "2023-01-06T15:12:31.872Z"
   },
   {
    "duration": 138,
    "start_time": "2023-01-06T15:12:31.876Z"
   },
   {
    "duration": 6,
    "start_time": "2023-01-06T15:12:32.016Z"
   },
   {
    "duration": 16,
    "start_time": "2023-01-06T15:12:32.024Z"
   },
   {
    "duration": 18,
    "start_time": "2023-01-06T15:12:32.041Z"
   },
   {
    "duration": 482,
    "start_time": "2023-01-06T15:12:32.061Z"
   },
   {
    "duration": 6,
    "start_time": "2023-01-06T15:12:32.544Z"
   },
   {
    "duration": 105,
    "start_time": "2023-01-06T15:12:43.897Z"
   },
   {
    "duration": 2,
    "start_time": "2023-01-06T15:12:59.081Z"
   },
   {
    "duration": 73,
    "start_time": "2023-01-06T15:12:59.086Z"
   },
   {
    "duration": 15,
    "start_time": "2023-01-06T15:12:59.161Z"
   },
   {
    "duration": 1510,
    "start_time": "2023-01-06T15:12:59.179Z"
   },
   {
    "duration": 21,
    "start_time": "2023-01-06T15:13:00.691Z"
   },
   {
    "duration": 37,
    "start_time": "2023-01-06T15:13:00.713Z"
   },
   {
    "duration": 7,
    "start_time": "2023-01-06T15:13:00.752Z"
   },
   {
    "duration": 19,
    "start_time": "2023-01-06T15:13:00.761Z"
   },
   {
    "duration": 4,
    "start_time": "2023-01-06T15:13:00.783Z"
   },
   {
    "duration": 35,
    "start_time": "2023-01-06T15:13:00.790Z"
   },
   {
    "duration": 5,
    "start_time": "2023-01-06T15:13:00.828Z"
   },
   {
    "duration": 9,
    "start_time": "2023-01-06T15:13:00.835Z"
   },
   {
    "duration": 47,
    "start_time": "2023-01-06T15:13:00.846Z"
   },
   {
    "duration": 53,
    "start_time": "2023-01-06T15:13:00.895Z"
   },
   {
    "duration": 10,
    "start_time": "2023-01-06T15:13:00.950Z"
   },
   {
    "duration": 24,
    "start_time": "2023-01-06T15:13:00.961Z"
   },
   {
    "duration": 7,
    "start_time": "2023-01-06T15:13:00.987Z"
   },
   {
    "duration": 304,
    "start_time": "2023-01-06T15:13:01.013Z"
   },
   {
    "duration": 9,
    "start_time": "2023-01-06T15:13:01.319Z"
   },
   {
    "duration": 46,
    "start_time": "2023-01-06T15:13:01.330Z"
   },
   {
    "duration": 3334,
    "start_time": "2023-01-06T15:13:01.378Z"
   },
   {
    "duration": 8,
    "start_time": "2023-01-06T15:13:04.714Z"
   },
   {
    "duration": 16,
    "start_time": "2023-01-06T15:13:04.723Z"
   },
   {
    "duration": 1997,
    "start_time": "2023-01-06T15:13:04.741Z"
   },
   {
    "duration": 489,
    "start_time": "2023-01-06T15:13:06.740Z"
   },
   {
    "duration": 647,
    "start_time": "2023-01-06T15:13:07.231Z"
   },
   {
    "duration": 7,
    "start_time": "2023-01-06T15:13:07.879Z"
   },
   {
    "duration": 27,
    "start_time": "2023-01-06T15:13:07.891Z"
   },
   {
    "duration": 673,
    "start_time": "2023-01-06T15:13:07.920Z"
   },
   {
    "duration": 19,
    "start_time": "2023-01-06T15:13:08.594Z"
   },
   {
    "duration": 6,
    "start_time": "2023-01-06T15:13:08.615Z"
   },
   {
    "duration": 199,
    "start_time": "2023-01-06T15:13:08.623Z"
   },
   {
    "duration": 7,
    "start_time": "2023-01-06T15:13:08.824Z"
   },
   {
    "duration": 200,
    "start_time": "2023-01-06T15:13:08.833Z"
   },
   {
    "duration": 8,
    "start_time": "2023-01-06T15:13:09.035Z"
   },
   {
    "duration": 6,
    "start_time": "2023-01-06T15:13:09.044Z"
   },
   {
    "duration": 6,
    "start_time": "2023-01-06T15:13:09.051Z"
   },
   {
    "duration": 122,
    "start_time": "2023-01-06T15:13:09.059Z"
   },
   {
    "duration": 6,
    "start_time": "2023-01-06T15:13:09.183Z"
   },
   {
    "duration": 23,
    "start_time": "2023-01-06T15:13:09.190Z"
   },
   {
    "duration": 7,
    "start_time": "2023-01-06T15:13:09.214Z"
   },
   {
    "duration": 7,
    "start_time": "2023-01-06T15:13:09.223Z"
   },
   {
    "duration": 133,
    "start_time": "2023-01-06T15:13:09.232Z"
   },
   {
    "duration": 6,
    "start_time": "2023-01-06T15:13:09.367Z"
   },
   {
    "duration": 10,
    "start_time": "2023-01-06T15:13:09.374Z"
   },
   {
    "duration": 5,
    "start_time": "2023-01-06T15:13:09.386Z"
   },
   {
    "duration": 106,
    "start_time": "2023-01-06T15:13:09.393Z"
   },
   {
    "duration": 16,
    "start_time": "2023-01-06T15:13:09.500Z"
   },
   {
    "duration": 80,
    "start_time": "2023-01-06T15:15:14.128Z"
   },
   {
    "duration": 9,
    "start_time": "2023-01-06T15:15:49.246Z"
   },
   {
    "duration": 11,
    "start_time": "2023-01-06T15:17:41.732Z"
   },
   {
    "duration": 58,
    "start_time": "2023-01-06T15:18:45.235Z"
   },
   {
    "duration": 547,
    "start_time": "2023-01-06T15:19:01.640Z"
   },
   {
    "duration": 5,
    "start_time": "2023-01-06T15:19:19.195Z"
   },
   {
    "duration": 31,
    "start_time": "2023-01-06T15:19:25.093Z"
   },
   {
    "duration": 8,
    "start_time": "2023-01-06T15:19:44.007Z"
   },
   {
    "duration": 4,
    "start_time": "2023-01-06T15:20:09.586Z"
   },
   {
    "duration": 70,
    "start_time": "2023-01-06T15:20:09.592Z"
   },
   {
    "duration": 21,
    "start_time": "2023-01-06T15:20:09.664Z"
   },
   {
    "duration": 1430,
    "start_time": "2023-01-06T15:20:09.712Z"
   },
   {
    "duration": 15,
    "start_time": "2023-01-06T15:20:11.143Z"
   },
   {
    "duration": 34,
    "start_time": "2023-01-06T15:20:11.160Z"
   },
   {
    "duration": 5,
    "start_time": "2023-01-06T15:20:11.212Z"
   },
   {
    "duration": 14,
    "start_time": "2023-01-06T15:20:11.220Z"
   },
   {
    "duration": 5,
    "start_time": "2023-01-06T15:20:11.237Z"
   },
   {
    "duration": 17,
    "start_time": "2023-01-06T15:20:11.244Z"
   },
   {
    "duration": 7,
    "start_time": "2023-01-06T15:20:11.262Z"
   },
   {
    "duration": 6,
    "start_time": "2023-01-06T15:20:11.270Z"
   },
   {
    "duration": 72,
    "start_time": "2023-01-06T15:20:11.278Z"
   },
   {
    "duration": 443,
    "start_time": "2023-01-06T15:20:11.351Z"
   },
   {
    "duration": 17,
    "start_time": "2023-01-06T15:20:11.796Z"
   },
   {
    "duration": 15,
    "start_time": "2023-01-06T15:20:11.815Z"
   },
   {
    "duration": 7,
    "start_time": "2023-01-06T15:20:11.831Z"
   },
   {
    "duration": 318,
    "start_time": "2023-01-06T15:20:11.839Z"
   },
   {
    "duration": 12,
    "start_time": "2023-01-06T15:20:12.160Z"
   },
   {
    "duration": 30,
    "start_time": "2023-01-06T15:20:12.174Z"
   },
   {
    "duration": 2911,
    "start_time": "2023-01-06T15:20:12.206Z"
   },
   {
    "duration": 7,
    "start_time": "2023-01-06T15:20:15.119Z"
   },
   {
    "duration": 8,
    "start_time": "2023-01-06T15:20:15.128Z"
   },
   {
    "duration": 1928,
    "start_time": "2023-01-06T15:20:15.140Z"
   },
   {
    "duration": 496,
    "start_time": "2023-01-06T15:20:17.070Z"
   },
   {
    "duration": 640,
    "start_time": "2023-01-06T15:20:17.568Z"
   },
   {
    "duration": 7,
    "start_time": "2023-01-06T15:20:18.212Z"
   },
   {
    "duration": 19,
    "start_time": "2023-01-06T15:20:18.220Z"
   },
   {
    "duration": 647,
    "start_time": "2023-01-06T15:20:18.241Z"
   },
   {
    "duration": 22,
    "start_time": "2023-01-06T15:20:18.890Z"
   },
   {
    "duration": 8,
    "start_time": "2023-01-06T15:20:18.913Z"
   },
   {
    "duration": 188,
    "start_time": "2023-01-06T15:20:18.922Z"
   },
   {
    "duration": 9,
    "start_time": "2023-01-06T15:20:19.113Z"
   },
   {
    "duration": 208,
    "start_time": "2023-01-06T15:20:19.124Z"
   },
   {
    "duration": 10,
    "start_time": "2023-01-06T15:20:19.334Z"
   },
   {
    "duration": 13,
    "start_time": "2023-01-06T15:20:19.346Z"
   },
   {
    "duration": 16,
    "start_time": "2023-01-06T15:20:19.361Z"
   },
   {
    "duration": 41,
    "start_time": "2023-01-06T15:20:19.379Z"
   },
   {
    "duration": 0,
    "start_time": "2023-01-06T15:20:19.421Z"
   },
   {
    "duration": 0,
    "start_time": "2023-01-06T15:20:19.423Z"
   },
   {
    "duration": 0,
    "start_time": "2023-01-06T15:20:19.425Z"
   },
   {
    "duration": 0,
    "start_time": "2023-01-06T15:20:19.427Z"
   },
   {
    "duration": 0,
    "start_time": "2023-01-06T15:20:19.429Z"
   },
   {
    "duration": 0,
    "start_time": "2023-01-06T15:20:19.430Z"
   },
   {
    "duration": 0,
    "start_time": "2023-01-06T15:20:19.432Z"
   },
   {
    "duration": 0,
    "start_time": "2023-01-06T15:20:19.433Z"
   },
   {
    "duration": 0,
    "start_time": "2023-01-06T15:20:19.435Z"
   },
   {
    "duration": 0,
    "start_time": "2023-01-06T15:20:19.437Z"
   },
   {
    "duration": 110,
    "start_time": "2023-01-06T15:20:44.761Z"
   },
   {
    "duration": 3,
    "start_time": "2023-01-06T15:22:26.716Z"
   },
   {
    "duration": 66,
    "start_time": "2023-01-06T15:22:26.721Z"
   },
   {
    "duration": 13,
    "start_time": "2023-01-06T15:22:26.789Z"
   },
   {
    "duration": 1901,
    "start_time": "2023-01-06T15:22:26.811Z"
   },
   {
    "duration": 14,
    "start_time": "2023-01-06T15:22:28.713Z"
   },
   {
    "duration": 42,
    "start_time": "2023-01-06T15:22:28.729Z"
   },
   {
    "duration": 5,
    "start_time": "2023-01-06T15:22:28.773Z"
   },
   {
    "duration": 34,
    "start_time": "2023-01-06T15:22:28.779Z"
   },
   {
    "duration": 10,
    "start_time": "2023-01-06T15:22:28.815Z"
   },
   {
    "duration": 22,
    "start_time": "2023-01-06T15:22:28.827Z"
   },
   {
    "duration": 5,
    "start_time": "2023-01-06T15:22:28.851Z"
   },
   {
    "duration": 19,
    "start_time": "2023-01-06T15:22:28.858Z"
   },
   {
    "duration": 45,
    "start_time": "2023-01-06T15:22:28.879Z"
   },
   {
    "duration": 40,
    "start_time": "2023-01-06T15:22:28.925Z"
   },
   {
    "duration": 8,
    "start_time": "2023-01-06T15:22:28.967Z"
   },
   {
    "duration": 38,
    "start_time": "2023-01-06T15:22:28.977Z"
   },
   {
    "duration": 6,
    "start_time": "2023-01-06T15:22:29.018Z"
   },
   {
    "duration": 326,
    "start_time": "2023-01-06T15:22:29.025Z"
   },
   {
    "duration": 9,
    "start_time": "2023-01-06T15:22:29.352Z"
   },
   {
    "duration": 12,
    "start_time": "2023-01-06T15:22:29.362Z"
   },
   {
    "duration": 3145,
    "start_time": "2023-01-06T15:22:29.376Z"
   },
   {
    "duration": 6,
    "start_time": "2023-01-06T15:22:32.523Z"
   },
   {
    "duration": 33,
    "start_time": "2023-01-06T15:22:32.531Z"
   },
   {
    "duration": 2014,
    "start_time": "2023-01-06T15:22:32.566Z"
   },
   {
    "duration": 505,
    "start_time": "2023-01-06T15:22:34.581Z"
   },
   {
    "duration": 625,
    "start_time": "2023-01-06T15:22:35.088Z"
   },
   {
    "duration": 5,
    "start_time": "2023-01-06T15:22:35.715Z"
   },
   {
    "duration": 13,
    "start_time": "2023-01-06T15:22:35.724Z"
   },
   {
    "duration": 1130,
    "start_time": "2023-01-06T15:22:35.738Z"
   },
   {
    "duration": 11,
    "start_time": "2023-01-06T15:22:36.869Z"
   },
   {
    "duration": 9,
    "start_time": "2023-01-06T15:22:36.881Z"
   },
   {
    "duration": 190,
    "start_time": "2023-01-06T15:22:36.891Z"
   },
   {
    "duration": 8,
    "start_time": "2023-01-06T15:22:37.082Z"
   },
   {
    "duration": 190,
    "start_time": "2023-01-06T15:22:37.091Z"
   },
   {
    "duration": 8,
    "start_time": "2023-01-06T15:22:37.282Z"
   },
   {
    "duration": 5,
    "start_time": "2023-01-06T15:22:37.291Z"
   },
   {
    "duration": 3,
    "start_time": "2023-01-06T15:22:37.312Z"
   },
   {
    "duration": 119,
    "start_time": "2023-01-06T15:22:37.316Z"
   },
   {
    "duration": 6,
    "start_time": "2023-01-06T15:22:37.436Z"
   },
   {
    "duration": 8,
    "start_time": "2023-01-06T15:22:37.444Z"
   },
   {
    "duration": 9,
    "start_time": "2023-01-06T15:22:37.454Z"
   },
   {
    "duration": 5,
    "start_time": "2023-01-06T15:22:37.465Z"
   },
   {
    "duration": 129,
    "start_time": "2023-01-06T15:22:37.471Z"
   },
   {
    "duration": 11,
    "start_time": "2023-01-06T15:22:37.602Z"
   },
   {
    "duration": 10,
    "start_time": "2023-01-06T15:22:37.615Z"
   },
   {
    "duration": 3,
    "start_time": "2023-01-06T15:22:37.627Z"
   },
   {
    "duration": 111,
    "start_time": "2023-01-06T15:22:37.632Z"
   },
   {
    "duration": 7,
    "start_time": "2023-01-06T15:22:37.744Z"
   },
   {
    "duration": 25,
    "start_time": "2023-01-06T15:24:39.190Z"
   },
   {
    "duration": 94,
    "start_time": "2023-01-06T15:25:39.022Z"
   },
   {
    "duration": 91,
    "start_time": "2023-01-06T15:25:53.521Z"
   },
   {
    "duration": 655,
    "start_time": "2023-01-06T15:29:27.614Z"
   },
   {
    "duration": 7,
    "start_time": "2023-01-06T15:32:48.117Z"
   },
   {
    "duration": 102,
    "start_time": "2023-01-06T15:33:06.777Z"
   },
   {
    "duration": 100,
    "start_time": "2023-01-06T15:36:38.002Z"
   },
   {
    "duration": 3,
    "start_time": "2023-01-06T15:36:51.019Z"
   },
   {
    "duration": 63,
    "start_time": "2023-01-06T15:36:51.025Z"
   },
   {
    "duration": 14,
    "start_time": "2023-01-06T15:36:51.090Z"
   },
   {
    "duration": 1376,
    "start_time": "2023-01-06T15:36:51.106Z"
   },
   {
    "duration": 14,
    "start_time": "2023-01-06T15:36:52.484Z"
   },
   {
    "duration": 44,
    "start_time": "2023-01-06T15:36:52.499Z"
   },
   {
    "duration": 5,
    "start_time": "2023-01-06T15:36:52.545Z"
   },
   {
    "duration": 14,
    "start_time": "2023-01-06T15:36:52.551Z"
   },
   {
    "duration": 5,
    "start_time": "2023-01-06T15:36:52.567Z"
   },
   {
    "duration": 37,
    "start_time": "2023-01-06T15:36:52.576Z"
   },
   {
    "duration": 6,
    "start_time": "2023-01-06T15:36:52.614Z"
   },
   {
    "duration": 7,
    "start_time": "2023-01-06T15:36:52.621Z"
   },
   {
    "duration": 44,
    "start_time": "2023-01-06T15:36:52.629Z"
   },
   {
    "duration": 59,
    "start_time": "2023-01-06T15:36:52.675Z"
   },
   {
    "duration": 231,
    "start_time": "2023-01-06T15:36:52.735Z"
   },
   {
    "duration": 13,
    "start_time": "2023-01-06T15:36:52.968Z"
   },
   {
    "duration": 6,
    "start_time": "2023-01-06T15:36:52.983Z"
   },
   {
    "duration": 306,
    "start_time": "2023-01-06T15:36:52.991Z"
   },
   {
    "duration": 14,
    "start_time": "2023-01-06T15:36:53.299Z"
   },
   {
    "duration": 14,
    "start_time": "2023-01-06T15:36:53.314Z"
   },
   {
    "duration": 2896,
    "start_time": "2023-01-06T15:36:53.330Z"
   },
   {
    "duration": 7,
    "start_time": "2023-01-06T15:36:56.227Z"
   },
   {
    "duration": 21,
    "start_time": "2023-01-06T15:36:56.235Z"
   },
   {
    "duration": 2347,
    "start_time": "2023-01-06T15:36:56.258Z"
   },
   {
    "duration": 491,
    "start_time": "2023-01-06T15:36:58.606Z"
   },
   {
    "duration": 706,
    "start_time": "2023-01-06T15:36:59.099Z"
   },
   {
    "duration": 10,
    "start_time": "2023-01-06T15:36:59.806Z"
   },
   {
    "duration": 13,
    "start_time": "2023-01-06T15:36:59.819Z"
   },
   {
    "duration": 710,
    "start_time": "2023-01-06T15:36:59.834Z"
   },
   {
    "duration": 14,
    "start_time": "2023-01-06T15:37:00.546Z"
   },
   {
    "duration": 9,
    "start_time": "2023-01-06T15:37:00.562Z"
   },
   {
    "duration": 204,
    "start_time": "2023-01-06T15:37:00.573Z"
   },
   {
    "duration": 9,
    "start_time": "2023-01-06T15:37:00.779Z"
   },
   {
    "duration": 197,
    "start_time": "2023-01-06T15:37:00.790Z"
   },
   {
    "duration": 7,
    "start_time": "2023-01-06T15:37:00.990Z"
   },
   {
    "duration": 8,
    "start_time": "2023-01-06T15:37:01.014Z"
   },
   {
    "duration": 18,
    "start_time": "2023-01-06T15:37:01.024Z"
   },
   {
    "duration": 33,
    "start_time": "2023-01-06T15:37:01.044Z"
   },
   {
    "duration": 0,
    "start_time": "2023-01-06T15:37:01.079Z"
   },
   {
    "duration": 0,
    "start_time": "2023-01-06T15:37:01.080Z"
   },
   {
    "duration": 0,
    "start_time": "2023-01-06T15:37:01.082Z"
   },
   {
    "duration": 0,
    "start_time": "2023-01-06T15:37:01.083Z"
   },
   {
    "duration": 0,
    "start_time": "2023-01-06T15:37:01.085Z"
   },
   {
    "duration": 0,
    "start_time": "2023-01-06T15:37:01.087Z"
   },
   {
    "duration": 0,
    "start_time": "2023-01-06T15:37:01.088Z"
   },
   {
    "duration": 0,
    "start_time": "2023-01-06T15:37:01.089Z"
   },
   {
    "duration": 0,
    "start_time": "2023-01-06T15:37:01.091Z"
   },
   {
    "duration": 0,
    "start_time": "2023-01-06T15:37:01.093Z"
   },
   {
    "duration": 3,
    "start_time": "2023-01-06T15:37:38.653Z"
   },
   {
    "duration": 69,
    "start_time": "2023-01-06T15:37:38.659Z"
   },
   {
    "duration": 15,
    "start_time": "2023-01-06T15:37:38.731Z"
   },
   {
    "duration": 1557,
    "start_time": "2023-01-06T15:37:38.748Z"
   },
   {
    "duration": 18,
    "start_time": "2023-01-06T15:37:40.307Z"
   },
   {
    "duration": 37,
    "start_time": "2023-01-06T15:37:40.327Z"
   },
   {
    "duration": 7,
    "start_time": "2023-01-06T15:37:40.365Z"
   },
   {
    "duration": 40,
    "start_time": "2023-01-06T15:37:40.373Z"
   },
   {
    "duration": 5,
    "start_time": "2023-01-06T15:37:40.415Z"
   },
   {
    "duration": 19,
    "start_time": "2023-01-06T15:37:40.423Z"
   },
   {
    "duration": 16,
    "start_time": "2023-01-06T15:37:40.445Z"
   },
   {
    "duration": 8,
    "start_time": "2023-01-06T15:37:40.464Z"
   },
   {
    "duration": 89,
    "start_time": "2023-01-06T15:37:40.474Z"
   },
   {
    "duration": 50,
    "start_time": "2023-01-06T15:37:40.565Z"
   },
   {
    "duration": 10,
    "start_time": "2023-01-06T15:37:40.617Z"
   },
   {
    "duration": 19,
    "start_time": "2023-01-06T15:37:40.628Z"
   },
   {
    "duration": 8,
    "start_time": "2023-01-06T15:37:40.648Z"
   },
   {
    "duration": 314,
    "start_time": "2023-01-06T15:37:40.657Z"
   },
   {
    "duration": 9,
    "start_time": "2023-01-06T15:37:40.972Z"
   },
   {
    "duration": 13,
    "start_time": "2023-01-06T15:37:40.983Z"
   },
   {
    "duration": 3034,
    "start_time": "2023-01-06T15:37:40.998Z"
   },
   {
    "duration": 8,
    "start_time": "2023-01-06T15:37:44.033Z"
   },
   {
    "duration": 19,
    "start_time": "2023-01-06T15:37:44.042Z"
   },
   {
    "duration": 2591,
    "start_time": "2023-01-06T15:37:44.063Z"
   },
   {
    "duration": 472,
    "start_time": "2023-01-06T15:37:46.655Z"
   },
   {
    "duration": 623,
    "start_time": "2023-01-06T15:37:47.129Z"
   },
   {
    "duration": 5,
    "start_time": "2023-01-06T15:37:47.754Z"
   },
   {
    "duration": 14,
    "start_time": "2023-01-06T15:37:47.761Z"
   },
   {
    "duration": 652,
    "start_time": "2023-01-06T15:37:47.778Z"
   },
   {
    "duration": 12,
    "start_time": "2023-01-06T15:37:48.432Z"
   },
   {
    "duration": 7,
    "start_time": "2023-01-06T15:37:48.446Z"
   },
   {
    "duration": 190,
    "start_time": "2023-01-06T15:37:48.455Z"
   },
   {
    "duration": 7,
    "start_time": "2023-01-06T15:37:48.647Z"
   },
   {
    "duration": 175,
    "start_time": "2023-01-06T15:37:48.655Z"
   },
   {
    "duration": 7,
    "start_time": "2023-01-06T15:37:48.832Z"
   },
   {
    "duration": 7,
    "start_time": "2023-01-06T15:37:48.841Z"
   },
   {
    "duration": 6,
    "start_time": "2023-01-06T15:37:48.849Z"
   },
   {
    "duration": 115,
    "start_time": "2023-01-06T15:37:48.856Z"
   },
   {
    "duration": 7,
    "start_time": "2023-01-06T15:37:48.973Z"
   },
   {
    "duration": 8,
    "start_time": "2023-01-06T15:37:48.981Z"
   },
   {
    "duration": 26,
    "start_time": "2023-01-06T15:37:48.991Z"
   },
   {
    "duration": 4,
    "start_time": "2023-01-06T15:37:49.019Z"
   },
   {
    "duration": 129,
    "start_time": "2023-01-06T15:37:49.024Z"
   },
   {
    "duration": 7,
    "start_time": "2023-01-06T15:37:49.155Z"
   },
   {
    "duration": 10,
    "start_time": "2023-01-06T15:37:49.164Z"
   },
   {
    "duration": 4,
    "start_time": "2023-01-06T15:37:49.176Z"
   },
   {
    "duration": 118,
    "start_time": "2023-01-06T15:37:49.181Z"
   },
   {
    "duration": 16,
    "start_time": "2023-01-06T15:37:49.300Z"
   },
   {
    "duration": 3,
    "start_time": "2023-01-06T15:38:26.532Z"
   },
   {
    "duration": 85,
    "start_time": "2023-01-06T15:39:12.677Z"
   },
   {
    "duration": 6,
    "start_time": "2023-01-06T15:39:17.523Z"
   },
   {
    "duration": 9,
    "start_time": "2023-01-06T15:39:37.789Z"
   },
   {
    "duration": 3,
    "start_time": "2023-01-06T15:39:48.144Z"
   },
   {
    "duration": 70,
    "start_time": "2023-01-06T15:39:48.150Z"
   },
   {
    "duration": 15,
    "start_time": "2023-01-06T15:39:48.222Z"
   },
   {
    "duration": 1407,
    "start_time": "2023-01-06T15:39:48.239Z"
   },
   {
    "duration": 14,
    "start_time": "2023-01-06T15:39:49.647Z"
   },
   {
    "duration": 32,
    "start_time": "2023-01-06T15:39:49.663Z"
   },
   {
    "duration": 18,
    "start_time": "2023-01-06T15:39:49.697Z"
   },
   {
    "duration": 26,
    "start_time": "2023-01-06T15:39:49.717Z"
   },
   {
    "duration": 8,
    "start_time": "2023-01-06T15:39:49.745Z"
   },
   {
    "duration": 17,
    "start_time": "2023-01-06T15:39:49.754Z"
   },
   {
    "duration": 7,
    "start_time": "2023-01-06T15:39:49.772Z"
   },
   {
    "duration": 9,
    "start_time": "2023-01-06T15:39:49.780Z"
   },
   {
    "duration": 54,
    "start_time": "2023-01-06T15:39:49.791Z"
   },
   {
    "duration": 41,
    "start_time": "2023-01-06T15:39:49.847Z"
   },
   {
    "duration": 10,
    "start_time": "2023-01-06T15:39:49.889Z"
   },
   {
    "duration": 29,
    "start_time": "2023-01-06T15:39:49.900Z"
   },
   {
    "duration": 7,
    "start_time": "2023-01-06T15:39:49.930Z"
   },
   {
    "duration": 310,
    "start_time": "2023-01-06T15:39:49.938Z"
   },
   {
    "duration": 8,
    "start_time": "2023-01-06T15:39:50.250Z"
   },
   {
    "duration": 36,
    "start_time": "2023-01-06T15:39:50.260Z"
   },
   {
    "duration": 2911,
    "start_time": "2023-01-06T15:39:50.298Z"
   },
   {
    "duration": 8,
    "start_time": "2023-01-06T15:39:53.212Z"
   },
   {
    "duration": 12,
    "start_time": "2023-01-06T15:39:53.221Z"
   },
   {
    "duration": 2595,
    "start_time": "2023-01-06T15:39:53.237Z"
   },
   {
    "duration": 509,
    "start_time": "2023-01-06T15:39:55.834Z"
   },
   {
    "duration": 679,
    "start_time": "2023-01-06T15:39:56.345Z"
   },
   {
    "duration": 7,
    "start_time": "2023-01-06T15:39:57.025Z"
   },
   {
    "duration": 18,
    "start_time": "2023-01-06T15:39:57.034Z"
   },
   {
    "duration": 649,
    "start_time": "2023-01-06T15:39:57.054Z"
   },
   {
    "duration": 18,
    "start_time": "2023-01-06T15:39:57.705Z"
   },
   {
    "duration": 11,
    "start_time": "2023-01-06T15:39:57.725Z"
   },
   {
    "duration": 181,
    "start_time": "2023-01-06T15:39:57.738Z"
   },
   {
    "duration": 8,
    "start_time": "2023-01-06T15:39:57.921Z"
   },
   {
    "duration": 185,
    "start_time": "2023-01-06T15:39:57.931Z"
   },
   {
    "duration": 8,
    "start_time": "2023-01-06T15:39:58.117Z"
   },
   {
    "duration": 18,
    "start_time": "2023-01-06T15:39:58.126Z"
   },
   {
    "duration": 18,
    "start_time": "2023-01-06T15:39:58.145Z"
   },
   {
    "duration": 120,
    "start_time": "2023-01-06T15:39:58.165Z"
   },
   {
    "duration": 6,
    "start_time": "2023-01-06T15:39:58.286Z"
   },
   {
    "duration": 17,
    "start_time": "2023-01-06T15:39:58.294Z"
   },
   {
    "duration": 14,
    "start_time": "2023-01-06T15:39:58.313Z"
   },
   {
    "duration": 25,
    "start_time": "2023-01-06T15:39:58.328Z"
   },
   {
    "duration": 108,
    "start_time": "2023-01-06T15:39:58.355Z"
   },
   {
    "duration": 5,
    "start_time": "2023-01-06T15:39:58.465Z"
   },
   {
    "duration": 16,
    "start_time": "2023-01-06T15:39:58.471Z"
   },
   {
    "duration": 11,
    "start_time": "2023-01-06T15:39:58.488Z"
   },
   {
    "duration": 105,
    "start_time": "2023-01-06T15:39:58.500Z"
   },
   {
    "duration": 6,
    "start_time": "2023-01-06T15:39:58.607Z"
   },
   {
    "duration": 8,
    "start_time": "2023-01-06T15:41:06.280Z"
   },
   {
    "duration": 115,
    "start_time": "2023-01-06T15:41:44.293Z"
   },
   {
    "duration": 3,
    "start_time": "2023-01-06T15:41:51.019Z"
   },
   {
    "duration": 65,
    "start_time": "2023-01-06T15:41:51.023Z"
   },
   {
    "duration": 14,
    "start_time": "2023-01-06T15:41:51.090Z"
   },
   {
    "duration": 1336,
    "start_time": "2023-01-06T15:41:51.106Z"
   },
   {
    "duration": 16,
    "start_time": "2023-01-06T15:41:52.444Z"
   },
   {
    "duration": 52,
    "start_time": "2023-01-06T15:41:52.462Z"
   },
   {
    "duration": 8,
    "start_time": "2023-01-06T15:41:52.516Z"
   },
   {
    "duration": 15,
    "start_time": "2023-01-06T15:41:52.526Z"
   },
   {
    "duration": 5,
    "start_time": "2023-01-06T15:41:52.543Z"
   },
   {
    "duration": 14,
    "start_time": "2023-01-06T15:41:52.549Z"
   },
   {
    "duration": 5,
    "start_time": "2023-01-06T15:41:52.565Z"
   },
   {
    "duration": 17,
    "start_time": "2023-01-06T15:41:52.571Z"
   },
   {
    "duration": 60,
    "start_time": "2023-01-06T15:41:52.590Z"
   },
   {
    "duration": 40,
    "start_time": "2023-01-06T15:41:52.651Z"
   },
   {
    "duration": 22,
    "start_time": "2023-01-06T15:41:52.692Z"
   },
   {
    "duration": 15,
    "start_time": "2023-01-06T15:41:52.716Z"
   },
   {
    "duration": 7,
    "start_time": "2023-01-06T15:41:52.732Z"
   },
   {
    "duration": 324,
    "start_time": "2023-01-06T15:41:52.741Z"
   },
   {
    "duration": 12,
    "start_time": "2023-01-06T15:41:53.067Z"
   },
   {
    "duration": 31,
    "start_time": "2023-01-06T15:41:53.081Z"
   },
   {
    "duration": 2923,
    "start_time": "2023-01-06T15:41:53.114Z"
   },
   {
    "duration": 7,
    "start_time": "2023-01-06T15:41:56.039Z"
   },
   {
    "duration": 10,
    "start_time": "2023-01-06T15:41:56.047Z"
   },
   {
    "duration": 1975,
    "start_time": "2023-01-06T15:41:56.060Z"
   },
   {
    "duration": 517,
    "start_time": "2023-01-06T15:41:58.037Z"
   },
   {
    "duration": 1238,
    "start_time": "2023-01-06T15:41:58.556Z"
   },
   {
    "duration": 19,
    "start_time": "2023-01-06T15:41:59.796Z"
   },
   {
    "duration": 12,
    "start_time": "2023-01-06T15:41:59.817Z"
   },
   {
    "duration": 660,
    "start_time": "2023-01-06T15:41:59.831Z"
   },
   {
    "duration": 21,
    "start_time": "2023-01-06T15:42:00.493Z"
   },
   {
    "duration": 7,
    "start_time": "2023-01-06T15:42:00.516Z"
   },
   {
    "duration": 183,
    "start_time": "2023-01-06T15:42:00.525Z"
   },
   {
    "duration": 8,
    "start_time": "2023-01-06T15:42:00.712Z"
   },
   {
    "duration": 178,
    "start_time": "2023-01-06T15:42:00.722Z"
   },
   {
    "duration": 14,
    "start_time": "2023-01-06T15:42:00.903Z"
   },
   {
    "duration": 26,
    "start_time": "2023-01-06T15:42:00.918Z"
   },
   {
    "duration": 15,
    "start_time": "2023-01-06T15:42:00.946Z"
   },
   {
    "duration": 118,
    "start_time": "2023-01-06T15:42:00.963Z"
   },
   {
    "duration": 6,
    "start_time": "2023-01-06T15:42:01.082Z"
   },
   {
    "duration": 13,
    "start_time": "2023-01-06T15:42:01.089Z"
   },
   {
    "duration": 30,
    "start_time": "2023-01-06T15:42:01.103Z"
   },
   {
    "duration": 6,
    "start_time": "2023-01-06T15:42:01.135Z"
   },
   {
    "duration": 110,
    "start_time": "2023-01-06T15:42:01.142Z"
   },
   {
    "duration": 6,
    "start_time": "2023-01-06T15:42:01.253Z"
   },
   {
    "duration": 21,
    "start_time": "2023-01-06T15:42:01.261Z"
   },
   {
    "duration": 5,
    "start_time": "2023-01-06T15:42:01.284Z"
   },
   {
    "duration": 101,
    "start_time": "2023-01-06T15:42:01.290Z"
   },
   {
    "duration": 6,
    "start_time": "2023-01-06T15:42:01.393Z"
   },
   {
    "duration": 8,
    "start_time": "2023-01-06T15:42:21.806Z"
   },
   {
    "duration": 8,
    "start_time": "2023-01-06T15:42:26.562Z"
   },
   {
    "duration": 5,
    "start_time": "2023-01-06T15:42:26.572Z"
   },
   {
    "duration": 102,
    "start_time": "2023-01-06T15:42:26.579Z"
   },
   {
    "duration": 5,
    "start_time": "2023-01-06T15:42:26.683Z"
   },
   {
    "duration": 12,
    "start_time": "2023-01-06T15:50:51.488Z"
   },
   {
    "duration": 9,
    "start_time": "2023-01-06T15:51:02.494Z"
   },
   {
    "duration": 9,
    "start_time": "2023-01-06T15:52:41.516Z"
   },
   {
    "duration": 9,
    "start_time": "2023-01-06T15:54:23.408Z"
   },
   {
    "duration": 13,
    "start_time": "2023-01-06T15:54:32.292Z"
   },
   {
    "duration": 7,
    "start_time": "2023-01-06T15:55:09.416Z"
   },
   {
    "duration": 23,
    "start_time": "2023-01-06T15:55:44.070Z"
   },
   {
    "duration": 7,
    "start_time": "2023-01-06T15:56:01.561Z"
   },
   {
    "duration": 26,
    "start_time": "2023-01-06T15:56:07.256Z"
   },
   {
    "duration": 7,
    "start_time": "2023-01-06T16:11:49.244Z"
   },
   {
    "duration": 7,
    "start_time": "2023-01-06T16:12:19.804Z"
   },
   {
    "duration": 5,
    "start_time": "2023-01-06T16:12:36.644Z"
   },
   {
    "duration": 8,
    "start_time": "2023-01-06T16:12:44.437Z"
   },
   {
    "duration": 5,
    "start_time": "2023-01-06T16:13:40.770Z"
   },
   {
    "duration": 7,
    "start_time": "2023-01-06T16:13:47.478Z"
   },
   {
    "duration": 10,
    "start_time": "2023-01-06T16:15:44.779Z"
   },
   {
    "duration": 8,
    "start_time": "2023-01-06T16:15:49.957Z"
   },
   {
    "duration": 6,
    "start_time": "2023-01-06T16:15:55.115Z"
   },
   {
    "duration": 8,
    "start_time": "2023-01-06T16:16:01.416Z"
   },
   {
    "duration": 3,
    "start_time": "2023-01-06T16:17:32.346Z"
   },
   {
    "duration": 3,
    "start_time": "2023-01-06T16:17:42.045Z"
   },
   {
    "duration": 731,
    "start_time": "2023-01-06T16:23:45.974Z"
   },
   {
    "duration": 5,
    "start_time": "2023-01-06T16:24:47.230Z"
   },
   {
    "duration": 3,
    "start_time": "2023-01-06T16:28:17.749Z"
   },
   {
    "duration": 67,
    "start_time": "2023-01-06T16:28:17.754Z"
   },
   {
    "duration": 12,
    "start_time": "2023-01-06T16:28:17.824Z"
   },
   {
    "duration": 1366,
    "start_time": "2023-01-06T16:28:17.838Z"
   },
   {
    "duration": 16,
    "start_time": "2023-01-06T16:28:19.206Z"
   },
   {
    "duration": 36,
    "start_time": "2023-01-06T16:28:19.224Z"
   },
   {
    "duration": 5,
    "start_time": "2023-01-06T16:28:19.262Z"
   },
   {
    "duration": 14,
    "start_time": "2023-01-06T16:28:19.269Z"
   },
   {
    "duration": 9,
    "start_time": "2023-01-06T16:28:19.285Z"
   },
   {
    "duration": 17,
    "start_time": "2023-01-06T16:28:19.311Z"
   },
   {
    "duration": 7,
    "start_time": "2023-01-06T16:28:19.332Z"
   },
   {
    "duration": 16,
    "start_time": "2023-01-06T16:28:19.341Z"
   },
   {
    "duration": 58,
    "start_time": "2023-01-06T16:28:19.362Z"
   },
   {
    "duration": 40,
    "start_time": "2023-01-06T16:28:19.421Z"
   },
   {
    "duration": 8,
    "start_time": "2023-01-06T16:28:19.463Z"
   },
   {
    "duration": 24,
    "start_time": "2023-01-06T16:28:19.473Z"
   },
   {
    "duration": 7,
    "start_time": "2023-01-06T16:28:19.513Z"
   },
   {
    "duration": 274,
    "start_time": "2023-01-06T16:28:19.522Z"
   },
   {
    "duration": 16,
    "start_time": "2023-01-06T16:28:19.797Z"
   },
   {
    "duration": 12,
    "start_time": "2023-01-06T16:28:19.815Z"
   },
   {
    "duration": 2843,
    "start_time": "2023-01-06T16:28:19.829Z"
   },
   {
    "duration": 7,
    "start_time": "2023-01-06T16:28:22.673Z"
   },
   {
    "duration": 9,
    "start_time": "2023-01-06T16:28:22.681Z"
   },
   {
    "duration": 1862,
    "start_time": "2023-01-06T16:28:22.691Z"
   },
   {
    "duration": 534,
    "start_time": "2023-01-06T16:28:24.555Z"
   },
   {
    "duration": 631,
    "start_time": "2023-01-06T16:28:25.091Z"
   },
   {
    "duration": 6,
    "start_time": "2023-01-06T16:28:25.724Z"
   },
   {
    "duration": 20,
    "start_time": "2023-01-06T16:28:25.731Z"
   },
   {
    "duration": 667,
    "start_time": "2023-01-06T16:28:25.754Z"
   },
   {
    "duration": 13,
    "start_time": "2023-01-06T16:28:26.423Z"
   },
   {
    "duration": 9,
    "start_time": "2023-01-06T16:28:26.437Z"
   },
   {
    "duration": 242,
    "start_time": "2023-01-06T16:28:26.448Z"
   },
   {
    "duration": 7,
    "start_time": "2023-01-06T16:28:26.692Z"
   },
   {
    "duration": 173,
    "start_time": "2023-01-06T16:28:26.701Z"
   },
   {
    "duration": 8,
    "start_time": "2023-01-06T16:28:26.876Z"
   },
   {
    "duration": 5,
    "start_time": "2023-01-06T16:28:26.885Z"
   },
   {
    "duration": 4,
    "start_time": "2023-01-06T16:28:26.892Z"
   },
   {
    "duration": 125,
    "start_time": "2023-01-06T16:28:26.897Z"
   },
   {
    "duration": 5,
    "start_time": "2023-01-06T16:28:27.024Z"
   },
   {
    "duration": 12,
    "start_time": "2023-01-06T16:28:27.031Z"
   },
   {
    "duration": 7,
    "start_time": "2023-01-06T16:28:27.044Z"
   },
   {
    "duration": 7,
    "start_time": "2023-01-06T16:28:27.053Z"
   },
   {
    "duration": 117,
    "start_time": "2023-01-06T16:28:27.061Z"
   },
   {
    "duration": 5,
    "start_time": "2023-01-06T16:28:27.180Z"
   },
   {
    "duration": 7,
    "start_time": "2023-01-06T16:28:27.187Z"
   },
   {
    "duration": 21,
    "start_time": "2023-01-06T16:28:27.195Z"
   },
   {
    "duration": 2,
    "start_time": "2023-01-06T16:28:27.218Z"
   },
   {
    "duration": 112,
    "start_time": "2023-01-06T16:28:27.222Z"
   },
   {
    "duration": 5,
    "start_time": "2023-01-06T16:28:27.336Z"
   },
   {
    "duration": 8,
    "start_time": "2023-01-06T16:28:27.343Z"
   },
   {
    "duration": 8,
    "start_time": "2023-01-06T16:28:53.636Z"
   },
   {
    "duration": 4,
    "start_time": "2023-01-06T16:29:02.671Z"
   },
   {
    "duration": 104,
    "start_time": "2023-01-06T16:29:04.536Z"
   },
   {
    "duration": 8,
    "start_time": "2023-01-06T16:32:27.039Z"
   },
   {
    "duration": 708,
    "start_time": "2023-01-06T16:32:30.426Z"
   },
   {
    "duration": 772,
    "start_time": "2023-01-06T16:33:12.073Z"
   },
   {
    "duration": 8,
    "start_time": "2023-01-06T16:33:14.537Z"
   },
   {
    "duration": 6,
    "start_time": "2023-01-06T16:33:30.559Z"
   },
   {
    "duration": 99,
    "start_time": "2023-01-06T16:33:30.567Z"
   },
   {
    "duration": 51,
    "start_time": "2023-01-06T16:33:30.668Z"
   },
   {
    "duration": 2277,
    "start_time": "2023-01-06T16:33:30.723Z"
   },
   {
    "duration": 21,
    "start_time": "2023-01-06T16:33:33.001Z"
   },
   {
    "duration": 47,
    "start_time": "2023-01-06T16:33:33.024Z"
   },
   {
    "duration": 7,
    "start_time": "2023-01-06T16:33:33.073Z"
   },
   {
    "duration": 31,
    "start_time": "2023-01-06T16:33:33.082Z"
   },
   {
    "duration": 7,
    "start_time": "2023-01-06T16:33:33.115Z"
   },
   {
    "duration": 16,
    "start_time": "2023-01-06T16:33:33.125Z"
   },
   {
    "duration": 6,
    "start_time": "2023-01-06T16:33:33.143Z"
   },
   {
    "duration": 7,
    "start_time": "2023-01-06T16:33:33.151Z"
   },
   {
    "duration": 79,
    "start_time": "2023-01-06T16:33:33.160Z"
   },
   {
    "duration": 45,
    "start_time": "2023-01-06T16:33:33.240Z"
   },
   {
    "duration": 29,
    "start_time": "2023-01-06T16:33:33.287Z"
   },
   {
    "duration": 21,
    "start_time": "2023-01-06T16:33:33.318Z"
   },
   {
    "duration": 27,
    "start_time": "2023-01-06T16:33:33.343Z"
   },
   {
    "duration": 380,
    "start_time": "2023-01-06T16:33:33.373Z"
   },
   {
    "duration": 10,
    "start_time": "2023-01-06T16:33:33.754Z"
   },
   {
    "duration": 22,
    "start_time": "2023-01-06T16:33:33.767Z"
   },
   {
    "duration": 3285,
    "start_time": "2023-01-06T16:33:33.792Z"
   },
   {
    "duration": 7,
    "start_time": "2023-01-06T16:33:37.079Z"
   },
   {
    "duration": 25,
    "start_time": "2023-01-06T16:33:37.088Z"
   },
   {
    "duration": 2099,
    "start_time": "2023-01-06T16:33:37.115Z"
   },
   {
    "duration": 562,
    "start_time": "2023-01-06T16:33:39.216Z"
   },
   {
    "duration": 736,
    "start_time": "2023-01-06T16:33:39.780Z"
   },
   {
    "duration": 7,
    "start_time": "2023-01-06T16:33:40.518Z"
   },
   {
    "duration": 12,
    "start_time": "2023-01-06T16:33:40.530Z"
   },
   {
    "duration": 715,
    "start_time": "2023-01-06T16:33:40.543Z"
   },
   {
    "duration": 12,
    "start_time": "2023-01-06T16:33:41.259Z"
   },
   {
    "duration": 7,
    "start_time": "2023-01-06T16:33:41.273Z"
   },
   {
    "duration": 200,
    "start_time": "2023-01-06T16:33:41.282Z"
   },
   {
    "duration": 8,
    "start_time": "2023-01-06T16:33:41.484Z"
   },
   {
    "duration": 230,
    "start_time": "2023-01-06T16:33:41.494Z"
   },
   {
    "duration": 8,
    "start_time": "2023-01-06T16:33:41.726Z"
   },
   {
    "duration": 26,
    "start_time": "2023-01-06T16:33:41.736Z"
   },
   {
    "duration": 22,
    "start_time": "2023-01-06T16:33:41.764Z"
   },
   {
    "duration": 140,
    "start_time": "2023-01-06T16:33:41.788Z"
   },
   {
    "duration": 7,
    "start_time": "2023-01-06T16:33:41.930Z"
   },
   {
    "duration": 24,
    "start_time": "2023-01-06T16:33:41.939Z"
   },
   {
    "duration": 16,
    "start_time": "2023-01-06T16:33:41.964Z"
   },
   {
    "duration": 11,
    "start_time": "2023-01-06T16:33:41.982Z"
   },
   {
    "duration": 108,
    "start_time": "2023-01-06T16:33:41.995Z"
   },
   {
    "duration": 8,
    "start_time": "2023-01-06T16:33:42.106Z"
   },
   {
    "duration": 11,
    "start_time": "2023-01-06T16:33:42.115Z"
   },
   {
    "duration": 9,
    "start_time": "2023-01-06T16:33:42.128Z"
   },
   {
    "duration": 6,
    "start_time": "2023-01-06T16:33:42.139Z"
   },
   {
    "duration": 133,
    "start_time": "2023-01-06T16:33:42.147Z"
   },
   {
    "duration": 7,
    "start_time": "2023-01-06T16:33:42.283Z"
   },
   {
    "duration": 21,
    "start_time": "2023-01-06T16:33:42.291Z"
   },
   {
    "duration": 8,
    "start_time": "2023-01-06T16:33:42.314Z"
   },
   {
    "duration": 8,
    "start_time": "2023-01-06T16:33:42.324Z"
   },
   {
    "duration": 130,
    "start_time": "2023-01-06T16:33:42.334Z"
   },
   {
    "duration": 6,
    "start_time": "2023-01-06T16:33:42.465Z"
   },
   {
    "duration": 12,
    "start_time": "2023-01-06T16:33:42.473Z"
   },
   {
    "duration": 10,
    "start_time": "2023-01-06T16:33:42.487Z"
   },
   {
    "duration": 117,
    "start_time": "2023-01-06T16:34:03.782Z"
   },
   {
    "duration": 5,
    "start_time": "2023-01-06T16:35:12.472Z"
   },
   {
    "duration": 146,
    "start_time": "2023-01-06T16:35:18.116Z"
   },
   {
    "duration": 7,
    "start_time": "2023-01-06T16:35:21.715Z"
   },
   {
    "duration": 4,
    "start_time": "2023-01-06T16:35:25.368Z"
   },
   {
    "duration": 101,
    "start_time": "2023-01-06T16:37:57.081Z"
   },
   {
    "duration": 5,
    "start_time": "2023-01-06T16:38:46.572Z"
   },
   {
    "duration": 105,
    "start_time": "2023-01-06T16:39:34.886Z"
   },
   {
    "duration": 139,
    "start_time": "2023-01-06T16:40:24.805Z"
   },
   {
    "duration": 111,
    "start_time": "2023-01-06T16:41:06.146Z"
   },
   {
    "duration": 6,
    "start_time": "2023-01-06T16:41:16.848Z"
   },
   {
    "duration": 4,
    "start_time": "2023-01-06T16:41:52.107Z"
   },
   {
    "duration": 105,
    "start_time": "2023-01-06T16:41:58.224Z"
   },
   {
    "duration": 113,
    "start_time": "2023-01-06T16:42:10.322Z"
   },
   {
    "duration": 107,
    "start_time": "2023-01-06T16:42:25.941Z"
   },
   {
    "duration": 6,
    "start_time": "2023-01-06T16:45:41.623Z"
   },
   {
    "duration": 4,
    "start_time": "2023-01-06T16:45:50.136Z"
   },
   {
    "duration": 14,
    "start_time": "2023-01-06T16:56:59.333Z"
   },
   {
    "duration": 21,
    "start_time": "2023-01-06T16:57:17.351Z"
   },
   {
    "duration": 9,
    "start_time": "2023-01-06T16:57:40.204Z"
   },
   {
    "duration": 5,
    "start_time": "2023-01-06T16:58:39.906Z"
   },
   {
    "duration": 5,
    "start_time": "2023-01-06T16:58:50.356Z"
   },
   {
    "duration": 3,
    "start_time": "2023-01-06T16:58:59.110Z"
   },
   {
    "duration": 67,
    "start_time": "2023-01-06T16:58:59.115Z"
   },
   {
    "duration": 14,
    "start_time": "2023-01-06T16:58:59.185Z"
   },
   {
    "duration": 2053,
    "start_time": "2023-01-06T16:58:59.214Z"
   },
   {
    "duration": 13,
    "start_time": "2023-01-06T16:59:01.269Z"
   },
   {
    "duration": 47,
    "start_time": "2023-01-06T16:59:01.284Z"
   },
   {
    "duration": 4,
    "start_time": "2023-01-06T16:59:01.333Z"
   },
   {
    "duration": 11,
    "start_time": "2023-01-06T16:59:01.339Z"
   },
   {
    "duration": 8,
    "start_time": "2023-01-06T16:59:01.353Z"
   },
   {
    "duration": 15,
    "start_time": "2023-01-06T16:59:01.363Z"
   },
   {
    "duration": 4,
    "start_time": "2023-01-06T16:59:01.380Z"
   },
   {
    "duration": 26,
    "start_time": "2023-01-06T16:59:01.386Z"
   },
   {
    "duration": 42,
    "start_time": "2023-01-06T16:59:01.414Z"
   },
   {
    "duration": 55,
    "start_time": "2023-01-06T16:59:01.458Z"
   },
   {
    "duration": 10,
    "start_time": "2023-01-06T16:59:01.515Z"
   },
   {
    "duration": 70,
    "start_time": "2023-01-06T16:59:01.526Z"
   },
   {
    "duration": 24,
    "start_time": "2023-01-06T16:59:01.597Z"
   },
   {
    "duration": 21,
    "start_time": "2023-01-06T16:59:01.622Z"
   },
   {
    "duration": 43,
    "start_time": "2023-01-06T16:59:01.645Z"
   },
   {
    "duration": 23,
    "start_time": "2023-01-06T16:59:01.690Z"
   },
   {
    "duration": 305,
    "start_time": "2023-01-06T16:59:01.715Z"
   },
   {
    "duration": 10,
    "start_time": "2023-01-06T16:59:02.022Z"
   },
   {
    "duration": 24,
    "start_time": "2023-01-06T16:59:02.034Z"
   },
   {
    "duration": 3033,
    "start_time": "2023-01-06T16:59:02.063Z"
   },
   {
    "duration": 7,
    "start_time": "2023-01-06T16:59:05.098Z"
   },
   {
    "duration": 8,
    "start_time": "2023-01-06T16:59:05.112Z"
   },
   {
    "duration": 1933,
    "start_time": "2023-01-06T16:59:05.121Z"
   },
   {
    "duration": 477,
    "start_time": "2023-01-06T16:59:07.055Z"
   },
   {
    "duration": 653,
    "start_time": "2023-01-06T16:59:07.533Z"
   },
   {
    "duration": 6,
    "start_time": "2023-01-06T16:59:08.188Z"
   },
   {
    "duration": 24,
    "start_time": "2023-01-06T16:59:08.196Z"
   },
   {
    "duration": 623,
    "start_time": "2023-01-06T16:59:08.222Z"
   },
   {
    "duration": 11,
    "start_time": "2023-01-06T16:59:08.847Z"
   },
   {
    "duration": 7,
    "start_time": "2023-01-06T16:59:08.860Z"
   },
   {
    "duration": 198,
    "start_time": "2023-01-06T16:59:08.869Z"
   },
   {
    "duration": 7,
    "start_time": "2023-01-06T16:59:09.069Z"
   },
   {
    "duration": 194,
    "start_time": "2023-01-06T16:59:09.078Z"
   },
   {
    "duration": 8,
    "start_time": "2023-01-06T16:59:09.273Z"
   },
   {
    "duration": 10,
    "start_time": "2023-01-06T16:59:09.283Z"
   },
   {
    "duration": 18,
    "start_time": "2023-01-06T16:59:09.295Z"
   },
   {
    "duration": 117,
    "start_time": "2023-01-06T16:59:09.315Z"
   },
   {
    "duration": 6,
    "start_time": "2023-01-06T16:59:09.434Z"
   },
   {
    "duration": 9,
    "start_time": "2023-01-06T16:59:09.441Z"
   },
   {
    "duration": 7,
    "start_time": "2023-01-06T16:59:09.451Z"
   },
   {
    "duration": 5,
    "start_time": "2023-01-06T16:59:09.459Z"
   },
   {
    "duration": 119,
    "start_time": "2023-01-06T16:59:09.465Z"
   },
   {
    "duration": 6,
    "start_time": "2023-01-06T16:59:09.585Z"
   },
   {
    "duration": 21,
    "start_time": "2023-01-06T16:59:09.593Z"
   },
   {
    "duration": 8,
    "start_time": "2023-01-06T16:59:09.615Z"
   },
   {
    "duration": 5,
    "start_time": "2023-01-06T16:59:09.624Z"
   },
   {
    "duration": 106,
    "start_time": "2023-01-06T16:59:09.630Z"
   },
   {
    "duration": 6,
    "start_time": "2023-01-06T16:59:09.737Z"
   },
   {
    "duration": 8,
    "start_time": "2023-01-06T16:59:09.744Z"
   },
   {
    "duration": 8,
    "start_time": "2023-01-06T16:59:09.753Z"
   },
   {
    "duration": 4,
    "start_time": "2023-01-06T16:59:09.763Z"
   },
   {
    "duration": 144,
    "start_time": "2023-01-06T16:59:09.768Z"
   },
   {
    "duration": 7,
    "start_time": "2023-01-06T16:59:09.914Z"
   },
   {
    "duration": 9,
    "start_time": "2023-01-06T16:59:09.922Z"
   },
   {
    "duration": 7,
    "start_time": "2023-01-06T16:59:09.933Z"
   },
   {
    "duration": 124,
    "start_time": "2023-01-06T16:59:09.942Z"
   },
   {
    "duration": 7,
    "start_time": "2023-01-06T16:59:10.067Z"
   },
   {
    "duration": 9,
    "start_time": "2023-01-06T16:59:10.075Z"
   },
   {
    "duration": 116,
    "start_time": "2023-01-06T16:59:10.085Z"
   },
   {
    "duration": 5,
    "start_time": "2023-01-06T16:59:10.212Z"
   },
   {
    "duration": 115,
    "start_time": "2023-01-06T17:01:48.402Z"
   },
   {
    "duration": 4,
    "start_time": "2023-01-06T17:02:17.708Z"
   },
   {
    "duration": 5,
    "start_time": "2023-01-06T17:03:06.457Z"
   },
   {
    "duration": 7,
    "start_time": "2023-01-06T17:03:09.522Z"
   },
   {
    "duration": 101,
    "start_time": "2023-01-06T17:03:11.337Z"
   },
   {
    "duration": 3,
    "start_time": "2023-01-06T17:03:14.915Z"
   },
   {
    "duration": 68,
    "start_time": "2023-01-06T17:03:14.920Z"
   },
   {
    "duration": 13,
    "start_time": "2023-01-06T17:03:14.990Z"
   },
   {
    "duration": 1368,
    "start_time": "2023-01-06T17:03:15.005Z"
   },
   {
    "duration": 14,
    "start_time": "2023-01-06T17:03:16.375Z"
   },
   {
    "duration": 52,
    "start_time": "2023-01-06T17:03:16.391Z"
   },
   {
    "duration": 5,
    "start_time": "2023-01-06T17:03:16.445Z"
   },
   {
    "duration": 17,
    "start_time": "2023-01-06T17:03:16.452Z"
   },
   {
    "duration": 5,
    "start_time": "2023-01-06T17:03:16.472Z"
   },
   {
    "duration": 34,
    "start_time": "2023-01-06T17:03:16.479Z"
   },
   {
    "duration": 10,
    "start_time": "2023-01-06T17:03:16.515Z"
   },
   {
    "duration": 13,
    "start_time": "2023-01-06T17:03:16.527Z"
   },
   {
    "duration": 67,
    "start_time": "2023-01-06T17:03:16.542Z"
   },
   {
    "duration": 49,
    "start_time": "2023-01-06T17:03:16.611Z"
   },
   {
    "duration": 12,
    "start_time": "2023-01-06T17:03:16.663Z"
   },
   {
    "duration": 21,
    "start_time": "2023-01-06T17:03:16.677Z"
   },
   {
    "duration": 6,
    "start_time": "2023-01-06T17:03:16.712Z"
   },
   {
    "duration": 18,
    "start_time": "2023-01-06T17:03:16.719Z"
   },
   {
    "duration": 21,
    "start_time": "2023-01-06T17:03:16.739Z"
   },
   {
    "duration": 24,
    "start_time": "2023-01-06T17:03:16.762Z"
   },
   {
    "duration": 272,
    "start_time": "2023-01-06T17:03:16.787Z"
   },
   {
    "duration": 9,
    "start_time": "2023-01-06T17:03:17.060Z"
   },
   {
    "duration": 45,
    "start_time": "2023-01-06T17:03:17.071Z"
   },
   {
    "duration": 3159,
    "start_time": "2023-01-06T17:03:17.120Z"
   },
   {
    "duration": 7,
    "start_time": "2023-01-06T17:03:20.281Z"
   },
   {
    "duration": 17,
    "start_time": "2023-01-06T17:03:20.289Z"
   },
   {
    "duration": 2700,
    "start_time": "2023-01-06T17:03:20.307Z"
   },
   {
    "duration": 493,
    "start_time": "2023-01-06T17:03:23.009Z"
   },
   {
    "duration": 667,
    "start_time": "2023-01-06T17:03:23.504Z"
   },
   {
    "duration": 7,
    "start_time": "2023-01-06T17:03:24.173Z"
   },
   {
    "duration": 68,
    "start_time": "2023-01-06T17:03:24.183Z"
   },
   {
    "duration": 690,
    "start_time": "2023-01-06T17:03:24.253Z"
   },
   {
    "duration": 11,
    "start_time": "2023-01-06T17:03:24.945Z"
   },
   {
    "duration": 7,
    "start_time": "2023-01-06T17:03:24.958Z"
   },
   {
    "duration": 197,
    "start_time": "2023-01-06T17:03:24.967Z"
   },
   {
    "duration": 9,
    "start_time": "2023-01-06T17:03:25.165Z"
   },
   {
    "duration": 191,
    "start_time": "2023-01-06T17:03:25.175Z"
   },
   {
    "duration": 8,
    "start_time": "2023-01-06T17:03:25.368Z"
   },
   {
    "duration": 9,
    "start_time": "2023-01-06T17:03:25.377Z"
   },
   {
    "duration": 19,
    "start_time": "2023-01-06T17:03:25.387Z"
   },
   {
    "duration": 123,
    "start_time": "2023-01-06T17:03:25.408Z"
   },
   {
    "duration": 6,
    "start_time": "2023-01-06T17:03:25.533Z"
   },
   {
    "duration": 12,
    "start_time": "2023-01-06T17:03:25.541Z"
   },
   {
    "duration": 10,
    "start_time": "2023-01-06T17:03:25.554Z"
   },
   {
    "duration": 5,
    "start_time": "2023-01-06T17:03:25.566Z"
   },
   {
    "duration": 128,
    "start_time": "2023-01-06T17:03:25.573Z"
   },
   {
    "duration": 6,
    "start_time": "2023-01-06T17:03:25.711Z"
   },
   {
    "duration": 11,
    "start_time": "2023-01-06T17:03:25.719Z"
   },
   {
    "duration": 13,
    "start_time": "2023-01-06T17:03:25.732Z"
   },
   {
    "duration": 11,
    "start_time": "2023-01-06T17:03:25.746Z"
   },
   {
    "duration": 119,
    "start_time": "2023-01-06T17:03:25.759Z"
   },
   {
    "duration": 6,
    "start_time": "2023-01-06T17:03:25.880Z"
   },
   {
    "duration": 12,
    "start_time": "2023-01-06T17:03:25.887Z"
   },
   {
    "duration": 15,
    "start_time": "2023-01-06T17:03:25.901Z"
   },
   {
    "duration": 5,
    "start_time": "2023-01-06T17:03:25.918Z"
   },
   {
    "duration": 127,
    "start_time": "2023-01-06T17:03:25.924Z"
   },
   {
    "duration": 6,
    "start_time": "2023-01-06T17:03:26.053Z"
   },
   {
    "duration": 12,
    "start_time": "2023-01-06T17:03:26.061Z"
   },
   {
    "duration": 9,
    "start_time": "2023-01-06T17:03:26.075Z"
   },
   {
    "duration": 133,
    "start_time": "2023-01-06T17:03:26.085Z"
   },
   {
    "duration": 8,
    "start_time": "2023-01-06T17:03:26.219Z"
   },
   {
    "duration": 6,
    "start_time": "2023-01-06T17:03:26.229Z"
   },
   {
    "duration": 140,
    "start_time": "2023-01-06T17:03:26.237Z"
   },
   {
    "duration": 6,
    "start_time": "2023-01-06T17:03:26.380Z"
   },
   {
    "duration": 6,
    "start_time": "2023-01-06T17:04:22.552Z"
   },
   {
    "duration": 24,
    "start_time": "2023-01-06T17:06:20.937Z"
   },
   {
    "duration": 10,
    "start_time": "2023-01-06T17:07:10.857Z"
   },
   {
    "duration": 11,
    "start_time": "2023-01-06T17:07:27.976Z"
   },
   {
    "duration": 22,
    "start_time": "2023-01-06T17:07:50.829Z"
   },
   {
    "duration": 9,
    "start_time": "2023-01-06T17:08:09.070Z"
   },
   {
    "duration": 583,
    "start_time": "2023-01-07T09:41:52.709Z"
   },
   {
    "duration": 199,
    "start_time": "2023-01-07T09:41:56.319Z"
   },
   {
    "duration": 110,
    "start_time": "2023-01-07T09:41:56.520Z"
   },
   {
    "duration": 14,
    "start_time": "2023-01-07T09:41:56.631Z"
   },
   {
    "duration": 1661,
    "start_time": "2023-01-07T09:41:56.647Z"
   },
   {
    "duration": 14,
    "start_time": "2023-01-07T09:41:58.309Z"
   },
   {
    "duration": 32,
    "start_time": "2023-01-07T09:41:58.324Z"
   },
   {
    "duration": 5,
    "start_time": "2023-01-07T09:41:58.357Z"
   },
   {
    "duration": 35,
    "start_time": "2023-01-07T09:41:58.363Z"
   },
   {
    "duration": 4,
    "start_time": "2023-01-07T09:41:58.400Z"
   },
   {
    "duration": 13,
    "start_time": "2023-01-07T09:41:58.407Z"
   },
   {
    "duration": 9,
    "start_time": "2023-01-07T09:41:58.421Z"
   },
   {
    "duration": 9,
    "start_time": "2023-01-07T09:41:58.431Z"
   },
   {
    "duration": 57,
    "start_time": "2023-01-07T09:41:58.442Z"
   },
   {
    "duration": 39,
    "start_time": "2023-01-07T09:41:58.500Z"
   },
   {
    "duration": 9,
    "start_time": "2023-01-07T09:41:58.540Z"
   },
   {
    "duration": 20,
    "start_time": "2023-01-07T09:41:58.550Z"
   },
   {
    "duration": 5,
    "start_time": "2023-01-07T09:41:58.571Z"
   },
   {
    "duration": 23,
    "start_time": "2023-01-07T09:41:58.577Z"
   },
   {
    "duration": 8,
    "start_time": "2023-01-07T09:41:58.602Z"
   },
   {
    "duration": 13,
    "start_time": "2023-01-07T09:41:58.611Z"
   },
   {
    "duration": 279,
    "start_time": "2023-01-07T09:41:58.626Z"
   },
   {
    "duration": 7,
    "start_time": "2023-01-07T09:41:58.907Z"
   },
   {
    "duration": 15,
    "start_time": "2023-01-07T09:41:58.915Z"
   },
   {
    "duration": 2874,
    "start_time": "2023-01-07T09:41:58.932Z"
   },
   {
    "duration": 6,
    "start_time": "2023-01-07T09:42:01.807Z"
   },
   {
    "duration": 36,
    "start_time": "2023-01-07T09:42:01.814Z"
   },
   {
    "duration": 1803,
    "start_time": "2023-01-07T09:42:01.852Z"
   },
   {
    "duration": 463,
    "start_time": "2023-01-07T09:42:03.660Z"
   },
   {
    "duration": 647,
    "start_time": "2023-01-07T09:42:04.125Z"
   },
   {
    "duration": 5,
    "start_time": "2023-01-07T09:42:04.774Z"
   },
   {
    "duration": 22,
    "start_time": "2023-01-07T09:42:04.781Z"
   },
   {
    "duration": 751,
    "start_time": "2023-01-07T09:42:04.805Z"
   },
   {
    "duration": 11,
    "start_time": "2023-01-07T09:42:05.558Z"
   },
   {
    "duration": 7,
    "start_time": "2023-01-07T09:42:05.571Z"
   },
   {
    "duration": 211,
    "start_time": "2023-01-07T09:42:05.579Z"
   },
   {
    "duration": 7,
    "start_time": "2023-01-07T09:42:05.797Z"
   },
   {
    "duration": 189,
    "start_time": "2023-01-07T09:42:05.805Z"
   },
   {
    "duration": 7,
    "start_time": "2023-01-07T09:42:05.996Z"
   },
   {
    "duration": 6,
    "start_time": "2023-01-07T09:42:06.004Z"
   },
   {
    "duration": 8,
    "start_time": "2023-01-07T09:42:06.011Z"
   },
   {
    "duration": 117,
    "start_time": "2023-01-07T09:42:06.021Z"
   },
   {
    "duration": 6,
    "start_time": "2023-01-07T09:42:06.140Z"
   },
   {
    "duration": 6,
    "start_time": "2023-01-07T09:42:06.148Z"
   },
   {
    "duration": 7,
    "start_time": "2023-01-07T09:42:06.155Z"
   },
   {
    "duration": 14,
    "start_time": "2023-01-07T09:42:06.163Z"
   },
   {
    "duration": 106,
    "start_time": "2023-01-07T09:42:06.179Z"
   },
   {
    "duration": 13,
    "start_time": "2023-01-07T09:42:06.286Z"
   },
   {
    "duration": 11,
    "start_time": "2023-01-07T09:42:06.301Z"
   },
   {
    "duration": 7,
    "start_time": "2023-01-07T09:42:06.313Z"
   },
   {
    "duration": 7,
    "start_time": "2023-01-07T09:42:06.321Z"
   },
   {
    "duration": 105,
    "start_time": "2023-01-07T09:42:06.329Z"
   },
   {
    "duration": 5,
    "start_time": "2023-01-07T09:42:06.436Z"
   },
   {
    "duration": 7,
    "start_time": "2023-01-07T09:42:06.443Z"
   },
   {
    "duration": 7,
    "start_time": "2023-01-07T09:42:06.451Z"
   },
   {
    "duration": 3,
    "start_time": "2023-01-07T09:42:06.459Z"
   },
   {
    "duration": 119,
    "start_time": "2023-01-07T09:42:06.464Z"
   },
   {
    "duration": 5,
    "start_time": "2023-01-07T09:42:06.584Z"
   },
   {
    "duration": 15,
    "start_time": "2023-01-07T09:42:06.597Z"
   },
   {
    "duration": 7,
    "start_time": "2023-01-07T09:42:06.613Z"
   },
   {
    "duration": 99,
    "start_time": "2023-01-07T09:42:06.622Z"
   },
   {
    "duration": 5,
    "start_time": "2023-01-07T09:42:06.723Z"
   },
   {
    "duration": 11,
    "start_time": "2023-01-07T09:42:06.729Z"
   },
   {
    "duration": 13,
    "start_time": "2023-01-07T09:42:06.741Z"
   },
   {
    "duration": 104,
    "start_time": "2023-01-07T09:42:06.755Z"
   },
   {
    "duration": 5,
    "start_time": "2023-01-07T09:42:06.860Z"
   },
   {
    "duration": 12,
    "start_time": "2023-01-07T09:42:06.867Z"
   },
   {
    "duration": 99,
    "start_time": "2023-01-07T09:42:06.881Z"
   },
   {
    "duration": 24,
    "start_time": "2023-01-07T11:09:42.057Z"
   },
   {
    "duration": 2,
    "start_time": "2023-01-07T11:09:49.740Z"
   },
   {
    "duration": 10,
    "start_time": "2023-01-07T11:09:51.207Z"
   },
   {
    "duration": 7,
    "start_time": "2023-01-07T11:10:17.668Z"
   },
   {
    "duration": 8,
    "start_time": "2023-01-07T11:10:23.343Z"
   },
   {
    "duration": 8,
    "start_time": "2023-01-07T11:11:47.023Z"
   },
   {
    "duration": 66,
    "start_time": "2023-01-09T10:04:04.666Z"
   },
   {
    "duration": 466,
    "start_time": "2023-01-09T10:04:08.375Z"
   },
   {
    "duration": 97,
    "start_time": "2023-01-09T10:04:08.843Z"
   },
   {
    "duration": 16,
    "start_time": "2023-01-09T10:04:08.942Z"
   },
   {
    "duration": 2365,
    "start_time": "2023-01-09T10:04:08.961Z"
   },
   {
    "duration": 17,
    "start_time": "2023-01-09T10:04:11.329Z"
   },
   {
    "duration": 65,
    "start_time": "2023-01-09T10:04:11.349Z"
   },
   {
    "duration": 6,
    "start_time": "2023-01-09T10:04:11.416Z"
   },
   {
    "duration": 14,
    "start_time": "2023-01-09T10:04:11.425Z"
   },
   {
    "duration": 12,
    "start_time": "2023-01-09T10:04:11.441Z"
   },
   {
    "duration": 36,
    "start_time": "2023-01-09T10:04:11.456Z"
   },
   {
    "duration": 11,
    "start_time": "2023-01-09T10:04:11.494Z"
   },
   {
    "duration": 13,
    "start_time": "2023-01-09T10:04:11.507Z"
   },
   {
    "duration": 77,
    "start_time": "2023-01-09T10:04:11.523Z"
   },
   {
    "duration": 43,
    "start_time": "2023-01-09T10:04:11.601Z"
   },
   {
    "duration": 10,
    "start_time": "2023-01-09T10:04:11.646Z"
   },
   {
    "duration": 37,
    "start_time": "2023-01-09T10:04:11.658Z"
   },
   {
    "duration": 5,
    "start_time": "2023-01-09T10:04:11.697Z"
   },
   {
    "duration": 8,
    "start_time": "2023-01-09T10:04:11.704Z"
   },
   {
    "duration": 11,
    "start_time": "2023-01-09T10:04:11.713Z"
   },
   {
    "duration": 12,
    "start_time": "2023-01-09T10:04:11.725Z"
   },
   {
    "duration": 375,
    "start_time": "2023-01-09T10:04:11.739Z"
   },
   {
    "duration": 9,
    "start_time": "2023-01-09T10:04:12.116Z"
   },
   {
    "duration": 17,
    "start_time": "2023-01-09T10:04:12.127Z"
   },
   {
    "duration": 3351,
    "start_time": "2023-01-09T10:04:12.146Z"
   },
   {
    "duration": 7,
    "start_time": "2023-01-09T10:04:15.499Z"
   },
   {
    "duration": 12,
    "start_time": "2023-01-09T10:04:15.508Z"
   },
   {
    "duration": 2225,
    "start_time": "2023-01-09T10:04:15.522Z"
   },
   {
    "duration": 526,
    "start_time": "2023-01-09T10:04:17.751Z"
   },
   {
    "duration": 757,
    "start_time": "2023-01-09T10:04:18.279Z"
   },
   {
    "duration": 8,
    "start_time": "2023-01-09T10:04:19.037Z"
   },
   {
    "duration": 35,
    "start_time": "2023-01-09T10:04:19.046Z"
   },
   {
    "duration": 748,
    "start_time": "2023-01-09T10:04:19.084Z"
   },
   {
    "duration": 12,
    "start_time": "2023-01-09T10:04:19.834Z"
   },
   {
    "duration": 53,
    "start_time": "2023-01-09T10:04:19.848Z"
   },
   {
    "duration": 242,
    "start_time": "2023-01-09T10:04:19.903Z"
   },
   {
    "duration": 8,
    "start_time": "2023-01-09T10:04:20.147Z"
   },
   {
    "duration": 200,
    "start_time": "2023-01-09T10:04:20.157Z"
   },
   {
    "duration": 7,
    "start_time": "2023-01-09T10:04:20.359Z"
   },
   {
    "duration": 20,
    "start_time": "2023-01-09T10:04:20.368Z"
   },
   {
    "duration": 16,
    "start_time": "2023-01-09T10:04:20.389Z"
   },
   {
    "duration": 116,
    "start_time": "2023-01-09T10:04:20.407Z"
   },
   {
    "duration": 6,
    "start_time": "2023-01-09T10:04:20.524Z"
   },
   {
    "duration": 17,
    "start_time": "2023-01-09T10:04:20.531Z"
   },
   {
    "duration": 30,
    "start_time": "2023-01-09T10:04:20.550Z"
   },
   {
    "duration": 11,
    "start_time": "2023-01-09T10:04:20.582Z"
   },
   {
    "duration": 119,
    "start_time": "2023-01-09T10:04:20.594Z"
   },
   {
    "duration": 5,
    "start_time": "2023-01-09T10:04:20.715Z"
   },
   {
    "duration": 18,
    "start_time": "2023-01-09T10:04:20.722Z"
   },
   {
    "duration": 17,
    "start_time": "2023-01-09T10:04:20.742Z"
   },
   {
    "duration": 8,
    "start_time": "2023-01-09T10:04:20.760Z"
   },
   {
    "duration": 281,
    "start_time": "2023-01-09T10:04:20.770Z"
   },
   {
    "duration": 6,
    "start_time": "2023-01-09T10:04:21.053Z"
   },
   {
    "duration": 20,
    "start_time": "2023-01-09T10:04:21.060Z"
   },
   {
    "duration": 12,
    "start_time": "2023-01-09T10:04:21.082Z"
   },
   {
    "duration": 4,
    "start_time": "2023-01-09T10:04:21.096Z"
   },
   {
    "duration": 126,
    "start_time": "2023-01-09T10:04:21.102Z"
   },
   {
    "duration": 8,
    "start_time": "2023-01-09T10:04:21.230Z"
   },
   {
    "duration": 22,
    "start_time": "2023-01-09T10:04:21.240Z"
   },
   {
    "duration": 14,
    "start_time": "2023-01-09T10:04:21.264Z"
   },
   {
    "duration": 126,
    "start_time": "2023-01-09T10:04:21.280Z"
   },
   {
    "duration": 6,
    "start_time": "2023-01-09T10:04:21.409Z"
   },
   {
    "duration": 14,
    "start_time": "2023-01-09T10:04:21.416Z"
   },
   {
    "duration": 14,
    "start_time": "2023-01-09T10:04:21.432Z"
   },
   {
    "duration": 130,
    "start_time": "2023-01-09T10:04:21.448Z"
   },
   {
    "duration": 7,
    "start_time": "2023-01-09T10:04:21.580Z"
   },
   {
    "duration": 444,
    "start_time": "2023-01-09T10:04:21.588Z"
   },
   {
    "duration": 13,
    "start_time": "2023-01-09T10:04:22.034Z"
   },
   {
    "duration": 27,
    "start_time": "2023-01-09T10:04:22.048Z"
   },
   {
    "duration": 11,
    "start_time": "2023-01-09T10:04:42.524Z"
   },
   {
    "duration": 3,
    "start_time": "2023-01-09T10:10:07.776Z"
   },
   {
    "duration": 139,
    "start_time": "2023-01-09T10:12:08.540Z"
   },
   {
    "duration": 3,
    "start_time": "2023-01-09T10:12:10.823Z"
   },
   {
    "duration": 98,
    "start_time": "2023-01-09T10:12:10.829Z"
   },
   {
    "duration": 24,
    "start_time": "2023-01-09T10:12:10.929Z"
   },
   {
    "duration": 1776,
    "start_time": "2023-01-09T10:12:10.955Z"
   },
   {
    "duration": 21,
    "start_time": "2023-01-09T10:12:12.734Z"
   },
   {
    "duration": 62,
    "start_time": "2023-01-09T10:12:12.757Z"
   },
   {
    "duration": 6,
    "start_time": "2023-01-09T10:12:12.821Z"
   },
   {
    "duration": 14,
    "start_time": "2023-01-09T10:12:12.828Z"
   },
   {
    "duration": 5,
    "start_time": "2023-01-09T10:12:12.844Z"
   },
   {
    "duration": 40,
    "start_time": "2023-01-09T10:12:12.851Z"
   },
   {
    "duration": 7,
    "start_time": "2023-01-09T10:12:12.893Z"
   },
   {
    "duration": 10,
    "start_time": "2023-01-09T10:12:12.902Z"
   },
   {
    "duration": 64,
    "start_time": "2023-01-09T10:12:12.916Z"
   },
   {
    "duration": 43,
    "start_time": "2023-01-09T10:12:12.982Z"
   },
   {
    "duration": 9,
    "start_time": "2023-01-09T10:12:13.028Z"
   },
   {
    "duration": 16,
    "start_time": "2023-01-09T10:12:13.039Z"
   },
   {
    "duration": 6,
    "start_time": "2023-01-09T10:12:13.078Z"
   },
   {
    "duration": 9,
    "start_time": "2023-01-09T10:12:13.086Z"
   },
   {
    "duration": 12,
    "start_time": "2023-01-09T10:12:13.097Z"
   },
   {
    "duration": 17,
    "start_time": "2023-01-09T10:12:13.111Z"
   },
   {
    "duration": 336,
    "start_time": "2023-01-09T10:12:13.130Z"
   },
   {
    "duration": 16,
    "start_time": "2023-01-09T10:12:13.468Z"
   },
   {
    "duration": 14,
    "start_time": "2023-01-09T10:12:13.486Z"
   },
   {
    "duration": 3518,
    "start_time": "2023-01-09T10:12:13.501Z"
   },
   {
    "duration": 7,
    "start_time": "2023-01-09T10:12:17.022Z"
   },
   {
    "duration": 15,
    "start_time": "2023-01-09T10:12:17.031Z"
   },
   {
    "duration": 2364,
    "start_time": "2023-01-09T10:12:17.048Z"
   },
   {
    "duration": 776,
    "start_time": "2023-01-09T10:12:19.414Z"
   },
   {
    "duration": 744,
    "start_time": "2023-01-09T10:12:20.192Z"
   },
   {
    "duration": 8,
    "start_time": "2023-01-09T10:12:20.938Z"
   },
   {
    "duration": 55,
    "start_time": "2023-01-09T10:12:20.948Z"
   },
   {
    "duration": 725,
    "start_time": "2023-01-09T10:12:21.005Z"
   },
   {
    "duration": 15,
    "start_time": "2023-01-09T10:12:21.732Z"
   },
   {
    "duration": 62,
    "start_time": "2023-01-09T10:12:21.749Z"
   },
   {
    "duration": 253,
    "start_time": "2023-01-09T10:12:21.813Z"
   },
   {
    "duration": 18,
    "start_time": "2023-01-09T10:12:22.069Z"
   },
   {
    "duration": 194,
    "start_time": "2023-01-09T10:12:22.092Z"
   },
   {
    "duration": 8,
    "start_time": "2023-01-09T10:12:22.289Z"
   },
   {
    "duration": 11,
    "start_time": "2023-01-09T10:12:22.299Z"
   },
   {
    "duration": 13,
    "start_time": "2023-01-09T10:12:22.313Z"
   },
   {
    "duration": 195,
    "start_time": "2023-01-09T10:12:22.329Z"
   },
   {
    "duration": 8,
    "start_time": "2023-01-09T10:12:22.527Z"
   },
   {
    "duration": 14,
    "start_time": "2023-01-09T10:12:22.537Z"
   },
   {
    "duration": 26,
    "start_time": "2023-01-09T10:12:22.553Z"
   },
   {
    "duration": 9,
    "start_time": "2023-01-09T10:12:22.582Z"
   },
   {
    "duration": 132,
    "start_time": "2023-01-09T10:12:22.592Z"
   },
   {
    "duration": 7,
    "start_time": "2023-01-09T10:12:22.726Z"
   },
   {
    "duration": 12,
    "start_time": "2023-01-09T10:12:22.735Z"
   },
   {
    "duration": 31,
    "start_time": "2023-01-09T10:12:22.748Z"
   },
   {
    "duration": 7,
    "start_time": "2023-01-09T10:12:22.781Z"
   },
   {
    "duration": 128,
    "start_time": "2023-01-09T10:12:22.790Z"
   },
   {
    "duration": 8,
    "start_time": "2023-01-09T10:12:22.920Z"
   },
   {
    "duration": 18,
    "start_time": "2023-01-09T10:12:22.930Z"
   },
   {
    "duration": 11,
    "start_time": "2023-01-09T10:12:22.950Z"
   },
   {
    "duration": 14,
    "start_time": "2023-01-09T10:12:22.964Z"
   },
   {
    "duration": 168,
    "start_time": "2023-01-09T10:12:22.980Z"
   },
   {
    "duration": 7,
    "start_time": "2023-01-09T10:12:23.150Z"
   },
   {
    "duration": 25,
    "start_time": "2023-01-09T10:12:23.159Z"
   },
   {
    "duration": 5,
    "start_time": "2023-01-09T10:12:23.187Z"
   },
   {
    "duration": 184,
    "start_time": "2023-01-09T10:12:23.194Z"
   },
   {
    "duration": 8,
    "start_time": "2023-01-09T10:12:23.380Z"
   },
   {
    "duration": 15,
    "start_time": "2023-01-09T10:12:23.390Z"
   },
   {
    "duration": 8,
    "start_time": "2023-01-09T10:12:23.408Z"
   },
   {
    "duration": 145,
    "start_time": "2023-01-09T10:12:23.418Z"
   },
   {
    "duration": 14,
    "start_time": "2023-01-09T10:12:23.565Z"
   },
   {
    "duration": 3,
    "start_time": "2023-01-09T10:12:23.581Z"
   },
   {
    "duration": 13,
    "start_time": "2023-01-09T10:12:23.585Z"
   },
   {
    "duration": 14,
    "start_time": "2023-01-09T10:12:23.600Z"
   },
   {
    "duration": 107,
    "start_time": "2023-01-09T10:23:18.004Z"
   },
   {
    "duration": 3,
    "start_time": "2023-01-09T10:23:31.527Z"
   },
   {
    "duration": 53,
    "start_time": "2023-01-09T10:23:31.534Z"
   },
   {
    "duration": 13,
    "start_time": "2023-01-09T10:23:31.589Z"
   },
   {
    "duration": 1651,
    "start_time": "2023-01-09T10:23:31.603Z"
   },
   {
    "duration": 25,
    "start_time": "2023-01-09T10:23:33.256Z"
   },
   {
    "duration": 43,
    "start_time": "2023-01-09T10:23:33.284Z"
   },
   {
    "duration": 12,
    "start_time": "2023-01-09T10:23:33.329Z"
   },
   {
    "duration": 32,
    "start_time": "2023-01-09T10:23:33.342Z"
   },
   {
    "duration": 20,
    "start_time": "2023-01-09T10:23:33.376Z"
   },
   {
    "duration": 30,
    "start_time": "2023-01-09T10:23:33.399Z"
   },
   {
    "duration": 6,
    "start_time": "2023-01-09T10:23:33.431Z"
   },
   {
    "duration": 30,
    "start_time": "2023-01-09T10:23:33.439Z"
   },
   {
    "duration": 45,
    "start_time": "2023-01-09T10:23:33.471Z"
   },
   {
    "duration": 42,
    "start_time": "2023-01-09T10:23:33.518Z"
   },
   {
    "duration": 18,
    "start_time": "2023-01-09T10:23:33.564Z"
   },
   {
    "duration": 14,
    "start_time": "2023-01-09T10:23:33.583Z"
   },
   {
    "duration": 5,
    "start_time": "2023-01-09T10:23:33.599Z"
   },
   {
    "duration": 6,
    "start_time": "2023-01-09T10:23:33.605Z"
   },
   {
    "duration": 8,
    "start_time": "2023-01-09T10:23:33.613Z"
   },
   {
    "duration": 18,
    "start_time": "2023-01-09T10:23:33.622Z"
   },
   {
    "duration": 329,
    "start_time": "2023-01-09T10:23:33.642Z"
   },
   {
    "duration": 11,
    "start_time": "2023-01-09T10:23:33.972Z"
   },
   {
    "duration": 13,
    "start_time": "2023-01-09T10:23:33.984Z"
   },
   {
    "duration": 3335,
    "start_time": "2023-01-09T10:23:33.999Z"
   },
   {
    "duration": 8,
    "start_time": "2023-01-09T10:23:37.335Z"
   },
   {
    "duration": 14,
    "start_time": "2023-01-09T10:23:37.345Z"
   },
   {
    "duration": 2149,
    "start_time": "2023-01-09T10:23:37.361Z"
   },
   {
    "duration": 529,
    "start_time": "2023-01-09T10:23:39.512Z"
   },
   {
    "duration": 737,
    "start_time": "2023-01-09T10:23:40.043Z"
   },
   {
    "duration": 7,
    "start_time": "2023-01-09T10:23:40.781Z"
   },
   {
    "duration": 13,
    "start_time": "2023-01-09T10:23:40.790Z"
   },
   {
    "duration": 738,
    "start_time": "2023-01-09T10:23:40.804Z"
   },
   {
    "duration": 12,
    "start_time": "2023-01-09T10:23:41.544Z"
   },
   {
    "duration": 24,
    "start_time": "2023-01-09T10:23:41.558Z"
   },
   {
    "duration": 545,
    "start_time": "2023-01-09T10:23:41.584Z"
   },
   {
    "duration": 8,
    "start_time": "2023-01-09T10:23:42.131Z"
   },
   {
    "duration": 193,
    "start_time": "2023-01-09T10:23:42.140Z"
   },
   {
    "duration": 8,
    "start_time": "2023-01-09T10:23:42.335Z"
   },
   {
    "duration": 6,
    "start_time": "2023-01-09T10:23:42.346Z"
   },
   {
    "duration": 7,
    "start_time": "2023-01-09T10:23:42.353Z"
   },
   {
    "duration": 137,
    "start_time": "2023-01-09T10:23:42.361Z"
   },
   {
    "duration": 6,
    "start_time": "2023-01-09T10:23:42.503Z"
   },
   {
    "duration": 9,
    "start_time": "2023-01-09T10:23:42.511Z"
   },
   {
    "duration": 7,
    "start_time": "2023-01-09T10:23:42.522Z"
   },
   {
    "duration": 6,
    "start_time": "2023-01-09T10:23:42.531Z"
   },
   {
    "duration": 146,
    "start_time": "2023-01-09T10:23:42.538Z"
   },
   {
    "duration": 6,
    "start_time": "2023-01-09T10:23:42.685Z"
   },
   {
    "duration": 9,
    "start_time": "2023-01-09T10:23:42.694Z"
   },
   {
    "duration": 14,
    "start_time": "2023-01-09T10:23:42.705Z"
   },
   {
    "duration": 6,
    "start_time": "2023-01-09T10:23:42.721Z"
   },
   {
    "duration": 128,
    "start_time": "2023-01-09T10:23:42.728Z"
   },
   {
    "duration": 6,
    "start_time": "2023-01-09T10:23:42.857Z"
   },
   {
    "duration": 7,
    "start_time": "2023-01-09T10:23:42.878Z"
   },
   {
    "duration": 13,
    "start_time": "2023-01-09T10:23:42.886Z"
   },
   {
    "duration": 12,
    "start_time": "2023-01-09T10:23:42.901Z"
   },
   {
    "duration": 130,
    "start_time": "2023-01-09T10:23:42.914Z"
   },
   {
    "duration": 6,
    "start_time": "2023-01-09T10:23:43.046Z"
   },
   {
    "duration": 23,
    "start_time": "2023-01-09T10:23:43.054Z"
   },
   {
    "duration": 7,
    "start_time": "2023-01-09T10:23:43.079Z"
   },
   {
    "duration": 265,
    "start_time": "2023-01-09T10:23:43.088Z"
   },
   {
    "duration": 6,
    "start_time": "2023-01-09T10:23:43.355Z"
   },
   {
    "duration": 19,
    "start_time": "2023-01-09T10:23:43.363Z"
   },
   {
    "duration": 4,
    "start_time": "2023-01-09T10:23:43.384Z"
   },
   {
    "duration": 145,
    "start_time": "2023-01-09T10:23:43.390Z"
   },
   {
    "duration": 7,
    "start_time": "2023-01-09T10:23:43.537Z"
   },
   {
    "duration": 7,
    "start_time": "2023-01-09T10:23:43.546Z"
   },
   {
    "duration": 26,
    "start_time": "2023-01-09T10:23:43.555Z"
   },
   {
    "duration": 10,
    "start_time": "2023-01-09T10:23:43.584Z"
   },
   {
    "duration": 4,
    "start_time": "2023-01-09T10:24:06.117Z"
   },
   {
    "duration": 55,
    "start_time": "2023-01-09T10:24:06.123Z"
   },
   {
    "duration": 13,
    "start_time": "2023-01-09T10:24:06.180Z"
   },
   {
    "duration": 1428,
    "start_time": "2023-01-09T10:24:06.195Z"
   },
   {
    "duration": 14,
    "start_time": "2023-01-09T10:24:07.625Z"
   },
   {
    "duration": 51,
    "start_time": "2023-01-09T10:24:07.640Z"
   },
   {
    "duration": 6,
    "start_time": "2023-01-09T10:24:07.693Z"
   },
   {
    "duration": 24,
    "start_time": "2023-01-09T10:24:07.701Z"
   },
   {
    "duration": 12,
    "start_time": "2023-01-09T10:24:07.728Z"
   },
   {
    "duration": 31,
    "start_time": "2023-01-09T10:24:07.742Z"
   },
   {
    "duration": 18,
    "start_time": "2023-01-09T10:24:07.775Z"
   },
   {
    "duration": 23,
    "start_time": "2023-01-09T10:24:07.795Z"
   },
   {
    "duration": 59,
    "start_time": "2023-01-09T10:24:07.820Z"
   },
   {
    "duration": 264,
    "start_time": "2023-01-09T10:24:07.881Z"
   },
   {
    "duration": 9,
    "start_time": "2023-01-09T10:24:08.147Z"
   },
   {
    "duration": 30,
    "start_time": "2023-01-09T10:24:08.158Z"
   },
   {
    "duration": 24,
    "start_time": "2023-01-09T10:24:08.190Z"
   },
   {
    "duration": 14,
    "start_time": "2023-01-09T10:24:08.216Z"
   },
   {
    "duration": 30,
    "start_time": "2023-01-09T10:24:08.232Z"
   },
   {
    "duration": 24,
    "start_time": "2023-01-09T10:24:08.263Z"
   },
   {
    "duration": 369,
    "start_time": "2023-01-09T10:24:08.288Z"
   },
   {
    "duration": 19,
    "start_time": "2023-01-09T10:24:08.659Z"
   },
   {
    "duration": 23,
    "start_time": "2023-01-09T10:24:08.680Z"
   },
   {
    "duration": 3114,
    "start_time": "2023-01-09T10:24:08.708Z"
   },
   {
    "duration": 7,
    "start_time": "2023-01-09T10:24:11.823Z"
   },
   {
    "duration": 11,
    "start_time": "2023-01-09T10:24:11.831Z"
   },
   {
    "duration": 1944,
    "start_time": "2023-01-09T10:24:11.844Z"
   },
   {
    "duration": 512,
    "start_time": "2023-01-09T10:24:13.789Z"
   },
   {
    "duration": 956,
    "start_time": "2023-01-09T10:24:14.303Z"
   },
   {
    "duration": 17,
    "start_time": "2023-01-09T10:24:15.261Z"
   },
   {
    "duration": 12,
    "start_time": "2023-01-09T10:24:15.280Z"
   },
   {
    "duration": 697,
    "start_time": "2023-01-09T10:24:15.294Z"
   },
   {
    "duration": 11,
    "start_time": "2023-01-09T10:24:15.993Z"
   },
   {
    "duration": 8,
    "start_time": "2023-01-09T10:24:16.005Z"
   },
   {
    "duration": 193,
    "start_time": "2023-01-09T10:24:16.014Z"
   },
   {
    "duration": 8,
    "start_time": "2023-01-09T10:24:16.209Z"
   },
   {
    "duration": 185,
    "start_time": "2023-01-09T10:24:16.219Z"
   },
   {
    "duration": 9,
    "start_time": "2023-01-09T10:24:16.406Z"
   },
   {
    "duration": 6,
    "start_time": "2023-01-09T10:24:16.417Z"
   },
   {
    "duration": 7,
    "start_time": "2023-01-09T10:24:16.424Z"
   },
   {
    "duration": 125,
    "start_time": "2023-01-09T10:24:16.432Z"
   },
   {
    "duration": 19,
    "start_time": "2023-01-09T10:24:16.559Z"
   },
   {
    "duration": 11,
    "start_time": "2023-01-09T10:24:16.580Z"
   },
   {
    "duration": 8,
    "start_time": "2023-01-09T10:24:16.592Z"
   },
   {
    "duration": 7,
    "start_time": "2023-01-09T10:24:16.601Z"
   },
   {
    "duration": 127,
    "start_time": "2023-01-09T10:24:16.610Z"
   },
   {
    "duration": 7,
    "start_time": "2023-01-09T10:24:16.739Z"
   },
   {
    "duration": 10,
    "start_time": "2023-01-09T10:24:16.748Z"
   },
   {
    "duration": 21,
    "start_time": "2023-01-09T10:24:16.760Z"
   },
   {
    "duration": 4,
    "start_time": "2023-01-09T10:24:16.783Z"
   },
   {
    "duration": 129,
    "start_time": "2023-01-09T10:24:16.788Z"
   },
   {
    "duration": 6,
    "start_time": "2023-01-09T10:24:16.919Z"
   },
   {
    "duration": 10,
    "start_time": "2023-01-09T10:24:16.926Z"
   },
   {
    "duration": 7,
    "start_time": "2023-01-09T10:24:16.938Z"
   },
   {
    "duration": 7,
    "start_time": "2023-01-09T10:24:16.947Z"
   },
   {
    "duration": 138,
    "start_time": "2023-01-09T10:24:16.955Z"
   },
   {
    "duration": 6,
    "start_time": "2023-01-09T10:24:17.095Z"
   },
   {
    "duration": 9,
    "start_time": "2023-01-09T10:24:17.103Z"
   },
   {
    "duration": 6,
    "start_time": "2023-01-09T10:24:17.113Z"
   },
   {
    "duration": 137,
    "start_time": "2023-01-09T10:24:17.120Z"
   },
   {
    "duration": 6,
    "start_time": "2023-01-09T10:24:17.259Z"
   },
   {
    "duration": 19,
    "start_time": "2023-01-09T10:24:17.266Z"
   },
   {
    "duration": 9,
    "start_time": "2023-01-09T10:24:17.287Z"
   },
   {
    "duration": 135,
    "start_time": "2023-01-09T10:24:17.297Z"
   },
   {
    "duration": 7,
    "start_time": "2023-01-09T10:24:17.433Z"
   },
   {
    "duration": 6,
    "start_time": "2023-01-09T10:24:17.442Z"
   },
   {
    "duration": 11,
    "start_time": "2023-01-09T10:24:17.450Z"
   },
   {
    "duration": 8,
    "start_time": "2023-01-09T10:24:17.477Z"
   },
   {
    "duration": 392,
    "start_time": "2023-01-09T10:31:29.872Z"
   },
   {
    "duration": 61,
    "start_time": "2023-01-09T10:31:30.266Z"
   },
   {
    "duration": 17,
    "start_time": "2023-01-09T10:31:30.328Z"
   },
   {
    "duration": 1778,
    "start_time": "2023-01-09T10:31:30.347Z"
   },
   {
    "duration": 19,
    "start_time": "2023-01-09T10:31:32.127Z"
   },
   {
    "duration": 66,
    "start_time": "2023-01-09T10:31:32.148Z"
   },
   {
    "duration": 5,
    "start_time": "2023-01-09T10:31:32.216Z"
   },
   {
    "duration": 38,
    "start_time": "2023-01-09T10:31:32.222Z"
   },
   {
    "duration": 20,
    "start_time": "2023-01-09T10:31:32.261Z"
   },
   {
    "duration": 36,
    "start_time": "2023-01-09T10:31:32.282Z"
   },
   {
    "duration": 15,
    "start_time": "2023-01-09T10:31:32.320Z"
   },
   {
    "duration": 9,
    "start_time": "2023-01-09T10:31:32.337Z"
   },
   {
    "duration": 56,
    "start_time": "2023-01-09T10:31:32.348Z"
   },
   {
    "duration": 57,
    "start_time": "2023-01-09T10:31:32.408Z"
   },
   {
    "duration": 11,
    "start_time": "2023-01-09T10:31:32.469Z"
   },
   {
    "duration": 26,
    "start_time": "2023-01-09T10:31:32.482Z"
   },
   {
    "duration": 25,
    "start_time": "2023-01-09T10:31:32.511Z"
   },
   {
    "duration": 15,
    "start_time": "2023-01-09T10:31:32.539Z"
   },
   {
    "duration": 27,
    "start_time": "2023-01-09T10:31:32.555Z"
   },
   {
    "duration": 19,
    "start_time": "2023-01-09T10:31:32.584Z"
   },
   {
    "duration": 335,
    "start_time": "2023-01-09T10:31:32.605Z"
   },
   {
    "duration": 10,
    "start_time": "2023-01-09T10:31:32.942Z"
   },
   {
    "duration": 28,
    "start_time": "2023-01-09T10:31:32.953Z"
   },
   {
    "duration": 3324,
    "start_time": "2023-01-09T10:31:32.984Z"
   },
   {
    "duration": 8,
    "start_time": "2023-01-09T10:31:36.310Z"
   },
   {
    "duration": 20,
    "start_time": "2023-01-09T10:31:36.319Z"
   },
   {
    "duration": 2120,
    "start_time": "2023-01-09T10:31:36.341Z"
   },
   {
    "duration": 682,
    "start_time": "2023-01-09T10:31:38.462Z"
   },
   {
    "duration": 705,
    "start_time": "2023-01-09T10:31:39.146Z"
   },
   {
    "duration": 6,
    "start_time": "2023-01-09T10:31:39.853Z"
   },
   {
    "duration": 32,
    "start_time": "2023-01-09T10:31:39.861Z"
   },
   {
    "duration": 696,
    "start_time": "2023-01-09T10:31:39.895Z"
   },
   {
    "duration": 11,
    "start_time": "2023-01-09T10:31:40.593Z"
   },
   {
    "duration": 7,
    "start_time": "2023-01-09T10:31:40.606Z"
   },
   {
    "duration": 205,
    "start_time": "2023-01-09T10:31:40.615Z"
   },
   {
    "duration": 14,
    "start_time": "2023-01-09T10:31:40.822Z"
   },
   {
    "duration": 179,
    "start_time": "2023-01-09T10:31:40.838Z"
   },
   {
    "duration": 17,
    "start_time": "2023-01-09T10:31:41.019Z"
   },
   {
    "duration": 2,
    "start_time": "2023-01-09T10:31:41.038Z"
   },
   {
    "duration": 13,
    "start_time": "2023-01-09T10:31:41.042Z"
   },
   {
    "duration": 119,
    "start_time": "2023-01-09T10:31:41.060Z"
   },
   {
    "duration": 6,
    "start_time": "2023-01-09T10:31:41.181Z"
   },
   {
    "duration": 16,
    "start_time": "2023-01-09T10:31:41.189Z"
   },
   {
    "duration": 25,
    "start_time": "2023-01-09T10:31:41.206Z"
   },
   {
    "duration": 14,
    "start_time": "2023-01-09T10:31:41.233Z"
   },
   {
    "duration": 118,
    "start_time": "2023-01-09T10:31:41.249Z"
   },
   {
    "duration": 6,
    "start_time": "2023-01-09T10:31:41.368Z"
   },
   {
    "duration": 20,
    "start_time": "2023-01-09T10:31:41.375Z"
   },
   {
    "duration": 15,
    "start_time": "2023-01-09T10:31:41.397Z"
   },
   {
    "duration": 10,
    "start_time": "2023-01-09T10:31:41.414Z"
   },
   {
    "duration": 116,
    "start_time": "2023-01-09T10:31:41.425Z"
   },
   {
    "duration": 6,
    "start_time": "2023-01-09T10:31:41.543Z"
   },
   {
    "duration": 9,
    "start_time": "2023-01-09T10:31:41.551Z"
   },
   {
    "duration": 15,
    "start_time": "2023-01-09T10:31:41.561Z"
   },
   {
    "duration": 15,
    "start_time": "2023-01-09T10:31:41.578Z"
   },
   {
    "duration": 221,
    "start_time": "2023-01-09T10:31:41.594Z"
   },
   {
    "duration": 6,
    "start_time": "2023-01-09T10:31:41.817Z"
   },
   {
    "duration": 28,
    "start_time": "2023-01-09T10:31:41.824Z"
   },
   {
    "duration": 14,
    "start_time": "2023-01-09T10:31:41.853Z"
   },
   {
    "duration": 142,
    "start_time": "2023-01-09T10:31:41.869Z"
   },
   {
    "duration": 6,
    "start_time": "2023-01-09T10:31:42.013Z"
   },
   {
    "duration": 10,
    "start_time": "2023-01-09T10:31:42.036Z"
   },
   {
    "duration": 16,
    "start_time": "2023-01-09T10:31:42.048Z"
   },
   {
    "duration": 124,
    "start_time": "2023-01-09T10:31:42.066Z"
   },
   {
    "duration": 6,
    "start_time": "2023-01-09T10:31:42.193Z"
   },
   {
    "duration": 486,
    "start_time": "2023-01-09T10:31:42.201Z"
   },
   {
    "duration": 10,
    "start_time": "2023-01-09T10:31:42.690Z"
   },
   {
    "duration": 25,
    "start_time": "2023-01-09T10:31:42.702Z"
   },
   {
    "duration": 96,
    "start_time": "2023-01-09T10:48:23.170Z"
   },
   {
    "duration": 3,
    "start_time": "2023-01-09T12:21:56.463Z"
   },
   {
    "duration": 400,
    "start_time": "2023-01-09T12:39:58.283Z"
   },
   {
    "duration": 82,
    "start_time": "2023-01-09T12:39:58.685Z"
   },
   {
    "duration": 14,
    "start_time": "2023-01-09T12:39:58.769Z"
   },
   {
    "duration": 1776,
    "start_time": "2023-01-09T12:39:58.785Z"
   },
   {
    "duration": 16,
    "start_time": "2023-01-09T12:40:00.563Z"
   },
   {
    "duration": 60,
    "start_time": "2023-01-09T12:40:00.581Z"
   },
   {
    "duration": 18,
    "start_time": "2023-01-09T12:40:00.643Z"
   },
   {
    "duration": 65,
    "start_time": "2023-01-09T12:40:00.663Z"
   },
   {
    "duration": 72,
    "start_time": "2023-01-09T12:40:00.730Z"
   },
   {
    "duration": 28,
    "start_time": "2023-01-09T12:40:00.805Z"
   },
   {
    "duration": 66,
    "start_time": "2023-01-09T12:40:00.834Z"
   },
   {
    "duration": 3,
    "start_time": "2023-01-09T12:40:27.683Z"
   },
   {
    "duration": 50,
    "start_time": "2023-01-09T12:40:27.687Z"
   },
   {
    "duration": 11,
    "start_time": "2023-01-09T12:40:27.739Z"
   },
   {
    "duration": 1345,
    "start_time": "2023-01-09T12:40:27.752Z"
   },
   {
    "duration": 15,
    "start_time": "2023-01-09T12:40:29.099Z"
   },
   {
    "duration": 30,
    "start_time": "2023-01-09T12:40:29.116Z"
   },
   {
    "duration": 5,
    "start_time": "2023-01-09T12:40:29.147Z"
   },
   {
    "duration": 47,
    "start_time": "2023-01-09T12:40:29.153Z"
   },
   {
    "duration": 7,
    "start_time": "2023-01-09T12:40:29.201Z"
   },
   {
    "duration": 16,
    "start_time": "2023-01-09T12:40:29.210Z"
   },
   {
    "duration": 6,
    "start_time": "2023-01-09T12:40:29.227Z"
   },
   {
    "duration": 3,
    "start_time": "2023-01-09T12:40:48.866Z"
   },
   {
    "duration": 50,
    "start_time": "2023-01-09T12:40:48.870Z"
   },
   {
    "duration": 14,
    "start_time": "2023-01-09T12:40:48.922Z"
   },
   {
    "duration": 1390,
    "start_time": "2023-01-09T12:40:48.937Z"
   },
   {
    "duration": 14,
    "start_time": "2023-01-09T12:40:50.330Z"
   },
   {
    "duration": 29,
    "start_time": "2023-01-09T12:40:50.345Z"
   },
   {
    "duration": 22,
    "start_time": "2023-01-09T12:40:50.376Z"
   },
   {
    "duration": 10,
    "start_time": "2023-01-09T12:40:50.399Z"
   },
   {
    "duration": 5,
    "start_time": "2023-01-09T12:40:50.410Z"
   },
   {
    "duration": 18,
    "start_time": "2023-01-09T12:40:50.417Z"
   },
   {
    "duration": 5,
    "start_time": "2023-01-09T12:40:50.437Z"
   },
   {
    "duration": 10,
    "start_time": "2023-01-09T12:40:50.443Z"
   },
   {
    "duration": 205,
    "start_time": "2023-01-09T12:51:55.196Z"
   },
   {
    "duration": 191,
    "start_time": "2023-01-09T12:52:01.962Z"
   },
   {
    "duration": 211,
    "start_time": "2023-01-09T12:52:09.916Z"
   },
   {
    "duration": 192,
    "start_time": "2023-01-09T12:52:14.175Z"
   },
   {
    "duration": 176,
    "start_time": "2023-01-09T12:52:18.403Z"
   },
   {
    "duration": 193,
    "start_time": "2023-01-09T12:52:29.109Z"
   },
   {
    "duration": 189,
    "start_time": "2023-01-09T12:52:34.240Z"
   },
   {
    "duration": 3,
    "start_time": "2023-01-09T12:56:01.099Z"
   },
   {
    "duration": 77,
    "start_time": "2023-01-09T12:56:01.104Z"
   },
   {
    "duration": 13,
    "start_time": "2023-01-09T12:56:01.183Z"
   },
   {
    "duration": 1418,
    "start_time": "2023-01-09T12:56:01.197Z"
   },
   {
    "duration": 15,
    "start_time": "2023-01-09T12:56:02.617Z"
   },
   {
    "duration": 38,
    "start_time": "2023-01-09T12:56:02.634Z"
   },
   {
    "duration": 26,
    "start_time": "2023-01-09T12:56:02.674Z"
   },
   {
    "duration": 17,
    "start_time": "2023-01-09T12:56:02.703Z"
   },
   {
    "duration": 8,
    "start_time": "2023-01-09T12:56:02.722Z"
   },
   {
    "duration": 28,
    "start_time": "2023-01-09T12:56:02.732Z"
   },
   {
    "duration": 6,
    "start_time": "2023-01-09T12:56:02.763Z"
   },
   {
    "duration": 28,
    "start_time": "2023-01-09T12:56:02.771Z"
   },
   {
    "duration": 13,
    "start_time": "2023-01-09T12:56:02.801Z"
   },
   {
    "duration": 12,
    "start_time": "2023-01-09T12:56:02.816Z"
   },
   {
    "duration": 15,
    "start_time": "2023-01-09T12:56:02.830Z"
   },
   {
    "duration": 14,
    "start_time": "2023-01-09T12:56:02.847Z"
   },
   {
    "duration": 13,
    "start_time": "2023-01-09T12:56:02.863Z"
   },
   {
    "duration": 76,
    "start_time": "2023-01-09T12:56:02.878Z"
   },
   {
    "duration": 235,
    "start_time": "2023-01-09T12:56:02.956Z"
   },
   {
    "duration": 11,
    "start_time": "2023-01-09T12:56:03.192Z"
   },
   {
    "duration": 247,
    "start_time": "2023-01-09T12:56:05.844Z"
   },
   {
    "duration": 12,
    "start_time": "2023-01-09T13:29:29.753Z"
   },
   {
    "duration": 2938,
    "start_time": "2023-01-09T13:29:32.052Z"
   },
   {
    "duration": 70,
    "start_time": "2023-01-09T13:41:01.413Z"
   },
   {
    "duration": 3,
    "start_time": "2023-01-09T13:41:10.690Z"
   },
   {
    "duration": 52,
    "start_time": "2023-01-09T13:41:10.695Z"
   },
   {
    "duration": 12,
    "start_time": "2023-01-09T13:41:10.749Z"
   },
   {
    "duration": 1291,
    "start_time": "2023-01-09T13:41:10.762Z"
   },
   {
    "duration": 15,
    "start_time": "2023-01-09T13:41:12.055Z"
   },
   {
    "duration": 54,
    "start_time": "2023-01-09T13:41:12.071Z"
   },
   {
    "duration": 5,
    "start_time": "2023-01-09T13:41:12.126Z"
   },
   {
    "duration": 17,
    "start_time": "2023-01-09T13:41:12.133Z"
   },
   {
    "duration": 6,
    "start_time": "2023-01-09T13:41:12.152Z"
   },
   {
    "duration": 39,
    "start_time": "2023-01-09T13:41:12.159Z"
   },
   {
    "duration": 10,
    "start_time": "2023-01-09T13:41:12.202Z"
   },
   {
    "duration": 219,
    "start_time": "2023-01-09T13:41:12.213Z"
   },
   {
    "duration": 34,
    "start_time": "2023-01-09T13:41:12.434Z"
   },
   {
    "duration": 0,
    "start_time": "2023-01-09T13:41:12.470Z"
   },
   {
    "duration": 0,
    "start_time": "2023-01-09T13:41:12.471Z"
   },
   {
    "duration": 0,
    "start_time": "2023-01-09T13:41:12.473Z"
   },
   {
    "duration": 0,
    "start_time": "2023-01-09T13:41:12.474Z"
   },
   {
    "duration": 1,
    "start_time": "2023-01-09T13:41:12.474Z"
   },
   {
    "duration": 0,
    "start_time": "2023-01-09T13:41:12.497Z"
   },
   {
    "duration": 0,
    "start_time": "2023-01-09T13:41:12.498Z"
   },
   {
    "duration": 0,
    "start_time": "2023-01-09T13:41:12.499Z"
   },
   {
    "duration": 0,
    "start_time": "2023-01-09T13:41:12.500Z"
   },
   {
    "duration": 0,
    "start_time": "2023-01-09T13:41:12.501Z"
   },
   {
    "duration": 0,
    "start_time": "2023-01-09T13:41:12.501Z"
   },
   {
    "duration": 0,
    "start_time": "2023-01-09T13:41:12.502Z"
   },
   {
    "duration": 0,
    "start_time": "2023-01-09T13:41:12.503Z"
   },
   {
    "duration": 0,
    "start_time": "2023-01-09T13:41:12.504Z"
   },
   {
    "duration": 0,
    "start_time": "2023-01-09T13:41:12.505Z"
   },
   {
    "duration": 0,
    "start_time": "2023-01-09T13:41:12.506Z"
   },
   {
    "duration": 0,
    "start_time": "2023-01-09T13:41:12.507Z"
   },
   {
    "duration": 0,
    "start_time": "2023-01-09T13:41:12.507Z"
   },
   {
    "duration": 15,
    "start_time": "2023-01-09T13:41:26.218Z"
   },
   {
    "duration": 3,
    "start_time": "2023-01-09T13:42:50.247Z"
   },
   {
    "duration": 47,
    "start_time": "2023-01-09T13:42:50.252Z"
   },
   {
    "duration": 17,
    "start_time": "2023-01-09T13:42:50.308Z"
   },
   {
    "duration": 1279,
    "start_time": "2023-01-09T13:42:50.326Z"
   },
   {
    "duration": 18,
    "start_time": "2023-01-09T13:42:51.615Z"
   },
   {
    "duration": 34,
    "start_time": "2023-01-09T13:42:51.634Z"
   },
   {
    "duration": 5,
    "start_time": "2023-01-09T13:42:51.670Z"
   },
   {
    "duration": 27,
    "start_time": "2023-01-09T13:42:51.676Z"
   },
   {
    "duration": 17,
    "start_time": "2023-01-09T13:42:51.705Z"
   },
   {
    "duration": 24,
    "start_time": "2023-01-09T13:42:51.723Z"
   },
   {
    "duration": 6,
    "start_time": "2023-01-09T13:42:51.749Z"
   },
   {
    "duration": 9,
    "start_time": "2023-01-09T13:42:51.756Z"
   },
   {
    "duration": 9,
    "start_time": "2023-01-09T13:42:51.767Z"
   },
   {
    "duration": 32,
    "start_time": "2023-01-09T13:42:51.777Z"
   },
   {
    "duration": 4,
    "start_time": "2023-01-09T13:42:51.814Z"
   },
   {
    "duration": 40,
    "start_time": "2023-01-09T13:42:51.820Z"
   },
   {
    "duration": 12,
    "start_time": "2023-01-09T13:42:51.861Z"
   },
   {
    "duration": 28,
    "start_time": "2023-01-09T13:42:51.874Z"
   },
   {
    "duration": 109,
    "start_time": "2023-01-09T13:42:51.906Z"
   },
   {
    "duration": 210,
    "start_time": "2023-01-09T13:42:52.017Z"
   },
   {
    "duration": 8,
    "start_time": "2023-01-09T13:42:52.228Z"
   },
   {
    "duration": 261,
    "start_time": "2023-01-09T13:42:52.238Z"
   },
   {
    "duration": 15,
    "start_time": "2023-01-09T13:42:52.505Z"
   },
   {
    "duration": 3229,
    "start_time": "2023-01-09T13:42:52.521Z"
   },
   {
    "duration": 6,
    "start_time": "2023-01-09T13:42:55.751Z"
   },
   {
    "duration": 10,
    "start_time": "2023-01-09T13:42:55.759Z"
   },
   {
    "duration": 41,
    "start_time": "2023-01-09T13:42:55.771Z"
   },
   {
    "duration": 2974,
    "start_time": "2023-01-09T13:42:55.814Z"
   },
   {
    "duration": 143,
    "start_time": "2023-01-09T13:43:12.352Z"
   },
   {
    "duration": 618,
    "start_time": "2023-01-09T13:44:14.895Z"
   },
   {
    "duration": 226,
    "start_time": "2023-01-09T13:44:27.411Z"
   },
   {
    "duration": 750,
    "start_time": "2023-01-09T13:45:33.638Z"
   },
   {
    "duration": 48,
    "start_time": "2023-01-09T13:52:07.339Z"
   },
   {
    "duration": 437,
    "start_time": "2023-01-09T13:52:11.357Z"
   },
   {
    "duration": 217,
    "start_time": "2023-01-09T13:52:11.797Z"
   },
   {
    "duration": 14,
    "start_time": "2023-01-09T13:52:12.016Z"
   },
   {
    "duration": 1921,
    "start_time": "2023-01-09T13:52:12.032Z"
   },
   {
    "duration": 30,
    "start_time": "2023-01-09T13:52:13.955Z"
   },
   {
    "duration": 50,
    "start_time": "2023-01-09T13:52:13.987Z"
   },
   {
    "duration": 7,
    "start_time": "2023-01-09T13:52:14.039Z"
   },
   {
    "duration": 34,
    "start_time": "2023-01-09T13:52:14.048Z"
   },
   {
    "duration": 15,
    "start_time": "2023-01-09T13:52:14.085Z"
   },
   {
    "duration": 21,
    "start_time": "2023-01-09T13:52:14.103Z"
   },
   {
    "duration": 17,
    "start_time": "2023-01-09T13:52:14.126Z"
   },
   {
    "duration": 23,
    "start_time": "2023-01-09T13:52:14.145Z"
   },
   {
    "duration": 30,
    "start_time": "2023-01-09T13:52:14.171Z"
   },
   {
    "duration": 30,
    "start_time": "2023-01-09T13:52:14.202Z"
   },
   {
    "duration": 5,
    "start_time": "2023-01-09T13:52:14.234Z"
   },
   {
    "duration": 12,
    "start_time": "2023-01-09T13:52:14.241Z"
   },
   {
    "duration": 14,
    "start_time": "2023-01-09T13:52:14.255Z"
   },
   {
    "duration": 13,
    "start_time": "2023-01-09T13:52:14.271Z"
   },
   {
    "duration": 74,
    "start_time": "2023-01-09T13:52:14.286Z"
   },
   {
    "duration": 258,
    "start_time": "2023-01-09T13:52:14.362Z"
   },
   {
    "duration": 9,
    "start_time": "2023-01-09T13:52:14.623Z"
   },
   {
    "duration": 274,
    "start_time": "2023-01-09T13:52:14.634Z"
   },
   {
    "duration": 15,
    "start_time": "2023-01-09T13:52:14.911Z"
   },
   {
    "duration": 3159,
    "start_time": "2023-01-09T13:52:14.928Z"
   },
   {
    "duration": 12,
    "start_time": "2023-01-09T13:52:18.090Z"
   },
   {
    "duration": 16,
    "start_time": "2023-01-09T13:52:18.105Z"
   },
   {
    "duration": 20,
    "start_time": "2023-01-09T13:52:18.124Z"
   },
   {
    "duration": 3573,
    "start_time": "2023-01-09T13:52:18.152Z"
   },
   {
    "duration": 251,
    "start_time": "2023-01-09T13:52:21.727Z"
   },
   {
    "duration": 245,
    "start_time": "2023-01-09T13:52:21.980Z"
   },
   {
    "duration": 1552,
    "start_time": "2023-01-09T13:52:22.227Z"
   },
   {
    "duration": 11,
    "start_time": "2023-01-09T13:52:23.781Z"
   },
   {
    "duration": 38,
    "start_time": "2023-01-09T13:52:23.794Z"
   },
   {
    "duration": 1392,
    "start_time": "2023-01-09T13:52:23.834Z"
   },
   {
    "duration": 18,
    "start_time": "2023-01-09T13:52:25.227Z"
   },
   {
    "duration": 28,
    "start_time": "2023-01-09T13:52:25.246Z"
   },
   {
    "duration": 207,
    "start_time": "2023-01-09T13:52:25.276Z"
   },
   {
    "duration": 8,
    "start_time": "2023-01-09T13:52:25.484Z"
   },
   {
    "duration": 176,
    "start_time": "2023-01-09T13:52:25.493Z"
   },
   {
    "duration": 7,
    "start_time": "2023-01-09T13:52:25.688Z"
   },
   {
    "duration": 31,
    "start_time": "2023-01-09T13:52:25.697Z"
   },
   {
    "duration": 33,
    "start_time": "2023-01-09T13:52:25.730Z"
   },
   {
    "duration": 121,
    "start_time": "2023-01-09T13:52:25.766Z"
   },
   {
    "duration": 5,
    "start_time": "2023-01-09T13:52:25.889Z"
   },
   {
    "duration": 32,
    "start_time": "2023-01-09T13:52:25.896Z"
   },
   {
    "duration": 19,
    "start_time": "2023-01-09T13:52:25.929Z"
   },
   {
    "duration": 33,
    "start_time": "2023-01-09T13:52:25.949Z"
   },
   {
    "duration": 258,
    "start_time": "2023-01-09T13:52:25.983Z"
   },
   {
    "duration": 6,
    "start_time": "2023-01-09T13:52:26.243Z"
   },
   {
    "duration": 32,
    "start_time": "2023-01-09T13:52:26.250Z"
   },
   {
    "duration": 40,
    "start_time": "2023-01-09T13:52:26.283Z"
   },
   {
    "duration": 17,
    "start_time": "2023-01-09T13:52:26.324Z"
   },
   {
    "duration": 109,
    "start_time": "2023-01-09T13:52:26.343Z"
   },
   {
    "duration": 5,
    "start_time": "2023-01-09T13:52:26.454Z"
   },
   {
    "duration": 35,
    "start_time": "2023-01-09T13:52:26.460Z"
   },
   {
    "duration": 44,
    "start_time": "2023-01-09T13:52:26.496Z"
   },
   {
    "duration": 24,
    "start_time": "2023-01-09T13:52:26.542Z"
   },
   {
    "duration": 114,
    "start_time": "2023-01-09T13:52:26.568Z"
   },
   {
    "duration": 5,
    "start_time": "2023-01-09T13:52:26.685Z"
   },
   {
    "duration": 20,
    "start_time": "2023-01-09T13:52:26.692Z"
   },
   {
    "duration": 28,
    "start_time": "2023-01-09T13:52:26.714Z"
   },
   {
    "duration": 124,
    "start_time": "2023-01-09T13:52:26.743Z"
   },
   {
    "duration": 13,
    "start_time": "2023-01-09T13:52:26.868Z"
   },
   {
    "duration": 53,
    "start_time": "2023-01-09T13:52:26.882Z"
   },
   {
    "duration": 34,
    "start_time": "2023-01-09T13:52:26.936Z"
   },
   {
    "duration": 117,
    "start_time": "2023-01-09T13:52:26.972Z"
   },
   {
    "duration": 6,
    "start_time": "2023-01-09T13:52:27.090Z"
   },
   {
    "duration": 411,
    "start_time": "2023-01-09T13:52:27.098Z"
   },
   {
    "duration": 9,
    "start_time": "2023-01-09T13:52:27.511Z"
   },
   {
    "duration": 54,
    "start_time": "2023-01-09T13:52:27.522Z"
   },
   {
    "duration": 169,
    "start_time": "2023-01-09T14:04:22.151Z"
   },
   {
    "duration": 1351,
    "start_time": "2023-01-09T14:06:37.151Z"
   },
   {
    "duration": 1238,
    "start_time": "2023-01-09T14:06:56.519Z"
   },
   {
    "duration": 168,
    "start_time": "2023-01-09T14:09:28.587Z"
   },
   {
    "duration": 82,
    "start_time": "2023-01-09T14:10:21.542Z"
   },
   {
    "duration": 10,
    "start_time": "2023-01-09T14:10:58.654Z"
   },
   {
    "duration": 253,
    "start_time": "2023-01-09T14:11:32.828Z"
   },
   {
    "duration": 6,
    "start_time": "2023-01-09T14:11:48.169Z"
   },
   {
    "duration": 10,
    "start_time": "2023-01-09T14:11:50.702Z"
   },
   {
    "duration": 10,
    "start_time": "2023-01-09T14:14:15.348Z"
   },
   {
    "duration": 4,
    "start_time": "2023-01-09T14:14:26.782Z"
   },
   {
    "duration": 100,
    "start_time": "2023-01-09T14:14:26.788Z"
   },
   {
    "duration": 20,
    "start_time": "2023-01-09T14:14:26.892Z"
   },
   {
    "duration": 1610,
    "start_time": "2023-01-09T14:14:26.914Z"
   },
   {
    "duration": 15,
    "start_time": "2023-01-09T14:14:28.526Z"
   },
   {
    "duration": 63,
    "start_time": "2023-01-09T14:14:28.543Z"
   },
   {
    "duration": 5,
    "start_time": "2023-01-09T14:14:28.608Z"
   },
   {
    "duration": 23,
    "start_time": "2023-01-09T14:14:28.615Z"
   },
   {
    "duration": 12,
    "start_time": "2023-01-09T14:14:28.640Z"
   },
   {
    "duration": 16,
    "start_time": "2023-01-09T14:14:28.654Z"
   },
   {
    "duration": 6,
    "start_time": "2023-01-09T14:14:28.677Z"
   },
   {
    "duration": 23,
    "start_time": "2023-01-09T14:14:28.685Z"
   },
   {
    "duration": 14,
    "start_time": "2023-01-09T14:14:28.709Z"
   },
   {
    "duration": 18,
    "start_time": "2023-01-09T14:14:28.724Z"
   },
   {
    "duration": 5,
    "start_time": "2023-01-09T14:14:28.744Z"
   },
   {
    "duration": 11,
    "start_time": "2023-01-09T14:14:28.750Z"
   },
   {
    "duration": 16,
    "start_time": "2023-01-09T14:14:28.763Z"
   },
   {
    "duration": 15,
    "start_time": "2023-01-09T14:14:28.781Z"
   },
   {
    "duration": 82,
    "start_time": "2023-01-09T14:14:28.798Z"
   },
   {
    "duration": 239,
    "start_time": "2023-01-09T14:14:28.882Z"
   },
   {
    "duration": 9,
    "start_time": "2023-01-09T14:14:29.123Z"
   },
   {
    "duration": 272,
    "start_time": "2023-01-09T14:14:29.134Z"
   },
   {
    "duration": 27,
    "start_time": "2023-01-09T14:14:29.408Z"
   },
   {
    "duration": 3308,
    "start_time": "2023-01-09T14:14:29.437Z"
   },
   {
    "duration": 9,
    "start_time": "2023-01-09T14:14:32.747Z"
   },
   {
    "duration": 22,
    "start_time": "2023-01-09T14:14:32.757Z"
   },
   {
    "duration": 29,
    "start_time": "2023-01-09T14:14:32.781Z"
   },
   {
    "duration": 3222,
    "start_time": "2023-01-09T14:14:32.812Z"
   },
   {
    "duration": 496,
    "start_time": "2023-01-09T14:14:36.037Z"
   },
   {
    "duration": 71,
    "start_time": "2023-01-09T14:14:36.535Z"
   },
   {
    "duration": 0,
    "start_time": "2023-01-09T14:14:36.608Z"
   },
   {
    "duration": 0,
    "start_time": "2023-01-09T14:14:36.609Z"
   },
   {
    "duration": 0,
    "start_time": "2023-01-09T14:14:36.610Z"
   },
   {
    "duration": 254,
    "start_time": "2023-01-09T14:14:38.289Z"
   },
   {
    "duration": 7,
    "start_time": "2023-01-09T14:14:46.374Z"
   },
   {
    "duration": 12,
    "start_time": "2023-01-09T14:14:48.395Z"
   },
   {
    "duration": 159,
    "start_time": "2023-01-09T14:16:06.854Z"
   },
   {
    "duration": 9,
    "start_time": "2023-01-09T14:16:41.307Z"
   },
   {
    "duration": 271,
    "start_time": "2023-01-09T14:19:27.271Z"
   },
   {
    "duration": 193,
    "start_time": "2023-01-09T14:22:38.454Z"
   },
   {
    "duration": 13,
    "start_time": "2023-01-09T14:26:26.838Z"
   },
   {
    "duration": 12,
    "start_time": "2023-01-09T14:26:33.473Z"
   },
   {
    "duration": 1219,
    "start_time": "2023-01-09T14:26:42.703Z"
   },
   {
    "duration": 1371,
    "start_time": "2023-01-09T14:27:10.663Z"
   },
   {
    "duration": 15,
    "start_time": "2023-01-09T14:27:46.313Z"
   },
   {
    "duration": 4,
    "start_time": "2023-01-09T14:28:19.126Z"
   },
   {
    "duration": 72,
    "start_time": "2023-01-09T14:28:19.132Z"
   },
   {
    "duration": 27,
    "start_time": "2023-01-09T14:28:19.207Z"
   },
   {
    "duration": 1763,
    "start_time": "2023-01-09T14:28:19.237Z"
   },
   {
    "duration": 17,
    "start_time": "2023-01-09T14:28:21.002Z"
   },
   {
    "duration": 59,
    "start_time": "2023-01-09T14:28:21.022Z"
   },
   {
    "duration": 6,
    "start_time": "2023-01-09T14:28:21.083Z"
   },
   {
    "duration": 15,
    "start_time": "2023-01-09T14:28:21.091Z"
   },
   {
    "duration": 7,
    "start_time": "2023-01-09T14:28:21.108Z"
   },
   {
    "duration": 26,
    "start_time": "2023-01-09T14:28:21.117Z"
   },
   {
    "duration": 39,
    "start_time": "2023-01-09T14:28:21.148Z"
   },
   {
    "duration": 21,
    "start_time": "2023-01-09T14:28:21.190Z"
   },
   {
    "duration": 19,
    "start_time": "2023-01-09T14:28:21.214Z"
   },
   {
    "duration": 22,
    "start_time": "2023-01-09T14:28:21.235Z"
   },
   {
    "duration": 6,
    "start_time": "2023-01-09T14:28:21.259Z"
   },
   {
    "duration": 18,
    "start_time": "2023-01-09T14:28:21.267Z"
   },
   {
    "duration": 13,
    "start_time": "2023-01-09T14:28:21.287Z"
   },
   {
    "duration": 19,
    "start_time": "2023-01-09T14:28:21.303Z"
   },
   {
    "duration": 161,
    "start_time": "2023-01-09T14:28:21.325Z"
   },
   {
    "duration": 254,
    "start_time": "2023-01-09T14:28:21.488Z"
   },
   {
    "duration": 10,
    "start_time": "2023-01-09T14:28:21.744Z"
   },
   {
    "duration": 317,
    "start_time": "2023-01-09T14:28:21.756Z"
   },
   {
    "duration": 13,
    "start_time": "2023-01-09T14:28:22.075Z"
   },
   {
    "duration": 3325,
    "start_time": "2023-01-09T14:28:22.090Z"
   },
   {
    "duration": 8,
    "start_time": "2023-01-09T14:28:25.417Z"
   },
   {
    "duration": 18,
    "start_time": "2023-01-09T14:28:25.427Z"
   },
   {
    "duration": 11,
    "start_time": "2023-01-09T14:28:42.217Z"
   },
   {
    "duration": 911,
    "start_time": "2023-01-09T14:28:50.098Z"
   },
   {
    "duration": 715,
    "start_time": "2023-01-09T14:29:16.776Z"
   },
   {
    "duration": 74,
    "start_time": "2023-01-09T14:31:36.335Z"
   },
   {
    "duration": 238,
    "start_time": "2023-01-09T14:31:44.523Z"
   },
   {
    "duration": 6,
    "start_time": "2023-01-09T14:31:50.076Z"
   },
   {
    "duration": 16,
    "start_time": "2023-01-09T14:31:51.806Z"
   },
   {
    "duration": 863,
    "start_time": "2023-01-09T14:33:44.919Z"
   },
   {
    "duration": 15,
    "start_time": "2023-01-09T14:34:17.790Z"
   },
   {
    "duration": 177,
    "start_time": "2023-01-09T14:39:30.654Z"
   },
   {
    "duration": 100,
    "start_time": "2023-01-09T14:40:15.068Z"
   },
   {
    "duration": 172,
    "start_time": "2023-01-09T14:40:24.114Z"
   },
   {
    "duration": 10,
    "start_time": "2023-01-09T14:41:44.963Z"
   },
   {
    "duration": 13,
    "start_time": "2023-01-09T14:42:49.768Z"
   },
   {
    "duration": 241,
    "start_time": "2023-01-09T14:43:56.378Z"
   },
   {
    "duration": 8,
    "start_time": "2023-01-09T14:44:09.983Z"
   },
   {
    "duration": 180,
    "start_time": "2023-01-09T14:45:22.149Z"
   },
   {
    "duration": 464,
    "start_time": "2023-01-09T14:46:44.775Z"
   },
   {
    "duration": 15,
    "start_time": "2023-01-09T14:47:02.381Z"
   },
   {
    "duration": 245,
    "start_time": "2023-01-09T14:47:33.005Z"
   },
   {
    "duration": 152,
    "start_time": "2023-01-09T14:55:13.619Z"
   },
   {
    "duration": 10,
    "start_time": "2023-01-09T14:55:24.075Z"
   },
   {
    "duration": 231,
    "start_time": "2023-01-09T14:56:36.128Z"
   },
   {
    "duration": 252,
    "start_time": "2023-01-09T14:57:44.503Z"
   },
   {
    "duration": 265,
    "start_time": "2023-01-09T14:57:50.105Z"
   },
   {
    "duration": 329,
    "start_time": "2023-01-09T14:57:57.969Z"
   },
   {
    "duration": 326,
    "start_time": "2023-01-09T14:59:03.340Z"
   },
   {
    "duration": 306,
    "start_time": "2023-01-09T14:59:18.386Z"
   },
   {
    "duration": 329,
    "start_time": "2023-01-09T15:00:22.310Z"
   },
   {
    "duration": 307,
    "start_time": "2023-01-09T15:00:34.236Z"
   },
   {
    "duration": 551,
    "start_time": "2023-01-09T15:00:38.518Z"
   },
   {
    "duration": 26,
    "start_time": "2023-01-09T15:18:46.829Z"
   },
   {
    "duration": 10,
    "start_time": "2023-01-09T15:21:31.800Z"
   },
   {
    "duration": 11,
    "start_time": "2023-01-09T15:21:44.833Z"
   },
   {
    "duration": 17,
    "start_time": "2023-01-09T15:21:56.417Z"
   },
   {
    "duration": 9,
    "start_time": "2023-01-09T15:22:02.204Z"
   },
   {
    "duration": 10,
    "start_time": "2023-01-09T15:24:32.858Z"
   },
   {
    "duration": 13,
    "start_time": "2023-01-09T15:24:35.996Z"
   },
   {
    "duration": 3,
    "start_time": "2023-01-09T15:25:47.516Z"
   },
   {
    "duration": 97,
    "start_time": "2023-01-09T15:27:05.348Z"
   },
   {
    "duration": 10,
    "start_time": "2023-01-09T15:27:51.352Z"
   },
   {
    "duration": 122,
    "start_time": "2023-01-09T15:29:08.415Z"
   },
   {
    "duration": 114,
    "start_time": "2023-01-09T15:29:36.000Z"
   },
   {
    "duration": 146,
    "start_time": "2023-01-09T15:29:48.256Z"
   },
   {
    "duration": 14,
    "start_time": "2023-01-09T15:34:54.095Z"
   },
   {
    "duration": 97,
    "start_time": "2023-01-09T15:34:56.017Z"
   },
   {
    "duration": 10,
    "start_time": "2023-01-09T15:39:49.786Z"
   },
   {
    "duration": 99,
    "start_time": "2023-01-09T15:40:14.115Z"
   },
   {
    "duration": 12,
    "start_time": "2023-01-09T15:49:33.057Z"
   },
   {
    "duration": 11,
    "start_time": "2023-01-09T15:49:47.456Z"
   },
   {
    "duration": 10,
    "start_time": "2023-01-09T15:51:06.625Z"
   },
   {
    "duration": 16,
    "start_time": "2023-01-09T15:52:00.214Z"
   },
   {
    "duration": 3,
    "start_time": "2023-01-09T16:14:01.046Z"
   },
   {
    "duration": 102,
    "start_time": "2023-01-09T16:14:01.052Z"
   },
   {
    "duration": 16,
    "start_time": "2023-01-09T16:14:01.156Z"
   },
   {
    "duration": 1571,
    "start_time": "2023-01-09T16:14:01.174Z"
   },
   {
    "duration": 16,
    "start_time": "2023-01-09T16:14:02.748Z"
   },
   {
    "duration": 49,
    "start_time": "2023-01-09T16:14:02.765Z"
   },
   {
    "duration": 6,
    "start_time": "2023-01-09T16:14:02.816Z"
   },
   {
    "duration": 19,
    "start_time": "2023-01-09T16:14:02.824Z"
   },
   {
    "duration": 33,
    "start_time": "2023-01-09T16:14:02.845Z"
   },
   {
    "duration": 16,
    "start_time": "2023-01-09T16:14:02.880Z"
   },
   {
    "duration": 7,
    "start_time": "2023-01-09T16:14:02.900Z"
   },
   {
    "duration": 8,
    "start_time": "2023-01-09T16:14:02.909Z"
   },
   {
    "duration": 12,
    "start_time": "2023-01-09T16:14:02.920Z"
   },
   {
    "duration": 45,
    "start_time": "2023-01-09T16:14:02.934Z"
   },
   {
    "duration": 6,
    "start_time": "2023-01-09T16:14:02.981Z"
   },
   {
    "duration": 16,
    "start_time": "2023-01-09T16:14:02.989Z"
   },
   {
    "duration": 12,
    "start_time": "2023-01-09T16:14:03.007Z"
   },
   {
    "duration": 14,
    "start_time": "2023-01-09T16:14:03.021Z"
   },
   {
    "duration": 98,
    "start_time": "2023-01-09T16:14:03.036Z"
   },
   {
    "duration": 243,
    "start_time": "2023-01-09T16:14:03.136Z"
   },
   {
    "duration": 8,
    "start_time": "2023-01-09T16:14:03.381Z"
   },
   {
    "duration": 292,
    "start_time": "2023-01-09T16:14:03.391Z"
   },
   {
    "duration": 13,
    "start_time": "2023-01-09T16:14:03.685Z"
   },
   {
    "duration": 3352,
    "start_time": "2023-01-09T16:14:03.700Z"
   },
   {
    "duration": 7,
    "start_time": "2023-01-09T16:14:07.054Z"
   },
   {
    "duration": 21,
    "start_time": "2023-01-09T16:14:07.063Z"
   },
   {
    "duration": 17,
    "start_time": "2023-01-09T16:14:07.086Z"
   },
   {
    "duration": 839,
    "start_time": "2023-01-09T16:14:07.104Z"
   },
   {
    "duration": 259,
    "start_time": "2023-01-09T16:14:07.947Z"
   },
   {
    "duration": 292,
    "start_time": "2023-01-09T16:14:08.208Z"
   },
   {
    "duration": 698,
    "start_time": "2023-01-09T16:14:08.503Z"
   },
   {
    "duration": 7,
    "start_time": "2023-01-09T16:14:09.204Z"
   },
   {
    "duration": 31,
    "start_time": "2023-01-09T16:14:09.213Z"
   },
   {
    "duration": 717,
    "start_time": "2023-01-09T16:14:09.245Z"
   },
   {
    "duration": 23,
    "start_time": "2023-01-09T16:14:09.963Z"
   },
   {
    "duration": 7,
    "start_time": "2023-01-09T16:14:09.987Z"
   },
   {
    "duration": 190,
    "start_time": "2023-01-09T16:14:09.995Z"
   },
   {
    "duration": 8,
    "start_time": "2023-01-09T16:14:10.187Z"
   },
   {
    "duration": 186,
    "start_time": "2023-01-09T16:14:10.197Z"
   },
   {
    "duration": 8,
    "start_time": "2023-01-09T16:14:10.385Z"
   },
   {
    "duration": 362,
    "start_time": "2023-01-09T16:14:10.395Z"
   },
   {
    "duration": 7,
    "start_time": "2023-01-09T16:14:10.759Z"
   },
   {
    "duration": 11,
    "start_time": "2023-01-09T16:14:10.768Z"
   },
   {
    "duration": 6,
    "start_time": "2023-01-09T16:14:10.781Z"
   },
   {
    "duration": 119,
    "start_time": "2023-01-09T16:14:10.788Z"
   },
   {
    "duration": 6,
    "start_time": "2023-01-09T16:14:10.909Z"
   },
   {
    "duration": 11,
    "start_time": "2023-01-09T16:14:10.916Z"
   },
   {
    "duration": 10,
    "start_time": "2023-01-09T16:14:10.928Z"
   },
   {
    "duration": 16,
    "start_time": "2023-01-09T16:14:10.940Z"
   },
   {
    "duration": 123,
    "start_time": "2023-01-09T16:14:10.958Z"
   },
   {
    "duration": 6,
    "start_time": "2023-01-09T16:14:11.082Z"
   },
   {
    "duration": 11,
    "start_time": "2023-01-09T16:14:11.089Z"
   },
   {
    "duration": 11,
    "start_time": "2023-01-09T16:14:11.102Z"
   },
   {
    "duration": 7,
    "start_time": "2023-01-09T16:14:11.114Z"
   },
   {
    "duration": 115,
    "start_time": "2023-01-09T16:14:11.123Z"
   },
   {
    "duration": 5,
    "start_time": "2023-01-09T16:14:11.240Z"
   },
   {
    "duration": 13,
    "start_time": "2023-01-09T16:14:11.247Z"
   },
   {
    "duration": 32,
    "start_time": "2023-01-09T16:14:11.262Z"
   },
   {
    "duration": 13,
    "start_time": "2023-01-09T16:14:11.296Z"
   },
   {
    "duration": 143,
    "start_time": "2023-01-09T16:14:11.311Z"
   },
   {
    "duration": 7,
    "start_time": "2023-01-09T16:14:11.456Z"
   },
   {
    "duration": 18,
    "start_time": "2023-01-09T16:14:11.464Z"
   },
   {
    "duration": 5,
    "start_time": "2023-01-09T16:14:11.484Z"
   },
   {
    "duration": 132,
    "start_time": "2023-01-09T16:14:11.491Z"
   },
   {
    "duration": 7,
    "start_time": "2023-01-09T16:14:11.625Z"
   },
   {
    "duration": 14,
    "start_time": "2023-01-09T16:14:11.634Z"
   },
   {
    "duration": 12,
    "start_time": "2023-01-09T16:14:11.650Z"
   },
   {
    "duration": 151,
    "start_time": "2023-01-09T16:14:11.664Z"
   },
   {
    "duration": 7,
    "start_time": "2023-01-09T16:14:11.816Z"
   },
   {
    "duration": 17,
    "start_time": "2023-01-09T16:14:11.825Z"
   },
   {
    "duration": 15,
    "start_time": "2023-01-09T16:14:11.844Z"
   },
   {
    "duration": 107,
    "start_time": "2023-01-09T16:14:11.861Z"
   },
   {
    "duration": 14,
    "start_time": "2023-01-09T16:14:11.970Z"
   },
   {
    "duration": 25,
    "start_time": "2023-01-09T16:14:11.985Z"
   },
   {
    "duration": 113,
    "start_time": "2023-01-09T16:14:12.012Z"
   },
   {
    "duration": 7,
    "start_time": "2023-01-09T16:14:12.127Z"
   },
   {
    "duration": 28,
    "start_time": "2023-01-09T16:14:12.137Z"
   },
   {
    "duration": 175,
    "start_time": "2023-01-09T16:14:12.168Z"
   },
   {
    "duration": 4,
    "start_time": "2023-01-09T16:14:12.344Z"
   },
   {
    "duration": 17,
    "start_time": "2023-01-09T16:14:12.350Z"
   },
   {
    "duration": 25,
    "start_time": "2023-01-09T16:14:12.369Z"
   },
   {
    "duration": 3,
    "start_time": "2023-01-09T16:22:00.705Z"
   },
   {
    "duration": 89,
    "start_time": "2023-01-09T16:22:00.710Z"
   },
   {
    "duration": 13,
    "start_time": "2023-01-09T16:22:00.801Z"
   },
   {
    "duration": 1866,
    "start_time": "2023-01-09T16:22:00.816Z"
   },
   {
    "duration": 17,
    "start_time": "2023-01-09T16:22:02.684Z"
   },
   {
    "duration": 50,
    "start_time": "2023-01-09T16:22:02.703Z"
   },
   {
    "duration": 6,
    "start_time": "2023-01-09T16:22:02.778Z"
   },
   {
    "duration": 12,
    "start_time": "2023-01-09T16:22:02.786Z"
   },
   {
    "duration": 7,
    "start_time": "2023-01-09T16:22:02.800Z"
   },
   {
    "duration": 19,
    "start_time": "2023-01-09T16:22:02.808Z"
   },
   {
    "duration": 10,
    "start_time": "2023-01-09T16:22:02.829Z"
   },
   {
    "duration": 8,
    "start_time": "2023-01-09T16:22:02.841Z"
   },
   {
    "duration": 38,
    "start_time": "2023-01-09T16:22:02.850Z"
   },
   {
    "duration": 22,
    "start_time": "2023-01-09T16:22:02.890Z"
   },
   {
    "duration": 6,
    "start_time": "2023-01-09T16:22:02.914Z"
   },
   {
    "duration": 10,
    "start_time": "2023-01-09T16:22:02.922Z"
   },
   {
    "duration": 16,
    "start_time": "2023-01-09T16:22:02.944Z"
   },
   {
    "duration": 22,
    "start_time": "2023-01-09T16:22:02.962Z"
   },
   {
    "duration": 76,
    "start_time": "2023-01-09T16:22:02.986Z"
   },
   {
    "duration": 228,
    "start_time": "2023-01-09T16:22:03.064Z"
   },
   {
    "duration": 9,
    "start_time": "2023-01-09T16:22:03.295Z"
   },
   {
    "duration": 290,
    "start_time": "2023-01-09T16:22:03.306Z"
   },
   {
    "duration": 14,
    "start_time": "2023-01-09T16:22:03.598Z"
   },
   {
    "duration": 3107,
    "start_time": "2023-01-09T16:22:03.614Z"
   },
   {
    "duration": 8,
    "start_time": "2023-01-09T16:22:06.723Z"
   },
   {
    "duration": 12,
    "start_time": "2023-01-09T16:22:06.733Z"
   },
   {
    "duration": 32,
    "start_time": "2023-01-09T16:22:06.747Z"
   },
   {
    "duration": 1199,
    "start_time": "2023-01-09T16:22:06.781Z"
   },
   {
    "duration": 270,
    "start_time": "2023-01-09T16:22:07.984Z"
   },
   {
    "duration": 283,
    "start_time": "2023-01-09T16:22:08.256Z"
   },
   {
    "duration": 696,
    "start_time": "2023-01-09T16:22:08.541Z"
   },
   {
    "duration": 6,
    "start_time": "2023-01-09T16:22:09.239Z"
   },
   {
    "duration": 33,
    "start_time": "2023-01-09T16:22:09.246Z"
   },
   {
    "duration": 697,
    "start_time": "2023-01-09T16:22:09.281Z"
   },
   {
    "duration": 14,
    "start_time": "2023-01-09T16:22:09.980Z"
   },
   {
    "duration": 7,
    "start_time": "2023-01-09T16:22:09.996Z"
   },
   {
    "duration": 205,
    "start_time": "2023-01-09T16:22:10.005Z"
   },
   {
    "duration": 8,
    "start_time": "2023-01-09T16:22:10.212Z"
   },
   {
    "duration": 201,
    "start_time": "2023-01-09T16:22:10.222Z"
   },
   {
    "duration": 10,
    "start_time": "2023-01-09T16:22:10.425Z"
   },
   {
    "duration": 330,
    "start_time": "2023-01-09T16:22:10.437Z"
   },
   {
    "duration": 16,
    "start_time": "2023-01-09T16:22:10.769Z"
   },
   {
    "duration": 4,
    "start_time": "2023-01-09T16:22:10.787Z"
   },
   {
    "duration": 8,
    "start_time": "2023-01-09T16:22:10.793Z"
   },
   {
    "duration": 139,
    "start_time": "2023-01-09T16:22:10.803Z"
   },
   {
    "duration": 7,
    "start_time": "2023-01-09T16:22:10.944Z"
   },
   {
    "duration": 25,
    "start_time": "2023-01-09T16:22:10.953Z"
   },
   {
    "duration": 16,
    "start_time": "2023-01-09T16:22:10.980Z"
   },
   {
    "duration": 9,
    "start_time": "2023-01-09T16:22:10.998Z"
   },
   {
    "duration": 149,
    "start_time": "2023-01-09T16:22:11.009Z"
   },
   {
    "duration": 18,
    "start_time": "2023-01-09T16:22:11.160Z"
   },
   {
    "duration": 8,
    "start_time": "2023-01-09T16:22:11.180Z"
   },
   {
    "duration": 17,
    "start_time": "2023-01-09T16:22:11.190Z"
   },
   {
    "duration": 4,
    "start_time": "2023-01-09T16:22:11.209Z"
   },
   {
    "duration": 132,
    "start_time": "2023-01-09T16:22:11.215Z"
   },
   {
    "duration": 6,
    "start_time": "2023-01-09T16:22:11.350Z"
   },
   {
    "duration": 20,
    "start_time": "2023-01-09T16:22:11.358Z"
   },
   {
    "duration": 9,
    "start_time": "2023-01-09T16:22:11.380Z"
   },
   {
    "duration": 12,
    "start_time": "2023-01-09T16:22:11.391Z"
   },
   {
    "duration": 145,
    "start_time": "2023-01-09T16:22:11.405Z"
   },
   {
    "duration": 7,
    "start_time": "2023-01-09T16:22:11.552Z"
   },
   {
    "duration": 21,
    "start_time": "2023-01-09T16:22:11.562Z"
   },
   {
    "duration": 4,
    "start_time": "2023-01-09T16:22:11.585Z"
   },
   {
    "duration": 133,
    "start_time": "2023-01-09T16:22:11.591Z"
   },
   {
    "duration": 7,
    "start_time": "2023-01-09T16:22:11.726Z"
   },
   {
    "duration": 21,
    "start_time": "2023-01-09T16:22:11.735Z"
   },
   {
    "duration": 8,
    "start_time": "2023-01-09T16:22:11.759Z"
   },
   {
    "duration": 155,
    "start_time": "2023-01-09T16:22:11.779Z"
   },
   {
    "duration": 7,
    "start_time": "2023-01-09T16:22:11.935Z"
   },
   {
    "duration": 11,
    "start_time": "2023-01-09T16:22:11.944Z"
   },
   {
    "duration": 27,
    "start_time": "2023-01-09T16:22:11.957Z"
   },
   {
    "duration": 104,
    "start_time": "2023-01-09T16:22:11.987Z"
   },
   {
    "duration": 11,
    "start_time": "2023-01-09T16:22:12.093Z"
   },
   {
    "duration": 19,
    "start_time": "2023-01-09T16:22:12.106Z"
   },
   {
    "duration": 120,
    "start_time": "2023-01-09T16:22:12.128Z"
   },
   {
    "duration": 8,
    "start_time": "2023-01-09T16:22:12.250Z"
   },
   {
    "duration": 21,
    "start_time": "2023-01-09T16:22:12.259Z"
   },
   {
    "duration": 108,
    "start_time": "2023-01-09T16:22:12.281Z"
   },
   {
    "duration": 3,
    "start_time": "2023-01-09T16:22:12.391Z"
   },
   {
    "duration": 12,
    "start_time": "2023-01-09T16:22:12.395Z"
   },
   {
    "duration": 11,
    "start_time": "2023-01-09T16:22:12.409Z"
   },
   {
    "duration": 371,
    "start_time": "2023-01-10T10:18:37.534Z"
   },
   {
    "duration": 203,
    "start_time": "2023-01-10T10:18:37.906Z"
   },
   {
    "duration": 12,
    "start_time": "2023-01-10T10:18:38.111Z"
   },
   {
    "duration": 1499,
    "start_time": "2023-01-10T10:18:38.125Z"
   },
   {
    "duration": 14,
    "start_time": "2023-01-10T10:18:39.626Z"
   },
   {
    "duration": 43,
    "start_time": "2023-01-10T10:18:39.641Z"
   },
   {
    "duration": 5,
    "start_time": "2023-01-10T10:18:39.685Z"
   },
   {
    "duration": 14,
    "start_time": "2023-01-10T10:18:39.691Z"
   },
   {
    "duration": 5,
    "start_time": "2023-01-10T10:18:39.707Z"
   },
   {
    "duration": 13,
    "start_time": "2023-01-10T10:18:39.714Z"
   },
   {
    "duration": 12,
    "start_time": "2023-01-10T10:18:39.728Z"
   },
   {
    "duration": 11,
    "start_time": "2023-01-10T10:18:39.741Z"
   },
   {
    "duration": 27,
    "start_time": "2023-01-10T10:18:39.753Z"
   },
   {
    "duration": 13,
    "start_time": "2023-01-10T10:18:39.783Z"
   },
   {
    "duration": 4,
    "start_time": "2023-01-10T10:18:39.798Z"
   },
   {
    "duration": 15,
    "start_time": "2023-01-10T10:18:39.804Z"
   },
   {
    "duration": 10,
    "start_time": "2023-01-10T10:18:39.821Z"
   },
   {
    "duration": 8,
    "start_time": "2023-01-10T10:18:39.833Z"
   },
   {
    "duration": 96,
    "start_time": "2023-01-10T10:18:39.842Z"
   },
   {
    "duration": 209,
    "start_time": "2023-01-10T10:18:39.940Z"
   },
   {
    "duration": 8,
    "start_time": "2023-01-10T10:18:40.151Z"
   },
   {
    "duration": 254,
    "start_time": "2023-01-10T10:18:40.160Z"
   },
   {
    "duration": 13,
    "start_time": "2023-01-10T10:18:40.415Z"
   },
   {
    "duration": 2892,
    "start_time": "2023-01-10T10:18:40.429Z"
   },
   {
    "duration": 7,
    "start_time": "2023-01-10T10:18:43.323Z"
   },
   {
    "duration": 10,
    "start_time": "2023-01-10T10:18:43.332Z"
   },
   {
    "duration": 11,
    "start_time": "2023-01-10T10:18:43.343Z"
   },
   {
    "duration": 838,
    "start_time": "2023-01-10T10:18:43.356Z"
   },
   {
    "duration": 240,
    "start_time": "2023-01-10T10:18:44.195Z"
   },
   {
    "duration": 357,
    "start_time": "2023-01-10T10:18:44.437Z"
   },
   {
    "duration": 662,
    "start_time": "2023-01-10T10:18:44.796Z"
   },
   {
    "duration": 6,
    "start_time": "2023-01-10T10:18:45.460Z"
   },
   {
    "duration": 21,
    "start_time": "2023-01-10T10:18:45.467Z"
   },
   {
    "duration": 675,
    "start_time": "2023-01-10T10:18:45.489Z"
   },
   {
    "duration": 19,
    "start_time": "2023-01-10T10:18:46.166Z"
   },
   {
    "duration": 5,
    "start_time": "2023-01-10T10:18:46.187Z"
   },
   {
    "duration": 170,
    "start_time": "2023-01-10T10:18:46.194Z"
   },
   {
    "duration": 13,
    "start_time": "2023-01-10T10:18:46.365Z"
   },
   {
    "duration": 156,
    "start_time": "2023-01-10T10:18:46.379Z"
   },
   {
    "duration": 6,
    "start_time": "2023-01-10T10:18:46.537Z"
   },
   {
    "duration": 385,
    "start_time": "2023-01-10T10:18:46.547Z"
   },
   {
    "duration": 7,
    "start_time": "2023-01-10T10:18:46.933Z"
   },
   {
    "duration": 7,
    "start_time": "2023-01-10T10:18:46.941Z"
   },
   {
    "duration": 9,
    "start_time": "2023-01-10T10:18:46.950Z"
   },
   {
    "duration": 107,
    "start_time": "2023-01-10T10:18:46.960Z"
   },
   {
    "duration": 11,
    "start_time": "2023-01-10T10:18:47.068Z"
   },
   {
    "duration": 8,
    "start_time": "2023-01-10T10:18:47.081Z"
   },
   {
    "duration": 6,
    "start_time": "2023-01-10T10:18:47.090Z"
   },
   {
    "duration": 2,
    "start_time": "2023-01-10T10:18:47.098Z"
   },
   {
    "duration": 119,
    "start_time": "2023-01-10T10:18:47.102Z"
   },
   {
    "duration": 6,
    "start_time": "2023-01-10T10:18:47.223Z"
   },
   {
    "duration": 9,
    "start_time": "2023-01-10T10:18:47.231Z"
   },
   {
    "duration": 14,
    "start_time": "2023-01-10T10:18:47.241Z"
   },
   {
    "duration": 4,
    "start_time": "2023-01-10T10:18:47.256Z"
   },
   {
    "duration": 108,
    "start_time": "2023-01-10T10:18:47.262Z"
   },
   {
    "duration": 5,
    "start_time": "2023-01-10T10:18:47.378Z"
   },
   {
    "duration": 8,
    "start_time": "2023-01-10T10:18:47.384Z"
   },
   {
    "duration": 12,
    "start_time": "2023-01-10T10:18:47.393Z"
   },
   {
    "duration": 9,
    "start_time": "2023-01-10T10:18:47.406Z"
   },
   {
    "duration": 111,
    "start_time": "2023-01-10T10:18:47.417Z"
   },
   {
    "duration": 5,
    "start_time": "2023-01-10T10:18:47.530Z"
   },
   {
    "duration": 13,
    "start_time": "2023-01-10T10:18:47.536Z"
   },
   {
    "duration": 9,
    "start_time": "2023-01-10T10:18:47.550Z"
   },
   {
    "duration": 132,
    "start_time": "2023-01-10T10:18:47.560Z"
   },
   {
    "duration": 5,
    "start_time": "2023-01-10T10:18:47.694Z"
   },
   {
    "duration": 8,
    "start_time": "2023-01-10T10:18:47.701Z"
   },
   {
    "duration": 5,
    "start_time": "2023-01-10T10:18:47.710Z"
   },
   {
    "duration": 123,
    "start_time": "2023-01-10T10:18:47.716Z"
   },
   {
    "duration": 5,
    "start_time": "2023-01-10T10:18:47.841Z"
   },
   {
    "duration": 9,
    "start_time": "2023-01-10T10:18:47.847Z"
   },
   {
    "duration": 21,
    "start_time": "2023-01-10T10:18:47.857Z"
   },
   {
    "duration": 81,
    "start_time": "2023-01-10T10:18:47.880Z"
   },
   {
    "duration": 21,
    "start_time": "2023-01-10T10:18:47.962Z"
   },
   {
    "duration": 13,
    "start_time": "2023-01-10T10:18:47.984Z"
   },
   {
    "duration": 96,
    "start_time": "2023-01-10T10:18:47.999Z"
   },
   {
    "duration": 6,
    "start_time": "2023-01-10T10:18:48.097Z"
   },
   {
    "duration": 11,
    "start_time": "2023-01-10T10:18:48.104Z"
   },
   {
    "duration": 107,
    "start_time": "2023-01-10T10:18:48.117Z"
   },
   {
    "duration": 433,
    "start_time": "2023-01-10T10:18:48.225Z"
   },
   {
    "duration": 9,
    "start_time": "2023-01-10T10:18:48.660Z"
   },
   {
    "duration": 15,
    "start_time": "2023-01-10T10:18:48.670Z"
   },
   {
    "duration": 8,
    "start_time": "2023-01-10T10:40:00.924Z"
   },
   {
    "duration": 46,
    "start_time": "2023-01-10T13:28:26.067Z"
   },
   {
    "duration": 457,
    "start_time": "2023-01-10T13:28:30.374Z"
   },
   {
    "duration": 249,
    "start_time": "2023-01-10T13:28:30.833Z"
   },
   {
    "duration": 24,
    "start_time": "2023-01-10T13:28:31.084Z"
   },
   {
    "duration": 2012,
    "start_time": "2023-01-10T13:28:31.112Z"
   },
   {
    "duration": 15,
    "start_time": "2023-01-10T13:28:33.126Z"
   },
   {
    "duration": 43,
    "start_time": "2023-01-10T13:28:33.157Z"
   },
   {
    "duration": 5,
    "start_time": "2023-01-10T13:28:33.202Z"
   },
   {
    "duration": 13,
    "start_time": "2023-01-10T13:28:33.208Z"
   },
   {
    "duration": 6,
    "start_time": "2023-01-10T13:28:33.222Z"
   },
   {
    "duration": 40,
    "start_time": "2023-01-10T13:28:33.230Z"
   },
   {
    "duration": 9,
    "start_time": "2023-01-10T13:28:33.272Z"
   },
   {
    "duration": 6,
    "start_time": "2023-01-10T13:28:33.283Z"
   },
   {
    "duration": 22,
    "start_time": "2023-01-10T13:28:33.291Z"
   },
   {
    "duration": 43,
    "start_time": "2023-01-10T13:28:33.316Z"
   },
   {
    "duration": 6,
    "start_time": "2023-01-10T13:28:33.366Z"
   },
   {
    "duration": 6,
    "start_time": "2023-01-10T13:28:33.373Z"
   },
   {
    "duration": 7,
    "start_time": "2023-01-10T13:28:33.381Z"
   },
   {
    "duration": 9,
    "start_time": "2023-01-10T13:28:33.390Z"
   },
   {
    "duration": 94,
    "start_time": "2023-01-10T13:28:33.400Z"
   },
   {
    "duration": 230,
    "start_time": "2023-01-10T13:28:33.495Z"
   },
   {
    "duration": 13,
    "start_time": "2023-01-10T13:28:33.727Z"
   },
   {
    "duration": 279,
    "start_time": "2023-01-10T13:28:33.743Z"
   },
   {
    "duration": 12,
    "start_time": "2023-01-10T13:28:34.024Z"
   },
   {
    "duration": 3186,
    "start_time": "2023-01-10T13:28:34.038Z"
   },
   {
    "duration": 7,
    "start_time": "2023-01-10T13:28:37.226Z"
   },
   {
    "duration": 37,
    "start_time": "2023-01-10T13:28:37.234Z"
   },
   {
    "duration": 17,
    "start_time": "2023-01-10T13:28:37.273Z"
   },
   {
    "duration": 915,
    "start_time": "2023-01-10T13:28:37.296Z"
   },
   {
    "duration": 412,
    "start_time": "2023-01-10T13:28:38.213Z"
   },
   {
    "duration": 291,
    "start_time": "2023-01-10T13:28:38.627Z"
   },
   {
    "duration": 724,
    "start_time": "2023-01-10T13:28:38.919Z"
   },
   {
    "duration": 6,
    "start_time": "2023-01-10T13:28:39.652Z"
   },
   {
    "duration": 16,
    "start_time": "2023-01-10T13:28:39.660Z"
   },
   {
    "duration": 695,
    "start_time": "2023-01-10T13:28:39.678Z"
   },
   {
    "duration": 16,
    "start_time": "2023-01-10T13:28:40.376Z"
   },
   {
    "duration": 9,
    "start_time": "2023-01-10T13:28:40.394Z"
   },
   {
    "duration": 193,
    "start_time": "2023-01-10T13:28:40.404Z"
   },
   {
    "duration": 7,
    "start_time": "2023-01-10T13:28:40.599Z"
   },
   {
    "duration": 189,
    "start_time": "2023-01-10T13:28:40.607Z"
   },
   {
    "duration": 10,
    "start_time": "2023-01-10T13:28:40.798Z"
   },
   {
    "duration": 470,
    "start_time": "2023-01-10T13:28:40.810Z"
   },
   {
    "duration": 9,
    "start_time": "2023-01-10T13:28:41.282Z"
   },
   {
    "duration": 5,
    "start_time": "2023-01-10T13:28:41.293Z"
   },
   {
    "duration": 9,
    "start_time": "2023-01-10T13:28:41.300Z"
   },
   {
    "duration": 126,
    "start_time": "2023-01-10T13:28:41.311Z"
   },
   {
    "duration": 6,
    "start_time": "2023-01-10T13:28:41.439Z"
   },
   {
    "duration": 7,
    "start_time": "2023-01-10T13:28:41.462Z"
   },
   {
    "duration": 13,
    "start_time": "2023-01-10T13:28:41.470Z"
   },
   {
    "duration": 6,
    "start_time": "2023-01-10T13:28:41.485Z"
   },
   {
    "duration": 114,
    "start_time": "2023-01-10T13:28:41.492Z"
   },
   {
    "duration": 5,
    "start_time": "2023-01-10T13:28:41.608Z"
   },
   {
    "duration": 11,
    "start_time": "2023-01-10T13:28:41.614Z"
   },
   {
    "duration": 25,
    "start_time": "2023-01-10T13:28:41.627Z"
   },
   {
    "duration": 10,
    "start_time": "2023-01-10T13:28:41.656Z"
   },
   {
    "duration": 119,
    "start_time": "2023-01-10T13:28:41.668Z"
   },
   {
    "duration": 6,
    "start_time": "2023-01-10T13:28:41.789Z"
   },
   {
    "duration": 7,
    "start_time": "2023-01-10T13:28:41.797Z"
   },
   {
    "duration": 12,
    "start_time": "2023-01-10T13:28:41.806Z"
   },
   {
    "duration": 24,
    "start_time": "2023-01-10T13:28:41.819Z"
   },
   {
    "duration": 110,
    "start_time": "2023-01-10T13:28:41.844Z"
   },
   {
    "duration": 13,
    "start_time": "2023-01-10T13:28:41.957Z"
   },
   {
    "duration": 10,
    "start_time": "2023-01-10T13:28:41.971Z"
   },
   {
    "duration": 7,
    "start_time": "2023-01-10T13:28:41.982Z"
   },
   {
    "duration": 128,
    "start_time": "2023-01-10T13:28:41.990Z"
   },
   {
    "duration": 6,
    "start_time": "2023-01-10T13:28:42.119Z"
   },
   {
    "duration": 13,
    "start_time": "2023-01-10T13:28:42.126Z"
   },
   {
    "duration": 9,
    "start_time": "2023-01-10T13:28:42.154Z"
   },
   {
    "duration": 130,
    "start_time": "2023-01-10T13:28:42.164Z"
   },
   {
    "duration": 5,
    "start_time": "2023-01-10T13:28:42.296Z"
   },
   {
    "duration": 8,
    "start_time": "2023-01-10T13:28:42.303Z"
   },
   {
    "duration": 9,
    "start_time": "2023-01-10T13:28:42.313Z"
   },
   {
    "duration": 47,
    "start_time": "2023-01-10T13:28:42.323Z"
   },
   {
    "duration": 116,
    "start_time": "2023-01-10T13:28:42.372Z"
   },
   {
    "duration": 8,
    "start_time": "2023-01-10T13:28:42.490Z"
   },
   {
    "duration": 19,
    "start_time": "2023-01-10T13:28:42.500Z"
   },
   {
    "duration": 173,
    "start_time": "2023-01-10T13:28:42.522Z"
   },
   {
    "duration": 11,
    "start_time": "2023-01-10T13:28:42.697Z"
   },
   {
    "duration": 20,
    "start_time": "2023-01-10T13:28:42.710Z"
   },
   {
    "duration": 107,
    "start_time": "2023-01-10T13:28:42.733Z"
   },
   {
    "duration": 26,
    "start_time": "2023-01-10T13:28:42.841Z"
   },
   {
    "duration": 500,
    "start_time": "2023-01-10T13:28:42.869Z"
   },
   {
    "duration": 9,
    "start_time": "2023-01-10T13:28:43.375Z"
   },
   {
    "duration": 9,
    "start_time": "2023-01-10T13:28:43.387Z"
   },
   {
    "duration": 4,
    "start_time": "2023-01-10T13:29:06.333Z"
   },
   {
    "duration": 60,
    "start_time": "2023-01-10T13:29:08.577Z"
   },
   {
    "duration": 3,
    "start_time": "2023-01-10T13:29:32.897Z"
   },
   {
    "duration": 90,
    "start_time": "2023-01-10T13:29:32.902Z"
   },
   {
    "duration": 15,
    "start_time": "2023-01-10T13:29:32.995Z"
   },
   {
    "duration": 1534,
    "start_time": "2023-01-10T13:29:33.011Z"
   },
   {
    "duration": 22,
    "start_time": "2023-01-10T13:29:34.553Z"
   },
   {
    "duration": 51,
    "start_time": "2023-01-10T13:29:34.577Z"
   },
   {
    "duration": 5,
    "start_time": "2023-01-10T13:29:34.630Z"
   },
   {
    "duration": 34,
    "start_time": "2023-01-10T13:29:34.637Z"
   },
   {
    "duration": 11,
    "start_time": "2023-01-10T13:29:34.673Z"
   },
   {
    "duration": 17,
    "start_time": "2023-01-10T13:29:34.686Z"
   },
   {
    "duration": 17,
    "start_time": "2023-01-10T13:29:34.706Z"
   },
   {
    "duration": 11,
    "start_time": "2023-01-10T13:29:34.725Z"
   },
   {
    "duration": 143,
    "start_time": "2023-01-10T13:29:34.738Z"
   },
   {
    "duration": 14,
    "start_time": "2023-01-10T13:29:34.883Z"
   },
   {
    "duration": 5,
    "start_time": "2023-01-10T13:29:34.898Z"
   },
   {
    "duration": 10,
    "start_time": "2023-01-10T13:29:34.905Z"
   },
   {
    "duration": 29,
    "start_time": "2023-01-10T13:29:34.917Z"
   },
   {
    "duration": 25,
    "start_time": "2023-01-10T13:29:34.948Z"
   },
   {
    "duration": 90,
    "start_time": "2023-01-10T13:29:34.975Z"
   },
   {
    "duration": 211,
    "start_time": "2023-01-10T13:29:35.067Z"
   },
   {
    "duration": 9,
    "start_time": "2023-01-10T13:29:35.279Z"
   },
   {
    "duration": 303,
    "start_time": "2023-01-10T13:29:35.289Z"
   },
   {
    "duration": 14,
    "start_time": "2023-01-10T13:29:35.594Z"
   },
   {
    "duration": 3115,
    "start_time": "2023-01-10T13:29:35.609Z"
   },
   {
    "duration": 6,
    "start_time": "2023-01-10T13:29:38.726Z"
   },
   {
    "duration": 34,
    "start_time": "2023-01-10T13:29:38.734Z"
   },
   {
    "duration": 12,
    "start_time": "2023-01-10T13:29:38.770Z"
   },
   {
    "duration": 1052,
    "start_time": "2023-01-10T13:29:38.784Z"
   },
   {
    "duration": 269,
    "start_time": "2023-01-10T13:29:39.840Z"
   },
   {
    "duration": 292,
    "start_time": "2023-01-10T13:29:40.111Z"
   },
   {
    "duration": 693,
    "start_time": "2023-01-10T13:29:40.405Z"
   },
   {
    "duration": 6,
    "start_time": "2023-01-10T13:29:41.100Z"
   },
   {
    "duration": 18,
    "start_time": "2023-01-10T13:29:41.107Z"
   },
   {
    "duration": 714,
    "start_time": "2023-01-10T13:29:41.127Z"
   },
   {
    "duration": 23,
    "start_time": "2023-01-10T13:29:41.843Z"
   },
   {
    "duration": 9,
    "start_time": "2023-01-10T13:29:41.867Z"
   },
   {
    "duration": 195,
    "start_time": "2023-01-10T13:29:41.878Z"
   },
   {
    "duration": 8,
    "start_time": "2023-01-10T13:29:42.074Z"
   },
   {
    "duration": 197,
    "start_time": "2023-01-10T13:29:42.084Z"
   },
   {
    "duration": 8,
    "start_time": "2023-01-10T13:29:42.283Z"
   },
   {
    "duration": 356,
    "start_time": "2023-01-10T13:29:42.292Z"
   },
   {
    "duration": 16,
    "start_time": "2023-01-10T13:29:42.650Z"
   },
   {
    "duration": 18,
    "start_time": "2023-01-10T13:29:42.672Z"
   },
   {
    "duration": 7,
    "start_time": "2023-01-10T13:29:42.693Z"
   },
   {
    "duration": 128,
    "start_time": "2023-01-10T13:29:42.702Z"
   },
   {
    "duration": 5,
    "start_time": "2023-01-10T13:29:42.832Z"
   },
   {
    "duration": 9,
    "start_time": "2023-01-10T13:29:42.839Z"
   },
   {
    "duration": 34,
    "start_time": "2023-01-10T13:29:42.850Z"
   },
   {
    "duration": 9,
    "start_time": "2023-01-10T13:29:42.886Z"
   },
   {
    "duration": 119,
    "start_time": "2023-01-10T13:29:42.897Z"
   },
   {
    "duration": 6,
    "start_time": "2023-01-10T13:29:43.017Z"
   },
   {
    "duration": 12,
    "start_time": "2023-01-10T13:29:43.024Z"
   },
   {
    "duration": 15,
    "start_time": "2023-01-10T13:29:43.038Z"
   },
   {
    "duration": 14,
    "start_time": "2023-01-10T13:29:43.054Z"
   },
   {
    "duration": 122,
    "start_time": "2023-01-10T13:29:43.070Z"
   },
   {
    "duration": 7,
    "start_time": "2023-01-10T13:29:43.194Z"
   },
   {
    "duration": 14,
    "start_time": "2023-01-10T13:29:43.203Z"
   },
   {
    "duration": 12,
    "start_time": "2023-01-10T13:29:43.219Z"
   },
   {
    "duration": 16,
    "start_time": "2023-01-10T13:29:43.233Z"
   },
   {
    "duration": 138,
    "start_time": "2023-01-10T13:29:43.251Z"
   },
   {
    "duration": 7,
    "start_time": "2023-01-10T13:29:43.391Z"
   },
   {
    "duration": 12,
    "start_time": "2023-01-10T13:29:43.400Z"
   },
   {
    "duration": 47,
    "start_time": "2023-01-10T13:29:43.414Z"
   },
   {
    "duration": 333,
    "start_time": "2023-01-10T13:29:43.462Z"
   },
   {
    "duration": 7,
    "start_time": "2023-01-10T13:29:43.796Z"
   },
   {
    "duration": 14,
    "start_time": "2023-01-10T13:29:43.805Z"
   },
   {
    "duration": 13,
    "start_time": "2023-01-10T13:29:43.820Z"
   },
   {
    "duration": 116,
    "start_time": "2023-01-10T13:29:43.835Z"
   },
   {
    "duration": 10,
    "start_time": "2023-01-10T13:29:43.961Z"
   },
   {
    "duration": 8,
    "start_time": "2023-01-10T13:29:43.974Z"
   },
   {
    "duration": 10,
    "start_time": "2023-01-10T13:29:43.984Z"
   },
   {
    "duration": 11,
    "start_time": "2023-01-10T13:29:43.996Z"
   },
   {
    "duration": 247,
    "start_time": "2023-01-10T13:29:44.008Z"
   },
   {
    "duration": 16,
    "start_time": "2023-01-10T13:29:44.260Z"
   },
   {
    "duration": 37,
    "start_time": "2023-01-10T13:29:44.290Z"
   },
   {
    "duration": 156,
    "start_time": "2023-01-10T13:29:44.329Z"
   },
   {
    "duration": 11,
    "start_time": "2023-01-10T13:29:44.486Z"
   },
   {
    "duration": 72,
    "start_time": "2023-01-10T13:29:44.499Z"
   },
   {
    "duration": 175,
    "start_time": "2023-01-10T13:29:44.573Z"
   },
   {
    "duration": 21,
    "start_time": "2023-01-10T13:29:44.753Z"
   },
   {
    "duration": 3,
    "start_time": "2023-01-10T13:29:44.776Z"
   },
   {
    "duration": 13,
    "start_time": "2023-01-10T13:29:44.781Z"
   },
   {
    "duration": 13,
    "start_time": "2023-01-10T13:29:44.799Z"
   },
   {
    "duration": 3,
    "start_time": "2023-01-10T13:43:23.208Z"
   },
   {
    "duration": 68,
    "start_time": "2023-01-10T13:43:23.214Z"
   },
   {
    "duration": 15,
    "start_time": "2023-01-10T13:43:23.284Z"
   },
   {
    "duration": 1519,
    "start_time": "2023-01-10T13:43:23.302Z"
   },
   {
    "duration": 30,
    "start_time": "2023-01-10T13:43:24.823Z"
   },
   {
    "duration": 41,
    "start_time": "2023-01-10T13:43:24.856Z"
   },
   {
    "duration": 8,
    "start_time": "2023-01-10T13:43:24.900Z"
   },
   {
    "duration": 45,
    "start_time": "2023-01-10T13:43:24.910Z"
   },
   {
    "duration": 7,
    "start_time": "2023-01-10T13:43:24.958Z"
   },
   {
    "duration": 27,
    "start_time": "2023-01-10T13:43:24.967Z"
   },
   {
    "duration": 11,
    "start_time": "2023-01-10T13:43:24.996Z"
   },
   {
    "duration": 6,
    "start_time": "2023-01-10T13:43:25.009Z"
   },
   {
    "duration": 12,
    "start_time": "2023-01-10T13:43:25.017Z"
   },
   {
    "duration": 270,
    "start_time": "2023-01-10T13:43:25.053Z"
   },
   {
    "duration": 6,
    "start_time": "2023-01-10T13:43:25.324Z"
   },
   {
    "duration": 10,
    "start_time": "2023-01-10T13:43:25.332Z"
   },
   {
    "duration": 5,
    "start_time": "2023-01-10T13:43:25.353Z"
   },
   {
    "duration": 20,
    "start_time": "2023-01-10T13:43:25.360Z"
   },
   {
    "duration": 87,
    "start_time": "2023-01-10T13:43:25.381Z"
   },
   {
    "duration": 227,
    "start_time": "2023-01-10T13:43:25.470Z"
   },
   {
    "duration": 10,
    "start_time": "2023-01-10T13:43:25.699Z"
   },
   {
    "duration": 278,
    "start_time": "2023-01-10T13:43:25.710Z"
   },
   {
    "duration": 14,
    "start_time": "2023-01-10T13:43:25.990Z"
   },
   {
    "duration": 3401,
    "start_time": "2023-01-10T13:43:26.008Z"
   },
   {
    "duration": 8,
    "start_time": "2023-01-10T13:43:29.411Z"
   },
   {
    "duration": 10,
    "start_time": "2023-01-10T13:43:29.420Z"
   },
   {
    "duration": 30,
    "start_time": "2023-01-10T13:43:29.431Z"
   },
   {
    "duration": 893,
    "start_time": "2023-01-10T13:43:29.463Z"
   },
   {
    "duration": 266,
    "start_time": "2023-01-10T13:43:30.359Z"
   },
   {
    "duration": 297,
    "start_time": "2023-01-10T13:43:30.627Z"
   },
   {
    "duration": 960,
    "start_time": "2023-01-10T13:43:30.926Z"
   },
   {
    "duration": 6,
    "start_time": "2023-01-10T13:43:31.888Z"
   },
   {
    "duration": 20,
    "start_time": "2023-01-10T13:43:31.896Z"
   },
   {
    "duration": 888,
    "start_time": "2023-01-10T13:43:31.919Z"
   },
   {
    "duration": 14,
    "start_time": "2023-01-10T13:43:32.810Z"
   },
   {
    "duration": 27,
    "start_time": "2023-01-10T13:43:32.827Z"
   },
   {
    "duration": 202,
    "start_time": "2023-01-10T13:43:32.855Z"
   },
   {
    "duration": 8,
    "start_time": "2023-01-10T13:43:33.058Z"
   },
   {
    "duration": 191,
    "start_time": "2023-01-10T13:43:33.069Z"
   },
   {
    "duration": 8,
    "start_time": "2023-01-10T13:43:33.261Z"
   },
   {
    "duration": 311,
    "start_time": "2023-01-10T13:43:33.272Z"
   },
   {
    "duration": 8,
    "start_time": "2023-01-10T13:43:33.586Z"
   },
   {
    "duration": 19,
    "start_time": "2023-01-10T13:43:33.596Z"
   },
   {
    "duration": 10,
    "start_time": "2023-01-10T13:43:33.617Z"
   },
   {
    "duration": 171,
    "start_time": "2023-01-10T13:43:33.629Z"
   },
   {
    "duration": 6,
    "start_time": "2023-01-10T13:43:33.801Z"
   },
   {
    "duration": 24,
    "start_time": "2023-01-10T13:43:33.809Z"
   },
   {
    "duration": 26,
    "start_time": "2023-01-10T13:43:33.835Z"
   },
   {
    "duration": 46,
    "start_time": "2023-01-10T13:43:33.863Z"
   },
   {
    "duration": 126,
    "start_time": "2023-01-10T13:43:33.911Z"
   },
   {
    "duration": 15,
    "start_time": "2023-01-10T13:43:34.039Z"
   },
   {
    "duration": 19,
    "start_time": "2023-01-10T13:43:34.056Z"
   },
   {
    "duration": 11,
    "start_time": "2023-01-10T13:43:34.077Z"
   },
   {
    "duration": 21,
    "start_time": "2023-01-10T13:43:34.090Z"
   },
   {
    "duration": 122,
    "start_time": "2023-01-10T13:43:34.113Z"
   },
   {
    "duration": 7,
    "start_time": "2023-01-10T13:43:34.237Z"
   },
   {
    "duration": 26,
    "start_time": "2023-01-10T13:43:34.251Z"
   },
   {
    "duration": 24,
    "start_time": "2023-01-10T13:43:34.282Z"
   },
   {
    "duration": 15,
    "start_time": "2023-01-10T13:43:34.308Z"
   },
   {
    "duration": 121,
    "start_time": "2023-01-10T13:43:34.325Z"
   },
   {
    "duration": 6,
    "start_time": "2023-01-10T13:43:34.452Z"
   },
   {
    "duration": 12,
    "start_time": "2023-01-10T13:43:34.460Z"
   },
   {
    "duration": 12,
    "start_time": "2023-01-10T13:43:34.474Z"
   },
   {
    "duration": 146,
    "start_time": "2023-01-10T13:43:34.488Z"
   },
   {
    "duration": 19,
    "start_time": "2023-01-10T13:43:34.636Z"
   },
   {
    "duration": 12,
    "start_time": "2023-01-10T13:43:34.658Z"
   },
   {
    "duration": 5,
    "start_time": "2023-01-10T13:43:34.672Z"
   },
   {
    "duration": 144,
    "start_time": "2023-01-10T13:43:34.679Z"
   },
   {
    "duration": 9,
    "start_time": "2023-01-10T13:43:34.830Z"
   },
   {
    "duration": 8,
    "start_time": "2023-01-10T13:43:34.852Z"
   },
   {
    "duration": 14,
    "start_time": "2023-01-10T13:43:34.862Z"
   },
   {
    "duration": 17,
    "start_time": "2023-01-10T13:43:34.878Z"
   },
   {
    "duration": 123,
    "start_time": "2023-01-10T13:43:34.897Z"
   },
   {
    "duration": 9,
    "start_time": "2023-01-10T13:43:35.023Z"
   },
   {
    "duration": 26,
    "start_time": "2023-01-10T13:43:35.033Z"
   },
   {
    "duration": 119,
    "start_time": "2023-01-10T13:43:35.061Z"
   },
   {
    "duration": 8,
    "start_time": "2023-01-10T13:43:35.182Z"
   },
   {
    "duration": 16,
    "start_time": "2023-01-10T13:43:35.192Z"
   },
   {
    "duration": 149,
    "start_time": "2023-01-10T13:43:35.210Z"
   },
   {
    "duration": 13,
    "start_time": "2023-01-10T13:43:35.361Z"
   },
   {
    "duration": 5,
    "start_time": "2023-01-10T13:43:35.377Z"
   },
   {
    "duration": 14,
    "start_time": "2023-01-10T13:43:35.384Z"
   },
   {
    "duration": 14,
    "start_time": "2023-01-10T13:43:35.400Z"
   },
   {
    "duration": 3,
    "start_time": "2023-01-10T13:44:40.752Z"
   },
   {
    "duration": 62,
    "start_time": "2023-01-10T13:44:40.758Z"
   },
   {
    "duration": 14,
    "start_time": "2023-01-10T13:44:40.823Z"
   },
   {
    "duration": 1842,
    "start_time": "2023-01-10T13:44:40.839Z"
   },
   {
    "duration": 19,
    "start_time": "2023-01-10T13:44:42.685Z"
   },
   {
    "duration": 60,
    "start_time": "2023-01-10T13:44:42.706Z"
   },
   {
    "duration": 6,
    "start_time": "2023-01-10T13:44:42.768Z"
   },
   {
    "duration": 31,
    "start_time": "2023-01-10T13:44:42.776Z"
   },
   {
    "duration": 6,
    "start_time": "2023-01-10T13:44:42.809Z"
   },
   {
    "duration": 50,
    "start_time": "2023-01-10T13:44:42.817Z"
   },
   {
    "duration": 19,
    "start_time": "2023-01-10T13:44:42.870Z"
   },
   {
    "duration": 13,
    "start_time": "2023-01-10T13:44:42.892Z"
   },
   {
    "duration": 9,
    "start_time": "2023-01-10T13:44:42.908Z"
   },
   {
    "duration": 33,
    "start_time": "2023-01-10T13:44:42.919Z"
   },
   {
    "duration": 8,
    "start_time": "2023-01-10T13:44:42.955Z"
   },
   {
    "duration": 12,
    "start_time": "2023-01-10T13:44:42.964Z"
   },
   {
    "duration": 15,
    "start_time": "2023-01-10T13:44:42.979Z"
   },
   {
    "duration": 20,
    "start_time": "2023-01-10T13:44:42.997Z"
   },
   {
    "duration": 97,
    "start_time": "2023-01-10T13:44:43.020Z"
   },
   {
    "duration": 226,
    "start_time": "2023-01-10T13:44:43.119Z"
   },
   {
    "duration": 9,
    "start_time": "2023-01-10T13:44:43.352Z"
   },
   {
    "duration": 272,
    "start_time": "2023-01-10T13:44:43.363Z"
   },
   {
    "duration": 23,
    "start_time": "2023-01-10T13:44:43.637Z"
   },
   {
    "duration": 3155,
    "start_time": "2023-01-10T13:44:43.661Z"
   },
   {
    "duration": 8,
    "start_time": "2023-01-10T13:44:46.818Z"
   },
   {
    "duration": 24,
    "start_time": "2023-01-10T13:44:46.828Z"
   },
   {
    "duration": 13,
    "start_time": "2023-01-10T13:44:46.854Z"
   },
   {
    "duration": 905,
    "start_time": "2023-01-10T13:44:46.869Z"
   },
   {
    "duration": 607,
    "start_time": "2023-01-10T13:44:47.779Z"
   },
   {
    "duration": 319,
    "start_time": "2023-01-10T13:44:48.388Z"
   },
   {
    "duration": 764,
    "start_time": "2023-01-10T13:44:48.710Z"
   },
   {
    "duration": 6,
    "start_time": "2023-01-10T13:44:49.476Z"
   },
   {
    "duration": 21,
    "start_time": "2023-01-10T13:44:49.485Z"
   },
   {
    "duration": 715,
    "start_time": "2023-01-10T13:44:49.508Z"
   },
   {
    "duration": 28,
    "start_time": "2023-01-10T13:44:50.224Z"
   },
   {
    "duration": 10,
    "start_time": "2023-01-10T13:44:50.254Z"
   },
   {
    "duration": 237,
    "start_time": "2023-01-10T13:44:50.267Z"
   },
   {
    "duration": 8,
    "start_time": "2023-01-10T13:44:50.506Z"
   },
   {
    "duration": 179,
    "start_time": "2023-01-10T13:44:50.515Z"
   },
   {
    "duration": 10,
    "start_time": "2023-01-10T13:44:50.696Z"
   },
   {
    "duration": 348,
    "start_time": "2023-01-10T13:44:50.708Z"
   },
   {
    "duration": 9,
    "start_time": "2023-01-10T13:44:51.058Z"
   },
   {
    "duration": 8,
    "start_time": "2023-01-10T13:44:51.068Z"
   },
   {
    "duration": 11,
    "start_time": "2023-01-10T13:44:51.077Z"
   },
   {
    "duration": 124,
    "start_time": "2023-01-10T13:44:51.089Z"
   },
   {
    "duration": 6,
    "start_time": "2023-01-10T13:44:51.216Z"
   },
   {
    "duration": 8,
    "start_time": "2023-01-10T13:44:51.225Z"
   },
   {
    "duration": 23,
    "start_time": "2023-01-10T13:44:51.235Z"
   },
   {
    "duration": 3,
    "start_time": "2023-01-10T13:44:51.259Z"
   },
   {
    "duration": 128,
    "start_time": "2023-01-10T13:44:51.264Z"
   },
   {
    "duration": 6,
    "start_time": "2023-01-10T13:44:51.394Z"
   },
   {
    "duration": 9,
    "start_time": "2023-01-10T13:44:51.401Z"
   },
   {
    "duration": 12,
    "start_time": "2023-01-10T13:44:51.412Z"
   },
   {
    "duration": 25,
    "start_time": "2023-01-10T13:44:51.427Z"
   },
   {
    "duration": 134,
    "start_time": "2023-01-10T13:44:51.455Z"
   },
   {
    "duration": 6,
    "start_time": "2023-01-10T13:44:51.591Z"
   },
   {
    "duration": 15,
    "start_time": "2023-01-10T13:44:51.598Z"
   },
   {
    "duration": 13,
    "start_time": "2023-01-10T13:44:51.615Z"
   },
   {
    "duration": 25,
    "start_time": "2023-01-10T13:44:51.629Z"
   },
   {
    "duration": 134,
    "start_time": "2023-01-10T13:44:51.656Z"
   },
   {
    "duration": 6,
    "start_time": "2023-01-10T13:44:51.792Z"
   },
   {
    "duration": 11,
    "start_time": "2023-01-10T13:44:51.800Z"
   },
   {
    "duration": 12,
    "start_time": "2023-01-10T13:44:51.813Z"
   },
   {
    "duration": 136,
    "start_time": "2023-01-10T13:44:51.827Z"
   },
   {
    "duration": 6,
    "start_time": "2023-01-10T13:44:51.965Z"
   },
   {
    "duration": 38,
    "start_time": "2023-01-10T13:44:51.973Z"
   },
   {
    "duration": 16,
    "start_time": "2023-01-10T13:44:52.013Z"
   },
   {
    "duration": 145,
    "start_time": "2023-01-10T13:44:52.032Z"
   },
   {
    "duration": 7,
    "start_time": "2023-01-10T13:44:52.179Z"
   },
   {
    "duration": 8,
    "start_time": "2023-01-10T13:44:52.188Z"
   },
   {
    "duration": 16,
    "start_time": "2023-01-10T13:44:52.197Z"
   },
   {
    "duration": 20,
    "start_time": "2023-01-10T13:44:52.215Z"
   },
   {
    "duration": 114,
    "start_time": "2023-01-10T13:44:52.238Z"
   },
   {
    "duration": 8,
    "start_time": "2023-01-10T13:44:52.354Z"
   },
   {
    "duration": 15,
    "start_time": "2023-01-10T13:44:52.364Z"
   },
   {
    "duration": 156,
    "start_time": "2023-01-10T13:44:52.381Z"
   },
   {
    "duration": 16,
    "start_time": "2023-01-10T13:44:52.539Z"
   },
   {
    "duration": 18,
    "start_time": "2023-01-10T13:44:52.558Z"
   },
   {
    "duration": 138,
    "start_time": "2023-01-10T13:44:52.578Z"
   },
   {
    "duration": 12,
    "start_time": "2023-01-10T13:44:52.718Z"
   },
   {
    "duration": 21,
    "start_time": "2023-01-10T13:44:52.732Z"
   },
   {
    "duration": 11,
    "start_time": "2023-01-10T13:44:52.755Z"
   },
   {
    "duration": 13,
    "start_time": "2023-01-10T13:44:52.771Z"
   },
   {
    "duration": 446,
    "start_time": "2023-01-11T00:51:34.438Z"
   },
   {
    "duration": 77,
    "start_time": "2023-01-11T00:51:34.886Z"
   },
   {
    "duration": 15,
    "start_time": "2023-01-11T00:51:34.964Z"
   },
   {
    "duration": 1781,
    "start_time": "2023-01-11T00:51:34.982Z"
   },
   {
    "duration": 17,
    "start_time": "2023-01-11T00:51:36.765Z"
   },
   {
    "duration": 56,
    "start_time": "2023-01-11T00:51:36.784Z"
   },
   {
    "duration": 5,
    "start_time": "2023-01-11T00:51:36.841Z"
   },
   {
    "duration": 19,
    "start_time": "2023-01-11T00:51:36.848Z"
   },
   {
    "duration": 18,
    "start_time": "2023-01-11T00:51:36.869Z"
   },
   {
    "duration": 22,
    "start_time": "2023-01-11T00:51:36.890Z"
   },
   {
    "duration": 23,
    "start_time": "2023-01-11T00:51:36.914Z"
   },
   {
    "duration": 19,
    "start_time": "2023-01-11T00:51:36.939Z"
   },
   {
    "duration": 22,
    "start_time": "2023-01-11T00:51:36.959Z"
   },
   {
    "duration": 22,
    "start_time": "2023-01-11T00:51:36.983Z"
   },
   {
    "duration": 5,
    "start_time": "2023-01-11T00:51:37.007Z"
   },
   {
    "duration": 10,
    "start_time": "2023-01-11T00:51:37.014Z"
   },
   {
    "duration": 16,
    "start_time": "2023-01-11T00:51:37.026Z"
   },
   {
    "duration": 16,
    "start_time": "2023-01-11T00:51:37.044Z"
   },
   {
    "duration": 99,
    "start_time": "2023-01-11T00:51:37.061Z"
   },
   {
    "duration": 228,
    "start_time": "2023-01-11T00:51:37.161Z"
   },
   {
    "duration": 9,
    "start_time": "2023-01-11T00:51:37.391Z"
   },
   {
    "duration": 284,
    "start_time": "2023-01-11T00:51:37.401Z"
   },
   {
    "duration": 14,
    "start_time": "2023-01-11T00:51:37.686Z"
   },
   {
    "duration": 3216,
    "start_time": "2023-01-11T00:51:37.701Z"
   },
   {
    "duration": 17,
    "start_time": "2023-01-11T00:51:40.918Z"
   },
   {
    "duration": 7,
    "start_time": "2023-01-11T00:51:40.937Z"
   },
   {
    "duration": 13,
    "start_time": "2023-01-11T00:51:40.946Z"
   },
   {
    "duration": 875,
    "start_time": "2023-01-11T00:51:40.964Z"
   },
   {
    "duration": 289,
    "start_time": "2023-01-11T00:51:41.841Z"
   },
   {
    "duration": 450,
    "start_time": "2023-01-11T00:51:42.132Z"
   },
   {
    "duration": 700,
    "start_time": "2023-01-11T00:51:42.584Z"
   },
   {
    "duration": 5,
    "start_time": "2023-01-11T00:51:43.286Z"
   },
   {
    "duration": 22,
    "start_time": "2023-01-11T00:51:43.293Z"
   },
   {
    "duration": 721,
    "start_time": "2023-01-11T00:51:43.316Z"
   },
   {
    "duration": 14,
    "start_time": "2023-01-11T00:51:44.038Z"
   },
   {
    "duration": 30,
    "start_time": "2023-01-11T00:51:44.054Z"
   },
   {
    "duration": 196,
    "start_time": "2023-01-11T00:51:44.085Z"
   },
   {
    "duration": 8,
    "start_time": "2023-01-11T00:51:44.283Z"
   },
   {
    "duration": 187,
    "start_time": "2023-01-11T00:51:44.293Z"
   },
   {
    "duration": 8,
    "start_time": "2023-01-11T00:51:44.481Z"
   },
   {
    "duration": 420,
    "start_time": "2023-01-11T00:51:44.490Z"
   },
   {
    "duration": 7,
    "start_time": "2023-01-11T00:51:44.912Z"
   },
   {
    "duration": 16,
    "start_time": "2023-01-11T00:51:44.921Z"
   },
   {
    "duration": 13,
    "start_time": "2023-01-11T00:51:44.939Z"
   },
   {
    "duration": 119,
    "start_time": "2023-01-11T00:51:44.953Z"
   },
   {
    "duration": 6,
    "start_time": "2023-01-11T00:51:45.075Z"
   },
   {
    "duration": 25,
    "start_time": "2023-01-11T00:51:45.082Z"
   },
   {
    "duration": 19,
    "start_time": "2023-01-11T00:51:45.109Z"
   },
   {
    "duration": 9,
    "start_time": "2023-01-11T00:51:45.130Z"
   },
   {
    "duration": 112,
    "start_time": "2023-01-11T00:51:45.140Z"
   },
   {
    "duration": 6,
    "start_time": "2023-01-11T00:51:45.254Z"
   },
   {
    "duration": 16,
    "start_time": "2023-01-11T00:51:45.262Z"
   },
   {
    "duration": 17,
    "start_time": "2023-01-11T00:51:45.280Z"
   },
   {
    "duration": 17,
    "start_time": "2023-01-11T00:51:45.299Z"
   },
   {
    "duration": 118,
    "start_time": "2023-01-11T00:51:45.317Z"
   },
   {
    "duration": 6,
    "start_time": "2023-01-11T00:51:45.437Z"
   },
   {
    "duration": 23,
    "start_time": "2023-01-11T00:51:45.445Z"
   },
   {
    "duration": 13,
    "start_time": "2023-01-11T00:51:45.470Z"
   },
   {
    "duration": 14,
    "start_time": "2023-01-11T00:51:45.485Z"
   },
   {
    "duration": 117,
    "start_time": "2023-01-11T00:51:45.501Z"
   },
   {
    "duration": 16,
    "start_time": "2023-01-11T00:51:45.620Z"
   },
   {
    "duration": 7,
    "start_time": "2023-01-11T00:51:45.638Z"
   },
   {
    "duration": 16,
    "start_time": "2023-01-11T00:51:45.647Z"
   },
   {
    "duration": 124,
    "start_time": "2023-01-11T00:51:45.665Z"
   },
   {
    "duration": 5,
    "start_time": "2023-01-11T00:51:45.791Z"
   },
   {
    "duration": 15,
    "start_time": "2023-01-11T00:51:45.798Z"
   },
   {
    "duration": 6,
    "start_time": "2023-01-11T00:51:45.815Z"
   },
   {
    "duration": 126,
    "start_time": "2023-01-11T00:51:45.836Z"
   },
   {
    "duration": 6,
    "start_time": "2023-01-11T00:51:45.964Z"
   },
   {
    "duration": 12,
    "start_time": "2023-01-11T00:51:45.971Z"
   },
   {
    "duration": 21,
    "start_time": "2023-01-11T00:51:45.985Z"
   },
   {
    "duration": 32,
    "start_time": "2023-01-11T00:51:46.008Z"
   },
   {
    "duration": 105,
    "start_time": "2023-01-11T00:51:46.042Z"
   },
   {
    "duration": 8,
    "start_time": "2023-01-11T00:51:46.149Z"
   },
   {
    "duration": 12,
    "start_time": "2023-01-11T00:51:46.159Z"
   },
   {
    "duration": 121,
    "start_time": "2023-01-11T00:51:46.172Z"
   },
   {
    "duration": 8,
    "start_time": "2023-01-11T00:51:46.295Z"
   },
   {
    "duration": 15,
    "start_time": "2023-01-11T00:51:46.304Z"
   },
   {
    "duration": 115,
    "start_time": "2023-01-11T00:51:46.320Z"
   },
   {
    "duration": 10,
    "start_time": "2023-01-11T00:51:46.437Z"
   },
   {
    "duration": 432,
    "start_time": "2023-01-11T00:51:46.449Z"
   },
   {
    "duration": 10,
    "start_time": "2023-01-11T00:51:46.887Z"
   },
   {
    "duration": 23,
    "start_time": "2023-01-11T00:51:46.899Z"
   },
   {
    "duration": 45,
    "start_time": "2023-07-18T16:06:11.493Z"
   }
  ],
  "kernelspec": {
   "display_name": "Python 3 (ipykernel)",
   "language": "python",
   "name": "python3"
  },
  "language_info": {
   "codemirror_mode": {
    "name": "ipython",
    "version": 3
   },
   "file_extension": ".py",
   "mimetype": "text/x-python",
   "name": "python",
   "nbconvert_exporter": "python",
   "pygments_lexer": "ipython3",
   "version": "3.12.3"
  },
  "toc": {
   "base_numbering": 1,
   "nav_menu": {},
   "number_sections": true,
   "sideBar": true,
   "skip_h1_title": true,
   "title_cell": "Table of Contents",
   "title_sidebar": "Contents",
   "toc_cell": false,
   "toc_position": {
    "height": "calc(100% - 180px)",
    "left": "10px",
    "top": "150px",
    "width": "228.239px"
   },
   "toc_section_display": true,
   "toc_window_display": true
  }
 },
 "nbformat": 4,
 "nbformat_minor": 4
}
