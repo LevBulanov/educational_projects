{
 "cells": [
  {
   "cell_type": "markdown",
   "id": "a397a35a-1527-49ed-95e2-d84a6695e2cc",
   "metadata": {},
   "source": [
    "# Построение модели прогнозирования оттока клиентов"
   ]
  },
  {
   "cell_type": "markdown",
   "id": "68c678e3-df46-47a9-9d14-f8a2e4b734ef",
   "metadata": {},
   "source": [
    "Заказчик - оператор связи - хочет научиться прогнозировать отток клиентов. Если выяснится, что пользователь планирует уйти, ему будут предложены промокоды и специальные условия. Команда оператора собрала персональные данные о некоторых клиентах, информацию об их тарифах и договорах."
   ]
  },
  {
   "cell_type": "markdown",
   "id": "41750495-5e54-4499-910b-025c6679ccb8",
   "metadata": {
    "tags": []
   },
   "source": [
    "**Цель**: обучить модель прогнозирования оттока клиентов на основе предоставленных данных с показателем AUC-ROC не менее 0.85. \n",
    "\n",
    "**Задачи**:\n",
    "- Провести исследовательский анализ данных. \n",
    "- Обучить несколько моделей, выбрать лучшую.\n",
    "- Протестировать модель на тестовой выборке, проанализировать результат. \n",
    "- Написать отчет для заказчика."
   ]
  },
  {
   "cell_type": "markdown",
   "id": "2662d8d1-2b12-4409-a781-0c78326a6623",
   "metadata": {
    "tags": []
   },
   "source": [
    "## План "
   ]
  },
  {
   "cell_type": "markdown",
   "id": "090bc25c-10b5-4a76-98a7-905058cd5abc",
   "metadata": {},
   "source": [
    "1. EDA\n",
    "- Преобразование типов данных\n",
    "- Просмотр распределения и аномалий, дублей, пропусков\n",
    "- Выделение целевого признака\n",
    "- Сбор данных в одну таблицу\n",
    "- Работа с пропусками\n",
    "2. Моделирование \n",
    "- Отбор необходимые для обучения признаки и создание новых\n",
    "- Деление данных на train и test в соотношении 3 к 1 \n",
    "- Кодирование признаков\n",
    "- Обучение 2-3 моделей, выброр лучшей. \n",
    "- Оценка модели на тестовой выборке, анализ важности признаков. \n",
    "3. Отчет \n",
    "- Описание ключевых шагов работы \n",
    "- Анализ соответствия фактической работы запланированной\n",
    "- Оценка проблем и путей их решения\n",
    "- Построение итогового списка признаков с расшифровкой\n",
    "- Описание предобработки признаков\n",
    "- Описание предобработки данных в целом\n",
    "- Построение таблицы лучших моделей и их метрик на кросс-валидации \n",
    "- Описание лучшей модели, ее название, гиперпараметры и метрика. \n",
    "- Описание итоговой метрики лучшей модели не тестовой выборке(ROC-AUC и accuracy)\n",
    "- Построение матрицы ошибок для лучшей модели"
   ]
  },
  {
   "cell_type": "markdown",
   "id": "52100ca3-6116-4b6e-a9ae-10c18a628aff",
   "metadata": {},
   "source": [
    "## Импорты"
   ]
  },
  {
   "cell_type": "code",
   "execution_count": 1,
   "id": "12bd2824-dd02-49b8-b51b-6a027ca2bffe",
   "metadata": {
    "tags": []
   },
   "outputs": [],
   "source": [
    "import pandas as pd \n",
    "import matplotlib.pyplot as plt \n",
    "import seaborn as sns\n",
    "import phik\n",
    "import catboost\n",
    "import numpy as np\n",
    "\n",
    "\n",
    "from phik.report import plot_correlation_matrix \n",
    "from sklearn.model_selection import train_test_split \n",
    "from sklearn.model_selection import GridSearchCV  \n",
    "from sklearn.pipeline import Pipeline\n",
    "from sklearn.ensemble import RandomForestClassifier\n",
    "from sklearn.compose import ColumnTransformer \n",
    "from sklearn.preprocessing import OrdinalEncoder\n",
    "from sklearn.metrics import make_scorer, roc_auc_score, accuracy_score, confusion_matrix, ConfusionMatrixDisplay\n",
    "from sklearn.model_selection import cross_val_predict\n",
    "from catboost import CatBoostClassifier \n",
    "from catboost import Pool"
   ]
  },
  {
   "cell_type": "markdown",
   "id": "90a1f8e3-ca7b-4d22-a165-4b2e31d37d2a",
   "metadata": {},
   "source": [
    "## Исследовательский анализ данных"
   ]
  },
  {
   "cell_type": "markdown",
   "id": "ce0ebf49-61ad-409b-b3e1-1d5b983d2f9c",
   "metadata": {},
   "source": [
    "### Импортирование данных"
   ]
  },
  {
   "cell_type": "code",
   "execution_count": 2,
   "id": "09847d74-26f4-4ca3-bbad-1b6a3bca014a",
   "metadata": {
    "tags": []
   },
   "outputs": [],
   "source": [
    "contract_data = pd.read_csv('contract_new.csv')"
   ]
  },
  {
   "cell_type": "code",
   "execution_count": 3,
   "id": "400691cb-8efd-49fc-92d4-c22415306714",
   "metadata": {
    "tags": []
   },
   "outputs": [],
   "source": [
    "personal_data = pd.read_csv('personal_new.csv')"
   ]
  },
  {
   "cell_type": "code",
   "execution_count": 4,
   "id": "35b33cd9-f14c-4b7a-b4fa-98cf343bee63",
   "metadata": {
    "tags": []
   },
   "outputs": [],
   "source": [
    "internet_data = pd.read_csv('internet_new.csv')"
   ]
  },
  {
   "cell_type": "code",
   "execution_count": 5,
   "id": "906c3a34-c2dd-46a0-921e-f55c33fcddcc",
   "metadata": {
    "tags": []
   },
   "outputs": [],
   "source": [
    "phone_data = pd.read_csv('phone_new.csv')"
   ]
  },
  {
   "cell_type": "markdown",
   "id": "538f3c9b-54b1-4e0c-ba7c-d80ef5aac7ad",
   "metadata": {
    "tags": []
   },
   "source": [
    "### Анализ данных по контрактам"
   ]
  },
  {
   "cell_type": "code",
   "execution_count": 7,
   "id": "40522860-aa64-4aa3-b639-d66368cfa2fe",
   "metadata": {
    "tags": []
   },
   "outputs": [
    {
     "data": {
      "text/html": [
       "<div>\n",
       "<style scoped>\n",
       "    .dataframe tbody tr th:only-of-type {\n",
       "        vertical-align: middle;\n",
       "    }\n",
       "\n",
       "    .dataframe tbody tr th {\n",
       "        vertical-align: top;\n",
       "    }\n",
       "\n",
       "    .dataframe thead th {\n",
       "        text-align: right;\n",
       "    }\n",
       "</style>\n",
       "<table border=\"1\" class=\"dataframe\">\n",
       "  <thead>\n",
       "    <tr style=\"text-align: right;\">\n",
       "      <th></th>\n",
       "      <th>customerID</th>\n",
       "      <th>BeginDate</th>\n",
       "      <th>EndDate</th>\n",
       "      <th>Type</th>\n",
       "      <th>PaperlessBilling</th>\n",
       "      <th>PaymentMethod</th>\n",
       "      <th>MonthlyCharges</th>\n",
       "      <th>TotalCharges</th>\n",
       "    </tr>\n",
       "  </thead>\n",
       "  <tbody>\n",
       "    <tr>\n",
       "      <th>0</th>\n",
       "      <td>7590-VHVEG</td>\n",
       "      <td>2020-01-01</td>\n",
       "      <td>No</td>\n",
       "      <td>Month-to-month</td>\n",
       "      <td>Yes</td>\n",
       "      <td>Electronic check</td>\n",
       "      <td>29.85</td>\n",
       "      <td>31.04</td>\n",
       "    </tr>\n",
       "    <tr>\n",
       "      <th>1</th>\n",
       "      <td>5575-GNVDE</td>\n",
       "      <td>2017-04-01</td>\n",
       "      <td>No</td>\n",
       "      <td>One year</td>\n",
       "      <td>No</td>\n",
       "      <td>Mailed check</td>\n",
       "      <td>56.95</td>\n",
       "      <td>2071.84</td>\n",
       "    </tr>\n",
       "    <tr>\n",
       "      <th>2</th>\n",
       "      <td>3668-QPYBK</td>\n",
       "      <td>2019-10-01</td>\n",
       "      <td>No</td>\n",
       "      <td>Month-to-month</td>\n",
       "      <td>Yes</td>\n",
       "      <td>Mailed check</td>\n",
       "      <td>53.85</td>\n",
       "      <td>226.17</td>\n",
       "    </tr>\n",
       "    <tr>\n",
       "      <th>3</th>\n",
       "      <td>7795-CFOCW</td>\n",
       "      <td>2016-05-01</td>\n",
       "      <td>No</td>\n",
       "      <td>One year</td>\n",
       "      <td>No</td>\n",
       "      <td>Bank transfer (automatic)</td>\n",
       "      <td>42.30</td>\n",
       "      <td>1960.6</td>\n",
       "    </tr>\n",
       "    <tr>\n",
       "      <th>4</th>\n",
       "      <td>9237-HQITU</td>\n",
       "      <td>2019-09-01</td>\n",
       "      <td>No</td>\n",
       "      <td>Month-to-month</td>\n",
       "      <td>Yes</td>\n",
       "      <td>Electronic check</td>\n",
       "      <td>70.70</td>\n",
       "      <td>353.5</td>\n",
       "    </tr>\n",
       "  </tbody>\n",
       "</table>\n",
       "</div>"
      ],
      "text/plain": [
       "   customerID   BeginDate EndDate            Type PaperlessBilling  \\\n",
       "0  7590-VHVEG  2020-01-01      No  Month-to-month              Yes   \n",
       "1  5575-GNVDE  2017-04-01      No        One year               No   \n",
       "2  3668-QPYBK  2019-10-01      No  Month-to-month              Yes   \n",
       "3  7795-CFOCW  2016-05-01      No        One year               No   \n",
       "4  9237-HQITU  2019-09-01      No  Month-to-month              Yes   \n",
       "\n",
       "               PaymentMethod  MonthlyCharges TotalCharges  \n",
       "0           Electronic check           29.85        31.04  \n",
       "1               Mailed check           56.95      2071.84  \n",
       "2               Mailed check           53.85       226.17  \n",
       "3  Bank transfer (automatic)           42.30       1960.6  \n",
       "4           Electronic check           70.70        353.5  "
      ]
     },
     "execution_count": 7,
     "metadata": {},
     "output_type": "execute_result"
    }
   ],
   "source": [
    "contract_data.head()"
   ]
  },
  {
   "cell_type": "code",
   "execution_count": 8,
   "id": "0edebebe-4ef8-4408-99bd-617dc3551ca7",
   "metadata": {
    "tags": []
   },
   "outputs": [
    {
     "name": "stdout",
     "output_type": "stream",
     "text": [
      "<class 'pandas.core.frame.DataFrame'>\n",
      "RangeIndex: 7043 entries, 0 to 7042\n",
      "Data columns (total 8 columns):\n",
      " #   Column            Non-Null Count  Dtype  \n",
      "---  ------            --------------  -----  \n",
      " 0   customerID        7043 non-null   object \n",
      " 1   BeginDate         7043 non-null   object \n",
      " 2   EndDate           7043 non-null   object \n",
      " 3   Type              7043 non-null   object \n",
      " 4   PaperlessBilling  7043 non-null   object \n",
      " 5   PaymentMethod     7043 non-null   object \n",
      " 6   MonthlyCharges    7043 non-null   float64\n",
      " 7   TotalCharges      7043 non-null   object \n",
      "dtypes: float64(1), object(7)\n",
      "memory usage: 440.3+ KB\n",
      "None\n",
      "-------------------------\n",
      "customerID ['0002-ORFBO' '0003-MKNFE' '0004-TLHLJ' ... '9992-UJOEL' '9993-LHIEB'\n",
      " '9995-HOTOH']\n",
      "customerID : кол-во NaN 0 , процент NaN 0.0 %\n",
      "-------------------------\n",
      "BeginDate ['2013-10-01' '2013-11-01' '2013-12-01' '2014-01-01' '2014-02-01'\n",
      " '2014-03-01' '2014-04-01' '2014-05-01' '2014-06-01' '2014-07-01'\n",
      " '2014-08-01' '2014-09-01' '2014-10-01' '2014-11-01' '2014-12-01'\n",
      " '2015-01-01' '2015-02-01' '2015-03-01' '2015-04-01' '2015-05-01'\n",
      " '2015-06-01' '2015-07-01' '2015-08-01' '2015-09-01' '2015-10-01'\n",
      " '2015-11-01' '2015-12-01' '2016-01-01' '2016-02-01' '2016-03-01'\n",
      " '2016-04-01' '2016-05-01' '2016-06-01' '2016-07-01' '2016-08-01'\n",
      " '2016-09-01' '2016-10-01' '2016-11-01' '2016-12-01' '2017-01-01'\n",
      " '2017-02-01' '2017-03-01' '2017-04-01' '2017-05-01' '2017-06-01'\n",
      " '2017-07-01' '2017-08-01' '2017-09-01' '2017-10-01' '2017-11-01'\n",
      " '2017-12-01' '2018-01-01' '2018-02-01' '2018-03-01' '2018-04-01'\n",
      " '2018-05-01' '2018-06-01' '2018-07-01' '2018-08-01' '2018-09-01'\n",
      " '2018-10-01' '2018-11-01' '2018-12-01' '2019-01-01' '2019-02-01'\n",
      " '2019-03-01' '2019-04-01' '2019-05-01' '2019-06-01' '2019-07-01'\n",
      " '2019-08-01' '2019-09-01' '2019-10-01' '2019-11-01' '2019-12-01'\n",
      " '2020-01-01' '2020-02-01']\n",
      "BeginDate : кол-во NaN 0 , процент NaN 0.0 %\n",
      "-------------------------\n",
      "EndDate ['2014-06-01' '2014-09-01' '2014-10-01' '2014-11-01' '2014-12-01'\n",
      " '2015-01-01' '2015-02-01' '2015-03-01' '2015-04-01' '2015-05-01'\n",
      " '2015-06-01' '2015-07-01' '2015-08-01' '2015-09-01' '2015-10-01'\n",
      " '2015-11-01' '2015-12-01' '2016-01-01' '2016-02-01' '2016-03-01'\n",
      " '2016-04-01' '2016-05-01' '2016-06-01' '2016-07-01' '2016-08-01'\n",
      " '2016-09-01' '2016-10-01' '2016-11-01' '2016-12-01' '2017-01-01'\n",
      " '2017-02-01' '2017-03-01' '2017-04-01' '2017-05-01' '2017-06-01'\n",
      " '2017-07-01' '2017-08-01' '2017-09-01' '2017-10-01' '2017-11-01'\n",
      " '2017-12-01' '2018-01-01' '2018-02-01' '2018-03-01' '2018-04-01'\n",
      " '2018-05-01' '2018-06-01' '2018-07-01' '2018-08-01' '2018-09-01'\n",
      " '2018-10-01' '2018-11-01' '2018-12-01' '2019-01-01' '2019-02-01'\n",
      " '2019-03-01' '2019-04-01' '2019-05-01' '2019-06-01' '2019-07-01'\n",
      " '2019-08-01' '2019-09-01' '2019-10-01' '2019-11-01' '2019-12-01'\n",
      " '2020-01-01' 'No']\n",
      "EndDate : кол-во NaN 0 , процент NaN 0.0 %\n",
      "-------------------------\n",
      "Type ['Month-to-month' 'One year' 'Two year']\n",
      "Type : кол-во NaN 0 , процент NaN 0.0 %\n",
      "-------------------------\n",
      "PaperlessBilling ['No' 'Yes']\n",
      "PaperlessBilling : кол-во NaN 0 , процент NaN 0.0 %\n",
      "-------------------------\n",
      "PaymentMethod ['Bank transfer (automatic)' 'Credit card (automatic)' 'Electronic check'\n",
      " 'Mailed check']\n",
      "PaymentMethod : кол-во NaN 0 , процент NaN 0.0 %\n",
      "-------------------------\n",
      "MonthlyCharges [ 18.25  18.4   18.55 ... 118.6  118.65 118.75]\n",
      "MonthlyCharges : кол-во NaN 0 , процент NaN 0.0 %\n",
      "-------------------------\n",
      "TotalCharges [' ' '100.17' '100.19' ... '998.89' '999.6' '999.9']\n",
      "TotalCharges : кол-во NaN 0 , процент NaN 0.0 %\n",
      "-------------------------\n",
      "кол-во дубликатов в датафрейме 0 , процент дубликатов 0.0 %\n"
     ]
    }
   ],
   "source": [
    "temp = contract_data.copy() \n",
    "print(temp.info())\n",
    "for col_l in temp.columns:\n",
    "    print('-'* 25)\n",
    "    print(col_l, temp[col_l].sort_values().unique())\n",
    "    print(col_l,': кол-во NaN',temp[col_l].isna().sum(),\n",
    "          ', процент NaN', round(temp[col_l].isna().sum()/len(temp)*100, 2),'%') \n",
    "print('-'* 25) \n",
    "print('кол-во дубликатов в датафрейме', temp.duplicated().sum(),\n",
    "      ', процент дубликатов', round(temp.duplicated().sum()/len(temp)*100, 2),'%')"
   ]
  },
  {
   "cell_type": "markdown",
   "id": "cd1bb207-b82b-4833-bb7c-07eb80794766",
   "metadata": {
    "tags": []
   },
   "source": [
    "Интерес вызывает столбец TotalCharges в котором неожиданно оказались пропуски, при этом они отображаются как ' ', поэтому технически пропусками не считаются, но весь столбец получил тип object. Посмотрим на них."
   ]
  },
  {
   "cell_type": "code",
   "execution_count": 9,
   "id": "a28f9718-6385-4458-a403-4bedeab47b68",
   "metadata": {
    "tags": []
   },
   "outputs": [
    {
     "data": {
      "text/html": [
       "<div>\n",
       "<style scoped>\n",
       "    .dataframe tbody tr th:only-of-type {\n",
       "        vertical-align: middle;\n",
       "    }\n",
       "\n",
       "    .dataframe tbody tr th {\n",
       "        vertical-align: top;\n",
       "    }\n",
       "\n",
       "    .dataframe thead th {\n",
       "        text-align: right;\n",
       "    }\n",
       "</style>\n",
       "<table border=\"1\" class=\"dataframe\">\n",
       "  <thead>\n",
       "    <tr style=\"text-align: right;\">\n",
       "      <th></th>\n",
       "      <th>customerID</th>\n",
       "      <th>BeginDate</th>\n",
       "      <th>EndDate</th>\n",
       "      <th>Type</th>\n",
       "      <th>PaperlessBilling</th>\n",
       "      <th>PaymentMethod</th>\n",
       "      <th>MonthlyCharges</th>\n",
       "      <th>TotalCharges</th>\n",
       "    </tr>\n",
       "  </thead>\n",
       "  <tbody>\n",
       "    <tr>\n",
       "      <th>488</th>\n",
       "      <td>4472-LVYGI</td>\n",
       "      <td>2020-02-01</td>\n",
       "      <td>No</td>\n",
       "      <td>Two year</td>\n",
       "      <td>Yes</td>\n",
       "      <td>Bank transfer (automatic)</td>\n",
       "      <td>52.55</td>\n",
       "      <td></td>\n",
       "    </tr>\n",
       "    <tr>\n",
       "      <th>753</th>\n",
       "      <td>3115-CZMZD</td>\n",
       "      <td>2020-02-01</td>\n",
       "      <td>No</td>\n",
       "      <td>Two year</td>\n",
       "      <td>No</td>\n",
       "      <td>Mailed check</td>\n",
       "      <td>20.25</td>\n",
       "      <td></td>\n",
       "    </tr>\n",
       "    <tr>\n",
       "      <th>936</th>\n",
       "      <td>5709-LVOEQ</td>\n",
       "      <td>2020-02-01</td>\n",
       "      <td>No</td>\n",
       "      <td>Two year</td>\n",
       "      <td>No</td>\n",
       "      <td>Mailed check</td>\n",
       "      <td>80.85</td>\n",
       "      <td></td>\n",
       "    </tr>\n",
       "    <tr>\n",
       "      <th>1082</th>\n",
       "      <td>4367-NUYAO</td>\n",
       "      <td>2020-02-01</td>\n",
       "      <td>No</td>\n",
       "      <td>Two year</td>\n",
       "      <td>No</td>\n",
       "      <td>Mailed check</td>\n",
       "      <td>25.75</td>\n",
       "      <td></td>\n",
       "    </tr>\n",
       "    <tr>\n",
       "      <th>1340</th>\n",
       "      <td>1371-DWPAZ</td>\n",
       "      <td>2020-02-01</td>\n",
       "      <td>No</td>\n",
       "      <td>Two year</td>\n",
       "      <td>No</td>\n",
       "      <td>Credit card (automatic)</td>\n",
       "      <td>56.05</td>\n",
       "      <td></td>\n",
       "    </tr>\n",
       "    <tr>\n",
       "      <th>3331</th>\n",
       "      <td>7644-OMVMY</td>\n",
       "      <td>2020-02-01</td>\n",
       "      <td>No</td>\n",
       "      <td>Two year</td>\n",
       "      <td>No</td>\n",
       "      <td>Mailed check</td>\n",
       "      <td>19.85</td>\n",
       "      <td></td>\n",
       "    </tr>\n",
       "    <tr>\n",
       "      <th>3826</th>\n",
       "      <td>3213-VVOLG</td>\n",
       "      <td>2020-02-01</td>\n",
       "      <td>No</td>\n",
       "      <td>Two year</td>\n",
       "      <td>No</td>\n",
       "      <td>Mailed check</td>\n",
       "      <td>25.35</td>\n",
       "      <td></td>\n",
       "    </tr>\n",
       "    <tr>\n",
       "      <th>4380</th>\n",
       "      <td>2520-SGTTA</td>\n",
       "      <td>2020-02-01</td>\n",
       "      <td>No</td>\n",
       "      <td>Two year</td>\n",
       "      <td>No</td>\n",
       "      <td>Mailed check</td>\n",
       "      <td>20.00</td>\n",
       "      <td></td>\n",
       "    </tr>\n",
       "    <tr>\n",
       "      <th>5218</th>\n",
       "      <td>2923-ARZLG</td>\n",
       "      <td>2020-02-01</td>\n",
       "      <td>No</td>\n",
       "      <td>One year</td>\n",
       "      <td>Yes</td>\n",
       "      <td>Mailed check</td>\n",
       "      <td>19.70</td>\n",
       "      <td></td>\n",
       "    </tr>\n",
       "    <tr>\n",
       "      <th>6670</th>\n",
       "      <td>4075-WKNIU</td>\n",
       "      <td>2020-02-01</td>\n",
       "      <td>No</td>\n",
       "      <td>Two year</td>\n",
       "      <td>No</td>\n",
       "      <td>Mailed check</td>\n",
       "      <td>73.35</td>\n",
       "      <td></td>\n",
       "    </tr>\n",
       "    <tr>\n",
       "      <th>6754</th>\n",
       "      <td>2775-SEFEE</td>\n",
       "      <td>2020-02-01</td>\n",
       "      <td>No</td>\n",
       "      <td>Two year</td>\n",
       "      <td>Yes</td>\n",
       "      <td>Bank transfer (automatic)</td>\n",
       "      <td>61.90</td>\n",
       "      <td></td>\n",
       "    </tr>\n",
       "  </tbody>\n",
       "</table>\n",
       "</div>"
      ],
      "text/plain": [
       "      customerID   BeginDate EndDate      Type PaperlessBilling  \\\n",
       "488   4472-LVYGI  2020-02-01      No  Two year              Yes   \n",
       "753   3115-CZMZD  2020-02-01      No  Two year               No   \n",
       "936   5709-LVOEQ  2020-02-01      No  Two year               No   \n",
       "1082  4367-NUYAO  2020-02-01      No  Two year               No   \n",
       "1340  1371-DWPAZ  2020-02-01      No  Two year               No   \n",
       "3331  7644-OMVMY  2020-02-01      No  Two year               No   \n",
       "3826  3213-VVOLG  2020-02-01      No  Two year               No   \n",
       "4380  2520-SGTTA  2020-02-01      No  Two year               No   \n",
       "5218  2923-ARZLG  2020-02-01      No  One year              Yes   \n",
       "6670  4075-WKNIU  2020-02-01      No  Two year               No   \n",
       "6754  2775-SEFEE  2020-02-01      No  Two year              Yes   \n",
       "\n",
       "                  PaymentMethod  MonthlyCharges TotalCharges  \n",
       "488   Bank transfer (automatic)           52.55               \n",
       "753                Mailed check           20.25               \n",
       "936                Mailed check           80.85               \n",
       "1082               Mailed check           25.75               \n",
       "1340    Credit card (automatic)           56.05               \n",
       "3331               Mailed check           19.85               \n",
       "3826               Mailed check           25.35               \n",
       "4380               Mailed check           20.00               \n",
       "5218               Mailed check           19.70               \n",
       "6670               Mailed check           73.35               \n",
       "6754  Bank transfer (automatic)           61.90               "
      ]
     },
     "execution_count": 9,
     "metadata": {},
     "output_type": "execute_result"
    }
   ],
   "source": [
    "contract_data.query('TotalCharges == \" \"')"
   ]
  },
  {
   "cell_type": "markdown",
   "id": "853ba2e9-3005-473b-80d5-0a9b5ac629da",
   "metadata": {},
   "source": [
    "Как можно заметить, все эти клиенты только заключили договор на момент выгрузки и никаких денег еще не заплатили, соответственно заполняем TotalCharges нулями."
   ]
  },
  {
   "cell_type": "code",
   "execution_count": 10,
   "id": "0d4b63e7-b807-4e12-9573-2f1e4a14248d",
   "metadata": {
    "tags": []
   },
   "outputs": [],
   "source": [
    "contract_data.loc[contract_data['TotalCharges'] == ' ', 'TotalCharges'] = '0' "
   ]
  },
  {
   "cell_type": "markdown",
   "id": "97068eef-6e78-46fb-822e-e1a223eabf3c",
   "metadata": {},
   "source": [
    "Выделим ключевой признак, чтобы можно было спокойно работать со столбцом EndDate, записи 'No' мешают преобразовать его в тип с датой, которую потом хотелось бы использовать для подсчета длительности обслуживания."
   ]
  },
  {
   "cell_type": "code",
   "execution_count": 11,
   "id": "ed8a8296-c31b-4e00-b006-47a45374b750",
   "metadata": {
    "tags": []
   },
   "outputs": [
    {
     "name": "stdout",
     "output_type": "stream",
     "text": [
      "[0 1]\n",
      "0.15632542950447254\n"
     ]
    }
   ],
   "source": [
    "contract_data['label'] = contract_data['EndDate'].apply(lambda x: 0 if x == 'No' else 1) \n",
    "print(contract_data['label'].unique()) \n",
    "print(contract_data['label'].mean())"
   ]
  },
  {
   "cell_type": "markdown",
   "id": "0e5b2b08-0499-4ca0-9037-c77ad0749734",
   "metadata": {},
   "source": [
    "Получили вполне ожидаемый баланс классов, теперь заменим записи \"No\" на заглушку. Осознанно ставим здесь тип None, чтобы посмотреть распределение уходящих клиентов."
   ]
  },
  {
   "cell_type": "code",
   "execution_count": 12,
   "id": "56e28bc3-009f-4cef-9461-e165d462f6ae",
   "metadata": {
    "tags": []
   },
   "outputs": [],
   "source": [
    "contract_data.loc[contract_data['EndDate'] == 'No', 'EndDate'] = None"
   ]
  },
  {
   "cell_type": "markdown",
   "id": "b73d95a3-f83a-48e7-8f9f-a286ae4bb1ca",
   "metadata": {},
   "source": [
    "Теперь меняем тип данных в некоторых столбцах."
   ]
  },
  {
   "cell_type": "code",
   "execution_count": 13,
   "id": "4a3d81fd-d737-44cf-8131-6b1d4e74094a",
   "metadata": {
    "tags": []
   },
   "outputs": [],
   "source": [
    "contract_data = contract_data.astype({'TotalCharges':'float64'}) \n",
    "contract_data['BeginDate'] = pd.to_datetime(contract_data['BeginDate'], format='%Y-%m-%d') \n",
    "contract_data['EndDate'] = pd.to_datetime(contract_data['EndDate'], format='%Y-%m-%d')"
   ]
  },
  {
   "cell_type": "code",
   "execution_count": 14,
   "id": "1e2124c0-2cfc-470b-a225-5493a1226a5c",
   "metadata": {
    "tags": []
   },
   "outputs": [
    {
     "name": "stdout",
     "output_type": "stream",
     "text": [
      "<class 'pandas.core.frame.DataFrame'>\n",
      "RangeIndex: 7043 entries, 0 to 7042\n",
      "Data columns (total 9 columns):\n",
      " #   Column            Non-Null Count  Dtype         \n",
      "---  ------            --------------  -----         \n",
      " 0   customerID        7043 non-null   object        \n",
      " 1   BeginDate         7043 non-null   datetime64[ns]\n",
      " 2   EndDate           1101 non-null   datetime64[ns]\n",
      " 3   Type              7043 non-null   object        \n",
      " 4   PaperlessBilling  7043 non-null   object        \n",
      " 5   PaymentMethod     7043 non-null   object        \n",
      " 6   MonthlyCharges    7043 non-null   float64       \n",
      " 7   TotalCharges      7043 non-null   float64       \n",
      " 8   label             7043 non-null   int64         \n",
      "dtypes: datetime64[ns](2), float64(2), int64(1), object(4)\n",
      "memory usage: 495.3+ KB\n"
     ]
    }
   ],
   "source": [
    "contract_data.info()"
   ]
  },
  {
   "cell_type": "markdown",
   "id": "05065d5d-4ff9-4dad-b851-7bbb3daf0a6e",
   "metadata": {},
   "source": [
    "С типами все, посмотрим распределения."
   ]
  },
  {
   "cell_type": "code",
   "execution_count": 15,
   "id": "9d6cd9ef-962b-489b-8bf9-0c821e9fa7b8",
   "metadata": {
    "tags": []
   },
   "outputs": [
    {
     "data": {
      "image/png": "[encoded data removed]",
      "text/plain": [
       "<Figure size 720x720 with 6 Axes>"
      ]
     },
     "metadata": {
      "needs_background": "light"
     },
     "output_type": "display_data"
    }
   ],
   "source": [
    "contract_data.hist(figsize=(10, 10), bins=65);"
   ]
  },
  {
   "cell_type": "markdown",
   "id": "fd2aa8e9-3b24-4a11-ab4f-6525493f8666",
   "metadata": {},
   "source": [
    "В целом все логично, графики MonthlyCharges и TotalCharges отражают то, что большая часть клиентов находится на недорогих тарифах. Компания постепенно растет, поэтому увеличивается и отток клиентов - это можно увидеть на графиках BeginDate и EndDate. Единственное, есть небольшой пик в 2020 года на графике оттока, но масштаб цифр здесь небольшой и это вполне возможно."
   ]
  },
  {
   "cell_type": "markdown",
   "id": "177762f8-9fc5-4c6f-bdbd-8a7644c504eb",
   "metadata": {},
   "source": [
    "Уберем None, заполним их датой выгрузки, чтобы потом можно было посчитать продолжительность обслуживания на момент выгрузки."
   ]
  },
  {
   "cell_type": "code",
   "execution_count": 16,
   "id": "4b2de5ff-2582-4194-96ca-befe598740a2",
   "metadata": {
    "tags": []
   },
   "outputs": [],
   "source": [
    "contract_data['EndDate'] = contract_data['EndDate'].fillna('2020-02-01') \n",
    "contract_data['EndDate'] = pd.to_datetime(contract_data['EndDate'], format='%Y-%m-%d')"
   ]
  },
  {
   "cell_type": "code",
   "execution_count": 17,
   "id": "cd7055bf-3543-4623-8cd3-ea71bc0dfe50",
   "metadata": {
    "tags": []
   },
   "outputs": [
    {
     "data": {
      "image/png": "[encoded data removed]",
      "text/plain": [
       "<Figure size 360x360 with 1 Axes>"
      ]
     },
     "metadata": {
      "needs_background": "light"
     },
     "output_type": "display_data"
    }
   ],
   "source": [
    "contract_data.groupby('Type')['Type'].count().sort_values(ascending=False).plot(kind='bar', \n",
    "                                                                                grid=True, \n",
    "                                                                                figsize=(5, 5), \n",
    "                                                                                title='Payment type',\n",
    "                                                                                xlabel=''\n",
    "                                                                                );"
   ]
  },
  {
   "cell_type": "markdown",
   "id": "efcb82ed-7a12-4599-bed0-8bbf96096c2c",
   "metadata": {},
   "source": [
    "Ожидаемо большая часть клиентов, порядка 54 процентов, платит помесячно."
   ]
  },
  {
   "cell_type": "code",
   "execution_count": 18,
   "id": "a4bf757a-6234-4c8e-b784-c6c7f64af7e9",
   "metadata": {
    "tags": []
   },
   "outputs": [
    {
     "data": {
      "image/png": "[encoded data removed]",
      "text/plain": [
       "<Figure size 360x360 with 1 Axes>"
      ]
     },
     "metadata": {
      "needs_background": "light"
     },
     "output_type": "display_data"
    }
   ],
   "source": [
    "contract_data.groupby('PaperlessBilling')['PaperlessBilling'].count().sort_values(ascending=False).plot(kind='bar', \n",
    "                                                                                                        grid=True, \n",
    "                                                                                                        figsize=(5, 5), \n",
    "                                                                                                        title='Paperless Billing',\n",
    "                                                                                                        xlabel=''\n",
    "                                                                                                        );"
   ]
  },
  {
   "cell_type": "markdown",
   "id": "8c9c1fcf-2bcb-4578-af14-3aa241749d9e",
   "metadata": {},
   "source": [
    "Как не странно, довольно большой процент клиентов - примерно 40% пользуется бумажными платежными документами."
   ]
  },
  {
   "cell_type": "code",
   "execution_count": 19,
   "id": "53d6a907-e358-4383-b702-38a0ef940b41",
   "metadata": {
    "tags": []
   },
   "outputs": [
    {
     "data": {
      "image/png": "[encoded data removed]",
      "text/plain": [
       "<Figure size 360x360 with 1 Axes>"
      ]
     },
     "metadata": {
      "needs_background": "light"
     },
     "output_type": "display_data"
    }
   ],
   "source": [
    "contract_data.groupby('PaymentMethod')['PaymentMethod'].count().sort_values(ascending=False).plot(kind='bar', \n",
    "                                                                                                  grid=True, \n",
    "                                                                                                  figsize=(5, 5), \n",
    "                                                                                                  title='Payment method',\n",
    "                                                                                                  xlabel=''\n",
    "                                                                                                  );"
   ]
  },
  {
   "cell_type": "markdown",
   "id": "ba62f2b2-b5d2-44ee-a235-7299cd3e3852",
   "metadata": {},
   "source": [
    "Значительное количество клиентов, чуть меньше четверти все еще получает чеки по почте, чуть меньше половины клиентов пользуется автоплатежем."
   ]
  },
  {
   "cell_type": "markdown",
   "id": "bc8e9adb-94e1-4c36-8068-2b10133ce3b9",
   "metadata": {},
   "source": [
    "### Анализ персональных данных"
   ]
  },
  {
   "cell_type": "code",
   "execution_count": 20,
   "id": "6f887377-150c-4908-8dc3-c625b50c571c",
   "metadata": {
    "tags": []
   },
   "outputs": [
    {
     "data": {
      "text/html": [
       "<div>\n",
       "<style scoped>\n",
       "    .dataframe tbody tr th:only-of-type {\n",
       "        vertical-align: middle;\n",
       "    }\n",
       "\n",
       "    .dataframe tbody tr th {\n",
       "        vertical-align: top;\n",
       "    }\n",
       "\n",
       "    .dataframe thead th {\n",
       "        text-align: right;\n",
       "    }\n",
       "</style>\n",
       "<table border=\"1\" class=\"dataframe\">\n",
       "  <thead>\n",
       "    <tr style=\"text-align: right;\">\n",
       "      <th></th>\n",
       "      <th>customerID</th>\n",
       "      <th>gender</th>\n",
       "      <th>SeniorCitizen</th>\n",
       "      <th>Partner</th>\n",
       "      <th>Dependents</th>\n",
       "    </tr>\n",
       "  </thead>\n",
       "  <tbody>\n",
       "    <tr>\n",
       "      <th>0</th>\n",
       "      <td>7590-VHVEG</td>\n",
       "      <td>Female</td>\n",
       "      <td>0</td>\n",
       "      <td>Yes</td>\n",
       "      <td>No</td>\n",
       "    </tr>\n",
       "    <tr>\n",
       "      <th>1</th>\n",
       "      <td>5575-GNVDE</td>\n",
       "      <td>Male</td>\n",
       "      <td>0</td>\n",
       "      <td>No</td>\n",
       "      <td>No</td>\n",
       "    </tr>\n",
       "    <tr>\n",
       "      <th>2</th>\n",
       "      <td>3668-QPYBK</td>\n",
       "      <td>Male</td>\n",
       "      <td>0</td>\n",
       "      <td>No</td>\n",
       "      <td>No</td>\n",
       "    </tr>\n",
       "    <tr>\n",
       "      <th>3</th>\n",
       "      <td>7795-CFOCW</td>\n",
       "      <td>Male</td>\n",
       "      <td>0</td>\n",
       "      <td>No</td>\n",
       "      <td>No</td>\n",
       "    </tr>\n",
       "    <tr>\n",
       "      <th>4</th>\n",
       "      <td>9237-HQITU</td>\n",
       "      <td>Female</td>\n",
       "      <td>0</td>\n",
       "      <td>No</td>\n",
       "      <td>No</td>\n",
       "    </tr>\n",
       "  </tbody>\n",
       "</table>\n",
       "</div>"
      ],
      "text/plain": [
       "   customerID  gender  SeniorCitizen Partner Dependents\n",
       "0  7590-VHVEG  Female              0     Yes         No\n",
       "1  5575-GNVDE    Male              0      No         No\n",
       "2  3668-QPYBK    Male              0      No         No\n",
       "3  7795-CFOCW    Male              0      No         No\n",
       "4  9237-HQITU  Female              0      No         No"
      ]
     },
     "execution_count": 20,
     "metadata": {},
     "output_type": "execute_result"
    }
   ],
   "source": [
    "personal_data.head()"
   ]
  },
  {
   "cell_type": "code",
   "execution_count": 21,
   "id": "71d1a8d6-b52b-42d9-bb15-d383cd619743",
   "metadata": {
    "tags": []
   },
   "outputs": [
    {
     "name": "stdout",
     "output_type": "stream",
     "text": [
      "<class 'pandas.core.frame.DataFrame'>\n",
      "RangeIndex: 7043 entries, 0 to 7042\n",
      "Data columns (total 5 columns):\n",
      " #   Column         Non-Null Count  Dtype \n",
      "---  ------         --------------  ----- \n",
      " 0   customerID     7043 non-null   object\n",
      " 1   gender         7043 non-null   object\n",
      " 2   SeniorCitizen  7043 non-null   int64 \n",
      " 3   Partner        7043 non-null   object\n",
      " 4   Dependents     7043 non-null   object\n",
      "dtypes: int64(1), object(4)\n",
      "memory usage: 275.2+ KB\n",
      "None\n",
      "-------------------------\n",
      "customerID ['0002-ORFBO' '0003-MKNFE' '0004-TLHLJ' ... '9992-UJOEL' '9993-LHIEB'\n",
      " '9995-HOTOH']\n",
      "customerID : кол-во NaN 0 , процент NaN 0.0 %\n",
      "-------------------------\n",
      "gender ['Female' 'Male']\n",
      "gender : кол-во NaN 0 , процент NaN 0.0 %\n",
      "-------------------------\n",
      "SeniorCitizen [0 1]\n",
      "SeniorCitizen : кол-во NaN 0 , процент NaN 0.0 %\n",
      "-------------------------\n",
      "Partner ['No' 'Yes']\n",
      "Partner : кол-во NaN 0 , процент NaN 0.0 %\n",
      "-------------------------\n",
      "Dependents ['No' 'Yes']\n",
      "Dependents : кол-во NaN 0 , процент NaN 0.0 %\n",
      "-------------------------\n",
      "кол-во дубликатов в датафрейме 0 , процент дубликатов 0.0 %\n"
     ]
    }
   ],
   "source": [
    "temp = personal_data.copy() \n",
    "print(temp.info())\n",
    "for col_l in temp.columns:\n",
    "    print('-'* 25)\n",
    "    print(col_l, temp[col_l].sort_values().unique())\n",
    "    print(col_l,': кол-во NaN',temp[col_l].isna().sum(),\n",
    "          ', процент NaN', round(temp[col_l].isna().sum()/len(temp)*100, 2),'%') \n",
    "print('-'* 25) \n",
    "print('кол-во дубликатов в датафрейме', temp.duplicated().sum(),\n",
    "      ', процент дубликатов', round(temp.duplicated().sum()/len(temp)*100, 2),'%')"
   ]
  },
  {
   "cell_type": "markdown",
   "id": "f33b81e3-2c2d-4543-84c8-6f4aceb403f5",
   "metadata": {},
   "source": [
    "Здесь, вроде бы, никих подозрительных значений нет. Посмотрим распределения."
   ]
  },
  {
   "cell_type": "code",
   "execution_count": 22,
   "id": "a7622c88-81f8-4442-8907-35d8d7e4c7a8",
   "metadata": {
    "tags": []
   },
   "outputs": [
    {
     "data": {
      "image/png": "[encoded data removed]",
      "text/plain": [
       "<Figure size 648x432 with 4 Axes>"
      ]
     },
     "metadata": {
      "needs_background": "light"
     },
     "output_type": "display_data"
    }
   ],
   "source": [
    "columns = temp.columns.drop('customerID') \n",
    "n = columns.shape[0] \n",
    "rows = n // 2 + (n % 2 > 0) \n",
    "fig, axes = plt.subplots(nrows=rows, ncols=2, figsize=(3*3, 3*rows)) \n",
    "for i, column in enumerate(columns): \n",
    "    r = i // 2 \n",
    "    c = i % 2 \n",
    "    ax = axes[r][c] \n",
    "    temp.groupby(column)[column].count().sort_values(ascending=False).plot(kind='bar', ax=ax, grid=True, title=column, xlabel='') \n",
    "plt.tight_layout() \n",
    "plt.show() "
   ]
  },
  {
   "cell_type": "markdown",
   "id": "6136c71d-a0ad-40bf-9969-06a6b2d0cae0",
   "metadata": {},
   "source": [
    "Таким образом:\n",
    "- пол пользователей распределен примерно поровну\n",
    "- среди клиентов примерно 14% пенсионеров\n",
    "- чуть меньше половины пользователей состоят в браке \n",
    "- у примерно 26% пользователей есть иждивенцы"
   ]
  },
  {
   "cell_type": "markdown",
   "id": "4a4fbd4c-234e-44d6-80e3-c47d488aaa3f",
   "metadata": {},
   "source": [
    "### Интернет-услуги"
   ]
  },
  {
   "cell_type": "code",
   "execution_count": 23,
   "id": "df973b9b-3189-42b0-a02b-126259cabb4e",
   "metadata": {
    "tags": []
   },
   "outputs": [
    {
     "data": {
      "text/html": [
       "<div>\n",
       "<style scoped>\n",
       "    .dataframe tbody tr th:only-of-type {\n",
       "        vertical-align: middle;\n",
       "    }\n",
       "\n",
       "    .dataframe tbody tr th {\n",
       "        vertical-align: top;\n",
       "    }\n",
       "\n",
       "    .dataframe thead th {\n",
       "        text-align: right;\n",
       "    }\n",
       "</style>\n",
       "<table border=\"1\" class=\"dataframe\">\n",
       "  <thead>\n",
       "    <tr style=\"text-align: right;\">\n",
       "      <th></th>\n",
       "      <th>customerID</th>\n",
       "      <th>InternetService</th>\n",
       "      <th>OnlineSecurity</th>\n",
       "      <th>OnlineBackup</th>\n",
       "      <th>DeviceProtection</th>\n",
       "      <th>TechSupport</th>\n",
       "      <th>StreamingTV</th>\n",
       "      <th>StreamingMovies</th>\n",
       "    </tr>\n",
       "  </thead>\n",
       "  <tbody>\n",
       "    <tr>\n",
       "      <th>0</th>\n",
       "      <td>7590-VHVEG</td>\n",
       "      <td>DSL</td>\n",
       "      <td>No</td>\n",
       "      <td>Yes</td>\n",
       "      <td>No</td>\n",
       "      <td>No</td>\n",
       "      <td>No</td>\n",
       "      <td>No</td>\n",
       "    </tr>\n",
       "    <tr>\n",
       "      <th>1</th>\n",
       "      <td>5575-GNVDE</td>\n",
       "      <td>DSL</td>\n",
       "      <td>Yes</td>\n",
       "      <td>No</td>\n",
       "      <td>Yes</td>\n",
       "      <td>No</td>\n",
       "      <td>No</td>\n",
       "      <td>No</td>\n",
       "    </tr>\n",
       "    <tr>\n",
       "      <th>2</th>\n",
       "      <td>3668-QPYBK</td>\n",
       "      <td>DSL</td>\n",
       "      <td>Yes</td>\n",
       "      <td>Yes</td>\n",
       "      <td>No</td>\n",
       "      <td>No</td>\n",
       "      <td>No</td>\n",
       "      <td>No</td>\n",
       "    </tr>\n",
       "    <tr>\n",
       "      <th>3</th>\n",
       "      <td>7795-CFOCW</td>\n",
       "      <td>DSL</td>\n",
       "      <td>Yes</td>\n",
       "      <td>No</td>\n",
       "      <td>Yes</td>\n",
       "      <td>Yes</td>\n",
       "      <td>No</td>\n",
       "      <td>No</td>\n",
       "    </tr>\n",
       "    <tr>\n",
       "      <th>4</th>\n",
       "      <td>9237-HQITU</td>\n",
       "      <td>Fiber optic</td>\n",
       "      <td>No</td>\n",
       "      <td>No</td>\n",
       "      <td>No</td>\n",
       "      <td>No</td>\n",
       "      <td>No</td>\n",
       "      <td>No</td>\n",
       "    </tr>\n",
       "  </tbody>\n",
       "</table>\n",
       "</div>"
      ],
      "text/plain": [
       "   customerID InternetService OnlineSecurity OnlineBackup DeviceProtection  \\\n",
       "0  7590-VHVEG             DSL             No          Yes               No   \n",
       "1  5575-GNVDE             DSL            Yes           No              Yes   \n",
       "2  3668-QPYBK             DSL            Yes          Yes               No   \n",
       "3  7795-CFOCW             DSL            Yes           No              Yes   \n",
       "4  9237-HQITU     Fiber optic             No           No               No   \n",
       "\n",
       "  TechSupport StreamingTV StreamingMovies  \n",
       "0          No          No              No  \n",
       "1          No          No              No  \n",
       "2          No          No              No  \n",
       "3         Yes          No              No  \n",
       "4          No          No              No  "
      ]
     },
     "execution_count": 23,
     "metadata": {},
     "output_type": "execute_result"
    }
   ],
   "source": [
    "internet_data.head()"
   ]
  },
  {
   "cell_type": "code",
   "execution_count": 24,
   "id": "496ca82b-73c7-4122-bb19-f243b7a3611d",
   "metadata": {
    "tags": []
   },
   "outputs": [
    {
     "name": "stdout",
     "output_type": "stream",
     "text": [
      "<class 'pandas.core.frame.DataFrame'>\n",
      "RangeIndex: 5517 entries, 0 to 5516\n",
      "Data columns (total 8 columns):\n",
      " #   Column            Non-Null Count  Dtype \n",
      "---  ------            --------------  ----- \n",
      " 0   customerID        5517 non-null   object\n",
      " 1   InternetService   5517 non-null   object\n",
      " 2   OnlineSecurity    5517 non-null   object\n",
      " 3   OnlineBackup      5517 non-null   object\n",
      " 4   DeviceProtection  5517 non-null   object\n",
      " 5   TechSupport       5517 non-null   object\n",
      " 6   StreamingTV       5517 non-null   object\n",
      " 7   StreamingMovies   5517 non-null   object\n",
      "dtypes: object(8)\n",
      "memory usage: 344.9+ KB\n",
      "None\n",
      "-------------------------\n",
      "customerID ['0002-ORFBO' '0003-MKNFE' '0004-TLHLJ' ... '9992-UJOEL' '9993-LHIEB'\n",
      " '9995-HOTOH']\n",
      "customerID : кол-во NaN 0 , процент NaN 0.0 %\n",
      "-------------------------\n",
      "InternetService ['DSL' 'Fiber optic']\n",
      "InternetService : кол-во NaN 0 , процент NaN 0.0 %\n",
      "-------------------------\n",
      "OnlineSecurity ['No' 'Yes']\n",
      "OnlineSecurity : кол-во NaN 0 , процент NaN 0.0 %\n",
      "-------------------------\n",
      "OnlineBackup ['No' 'Yes']\n",
      "OnlineBackup : кол-во NaN 0 , процент NaN 0.0 %\n",
      "-------------------------\n",
      "DeviceProtection ['No' 'Yes']\n",
      "DeviceProtection : кол-во NaN 0 , процент NaN 0.0 %\n",
      "-------------------------\n",
      "TechSupport ['No' 'Yes']\n",
      "TechSupport : кол-во NaN 0 , процент NaN 0.0 %\n",
      "-------------------------\n",
      "StreamingTV ['No' 'Yes']\n",
      "StreamingTV : кол-во NaN 0 , процент NaN 0.0 %\n",
      "-------------------------\n",
      "StreamingMovies ['No' 'Yes']\n",
      "StreamingMovies : кол-во NaN 0 , процент NaN 0.0 %\n",
      "-------------------------\n",
      "кол-во дубликатов в датафрейме 0 , процент дубликатов 0.0 %\n"
     ]
    }
   ],
   "source": [
    "temp = internet_data.copy() \n",
    "print(temp.info())\n",
    "for col_l in temp.columns:\n",
    "    print('-'* 25)\n",
    "    print(col_l, temp[col_l].sort_values().unique())\n",
    "    print(col_l,': кол-во NaN',temp[col_l].isna().sum(),\n",
    "          ', процент NaN', round(temp[col_l].isna().sum()/len(temp)*100, 2),'%') \n",
    "print('-'* 25) \n",
    "print('кол-во дубликатов в датафрейме', temp.duplicated().sum(),\n",
    "      ', процент дубликатов', round(temp.duplicated().sum()/len(temp)*100, 2),'%')"
   ]
  },
  {
   "cell_type": "markdown",
   "id": "7f328f13-2889-42d2-b818-54ab35ead68a",
   "metadata": {},
   "source": [
    "Аналогично предыдущей таблице начего подозрительного вроде бы и нет, не все клиенты компании пользуются ее услугами интернета, поэтому записей стало меньше."
   ]
  },
  {
   "cell_type": "code",
   "execution_count": 25,
   "id": "a20eeece-9378-49dd-8861-81f459c8bd75",
   "metadata": {
    "tags": []
   },
   "outputs": [
    {
     "data": {
      "image/png": "[encoded data removed]",
      "text/plain": [
       "<Figure size 648x432 with 8 Axes>"
      ]
     },
     "metadata": {
      "needs_background": "light"
     },
     "output_type": "display_data"
    }
   ],
   "source": [
    "columns = temp.columns.drop('customerID') \n",
    "n = columns.shape[0] \n",
    "rows = n // 4 + (n % 4 > 0) \n",
    "fig, axes = plt.subplots(nrows=rows, ncols=4, figsize=(3*3, 3*rows)) \n",
    "for i, column in enumerate(columns): \n",
    "    r = i // 4 \n",
    "    c = i % 4 \n",
    "    ax = axes[r][c] \n",
    "    temp.groupby(column)[column].count().sort_values(ascending=False).plot(kind='bar', ax=ax, grid=True, title=column, xlabel='') \n",
    "plt.tight_layout() \n",
    "plt.show() "
   ]
  },
  {
   "cell_type": "markdown",
   "id": "b5148023-1884-4e77-9bf1-32466b56477c",
   "metadata": {},
   "source": [
    "Таким образом:\n",
    "- порядка 54% клиентов используют оптоволоконное соединение \n",
    "- 36% пользуются блокировщиком небезопасных сайтов\n",
    "- 44% используют антивирус \n",
    "- 36% имеют выделенную линию поддержки\n",
    "- примерно 50% смотрят стриминговое TV и столько же имеют доступ к каталогу фильмов"
   ]
  },
  {
   "cell_type": "markdown",
   "id": "8a3a8815-dc5c-4788-a345-f68b82092710",
   "metadata": {},
   "source": [
    "### Услуги сотовой связи"
   ]
  },
  {
   "cell_type": "code",
   "execution_count": 26,
   "id": "6e3bab64-413e-4fa6-8f65-caa6620e7dfb",
   "metadata": {
    "tags": []
   },
   "outputs": [
    {
     "name": "stdout",
     "output_type": "stream",
     "text": [
      "<class 'pandas.core.frame.DataFrame'>\n",
      "RangeIndex: 6361 entries, 0 to 6360\n",
      "Data columns (total 2 columns):\n",
      " #   Column         Non-Null Count  Dtype \n",
      "---  ------         --------------  ----- \n",
      " 0   customerID     6361 non-null   object\n",
      " 1   MultipleLines  6361 non-null   object\n",
      "dtypes: object(2)\n",
      "memory usage: 99.5+ KB\n",
      "None\n",
      "-------------------------\n",
      "customerID ['0002-ORFBO' '0003-MKNFE' '0004-TLHLJ' ... '9992-RRAMN' '9992-UJOEL'\n",
      " '9993-LHIEB']\n",
      "customerID : кол-во NaN 0 , процент NaN 0.0 %\n",
      "-------------------------\n",
      "MultipleLines ['No' 'Yes']\n",
      "MultipleLines : кол-во NaN 0 , процент NaN 0.0 %\n",
      "-------------------------\n",
      "кол-во дубликатов в датафрейме 0 , процент дубликатов 0.0 %\n"
     ]
    }
   ],
   "source": [
    "temp = phone_data.copy() \n",
    "print(temp.info())\n",
    "for col_l in temp.columns:\n",
    "    print('-'* 25)\n",
    "    print(col_l, temp[col_l].sort_values().unique())\n",
    "    print(col_l,': кол-во NaN',temp[col_l].isna().sum(),\n",
    "          ', процент NaN', round(temp[col_l].isna().sum()/len(temp)*100, 2),'%') \n",
    "print('-'* 25) \n",
    "print('кол-во дубликатов в датафрейме', temp.duplicated().sum(),\n",
    "      ', процент дубликатов', round(temp.duplicated().sum()/len(temp)*100, 2),'%')"
   ]
  },
  {
   "cell_type": "code",
   "execution_count": 27,
   "id": "c9393aee-581c-452f-95bd-1fcb0e28323e",
   "metadata": {},
   "outputs": [],
   "source": [
    "phone_data = phone_data.astype({'customerID':'str'})"
   ]
  },
  {
   "cell_type": "markdown",
   "id": "55a0fd5c-533a-4ed4-b8ea-e04699002071",
   "metadata": {},
   "source": [
    "Пользователей телефонной связи несколько больше, чем интернета. Явных проблем в данных не видно."
   ]
  },
  {
   "cell_type": "code",
   "execution_count": 28,
   "id": "700caf08-2e86-4e83-aa93-642339540820",
   "metadata": {
    "tags": []
   },
   "outputs": [
    {
     "data": {
      "image/png": "[encoded data removed]",
      "text/plain": [
       "<Figure size 288x288 with 1 Axes>"
      ]
     },
     "metadata": {
      "needs_background": "light"
     },
     "output_type": "display_data"
    }
   ],
   "source": [
    "phone_data.groupby('MultipleLines')['MultipleLines'].count().sort_values(ascending=False).plot(kind='bar', \n",
    "                                                                                               grid=True, \n",
    "                                                                                               figsize=(4, 4), \n",
    "                                                                                               title='Multiple Lines',\n",
    "                                                                                               xlabel=''\n",
    "                                                                                               );"
   ]
  },
  {
   "cell_type": "markdown",
   "id": "32e8724f-1cca-4f73-a9c3-230a73bde16e",
   "metadata": {},
   "source": [
    "Примерно 45% клиентов используют несколько линий связи."
   ]
  },
  {
   "cell_type": "markdown",
   "id": "a73eef2d-2ee2-4531-a414-64fff6e1339b",
   "metadata": {},
   "source": [
    "### Объединение таблиц"
   ]
  },
  {
   "cell_type": "markdown",
   "id": "8f7a3698-87d9-46c0-b8be-b0542a9cd260",
   "metadata": {},
   "source": [
    "Объединять будем постепенно, чтобы не запутуться в природе пропусков."
   ]
  },
  {
   "cell_type": "code",
   "execution_count": 29,
   "id": "599c8d51-33c1-4f38-a8fc-c252ba1e3325",
   "metadata": {
    "tags": []
   },
   "outputs": [],
   "source": [
    "full_data = contract_data.copy()"
   ]
  },
  {
   "cell_type": "code",
   "execution_count": 30,
   "id": "fd8d3093-c709-4e3a-aceb-493c1bdf47b7",
   "metadata": {
    "tags": []
   },
   "outputs": [],
   "source": [
    "full_data = full_data.merge(personal_data, on='customerID')"
   ]
  },
  {
   "cell_type": "markdown",
   "id": "e11a795b-b7f0-47fd-9844-e1b628207f86",
   "metadata": {},
   "source": [
    "На этом этапе пропусков быть не должно, в personal_data присутствуют данные о всех клиентах."
   ]
  },
  {
   "cell_type": "code",
   "execution_count": 31,
   "id": "1c07c7d4-868a-4ba1-80e3-1e62fcd5553f",
   "metadata": {
    "tags": []
   },
   "outputs": [
    {
     "name": "stdout",
     "output_type": "stream",
     "text": [
      "<class 'pandas.core.frame.DataFrame'>\n",
      "Int64Index: 7043 entries, 0 to 7042\n",
      "Data columns (total 13 columns):\n",
      " #   Column            Non-Null Count  Dtype         \n",
      "---  ------            --------------  -----         \n",
      " 0   customerID        7043 non-null   object        \n",
      " 1   BeginDate         7043 non-null   datetime64[ns]\n",
      " 2   EndDate           7043 non-null   datetime64[ns]\n",
      " 3   Type              7043 non-null   object        \n",
      " 4   PaperlessBilling  7043 non-null   object        \n",
      " 5   PaymentMethod     7043 non-null   object        \n",
      " 6   MonthlyCharges    7043 non-null   float64       \n",
      " 7   TotalCharges      7043 non-null   float64       \n",
      " 8   label             7043 non-null   int64         \n",
      " 9   gender            7043 non-null   object        \n",
      " 10  SeniorCitizen     7043 non-null   int64         \n",
      " 11  Partner           7043 non-null   object        \n",
      " 12  Dependents        7043 non-null   object        \n",
      "dtypes: datetime64[ns](2), float64(2), int64(2), object(7)\n",
      "memory usage: 770.3+ KB\n"
     ]
    }
   ],
   "source": [
    "full_data.info()"
   ]
  },
  {
   "cell_type": "markdown",
   "id": "c921471b-b462-4287-8615-8977c9af23a4",
   "metadata": {
    "tags": []
   },
   "source": [
    "Отлично, идем дальше"
   ]
  },
  {
   "cell_type": "code",
   "execution_count": 32,
   "id": "e0b6a037-ea85-4f8c-bde1-da81d87cb2ae",
   "metadata": {
    "tags": []
   },
   "outputs": [],
   "source": [
    "full_data = full_data.merge(internet_data, on='customerID', how='left')"
   ]
  },
  {
   "cell_type": "code",
   "execution_count": 33,
   "id": "5f427671-eb0a-4436-a0dc-dd538e897ca8",
   "metadata": {
    "tags": []
   },
   "outputs": [
    {
     "name": "stdout",
     "output_type": "stream",
     "text": [
      "<class 'pandas.core.frame.DataFrame'>\n",
      "Int64Index: 7043 entries, 0 to 7042\n",
      "Data columns (total 20 columns):\n",
      " #   Column            Non-Null Count  Dtype         \n",
      "---  ------            --------------  -----         \n",
      " 0   customerID        7043 non-null   object        \n",
      " 1   BeginDate         7043 non-null   datetime64[ns]\n",
      " 2   EndDate           7043 non-null   datetime64[ns]\n",
      " 3   Type              7043 non-null   object        \n",
      " 4   PaperlessBilling  7043 non-null   object        \n",
      " 5   PaymentMethod     7043 non-null   object        \n",
      " 6   MonthlyCharges    7043 non-null   float64       \n",
      " 7   TotalCharges      7043 non-null   float64       \n",
      " 8   label             7043 non-null   int64         \n",
      " 9   gender            7043 non-null   object        \n",
      " 10  SeniorCitizen     7043 non-null   int64         \n",
      " 11  Partner           7043 non-null   object        \n",
      " 12  Dependents        7043 non-null   object        \n",
      " 13  InternetService   5517 non-null   object        \n",
      " 14  OnlineSecurity    5517 non-null   object        \n",
      " 15  OnlineBackup      5517 non-null   object        \n",
      " 16  DeviceProtection  5517 non-null   object        \n",
      " 17  TechSupport       5517 non-null   object        \n",
      " 18  StreamingTV       5517 non-null   object        \n",
      " 19  StreamingMovies   5517 non-null   object        \n",
      "dtypes: datetime64[ns](2), float64(2), int64(2), object(14)\n",
      "memory usage: 1.1+ MB\n"
     ]
    }
   ],
   "source": [
    "full_data.info()"
   ]
  },
  {
   "cell_type": "markdown",
   "id": "c598ff32-90bc-44c9-886f-4425f61f20d5",
   "metadata": {},
   "source": [
    "Данные пропуски появились поскольку не все клиенты компании пользуются ее услугами интернета, соответсвенно, заполним пропуски фразой \"Dont use internet service\""
   ]
  },
  {
   "cell_type": "code",
   "execution_count": 34,
   "id": "b6456b9e-bd76-4b5e-85a3-287f35a617e4",
   "metadata": {
    "tags": []
   },
   "outputs": [],
   "source": [
    "full_data = full_data.fillna('Dont use internet service')"
   ]
  },
  {
   "cell_type": "code",
   "execution_count": 35,
   "id": "0f36852c-542f-4f2b-9630-fbcc809205de",
   "metadata": {
    "tags": []
   },
   "outputs": [
    {
     "name": "stdout",
     "output_type": "stream",
     "text": [
      "<class 'pandas.core.frame.DataFrame'>\n",
      "Int64Index: 7043 entries, 0 to 7042\n",
      "Data columns (total 20 columns):\n",
      " #   Column            Non-Null Count  Dtype         \n",
      "---  ------            --------------  -----         \n",
      " 0   customerID        7043 non-null   object        \n",
      " 1   BeginDate         7043 non-null   datetime64[ns]\n",
      " 2   EndDate           7043 non-null   datetime64[ns]\n",
      " 3   Type              7043 non-null   object        \n",
      " 4   PaperlessBilling  7043 non-null   object        \n",
      " 5   PaymentMethod     7043 non-null   object        \n",
      " 6   MonthlyCharges    7043 non-null   float64       \n",
      " 7   TotalCharges      7043 non-null   float64       \n",
      " 8   label             7043 non-null   int64         \n",
      " 9   gender            7043 non-null   object        \n",
      " 10  SeniorCitizen     7043 non-null   int64         \n",
      " 11  Partner           7043 non-null   object        \n",
      " 12  Dependents        7043 non-null   object        \n",
      " 13  InternetService   7043 non-null   object        \n",
      " 14  OnlineSecurity    7043 non-null   object        \n",
      " 15  OnlineBackup      7043 non-null   object        \n",
      " 16  DeviceProtection  7043 non-null   object        \n",
      " 17  TechSupport       7043 non-null   object        \n",
      " 18  StreamingTV       7043 non-null   object        \n",
      " 19  StreamingMovies   7043 non-null   object        \n",
      "dtypes: datetime64[ns](2), float64(2), int64(2), object(14)\n",
      "memory usage: 1.1+ MB\n"
     ]
    }
   ],
   "source": [
    "full_data.info()"
   ]
  },
  {
   "cell_type": "markdown",
   "id": "b5179148-dd32-4899-a8bc-56e96bc83416",
   "metadata": {
    "tags": []
   },
   "source": [
    "Отлично"
   ]
  },
  {
   "cell_type": "code",
   "execution_count": 36,
   "id": "3adea4ee-46bd-421f-a23d-c8d5e7034615",
   "metadata": {
    "tags": []
   },
   "outputs": [],
   "source": [
    "full_data = full_data.merge(phone_data, on='customerID', how='left')"
   ]
  },
  {
   "cell_type": "code",
   "execution_count": 37,
   "id": "fb5b69cb-675d-4ef0-b88b-1d7fefcbbac9",
   "metadata": {
    "tags": []
   },
   "outputs": [
    {
     "name": "stdout",
     "output_type": "stream",
     "text": [
      "<class 'pandas.core.frame.DataFrame'>\n",
      "Int64Index: 7043 entries, 0 to 7042\n",
      "Data columns (total 21 columns):\n",
      " #   Column            Non-Null Count  Dtype         \n",
      "---  ------            --------------  -----         \n",
      " 0   customerID        7043 non-null   object        \n",
      " 1   BeginDate         7043 non-null   datetime64[ns]\n",
      " 2   EndDate           7043 non-null   datetime64[ns]\n",
      " 3   Type              7043 non-null   object        \n",
      " 4   PaperlessBilling  7043 non-null   object        \n",
      " 5   PaymentMethod     7043 non-null   object        \n",
      " 6   MonthlyCharges    7043 non-null   float64       \n",
      " 7   TotalCharges      7043 non-null   float64       \n",
      " 8   label             7043 non-null   int64         \n",
      " 9   gender            7043 non-null   object        \n",
      " 10  SeniorCitizen     7043 non-null   int64         \n",
      " 11  Partner           7043 non-null   object        \n",
      " 12  Dependents        7043 non-null   object        \n",
      " 13  InternetService   7043 non-null   object        \n",
      " 14  OnlineSecurity    7043 non-null   object        \n",
      " 15  OnlineBackup      7043 non-null   object        \n",
      " 16  DeviceProtection  7043 non-null   object        \n",
      " 17  TechSupport       7043 non-null   object        \n",
      " 18  StreamingTV       7043 non-null   object        \n",
      " 19  StreamingMovies   7043 non-null   object        \n",
      " 20  MultipleLines     6361 non-null   object        \n",
      "dtypes: datetime64[ns](2), float64(2), int64(2), object(15)\n",
      "memory usage: 1.2+ MB\n"
     ]
    }
   ],
   "source": [
    "full_data.info()"
   ]
  },
  {
   "cell_type": "markdown",
   "id": "4fc27b0a-1003-49f5-b7dc-6e52b0e7e0bb",
   "metadata": {
    "tags": []
   },
   "source": [
    "Ситуация аналогичная, только в этот раз не все пользуюся сотовой связью от компании."
   ]
  },
  {
   "cell_type": "code",
   "execution_count": 38,
   "id": "29cf4b93-59ac-4b0f-b376-c4593304be1d",
   "metadata": {
    "tags": []
   },
   "outputs": [],
   "source": [
    "full_data = full_data.fillna('Dont use phone service')"
   ]
  },
  {
   "cell_type": "code",
   "execution_count": 39,
   "id": "c55a349a-bf97-4d4d-ae26-cece58dc9e97",
   "metadata": {
    "tags": []
   },
   "outputs": [
    {
     "name": "stdout",
     "output_type": "stream",
     "text": [
      "<class 'pandas.core.frame.DataFrame'>\n",
      "Int64Index: 7043 entries, 0 to 7042\n",
      "Data columns (total 21 columns):\n",
      " #   Column            Non-Null Count  Dtype         \n",
      "---  ------            --------------  -----         \n",
      " 0   customerID        7043 non-null   object        \n",
      " 1   BeginDate         7043 non-null   datetime64[ns]\n",
      " 2   EndDate           7043 non-null   datetime64[ns]\n",
      " 3   Type              7043 non-null   object        \n",
      " 4   PaperlessBilling  7043 non-null   object        \n",
      " 5   PaymentMethod     7043 non-null   object        \n",
      " 6   MonthlyCharges    7043 non-null   float64       \n",
      " 7   TotalCharges      7043 non-null   float64       \n",
      " 8   label             7043 non-null   int64         \n",
      " 9   gender            7043 non-null   object        \n",
      " 10  SeniorCitizen     7043 non-null   int64         \n",
      " 11  Partner           7043 non-null   object        \n",
      " 12  Dependents        7043 non-null   object        \n",
      " 13  InternetService   7043 non-null   object        \n",
      " 14  OnlineSecurity    7043 non-null   object        \n",
      " 15  OnlineBackup      7043 non-null   object        \n",
      " 16  DeviceProtection  7043 non-null   object        \n",
      " 17  TechSupport       7043 non-null   object        \n",
      " 18  StreamingTV       7043 non-null   object        \n",
      " 19  StreamingMovies   7043 non-null   object        \n",
      " 20  MultipleLines     7043 non-null   object        \n",
      "dtypes: datetime64[ns](2), float64(2), int64(2), object(15)\n",
      "memory usage: 1.2+ MB\n"
     ]
    }
   ],
   "source": [
    "full_data.info()"
   ]
  },
  {
   "cell_type": "code",
   "execution_count": 40,
   "id": "2376e455-96d5-46bf-ae70-2d30f9a3a071",
   "metadata": {
    "tags": []
   },
   "outputs": [
    {
     "data": {
      "text/html": [
       "<div>\n",
       "<style scoped>\n",
       "    .dataframe tbody tr th:only-of-type {\n",
       "        vertical-align: middle;\n",
       "    }\n",
       "\n",
       "    .dataframe tbody tr th {\n",
       "        vertical-align: top;\n",
       "    }\n",
       "\n",
       "    .dataframe thead th {\n",
       "        text-align: right;\n",
       "    }\n",
       "</style>\n",
       "<table border=\"1\" class=\"dataframe\">\n",
       "  <thead>\n",
       "    <tr style=\"text-align: right;\">\n",
       "      <th></th>\n",
       "      <th>customerID</th>\n",
       "      <th>BeginDate</th>\n",
       "      <th>EndDate</th>\n",
       "      <th>Type</th>\n",
       "      <th>PaperlessBilling</th>\n",
       "      <th>PaymentMethod</th>\n",
       "      <th>MonthlyCharges</th>\n",
       "      <th>TotalCharges</th>\n",
       "      <th>label</th>\n",
       "      <th>gender</th>\n",
       "      <th>...</th>\n",
       "      <th>Partner</th>\n",
       "      <th>Dependents</th>\n",
       "      <th>InternetService</th>\n",
       "      <th>OnlineSecurity</th>\n",
       "      <th>OnlineBackup</th>\n",
       "      <th>DeviceProtection</th>\n",
       "      <th>TechSupport</th>\n",
       "      <th>StreamingTV</th>\n",
       "      <th>StreamingMovies</th>\n",
       "      <th>MultipleLines</th>\n",
       "    </tr>\n",
       "  </thead>\n",
       "  <tbody>\n",
       "    <tr>\n",
       "      <th>0</th>\n",
       "      <td>7590-VHVEG</td>\n",
       "      <td>2020-01-01</td>\n",
       "      <td>2020-02-01</td>\n",
       "      <td>Month-to-month</td>\n",
       "      <td>Yes</td>\n",
       "      <td>Electronic check</td>\n",
       "      <td>29.85</td>\n",
       "      <td>31.04</td>\n",
       "      <td>0</td>\n",
       "      <td>Female</td>\n",
       "      <td>...</td>\n",
       "      <td>Yes</td>\n",
       "      <td>No</td>\n",
       "      <td>DSL</td>\n",
       "      <td>No</td>\n",
       "      <td>Yes</td>\n",
       "      <td>No</td>\n",
       "      <td>No</td>\n",
       "      <td>No</td>\n",
       "      <td>No</td>\n",
       "      <td>Dont use phone service</td>\n",
       "    </tr>\n",
       "    <tr>\n",
       "      <th>1</th>\n",
       "      <td>5575-GNVDE</td>\n",
       "      <td>2017-04-01</td>\n",
       "      <td>2020-02-01</td>\n",
       "      <td>One year</td>\n",
       "      <td>No</td>\n",
       "      <td>Mailed check</td>\n",
       "      <td>56.95</td>\n",
       "      <td>2071.84</td>\n",
       "      <td>0</td>\n",
       "      <td>Male</td>\n",
       "      <td>...</td>\n",
       "      <td>No</td>\n",
       "      <td>No</td>\n",
       "      <td>DSL</td>\n",
       "      <td>Yes</td>\n",
       "      <td>No</td>\n",
       "      <td>Yes</td>\n",
       "      <td>No</td>\n",
       "      <td>No</td>\n",
       "      <td>No</td>\n",
       "      <td>No</td>\n",
       "    </tr>\n",
       "    <tr>\n",
       "      <th>2</th>\n",
       "      <td>3668-QPYBK</td>\n",
       "      <td>2019-10-01</td>\n",
       "      <td>2020-02-01</td>\n",
       "      <td>Month-to-month</td>\n",
       "      <td>Yes</td>\n",
       "      <td>Mailed check</td>\n",
       "      <td>53.85</td>\n",
       "      <td>226.17</td>\n",
       "      <td>0</td>\n",
       "      <td>Male</td>\n",
       "      <td>...</td>\n",
       "      <td>No</td>\n",
       "      <td>No</td>\n",
       "      <td>DSL</td>\n",
       "      <td>Yes</td>\n",
       "      <td>Yes</td>\n",
       "      <td>No</td>\n",
       "      <td>No</td>\n",
       "      <td>No</td>\n",
       "      <td>No</td>\n",
       "      <td>No</td>\n",
       "    </tr>\n",
       "    <tr>\n",
       "      <th>3</th>\n",
       "      <td>7795-CFOCW</td>\n",
       "      <td>2016-05-01</td>\n",
       "      <td>2020-02-01</td>\n",
       "      <td>One year</td>\n",
       "      <td>No</td>\n",
       "      <td>Bank transfer (automatic)</td>\n",
       "      <td>42.30</td>\n",
       "      <td>1960.60</td>\n",
       "      <td>0</td>\n",
       "      <td>Male</td>\n",
       "      <td>...</td>\n",
       "      <td>No</td>\n",
       "      <td>No</td>\n",
       "      <td>DSL</td>\n",
       "      <td>Yes</td>\n",
       "      <td>No</td>\n",
       "      <td>Yes</td>\n",
       "      <td>Yes</td>\n",
       "      <td>No</td>\n",
       "      <td>No</td>\n",
       "      <td>Dont use phone service</td>\n",
       "    </tr>\n",
       "    <tr>\n",
       "      <th>4</th>\n",
       "      <td>9237-HQITU</td>\n",
       "      <td>2019-09-01</td>\n",
       "      <td>2020-02-01</td>\n",
       "      <td>Month-to-month</td>\n",
       "      <td>Yes</td>\n",
       "      <td>Electronic check</td>\n",
       "      <td>70.70</td>\n",
       "      <td>353.50</td>\n",
       "      <td>0</td>\n",
       "      <td>Female</td>\n",
       "      <td>...</td>\n",
       "      <td>No</td>\n",
       "      <td>No</td>\n",
       "      <td>Fiber optic</td>\n",
       "      <td>No</td>\n",
       "      <td>No</td>\n",
       "      <td>No</td>\n",
       "      <td>No</td>\n",
       "      <td>No</td>\n",
       "      <td>No</td>\n",
       "      <td>No</td>\n",
       "    </tr>\n",
       "  </tbody>\n",
       "</table>\n",
       "<p>5 rows × 21 columns</p>\n",
       "</div>"
      ],
      "text/plain": [
       "   customerID  BeginDate    EndDate            Type PaperlessBilling  \\\n",
       "0  7590-VHVEG 2020-01-01 2020-02-01  Month-to-month              Yes   \n",
       "1  5575-GNVDE 2017-04-01 2020-02-01        One year               No   \n",
       "2  3668-QPYBK 2019-10-01 2020-02-01  Month-to-month              Yes   \n",
       "3  7795-CFOCW 2016-05-01 2020-02-01        One year               No   \n",
       "4  9237-HQITU 2019-09-01 2020-02-01  Month-to-month              Yes   \n",
       "\n",
       "               PaymentMethod  MonthlyCharges  TotalCharges  label  gender  \\\n",
       "0           Electronic check           29.85         31.04      0  Female   \n",
       "1               Mailed check           56.95       2071.84      0    Male   \n",
       "2               Mailed check           53.85        226.17      0    Male   \n",
       "3  Bank transfer (automatic)           42.30       1960.60      0    Male   \n",
       "4           Electronic check           70.70        353.50      0  Female   \n",
       "\n",
       "   ...  Partner Dependents InternetService OnlineSecurity OnlineBackup  \\\n",
       "0  ...      Yes         No             DSL             No          Yes   \n",
       "1  ...       No         No             DSL            Yes           No   \n",
       "2  ...       No         No             DSL            Yes          Yes   \n",
       "3  ...       No         No             DSL            Yes           No   \n",
       "4  ...       No         No     Fiber optic             No           No   \n",
       "\n",
       "  DeviceProtection TechSupport StreamingTV StreamingMovies  \\\n",
       "0               No          No          No              No   \n",
       "1              Yes          No          No              No   \n",
       "2               No          No          No              No   \n",
       "3              Yes         Yes          No              No   \n",
       "4               No          No          No              No   \n",
       "\n",
       "            MultipleLines  \n",
       "0  Dont use phone service  \n",
       "1                      No  \n",
       "2                      No  \n",
       "3  Dont use phone service  \n",
       "4                      No  \n",
       "\n",
       "[5 rows x 21 columns]"
      ]
     },
     "execution_count": 40,
     "metadata": {},
     "output_type": "execute_result"
    }
   ],
   "source": [
    "full_data.head()"
   ]
  },
  {
   "cell_type": "markdown",
   "id": "bb5c3e92-013c-4ea1-83f5-0a1cc9986d6f",
   "metadata": {
    "tags": []
   },
   "source": [
    "Все получилось, теперь еще раз посмотрим на распределения категориальных признаков."
   ]
  },
  {
   "cell_type": "code",
   "execution_count": 41,
   "id": "e2980b1a",
   "metadata": {},
   "outputs": [
    {
     "data": {
      "image/png": "[encoded data removed]",
      "text/plain": [
       "<Figure size 1080x1440 with 16 Axes>"
      ]
     },
     "metadata": {
      "needs_background": "light"
     },
     "output_type": "display_data"
    }
   ],
   "source": [
    "temp = full_data.copy()\n",
    "columns = temp.columns.drop(['customerID', 'MonthlyCharges', 'TotalCharges', 'BeginDate', 'EndDate']) \n",
    "n = columns.shape[0] \n",
    "rows = n // 4 + (n % 4 > 0) \n",
    "fig, axes = plt.subplots(nrows=rows, ncols=4, figsize=(3*5, 5*rows)) \n",
    "for i, column in enumerate(columns): \n",
    "    r = i // 4 \n",
    "    c = i % 4 \n",
    "    ax = axes[r][c] \n",
    "    temp.groupby(column)[column].count().sort_values(ascending=False).plot(kind='bar', ax=ax, grid=True, title=column, xlabel='') \n",
    "plt.tight_layout() \n",
    "plt.show()"
   ]
  },
  {
   "cell_type": "markdown",
   "id": "ed87831a",
   "metadata": {},
   "source": [
    "После объединения распределения несколько изменились, примерно 21% клиентов компании не пользуются ее услугами интернета, что отражается на всех признаках, связанных с ним. Кроме того, примерно 9% клиентов не пользуются услугами телефонной связи, что можно увидеть на графике MultipleLines."
   ]
  },
  {
   "cell_type": "markdown",
   "id": "702833a5-378c-46c3-81a0-c27cc3cf4f68",
   "metadata": {},
   "source": [
    "### Выводы по исследовательскому анализу"
   ]
  },
  {
   "cell_type": "markdown",
   "id": "d924833f-92b9-4486-83a5-5c8a64ce6726",
   "metadata": {},
   "source": [
    "- Имеем датасет на 7043 наблюдения.\n",
    "- Все таблицы просмотрены, исправлены некоторые аномалии.\n",
    "- Не все клиенты используют одновременно услуги интернета и сотовой связи компании. \n",
    "- Данные объединены в одну таблицу, учтен предыдущий пункт при заполнении пропусков.\n",
    "- Выделен целевой признак, целевой класс в датасете составляет 15% наблюдений, что в рамках нормы."
   ]
  },
  {
   "cell_type": "markdown",
   "id": "b346a978-47c3-4383-be5a-eaa314821616",
   "metadata": {},
   "source": [
    "## Моделирование"
   ]
  },
  {
   "cell_type": "markdown",
   "id": "308b17c2-b3bf-47b3-9123-80d465dd20a8",
   "metadata": {},
   "source": [
    "### Работа с признаками"
   ]
  },
  {
   "cell_type": "markdown",
   "id": "47057f82-42c8-4357-b0f0-3175f8ec025f",
   "metadata": {},
   "source": [
    "Первым напрашивается длительность обслуживания"
   ]
  },
  {
   "cell_type": "code",
   "execution_count": 42,
   "id": "9e7c733f-172b-4b6e-97d1-e8d226cdeccf",
   "metadata": {},
   "outputs": [],
   "source": [
    "full_data['Service_duration'] =  full_data['EndDate'] - full_data['BeginDate'] \n",
    "full_data['Service_duration'] = full_data['Service_duration'].dt.days"
   ]
  },
  {
   "cell_type": "code",
   "execution_count": 43,
   "id": "386cc336-0cc0-42ae-8cac-c7d059f8f548",
   "metadata": {},
   "outputs": [
    {
     "data": {
      "text/plain": [
       "0      31\n",
       "1    1036\n",
       "2     123\n",
       "3    1371\n",
       "4     153\n",
       "Name: Service_duration, dtype: int64"
      ]
     },
     "execution_count": 43,
     "metadata": {},
     "output_type": "execute_result"
    }
   ],
   "source": [
    "full_data['Service_duration'].head()"
   ]
  },
  {
   "cell_type": "markdown",
   "id": "5f70645e-12fd-40f1-8baf-ffb2f1b275ce",
   "metadata": {},
   "source": [
    "Хорошо. Далее удалим столбцы customerID, BeginDate, EndDate. Первый нам в принципе ничего интересного не дает, второй и третий учтены в столбце с длительностью"
   ]
  },
  {
   "cell_type": "code",
   "execution_count": 44,
   "id": "d0bfd9d1-adb9-4053-aee3-9a07a46690ce",
   "metadata": {},
   "outputs": [],
   "source": [
    "full_data = full_data.drop(['customerID', 'BeginDate', 'EndDate'], axis=1)"
   ]
  },
  {
   "cell_type": "markdown",
   "id": "7d1076c8-2d21-4f65-a7cc-8439f31c71a0",
   "metadata": {},
   "source": [
    "Перейдем к анализу взаимосвязи признаков, учтем, что не все они являются количественными, то есть обычные коэффициент кореляции Пирсона будет работать некорректно, воспользуемся библиотекой phik."
   ]
  },
  {
   "cell_type": "code",
   "execution_count": 45,
   "id": "2f5b9563-3685-41b6-b577-7d428cc56af3",
   "metadata": {},
   "outputs": [
    {
     "data": {
      "text/plain": [
       "['Service_duration', 'MonthlyCharges', 'TotalCharges']"
      ]
     },
     "execution_count": 45,
     "metadata": {},
     "output_type": "execute_result"
    }
   ],
   "source": [
    "data_types = {'Type': 'categorical',\n",
    "              'PaperlessBilling':'categorical',\n",
    "              'Partner':'categorical', \n",
    "              'Dependents':'categorical', \n",
    "              'InternetService':'categorical', \n",
    "              'OnlineSecurity':'categorical', \n",
    "              'OnlineBackup':'categorical', \n",
    "              'DeviceProtection':'categorical', \n",
    "              'TechSupport':'categorical', \n",
    "              'StreamingTV':'categorical', \n",
    "              'StreamingMovies':'categorical', \n",
    "              'DeviceProtection':'categorical', \n",
    "              'MultipleLines':'categorical', \n",
    "              'Service_duration':'interval',\n",
    "              'MonthlyCharges':'interval',\n",
    "              'TotalCharges':'interval',\n",
    "              } \n",
    "interval_cols = [col for col, v in data_types.items() if v=='interval' and col in full_data.columns] \n",
    "interval_cols "
   ]
  },
  {
   "cell_type": "code",
   "execution_count": 46,
   "id": "75bbac1a-24df-4fcd-bb99-064e9081a74f",
   "metadata": {},
   "outputs": [
    {
     "data": {
      "text/html": [
       "<div>\n",
       "<style scoped>\n",
       "    .dataframe tbody tr th:only-of-type {\n",
       "        vertical-align: middle;\n",
       "    }\n",
       "\n",
       "    .dataframe tbody tr th {\n",
       "        vertical-align: top;\n",
       "    }\n",
       "\n",
       "    .dataframe thead th {\n",
       "        text-align: right;\n",
       "    }\n",
       "</style>\n",
       "<table border=\"1\" class=\"dataframe\">\n",
       "  <thead>\n",
       "    <tr style=\"text-align: right;\">\n",
       "      <th></th>\n",
       "      <th>Type</th>\n",
       "      <th>PaperlessBilling</th>\n",
       "      <th>PaymentMethod</th>\n",
       "      <th>MonthlyCharges</th>\n",
       "      <th>TotalCharges</th>\n",
       "      <th>label</th>\n",
       "      <th>gender</th>\n",
       "      <th>SeniorCitizen</th>\n",
       "      <th>Partner</th>\n",
       "      <th>Dependents</th>\n",
       "      <th>InternetService</th>\n",
       "      <th>OnlineSecurity</th>\n",
       "      <th>OnlineBackup</th>\n",
       "      <th>DeviceProtection</th>\n",
       "      <th>TechSupport</th>\n",
       "      <th>StreamingTV</th>\n",
       "      <th>StreamingMovies</th>\n",
       "      <th>MultipleLines</th>\n",
       "      <th>Service_duration</th>\n",
       "    </tr>\n",
       "  </thead>\n",
       "  <tbody>\n",
       "    <tr>\n",
       "      <th>Type</th>\n",
       "      <td>1.000000</td>\n",
       "      <td>0.106860</td>\n",
       "      <td>0.277462</td>\n",
       "      <td>0.388444</td>\n",
       "      <td>0.470860</td>\n",
       "      <td>0.094015</td>\n",
       "      <td>0.000000</td>\n",
       "      <td>0.086231</td>\n",
       "      <td>0.179736</td>\n",
       "      <td>0.147680</td>\n",
       "      <td>0.505187</td>\n",
       "      <td>0.636884</td>\n",
       "      <td>0.581660</td>\n",
       "      <td>0.631531</td>\n",
       "      <td>0.671629</td>\n",
       "      <td>0.549564</td>\n",
       "      <td>0.553556</td>\n",
       "      <td>0.244410</td>\n",
       "      <td>0.634155</td>\n",
       "    </tr>\n",
       "    <tr>\n",
       "      <th>PaperlessBilling</th>\n",
       "      <td>0.106860</td>\n",
       "      <td>1.000000</td>\n",
       "      <td>0.370495</td>\n",
       "      <td>0.467812</td>\n",
       "      <td>0.201703</td>\n",
       "      <td>0.083398</td>\n",
       "      <td>0.000000</td>\n",
       "      <td>0.242133</td>\n",
       "      <td>0.013218</td>\n",
       "      <td>0.172593</td>\n",
       "      <td>0.231438</td>\n",
       "      <td>0.208320</td>\n",
       "      <td>0.195321</td>\n",
       "      <td>0.195687</td>\n",
       "      <td>0.200621</td>\n",
       "      <td>0.204717</td>\n",
       "      <td>0.202241</td>\n",
       "      <td>0.099953</td>\n",
       "      <td>0.026799</td>\n",
       "    </tr>\n",
       "    <tr>\n",
       "      <th>PaymentMethod</th>\n",
       "      <td>0.277462</td>\n",
       "      <td>0.370495</td>\n",
       "      <td>1.000000</td>\n",
       "      <td>0.399526</td>\n",
       "      <td>0.335666</td>\n",
       "      <td>0.214832</td>\n",
       "      <td>0.000000</td>\n",
       "      <td>0.292725</td>\n",
       "      <td>0.243008</td>\n",
       "      <td>0.224903</td>\n",
       "      <td>0.323886</td>\n",
       "      <td>0.315799</td>\n",
       "      <td>0.293413</td>\n",
       "      <td>0.297923</td>\n",
       "      <td>0.317713</td>\n",
       "      <td>0.284531</td>\n",
       "      <td>0.285525</td>\n",
       "      <td>0.174849</td>\n",
       "      <td>0.350964</td>\n",
       "    </tr>\n",
       "    <tr>\n",
       "      <th>MonthlyCharges</th>\n",
       "      <td>0.388444</td>\n",
       "      <td>0.467812</td>\n",
       "      <td>0.399526</td>\n",
       "      <td>1.000000</td>\n",
       "      <td>0.710905</td>\n",
       "      <td>0.226280</td>\n",
       "      <td>0.008175</td>\n",
       "      <td>0.304985</td>\n",
       "      <td>0.203545</td>\n",
       "      <td>0.184366</td>\n",
       "      <td>0.919002</td>\n",
       "      <td>0.812632</td>\n",
       "      <td>0.818851</td>\n",
       "      <td>0.827272</td>\n",
       "      <td>0.816660</td>\n",
       "      <td>0.864677</td>\n",
       "      <td>0.863616</td>\n",
       "      <td>0.709983</td>\n",
       "      <td>0.387727</td>\n",
       "    </tr>\n",
       "    <tr>\n",
       "      <th>TotalCharges</th>\n",
       "      <td>0.470860</td>\n",
       "      <td>0.201703</td>\n",
       "      <td>0.335666</td>\n",
       "      <td>0.710905</td>\n",
       "      <td>1.000000</td>\n",
       "      <td>0.302890</td>\n",
       "      <td>0.000000</td>\n",
       "      <td>0.135650</td>\n",
       "      <td>0.381958</td>\n",
       "      <td>0.084247</td>\n",
       "      <td>0.490081</td>\n",
       "      <td>0.516538</td>\n",
       "      <td>0.550544</td>\n",
       "      <td>0.558393</td>\n",
       "      <td>0.527838</td>\n",
       "      <td>0.555322</td>\n",
       "      <td>0.554030</td>\n",
       "      <td>0.467787</td>\n",
       "      <td>0.848337</td>\n",
       "    </tr>\n",
       "    <tr>\n",
       "      <th>label</th>\n",
       "      <td>0.094015</td>\n",
       "      <td>0.083398</td>\n",
       "      <td>0.214832</td>\n",
       "      <td>0.226280</td>\n",
       "      <td>0.302890</td>\n",
       "      <td>1.000000</td>\n",
       "      <td>0.008581</td>\n",
       "      <td>0.086159</td>\n",
       "      <td>0.226688</td>\n",
       "      <td>0.046871</td>\n",
       "      <td>0.056621</td>\n",
       "      <td>0.058659</td>\n",
       "      <td>0.089704</td>\n",
       "      <td>0.085608</td>\n",
       "      <td>0.051537</td>\n",
       "      <td>0.078545</td>\n",
       "      <td>0.086577</td>\n",
       "      <td>0.105101</td>\n",
       "      <td>0.374569</td>\n",
       "    </tr>\n",
       "    <tr>\n",
       "      <th>gender</th>\n",
       "      <td>0.000000</td>\n",
       "      <td>0.000000</td>\n",
       "      <td>0.000000</td>\n",
       "      <td>0.008175</td>\n",
       "      <td>0.000000</td>\n",
       "      <td>0.008581</td>\n",
       "      <td>1.000000</td>\n",
       "      <td>0.000000</td>\n",
       "      <td>0.000000</td>\n",
       "      <td>0.000000</td>\n",
       "      <td>0.000000</td>\n",
       "      <td>0.001460</td>\n",
       "      <td>0.000000</td>\n",
       "      <td>0.000000</td>\n",
       "      <td>0.000000</td>\n",
       "      <td>0.000000</td>\n",
       "      <td>0.000000</td>\n",
       "      <td>0.000000</td>\n",
       "      <td>0.000000</td>\n",
       "    </tr>\n",
       "    <tr>\n",
       "      <th>SeniorCitizen</th>\n",
       "      <td>0.086231</td>\n",
       "      <td>0.242133</td>\n",
       "      <td>0.292725</td>\n",
       "      <td>0.304985</td>\n",
       "      <td>0.135650</td>\n",
       "      <td>0.086159</td>\n",
       "      <td>0.000000</td>\n",
       "      <td>1.000000</td>\n",
       "      <td>0.016992</td>\n",
       "      <td>0.324576</td>\n",
       "      <td>0.160702</td>\n",
       "      <td>0.127319</td>\n",
       "      <td>0.109995</td>\n",
       "      <td>0.110177</td>\n",
       "      <td>0.135283</td>\n",
       "      <td>0.111714</td>\n",
       "      <td>0.113778</td>\n",
       "      <td>0.087925</td>\n",
       "      <td>0.063315</td>\n",
       "    </tr>\n",
       "    <tr>\n",
       "      <th>Partner</th>\n",
       "      <td>0.179736</td>\n",
       "      <td>0.013218</td>\n",
       "      <td>0.243008</td>\n",
       "      <td>0.203545</td>\n",
       "      <td>0.381958</td>\n",
       "      <td>0.226688</td>\n",
       "      <td>0.000000</td>\n",
       "      <td>0.016992</td>\n",
       "      <td>1.000000</td>\n",
       "      <td>0.652122</td>\n",
       "      <td>0.000000</td>\n",
       "      <td>0.091202</td>\n",
       "      <td>0.092012</td>\n",
       "      <td>0.100092</td>\n",
       "      <td>0.076326</td>\n",
       "      <td>0.082251</td>\n",
       "      <td>0.077506</td>\n",
       "      <td>0.086249</td>\n",
       "      <td>0.453688</td>\n",
       "    </tr>\n",
       "    <tr>\n",
       "      <th>Dependents</th>\n",
       "      <td>0.147680</td>\n",
       "      <td>0.172593</td>\n",
       "      <td>0.224903</td>\n",
       "      <td>0.184366</td>\n",
       "      <td>0.084247</td>\n",
       "      <td>0.046871</td>\n",
       "      <td>0.000000</td>\n",
       "      <td>0.324576</td>\n",
       "      <td>0.652122</td>\n",
       "      <td>1.000000</td>\n",
       "      <td>0.108463</td>\n",
       "      <td>0.117219</td>\n",
       "      <td>0.097766</td>\n",
       "      <td>0.094597</td>\n",
       "      <td>0.109753</td>\n",
       "      <td>0.088193</td>\n",
       "      <td>0.084684</td>\n",
       "      <td>0.011198</td>\n",
       "      <td>0.198729</td>\n",
       "    </tr>\n",
       "    <tr>\n",
       "      <th>InternetService</th>\n",
       "      <td>0.505187</td>\n",
       "      <td>0.231438</td>\n",
       "      <td>0.323886</td>\n",
       "      <td>0.919002</td>\n",
       "      <td>0.490081</td>\n",
       "      <td>0.056621</td>\n",
       "      <td>0.000000</td>\n",
       "      <td>0.160702</td>\n",
       "      <td>0.000000</td>\n",
       "      <td>0.108463</td>\n",
       "      <td>1.000000</td>\n",
       "      <td>0.949498</td>\n",
       "      <td>0.942842</td>\n",
       "      <td>0.942811</td>\n",
       "      <td>0.948914</td>\n",
       "      <td>0.946713</td>\n",
       "      <td>0.946294</td>\n",
       "      <td>0.739808</td>\n",
       "      <td>0.060845</td>\n",
       "    </tr>\n",
       "    <tr>\n",
       "      <th>OnlineSecurity</th>\n",
       "      <td>0.636884</td>\n",
       "      <td>0.208320</td>\n",
       "      <td>0.315799</td>\n",
       "      <td>0.812632</td>\n",
       "      <td>0.516538</td>\n",
       "      <td>0.058659</td>\n",
       "      <td>0.001460</td>\n",
       "      <td>0.127319</td>\n",
       "      <td>0.091202</td>\n",
       "      <td>0.117219</td>\n",
       "      <td>0.949498</td>\n",
       "      <td>1.000000</td>\n",
       "      <td>0.947224</td>\n",
       "      <td>0.946787</td>\n",
       "      <td>0.952651</td>\n",
       "      <td>0.943082</td>\n",
       "      <td>0.943248</td>\n",
       "      <td>0.540261</td>\n",
       "      <td>0.346398</td>\n",
       "    </tr>\n",
       "    <tr>\n",
       "      <th>OnlineBackup</th>\n",
       "      <td>0.581660</td>\n",
       "      <td>0.195321</td>\n",
       "      <td>0.293413</td>\n",
       "      <td>0.818851</td>\n",
       "      <td>0.550544</td>\n",
       "      <td>0.089704</td>\n",
       "      <td>0.000000</td>\n",
       "      <td>0.109995</td>\n",
       "      <td>0.092012</td>\n",
       "      <td>0.097766</td>\n",
       "      <td>0.942842</td>\n",
       "      <td>0.947224</td>\n",
       "      <td>1.000000</td>\n",
       "      <td>0.947487</td>\n",
       "      <td>0.947756</td>\n",
       "      <td>0.945789</td>\n",
       "      <td>0.945395</td>\n",
       "      <td>0.562933</td>\n",
       "      <td>0.366170</td>\n",
       "    </tr>\n",
       "    <tr>\n",
       "      <th>DeviceProtection</th>\n",
       "      <td>0.631531</td>\n",
       "      <td>0.195687</td>\n",
       "      <td>0.297923</td>\n",
       "      <td>0.827272</td>\n",
       "      <td>0.558393</td>\n",
       "      <td>0.085608</td>\n",
       "      <td>0.000000</td>\n",
       "      <td>0.110177</td>\n",
       "      <td>0.100092</td>\n",
       "      <td>0.094597</td>\n",
       "      <td>0.942811</td>\n",
       "      <td>0.946787</td>\n",
       "      <td>0.947487</td>\n",
       "      <td>1.000000</td>\n",
       "      <td>0.950247</td>\n",
       "      <td>0.952863</td>\n",
       "      <td>0.953717</td>\n",
       "      <td>0.564610</td>\n",
       "      <td>0.374702</td>\n",
       "    </tr>\n",
       "    <tr>\n",
       "      <th>TechSupport</th>\n",
       "      <td>0.671629</td>\n",
       "      <td>0.200621</td>\n",
       "      <td>0.317713</td>\n",
       "      <td>0.816660</td>\n",
       "      <td>0.527838</td>\n",
       "      <td>0.051537</td>\n",
       "      <td>0.000000</td>\n",
       "      <td>0.135283</td>\n",
       "      <td>0.076326</td>\n",
       "      <td>0.109753</td>\n",
       "      <td>0.948914</td>\n",
       "      <td>0.952651</td>\n",
       "      <td>0.947756</td>\n",
       "      <td>0.950247</td>\n",
       "      <td>1.000000</td>\n",
       "      <td>0.946393</td>\n",
       "      <td>0.946417</td>\n",
       "      <td>0.541088</td>\n",
       "      <td>0.353438</td>\n",
       "    </tr>\n",
       "    <tr>\n",
       "      <th>StreamingTV</th>\n",
       "      <td>0.549564</td>\n",
       "      <td>0.204717</td>\n",
       "      <td>0.284531</td>\n",
       "      <td>0.864677</td>\n",
       "      <td>0.555322</td>\n",
       "      <td>0.078545</td>\n",
       "      <td>0.000000</td>\n",
       "      <td>0.111714</td>\n",
       "      <td>0.082251</td>\n",
       "      <td>0.088193</td>\n",
       "      <td>0.946713</td>\n",
       "      <td>0.943082</td>\n",
       "      <td>0.945789</td>\n",
       "      <td>0.952863</td>\n",
       "      <td>0.946393</td>\n",
       "      <td>1.000000</td>\n",
       "      <td>0.965306</td>\n",
       "      <td>0.586049</td>\n",
       "      <td>0.306675</td>\n",
       "    </tr>\n",
       "    <tr>\n",
       "      <th>StreamingMovies</th>\n",
       "      <td>0.553556</td>\n",
       "      <td>0.202241</td>\n",
       "      <td>0.285525</td>\n",
       "      <td>0.863616</td>\n",
       "      <td>0.554030</td>\n",
       "      <td>0.086577</td>\n",
       "      <td>0.000000</td>\n",
       "      <td>0.113778</td>\n",
       "      <td>0.077506</td>\n",
       "      <td>0.084684</td>\n",
       "      <td>0.946294</td>\n",
       "      <td>0.943248</td>\n",
       "      <td>0.945395</td>\n",
       "      <td>0.953717</td>\n",
       "      <td>0.946417</td>\n",
       "      <td>0.965306</td>\n",
       "      <td>1.000000</td>\n",
       "      <td>0.586815</td>\n",
       "      <td>0.307297</td>\n",
       "    </tr>\n",
       "    <tr>\n",
       "      <th>MultipleLines</th>\n",
       "      <td>0.244410</td>\n",
       "      <td>0.099953</td>\n",
       "      <td>0.174849</td>\n",
       "      <td>0.709983</td>\n",
       "      <td>0.467787</td>\n",
       "      <td>0.105101</td>\n",
       "      <td>0.000000</td>\n",
       "      <td>0.087925</td>\n",
       "      <td>0.086249</td>\n",
       "      <td>0.011198</td>\n",
       "      <td>0.739808</td>\n",
       "      <td>0.540261</td>\n",
       "      <td>0.562933</td>\n",
       "      <td>0.564610</td>\n",
       "      <td>0.541088</td>\n",
       "      <td>0.586049</td>\n",
       "      <td>0.586815</td>\n",
       "      <td>1.000000</td>\n",
       "      <td>0.347289</td>\n",
       "    </tr>\n",
       "    <tr>\n",
       "      <th>Service_duration</th>\n",
       "      <td>0.634155</td>\n",
       "      <td>0.026799</td>\n",
       "      <td>0.350964</td>\n",
       "      <td>0.387727</td>\n",
       "      <td>0.848337</td>\n",
       "      <td>0.374569</td>\n",
       "      <td>0.000000</td>\n",
       "      <td>0.063315</td>\n",
       "      <td>0.453688</td>\n",
       "      <td>0.198729</td>\n",
       "      <td>0.060845</td>\n",
       "      <td>0.346398</td>\n",
       "      <td>0.366170</td>\n",
       "      <td>0.374702</td>\n",
       "      <td>0.353438</td>\n",
       "      <td>0.306675</td>\n",
       "      <td>0.307297</td>\n",
       "      <td>0.347289</td>\n",
       "      <td>1.000000</td>\n",
       "    </tr>\n",
       "  </tbody>\n",
       "</table>\n",
       "</div>"
      ],
      "text/plain": [
       "                      Type  PaperlessBilling  PaymentMethod  MonthlyCharges  \\\n",
       "Type              1.000000          0.106860       0.277462        0.388444   \n",
       "PaperlessBilling  0.106860          1.000000       0.370495        0.467812   \n",
       "PaymentMethod     0.277462          0.370495       1.000000        0.399526   \n",
       "MonthlyCharges    0.388444          0.467812       0.399526        1.000000   \n",
       "TotalCharges      0.470860          0.201703       0.335666        0.710905   \n",
       "label             0.094015          0.083398       0.214832        0.226280   \n",
       "gender            0.000000          0.000000       0.000000        0.008175   \n",
       "SeniorCitizen     0.086231          0.242133       0.292725        0.304985   \n",
       "Partner           0.179736          0.013218       0.243008        0.203545   \n",
       "Dependents        0.147680          0.172593       0.224903        0.184366   \n",
       "InternetService   0.505187          0.231438       0.323886        0.919002   \n",
       "OnlineSecurity    0.636884          0.208320       0.315799        0.812632   \n",
       "OnlineBackup      0.581660          0.195321       0.293413        0.818851   \n",
       "DeviceProtection  0.631531          0.195687       0.297923        0.827272   \n",
       "TechSupport       0.671629          0.200621       0.317713        0.816660   \n",
       "StreamingTV       0.549564          0.204717       0.284531        0.864677   \n",
       "StreamingMovies   0.553556          0.202241       0.285525        0.863616   \n",
       "MultipleLines     0.244410          0.099953       0.174849        0.709983   \n",
       "Service_duration  0.634155          0.026799       0.350964        0.387727   \n",
       "\n",
       "                  TotalCharges     label    gender  SeniorCitizen   Partner  \\\n",
       "Type                  0.470860  0.094015  0.000000       0.086231  0.179736   \n",
       "PaperlessBilling      0.201703  0.083398  0.000000       0.242133  0.013218   \n",
       "PaymentMethod         0.335666  0.214832  0.000000       0.292725  0.243008   \n",
       "MonthlyCharges        0.710905  0.226280  0.008175       0.304985  0.203545   \n",
       "TotalCharges          1.000000  0.302890  0.000000       0.135650  0.381958   \n",
       "label                 0.302890  1.000000  0.008581       0.086159  0.226688   \n",
       "gender                0.000000  0.008581  1.000000       0.000000  0.000000   \n",
       "SeniorCitizen         0.135650  0.086159  0.000000       1.000000  0.016992   \n",
       "Partner               0.381958  0.226688  0.000000       0.016992  1.000000   \n",
       "Dependents            0.084247  0.046871  0.000000       0.324576  0.652122   \n",
       "InternetService       0.490081  0.056621  0.000000       0.160702  0.000000   \n",
       "OnlineSecurity        0.516538  0.058659  0.001460       0.127319  0.091202   \n",
       "OnlineBackup          0.550544  0.089704  0.000000       0.109995  0.092012   \n",
       "DeviceProtection      0.558393  0.085608  0.000000       0.110177  0.100092   \n",
       "TechSupport           0.527838  0.051537  0.000000       0.135283  0.076326   \n",
       "StreamingTV           0.555322  0.078545  0.000000       0.111714  0.082251   \n",
       "StreamingMovies       0.554030  0.086577  0.000000       0.113778  0.077506   \n",
       "MultipleLines         0.467787  0.105101  0.000000       0.087925  0.086249   \n",
       "Service_duration      0.848337  0.374569  0.000000       0.063315  0.453688   \n",
       "\n",
       "                  Dependents  InternetService  OnlineSecurity  OnlineBackup  \\\n",
       "Type                0.147680         0.505187        0.636884      0.581660   \n",
       "PaperlessBilling    0.172593         0.231438        0.208320      0.195321   \n",
       "PaymentMethod       0.224903         0.323886        0.315799      0.293413   \n",
       "MonthlyCharges      0.184366         0.919002        0.812632      0.818851   \n",
       "TotalCharges        0.084247         0.490081        0.516538      0.550544   \n",
       "label               0.046871         0.056621        0.058659      0.089704   \n",
       "gender              0.000000         0.000000        0.001460      0.000000   \n",
       "SeniorCitizen       0.324576         0.160702        0.127319      0.109995   \n",
       "Partner             0.652122         0.000000        0.091202      0.092012   \n",
       "Dependents          1.000000         0.108463        0.117219      0.097766   \n",
       "InternetService     0.108463         1.000000        0.949498      0.942842   \n",
       "OnlineSecurity      0.117219         0.949498        1.000000      0.947224   \n",
       "OnlineBackup        0.097766         0.942842        0.947224      1.000000   \n",
       "DeviceProtection    0.094597         0.942811        0.946787      0.947487   \n",
       "TechSupport         0.109753         0.948914        0.952651      0.947756   \n",
       "StreamingTV         0.088193         0.946713        0.943082      0.945789   \n",
       "StreamingMovies     0.084684         0.946294        0.943248      0.945395   \n",
       "MultipleLines       0.011198         0.739808        0.540261      0.562933   \n",
       "Service_duration    0.198729         0.060845        0.346398      0.366170   \n",
       "\n",
       "                  DeviceProtection  TechSupport  StreamingTV  StreamingMovies  \\\n",
       "Type                      0.631531     0.671629     0.549564         0.553556   \n",
       "PaperlessBilling          0.195687     0.200621     0.204717         0.202241   \n",
       "PaymentMethod             0.297923     0.317713     0.284531         0.285525   \n",
       "MonthlyCharges            0.827272     0.816660     0.864677         0.863616   \n",
       "TotalCharges              0.558393     0.527838     0.555322         0.554030   \n",
       "label                     0.085608     0.051537     0.078545         0.086577   \n",
       "gender                    0.000000     0.000000     0.000000         0.000000   \n",
       "SeniorCitizen             0.110177     0.135283     0.111714         0.113778   \n",
       "Partner                   0.100092     0.076326     0.082251         0.077506   \n",
       "Dependents                0.094597     0.109753     0.088193         0.084684   \n",
       "InternetService           0.942811     0.948914     0.946713         0.946294   \n",
       "OnlineSecurity            0.946787     0.952651     0.943082         0.943248   \n",
       "OnlineBackup              0.947487     0.947756     0.945789         0.945395   \n",
       "DeviceProtection          1.000000     0.950247     0.952863         0.953717   \n",
       "TechSupport               0.950247     1.000000     0.946393         0.946417   \n",
       "StreamingTV               0.952863     0.946393     1.000000         0.965306   \n",
       "StreamingMovies           0.953717     0.946417     0.965306         1.000000   \n",
       "MultipleLines             0.564610     0.541088     0.586049         0.586815   \n",
       "Service_duration          0.374702     0.353438     0.306675         0.307297   \n",
       "\n",
       "                  MultipleLines  Service_duration  \n",
       "Type                   0.244410          0.634155  \n",
       "PaperlessBilling       0.099953          0.026799  \n",
       "PaymentMethod          0.174849          0.350964  \n",
       "MonthlyCharges         0.709983          0.387727  \n",
       "TotalCharges           0.467787          0.848337  \n",
       "label                  0.105101          0.374569  \n",
       "gender                 0.000000          0.000000  \n",
       "SeniorCitizen          0.087925          0.063315  \n",
       "Partner                0.086249          0.453688  \n",
       "Dependents             0.011198          0.198729  \n",
       "InternetService        0.739808          0.060845  \n",
       "OnlineSecurity         0.540261          0.346398  \n",
       "OnlineBackup           0.562933          0.366170  \n",
       "DeviceProtection       0.564610          0.374702  \n",
       "TechSupport            0.541088          0.353438  \n",
       "StreamingTV            0.586049          0.306675  \n",
       "StreamingMovies        0.586815          0.307297  \n",
       "MultipleLines          1.000000          0.347289  \n",
       "Service_duration       0.347289          1.000000  "
      ]
     },
     "execution_count": 46,
     "metadata": {},
     "output_type": "execute_result"
    },
    {
     "data": {
      "image/png": "[encoded data removed]",
      "text/plain": [
       "<Figure size 432x288 with 2 Axes>"
      ]
     },
     "metadata": {
      "needs_background": "light"
     },
     "output_type": "display_data"
    }
   ],
   "source": [
    "phik_overview = full_data.phik_matrix(interval_cols=interval_cols) \n",
    "sns.heatmap(phik_overview) \n",
    "phik_overview"
   ]
  },
  {
   "cell_type": "markdown",
   "id": "4f0b4831-4942-409b-aadd-e0dd31651d81",
   "metadata": {},
   "source": [
    "Заметно, что признаков с сильной связью с целевым признаком у нас в принципе нет, при это есть целый квадрат мильтиколлинеарности. Отфильтруем признаки по от уровня связи в 0,1 и посмотрим подробнее, фильтровать будем \"по вертикали\"."
   ]
  },
  {
   "cell_type": "code",
   "execution_count": 47,
   "id": "de0824bb",
   "metadata": {},
   "outputs": [],
   "source": [
    "sns.set(rc={'figure.figsize':(10,10)})\n",
    "phik_overview = phik_overview.query('label > 0.1')"
   ]
  },
  {
   "cell_type": "markdown",
   "id": "e8555541",
   "metadata": {},
   "source": [
    "Технически, не очень корректная фильтрация, но тут ничего лишнего удалено не было."
   ]
  },
  {
   "cell_type": "code",
   "execution_count": 48,
   "id": "3a26f906-2ea2-4505-9e74-406a2b16609e",
   "metadata": {},
   "outputs": [
    {
     "data": {
      "image/png": "[encoded data removed]",
      "text/plain": [
       "<Figure size 720x720 with 2 Axes>"
      ]
     },
     "metadata": {},
     "output_type": "display_data"
    }
   ],
   "source": [
    "columns = phik_overview.index\n",
    "sns.heatmap(phik_overview[columns], annot=True);"
   ]
  },
  {
   "cell_type": "markdown",
   "id": "f22f3814-bfa1-4fbf-af7c-3d5855553c94",
   "metadata": {},
   "source": [
    "Уже неплохо, единственное, нужно убрать MultipleLines (коррелирует с MonthlyCharges) и убрать или Service_duration, или TotalChargers, уберу TotalChargers. В обоих случаях основываемся на силе связи с целевым признаком."
   ]
  },
  {
   "cell_type": "code",
   "execution_count": 49,
   "id": "9a9c5598-7745-49a0-a1c4-e5f08081106a",
   "metadata": {
    "tags": []
   },
   "outputs": [
    {
     "data": {
      "text/plain": [
       "Index(['PaymentMethod', 'MonthlyCharges', 'Partner', 'Service_duration'], dtype='object')"
      ]
     },
     "execution_count": 49,
     "metadata": {},
     "output_type": "execute_result"
    }
   ],
   "source": [
    "features_columns = phik_overview.query('label > 0.1 and label != 1') \\\n",
    "                                .drop(['MultipleLines', 'TotalCharges']) \\\n",
    "                                .index \n",
    "features_columns"
   ]
  },
  {
   "cell_type": "markdown",
   "id": "b25644e1-54a6-4636-9404-cf1c09d95354",
   "metadata": {},
   "source": [
    "### Деление на выборки"
   ]
  },
  {
   "cell_type": "code",
   "execution_count": 50,
   "id": "4627d05c-b195-4485-9894-9c7f5b9bb644",
   "metadata": {
    "tags": []
   },
   "outputs": [],
   "source": [
    "features_train, features_test, target_train, target_test = train_test_split(\n",
    "                                                                            full_data[features_columns], full_data['label'], \n",
    "                                                                            test_size=0.25, random_state=170723\n",
    "                                                                            ) "
   ]
  },
  {
   "cell_type": "markdown",
   "id": "e088b0b5-8754-4764-ab78-9cccd9d98ea0",
   "metadata": {},
   "source": [
    "### Кодирование признаков"
   ]
  },
  {
   "cell_type": "markdown",
   "id": "2c1d3aab-d0f8-4ac8-9344-8b4eee87904b",
   "metadata": {},
   "source": [
    "Буду использовать две модели, CatBoost и случайный лес. Для CatBoost создадам параметр cat_features и pool, последний сильно ускоряет обучение. Почти наверняка бустинг будет лучше, но интересно посмотреть насколько."
   ]
  },
  {
   "cell_type": "code",
   "execution_count": 51,
   "id": "942bc5fc-e1d3-44db-a701-6a79c02066ef",
   "metadata": {
    "tags": []
   },
   "outputs": [],
   "source": [
    "cat_features = ['PaymentMethod', 'Partner'] "
   ]
  },
  {
   "cell_type": "code",
   "execution_count": 52,
   "id": "ee5cbc35-347c-4ff6-af0d-4e146cca5734",
   "metadata": {
    "tags": []
   },
   "outputs": [],
   "source": [
    "train_pool=Pool(features_train, label=target_train, cat_features=cat_features)"
   ]
  },
  {
   "cell_type": "markdown",
   "id": "b0441435-9921-43b5-902c-98345221de65",
   "metadata": {},
   "source": [
    "Категориальные признаки для леса создадим про помощи OE, для него напишем пайплайн. Вообще, с OHE врядли что-то утечет на кроссвалидации, но все-таки."
   ]
  },
  {
   "cell_type": "code",
   "execution_count": 53,
   "id": "c70c8293-8450-4d06-b59a-b23f4abcdcc3",
   "metadata": {
    "tags": []
   },
   "outputs": [],
   "source": [
    "random_forest_model = Pipeline([\n",
    "                                (\"transformer\", ColumnTransformer([(\"encoder\", OrdinalEncoder(), cat_features)])),\n",
    "                                (\"classifier\", RandomForestClassifier(random_state=170723)) \n",
    "                              ])"
   ]
  },
  {
   "cell_type": "markdown",
   "id": "ee4dd579-8ce0-46e0-9f78-a15f6e627954",
   "metadata": {},
   "source": [
    "### Обучение моделей"
   ]
  },
  {
   "cell_type": "markdown",
   "id": "43b4128c-b135-4ec8-affa-9dfe17e87209",
   "metadata": {},
   "source": [
    "#### CatBoost"
   ]
  },
  {
   "cell_type": "code",
   "execution_count": 54,
   "id": "d1655386-5e35-4c50-8e35-467f3135b822",
   "metadata": {
    "collapsed": true,
    "jupyter": {
     "outputs_hidden": true
    },
    "scrolled": true,
    "tags": []
   },
   "outputs": [
    {
     "name": "stdout",
     "output_type": "stream",
     "text": [
      "\n",
      "bestTest = 0.9149618988\n",
      "bestIteration = 475\n",
      "\n",
      "Metric AUC is not calculated on train by default. To calculate this metric on train, add hints=skip_train~false to metric parameters.\n",
      "0:\tloss: 0.9149619\tbest: 0.9149619 (0)\ttotal: 1.68s\tremaining: 1m 28s\n",
      "\n",
      "bestTest = 0.9149618988\n",
      "bestIteration = 475\n",
      "\n",
      "Metric AUC is not calculated on train by default. To calculate this metric on train, add hints=skip_train~false to metric parameters.\n",
      "1:\tloss: 0.9149619\tbest: 0.9149619 (0)\ttotal: 2.12s\tremaining: 55.1s\n",
      "\n",
      "bestTest = 0.9095573976\n",
      "bestIteration = 485\n",
      "\n",
      "Metric AUC is not calculated on train by default. To calculate this metric on train, add hints=skip_train~false to metric parameters.\n",
      "2:\tloss: 0.9095574\tbest: 0.9149619 (0)\ttotal: 2.64s\tremaining: 44.9s\n",
      "\n",
      "bestTest = 0.9095573976\n",
      "bestIteration = 485\n",
      "\n",
      "Metric AUC is not calculated on train by default. To calculate this metric on train, add hints=skip_train~false to metric parameters.\n",
      "3:\tloss: 0.9095574\tbest: 0.9149619 (0)\ttotal: 3.1s\tremaining: 38.8s\n",
      "\n",
      "bestTest = 0.8444370852\n",
      "bestIteration = 499\n",
      "\n",
      "Metric AUC is not calculated on train by default. To calculate this metric on train, add hints=skip_train~false to metric parameters.\n",
      "4:\tloss: 0.8444371\tbest: 0.9149619 (0)\ttotal: 3.55s\tremaining: 34.8s\n",
      "\n",
      "bestTest = 0.8444370852\n",
      "bestIteration = 499\n",
      "\n",
      "Metric AUC is not calculated on train by default. To calculate this metric on train, add hints=skip_train~false to metric parameters.\n",
      "5:\tloss: 0.8444371\tbest: 0.9149619 (0)\ttotal: 4s\tremaining: 32s\n",
      "\n",
      "bestTest = 0.9159144293\n",
      "bestIteration = 499\n",
      "\n",
      "Metric AUC is not calculated on train by default. To calculate this metric on train, add hints=skip_train~false to metric parameters.\n",
      "6:\tloss: 0.9159144\tbest: 0.9159144 (6)\ttotal: 4.47s\tremaining: 30.1s\n",
      "\n",
      "bestTest = 0.9159144293\n",
      "bestIteration = 499\n",
      "\n",
      "Metric AUC is not calculated on train by default. To calculate this metric on train, add hints=skip_train~false to metric parameters.\n",
      "7:\tloss: 0.9159144\tbest: 0.9159144 (6)\ttotal: 4.93s\tremaining: 28.3s\n",
      "\n",
      "bestTest = 0.9033437577\n",
      "bestIteration = 499\n",
      "\n",
      "Metric AUC is not calculated on train by default. To calculate this metric on train, add hints=skip_train~false to metric parameters.\n",
      "8:\tloss: 0.9033438\tbest: 0.9159144 (6)\ttotal: 5.37s\tremaining: 26.9s\n",
      "\n",
      "bestTest = 0.9033437577\n",
      "bestIteration = 499\n",
      "\n",
      "Metric AUC is not calculated on train by default. To calculate this metric on train, add hints=skip_train~false to metric parameters.\n",
      "9:\tloss: 0.9033438\tbest: 0.9159144 (6)\ttotal: 5.82s\tremaining: 25.6s\n",
      "\n",
      "bestTest = 0.8399714582\n",
      "bestIteration = 497\n",
      "\n",
      "Metric AUC is not calculated on train by default. To calculate this metric on train, add hints=skip_train~false to metric parameters.\n",
      "10:\tloss: 0.8399715\tbest: 0.9159144 (6)\ttotal: 6.25s\tremaining: 24.4s\n",
      "\n",
      "bestTest = 0.8399714582\n",
      "bestIteration = 497\n",
      "\n",
      "Metric AUC is not calculated on train by default. To calculate this metric on train, add hints=skip_train~false to metric parameters.\n",
      "11:\tloss: 0.8399715\tbest: 0.9159144 (6)\ttotal: 6.7s\tremaining: 23.4s\n",
      "\n",
      "bestTest = 0.9121043072\n",
      "bestIteration = 498\n",
      "\n",
      "Metric AUC is not calculated on train by default. To calculate this metric on train, add hints=skip_train~false to metric parameters.\n",
      "12:\tloss: 0.9121043\tbest: 0.9159144 (6)\ttotal: 7.17s\tremaining: 22.6s\n",
      "\n",
      "bestTest = 0.9121043072\n",
      "bestIteration = 498\n",
      "\n",
      "Metric AUC is not calculated on train by default. To calculate this metric on train, add hints=skip_train~false to metric parameters.\n",
      "13:\tloss: 0.9121043\tbest: 0.9159144 (6)\ttotal: 7.66s\tremaining: 21.9s\n",
      "\n",
      "bestTest = 0.8909540327\n",
      "bestIteration = 498\n",
      "\n",
      "Metric AUC is not calculated on train by default. To calculate this metric on train, add hints=skip_train~false to metric parameters.\n",
      "14:\tloss: 0.8909540\tbest: 0.9159144 (6)\ttotal: 8.14s\tremaining: 21.2s\n",
      "\n",
      "bestTest = 0.8909540327\n",
      "bestIteration = 498\n",
      "\n",
      "Metric AUC is not calculated on train by default. To calculate this metric on train, add hints=skip_train~false to metric parameters.\n",
      "15:\tloss: 0.8909540\tbest: 0.9159144 (6)\ttotal: 8.63s\tremaining: 20.5s\n",
      "\n",
      "bestTest = 0.8368065987\n",
      "bestIteration = 499\n",
      "\n",
      "Metric AUC is not calculated on train by default. To calculate this metric on train, add hints=skip_train~false to metric parameters.\n",
      "16:\tloss: 0.8368066\tbest: 0.9159144 (6)\ttotal: 9.08s\tremaining: 19.8s\n",
      "\n",
      "bestTest = 0.8368065987\n",
      "bestIteration = 499\n",
      "\n",
      "Metric AUC is not calculated on train by default. To calculate this metric on train, add hints=skip_train~false to metric parameters.\n",
      "17:\tloss: 0.8368066\tbest: 0.9159144 (6)\ttotal: 9.53s\tremaining: 19.1s\n",
      "\n",
      "bestTest = 0.9242482178\n",
      "bestIteration = 390\n",
      "\n",
      "Metric AUC is not calculated on train by default. To calculate this metric on train, add hints=skip_train~false to metric parameters.\n",
      "18:\tloss: 0.9242482\tbest: 0.9242482 (18)\ttotal: 10.1s\tremaining: 18.7s\n",
      "\n",
      "bestTest = 0.9242482178\n",
      "bestIteration = 390\n",
      "\n",
      "Metric AUC is not calculated on train by default. To calculate this metric on train, add hints=skip_train~false to metric parameters.\n",
      "19:\tloss: 0.9242482\tbest: 0.9242482 (18)\ttotal: 10.7s\tremaining: 18.2s\n",
      "\n",
      "bestTest = 0.9194172835\n",
      "bestIteration = 473\n",
      "\n",
      "Metric AUC is not calculated on train by default. To calculate this metric on train, add hints=skip_train~false to metric parameters.\n",
      "20:\tloss: 0.9194173\tbest: 0.9242482 (18)\ttotal: 11.3s\tremaining: 17.8s\n",
      "\n",
      "bestTest = 0.9194172835\n",
      "bestIteration = 473\n",
      "\n",
      "Metric AUC is not calculated on train by default. To calculate this metric on train, add hints=skip_train~false to metric parameters.\n",
      "21:\tloss: 0.9194173\tbest: 0.9242482 (18)\ttotal: 11.9s\tremaining: 17.3s\n",
      "\n",
      "bestTest = 0.8757272007\n",
      "bestIteration = 499\n",
      "\n",
      "Metric AUC is not calculated on train by default. To calculate this metric on train, add hints=skip_train~false to metric parameters.\n",
      "22:\tloss: 0.8757272\tbest: 0.9242482 (18)\ttotal: 12.5s\tremaining: 16.9s\n",
      "\n",
      "bestTest = 0.8757272007\n",
      "bestIteration = 499\n",
      "\n",
      "Metric AUC is not calculated on train by default. To calculate this metric on train, add hints=skip_train~false to metric parameters.\n",
      "23:\tloss: 0.8757272\tbest: 0.9242482 (18)\ttotal: 13.1s\tremaining: 16.4s\n",
      "\n",
      "bestTest = 0.9258767378\n",
      "bestIteration = 489\n",
      "\n",
      "Metric AUC is not calculated on train by default. To calculate this metric on train, add hints=skip_train~false to metric parameters.\n",
      "24:\tloss: 0.9258767\tbest: 0.9258767 (24)\ttotal: 13.7s\tremaining: 15.9s\n",
      "\n",
      "bestTest = 0.9258767378\n",
      "bestIteration = 489\n",
      "\n",
      "Metric AUC is not calculated on train by default. To calculate this metric on train, add hints=skip_train~false to metric parameters.\n",
      "25:\tloss: 0.9258767\tbest: 0.9258767 (24)\ttotal: 14.3s\tremaining: 15.3s\n",
      "\n",
      "bestTest = 0.9215886434\n",
      "bestIteration = 494\n",
      "\n",
      "Metric AUC is not calculated on train by default. To calculate this metric on train, add hints=skip_train~false to metric parameters.\n",
      "26:\tloss: 0.9215886\tbest: 0.9258767 (24)\ttotal: 14.8s\tremaining: 14.8s\n",
      "\n",
      "bestTest = 0.9215886434\n",
      "bestIteration = 494\n",
      "\n",
      "Metric AUC is not calculated on train by default. To calculate this metric on train, add hints=skip_train~false to metric parameters.\n",
      "27:\tloss: 0.9215886\tbest: 0.9258767 (24)\ttotal: 15.4s\tremaining: 14.3s\n",
      "\n",
      "bestTest = 0.8696637806\n",
      "bestIteration = 499\n",
      "\n",
      "Metric AUC is not calculated on train by default. To calculate this metric on train, add hints=skip_train~false to metric parameters.\n",
      "28:\tloss: 0.8696638\tbest: 0.9258767 (24)\ttotal: 16s\tremaining: 13.8s\n",
      "\n",
      "bestTest = 0.8696637806\n",
      "bestIteration = 499\n",
      "\n",
      "Metric AUC is not calculated on train by default. To calculate this metric on train, add hints=skip_train~false to metric parameters.\n",
      "29:\tloss: 0.8696638\tbest: 0.9258767 (24)\ttotal: 16.5s\tremaining: 13.2s\n",
      "\n",
      "bestTest = 0.9172254391\n",
      "bestIteration = 499\n",
      "\n",
      "Metric AUC is not calculated on train by default. To calculate this metric on train, add hints=skip_train~false to metric parameters.\n",
      "30:\tloss: 0.9172254\tbest: 0.9258767 (24)\ttotal: 17.1s\tremaining: 12.7s\n",
      "\n",
      "bestTest = 0.9172254391\n",
      "bestIteration = 499\n",
      "\n",
      "Metric AUC is not calculated on train by default. To calculate this metric on train, add hints=skip_train~false to metric parameters.\n",
      "31:\tloss: 0.9172254\tbest: 0.9258767 (24)\ttotal: 17.7s\tremaining: 12.1s\n",
      "\n",
      "bestTest = 0.9165357933\n",
      "bestIteration = 499\n",
      "\n",
      "Metric AUC is not calculated on train by default. To calculate this metric on train, add hints=skip_train~false to metric parameters.\n",
      "32:\tloss: 0.9165358\tbest: 0.9258767 (24)\ttotal: 18.3s\tremaining: 11.6s\n",
      "\n",
      "bestTest = 0.9165357933\n",
      "bestIteration = 499\n",
      "\n",
      "Metric AUC is not calculated on train by default. To calculate this metric on train, add hints=skip_train~false to metric parameters.\n",
      "33:\tloss: 0.9165358\tbest: 0.9258767 (24)\ttotal: 18.8s\tremaining: 11.1s\n",
      "\n",
      "bestTest = 0.8616201896\n",
      "bestIteration = 498\n",
      "\n",
      "Metric AUC is not calculated on train by default. To calculate this metric on train, add hints=skip_train~false to metric parameters.\n",
      "34:\tloss: 0.8616202\tbest: 0.9258767 (24)\ttotal: 19.4s\tremaining: 10.5s\n",
      "\n",
      "bestTest = 0.8616201896\n",
      "bestIteration = 498\n",
      "\n",
      "Metric AUC is not calculated on train by default. To calculate this metric on train, add hints=skip_train~false to metric parameters.\n",
      "35:\tloss: 0.8616202\tbest: 0.9258767 (24)\ttotal: 20s\tremaining: 9.98s\n",
      "\n",
      "bestTest = 0.920953623\n",
      "bestIteration = 233\n",
      "\n",
      "Metric AUC is not calculated on train by default. To calculate this metric on train, add hints=skip_train~false to metric parameters.\n",
      "36:\tloss: 0.9209536\tbest: 0.9258767 (24)\ttotal: 21.3s\tremaining: 9.78s\n",
      "\n",
      "bestTest = 0.920953623\n",
      "bestIteration = 233\n",
      "\n",
      "Metric AUC is not calculated on train by default. To calculate this metric on train, add hints=skip_train~false to metric parameters.\n",
      "37:\tloss: 0.9209536\tbest: 0.9258767 (24)\ttotal: 22.6s\tremaining: 9.52s\n",
      "\n",
      "bestTest = 0.917495152\n",
      "bestIteration = 493\n",
      "\n",
      "Metric AUC is not calculated on train by default. To calculate this metric on train, add hints=skip_train~false to metric parameters.\n",
      "38:\tloss: 0.9174952\tbest: 0.9258767 (24)\ttotal: 23.9s\tremaining: 9.21s\n",
      "\n",
      "bestTest = 0.917495152\n",
      "bestIteration = 493\n",
      "\n",
      "Metric AUC is not calculated on train by default. To calculate this metric on train, add hints=skip_train~false to metric parameters.\n",
      "39:\tloss: 0.9174952\tbest: 0.9258767 (24)\ttotal: 25.2s\tremaining: 8.83s\n",
      "\n",
      "bestTest = 0.8934633873\n",
      "bestIteration = 499\n",
      "\n",
      "Metric AUC is not calculated on train by default. To calculate this metric on train, add hints=skip_train~false to metric parameters.\n",
      "40:\tloss: 0.8934634\tbest: 0.9258767 (24)\ttotal: 26.4s\tremaining: 8.38s\n",
      "\n",
      "bestTest = 0.8934633873\n",
      "bestIteration = 499\n",
      "\n",
      "Metric AUC is not calculated on train by default. To calculate this metric on train, add hints=skip_train~false to metric parameters.\n",
      "41:\tloss: 0.8934634\tbest: 0.9258767 (24)\ttotal: 27.6s\tremaining: 7.9s\n",
      "\n",
      "bestTest = 0.9137157567\n",
      "bestIteration = 344\n",
      "\n",
      "Metric AUC is not calculated on train by default. To calculate this metric on train, add hints=skip_train~false to metric parameters.\n",
      "42:\tloss: 0.9137158\tbest: 0.9258767 (24)\ttotal: 28.9s\tremaining: 7.4s\n",
      "\n",
      "bestTest = 0.9137157567\n",
      "bestIteration = 344\n",
      "\n",
      "Metric AUC is not calculated on train by default. To calculate this metric on train, add hints=skip_train~false to metric parameters.\n",
      "43:\tloss: 0.9137158\tbest: 0.9258767 (24)\ttotal: 30.2s\tremaining: 6.87s\n",
      "\n",
      "bestTest = 0.914661459\n",
      "bestIteration = 451\n",
      "\n",
      "Metric AUC is not calculated on train by default. To calculate this metric on train, add hints=skip_train~false to metric parameters.\n",
      "44:\tloss: 0.9146615\tbest: 0.9258767 (24)\ttotal: 31.5s\tremaining: 6.3s\n",
      "\n",
      "bestTest = 0.914661459\n",
      "bestIteration = 451\n",
      "\n",
      "Metric AUC is not calculated on train by default. To calculate this metric on train, add hints=skip_train~false to metric parameters.\n",
      "45:\tloss: 0.9146615\tbest: 0.9258767 (24)\ttotal: 32.9s\tremaining: 5.71s\n",
      "\n",
      "bestTest = 0.8886665938\n",
      "bestIteration = 499\n",
      "\n",
      "Metric AUC is not calculated on train by default. To calculate this metric on train, add hints=skip_train~false to metric parameters.\n",
      "46:\tloss: 0.8886666\tbest: 0.9258767 (24)\ttotal: 34s\tremaining: 5.07s\n",
      "\n",
      "bestTest = 0.8886665938\n",
      "bestIteration = 499\n",
      "\n",
      "Metric AUC is not calculated on train by default. To calculate this metric on train, add hints=skip_train~false to metric parameters.\n",
      "47:\tloss: 0.8886666\tbest: 0.9258767 (24)\ttotal: 35.2s\tremaining: 4.4s\n",
      "\n",
      "bestTest = 0.921574987\n",
      "bestIteration = 366\n",
      "\n",
      "Metric AUC is not calculated on train by default. To calculate this metric on train, add hints=skip_train~false to metric parameters.\n",
      "48:\tloss: 0.9215750\tbest: 0.9258767 (24)\ttotal: 36.5s\tremaining: 3.73s\n",
      "\n",
      "bestTest = 0.921574987\n",
      "bestIteration = 366\n",
      "\n",
      "Metric AUC is not calculated on train by default. To calculate this metric on train, add hints=skip_train~false to metric parameters.\n",
      "49:\tloss: 0.9215750\tbest: 0.9258767 (24)\ttotal: 37.8s\tremaining: 3.02s\n",
      "\n",
      "bestTest = 0.9176009887\n",
      "bestIteration = 474\n",
      "\n",
      "Metric AUC is not calculated on train by default. To calculate this metric on train, add hints=skip_train~false to metric parameters.\n",
      "50:\tloss: 0.9176010\tbest: 0.9258767 (24)\ttotal: 39s\tremaining: 2.3s\n",
      "\n",
      "bestTest = 0.9176009887\n",
      "bestIteration = 474\n",
      "\n",
      "Metric AUC is not calculated on train by default. To calculate this metric on train, add hints=skip_train~false to metric parameters.\n",
      "51:\tloss: 0.9176010\tbest: 0.9258767 (24)\ttotal: 40.3s\tremaining: 1.55s\n",
      "\n",
      "bestTest = 0.8729276486\n",
      "bestIteration = 499\n",
      "\n",
      "Metric AUC is not calculated on train by default. To calculate this metric on train, add hints=skip_train~false to metric parameters.\n",
      "52:\tloss: 0.8729276\tbest: 0.9258767 (24)\ttotal: 41.4s\tremaining: 782ms\n",
      "\n",
      "bestTest = 0.8729276486\n",
      "bestIteration = 499\n",
      "\n",
      "Metric AUC is not calculated on train by default. To calculate this metric on train, add hints=skip_train~false to metric parameters.\n",
      "53:\tloss: 0.8729276\tbest: 0.9258767 (24)\ttotal: 42.7s\tremaining: 0us\n",
      "Estimating final quality...\n",
      "Training on fold [0/5]\n",
      "\n",
      "bestTest = 0.9064005435\n",
      "bestIteration = 498\n",
      "\n",
      "Training on fold [1/5]\n",
      "\n",
      "bestTest = 0.9000391156\n",
      "bestIteration = 463\n",
      "\n",
      "Training on fold [2/5]\n",
      "\n",
      "bestTest = 0.9154931994\n",
      "bestIteration = 446\n",
      "\n",
      "Training on fold [3/5]\n",
      "\n",
      "bestTest = 0.930296306\n",
      "bestIteration = 496\n",
      "\n",
      "Training on fold [4/5]\n",
      "\n",
      "bestTest = 0.9213602367\n",
      "bestIteration = 430\n",
      "\n"
     ]
    }
   ],
   "source": [
    "CatBoost_model = CatBoostClassifier(loss_function='Logloss', eval_metric='AUC', verbose=False, random_seed=170723) \n",
    "params = {'depth': [2, 4, 8],\n",
    "          'learning_rate' : [0.15, 0.1, 0.03], \n",
    "          'l2_leaf_reg': [2, 4, 8],\n",
    "          'iterations': [500],\n",
    "          'one_hot_max_size': [20, 40],\n",
    "          } \n",
    "\n",
    "\n",
    "CatBoost_grid = CatBoost_model.grid_search(params, train_pool, cv=5, partition_random_seed=170723) "
   ]
  },
  {
   "cell_type": "code",
   "execution_count": 55,
   "id": "21812014-6b83-42d8-9e36-3be1a469559d",
   "metadata": {
    "tags": []
   },
   "outputs": [
    {
     "data": {
      "text/plain": [
       "{'depth': 4,\n",
       " 'one_hot_max_size': 20,\n",
       " 'l2_leaf_reg': 4,\n",
       " 'iterations': 500,\n",
       " 'learning_rate': 0.15}"
      ]
     },
     "execution_count": 55,
     "metadata": {},
     "output_type": "execute_result"
    }
   ],
   "source": [
    "CatBoost_grid['params']"
   ]
  },
  {
   "cell_type": "code",
   "execution_count": 56,
   "id": "21ea679b-77e4-4ecf-993b-5b8915fd69e4",
   "metadata": {
    "tags": []
   },
   "outputs": [
    {
     "data": {
      "text/plain": [
       "0.9139157135269185"
      ]
     },
     "execution_count": 56,
     "metadata": {},
     "output_type": "execute_result"
    }
   ],
   "source": [
    "max(CatBoost_grid['cv_results']['test-AUC-mean'])"
   ]
  },
  {
   "cell_type": "markdown",
   "id": "c9da9678-af40-4d99-9561-7b92ad937485",
   "metadata": {},
   "source": [
    "Бустинг показал резельтат в 0.91, результат отличный и полностью укладывается в критерии."
   ]
  },
  {
   "cell_type": "markdown",
   "id": "7364d4fa-86df-43c8-abfe-a05e89f358a2",
   "metadata": {},
   "source": [
    "#### Случайный лес"
   ]
  },
  {
   "cell_type": "code",
   "execution_count": 57,
   "id": "afc5dc8d-526b-42a1-bb78-7017879af7ba",
   "metadata": {
    "tags": []
   },
   "outputs": [],
   "source": [
    "params_RF = {\n",
    "             'classifier__n_estimators': [40, 80, 100],\n",
    "             'classifier__max_depth': [2, 4, 8],\n",
    "             'classifier__max_features': [2, 4], \n",
    "             'transformer__remainder': ['passthrough']\n",
    "             }"
   ]
  },
  {
   "cell_type": "code",
   "execution_count": 58,
   "id": "4a1b6f50-968e-4cd1-90af-a684d48f27ec",
   "metadata": {
    "tags": []
   },
   "outputs": [],
   "source": [
    "grid_RF = GridSearchCV(random_forest_model, param_grid = params_RF, scoring='roc_auc', cv=5)"
   ]
  },
  {
   "cell_type": "code",
   "execution_count": 59,
   "id": "92894a89-9e5d-4fd8-bca4-c5ff623b78ee",
   "metadata": {
    "scrolled": true,
    "tags": []
   },
   "outputs": [
    {
     "data": {
      "text/plain": [
       "GridSearchCV(cv=5,\n",
       "             estimator=Pipeline(steps=[('transformer',\n",
       "                                        ColumnTransformer(transformers=[('encoder',\n",
       "                                                                         OrdinalEncoder(),\n",
       "                                                                         ['PaymentMethod',\n",
       "                                                                          'Partner'])])),\n",
       "                                       ('classifier',\n",
       "                                        RandomForestClassifier(random_state=170723))]),\n",
       "             param_grid={'classifier__max_depth': [2, 4, 8],\n",
       "                         'classifier__max_features': [2, 4],\n",
       "                         'classifier__n_estimators': [40, 80, 100],\n",
       "                         'transformer__remainder': ['passthrough']},\n",
       "             scoring='roc_auc')"
      ]
     },
     "execution_count": 59,
     "metadata": {},
     "output_type": "execute_result"
    }
   ],
   "source": [
    "grid_RF.fit(features_train, target_train)"
   ]
  },
  {
   "cell_type": "code",
   "execution_count": 60,
   "id": "61c8453e-0848-48c0-a2fc-aa8a103c93f2",
   "metadata": {
    "tags": []
   },
   "outputs": [
    {
     "data": {
      "text/plain": [
       "0.8189916949086176"
      ]
     },
     "execution_count": 60,
     "metadata": {},
     "output_type": "execute_result"
    }
   ],
   "source": [
    "grid_RF.best_score_"
   ]
  },
  {
   "cell_type": "markdown",
   "id": "03f30c86-d2a8-4b68-afaa-9cd9e248e223",
   "metadata": {},
   "source": [
    "Случайный лес отработал с результатом 0.82, что довольно неплохо, хотя до бустинга не дотягивает."
   ]
  },
  {
   "cell_type": "markdown",
   "id": "fc721bec",
   "metadata": {},
   "source": [
    "#### Вывод по обучению моделей"
   ]
  },
  {
   "cell_type": "markdown",
   "id": "ca626492",
   "metadata": {},
   "source": [
    "Таким образом, лучшей моделью ожидаемо становится CatBoost с результатом 0.91 по AUC-ROC на кросс-валидации. "
   ]
  },
  {
   "cell_type": "markdown",
   "id": "1cef1522-60bd-4f65-bd6a-76c093247c66",
   "metadata": {},
   "source": [
    "### Тестирование лучшей модели"
   ]
  },
  {
   "cell_type": "code",
   "execution_count": 61,
   "id": "a9167d85-99d0-42af-9531-1202e80bb3a6",
   "metadata": {
    "tags": []
   },
   "outputs": [
    {
     "data": {
      "text/plain": [
       "0.9366002581328391"
      ]
     },
     "execution_count": 61,
     "metadata": {},
     "output_type": "execute_result"
    }
   ],
   "source": [
    "roc_auc_score(target_test, CatBoost_model.predict_proba(features_test)[:,1])"
   ]
  },
  {
   "cell_type": "markdown",
   "id": "3013f3ee-ceb5-455f-b13e-76f5edd12514",
   "metadata": {},
   "source": [
    "Итого, CatBoost на тестовой выборке показывает результат порядка 0.93 по метрике AUC-ROC, что значительно выше порога в 0.85."
   ]
  },
  {
   "cell_type": "code",
   "execution_count": 62,
   "id": "06309341-3bb9-4ce6-95cf-44da21dca62b",
   "metadata": {
    "tags": []
   },
   "outputs": [
    {
     "data": {
      "text/html": [
       "<div>\n",
       "<style scoped>\n",
       "    .dataframe tbody tr th:only-of-type {\n",
       "        vertical-align: middle;\n",
       "    }\n",
       "\n",
       "    .dataframe tbody tr th {\n",
       "        vertical-align: top;\n",
       "    }\n",
       "\n",
       "    .dataframe thead th {\n",
       "        text-align: right;\n",
       "    }\n",
       "</style>\n",
       "<table border=\"1\" class=\"dataframe\">\n",
       "  <thead>\n",
       "    <tr style=\"text-align: right;\">\n",
       "      <th></th>\n",
       "      <th>feature_importance</th>\n",
       "      <th>feature_names</th>\n",
       "    </tr>\n",
       "  </thead>\n",
       "  <tbody>\n",
       "    <tr>\n",
       "      <th>3</th>\n",
       "      <td>75.725091</td>\n",
       "      <td>Service_duration</td>\n",
       "    </tr>\n",
       "    <tr>\n",
       "      <th>1</th>\n",
       "      <td>15.106929</td>\n",
       "      <td>MonthlyCharges</td>\n",
       "    </tr>\n",
       "    <tr>\n",
       "      <th>0</th>\n",
       "      <td>4.962544</td>\n",
       "      <td>PaymentMethod</td>\n",
       "    </tr>\n",
       "    <tr>\n",
       "      <th>2</th>\n",
       "      <td>4.205436</td>\n",
       "      <td>Partner</td>\n",
       "    </tr>\n",
       "  </tbody>\n",
       "</table>\n",
       "</div>"
      ],
      "text/plain": [
       "   feature_importance     feature_names\n",
       "3           75.725091  Service_duration\n",
       "1           15.106929    MonthlyCharges\n",
       "0            4.962544     PaymentMethod\n",
       "2            4.205436           Partner"
      ]
     },
     "execution_count": 62,
     "metadata": {},
     "output_type": "execute_result"
    }
   ],
   "source": [
    "pd.DataFrame({'feature_importance': CatBoost_model.get_feature_importance(train_pool), \n",
    "              'feature_names': features_train.columns}).sort_values(by=['feature_importance'], \n",
    "                                                           ascending=False)"
   ]
  },
  {
   "cell_type": "markdown",
   "id": "cee29b34-4cb4-4b56-97b1-cb240edaa9f0",
   "metadata": {},
   "source": [
    "Как можно заметить, с далеким отрывом самым важным признаком в данной модели является длительность обслуживания, иначе говоря, если клиент уже давно у вас, вряд ли он куда-то уйдет."
   ]
  },
  {
   "cell_type": "markdown",
   "id": "d9109bc1-0d34-495f-a75a-ead593df088b",
   "metadata": {},
   "source": [
    "Подберем порог отсечки на трейне для accuracy при помощи cross_val_predict, лучшие гиперпараметры для CatBoost мы уже получили ранее."
   ]
  },
  {
   "cell_type": "code",
   "execution_count": 63,
   "id": "ef10b788",
   "metadata": {},
   "outputs": [],
   "source": [
    "test_model = CatBoostClassifier(loss_function='Logloss', \n",
    "                                eval_metric='AUC', \n",
    "                                verbose=False, \n",
    "                                depth=4,\n",
    "                                one_hot_max_size=20,\n",
    "                                l2_leaf_reg=2,\n",
    "                                iterations=500,\n",
    "                                learning_rate=0.15,\n",
    "                                cat_features=cat_features,\n",
    "                                random_seed=170723) \n",
    "\n",
    "\n",
    "    \n",
    "\n",
    "\n",
    "\n",
    "probs = cross_val_predict(test_model, features_train, target_train, cv=5, method='predict_proba')"
   ]
  },
  {
   "cell_type": "code",
   "execution_count": 64,
   "id": "54bee246-2835-40ba-a26e-7d53766c2985",
   "metadata": {
    "tags": []
   },
   "outputs": [],
   "source": [
    "best_thres = 0.01\n",
    "max_accuracy_score = 0\n",
    "for i in range(1, 100):\n",
    "    thres = i / 100\n",
    "    var = accuracy_score(target_train, list(map(int, probs[:, 1] >= thres)))\n",
    "    if var > max_accuracy_score:\n",
    "        max_accuracy_score = var\n",
    "        best_thres = thres"
   ]
  },
  {
   "cell_type": "code",
   "execution_count": 65,
   "id": "1bbd1f51-1a19-47e0-858e-a6ba4228f9d3",
   "metadata": {
    "tags": []
   },
   "outputs": [
    {
     "name": "stdout",
     "output_type": "stream",
     "text": [
      "0.41\n"
     ]
    },
    {
     "data": {
      "text/plain": [
       "0.9290041650889814"
      ]
     },
     "execution_count": 65,
     "metadata": {},
     "output_type": "execute_result"
    }
   ],
   "source": [
    "print(best_thres) \n",
    "max_accuracy_score"
   ]
  },
  {
   "cell_type": "markdown",
   "id": "1fccc468-92b0-49a9-8c63-0aabd3e4fa9a",
   "metadata": {},
   "source": [
    "Таким образом, с при веротяности отсечки в 0.41, модель правильно классифицирует 93% тренировочного датасета. Думаю, accuracy не лучшая метрика, но точно самая понятная. Закрепим этот порог в модели и проверим уже на тесте."
   ]
  },
  {
   "cell_type": "code",
   "execution_count": 66,
   "id": "e500820e-d276-4e15-93e5-ee034cec20a9",
   "metadata": {
    "tags": []
   },
   "outputs": [
    {
     "data": {
      "text/plain": [
       "0.9403747870528109"
      ]
     },
     "execution_count": 66,
     "metadata": {},
     "output_type": "execute_result"
    }
   ],
   "source": [
    "CatBoost_model.set_probability_threshold(best_thres) \n",
    "accuracy_score(target_test, CatBoost_model.predict(features_test))"
   ]
  },
  {
   "cell_type": "markdown",
   "id": "0d540901-c011-4472-a080-941b01708df0",
   "metadata": {},
   "source": [
    "На тесте значение accuracy чуть улучшилось до 0.94, хорошо."
   ]
  },
  {
   "cell_type": "markdown",
   "id": "c56f2415",
   "metadata": {},
   "source": [
    "Подготовим матрицу ошибок для дальнейшего отчета. "
   ]
  },
  {
   "cell_type": "code",
   "execution_count": 67,
   "id": "486be947",
   "metadata": {},
   "outputs": [
    {
     "data": {
      "image/png": "[encoded data removed]",
      "text/plain": [
       "<Figure size 720x720 with 2 Axes>"
      ]
     },
     "metadata": {},
     "output_type": "display_data"
    }
   ],
   "source": [
    "cm = confusion_matrix(target_test, CatBoost_model.predict(features_test)) \n",
    "ConfusionMatrixDisplay(cm, display_labels=['Клиент остался', 'Клиент ушел']).plot();"
   ]
  },
  {
   "cell_type": "markdown",
   "id": "dd7486b7",
   "metadata": {},
   "source": [
    "По данной матрице мы имеем: \n",
    "- Истинно отрицательные: 1449\n",
    "- Ложно отрицательные: 80 \n",
    "- Истинно положительные: 207 \n",
    "- Ложно положительные: 25\n",
    "\n",
    "Иными словами, данная матрица показывает, что модель правильно классифицировала 1449 клиентов как продолжающих пользоваться услугами компании и 207 клиентов как уходящих. В свою очередь, модель ошибочно отметила 80 клиентов как остающихся, но они ушли, и 25 клиентов, как уходящих, но они остались. "
   ]
  },
  {
   "cell_type": "markdown",
   "id": "f0a49848-e54e-4ce5-89b5-dace494f0ad4",
   "metadata": {},
   "source": [
    "### Вывод по моделированию"
   ]
  },
  {
   "cell_type": "markdown",
   "id": "4bbe3aca-c594-43ce-af1c-7d312b2e83f3",
   "metadata": {},
   "source": [
    "- Проведен анализ связи признаков и таргета, создан один новый признак и убраны лишние.\n",
    "- Проведена необходимая кодировка признаков для моделей.\n",
    "- Обучены две модели CatBoost и случаный лес с результатом по ROC-AUC 0.92 и 0.82 соответственно.\n",
    "- Лучшей моделью выбран CatBoost, его результат на тестовой выборке - 0.93 по ROC-AUC. Для CatBoost подобран оптимальный порог для accuracy, значение accuracy на тесте - 0.94. \n",
    "- Подготовлена и интерпретирована матрица ошибок."
   ]
  },
  {
   "cell_type": "markdown",
   "id": "f3b019e7",
   "metadata": {},
   "source": [
    "## Отчет"
   ]
  },
  {
   "cell_type": "markdown",
   "id": "9a2404f2",
   "metadata": {},
   "source": [
    "### Этапы работы над проектом"
   ]
  },
  {
   "cell_type": "markdown",
   "id": "0cd3d0cc",
   "metadata": {},
   "source": [
    "1. EDA\n",
    "- Преобразование типов данных\n",
    "- Просмотр распределения и аномалий, дублей, пропусков\n",
    "- Выделение целевого признака\n",
    "- Сбор данных в одну таблицу\n",
    "- Работа с пропусками\n",
    "2. Моделирование \n",
    "- Отбор необходимые для обучения признаки и создание новых\n",
    "- Деление данных на train и test в соотношении 3 к 1 \n",
    "- Кодирование признаков\n",
    "- Обучение 2-3 моделей, выброр лучшей. \n",
    "- Оценка модели на тестовой выборке, анализ важности признаков. \n",
    "3. Написание отчета"
   ]
  },
  {
   "cell_type": "markdown",
   "id": "670e6e2e",
   "metadata": {},
   "source": [
    "Фактически работа соответствовала плану."
   ]
  },
  {
   "cell_type": "markdown",
   "id": "09dece97",
   "metadata": {},
   "source": [
    "Некоторые сложности возникли с предобработкой данных, а именно с объединением таблиц, поскольку не все клиенты компании пользуются и услугами интернета, и услугами мобильной связи. Это породило некоторое количество пропущенных значений, с которыми нужно было работать, проблема решилась вводом новых категорий."
   ]
  },
  {
   "cell_type": "code",
   "execution_count": 68,
   "id": "9547a7b3",
   "metadata": {},
   "outputs": [
    {
     "data": {
      "image/png": "[encoded data removed]",
      "text/plain": [
       "<Figure size 720x360 with 2 Axes>"
      ]
     },
     "metadata": {},
     "output_type": "display_data"
    }
   ],
   "source": [
    "fig, axs = plt.subplots(1, 2, figsize=(10, 5))\n",
    "full_data.groupby('InternetService')['InternetService'].count().sort_values(ascending=False).plot(kind='bar', ax=axs[0], grid=True, title='InternetService', xlabel='')\n",
    "full_data.groupby('MultipleLines')['MultipleLines'].count().sort_values(ascending=False).plot(kind='bar', ax=axs[1], grid=True, title='MultipleLines', xlabel='')\n",
    "plt.show()"
   ]
  },
  {
   "cell_type": "markdown",
   "id": "705800e2",
   "metadata": {},
   "source": [
    "Итоговый список признаков для обучения модели составил: \n",
    "- PaymentMethod -  способ оплаты;\n",
    "- MonthlyCharges -  ежемесячные траты на услуги по договору;\n",
    "- Partner - наличие супруга/супруги;\n",
    "- Service_duration - длительность обслуживания; \n",
    "\n",
    "Из данного списка два признака являются категориальными(PaymentMethod и Partner) и потребовали кодировки, для модели CatBoost был использован внутренний формат Pool, который уже содержит в себе кодировщик, для RandomForest был использован OrdinalEncoder."
   ]
  },
  {
   "cell_type": "markdown",
   "id": "572898d1",
   "metadata": {},
   "source": [
    "Как уже отмечалось выше, на стадии предобработки потребовалось соединить несколько таблиц с разным числом строк, что привело к образованию пропусков, поскольку не все клиенты пользуются всеми услугами компании, эти пропуски были заполнены новыми категориями 'Dont use internet service' и 'Dont use fog service', кроме того были пропуски в столбце TotalCharges, некоторые клиенты на момент выгрузки только заключили договор и не успели ничего потратить, соответственно, эти пропуски были заполнены нулями. Кроме того, были изменены некоторые типы данных столбцов для удобства использования, в частности все столбцы с датами(BeginDate и EndDate) были преобразованы к типу datetime, чтобы с ними можно было работать как с датами, к вещественным числам(float) после удаления пропусков преобразован столбец TotalCharges. Создан новый признак из BeginDate и EndDate - длительность обслуживания."
   ]
  },
  {
   "cell_type": "markdown",
   "id": "b303f32e",
   "metadata": {},
   "source": [
    "Обучены следующие модели."
   ]
  },
  {
   "cell_type": "code",
   "execution_count": 69,
   "id": "09d262c4",
   "metadata": {},
   "outputs": [
    {
     "data": {
      "text/html": [
       "<div>\n",
       "<style scoped>\n",
       "    .dataframe tbody tr th:only-of-type {\n",
       "        vertical-align: middle;\n",
       "    }\n",
       "\n",
       "    .dataframe tbody tr th {\n",
       "        vertical-align: top;\n",
       "    }\n",
       "\n",
       "    .dataframe thead th {\n",
       "        text-align: right;\n",
       "    }\n",
       "</style>\n",
       "<table border=\"1\" class=\"dataframe\">\n",
       "  <thead>\n",
       "    <tr style=\"text-align: right;\">\n",
       "      <th></th>\n",
       "      <th>Модель</th>\n",
       "      <th>Результат AUC-ROC на кросс-валидации</th>\n",
       "    </tr>\n",
       "  </thead>\n",
       "  <tbody>\n",
       "    <tr>\n",
       "      <th>0</th>\n",
       "      <td>CatBoost</td>\n",
       "      <td>0.913916</td>\n",
       "    </tr>\n",
       "    <tr>\n",
       "      <th>1</th>\n",
       "      <td>RandomForest</td>\n",
       "      <td>0.818992</td>\n",
       "    </tr>\n",
       "  </tbody>\n",
       "</table>\n",
       "</div>"
      ],
      "text/plain": [
       "         Модель  Результат AUC-ROC на кросс-валидации\n",
       "0      CatBoost                              0.913916\n",
       "1  RandomForest                              0.818992"
      ]
     },
     "execution_count": 69,
     "metadata": {},
     "output_type": "execute_result"
    }
   ],
   "source": [
    "pd.DataFrame({'Модель': ['CatBoost', 'RandomForest'], \n",
    "              'Результат AUC-ROC на кросс-валидации': [max(CatBoost_grid['cv_results']['test-AUC-mean']), grid_RF.best_score_]}).sort_values(by=['Результат AUC-ROC на кросс-валидации'], \n",
    "                                                           ascending=False)"
   ]
  },
  {
   "cell_type": "markdown",
   "id": "6909c22a",
   "metadata": {},
   "source": [
    "Лучшей моделью ожидаемо оказался CatBoost. Использованы следующие гиперпараметры:\n",
    "- depth - 4 \n",
    "- one_hot_max_size - 20,\n",
    "- l2_leaf_reg - 2,\n",
    "- iterations - 500\n",
    "- learning_rate - 0.15 \n",
    "\n",
    "На данных гиперпараметрах получен результат AUC-ROC порядка 0.91."
   ]
  },
  {
   "cell_type": "markdown",
   "id": "88247d51",
   "metadata": {},
   "source": [
    "На тестовой выборке модель не ухудшила показатели, продемонстрировав значение AUC-ROC и accuracy порядка 0.93 и 0.94 соответственно, иными словами, модель правильно классифицировала 94% тестовой выборки."
   ]
  },
  {
   "cell_type": "markdown",
   "id": "00d64496",
   "metadata": {},
   "source": [
    "Получена следующая матрица ошибок на тестовой выборке."
   ]
  },
  {
   "cell_type": "code",
   "execution_count": 70,
   "id": "030ac71c",
   "metadata": {},
   "outputs": [
    {
     "data": {
      "text/plain": [
       "<sklearn.metrics._plot.confusion_matrix.ConfusionMatrixDisplay at 0x7fa346b09a90>"
      ]
     },
     "execution_count": 70,
     "metadata": {},
     "output_type": "execute_result"
    },
    {
     "data": {
      "image/png": "[encoded data removed]",
      "text/plain": [
       "<Figure size 720x720 with 2 Axes>"
      ]
     },
     "metadata": {},
     "output_type": "display_data"
    }
   ],
   "source": [
    "ConfusionMatrixDisplay(cm, display_labels=['Клиент остался', 'Клиент ушел']).plot()"
   ]
  },
  {
   "cell_type": "markdown",
   "id": "1dccd1ab",
   "metadata": {},
   "source": [
    "Результат модели по данной матрице : \n",
    "- Истинно отрицательные: 1449\n",
    "- Ложно отрицательные: 80 \n",
    "- Истинно положительные: 207 \n",
    "- Ложно положительные: 25\n",
    "\n",
    "Иными словами, данная матрица показывает, что модель правильно классифицировала 1449 клиентов как продолжающих пользоваться услугами компании и 207 клиента как уходящих. В свою очередь, модель ошибочно отметила 80 клиентов как остающихся, но они ушли, и 25 клиентов, как уходящих, но они остались. "
   ]
  },
  {
   "cell_type": "code",
   "execution_count": 71,
   "id": "72aba2fa",
   "metadata": {},
   "outputs": [
    {
     "data": {
      "image/png": "[encoded data removed]",
      "text/plain": [
       "<Figure size 1152x1008 with 1 Axes>"
      ]
     },
     "metadata": {},
     "output_type": "display_data"
    }
   ],
   "source": [
    "CatBoost_importance = pd.DataFrame({'Важность признаков': CatBoost_model.get_feature_importance(train_pool), \n",
    "                                    'Признак': features_train.columns}).sort_values(by=['Важность признаков'], \n",
    "                                                                                              ascending=False) \n",
    "\n",
    "\n",
    "fig, ax = plt.subplots(figsize=(16,14))\n",
    "CatBoost_importance.plot.bar(ax=ax)\n",
    "ax.set_title(\"Важность признаков\")\n",
    "ax.set_ylabel('Признак') \n",
    "ax.set_xticklabels(CatBoost_importance['Признак'])\n",
    "fig.tight_layout() "
   ]
  },
  {
   "cell_type": "markdown",
   "id": "b01172d6",
   "metadata": {},
   "source": [
    "Самым важным признаком с большим отрывом оказалась длительность обслуживания, за ней идут месячные платежи, а наименее важным оказались тип оплаты и наличие супруга/супруги."
   ]
  }
 ],
 "metadata": {
  "ExecuteTimeLog": [
   {
    "duration": 2735,
    "start_time": "2023-07-26T16:20:34.034Z"
   },
   {
    "duration": 3758,
    "start_time": "2023-07-26T16:20:36.771Z"
   },
   {
    "duration": 129,
    "start_time": "2023-07-26T16:20:40.535Z"
   },
   {
    "duration": 74,
    "start_time": "2023-07-26T16:20:40.667Z"
   },
   {
    "duration": 134,
    "start_time": "2023-07-26T16:20:40.742Z"
   },
   {
    "duration": 111,
    "start_time": "2023-07-26T16:20:40.878Z"
   },
   {
    "duration": 44,
    "start_time": "2023-07-26T16:20:40.991Z"
   },
   {
    "duration": 70,
    "start_time": "2023-07-26T16:20:41.037Z"
   },
   {
    "duration": 22,
    "start_time": "2023-07-26T16:20:41.114Z"
   },
   {
    "duration": 18,
    "start_time": "2023-07-26T16:20:41.138Z"
   },
   {
    "duration": 16,
    "start_time": "2023-07-26T16:20:41.158Z"
   },
   {
    "duration": 14,
    "start_time": "2023-07-26T16:20:41.175Z"
   },
   {
    "duration": 31,
    "start_time": "2023-07-26T16:20:41.190Z"
   },
   {
    "duration": 25,
    "start_time": "2023-07-26T16:20:41.222Z"
   },
   {
    "duration": 1395,
    "start_time": "2023-07-26T16:20:41.248Z"
   },
   {
    "duration": 17,
    "start_time": "2023-07-26T16:20:42.644Z"
   },
   {
    "duration": 290,
    "start_time": "2023-07-26T16:20:42.662Z"
   },
   {
    "duration": 265,
    "start_time": "2023-07-26T16:20:42.953Z"
   },
   {
    "duration": 257,
    "start_time": "2023-07-26T16:20:43.226Z"
   },
   {
    "duration": 8,
    "start_time": "2023-07-26T16:20:43.484Z"
   },
   {
    "duration": 71,
    "start_time": "2023-07-26T16:20:43.517Z"
   },
   {
    "duration": 795,
    "start_time": "2023-07-26T16:20:43.589Z"
   },
   {
    "duration": 8,
    "start_time": "2023-07-26T16:20:44.385Z"
   },
   {
    "duration": 76,
    "start_time": "2023-07-26T16:20:44.413Z"
   },
   {
    "duration": 1147,
    "start_time": "2023-07-26T16:20:44.490Z"
   },
   {
    "duration": 26,
    "start_time": "2023-07-26T16:20:45.638Z"
   },
   {
    "duration": 4,
    "start_time": "2023-07-26T16:20:45.665Z"
   },
   {
    "duration": 315,
    "start_time": "2023-07-26T16:20:45.672Z"
   },
   {
    "duration": 3,
    "start_time": "2023-07-26T16:20:45.989Z"
   },
   {
    "duration": 69,
    "start_time": "2023-07-26T16:20:45.994Z"
   },
   {
    "duration": 52,
    "start_time": "2023-07-26T16:20:46.065Z"
   },
   {
    "duration": 52,
    "start_time": "2023-07-26T16:20:46.118Z"
   },
   {
    "duration": 16,
    "start_time": "2023-07-26T16:20:46.172Z"
   },
   {
    "duration": 54,
    "start_time": "2023-07-26T16:20:46.190Z"
   },
   {
    "duration": 26,
    "start_time": "2023-07-26T16:20:46.246Z"
   },
   {
    "duration": 15,
    "start_time": "2023-07-26T16:20:46.274Z"
   },
   {
    "duration": 28,
    "start_time": "2023-07-26T16:20:46.291Z"
   },
   {
    "duration": 25,
    "start_time": "2023-07-26T16:20:46.333Z"
   },
   {
    "duration": 29,
    "start_time": "2023-07-26T16:20:46.359Z"
   },
   {
    "duration": 26,
    "start_time": "2023-07-26T16:20:46.389Z"
   },
   {
    "duration": 1617,
    "start_time": "2023-07-26T18:08:22.534Z"
   },
   {
    "duration": 4359,
    "start_time": "2023-07-26T18:08:53.167Z"
   },
   {
    "duration": 468,
    "start_time": "2023-07-26T18:08:57.529Z"
   },
   {
    "duration": 67,
    "start_time": "2023-07-26T18:08:57.998Z"
   },
   {
    "duration": 38,
    "start_time": "2023-07-26T18:08:58.066Z"
   },
   {
    "duration": 63,
    "start_time": "2023-07-26T18:08:58.105Z"
   },
   {
    "duration": 44,
    "start_time": "2023-07-26T18:08:58.170Z"
   },
   {
    "duration": 18,
    "start_time": "2023-07-26T18:08:58.217Z"
   },
   {
    "duration": 85,
    "start_time": "2023-07-26T18:08:58.237Z"
   },
   {
    "duration": 14,
    "start_time": "2023-07-26T18:08:58.324Z"
   },
   {
    "duration": 5,
    "start_time": "2023-07-26T18:08:58.340Z"
   },
   {
    "duration": 37,
    "start_time": "2023-07-26T18:08:58.346Z"
   },
   {
    "duration": 23,
    "start_time": "2023-07-26T18:08:58.385Z"
   },
   {
    "duration": 36,
    "start_time": "2023-07-26T18:08:58.409Z"
   },
   {
    "duration": 22,
    "start_time": "2023-07-26T18:08:58.447Z"
   },
   {
    "duration": 927,
    "start_time": "2023-07-26T18:08:58.470Z"
   },
   {
    "duration": 18,
    "start_time": "2023-07-26T18:08:59.399Z"
   },
   {
    "duration": 118,
    "start_time": "2023-07-26T18:08:59.418Z"
   },
   {
    "duration": 110,
    "start_time": "2023-07-26T18:08:59.538Z"
   },
   {
    "duration": 110,
    "start_time": "2023-07-26T18:08:59.649Z"
   },
   {
    "duration": 8,
    "start_time": "2023-07-26T18:08:59.761Z"
   },
   {
    "duration": 57,
    "start_time": "2023-07-26T18:08:59.771Z"
   },
   {
    "duration": 451,
    "start_time": "2023-07-26T18:08:59.830Z"
   },
   {
    "duration": 19,
    "start_time": "2023-07-26T18:09:00.282Z"
   },
   {
    "duration": 74,
    "start_time": "2023-07-26T18:09:00.302Z"
   },
   {
    "duration": 769,
    "start_time": "2023-07-26T18:09:00.377Z"
   },
   {
    "duration": 28,
    "start_time": "2023-07-26T18:09:01.147Z"
   },
   {
    "duration": 47,
    "start_time": "2023-07-26T18:09:01.176Z"
   },
   {
    "duration": 156,
    "start_time": "2023-07-26T18:09:01.226Z"
   },
   {
    "duration": 3,
    "start_time": "2023-07-26T18:09:01.384Z"
   },
   {
    "duration": 39,
    "start_time": "2023-07-26T18:09:01.388Z"
   },
   {
    "duration": 61,
    "start_time": "2023-07-26T18:09:01.429Z"
   },
   {
    "duration": 110,
    "start_time": "2023-07-26T18:09:01.492Z"
   },
   {
    "duration": 32,
    "start_time": "2023-07-26T18:09:01.603Z"
   },
   {
    "duration": 45,
    "start_time": "2023-07-26T18:09:01.637Z"
   },
   {
    "duration": 38,
    "start_time": "2023-07-26T18:09:01.683Z"
   },
   {
    "duration": 32,
    "start_time": "2023-07-26T18:09:01.723Z"
   },
   {
    "duration": 61,
    "start_time": "2023-07-26T18:09:01.757Z"
   },
   {
    "duration": 37,
    "start_time": "2023-07-26T18:09:01.820Z"
   },
   {
    "duration": 49,
    "start_time": "2023-07-26T18:09:01.858Z"
   },
   {
    "duration": 32,
    "start_time": "2023-07-26T18:09:01.908Z"
   },
   {
    "duration": 37,
    "start_time": "2023-07-26T18:09:01.941Z"
   },
   {
    "duration": 23,
    "start_time": "2023-07-26T18:09:01.980Z"
   },
   {
    "duration": 37,
    "start_time": "2023-07-26T18:09:02.004Z"
   },
   {
    "duration": 45,
    "start_time": "2023-07-26T18:09:02.043Z"
   },
   {
    "duration": 1506,
    "start_time": "2023-07-26T18:09:02.090Z"
   },
   {
    "duration": 6,
    "start_time": "2023-07-26T18:09:03.599Z"
   },
   {
    "duration": 582,
    "start_time": "2023-07-26T18:09:03.606Z"
   },
   {
    "duration": 12,
    "start_time": "2023-07-26T18:09:04.189Z"
   },
   {
    "duration": 20,
    "start_time": "2023-07-26T18:09:04.202Z"
   },
   {
    "duration": 13,
    "start_time": "2023-07-26T18:09:04.223Z"
   },
   {
    "duration": 13,
    "start_time": "2023-07-26T18:09:04.237Z"
   },
   {
    "duration": 3,
    "start_time": "2023-07-26T18:10:23.658Z"
   },
   {
    "duration": 3,
    "start_time": "2023-07-26T18:11:43.095Z"
   },
   {
    "duration": 3,
    "start_time": "2023-07-26T18:11:44.063Z"
   },
   {
    "duration": 45229,
    "start_time": "2023-07-26T18:11:44.775Z"
   },
   {
    "duration": 4,
    "start_time": "2023-07-26T18:12:36.833Z"
   },
   {
    "duration": 3,
    "start_time": "2023-07-26T18:15:44.352Z"
   },
   {
    "duration": 4,
    "start_time": "2023-07-26T18:19:43.657Z"
   },
   {
    "duration": 4,
    "start_time": "2023-07-26T18:19:49.294Z"
   },
   {
    "duration": 16238,
    "start_time": "2023-07-26T18:19:52.329Z"
   },
   {
    "duration": 4,
    "start_time": "2023-07-26T18:20:17.945Z"
   },
   {
    "duration": 3966,
    "start_time": "2023-07-26T19:02:49.307Z"
   },
   {
    "duration": 4,
    "start_time": "2023-07-26T19:02:56.153Z"
   },
   {
    "duration": 3,
    "start_time": "2023-07-26T19:03:00.404Z"
   },
   {
    "duration": 3,
    "start_time": "2023-07-26T19:03:01.648Z"
   },
   {
    "duration": 44895,
    "start_time": "2023-07-26T19:03:03.351Z"
   },
   {
    "duration": 4,
    "start_time": "2023-07-26T19:03:52.634Z"
   },
   {
    "duration": 4,
    "start_time": "2023-07-26T20:07:36.907Z"
   },
   {
    "duration": 11,
    "start_time": "2023-07-26T20:08:55.908Z"
   },
   {
    "duration": 3,
    "start_time": "2023-07-26T20:09:12.309Z"
   },
   {
    "duration": 4,
    "start_time": "2023-07-26T20:09:55.920Z"
   },
   {
    "duration": 3,
    "start_time": "2023-07-26T20:10:06.704Z"
   },
   {
    "duration": 2,
    "start_time": "2023-07-26T20:10:37.464Z"
   },
   {
    "duration": 25,
    "start_time": "2023-07-26T20:10:39.500Z"
   },
   {
    "duration": 3,
    "start_time": "2023-07-26T20:11:38.806Z"
   },
   {
    "duration": 2,
    "start_time": "2023-07-26T20:11:42.208Z"
   },
   {
    "duration": 31,
    "start_time": "2023-07-26T20:11:43.944Z"
   },
   {
    "duration": 3,
    "start_time": "2023-07-26T20:12:02.386Z"
   },
   {
    "duration": 2,
    "start_time": "2023-07-26T20:12:04.725Z"
   },
   {
    "duration": 26,
    "start_time": "2023-07-26T20:12:06.101Z"
   },
   {
    "duration": 2,
    "start_time": "2023-07-26T20:13:21.438Z"
   },
   {
    "duration": 2,
    "start_time": "2023-07-26T20:13:22.674Z"
   },
   {
    "duration": 534,
    "start_time": "2023-07-26T20:13:24.401Z"
   },
   {
    "duration": 3,
    "start_time": "2023-07-26T20:13:57.939Z"
   },
   {
    "duration": 3,
    "start_time": "2023-07-26T20:13:59.625Z"
   },
   {
    "duration": 21,
    "start_time": "2023-07-26T20:14:01.020Z"
   },
   {
    "duration": 27,
    "start_time": "2023-07-26T20:14:17.135Z"
   },
   {
    "duration": 3,
    "start_time": "2023-07-26T20:20:49.977Z"
   },
   {
    "duration": 4,
    "start_time": "2023-07-26T20:22:07.234Z"
   },
   {
    "duration": 3,
    "start_time": "2023-07-26T20:22:08.935Z"
   },
   {
    "duration": 16305,
    "start_time": "2023-07-26T20:22:11.096Z"
   },
   {
    "duration": 80,
    "start_time": "2023-07-26T20:24:56.702Z"
   },
   {
    "duration": 93,
    "start_time": "2023-07-26T20:25:42.646Z"
   },
   {
    "duration": 111,
    "start_time": "2023-07-26T20:26:52.244Z"
   },
   {
    "duration": 3,
    "start_time": "2023-07-26T20:27:44.599Z"
   },
   {
    "duration": 3,
    "start_time": "2023-07-26T20:28:53.051Z"
   },
   {
    "duration": 3,
    "start_time": "2023-07-26T20:28:54.841Z"
   },
   {
    "duration": 44117,
    "start_time": "2023-07-26T20:28:57.120Z"
   },
   {
    "duration": 3,
    "start_time": "2023-07-26T20:30:09.111Z"
   },
   {
    "duration": 3,
    "start_time": "2023-07-26T20:33:44.244Z"
   },
   {
    "duration": 39272,
    "start_time": "2023-07-26T20:33:45.935Z"
   },
   {
    "duration": 3,
    "start_time": "2023-07-26T20:34:27.190Z"
   },
   {
    "duration": 3,
    "start_time": "2023-07-26T20:34:28.262Z"
   },
   {
    "duration": 42589,
    "start_time": "2023-07-26T20:34:29.204Z"
   },
   {
    "duration": 3,
    "start_time": "2023-07-26T20:35:54.878Z"
   },
   {
    "duration": 3,
    "start_time": "2023-07-26T20:36:19.522Z"
   },
   {
    "duration": 111,
    "start_time": "2023-07-26T20:38:46.813Z"
   },
   {
    "duration": 13,
    "start_time": "2023-07-26T20:41:53.387Z"
   },
   {
    "duration": 1922,
    "start_time": "2023-07-26T20:42:10.468Z"
   },
   {
    "duration": 6,
    "start_time": "2023-07-26T20:42:12.393Z"
   },
   {
    "duration": 85,
    "start_time": "2023-07-26T20:42:12.401Z"
   },
   {
    "duration": 62,
    "start_time": "2023-07-26T20:42:12.487Z"
   },
   {
    "duration": 79,
    "start_time": "2023-07-26T20:42:12.551Z"
   },
   {
    "duration": 37,
    "start_time": "2023-07-26T20:42:12.631Z"
   },
   {
    "duration": 11,
    "start_time": "2023-07-26T20:42:12.669Z"
   },
   {
    "duration": 86,
    "start_time": "2023-07-26T20:42:12.681Z"
   },
   {
    "duration": 15,
    "start_time": "2023-07-26T20:42:12.769Z"
   },
   {
    "duration": 14,
    "start_time": "2023-07-26T20:42:12.787Z"
   },
   {
    "duration": 22,
    "start_time": "2023-07-26T20:42:12.803Z"
   },
   {
    "duration": 28,
    "start_time": "2023-07-26T20:42:12.827Z"
   },
   {
    "duration": 30,
    "start_time": "2023-07-26T20:42:12.856Z"
   },
   {
    "duration": 22,
    "start_time": "2023-07-26T20:42:12.887Z"
   },
   {
    "duration": 1026,
    "start_time": "2023-07-26T20:42:12.911Z"
   },
   {
    "duration": 17,
    "start_time": "2023-07-26T20:42:13.938Z"
   },
   {
    "duration": 117,
    "start_time": "2023-07-26T20:42:13.961Z"
   },
   {
    "duration": 139,
    "start_time": "2023-07-26T20:42:14.080Z"
   },
   {
    "duration": 113,
    "start_time": "2023-07-26T20:42:14.221Z"
   },
   {
    "duration": 8,
    "start_time": "2023-07-26T20:42:14.335Z"
   },
   {
    "duration": 75,
    "start_time": "2023-07-26T20:42:14.344Z"
   },
   {
    "duration": 458,
    "start_time": "2023-07-26T20:42:14.421Z"
   },
   {
    "duration": 9,
    "start_time": "2023-07-26T20:42:14.881Z"
   },
   {
    "duration": 71,
    "start_time": "2023-07-26T20:42:14.900Z"
   },
   {
    "duration": 762,
    "start_time": "2023-07-26T20:42:14.973Z"
   },
   {
    "duration": 25,
    "start_time": "2023-07-26T20:42:15.737Z"
   },
   {
    "duration": 3,
    "start_time": "2023-07-26T20:42:15.764Z"
   },
   {
    "duration": 109,
    "start_time": "2023-07-26T20:42:15.771Z"
   },
   {
    "duration": 4,
    "start_time": "2023-07-26T20:42:15.882Z"
   },
   {
    "duration": 19,
    "start_time": "2023-07-26T20:42:15.888Z"
   },
   {
    "duration": 12,
    "start_time": "2023-07-26T20:42:15.908Z"
   },
   {
    "duration": 12,
    "start_time": "2023-07-26T20:42:15.922Z"
   },
   {
    "duration": 33,
    "start_time": "2023-07-26T20:42:15.936Z"
   },
   {
    "duration": 31,
    "start_time": "2023-07-26T20:42:15.971Z"
   },
   {
    "duration": 22,
    "start_time": "2023-07-26T20:42:16.006Z"
   },
   {
    "duration": 20,
    "start_time": "2023-07-26T20:42:16.030Z"
   },
   {
    "duration": 29,
    "start_time": "2023-07-26T20:42:16.052Z"
   },
   {
    "duration": 26,
    "start_time": "2023-07-26T20:42:16.083Z"
   },
   {
    "duration": 40,
    "start_time": "2023-07-26T20:42:16.111Z"
   },
   {
    "duration": 177,
    "start_time": "2023-07-26T20:42:16.153Z"
   },
   {
    "duration": 0,
    "start_time": "2023-07-26T20:43:48.817Z"
   },
   {
    "duration": 1954,
    "start_time": "2023-07-26T20:44:25.804Z"
   },
   {
    "duration": 1272,
    "start_time": "2023-07-26T20:44:27.760Z"
   },
   {
    "duration": 60,
    "start_time": "2023-07-26T20:44:29.033Z"
   },
   {
    "duration": 53,
    "start_time": "2023-07-26T20:44:29.095Z"
   },
   {
    "duration": 53,
    "start_time": "2023-07-26T20:44:29.150Z"
   },
   {
    "duration": 41,
    "start_time": "2023-07-26T20:44:29.205Z"
   },
   {
    "duration": 12,
    "start_time": "2023-07-26T20:44:29.247Z"
   },
   {
    "duration": 58,
    "start_time": "2023-07-26T20:44:29.260Z"
   },
   {
    "duration": 14,
    "start_time": "2023-07-26T20:44:29.319Z"
   },
   {
    "duration": 6,
    "start_time": "2023-07-26T20:44:29.335Z"
   },
   {
    "duration": 10,
    "start_time": "2023-07-26T20:44:29.342Z"
   },
   {
    "duration": 7,
    "start_time": "2023-07-26T20:44:29.354Z"
   },
   {
    "duration": 13,
    "start_time": "2023-07-26T20:44:29.362Z"
   },
   {
    "duration": 24,
    "start_time": "2023-07-26T20:44:29.376Z"
   },
   {
    "duration": 858,
    "start_time": "2023-07-26T20:44:29.401Z"
   },
   {
    "duration": 17,
    "start_time": "2023-07-26T20:44:30.260Z"
   },
   {
    "duration": 131,
    "start_time": "2023-07-26T20:44:30.278Z"
   },
   {
    "duration": 103,
    "start_time": "2023-07-26T20:44:30.410Z"
   },
   {
    "duration": 117,
    "start_time": "2023-07-26T20:44:30.514Z"
   },
   {
    "duration": 8,
    "start_time": "2023-07-26T20:44:30.632Z"
   },
   {
    "duration": 72,
    "start_time": "2023-07-26T20:44:30.641Z"
   },
   {
    "duration": 424,
    "start_time": "2023-07-26T20:44:30.714Z"
   },
   {
    "duration": 9,
    "start_time": "2023-07-26T20:44:31.139Z"
   },
   {
    "duration": 65,
    "start_time": "2023-07-26T20:44:31.150Z"
   },
   {
    "duration": 757,
    "start_time": "2023-07-26T20:44:31.216Z"
   },
   {
    "duration": 35,
    "start_time": "2023-07-26T20:44:31.975Z"
   },
   {
    "duration": 9,
    "start_time": "2023-07-26T20:44:32.011Z"
   },
   {
    "duration": 112,
    "start_time": "2023-07-26T20:44:32.023Z"
   },
   {
    "duration": 3,
    "start_time": "2023-07-26T20:44:32.137Z"
   },
   {
    "duration": 27,
    "start_time": "2023-07-26T20:44:32.141Z"
   },
   {
    "duration": 14,
    "start_time": "2023-07-26T20:44:32.170Z"
   },
   {
    "duration": 21,
    "start_time": "2023-07-26T20:44:32.186Z"
   },
   {
    "duration": 23,
    "start_time": "2023-07-26T20:44:32.208Z"
   },
   {
    "duration": 15,
    "start_time": "2023-07-26T20:44:32.233Z"
   },
   {
    "duration": 21,
    "start_time": "2023-07-26T20:44:32.249Z"
   },
   {
    "duration": 11,
    "start_time": "2023-07-26T20:44:32.272Z"
   },
   {
    "duration": 23,
    "start_time": "2023-07-26T20:44:32.284Z"
   },
   {
    "duration": 8,
    "start_time": "2023-07-26T20:44:32.308Z"
   },
   {
    "duration": 26,
    "start_time": "2023-07-26T20:44:32.318Z"
   },
   {
    "duration": 20,
    "start_time": "2023-07-26T20:44:32.346Z"
   },
   {
    "duration": 103159,
    "start_time": "2023-07-26T20:44:32.367Z"
   },
   {
    "duration": 129,
    "start_time": "2023-07-26T20:48:39.195Z"
   },
   {
    "duration": 14,
    "start_time": "2023-07-26T20:48:52.783Z"
   },
   {
    "duration": 4120,
    "start_time": "2023-07-26T20:49:01.366Z"
   },
   {
    "duration": 1117,
    "start_time": "2023-07-26T20:49:42.764Z"
   },
   {
    "duration": 1320,
    "start_time": "2023-07-26T20:50:03.814Z"
   },
   {
    "duration": 1338,
    "start_time": "2023-07-26T20:50:13.847Z"
   },
   {
    "duration": 1507,
    "start_time": "2023-07-26T20:50:24.267Z"
   },
   {
    "duration": 1979,
    "start_time": "2023-07-26T20:50:35.328Z"
   },
   {
    "duration": 1583,
    "start_time": "2023-07-26T20:50:44.402Z"
   },
   {
    "duration": 2598,
    "start_time": "2023-07-26T20:50:54.935Z"
   },
   {
    "duration": 1458,
    "start_time": "2023-07-26T20:51:09.396Z"
   },
   {
    "duration": 105,
    "start_time": "2023-07-26T21:19:39.688Z"
   },
   {
    "duration": 10,
    "start_time": "2023-07-26T21:23:33.112Z"
   },
   {
    "duration": 1939,
    "start_time": "2023-07-26T21:23:48.743Z"
   },
   {
    "duration": 4,
    "start_time": "2023-07-26T21:23:50.684Z"
   },
   {
    "duration": 125,
    "start_time": "2023-07-26T21:23:50.690Z"
   },
   {
    "duration": 49,
    "start_time": "2023-07-26T21:23:50.817Z"
   },
   {
    "duration": 43,
    "start_time": "2023-07-26T21:23:50.868Z"
   },
   {
    "duration": 97,
    "start_time": "2023-07-26T21:23:50.912Z"
   },
   {
    "duration": 9,
    "start_time": "2023-07-26T21:23:51.010Z"
   },
   {
    "duration": 76,
    "start_time": "2023-07-26T21:23:51.021Z"
   },
   {
    "duration": 13,
    "start_time": "2023-07-26T21:23:51.099Z"
   },
   {
    "duration": 4,
    "start_time": "2023-07-26T21:23:51.115Z"
   },
   {
    "duration": 13,
    "start_time": "2023-07-26T21:23:51.121Z"
   },
   {
    "duration": 20,
    "start_time": "2023-07-26T21:23:51.136Z"
   },
   {
    "duration": 34,
    "start_time": "2023-07-26T21:23:51.158Z"
   },
   {
    "duration": 17,
    "start_time": "2023-07-26T21:23:51.194Z"
   },
   {
    "duration": 731,
    "start_time": "2023-07-26T21:23:51.213Z"
   },
   {
    "duration": 17,
    "start_time": "2023-07-26T21:23:51.946Z"
   },
   {
    "duration": 109,
    "start_time": "2023-07-26T21:23:51.964Z"
   },
   {
    "duration": 103,
    "start_time": "2023-07-26T21:23:52.075Z"
   },
   {
    "duration": 109,
    "start_time": "2023-07-26T21:23:52.179Z"
   },
   {
    "duration": 11,
    "start_time": "2023-07-26T21:23:52.289Z"
   },
   {
    "duration": 43,
    "start_time": "2023-07-26T21:23:52.301Z"
   },
   {
    "duration": 548,
    "start_time": "2023-07-26T21:23:52.345Z"
   },
   {
    "duration": 10,
    "start_time": "2023-07-26T21:23:52.895Z"
   },
   {
    "duration": 49,
    "start_time": "2023-07-26T21:23:52.907Z"
   },
   {
    "duration": 642,
    "start_time": "2023-07-26T21:23:52.958Z"
   },
   {
    "duration": 25,
    "start_time": "2023-07-26T21:23:53.602Z"
   },
   {
    "duration": 6,
    "start_time": "2023-07-26T21:23:53.628Z"
   },
   {
    "duration": 106,
    "start_time": "2023-07-26T21:23:53.637Z"
   },
   {
    "duration": 3,
    "start_time": "2023-07-26T21:23:53.745Z"
   },
   {
    "duration": 12,
    "start_time": "2023-07-26T21:23:53.749Z"
   },
   {
    "duration": 59,
    "start_time": "2023-07-26T21:23:53.763Z"
   },
   {
    "duration": 72,
    "start_time": "2023-07-26T21:23:53.824Z"
   },
   {
    "duration": 82,
    "start_time": "2023-07-26T21:23:53.897Z"
   },
   {
    "duration": 14,
    "start_time": "2023-07-26T21:23:53.980Z"
   },
   {
    "duration": 16,
    "start_time": "2023-07-26T21:23:53.995Z"
   },
   {
    "duration": 19,
    "start_time": "2023-07-26T21:23:54.012Z"
   },
   {
    "duration": 14,
    "start_time": "2023-07-26T21:23:54.032Z"
   },
   {
    "duration": 15,
    "start_time": "2023-07-26T21:23:54.047Z"
   },
   {
    "duration": 15,
    "start_time": "2023-07-26T21:23:54.064Z"
   },
   {
    "duration": 24,
    "start_time": "2023-07-26T21:23:54.081Z"
   },
   {
    "duration": 1476,
    "start_time": "2023-07-26T21:23:54.107Z"
   },
   {
    "duration": 6,
    "start_time": "2023-07-26T21:23:55.584Z"
   },
   {
    "duration": 3,
    "start_time": "2023-07-26T21:23:55.599Z"
   },
   {
    "duration": 10,
    "start_time": "2023-07-26T21:23:55.604Z"
   },
   {
    "duration": 4,
    "start_time": "2023-07-26T21:23:55.615Z"
   },
   {
    "duration": 1330,
    "start_time": "2023-07-26T21:23:55.621Z"
   },
   {
    "duration": 6,
    "start_time": "2023-07-26T21:23:56.953Z"
   },
   {
    "duration": 575,
    "start_time": "2023-07-26T21:23:56.960Z"
   },
   {
    "duration": 7,
    "start_time": "2023-07-26T21:23:57.537Z"
   },
   {
    "duration": 8,
    "start_time": "2023-07-26T21:23:57.546Z"
   },
   {
    "duration": 4,
    "start_time": "2023-07-26T21:23:57.556Z"
   },
   {
    "duration": 10,
    "start_time": "2023-07-26T21:23:57.561Z"
   },
   {
    "duration": 5,
    "start_time": "2023-07-26T21:23:57.572Z"
   },
   {
    "duration": 38285,
    "start_time": "2023-07-26T21:23:57.579Z"
   },
   {
    "duration": 4,
    "start_time": "2023-07-26T21:24:35.865Z"
   },
   {
    "duration": 9,
    "start_time": "2023-07-26T21:24:35.870Z"
   },
   {
    "duration": 21,
    "start_time": "2023-07-26T21:24:35.881Z"
   },
   {
    "duration": 27,
    "start_time": "2023-07-26T21:24:35.904Z"
   },
   {
    "duration": 20780,
    "start_time": "2023-07-26T21:24:35.933Z"
   },
   {
    "duration": 3,
    "start_time": "2023-07-26T21:24:56.714Z"
   },
   {
    "duration": 24,
    "start_time": "2023-07-26T21:24:56.718Z"
   },
   {
    "duration": 15,
    "start_time": "2023-07-26T21:24:56.743Z"
   },
   {
    "duration": 10,
    "start_time": "2023-07-26T21:25:04.601Z"
   },
   {
    "duration": 11,
    "start_time": "2023-07-26T21:32:45.719Z"
   },
   {
    "duration": 2,
    "start_time": "2023-07-26T21:34:50.925Z"
   },
   {
    "duration": 13471,
    "start_time": "2023-07-26T21:35:03.916Z"
   },
   {
    "duration": 3,
    "start_time": "2023-07-26T21:36:44.042Z"
   },
   {
    "duration": 6227,
    "start_time": "2023-07-26T21:36:45.854Z"
   },
   {
    "duration": 9,
    "start_time": "2023-07-26T21:37:21.397Z"
   },
   {
    "duration": 4,
    "start_time": "2023-07-26T21:37:43.280Z"
   },
   {
    "duration": 1208,
    "start_time": "2023-07-26T21:37:51.309Z"
   },
   {
    "duration": 3,
    "start_time": "2023-07-26T21:42:46.406Z"
   },
   {
    "duration": 1717,
    "start_time": "2023-07-26T21:42:48.232Z"
   },
   {
    "duration": 2,
    "start_time": "2023-07-26T21:43:08.057Z"
   },
   {
    "duration": 6390,
    "start_time": "2023-07-26T21:43:09.257Z"
   },
   {
    "duration": 11,
    "start_time": "2023-07-26T21:43:44.685Z"
   },
   {
    "duration": 4,
    "start_time": "2023-07-26T21:47:35.524Z"
   },
   {
    "duration": 3,
    "start_time": "2023-07-26T21:56:15.451Z"
   },
   {
    "duration": 8,
    "start_time": "2023-07-26T21:57:56.300Z"
   },
   {
    "duration": 4,
    "start_time": "2023-07-26T21:58:21.288Z"
   },
   {
    "duration": 11,
    "start_time": "2023-07-26T21:59:15.924Z"
   },
   {
    "duration": 21,
    "start_time": "2023-07-26T21:59:26.185Z"
   },
   {
    "duration": 9165,
    "start_time": "2023-07-26T22:02:12.400Z"
   },
   {
    "duration": 8288,
    "start_time": "2023-07-26T22:02:54.012Z"
   },
   {
    "duration": 200,
    "start_time": "2023-07-26T22:04:00.386Z"
   },
   {
    "duration": 4,
    "start_time": "2023-07-26T22:04:03.428Z"
   },
   {
    "duration": 6,
    "start_time": "2023-07-26T22:04:22.616Z"
   },
   {
    "duration": 177,
    "start_time": "2023-07-26T22:08:42.967Z"
   },
   {
    "duration": 4,
    "start_time": "2023-07-26T22:13:01.190Z"
   },
   {
    "duration": 4,
    "start_time": "2023-07-26T22:14:37.805Z"
   },
   {
    "duration": 7,
    "start_time": "2023-07-26T22:17:04.996Z"
   },
   {
    "duration": 198,
    "start_time": "2023-07-26T22:17:35.287Z"
   },
   {
    "duration": 183,
    "start_time": "2023-07-26T22:18:23.095Z"
   },
   {
    "duration": 178,
    "start_time": "2023-07-26T22:21:14.290Z"
   },
   {
    "duration": 4,
    "start_time": "2023-07-26T22:29:48.907Z"
   },
   {
    "duration": 4,
    "start_time": "2023-07-26T22:31:33.377Z"
   },
   {
    "duration": 3,
    "start_time": "2023-07-26T22:31:41.204Z"
   },
   {
    "duration": 3,
    "start_time": "2023-07-26T22:32:26.504Z"
   },
   {
    "duration": 4,
    "start_time": "2023-07-26T22:32:32.228Z"
   },
   {
    "duration": 142,
    "start_time": "2023-07-26T22:38:39.593Z"
   },
   {
    "duration": 1981,
    "start_time": "2023-07-26T22:43:12.794Z"
   },
   {
    "duration": 1374,
    "start_time": "2023-07-26T22:43:14.777Z"
   },
   {
    "duration": 56,
    "start_time": "2023-07-26T22:43:16.152Z"
   },
   {
    "duration": 48,
    "start_time": "2023-07-26T22:43:16.210Z"
   },
   {
    "duration": 48,
    "start_time": "2023-07-26T22:43:16.260Z"
   },
   {
    "duration": 37,
    "start_time": "2023-07-26T22:43:16.309Z"
   },
   {
    "duration": 12,
    "start_time": "2023-07-26T22:43:16.347Z"
   },
   {
    "duration": 71,
    "start_time": "2023-07-26T22:43:16.360Z"
   },
   {
    "duration": 13,
    "start_time": "2023-07-26T22:43:16.432Z"
   },
   {
    "duration": 12,
    "start_time": "2023-07-26T22:43:16.447Z"
   },
   {
    "duration": 15,
    "start_time": "2023-07-26T22:43:16.460Z"
   },
   {
    "duration": 10,
    "start_time": "2023-07-26T22:43:16.476Z"
   },
   {
    "duration": 21,
    "start_time": "2023-07-26T22:43:16.487Z"
   },
   {
    "duration": 14,
    "start_time": "2023-07-26T22:43:16.511Z"
   },
   {
    "duration": 861,
    "start_time": "2023-07-26T22:43:16.526Z"
   },
   {
    "duration": 25,
    "start_time": "2023-07-26T22:43:17.388Z"
   },
   {
    "duration": 114,
    "start_time": "2023-07-26T22:43:17.414Z"
   },
   {
    "duration": 105,
    "start_time": "2023-07-26T22:43:17.529Z"
   },
   {
    "duration": 101,
    "start_time": "2023-07-26T22:43:17.635Z"
   },
   {
    "duration": 8,
    "start_time": "2023-07-26T22:43:17.738Z"
   },
   {
    "duration": 55,
    "start_time": "2023-07-26T22:43:17.747Z"
   },
   {
    "duration": 427,
    "start_time": "2023-07-26T22:43:17.803Z"
   },
   {
    "duration": 8,
    "start_time": "2023-07-26T22:43:18.232Z"
   },
   {
    "duration": 63,
    "start_time": "2023-07-26T22:43:18.241Z"
   },
   {
    "duration": 696,
    "start_time": "2023-07-26T22:43:18.306Z"
   },
   {
    "duration": 25,
    "start_time": "2023-07-26T22:43:19.003Z"
   },
   {
    "duration": 4,
    "start_time": "2023-07-26T22:43:19.029Z"
   },
   {
    "duration": 103,
    "start_time": "2023-07-26T22:43:19.034Z"
   },
   {
    "duration": 3,
    "start_time": "2023-07-26T22:43:19.139Z"
   },
   {
    "duration": 15,
    "start_time": "2023-07-26T22:43:19.143Z"
   },
   {
    "duration": 11,
    "start_time": "2023-07-26T22:43:19.159Z"
   },
   {
    "duration": 13,
    "start_time": "2023-07-26T22:43:19.171Z"
   },
   {
    "duration": 24,
    "start_time": "2023-07-26T22:43:19.186Z"
   },
   {
    "duration": 8,
    "start_time": "2023-07-26T22:43:19.211Z"
   },
   {
    "duration": 14,
    "start_time": "2023-07-26T22:43:19.221Z"
   },
   {
    "duration": 10,
    "start_time": "2023-07-26T22:43:19.236Z"
   },
   {
    "duration": 14,
    "start_time": "2023-07-26T22:43:19.247Z"
   },
   {
    "duration": 7,
    "start_time": "2023-07-26T22:43:19.263Z"
   },
   {
    "duration": 13,
    "start_time": "2023-07-26T22:43:19.299Z"
   },
   {
    "duration": 17,
    "start_time": "2023-07-26T22:43:19.314Z"
   },
   {
    "duration": 1415,
    "start_time": "2023-07-26T22:43:19.335Z"
   },
   {
    "duration": 4,
    "start_time": "2023-07-26T22:43:20.752Z"
   },
   {
    "duration": 14,
    "start_time": "2023-07-26T22:43:20.757Z"
   },
   {
    "duration": 8,
    "start_time": "2023-07-26T22:43:20.773Z"
   },
   {
    "duration": 6,
    "start_time": "2023-07-26T22:43:20.783Z"
   },
   {
    "duration": 1404,
    "start_time": "2023-07-26T22:43:20.790Z"
   },
   {
    "duration": 8,
    "start_time": "2023-07-26T22:43:22.195Z"
   },
   {
    "duration": 669,
    "start_time": "2023-07-26T22:43:22.204Z"
   },
   {
    "duration": 8,
    "start_time": "2023-07-26T22:43:22.874Z"
   },
   {
    "duration": 18,
    "start_time": "2023-07-26T22:43:22.883Z"
   },
   {
    "duration": 2,
    "start_time": "2023-07-26T22:43:22.902Z"
   },
   {
    "duration": 10,
    "start_time": "2023-07-26T22:43:22.906Z"
   },
   {
    "duration": 7,
    "start_time": "2023-07-26T22:43:22.917Z"
   },
   {
    "duration": 39404,
    "start_time": "2023-07-26T22:43:22.925Z"
   },
   {
    "duration": 4,
    "start_time": "2023-07-26T22:44:02.331Z"
   },
   {
    "duration": 35,
    "start_time": "2023-07-26T22:44:02.336Z"
   },
   {
    "duration": 27,
    "start_time": "2023-07-26T22:44:02.372Z"
   },
   {
    "duration": 43,
    "start_time": "2023-07-26T22:44:02.401Z"
   },
   {
    "duration": 20471,
    "start_time": "2023-07-26T22:44:02.446Z"
   },
   {
    "duration": 3,
    "start_time": "2023-07-26T22:44:22.919Z"
   },
   {
    "duration": 10,
    "start_time": "2023-07-26T22:44:22.923Z"
   },
   {
    "duration": 18,
    "start_time": "2023-07-26T22:44:22.934Z"
   },
   {
    "duration": 7815,
    "start_time": "2023-07-26T22:44:22.953Z"
   },
   {
    "duration": 196,
    "start_time": "2023-07-26T22:44:30.770Z"
   },
   {
    "duration": 4,
    "start_time": "2023-07-26T22:44:30.967Z"
   },
   {
    "duration": 70,
    "start_time": "2023-07-26T22:44:30.973Z"
   },
   {
    "duration": 258,
    "start_time": "2023-07-26T22:44:31.044Z"
   },
   {
    "duration": 258,
    "start_time": "2023-07-26T22:44:51.373Z"
   },
   {
    "duration": 2028,
    "start_time": "2023-07-26T22:51:09.314Z"
   },
   {
    "duration": 1493,
    "start_time": "2023-07-26T22:51:11.344Z"
   },
   {
    "duration": 66,
    "start_time": "2023-07-26T22:51:12.838Z"
   },
   {
    "duration": 47,
    "start_time": "2023-07-26T22:51:12.906Z"
   },
   {
    "duration": 56,
    "start_time": "2023-07-26T22:51:12.955Z"
   },
   {
    "duration": 45,
    "start_time": "2023-07-26T22:51:13.012Z"
   },
   {
    "duration": 13,
    "start_time": "2023-07-26T22:51:13.059Z"
   },
   {
    "duration": 61,
    "start_time": "2023-07-26T22:51:13.074Z"
   },
   {
    "duration": 13,
    "start_time": "2023-07-26T22:51:13.137Z"
   },
   {
    "duration": 4,
    "start_time": "2023-07-26T22:51:13.151Z"
   },
   {
    "duration": 7,
    "start_time": "2023-07-26T22:51:13.157Z"
   },
   {
    "duration": 7,
    "start_time": "2023-07-26T22:51:13.165Z"
   },
   {
    "duration": 32,
    "start_time": "2023-07-26T22:51:13.173Z"
   },
   {
    "duration": 10,
    "start_time": "2023-07-26T22:51:13.209Z"
   },
   {
    "duration": 903,
    "start_time": "2023-07-26T22:51:13.221Z"
   },
   {
    "duration": 16,
    "start_time": "2023-07-26T22:51:14.126Z"
   },
   {
    "duration": 112,
    "start_time": "2023-07-26T22:51:14.143Z"
   },
   {
    "duration": 107,
    "start_time": "2023-07-26T22:51:14.256Z"
   },
   {
    "duration": 107,
    "start_time": "2023-07-26T22:51:14.365Z"
   },
   {
    "duration": 8,
    "start_time": "2023-07-26T22:51:14.474Z"
   },
   {
    "duration": 53,
    "start_time": "2023-07-26T22:51:14.483Z"
   },
   {
    "duration": 407,
    "start_time": "2023-07-26T22:51:14.537Z"
   },
   {
    "duration": 9,
    "start_time": "2023-07-26T22:51:14.946Z"
   },
   {
    "duration": 72,
    "start_time": "2023-07-26T22:51:14.957Z"
   },
   {
    "duration": 768,
    "start_time": "2023-07-26T22:51:15.031Z"
   },
   {
    "duration": 26,
    "start_time": "2023-07-26T22:51:15.801Z"
   },
   {
    "duration": 3,
    "start_time": "2023-07-26T22:51:15.829Z"
   },
   {
    "duration": 106,
    "start_time": "2023-07-26T22:51:15.834Z"
   },
   {
    "duration": 3,
    "start_time": "2023-07-26T22:51:15.943Z"
   },
   {
    "duration": 16,
    "start_time": "2023-07-26T22:51:15.948Z"
   },
   {
    "duration": 16,
    "start_time": "2023-07-26T22:51:15.966Z"
   },
   {
    "duration": 12,
    "start_time": "2023-07-26T22:51:16.000Z"
   },
   {
    "duration": 24,
    "start_time": "2023-07-26T22:51:16.014Z"
   },
   {
    "duration": 11,
    "start_time": "2023-07-26T22:51:16.039Z"
   },
   {
    "duration": 20,
    "start_time": "2023-07-26T22:51:16.052Z"
   },
   {
    "duration": 11,
    "start_time": "2023-07-26T22:51:16.100Z"
   },
   {
    "duration": 15,
    "start_time": "2023-07-26T22:51:16.112Z"
   },
   {
    "duration": 8,
    "start_time": "2023-07-26T22:51:16.128Z"
   },
   {
    "duration": 13,
    "start_time": "2023-07-26T22:51:16.138Z"
   },
   {
    "duration": 20,
    "start_time": "2023-07-26T22:51:16.153Z"
   },
   {
    "duration": 1452,
    "start_time": "2023-07-26T22:51:16.202Z"
   },
   {
    "duration": 5,
    "start_time": "2023-07-26T22:51:17.655Z"
   },
   {
    "duration": 7,
    "start_time": "2023-07-26T22:51:17.661Z"
   },
   {
    "duration": 11,
    "start_time": "2023-07-26T22:51:17.670Z"
   },
   {
    "duration": 5,
    "start_time": "2023-07-26T22:51:17.683Z"
   },
   {
    "duration": 1388,
    "start_time": "2023-07-26T22:51:17.689Z"
   },
   {
    "duration": 6,
    "start_time": "2023-07-26T22:51:19.078Z"
   },
   {
    "duration": 666,
    "start_time": "2023-07-26T22:51:19.085Z"
   },
   {
    "duration": 7,
    "start_time": "2023-07-26T22:51:19.753Z"
   },
   {
    "duration": 6,
    "start_time": "2023-07-26T22:51:19.762Z"
   },
   {
    "duration": 2,
    "start_time": "2023-07-26T22:51:19.769Z"
   },
   {
    "duration": 9,
    "start_time": "2023-07-26T22:51:19.773Z"
   },
   {
    "duration": 3,
    "start_time": "2023-07-26T22:51:19.799Z"
   },
   {
    "duration": 42355,
    "start_time": "2023-07-26T22:51:19.803Z"
   },
   {
    "duration": 4,
    "start_time": "2023-07-26T22:52:02.160Z"
   },
   {
    "duration": 56,
    "start_time": "2023-07-26T22:52:02.165Z"
   },
   {
    "duration": 61,
    "start_time": "2023-07-26T22:52:02.222Z"
   },
   {
    "duration": 67,
    "start_time": "2023-07-26T22:52:02.284Z"
   },
   {
    "duration": 20502,
    "start_time": "2023-07-26T22:52:02.353Z"
   },
   {
    "duration": 4,
    "start_time": "2023-07-26T22:52:22.856Z"
   },
   {
    "duration": 18,
    "start_time": "2023-07-26T22:52:22.861Z"
   },
   {
    "duration": 19,
    "start_time": "2023-07-26T22:52:22.881Z"
   },
   {
    "duration": 9952,
    "start_time": "2023-07-26T22:52:22.901Z"
   },
   {
    "duration": 198,
    "start_time": "2023-07-26T22:52:32.855Z"
   },
   {
    "duration": 4,
    "start_time": "2023-07-26T22:52:33.054Z"
   },
   {
    "duration": 24,
    "start_time": "2023-07-26T22:52:33.059Z"
   },
   {
    "duration": 184,
    "start_time": "2023-07-26T22:52:33.084Z"
   },
   {
    "duration": 3532,
    "start_time": "2023-07-28T01:19:37.922Z"
   },
   {
    "duration": 1771,
    "start_time": "2023-07-28T01:19:41.456Z"
   },
   {
    "duration": 120,
    "start_time": "2023-07-28T01:19:43.229Z"
   },
   {
    "duration": 86,
    "start_time": "2023-07-28T01:19:43.351Z"
   },
   {
    "duration": 89,
    "start_time": "2023-07-28T01:19:43.438Z"
   },
   {
    "duration": 73,
    "start_time": "2023-07-28T01:19:43.529Z"
   },
   {
    "duration": 14,
    "start_time": "2023-07-28T01:19:43.604Z"
   },
   {
    "duration": 93,
    "start_time": "2023-07-28T01:19:43.620Z"
   },
   {
    "duration": 16,
    "start_time": "2023-07-28T01:19:43.715Z"
   },
   {
    "duration": 8,
    "start_time": "2023-07-28T01:19:43.733Z"
   },
   {
    "duration": 28,
    "start_time": "2023-07-28T01:19:43.743Z"
   },
   {
    "duration": 5,
    "start_time": "2023-07-28T01:19:43.773Z"
   },
   {
    "duration": 22,
    "start_time": "2023-07-28T01:19:43.780Z"
   },
   {
    "duration": 73,
    "start_time": "2023-07-28T01:19:43.804Z"
   },
   {
    "duration": 1203,
    "start_time": "2023-07-28T01:19:43.879Z"
   },
   {
    "duration": 22,
    "start_time": "2023-07-28T01:19:45.088Z"
   },
   {
    "duration": 160,
    "start_time": "2023-07-28T01:19:45.111Z"
   },
   {
    "duration": 135,
    "start_time": "2023-07-28T01:19:45.273Z"
   },
   {
    "duration": 133,
    "start_time": "2023-07-28T01:19:45.410Z"
   },
   {
    "duration": 9,
    "start_time": "2023-07-28T01:19:45.545Z"
   },
   {
    "duration": 76,
    "start_time": "2023-07-28T01:19:45.556Z"
   },
   {
    "duration": 550,
    "start_time": "2023-07-28T01:19:45.634Z"
   },
   {
    "duration": 15,
    "start_time": "2023-07-28T01:19:46.194Z"
   },
   {
    "duration": 74,
    "start_time": "2023-07-28T01:19:46.211Z"
   },
   {
    "duration": 940,
    "start_time": "2023-07-28T01:19:46.292Z"
   },
   {
    "duration": 31,
    "start_time": "2023-07-28T01:19:47.234Z"
   },
   {
    "duration": 27,
    "start_time": "2023-07-28T01:19:47.266Z"
   },
   {
    "duration": 118,
    "start_time": "2023-07-28T01:19:47.299Z"
   },
   {
    "duration": 4,
    "start_time": "2023-07-28T01:19:47.419Z"
   },
   {
    "duration": 53,
    "start_time": "2023-07-28T01:19:47.424Z"
   },
   {
    "duration": 33,
    "start_time": "2023-07-28T01:19:47.479Z"
   },
   {
    "duration": 37,
    "start_time": "2023-07-28T01:19:47.513Z"
   },
   {
    "duration": 26,
    "start_time": "2023-07-28T01:19:47.552Z"
   },
   {
    "duration": 21,
    "start_time": "2023-07-28T01:19:47.580Z"
   },
   {
    "duration": 35,
    "start_time": "2023-07-28T01:19:47.603Z"
   },
   {
    "duration": 14,
    "start_time": "2023-07-28T01:19:47.640Z"
   },
   {
    "duration": 22,
    "start_time": "2023-07-28T01:19:47.655Z"
   },
   {
    "duration": 22,
    "start_time": "2023-07-28T01:19:47.679Z"
   },
   {
    "duration": 57,
    "start_time": "2023-07-28T01:19:47.702Z"
   },
   {
    "duration": 40,
    "start_time": "2023-07-28T01:19:47.761Z"
   },
   {
    "duration": 1783,
    "start_time": "2023-07-28T01:19:47.803Z"
   },
   {
    "duration": 6,
    "start_time": "2023-07-28T01:19:49.598Z"
   },
   {
    "duration": 9,
    "start_time": "2023-07-28T01:19:49.606Z"
   },
   {
    "duration": 19,
    "start_time": "2023-07-28T01:19:49.616Z"
   },
   {
    "duration": 17,
    "start_time": "2023-07-28T01:19:49.637Z"
   },
   {
    "duration": 1857,
    "start_time": "2023-07-28T01:19:49.655Z"
   },
   {
    "duration": 7,
    "start_time": "2023-07-28T01:19:51.513Z"
   },
   {
    "duration": 716,
    "start_time": "2023-07-28T01:19:51.521Z"
   },
   {
    "duration": 9,
    "start_time": "2023-07-28T01:19:52.239Z"
   },
   {
    "duration": 58,
    "start_time": "2023-07-28T01:19:52.250Z"
   },
   {
    "duration": 38,
    "start_time": "2023-07-28T01:19:52.310Z"
   },
   {
    "duration": 37,
    "start_time": "2023-07-28T01:19:52.349Z"
   },
   {
    "duration": 23,
    "start_time": "2023-07-28T01:19:52.388Z"
   },
   {
    "duration": 4,
    "start_time": "2023-07-28T01:20:07.504Z"
   },
   {
    "duration": 51023,
    "start_time": "2023-07-28T01:20:14.224Z"
   },
   {
    "duration": 4,
    "start_time": "2023-07-28T01:21:12.982Z"
   },
   {
    "duration": 4,
    "start_time": "2023-07-28T01:21:15.514Z"
   },
   {
    "duration": 3,
    "start_time": "2023-07-28T01:21:19.937Z"
   },
   {
    "duration": 4,
    "start_time": "2023-07-28T01:21:21.440Z"
   },
   {
    "duration": 23843,
    "start_time": "2023-07-28T01:21:23.207Z"
   },
   {
    "duration": 4,
    "start_time": "2023-07-28T01:21:51.113Z"
   },
   {
    "duration": 2424,
    "start_time": "2023-07-28T01:22:19.369Z"
   },
   {
    "duration": 7,
    "start_time": "2023-07-28T01:22:21.795Z"
   },
   {
    "duration": 165,
    "start_time": "2023-07-28T01:22:21.804Z"
   },
   {
    "duration": 71,
    "start_time": "2023-07-28T01:22:21.972Z"
   },
   {
    "duration": 63,
    "start_time": "2023-07-28T01:22:22.045Z"
   },
   {
    "duration": 45,
    "start_time": "2023-07-28T01:22:22.110Z"
   },
   {
    "duration": 11,
    "start_time": "2023-07-28T01:22:22.157Z"
   },
   {
    "duration": 84,
    "start_time": "2023-07-28T01:22:22.170Z"
   },
   {
    "duration": 14,
    "start_time": "2023-07-28T01:22:22.256Z"
   },
   {
    "duration": 13,
    "start_time": "2023-07-28T01:22:22.289Z"
   },
   {
    "duration": 20,
    "start_time": "2023-07-28T01:22:22.304Z"
   },
   {
    "duration": 9,
    "start_time": "2023-07-28T01:22:22.326Z"
   },
   {
    "duration": 21,
    "start_time": "2023-07-28T01:22:22.336Z"
   },
   {
    "duration": 19,
    "start_time": "2023-07-28T01:22:22.359Z"
   },
   {
    "duration": 1126,
    "start_time": "2023-07-28T01:22:22.379Z"
   },
   {
    "duration": 168,
    "start_time": "2023-07-28T01:22:23.507Z"
   },
   {
    "duration": 182,
    "start_time": "2023-07-28T01:22:23.677Z"
   },
   {
    "duration": 141,
    "start_time": "2023-07-28T01:22:23.860Z"
   },
   {
    "duration": 132,
    "start_time": "2023-07-28T01:22:24.003Z"
   },
   {
    "duration": 10,
    "start_time": "2023-07-28T01:22:24.137Z"
   },
   {
    "duration": 72,
    "start_time": "2023-07-28T01:22:24.149Z"
   },
   {
    "duration": 527,
    "start_time": "2023-07-28T01:22:24.222Z"
   },
   {
    "duration": 14,
    "start_time": "2023-07-28T01:22:24.751Z"
   },
   {
    "duration": 108,
    "start_time": "2023-07-28T01:22:24.768Z"
   },
   {
    "duration": 879,
    "start_time": "2023-07-28T01:22:24.878Z"
   },
   {
    "duration": 44,
    "start_time": "2023-07-28T01:22:25.759Z"
   },
   {
    "duration": 4,
    "start_time": "2023-07-28T01:22:25.805Z"
   },
   {
    "duration": 127,
    "start_time": "2023-07-28T01:22:25.812Z"
   },
   {
    "duration": 4,
    "start_time": "2023-07-28T01:22:25.940Z"
   },
   {
    "duration": 22,
    "start_time": "2023-07-28T01:22:25.945Z"
   },
   {
    "duration": 18,
    "start_time": "2023-07-28T01:22:25.968Z"
   },
   {
    "duration": 20,
    "start_time": "2023-07-28T01:22:25.987Z"
   },
   {
    "duration": 31,
    "start_time": "2023-07-28T01:22:26.009Z"
   },
   {
    "duration": 22,
    "start_time": "2023-07-28T01:22:26.043Z"
   },
   {
    "duration": 17,
    "start_time": "2023-07-28T01:22:26.067Z"
   },
   {
    "duration": 17,
    "start_time": "2023-07-28T01:22:26.086Z"
   },
   {
    "duration": 17,
    "start_time": "2023-07-28T01:22:26.105Z"
   },
   {
    "duration": 10,
    "start_time": "2023-07-28T01:22:26.124Z"
   },
   {
    "duration": 17,
    "start_time": "2023-07-28T01:22:26.135Z"
   },
   {
    "duration": 51,
    "start_time": "2023-07-28T01:22:26.154Z"
   },
   {
    "duration": 1979,
    "start_time": "2023-07-28T01:22:26.207Z"
   },
   {
    "duration": 6,
    "start_time": "2023-07-28T01:22:28.187Z"
   },
   {
    "duration": 13,
    "start_time": "2023-07-28T01:22:28.195Z"
   },
   {
    "duration": 7,
    "start_time": "2023-07-28T01:22:28.210Z"
   },
   {
    "duration": 6,
    "start_time": "2023-07-28T01:22:28.219Z"
   },
   {
    "duration": 1803,
    "start_time": "2023-07-28T01:22:28.226Z"
   },
   {
    "duration": 7,
    "start_time": "2023-07-28T01:22:30.031Z"
   },
   {
    "duration": 700,
    "start_time": "2023-07-28T01:22:30.039Z"
   },
   {
    "duration": 8,
    "start_time": "2023-07-28T01:22:30.741Z"
   },
   {
    "duration": 96,
    "start_time": "2023-07-28T01:22:30.751Z"
   },
   {
    "duration": 113,
    "start_time": "2023-07-28T01:22:30.849Z"
   },
   {
    "duration": 46,
    "start_time": "2023-07-28T01:22:30.964Z"
   },
   {
    "duration": 37,
    "start_time": "2023-07-28T01:22:31.012Z"
   },
   {
    "duration": 49805,
    "start_time": "2023-07-28T01:22:31.051Z"
   },
   {
    "duration": 3,
    "start_time": "2023-07-28T01:23:20.858Z"
   },
   {
    "duration": 5,
    "start_time": "2023-07-28T01:23:20.863Z"
   },
   {
    "duration": 5,
    "start_time": "2023-07-28T01:23:20.870Z"
   },
   {
    "duration": 3,
    "start_time": "2023-07-28T01:23:20.877Z"
   },
   {
    "duration": 23445,
    "start_time": "2023-07-28T01:23:20.882Z"
   },
   {
    "duration": 4,
    "start_time": "2023-07-28T01:23:44.328Z"
   },
   {
    "duration": 14,
    "start_time": "2023-07-28T01:23:44.334Z"
   },
   {
    "duration": 57,
    "start_time": "2023-07-28T01:23:44.350Z"
   },
   {
    "duration": 7379,
    "start_time": "2023-07-28T01:23:44.408Z"
   },
   {
    "duration": 256,
    "start_time": "2023-07-28T01:23:51.792Z"
   },
   {
    "duration": 5,
    "start_time": "2023-07-28T01:23:52.050Z"
   },
   {
    "duration": 42,
    "start_time": "2023-07-28T01:23:52.056Z"
   },
   {
    "duration": 240,
    "start_time": "2023-07-28T01:23:52.101Z"
   },
   {
    "duration": 2405,
    "start_time": "2023-07-28T01:31:04.985Z"
   },
   {
    "duration": 1729,
    "start_time": "2023-07-28T01:31:07.392Z"
   },
   {
    "duration": 64,
    "start_time": "2023-07-28T01:31:09.123Z"
   },
   {
    "duration": 47,
    "start_time": "2023-07-28T01:31:09.189Z"
   },
   {
    "duration": 71,
    "start_time": "2023-07-28T01:31:09.238Z"
   },
   {
    "duration": 46,
    "start_time": "2023-07-28T01:31:09.311Z"
   },
   {
    "duration": 14,
    "start_time": "2023-07-28T01:31:09.359Z"
   },
   {
    "duration": 85,
    "start_time": "2023-07-28T01:31:09.375Z"
   },
   {
    "duration": 16,
    "start_time": "2023-07-28T01:31:09.462Z"
   },
   {
    "duration": 5,
    "start_time": "2023-07-28T01:31:09.486Z"
   },
   {
    "duration": 17,
    "start_time": "2023-07-28T01:31:09.492Z"
   },
   {
    "duration": 6,
    "start_time": "2023-07-28T01:31:09.511Z"
   },
   {
    "duration": 14,
    "start_time": "2023-07-28T01:31:09.519Z"
   },
   {
    "duration": 19,
    "start_time": "2023-07-28T01:31:09.535Z"
   },
   {
    "duration": 1135,
    "start_time": "2023-07-28T01:31:09.556Z"
   },
   {
    "duration": 17,
    "start_time": "2023-07-28T01:31:10.693Z"
   },
   {
    "duration": 132,
    "start_time": "2023-07-28T01:31:10.712Z"
   },
   {
    "duration": 127,
    "start_time": "2023-07-28T01:31:10.846Z"
   },
   {
    "duration": 133,
    "start_time": "2023-07-28T01:31:10.975Z"
   },
   {
    "duration": 9,
    "start_time": "2023-07-28T01:31:11.110Z"
   },
   {
    "duration": 67,
    "start_time": "2023-07-28T01:31:11.120Z"
   },
   {
    "duration": 480,
    "start_time": "2023-07-28T01:31:11.189Z"
   },
   {
    "duration": 17,
    "start_time": "2023-07-28T01:31:11.671Z"
   },
   {
    "duration": 84,
    "start_time": "2023-07-28T01:31:11.690Z"
   },
   {
    "duration": 891,
    "start_time": "2023-07-28T01:31:11.776Z"
   },
   {
    "duration": 36,
    "start_time": "2023-07-28T01:31:12.669Z"
   },
   {
    "duration": 12,
    "start_time": "2023-07-28T01:31:12.708Z"
   },
   {
    "duration": 124,
    "start_time": "2023-07-28T01:31:12.724Z"
   },
   {
    "duration": 4,
    "start_time": "2023-07-28T01:31:12.850Z"
   },
   {
    "duration": 30,
    "start_time": "2023-07-28T01:31:12.856Z"
   },
   {
    "duration": 27,
    "start_time": "2023-07-28T01:31:12.888Z"
   },
   {
    "duration": 28,
    "start_time": "2023-07-28T01:31:12.917Z"
   },
   {
    "duration": 32,
    "start_time": "2023-07-28T01:31:12.947Z"
   },
   {
    "duration": 23,
    "start_time": "2023-07-28T01:31:12.981Z"
   },
   {
    "duration": 29,
    "start_time": "2023-07-28T01:31:13.006Z"
   },
   {
    "duration": 12,
    "start_time": "2023-07-28T01:31:13.037Z"
   },
   {
    "duration": 30,
    "start_time": "2023-07-28T01:31:13.050Z"
   },
   {
    "duration": 11,
    "start_time": "2023-07-28T01:31:13.081Z"
   },
   {
    "duration": 26,
    "start_time": "2023-07-28T01:31:13.094Z"
   },
   {
    "duration": 22,
    "start_time": "2023-07-28T01:31:13.122Z"
   },
   {
    "duration": 1722,
    "start_time": "2023-07-28T01:31:13.145Z"
   },
   {
    "duration": 8,
    "start_time": "2023-07-28T01:31:14.869Z"
   },
   {
    "duration": 13,
    "start_time": "2023-07-28T01:31:14.879Z"
   },
   {
    "duration": 8,
    "start_time": "2023-07-28T01:31:14.895Z"
   },
   {
    "duration": 13,
    "start_time": "2023-07-28T01:31:14.905Z"
   },
   {
    "duration": 1617,
    "start_time": "2023-07-28T01:31:14.920Z"
   },
   {
    "duration": 7,
    "start_time": "2023-07-28T01:31:16.538Z"
   },
   {
    "duration": 793,
    "start_time": "2023-07-28T01:31:16.546Z"
   },
   {
    "duration": 9,
    "start_time": "2023-07-28T01:31:17.340Z"
   },
   {
    "duration": 21,
    "start_time": "2023-07-28T01:31:17.350Z"
   },
   {
    "duration": 4,
    "start_time": "2023-07-28T01:31:17.372Z"
   },
   {
    "duration": 15,
    "start_time": "2023-07-28T01:31:17.378Z"
   },
   {
    "duration": 4,
    "start_time": "2023-07-28T01:31:17.395Z"
   },
   {
    "duration": 48117,
    "start_time": "2023-07-28T01:31:17.401Z"
   },
   {
    "duration": 4,
    "start_time": "2023-07-28T01:32:05.520Z"
   },
   {
    "duration": 11,
    "start_time": "2023-07-28T01:32:05.525Z"
   },
   {
    "duration": 8,
    "start_time": "2023-07-28T01:32:05.537Z"
   },
   {
    "duration": 5,
    "start_time": "2023-07-28T01:32:05.547Z"
   },
   {
    "duration": 22465,
    "start_time": "2023-07-28T01:32:05.553Z"
   },
   {
    "duration": 4,
    "start_time": "2023-07-28T01:32:28.019Z"
   },
   {
    "duration": 30,
    "start_time": "2023-07-28T01:32:28.025Z"
   },
   {
    "duration": 38,
    "start_time": "2023-07-28T01:32:28.057Z"
   },
   {
    "duration": 8279,
    "start_time": "2023-07-28T01:32:28.096Z"
   },
   {
    "duration": 239,
    "start_time": "2023-07-28T01:32:36.377Z"
   },
   {
    "duration": 5,
    "start_time": "2023-07-28T01:32:36.618Z"
   },
   {
    "duration": 31,
    "start_time": "2023-07-28T01:32:36.625Z"
   },
   {
    "duration": 241,
    "start_time": "2023-07-28T01:32:36.658Z"
   },
   {
    "duration": 204,
    "start_time": "2023-07-28T01:44:03.899Z"
   },
   {
    "duration": 269,
    "start_time": "2023-07-28T01:44:30.488Z"
   },
   {
    "duration": 11,
    "start_time": "2023-07-28T01:45:20.699Z"
   },
   {
    "duration": 151,
    "start_time": "2023-07-28T01:45:50.618Z"
   },
   {
    "duration": 211,
    "start_time": "2023-07-28T01:46:01.905Z"
   },
   {
    "duration": 18,
    "start_time": "2023-07-28T01:46:21.846Z"
   },
   {
    "duration": 2332,
    "start_time": "2023-07-28T01:52:31.068Z"
   },
   {
    "duration": 4,
    "start_time": "2023-07-28T01:52:33.403Z"
   },
   {
    "duration": 82,
    "start_time": "2023-07-28T01:52:33.409Z"
   },
   {
    "duration": 49,
    "start_time": "2023-07-28T01:52:33.493Z"
   },
   {
    "duration": 52,
    "start_time": "2023-07-28T01:52:33.544Z"
   },
   {
    "duration": 36,
    "start_time": "2023-07-28T01:52:33.597Z"
   },
   {
    "duration": 12,
    "start_time": "2023-07-28T01:52:33.634Z"
   },
   {
    "duration": 102,
    "start_time": "2023-07-28T01:52:33.647Z"
   },
   {
    "duration": 15,
    "start_time": "2023-07-28T01:52:33.751Z"
   },
   {
    "duration": 20,
    "start_time": "2023-07-28T01:52:33.769Z"
   },
   {
    "duration": 17,
    "start_time": "2023-07-28T01:52:33.790Z"
   },
   {
    "duration": 9,
    "start_time": "2023-07-28T01:52:33.808Z"
   },
   {
    "duration": 13,
    "start_time": "2023-07-28T01:52:33.818Z"
   },
   {
    "duration": 12,
    "start_time": "2023-07-28T01:52:33.833Z"
   },
   {
    "duration": 1259,
    "start_time": "2023-07-28T01:52:33.847Z"
   },
   {
    "duration": 18,
    "start_time": "2023-07-28T01:52:35.109Z"
   },
   {
    "duration": 145,
    "start_time": "2023-07-28T01:52:35.128Z"
   },
   {
    "duration": 146,
    "start_time": "2023-07-28T01:52:35.275Z"
   },
   {
    "duration": 133,
    "start_time": "2023-07-28T01:52:35.423Z"
   },
   {
    "duration": 9,
    "start_time": "2023-07-28T01:52:35.559Z"
   },
   {
    "duration": 58,
    "start_time": "2023-07-28T01:52:35.570Z"
   },
   {
    "duration": 493,
    "start_time": "2023-07-28T01:52:35.631Z"
   },
   {
    "duration": 11,
    "start_time": "2023-07-28T01:52:36.126Z"
   },
   {
    "duration": 75,
    "start_time": "2023-07-28T01:52:36.139Z"
   },
   {
    "duration": 819,
    "start_time": "2023-07-28T01:52:36.216Z"
   },
   {
    "duration": 31,
    "start_time": "2023-07-28T01:52:37.037Z"
   },
   {
    "duration": 19,
    "start_time": "2023-07-28T01:52:37.070Z"
   },
   {
    "duration": 121,
    "start_time": "2023-07-28T01:52:37.094Z"
   },
   {
    "duration": 4,
    "start_time": "2023-07-28T01:52:37.217Z"
   },
   {
    "duration": 14,
    "start_time": "2023-07-28T01:52:37.223Z"
   },
   {
    "duration": 15,
    "start_time": "2023-07-28T01:52:37.239Z"
   },
   {
    "duration": 37,
    "start_time": "2023-07-28T01:52:37.256Z"
   },
   {
    "duration": 16,
    "start_time": "2023-07-28T01:52:37.295Z"
   },
   {
    "duration": 12,
    "start_time": "2023-07-28T01:52:37.313Z"
   },
   {
    "duration": 17,
    "start_time": "2023-07-28T01:52:37.326Z"
   },
   {
    "duration": 47,
    "start_time": "2023-07-28T01:52:37.345Z"
   },
   {
    "duration": 18,
    "start_time": "2023-07-28T01:52:37.394Z"
   },
   {
    "duration": 12,
    "start_time": "2023-07-28T01:52:37.414Z"
   },
   {
    "duration": 18,
    "start_time": "2023-07-28T01:52:37.427Z"
   },
   {
    "duration": 54,
    "start_time": "2023-07-28T01:52:37.447Z"
   },
   {
    "duration": 1887,
    "start_time": "2023-07-28T01:52:37.503Z"
   },
   {
    "duration": 7,
    "start_time": "2023-07-28T01:52:39.392Z"
   },
   {
    "duration": 20,
    "start_time": "2023-07-28T01:52:39.400Z"
   },
   {
    "duration": 15,
    "start_time": "2023-07-28T01:52:39.422Z"
   },
   {
    "duration": 22,
    "start_time": "2023-07-28T01:52:39.439Z"
   },
   {
    "duration": 1617,
    "start_time": "2023-07-28T01:52:39.463Z"
   },
   {
    "duration": 7,
    "start_time": "2023-07-28T01:52:41.087Z"
   },
   {
    "duration": 631,
    "start_time": "2023-07-28T01:52:41.096Z"
   },
   {
    "duration": 10,
    "start_time": "2023-07-28T01:52:41.729Z"
   },
   {
    "duration": 12,
    "start_time": "2023-07-28T01:52:41.741Z"
   },
   {
    "duration": 7,
    "start_time": "2023-07-28T01:52:41.755Z"
   },
   {
    "duration": 14,
    "start_time": "2023-07-28T01:52:41.763Z"
   },
   {
    "duration": 11,
    "start_time": "2023-07-28T01:52:41.787Z"
   },
   {
    "duration": 47770,
    "start_time": "2023-07-28T01:52:41.800Z"
   },
   {
    "duration": 4,
    "start_time": "2023-07-28T01:53:29.571Z"
   },
   {
    "duration": 8,
    "start_time": "2023-07-28T01:53:29.576Z"
   },
   {
    "duration": 5,
    "start_time": "2023-07-28T01:53:29.585Z"
   },
   {
    "duration": 8,
    "start_time": "2023-07-28T01:53:29.592Z"
   },
   {
    "duration": 21863,
    "start_time": "2023-07-28T01:53:29.602Z"
   },
   {
    "duration": 4,
    "start_time": "2023-07-28T01:53:51.466Z"
   },
   {
    "duration": 25,
    "start_time": "2023-07-28T01:53:51.472Z"
   },
   {
    "duration": 51,
    "start_time": "2023-07-28T01:53:51.499Z"
   },
   {
    "duration": 7377,
    "start_time": "2023-07-28T01:53:51.552Z"
   },
   {
    "duration": 248,
    "start_time": "2023-07-28T01:53:58.931Z"
   },
   {
    "duration": 7,
    "start_time": "2023-07-28T01:53:59.180Z"
   },
   {
    "duration": 9,
    "start_time": "2023-07-28T01:53:59.189Z"
   },
   {
    "duration": 224,
    "start_time": "2023-07-28T01:53:59.199Z"
   },
   {
    "duration": 243,
    "start_time": "2023-07-28T01:53:59.425Z"
   },
   {
    "duration": 18,
    "start_time": "2023-07-28T01:53:59.670Z"
   },
   {
    "duration": 231,
    "start_time": "2023-07-28T01:53:59.690Z"
   },
   {
    "duration": 19,
    "start_time": "2023-07-28T01:53:59.923Z"
   },
   {
    "duration": 396,
    "start_time": "2023-07-28T01:59:12.535Z"
   },
   {
    "duration": 385,
    "start_time": "2023-07-28T01:59:46.391Z"
   },
   {
    "duration": 374,
    "start_time": "2023-07-28T02:00:29.204Z"
   },
   {
    "duration": 366,
    "start_time": "2023-07-28T02:00:47.811Z"
   },
   {
    "duration": 418,
    "start_time": "2023-07-28T02:03:42.119Z"
   },
   {
    "duration": 2263,
    "start_time": "2023-07-28T02:04:20.566Z"
   },
   {
    "duration": 1501,
    "start_time": "2023-07-28T02:04:22.832Z"
   },
   {
    "duration": 71,
    "start_time": "2023-07-28T02:04:24.334Z"
   },
   {
    "duration": 44,
    "start_time": "2023-07-28T02:04:24.407Z"
   },
   {
    "duration": 46,
    "start_time": "2023-07-28T02:04:24.453Z"
   },
   {
    "duration": 38,
    "start_time": "2023-07-28T02:04:24.500Z"
   },
   {
    "duration": 17,
    "start_time": "2023-07-28T02:04:24.540Z"
   },
   {
    "duration": 88,
    "start_time": "2023-07-28T02:04:24.559Z"
   },
   {
    "duration": 18,
    "start_time": "2023-07-28T02:04:24.649Z"
   },
   {
    "duration": 6,
    "start_time": "2023-07-28T02:04:24.686Z"
   },
   {
    "duration": 20,
    "start_time": "2023-07-28T02:04:24.694Z"
   },
   {
    "duration": 6,
    "start_time": "2023-07-28T02:04:24.716Z"
   },
   {
    "duration": 23,
    "start_time": "2023-07-28T02:04:24.724Z"
   },
   {
    "duration": 39,
    "start_time": "2023-07-28T02:04:24.750Z"
   },
   {
    "duration": 1125,
    "start_time": "2023-07-28T02:04:24.791Z"
   },
   {
    "duration": 17,
    "start_time": "2023-07-28T02:04:25.919Z"
   },
   {
    "duration": 137,
    "start_time": "2023-07-28T02:04:25.937Z"
   },
   {
    "duration": 121,
    "start_time": "2023-07-28T02:04:26.075Z"
   },
   {
    "duration": 131,
    "start_time": "2023-07-28T02:04:26.198Z"
   },
   {
    "duration": 8,
    "start_time": "2023-07-28T02:04:26.331Z"
   },
   {
    "duration": 59,
    "start_time": "2023-07-28T02:04:26.341Z"
   },
   {
    "duration": 458,
    "start_time": "2023-07-28T02:04:26.402Z"
   },
   {
    "duration": 11,
    "start_time": "2023-07-28T02:04:26.861Z"
   },
   {
    "duration": 71,
    "start_time": "2023-07-28T02:04:26.873Z"
   },
   {
    "duration": 873,
    "start_time": "2023-07-28T02:04:26.947Z"
   },
   {
    "duration": 29,
    "start_time": "2023-07-28T02:04:27.822Z"
   },
   {
    "duration": 8,
    "start_time": "2023-07-28T02:04:27.853Z"
   },
   {
    "duration": 124,
    "start_time": "2023-07-28T02:04:27.865Z"
   },
   {
    "duration": 4,
    "start_time": "2023-07-28T02:04:27.990Z"
   },
   {
    "duration": 15,
    "start_time": "2023-07-28T02:04:27.995Z"
   },
   {
    "duration": 15,
    "start_time": "2023-07-28T02:04:28.011Z"
   },
   {
    "duration": 11,
    "start_time": "2023-07-28T02:04:28.027Z"
   },
   {
    "duration": 18,
    "start_time": "2023-07-28T02:04:28.039Z"
   },
   {
    "duration": 38,
    "start_time": "2023-07-28T02:04:28.058Z"
   },
   {
    "duration": 16,
    "start_time": "2023-07-28T02:04:28.098Z"
   },
   {
    "duration": 11,
    "start_time": "2023-07-28T02:04:28.116Z"
   },
   {
    "duration": 16,
    "start_time": "2023-07-28T02:04:28.128Z"
   },
   {
    "duration": 10,
    "start_time": "2023-07-28T02:04:28.145Z"
   },
   {
    "duration": 47,
    "start_time": "2023-07-28T02:04:28.156Z"
   },
   {
    "duration": 21,
    "start_time": "2023-07-28T02:04:28.205Z"
   },
   {
    "duration": 1706,
    "start_time": "2023-07-28T02:04:28.228Z"
   },
   {
    "duration": 6,
    "start_time": "2023-07-28T02:04:29.936Z"
   },
   {
    "duration": 11,
    "start_time": "2023-07-28T02:04:29.943Z"
   },
   {
    "duration": 10,
    "start_time": "2023-07-28T02:04:29.956Z"
   },
   {
    "duration": 15,
    "start_time": "2023-07-28T02:04:29.967Z"
   },
   {
    "duration": 1627,
    "start_time": "2023-07-28T02:04:29.983Z"
   },
   {
    "duration": 6,
    "start_time": "2023-07-28T02:04:31.611Z"
   },
   {
    "duration": 781,
    "start_time": "2023-07-28T02:04:31.619Z"
   },
   {
    "duration": 9,
    "start_time": "2023-07-28T02:04:32.402Z"
   },
   {
    "duration": 10,
    "start_time": "2023-07-28T02:04:32.413Z"
   },
   {
    "duration": 5,
    "start_time": "2023-07-28T02:04:32.425Z"
   },
   {
    "duration": 12,
    "start_time": "2023-07-28T02:04:32.432Z"
   },
   {
    "duration": 6,
    "start_time": "2023-07-28T02:04:32.446Z"
   },
   {
    "duration": 48259,
    "start_time": "2023-07-28T02:04:32.454Z"
   },
   {
    "duration": 4,
    "start_time": "2023-07-28T02:05:20.715Z"
   },
   {
    "duration": 11,
    "start_time": "2023-07-28T02:05:20.720Z"
   },
   {
    "duration": 4,
    "start_time": "2023-07-28T02:05:20.732Z"
   },
   {
    "duration": 6,
    "start_time": "2023-07-28T02:05:20.737Z"
   },
   {
    "duration": 21422,
    "start_time": "2023-07-28T02:05:20.744Z"
   },
   {
    "duration": 4,
    "start_time": "2023-07-28T02:05:42.167Z"
   },
   {
    "duration": 28,
    "start_time": "2023-07-28T02:05:42.173Z"
   },
   {
    "duration": 38,
    "start_time": "2023-07-28T02:05:42.203Z"
   },
   {
    "duration": 10245,
    "start_time": "2023-07-28T02:05:42.243Z"
   },
   {
    "duration": 230,
    "start_time": "2023-07-28T02:05:52.489Z"
   },
   {
    "duration": 4,
    "start_time": "2023-07-28T02:05:52.721Z"
   },
   {
    "duration": 25,
    "start_time": "2023-07-28T02:05:52.726Z"
   },
   {
    "duration": 203,
    "start_time": "2023-07-28T02:05:52.754Z"
   },
   {
    "duration": 232,
    "start_time": "2023-07-28T02:05:52.959Z"
   },
   {
    "duration": 10,
    "start_time": "2023-07-28T02:05:53.193Z"
   },
   {
    "duration": 275,
    "start_time": "2023-07-28T02:05:53.205Z"
   },
   {
    "duration": 355,
    "start_time": "2023-07-28T02:05:53.487Z"
   }
  ],
  "kernelspec": {
   "display_name": "Python 3 (ipykernel)",
   "language": "python",
   "name": "python3"
  },
  "language_info": {
   "codemirror_mode": {
    "name": "ipython",
    "version": 3
   },
   "file_extension": ".py",
   "mimetype": "text/x-python",
   "name": "python",
   "nbconvert_exporter": "python",
   "pygments_lexer": "ipython3",
   "version": "3.12.3"
  },
  "toc": {
   "base_numbering": 1,
   "nav_menu": {},
   "number_sections": true,
   "sideBar": true,
   "skip_h1_title": true,
   "title_cell": "Table of Contents",
   "title_sidebar": "Contents",
   "toc_cell": false,
   "toc_position": {},
   "toc_section_display": true,
   "toc_window_display": false
  }
 },
 "nbformat": 4,
 "nbformat_minor": 5
}
